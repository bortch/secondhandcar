{
 "cells": [
  {
   "cell_type": "code",
   "execution_count": 1,
   "id": "6b0619af",
   "metadata": {},
   "outputs": [],
   "source": [
    "# autoreload reloads modules automatically before entering the execution of code typed at the IPython prompt.\n",
    "%reload_ext autoreload\n",
    "%autoreload 2\n",
    "%aimport bs_eda"
   ]
  },
  {
   "cell_type": "code",
   "execution_count": 2,
   "id": "2bb80921",
   "metadata": {},
   "outputs": [],
   "source": [
    "from os.path import join\n",
    "import pandas as pd\n",
    "import numpy as np\n",
    "import seaborn as sns\n",
    "import bs_eda as beda\n",
    "from scipy.stats import zscore\n",
    "from sklearn.preprocessing import LabelEncoder"
   ]
  },
  {
   "cell_type": "markdown",
   "id": "9d3c66cf",
   "metadata": {},
   "source": [
    "## Liste des modifications"
   ]
  },
  {
   "cell_type": "markdown",
   "id": "e8a55576",
   "metadata": {},
   "source": [
    "1. Pour les variables `mileage` et `price`, convertir les int64 en float64\n",
    "1. Supprimer les entrées redondantes\n",
    "1. `price`:\n",
    "    * Vérifier les valeurs anormales *Z-score*\n",
    "    * Log pour normaliser la distribution\n",
    "1. `year`:\n",
    "    * Supprimer les années excentriques\n",
    "    * vérifier les voitures avant 2000\n",
    "1. `mileage`:\n",
    "    * Traiter la précense d'anomalies dans les valeurs hautes\n",
    "    * idem valeurs basses\n",
    "1. `mpg`:\n",
    "    * Vérifier la validité des valeurs extrêmes, trop basses et trop hautes.\n",
    "    * Créer une échelle discrète de rendement: bas, moyen, haut\n",
    "1. `engine_size`\n",
    "    * Corriger ou supprimer les valeurs 0\n",
    "    * traiter les valeurs de 6\n",
    "    * Créer une échelle discrète de taille de moteur: small, large\n",
    "    * Utiliser un OrdinalEncoder?\n",
    "1. `tax`\n",
    "    * Les données apparaissent difficilement fiables, la feature pourrait être supprimée.\n",
    "1. Variable discrète\n",
    "    * Encoder les features. LabelEncoder et/ou OneHotEncoder?\n",
    "1. `transmission`\n",
    "    * Supprimer les entrées pour lesquelles le mode de transmission est `Other`\n",
    "1. `fuel_type`\n",
    "    * Fusionner ou supprimer les catégories de `fuel_type` qui ne sont pas représentatives\n",
    "1. `model`\n",
    "    * LabelEncoder"
   ]
  },
  {
   "cell_type": "code",
   "execution_count": 3,
   "id": "d8aaf75c",
   "metadata": {},
   "outputs": [],
   "source": [
    "df = pd.read_csv('dataset/train_set.csv', index_col=0)"
   ]
  },
  {
   "cell_type": "code",
   "execution_count": 4,
   "id": "7ce3eaa9",
   "metadata": {},
   "outputs": [],
   "source": [
    "# Supprimer les entrées redondantes\n",
    "df.drop_duplicates(inplace = True)"
   ]
  },
  {
   "cell_type": "code",
   "execution_count": 5,
   "id": "a37f44a8",
   "metadata": {},
   "outputs": [],
   "source": [
    "# Pour les variables `mileage` et `price`, convertir les int64 en float64\n",
    "df['price'] = df['price'].astype(float)\n",
    "df['mileage'] = df['mileage'].astype(float)"
   ]
  },
  {
   "cell_type": "code",
   "execution_count": 6,
   "id": "02ec0728",
   "metadata": {},
   "outputs": [],
   "source": [
    "# Vérifier les valeurs anormales *Z-score*\n",
    "# Log pour normaliser la distribution\n",
    "columns = beda.get_numerical_columns(df)\n",
    "thresh = 3\n",
    "# mask of all rows whose value > thresh\n",
    "outliers = df[columns].apply(lambda x: np.abs(zscore(x, nan_policy = 'omit')) > thresh).any(axis=1)\n",
    "# Drop (inplace) rows that match\n",
    "df.drop(df[columns].index[outliers], inplace = True)"
   ]
  },
  {
   "cell_type": "code",
   "execution_count": 7,
   "id": "16faf4e2",
   "metadata": {},
   "outputs": [
    {
     "name": "stdout",
     "output_type": "stream",
     "text": [
      "[2010 2011 2012 2013 2014 2015 2016 2017 2018 2019 2020 2021]\n"
     ]
    }
   ],
   "source": [
    "# Year as category\n",
    "bins=np.arange(df['year'].min()-1,df['year'].max()+2)\n",
    "print(bins)\n",
    "#df['year_category']=pd.cut(df['year'],bins=bins)"
   ]
  },
  {
   "cell_type": "code",
   "execution_count": 204,
   "id": "e94c890d",
   "metadata": {},
   "outputs": [
    {
     "data": {
      "text/plain": [
       "<AxesSubplot:xlabel='fuel_economy', ylabel='count'>"
      ]
     },
     "execution_count": 204,
     "metadata": {},
     "output_type": "execute_result"
    },
    {
     "data": {
      "image/png": "[encoded data removed]",
      "text/plain": [
       "<Figure size 432x288 with 1 Axes>"
      ]
     },
     "metadata": {},
     "output_type": "display_data"
    }
   ],
   "source": [
    "# Créer une échelle discrète de rendement: bas, moyen, haut\n",
    "def fuel_economy(mpg):\n",
    "    average = (36,47)\n",
    "    if mpg<=average[0]: \n",
    "        result = \"Low\"\n",
    "    if (mpg>average[0] and mpg<average[1]): \n",
    "        result = \"Medium\"\n",
    "    if mpg>=average[1]: \n",
    "        result = \"High\"\n",
    "    return result\n",
    "\n",
    "df[\"fuel_economy\"]=df.apply(lambda x: fuel_economy(x[\"mpg\"]),axis=1)\n",
    "\n",
    "sns.countplot(data=df,x=\"fuel_economy\")"
   ]
  },
  {
   "cell_type": "code",
   "execution_count": 205,
   "id": "5c2abe86",
   "metadata": {
    "scrolled": false
   },
   "outputs": [],
   "source": [
    "# Complete engine_size == 0\n",
    "def replace_by_similar(row, from_data, where_feature, has_cdt_value, using_features):\n",
    "    x = row.copy()\n",
    "    if row[where_feature]==has_cdt_value:\n",
    "        result = beda.get_similar_row(to_this_row=row, in_data=from_data, based_on_cols=cols, show=False)\n",
    "        if not result.isnull().values.any():\n",
    "            x[where_feature] = round(result[where_feature].quantile(q=0.75),2)\n",
    "    return x\n",
    "\n",
    "feature='engine_size'\n",
    "search_in_df = df[df[feature]>0]\n",
    "cols = ['model','transmission', 'fuel_type', 'brand']\n",
    "df = df.apply(lambda x: replace_by_similar(row=x, from_data=search_in_df, where_feature=feature, \n",
    "                                           has_cdt_value=0, using_features=cols), axis=1)"
   ]
  },
  {
   "cell_type": "code",
   "execution_count": 206,
   "id": "697d7d84",
   "metadata": {},
   "outputs": [
    {
     "name": "stdout",
     "output_type": "stream",
     "text": [
      "<class 'pandas.core.frame.DataFrame'>\n",
      "Int64Index: 55949 entries, 3053 to 13349\n",
      "Data columns (total 12 columns):\n",
      " #   Column         Non-Null Count  Dtype                 \n",
      "---  ------         --------------  -----                 \n",
      " 0   model          55949 non-null  object                \n",
      " 1   year           55949 non-null  int64                 \n",
      " 2   price          55949 non-null  float64               \n",
      " 3   transmission   55949 non-null  object                \n",
      " 4   mileage        55949 non-null  float64               \n",
      " 5   fuel_type      55949 non-null  object                \n",
      " 6   tax            55949 non-null  int64                 \n",
      " 7   mpg            55949 non-null  float64               \n",
      " 8   engine_size    55949 non-null  float64               \n",
      " 9   brand          55949 non-null  object                \n",
      " 10  year_category  55949 non-null  interval[int64, right]\n",
      " 11  fuel_economy   55949 non-null  object                \n",
      "dtypes: float64(4), int64(2), interval(1), object(5)\n",
      "memory usage: 8.0+ MB\n"
     ]
    }
   ],
   "source": [
    "df.info()"
   ]
  },
  {
   "cell_type": "code",
   "execution_count": 207,
   "id": "72196c06",
   "metadata": {},
   "outputs": [
    {
     "data": {
      "text/plain": [
       "<AxesSubplot:xlabel='engine_class', ylabel='count'>"
      ]
     },
     "execution_count": 207,
     "metadata": {},
     "output_type": "execute_result"
    },
    {
     "data": {
      "image/png": "[encoded data removed]",
      "text/plain": [
       "<Figure size 432x288 with 1 Axes>"
      ]
     },
     "metadata": {},
     "output_type": "display_data"
    }
   ],
   "source": [
    "# Créer une échelle discrète de taille de moteur: small, high\n",
    "def get_engine_class(engine_size):\n",
    "    if engine_size<2.:\n",
    "        result = 'small'\n",
    "    else:\n",
    "        result = 'large'\n",
    "    return result\n",
    "\n",
    "df[\"engine_class\"]=df.apply(lambda x: get_engine_class(x[\"engine_size\"]),axis=1)\n",
    "sns.countplot(data=df,x=\"engine_class\")"
   ]
  },
  {
   "cell_type": "code",
   "execution_count": 208,
   "id": "185d9b84",
   "metadata": {
    "scrolled": true
   },
   "outputs": [],
   "source": [
    "# Complete tax == 0\n",
    "feature='tax'\n",
    "search_in_df = df[df[feature]>0]\n",
    "cols = ['mpg','engine_size']\n",
    "df = df.apply(lambda x: replace_by_similar(row=x, from_data=search_in_df, where_feature=feature, \n",
    "                                           has_cdt_value=0, using_features=cols), axis=1)"
   ]
  },
  {
   "cell_type": "code",
   "execution_count": 209,
   "id": "79fe9a04",
   "metadata": {},
   "outputs": [
    {
     "data": {
      "image/png": "[encoded data removed]",
      "text/plain": [
       "<Figure size 432x288 with 1 Axes>"
      ]
     },
     "metadata": {},
     "output_type": "display_data"
    }
   ],
   "source": [
    "# suppression de `tax` ou\n",
    "# Créer une échelle discrète de forfait de taxe: small, high\n",
    "max_tax = df['tax'].max()\n",
    "bins = [-1,100,125,175,225,250,275,max_tax+1]\n",
    "labels = []\n",
    "for i in range(len(bins)-1):\n",
    "    start = bins[i]\n",
    "    end = bins[i+1]\n",
    "    if i==0:\n",
    "        label = f\"<{end}]\"\n",
    "    else:\n",
    "        label = f\"]{start},{end}]\" \n",
    "    labels.append(label)\n",
    "\n",
    "df['tax_package']=pd.cut(df['tax'],\n",
    "                         bins=bins,\n",
    "                         labels=labels)\n",
    "figure = sns.countplot(data=df,x=\"tax_package\")\n",
    "figure.set_xticklabels(figure.get_xticklabels(),rotation=45, horizontalalignment='right')\n",
    "None"
   ]
  },
  {
   "cell_type": "code",
   "execution_count": 210,
   "id": "48eccbee",
   "metadata": {},
   "outputs": [],
   "source": [
    "# `transmission`\n",
    "# Supprimer les entrées pour lesquelles le mode de transmission est `Other`"
   ]
  },
  {
   "cell_type": "code",
   "execution_count": 211,
   "id": "daef2e7c",
   "metadata": {},
   "outputs": [],
   "source": [
    "df = df[df['transmission']!='Other']"
   ]
  },
  {
   "cell_type": "code",
   "execution_count": 212,
   "id": "36ec45db",
   "metadata": {},
   "outputs": [],
   "source": [
    "# `fuel_type`\n",
    "# Fusionner ou supprimer les catégories de `fuel_type` qui ne sont pas représentatives\n",
    "df = df[(df['fuel_type']!='Other')]\n",
    "df = df[(df['fuel_type']!='Electric')]"
   ]
  },
  {
   "cell_type": "code",
   "execution_count": 9,
   "id": "41f61711",
   "metadata": {},
   "outputs": [
    {
     "name": "stdout",
     "output_type": "stream",
     "text": [
      "['Escort' 'Streetka' 'California' 'Fox' 'RS6' 'RS4' 'Q8' 'S8' 'R8' 'SQ7'\n",
      " 'A2' 'RS7' 'Supra' 'Z3' 'i8' 'i3' 'M5' 'X7' '8 Series' 'M6' 'Accent'\n",
      " 'Getz' 'Terracan' 'Amica' 'CLK' 'CLC Class' 'G Class' '230' 'R Class'\n",
      " 'Tigra' 'Vectra' 'Ampera']\n"
     ]
    }
   ],
   "source": [
    "# models supprimés par suppression des outliers\n",
    "unprocessed_data = pd.read_csv('dataset/train_set.csv', index_col=0)\n",
    "results = unprocessed_data[~unprocessed_data['model'].apply(tuple,1).isin(df['model'].apply(tuple,1))]['model']\n",
    "print(results.unique())"
   ]
  },
  {
   "cell_type": "code",
   "execution_count": 213,
   "id": "1ac6be0e",
   "metadata": {},
   "outputs": [
    {
     "data": {
      "text/html": [
       "<div>\n",
       "<style scoped>\n",
       "    .dataframe tbody tr th:only-of-type {\n",
       "        vertical-align: middle;\n",
       "    }\n",
       "\n",
       "    .dataframe tbody tr th {\n",
       "        vertical-align: top;\n",
       "    }\n",
       "\n",
       "    .dataframe thead th {\n",
       "        text-align: right;\n",
       "    }\n",
       "</style>\n",
       "<table border=\"1\" class=\"dataframe\">\n",
       "  <thead>\n",
       "    <tr style=\"text-align: right;\">\n",
       "      <th></th>\n",
       "      <th>model</th>\n",
       "      <th>year</th>\n",
       "      <th>price</th>\n",
       "      <th>transmission</th>\n",
       "      <th>mileage</th>\n",
       "      <th>fuel_type</th>\n",
       "      <th>tax</th>\n",
       "      <th>mpg</th>\n",
       "      <th>engine_size</th>\n",
       "      <th>brand</th>\n",
       "      <th>year_category</th>\n",
       "      <th>fuel_economy</th>\n",
       "      <th>engine_class</th>\n",
       "      <th>tax_package</th>\n",
       "    </tr>\n",
       "  </thead>\n",
       "  <tbody>\n",
       "    <tr>\n",
       "      <th>count</th>\n",
       "      <td>55836</td>\n",
       "      <td>55836.000000</td>\n",
       "      <td>55836.000000</td>\n",
       "      <td>55836</td>\n",
       "      <td>55836.000000</td>\n",
       "      <td>55836</td>\n",
       "      <td>55836.000000</td>\n",
       "      <td>55836.000000</td>\n",
       "      <td>55836.000000</td>\n",
       "      <td>55836</td>\n",
       "      <td>55836</td>\n",
       "      <td>55836</td>\n",
       "      <td>55836</td>\n",
       "      <td>55836</td>\n",
       "    </tr>\n",
       "    <tr>\n",
       "      <th>unique</th>\n",
       "      <td>162</td>\n",
       "      <td>NaN</td>\n",
       "      <td>NaN</td>\n",
       "      <td>3</td>\n",
       "      <td>NaN</td>\n",
       "      <td>3</td>\n",
       "      <td>NaN</td>\n",
       "      <td>NaN</td>\n",
       "      <td>NaN</td>\n",
       "      <td>9</td>\n",
       "      <td>10</td>\n",
       "      <td>3</td>\n",
       "      <td>2</td>\n",
       "      <td>7</td>\n",
       "    </tr>\n",
       "    <tr>\n",
       "      <th>top</th>\n",
       "      <td>Fiesta</td>\n",
       "      <td>NaN</td>\n",
       "      <td>NaN</td>\n",
       "      <td>Manual</td>\n",
       "      <td>NaN</td>\n",
       "      <td>Petrol</td>\n",
       "      <td>NaN</td>\n",
       "      <td>NaN</td>\n",
       "      <td>NaN</td>\n",
       "      <td>ford</td>\n",
       "      <td>(2018, 2019]</td>\n",
       "      <td>High</td>\n",
       "      <td>small</td>\n",
       "      <td>]125,175]</td>\n",
       "    </tr>\n",
       "    <tr>\n",
       "      <th>freq</th>\n",
       "      <td>3958</td>\n",
       "      <td>NaN</td>\n",
       "      <td>NaN</td>\n",
       "      <td>32527</td>\n",
       "      <td>NaN</td>\n",
       "      <td>31282</td>\n",
       "      <td>NaN</td>\n",
       "      <td>NaN</td>\n",
       "      <td>NaN</td>\n",
       "      <td>10698</td>\n",
       "      <td>14848</td>\n",
       "      <td>43045</td>\n",
       "      <td>34551</td>\n",
       "      <td>39436</td>\n",
       "    </tr>\n",
       "    <tr>\n",
       "      <th>mean</th>\n",
       "      <td>NaN</td>\n",
       "      <td>2017.187191</td>\n",
       "      <td>16179.621785</td>\n",
       "      <td>NaN</td>\n",
       "      <td>21898.817967</td>\n",
       "      <td>NaN</td>\n",
       "      <td>127.396572</td>\n",
       "      <td>55.011931</td>\n",
       "      <td>1.632676</td>\n",
       "      <td>NaN</td>\n",
       "      <td>NaN</td>\n",
       "      <td>NaN</td>\n",
       "      <td>NaN</td>\n",
       "      <td>NaN</td>\n",
       "    </tr>\n",
       "    <tr>\n",
       "      <th>std</th>\n",
       "      <td>NaN</td>\n",
       "      <td>1.754859</td>\n",
       "      <td>7842.495035</td>\n",
       "      <td>NaN</td>\n",
       "      <td>17827.555381</td>\n",
       "      <td>NaN</td>\n",
       "      <td>50.728203</td>\n",
       "      <td>10.861358</td>\n",
       "      <td>0.487692</td>\n",
       "      <td>NaN</td>\n",
       "      <td>NaN</td>\n",
       "      <td>NaN</td>\n",
       "      <td>NaN</td>\n",
       "      <td>NaN</td>\n",
       "    </tr>\n",
       "    <tr>\n",
       "      <th>min</th>\n",
       "      <td>NaN</td>\n",
       "      <td>2011.000000</td>\n",
       "      <td>2395.000000</td>\n",
       "      <td>NaN</td>\n",
       "      <td>1.000000</td>\n",
       "      <td>NaN</td>\n",
       "      <td>10.000000</td>\n",
       "      <td>8.800000</td>\n",
       "      <td>1.000000</td>\n",
       "      <td>NaN</td>\n",
       "      <td>NaN</td>\n",
       "      <td>NaN</td>\n",
       "      <td>NaN</td>\n",
       "      <td>NaN</td>\n",
       "    </tr>\n",
       "    <tr>\n",
       "      <th>25%</th>\n",
       "      <td>NaN</td>\n",
       "      <td>2016.000000</td>\n",
       "      <td>10200.000000</td>\n",
       "      <td>NaN</td>\n",
       "      <td>7885.000000</td>\n",
       "      <td>NaN</td>\n",
       "      <td>135.000000</td>\n",
       "      <td>47.100000</td>\n",
       "      <td>1.200000</td>\n",
       "      <td>NaN</td>\n",
       "      <td>NaN</td>\n",
       "      <td>NaN</td>\n",
       "      <td>NaN</td>\n",
       "      <td>NaN</td>\n",
       "    </tr>\n",
       "    <tr>\n",
       "      <th>50%</th>\n",
       "      <td>NaN</td>\n",
       "      <td>2017.000000</td>\n",
       "      <td>14450.000000</td>\n",
       "      <td>NaN</td>\n",
       "      <td>17550.500000</td>\n",
       "      <td>NaN</td>\n",
       "      <td>145.000000</td>\n",
       "      <td>55.400000</td>\n",
       "      <td>1.500000</td>\n",
       "      <td>NaN</td>\n",
       "      <td>NaN</td>\n",
       "      <td>NaN</td>\n",
       "      <td>NaN</td>\n",
       "      <td>NaN</td>\n",
       "    </tr>\n",
       "    <tr>\n",
       "      <th>75%</th>\n",
       "      <td>NaN</td>\n",
       "      <td>2019.000000</td>\n",
       "      <td>20149.000000</td>\n",
       "      <td>NaN</td>\n",
       "      <td>31656.250000</td>\n",
       "      <td>NaN</td>\n",
       "      <td>145.000000</td>\n",
       "      <td>62.800000</td>\n",
       "      <td>2.000000</td>\n",
       "      <td>NaN</td>\n",
       "      <td>NaN</td>\n",
       "      <td>NaN</td>\n",
       "      <td>NaN</td>\n",
       "      <td>NaN</td>\n",
       "    </tr>\n",
       "    <tr>\n",
       "      <th>max</th>\n",
       "      <td>NaN</td>\n",
       "      <td>2020.000000</td>\n",
       "      <td>46549.000000</td>\n",
       "      <td>NaN</td>\n",
       "      <td>86735.000000</td>\n",
       "      <td>NaN</td>\n",
       "      <td>305.000000</td>\n",
       "      <td>94.100000</td>\n",
       "      <td>3.000000</td>\n",
       "      <td>NaN</td>\n",
       "      <td>NaN</td>\n",
       "      <td>NaN</td>\n",
       "      <td>NaN</td>\n",
       "      <td>NaN</td>\n",
       "    </tr>\n",
       "  </tbody>\n",
       "</table>\n",
       "</div>"
      ],
      "text/plain": [
       "         model          year         price transmission       mileage  \\\n",
       "count    55836  55836.000000  55836.000000        55836  55836.000000   \n",
       "unique     162           NaN           NaN            3           NaN   \n",
       "top     Fiesta           NaN           NaN       Manual           NaN   \n",
       "freq      3958           NaN           NaN        32527           NaN   \n",
       "mean       NaN   2017.187191  16179.621785          NaN  21898.817967   \n",
       "std        NaN      1.754859   7842.495035          NaN  17827.555381   \n",
       "min        NaN   2011.000000   2395.000000          NaN      1.000000   \n",
       "25%        NaN   2016.000000  10200.000000          NaN   7885.000000   \n",
       "50%        NaN   2017.000000  14450.000000          NaN  17550.500000   \n",
       "75%        NaN   2019.000000  20149.000000          NaN  31656.250000   \n",
       "max        NaN   2020.000000  46549.000000          NaN  86735.000000   \n",
       "\n",
       "       fuel_type           tax           mpg   engine_size  brand  \\\n",
       "count      55836  55836.000000  55836.000000  55836.000000  55836   \n",
       "unique         3           NaN           NaN           NaN      9   \n",
       "top       Petrol           NaN           NaN           NaN   ford   \n",
       "freq       31282           NaN           NaN           NaN  10698   \n",
       "mean         NaN    127.396572     55.011931      1.632676    NaN   \n",
       "std          NaN     50.728203     10.861358      0.487692    NaN   \n",
       "min          NaN     10.000000      8.800000      1.000000    NaN   \n",
       "25%          NaN    135.000000     47.100000      1.200000    NaN   \n",
       "50%          NaN    145.000000     55.400000      1.500000    NaN   \n",
       "75%          NaN    145.000000     62.800000      2.000000    NaN   \n",
       "max          NaN    305.000000     94.100000      3.000000    NaN   \n",
       "\n",
       "       year_category fuel_economy engine_class tax_package  \n",
       "count          55836        55836        55836       55836  \n",
       "unique            10            3            2           7  \n",
       "top     (2018, 2019]         High        small   ]125,175]  \n",
       "freq           14848        43045        34551       39436  \n",
       "mean             NaN          NaN          NaN         NaN  \n",
       "std              NaN          NaN          NaN         NaN  \n",
       "min              NaN          NaN          NaN         NaN  \n",
       "25%              NaN          NaN          NaN         NaN  \n",
       "50%              NaN          NaN          NaN         NaN  \n",
       "75%              NaN          NaN          NaN         NaN  \n",
       "max              NaN          NaN          NaN         NaN  "
      ]
     },
     "execution_count": 213,
     "metadata": {},
     "output_type": "execute_result"
    }
   ],
   "source": [
    "df.describe(include='all')"
   ]
  },
  {
   "cell_type": "code",
   "execution_count": 214,
   "id": "7ff8784b",
   "metadata": {},
   "outputs": [
    {
     "name": "stdout",
     "output_type": "stream",
     "text": [
      "<class 'pandas.core.frame.DataFrame'>\n",
      "Int64Index: 55836 entries, 3053 to 13349\n",
      "Data columns (total 14 columns):\n",
      " #   Column         Non-Null Count  Dtype                 \n",
      "---  ------         --------------  -----                 \n",
      " 0   model          55836 non-null  object                \n",
      " 1   year           55836 non-null  int64                 \n",
      " 2   price          55836 non-null  float64               \n",
      " 3   transmission   55836 non-null  object                \n",
      " 4   mileage        55836 non-null  float64               \n",
      " 5   fuel_type      55836 non-null  object                \n",
      " 6   tax            55836 non-null  float64               \n",
      " 7   mpg            55836 non-null  float64               \n",
      " 8   engine_size    55836 non-null  float64               \n",
      " 9   brand          55836 non-null  object                \n",
      " 10  year_category  55836 non-null  interval[int64, right]\n",
      " 11  fuel_economy   55836 non-null  object                \n",
      " 12  engine_class   55836 non-null  object                \n",
      " 13  tax_package    55836 non-null  category              \n",
      "dtypes: category(1), float64(5), int64(1), interval(1), object(6)\n",
      "memory usage: 6.4+ MB\n"
     ]
    }
   ],
   "source": [
    "df.info()"
   ]
  },
  {
   "cell_type": "markdown",
   "id": "ac11e5da",
   "metadata": {},
   "source": [
    "## Generate CSV"
   ]
  },
  {
   "cell_type": "code",
   "execution_count": 215,
   "id": "31e3d2c8",
   "metadata": {},
   "outputs": [],
   "source": [
    "directory = 'dataset/'\n",
    "df.to_csv(join(directory,'train_set_preprocessed.csv'))"
   ]
  }
 ],
 "metadata": {
  "kernelspec": {
   "display_name": "Python 3",
   "language": "python",
   "name": "python3"
  },
  "language_info": {
   "codemirror_mode": {
    "name": "ipython",
    "version": 3
   },
   "file_extension": ".py",
   "mimetype": "text/x-python",
   "name": "python",
   "nbconvert_exporter": "python",
   "pygments_lexer": "ipython3",
   "version": "3.8.11"
  },
  "toc": {
   "base_numbering": 1,
   "nav_menu": {},
   "number_sections": true,
   "sideBar": true,
   "skip_h1_title": false,
   "title_cell": "Table of Contents",
   "title_sidebar": "Contents",
   "toc_cell": false,
   "toc_position": {},
   "toc_section_display": true,
   "toc_window_display": false
  }
 },
 "nbformat": 4,
 "nbformat_minor": 5
}
