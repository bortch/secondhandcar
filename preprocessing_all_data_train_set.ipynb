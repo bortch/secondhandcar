{
 "cells": [
  {
   "cell_type": "code",
   "execution_count": 2,
   "id": "6b0619af",
   "metadata": {},
   "outputs": [],
   "source": [
    "# autoreload reloads modules automatically before entering the execution of code typed at the IPython prompt.\n",
    "%reload_ext autoreload\n",
    "%autoreload 2\n",
    "%aimport bs_eda"
   ]
  },
  {
   "cell_type": "code",
   "execution_count": 30,
   "id": "2bb80921",
   "metadata": {},
   "outputs": [],
   "source": [
    "from os.path import join\n",
    "import pandas as pd\n",
    "import numpy as np\n",
    "import seaborn as sns\n",
    "import bs_eda as beda\n",
    "from scipy.stats import zscore\n",
    "from sklearn.preprocessing import LabelEncoder"
   ]
  },
  {
   "cell_type": "markdown",
   "id": "9d3c66cf",
   "metadata": {},
   "source": [
    "## Liste des modifications"
   ]
  },
  {
   "cell_type": "markdown",
   "id": "e8a55576",
   "metadata": {},
   "source": [
    "1. Pour les variables `mileage` et `price`, convertir les int64 en float64\n",
    "1. Supprimer les entrées redondantes\n",
    "1. `price`:\n",
    "    * Vérifier les valeurs anormales *Z-score*\n",
    "    * Log pour normaliser la distribution\n",
    "1. `year`:\n",
    "    * Supprimer les années excentriques\n",
    "    * vérifier les voitures avant 2000\n",
    "1. `mileage`:\n",
    "    * Traiter la précense d'anomalies dans les valeurs hautes\n",
    "    * idem valeurs basses\n",
    "1. `mpg`:\n",
    "    * Vérifier la validité des valeurs extrêmes, trop basses et trop hautes.\n",
    "    * Créer une échelle discrète de rendement: bas, moyen, haut\n",
    "1. `engine_size`\n",
    "    * Corriger ou supprimer les valeurs 0\n",
    "    * traiter les valeurs de 6\n",
    "    * Créer une échelle discrète de taille de moteur: small, large\n",
    "    * Utiliser un OrdinalEncoder?\n",
    "1. `tax`\n",
    "    * Les données apparaissent difficilement fiables, la feature pourrait être supprimée.\n",
    "1. Variable discrète\n",
    "    * Encoder les features. LabelEncoder et/ou OneHotEncoder?\n",
    "1. `transmission`\n",
    "    * Supprimer les entrées pour lesquelles le mode de transmission est `Other`\n",
    "1. `fuel_type`\n",
    "    * Fusionner ou supprimer les catégories de `fuel_type` qui ne sont pas représentatives\n",
    "1. `model`\n",
    "    * LabelEncoder"
   ]
  },
  {
   "cell_type": "code",
   "execution_count": 11,
   "id": "d8aaf75c",
   "metadata": {},
   "outputs": [],
   "source": [
    "df = pd.read_csv('dataset/train_set.csv', index_col=0)"
   ]
  },
  {
   "cell_type": "code",
   "execution_count": 12,
   "id": "7ce3eaa9",
   "metadata": {},
   "outputs": [],
   "source": [
    "# Supprimer les entrées redondantes\n",
    "df.drop_duplicates(inplace = True)"
   ]
  },
  {
   "cell_type": "code",
   "execution_count": 13,
   "id": "a37f44a8",
   "metadata": {},
   "outputs": [],
   "source": [
    "# Pour les variables `mileage` et `price`, convertir les int64 en float64\n",
    "df['price'] = df['price'].astype(float)\n",
    "df['mileage'] = df['mileage'].astype(float)"
   ]
  },
  {
   "cell_type": "code",
   "execution_count": 14,
   "id": "02ec0728",
   "metadata": {},
   "outputs": [],
   "source": [
    "# Vérifier les valeurs anormales *Z-score*\n",
    "# Log pour normaliser la distribution\n",
    "columns = beda.get_numerical_columns(df)\n",
    "thresh = 3\n",
    "# mask of all rows whose value > thresh\n",
    "outliers = df[columns].apply(lambda x: np.abs(zscore(x, nan_policy = 'omit')) > thresh).any(axis=1)\n",
    "# Drop (inplace) rows that match\n",
    "df.drop(df[columns].index[outliers], inplace = True)"
   ]
  },
  {
   "cell_type": "code",
   "execution_count": 19,
   "id": "e94c890d",
   "metadata": {},
   "outputs": [
    {
     "data": {
      "text/plain": [
       "<AxesSubplot:xlabel='fuel_economy', ylabel='count'>"
      ]
     },
     "execution_count": 19,
     "metadata": {},
     "output_type": "execute_result"
    },
    {
     "data": {
      "image/png": "[encoded data removed]",
      "text/plain": [
       "<Figure size 432x288 with 1 Axes>"
      ]
     },
     "metadata": {},
     "output_type": "display_data"
    }
   ],
   "source": [
    "# Créer une échelle discrète de rendement: bas, moyen, haut\n",
    "def fuel_economy(mpg):\n",
    "    average = (36,47)\n",
    "    if mpg<=average[0]: \n",
    "        result = \"Low\"\n",
    "    if (mpg>average[0] and mpg<average[1]): \n",
    "        result = \"Medium\"\n",
    "    if mpg>=average[1]: \n",
    "        result = \"High\"\n",
    "    return result\n",
    "\n",
    "df[\"fuel_economy\"]=df.apply(lambda x: fuel_economy(x[\"mpg\"]),axis=1)\n",
    "sns.countplot(data=df,x=\"fuel_economy\")"
   ]
  },
  {
   "cell_type": "code",
   "execution_count": 21,
   "id": "72196c06",
   "metadata": {},
   "outputs": [
    {
     "data": {
      "text/plain": [
       "<AxesSubplot:xlabel='engine_class', ylabel='count'>"
      ]
     },
     "execution_count": 21,
     "metadata": {},
     "output_type": "execute_result"
    },
    {
     "data": {
      "image/png": "[encoded data removed]",
      "text/plain": [
       "<Figure size 432x288 with 1 Axes>"
      ]
     },
     "metadata": {},
     "output_type": "display_data"
    }
   ],
   "source": [
    "# Créer une échelle discrète de taille de moteur: small, high\n",
    "def get_engine_class(engine_size):\n",
    "    if engine_size<2.:\n",
    "        result = 'small'\n",
    "    else:\n",
    "        result = 'large'\n",
    "    return result\n",
    "\n",
    "df[\"engine_class\"]=df.apply(lambda x: get_engine_class(x[\"engine_size\"]),axis=1)\n",
    "sns.countplot(data=df,x=\"engine_class\")"
   ]
  },
  {
   "cell_type": "code",
   "execution_count": null,
   "id": "79fe9a04",
   "metadata": {},
   "outputs": [],
   "source": [
    "# suppression de `tax`"
   ]
  },
  {
   "cell_type": "code",
   "execution_count": null,
   "id": "48eccbee",
   "metadata": {},
   "outputs": [],
   "source": [
    "# `transmission`\n",
    "# Supprimer les entrées pour lesquelles le mode de transmission est `Other`"
   ]
  },
  {
   "cell_type": "code",
   "execution_count": 23,
   "id": "daef2e7c",
   "metadata": {},
   "outputs": [],
   "source": [
    "df = df[df['transmission']!='Other']"
   ]
  },
  {
   "cell_type": "code",
   "execution_count": 32,
   "id": "36ec45db",
   "metadata": {},
   "outputs": [],
   "source": [
    "# `fuel_type`\n",
    "# Fusionner ou supprimer les catégories de `fuel_type` qui ne sont pas représentatives\n",
    "df = df[(df['fuel_type']!='Other')]\n",
    "df = df[(df['fuel_type']!='Electric')]"
   ]
  },
  {
   "cell_type": "code",
   "execution_count": 33,
   "id": "1ac6be0e",
   "metadata": {},
   "outputs": [
    {
     "data": {
      "text/html": [
       "<div>\n",
       "<style scoped>\n",
       "    .dataframe tbody tr th:only-of-type {\n",
       "        vertical-align: middle;\n",
       "    }\n",
       "\n",
       "    .dataframe tbody tr th {\n",
       "        vertical-align: top;\n",
       "    }\n",
       "\n",
       "    .dataframe thead th {\n",
       "        text-align: right;\n",
       "    }\n",
       "</style>\n",
       "<table border=\"1\" class=\"dataframe\">\n",
       "  <thead>\n",
       "    <tr style=\"text-align: right;\">\n",
       "      <th></th>\n",
       "      <th>year</th>\n",
       "      <th>price</th>\n",
       "      <th>mileage</th>\n",
       "      <th>tax</th>\n",
       "      <th>mpg</th>\n",
       "      <th>engine_size</th>\n",
       "    </tr>\n",
       "  </thead>\n",
       "  <tbody>\n",
       "    <tr>\n",
       "      <th>count</th>\n",
       "      <td>55836.000000</td>\n",
       "      <td>55836.000000</td>\n",
       "      <td>55836.000000</td>\n",
       "      <td>55836.000000</td>\n",
       "      <td>55836.000000</td>\n",
       "      <td>55836.000000</td>\n",
       "    </tr>\n",
       "    <tr>\n",
       "      <th>mean</th>\n",
       "      <td>2017.187191</td>\n",
       "      <td>16179.621785</td>\n",
       "      <td>21898.817967</td>\n",
       "      <td>118.221757</td>\n",
       "      <td>55.011931</td>\n",
       "      <td>1.627626</td>\n",
       "    </tr>\n",
       "    <tr>\n",
       "      <th>std</th>\n",
       "      <td>1.754859</td>\n",
       "      <td>7842.495035</td>\n",
       "      <td>17827.555381</td>\n",
       "      <td>59.131393</td>\n",
       "      <td>10.861358</td>\n",
       "      <td>0.494175</td>\n",
       "    </tr>\n",
       "    <tr>\n",
       "      <th>min</th>\n",
       "      <td>2011.000000</td>\n",
       "      <td>2395.000000</td>\n",
       "      <td>1.000000</td>\n",
       "      <td>0.000000</td>\n",
       "      <td>8.800000</td>\n",
       "      <td>0.000000</td>\n",
       "    </tr>\n",
       "    <tr>\n",
       "      <th>25%</th>\n",
       "      <td>2016.000000</td>\n",
       "      <td>10200.000000</td>\n",
       "      <td>7885.000000</td>\n",
       "      <td>125.000000</td>\n",
       "      <td>47.100000</td>\n",
       "      <td>1.200000</td>\n",
       "    </tr>\n",
       "    <tr>\n",
       "      <th>50%</th>\n",
       "      <td>2017.000000</td>\n",
       "      <td>14450.000000</td>\n",
       "      <td>17550.500000</td>\n",
       "      <td>145.000000</td>\n",
       "      <td>55.400000</td>\n",
       "      <td>1.500000</td>\n",
       "    </tr>\n",
       "    <tr>\n",
       "      <th>75%</th>\n",
       "      <td>2019.000000</td>\n",
       "      <td>20149.000000</td>\n",
       "      <td>31656.250000</td>\n",
       "      <td>145.000000</td>\n",
       "      <td>62.800000</td>\n",
       "      <td>2.000000</td>\n",
       "    </tr>\n",
       "    <tr>\n",
       "      <th>max</th>\n",
       "      <td>2020.000000</td>\n",
       "      <td>46549.000000</td>\n",
       "      <td>86735.000000</td>\n",
       "      <td>305.000000</td>\n",
       "      <td>94.100000</td>\n",
       "      <td>3.000000</td>\n",
       "    </tr>\n",
       "  </tbody>\n",
       "</table>\n",
       "</div>"
      ],
      "text/plain": [
       "               year         price       mileage           tax           mpg  \\\n",
       "count  55836.000000  55836.000000  55836.000000  55836.000000  55836.000000   \n",
       "mean    2017.187191  16179.621785  21898.817967    118.221757     55.011931   \n",
       "std        1.754859   7842.495035  17827.555381     59.131393     10.861358   \n",
       "min     2011.000000   2395.000000      1.000000      0.000000      8.800000   \n",
       "25%     2016.000000  10200.000000   7885.000000    125.000000     47.100000   \n",
       "50%     2017.000000  14450.000000  17550.500000    145.000000     55.400000   \n",
       "75%     2019.000000  20149.000000  31656.250000    145.000000     62.800000   \n",
       "max     2020.000000  46549.000000  86735.000000    305.000000     94.100000   \n",
       "\n",
       "        engine_size  \n",
       "count  55836.000000  \n",
       "mean       1.627626  \n",
       "std        0.494175  \n",
       "min        0.000000  \n",
       "25%        1.200000  \n",
       "50%        1.500000  \n",
       "75%        2.000000  \n",
       "max        3.000000  "
      ]
     },
     "execution_count": 33,
     "metadata": {},
     "output_type": "execute_result"
    }
   ],
   "source": [
    "df.describe()"
   ]
  },
  {
   "cell_type": "markdown",
   "id": "ac11e5da",
   "metadata": {},
   "source": [
    "## Generate CSV"
   ]
  },
  {
   "cell_type": "code",
   "execution_count": 34,
   "id": "31e3d2c8",
   "metadata": {},
   "outputs": [],
   "source": [
    "directory = 'dataset/'\n",
    "df.to_csv(join(directory,'train_set_preprocessed.csv'))"
   ]
  }
 ],
 "metadata": {
  "kernelspec": {
   "display_name": "Python 3",
   "language": "python",
   "name": "python3"
  },
  "language_info": {
   "codemirror_mode": {
    "name": "ipython",
    "version": 3
   },
   "file_extension": ".py",
   "mimetype": "text/x-python",
   "name": "python",
   "nbconvert_exporter": "python",
   "pygments_lexer": "ipython3",
   "version": "3.8.11"
  },
  "toc": {
   "base_numbering": 1,
   "nav_menu": {},
   "number_sections": true,
   "sideBar": true,
   "skip_h1_title": false,
   "title_cell": "Table of Contents",
   "title_sidebar": "Contents",
   "toc_cell": false,
   "toc_position": {},
   "toc_section_display": true,
   "toc_window_display": false
  }
 },
 "nbformat": 4,
 "nbformat_minor": 5
}
