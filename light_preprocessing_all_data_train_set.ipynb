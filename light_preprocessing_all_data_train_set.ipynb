{
 "cells": [
  {
   "cell_type": "code",
   "execution_count": 69,
   "id": "6b0619af",
   "metadata": {},
   "outputs": [],
   "source": [
    "# autoreload reloads modules automatically before entering the execution of code typed at the IPython prompt.\n",
    "%reload_ext autoreload\n",
    "%autoreload 2\n",
    "%aimport bs_eda"
   ]
  },
  {
   "cell_type": "code",
   "execution_count": 1,
   "id": "2bb80921",
   "metadata": {},
   "outputs": [],
   "source": [
    "from os.path import join\n",
    "import pandas as pd\n",
    "import numpy as np\n",
    "import seaborn as sns\n",
    "import bs_lib.bs_eda as beda\n",
    "import bs_lib.bs_preprocess_lib as bsp\n",
    "from scipy.stats import zscore\n",
    "from sklearn.preprocessing import LabelEncoder\n",
    "from sklearn.impute import KNNImputer"
   ]
  },
  {
   "cell_type": "markdown",
   "id": "9d3c66cf",
   "metadata": {},
   "source": [
    "## Liste des modifications"
   ]
  },
  {
   "cell_type": "markdown",
   "id": "e8a55576",
   "metadata": {},
   "source": [
    "1. Pour les variables `mileage` et `price`, convertir les int64 en float64\n",
    "1. Supprimer les entrées redondantes\n",
    "1. `price`:\n",
    "    * Vérifier les valeurs anormales *Z-score*\n",
    "    * Log pour normaliser la distribution\n",
    "1. `year`:\n",
    "    * Supprimer les années excentriques\n",
    "    * vérifier les voitures avant 2000\n",
    "1. `mileage`:\n",
    "    * Traiter la précense d'anomalies dans les valeurs hautes\n",
    "    * idem valeurs basses\n",
    "1. `mpg`:\n",
    "    * Vérifier la validité des valeurs extrêmes, trop basses et trop hautes.\n",
    "    * Créer une échelle discrète de rendement: bas, moyen, haut\n",
    "1. `engine_size`\n",
    "    * Corriger ou supprimer les valeurs 0\n",
    "    * traiter les valeurs de 6\n",
    "    * Créer une échelle discrète de taille de moteur: small, large\n",
    "    * Utiliser un OrdinalEncoder?\n",
    "1. `tax`\n",
    "    * Les données apparaissent difficilement fiables, la feature pourrait être supprimée.\n",
    "1. Variable discrète\n",
    "    * Encoder les features. LabelEncoder et/ou OneHotEncoder?\n",
    "1. `transmission`\n",
    "    * Supprimer les entrées pour lesquelles le mode de transmission est `Other`\n",
    "1. `fuel_type`\n",
    "    * Fusionner ou supprimer les catégories de `fuel_type` qui ne sont pas représentatives\n",
    "1. `model`\n",
    "    * LabelEncoder\n",
    "    * Suppression du `model` si trop forte colinéarité  entre `brand`et `model`"
   ]
  },
  {
   "cell_type": "code",
   "execution_count": 2,
   "id": "d8aaf75c",
   "metadata": {},
   "outputs": [
    {
     "data": {
      "text/plain": [
       "(74387, 10)"
      ]
     },
     "execution_count": 2,
     "metadata": {},
     "output_type": "execute_result"
    }
   ],
   "source": [
    "df = pd.read_csv('dataset/train_set.csv', index_col=0)\n",
    "df.shape"
   ]
  },
  {
   "cell_type": "code",
   "execution_count": 3,
   "id": "7ce3eaa9",
   "metadata": {},
   "outputs": [
    {
     "data": {
      "text/plain": [
       "(73478, 10)"
      ]
     },
     "execution_count": 3,
     "metadata": {},
     "output_type": "execute_result"
    }
   ],
   "source": [
    "# Supprimer les entrées redondantes\n",
    "df.drop_duplicates(inplace = True)\n",
    "df.shape"
   ]
  },
  {
   "cell_type": "code",
   "execution_count": 4,
   "id": "a37f44a8",
   "metadata": {},
   "outputs": [],
   "source": [
    "# Pour les variables `mileage` et `price`, convertir les int64 en float64\n",
    "df['price'] = df['price'].astype(float)\n",
    "df['mileage'] = df['mileage'].astype(float)"
   ]
  },
  {
   "cell_type": "code",
   "execution_count": 13,
   "id": "02ec0728",
   "metadata": {},
   "outputs": [
    {
     "name": "stdout",
     "output_type": "stream",
     "text": [
      "<class 'pandas.core.frame.DataFrame'>\n",
      "Int64Index: 73478 entries, 3053 to 13349\n",
      "Data columns (total 10 columns):\n",
      " #   Column        Non-Null Count  Dtype  \n",
      "---  ------        --------------  -----  \n",
      " 0   model         73478 non-null  object \n",
      " 1   year          72163 non-null  float64\n",
      " 2   price         71371 non-null  float64\n",
      " 3   transmission  73478 non-null  object \n",
      " 4   mileage       71369 non-null  float64\n",
      " 5   fuel_type     73478 non-null  object \n",
      " 6   tax           72815 non-null  float64\n",
      " 7   mpg           72966 non-null  float64\n",
      " 8   engine_size   72765 non-null  float64\n",
      " 9   brand         73478 non-null  object \n",
      "dtypes: float64(6), object(4)\n",
      "memory usage: 6.2+ MB\n"
     ]
    }
   ],
   "source": [
    "# Vérifier les valeurs anormales *Z-score*\n",
    "# Log pour normaliser la distribution\n",
    "columns = beda.get_numerical_columns(df)\n",
    "thresh = 3\n",
    "# mask of all rows whose value > thresh\n",
    "def x_or_nan(x):\n",
    "    if np.abs(zscore(x, nan_policy = 'omit')) > thresh:\n",
    "        return np.nan\n",
    "    else:\n",
    "        return x\n",
    "\n",
    "outliers = df[columns].apply(lambda x: np.abs(zscore(x, nan_policy = 'omit')) > thresh)#.any(axis=1)\n",
    "# replace value from outliers by nan\n",
    "df[outliers] = np.nan\n",
    "#df_ = df[columns].where(~outliers, other=np.nan)\n",
    "#df.drop(df[columns].index[outliers], inplace = True)\n",
    "#df = pd.concat([df_,df])\n",
    "df.info()"
   ]
  },
  {
   "cell_type": "code",
   "execution_count": 14,
   "id": "16faf4e2",
   "metadata": {},
   "outputs": [],
   "source": [
    "# Year as category\n",
    "#bins=np.arange(df['year'].min()-1,df['year'].max()+2)\n",
    "#print(bins)\n",
    "#df['year_category']=pd.cut(df['year'],bins=bins)"
   ]
  },
  {
   "cell_type": "code",
   "execution_count": 15,
   "id": "e94c890d",
   "metadata": {},
   "outputs": [],
   "source": [
    "# Créer une échelle discrète de rendement: bas, moyen, haut\n",
    "#def fuel_economy(mpg):\n",
    "#    average = (36,47)\n",
    "#    if mpg<=average[0]: \n",
    "#        result = \"Low\"\n",
    "#    if (mpg>average[0] and mpg<average[1]): \n",
    "#        result = \"Medium\"\n",
    "#    if mpg>=average[1]: \n",
    "#        result = \"High\"\n",
    "#    return result\n",
    "\n",
    "#df[\"fuel_economy\"]=df.apply(lambda x: fuel_economy(x[\"mpg\"]),axis=1)\n",
    "\n",
    "#sns.countplot(data=df,x=\"fuel_economy\")"
   ]
  },
  {
   "cell_type": "code",
   "execution_count": 16,
   "id": "5c2abe86",
   "metadata": {
    "scrolled": false
   },
   "outputs": [],
   "source": [
    "# Complete engine_size == 0\n",
    "#def replace_by_similar(row, from_data, where_feature, has_cdt_value, using_features):\n",
    "#    x = row.copy()\n",
    "#    if row[where_feature]==has_cdt_value:\n",
    "#        result = beda.get_similar_row(to_this_row=row, in_data=from_data, based_on_cols=cols, show=False)\n",
    "#        if not result.isnull().values.any():\n",
    "#            x[where_feature] = round(result[where_feature].quantile(q=0.75),2)\n",
    "#    return x\n",
    "\n",
    "#feature='engine_size'\n",
    "#search_in_df = df[df[feature]>0]\n",
    "#cols = ['model','transmission', 'fuel_type', 'brand']\n",
    "#df = df.apply(lambda x: replace_by_similar(row=x, from_data=search_in_df, where_feature=feature, \n",
    "#                                           has_cdt_value=0, using_features=cols), axis=1)"
   ]
  },
  {
   "cell_type": "code",
   "execution_count": 17,
   "id": "72196c06",
   "metadata": {},
   "outputs": [],
   "source": [
    "# Créer une échelle discrète de taille de moteur: small, high\n",
    "#def get_engine_class(engine_size):\n",
    "#    if engine_size<2.:\n",
    "#        result = 'small'\n",
    "#    else:\n",
    "#        result = 'large'\n",
    "#    return result\n",
    "#\n",
    "#df[\"engine_class\"]=df.apply(lambda x: get_engine_class(x[\"engine_size\"]),axis=1)\n",
    "#sns.countplot(data=df,x=\"engine_class\")"
   ]
  },
  {
   "cell_type": "code",
   "execution_count": 18,
   "id": "185d9b84",
   "metadata": {
    "scrolled": true
   },
   "outputs": [],
   "source": [
    "# Complete tax == 0\n",
    "#feature='tax'\n",
    "#search_in_df = df[df[feature]>0]\n",
    "#cols = ['mpg','engine_size']\n",
    "#df = df.apply(lambda x: replace_by_similar(row=x, from_data=search_in_df, where_feature=feature, \n",
    "#                                           has_cdt_value=0, using_features=cols), axis=1)"
   ]
  },
  {
   "cell_type": "code",
   "execution_count": 19,
   "id": "79fe9a04",
   "metadata": {},
   "outputs": [],
   "source": [
    "# suppression de `tax` ou\n",
    "# Créer une échelle discrète de forfait de taxe: small, high\n",
    "#max_tax = df['tax'].max()\n",
    "#bins = [-1,100,125,175,225,250,275,max_tax+1]\n",
    "#labels = []\n",
    "#for i in range(len(bins)-1):\n",
    "#    start = bins[i]\n",
    "#    end = bins[i+1]\n",
    "#    if i==0:\n",
    "#        label = f\"<{end}]\"\n",
    "#    else:\n",
    "#        label = f\"]{start},{end}]\" \n",
    "#    labels.append(label)\n",
    "\n",
    "#df['tax_package']=pd.cut(df['tax'],\n",
    "#                         bins=bins,\n",
    "#                         labels=labels)\n",
    "#figure = sns.countplot(data=df,x=\"tax_package\")\n",
    "#figure.set_xticklabels(figure.get_xticklabels(),rotation=45, horizontalalignment='right')\n",
    "#None"
   ]
  },
  {
   "cell_type": "code",
   "execution_count": 20,
   "id": "48eccbee",
   "metadata": {},
   "outputs": [],
   "source": [
    "# `transmission`\n",
    "# Supprimer les entrées pour lesquelles le mode de transmission est `Other`"
   ]
  },
  {
   "cell_type": "code",
   "execution_count": 21,
   "id": "daef2e7c",
   "metadata": {},
   "outputs": [],
   "source": [
    "df = df[df['transmission']!='Other']"
   ]
  },
  {
   "cell_type": "code",
   "execution_count": 22,
   "id": "36ec45db",
   "metadata": {},
   "outputs": [],
   "source": [
    "# `fuel_type`\n",
    "# Fusionner ou supprimer les catégories de `fuel_type` qui ne sont pas représentatives\n",
    "df = df[(df['fuel_type']!='Other')]\n",
    "df = df[(df['fuel_type']!='Electric')]"
   ]
  },
  {
   "cell_type": "code",
   "execution_count": 23,
   "id": "41f61711",
   "metadata": {},
   "outputs": [
    {
     "name": "stdout",
     "output_type": "stream",
     "text": [
      "[]\n"
     ]
    }
   ],
   "source": [
    "# models supprimés par suppression des outliers\n",
    "unprocessed_data = pd.read_csv('dataset/train_set.csv', index_col=0)\n",
    "results = unprocessed_data[~unprocessed_data['model'].apply(tuple,1).isin(df['model'].apply(tuple,1))]['model']\n",
    "print(results.unique())"
   ]
  },
  {
   "cell_type": "code",
   "execution_count": 24,
   "id": "1ac6be0e",
   "metadata": {},
   "outputs": [
    {
     "data": {
      "text/html": [
       "<div>\n",
       "<style scoped>\n",
       "    .dataframe tbody tr th:only-of-type {\n",
       "        vertical-align: middle;\n",
       "    }\n",
       "\n",
       "    .dataframe tbody tr th {\n",
       "        vertical-align: top;\n",
       "    }\n",
       "\n",
       "    .dataframe thead th {\n",
       "        text-align: right;\n",
       "    }\n",
       "</style>\n",
       "<table border=\"1\" class=\"dataframe\">\n",
       "  <thead>\n",
       "    <tr style=\"text-align: right;\">\n",
       "      <th></th>\n",
       "      <th>model</th>\n",
       "      <th>year</th>\n",
       "      <th>price</th>\n",
       "      <th>transmission</th>\n",
       "      <th>mileage</th>\n",
       "      <th>fuel_type</th>\n",
       "      <th>tax</th>\n",
       "      <th>mpg</th>\n",
       "      <th>engine_size</th>\n",
       "      <th>brand</th>\n",
       "    </tr>\n",
       "  </thead>\n",
       "  <tbody>\n",
       "    <tr>\n",
       "      <th>count</th>\n",
       "      <td>73278</td>\n",
       "      <td>71965.000000</td>\n",
       "      <td>71174.000000</td>\n",
       "      <td>73278</td>\n",
       "      <td>71172.000000</td>\n",
       "      <td>73278</td>\n",
       "      <td>72616.000000</td>\n",
       "      <td>72805.000000</td>\n",
       "      <td>72568.000000</td>\n",
       "      <td>73278</td>\n",
       "    </tr>\n",
       "    <tr>\n",
       "      <th>unique</th>\n",
       "      <td>194</td>\n",
       "      <td>NaN</td>\n",
       "      <td>NaN</td>\n",
       "      <td>3</td>\n",
       "      <td>NaN</td>\n",
       "      <td>3</td>\n",
       "      <td>NaN</td>\n",
       "      <td>NaN</td>\n",
       "      <td>NaN</td>\n",
       "      <td>9</td>\n",
       "    </tr>\n",
       "    <tr>\n",
       "      <th>top</th>\n",
       "      <td>Fiesta</td>\n",
       "      <td>NaN</td>\n",
       "      <td>NaN</td>\n",
       "      <td>Manual</td>\n",
       "      <td>NaN</td>\n",
       "      <td>Petrol</td>\n",
       "      <td>NaN</td>\n",
       "      <td>NaN</td>\n",
       "      <td>NaN</td>\n",
       "      <td>ford</td>\n",
       "    </tr>\n",
       "    <tr>\n",
       "      <th>freq</th>\n",
       "      <td>4886</td>\n",
       "      <td>NaN</td>\n",
       "      <td>NaN</td>\n",
       "      <td>41788</td>\n",
       "      <td>NaN</td>\n",
       "      <td>40654</td>\n",
       "      <td>NaN</td>\n",
       "      <td>NaN</td>\n",
       "      <td>NaN</td>\n",
       "      <td>13376</td>\n",
       "    </tr>\n",
       "    <tr>\n",
       "      <th>mean</th>\n",
       "      <td>NaN</td>\n",
       "      <td>2017.228417</td>\n",
       "      <td>15738.160368</td>\n",
       "      <td>NaN</td>\n",
       "      <td>21070.257784</td>\n",
       "      <td>NaN</td>\n",
       "      <td>118.058141</td>\n",
       "      <td>54.442227</td>\n",
       "      <td>1.651094</td>\n",
       "      <td>NaN</td>\n",
       "    </tr>\n",
       "    <tr>\n",
       "      <th>std</th>\n",
       "      <td>NaN</td>\n",
       "      <td>1.736223</td>\n",
       "      <td>7520.660136</td>\n",
       "      <td>NaN</td>\n",
       "      <td>17012.994655</td>\n",
       "      <td>NaN</td>\n",
       "      <td>58.586200</td>\n",
       "      <td>11.248507</td>\n",
       "      <td>0.505853</td>\n",
       "      <td>NaN</td>\n",
       "    </tr>\n",
       "    <tr>\n",
       "      <th>min</th>\n",
       "      <td>NaN</td>\n",
       "      <td>2012.000000</td>\n",
       "      <td>450.000000</td>\n",
       "      <td>NaN</td>\n",
       "      <td>1.000000</td>\n",
       "      <td>NaN</td>\n",
       "      <td>0.000000</td>\n",
       "      <td>20.800000</td>\n",
       "      <td>1.000000</td>\n",
       "      <td>NaN</td>\n",
       "    </tr>\n",
       "    <tr>\n",
       "      <th>25%</th>\n",
       "      <td>NaN</td>\n",
       "      <td>2016.000000</td>\n",
       "      <td>9995.000000</td>\n",
       "      <td>NaN</td>\n",
       "      <td>7327.750000</td>\n",
       "      <td>NaN</td>\n",
       "      <td>125.000000</td>\n",
       "      <td>46.300000</td>\n",
       "      <td>1.200000</td>\n",
       "      <td>NaN</td>\n",
       "    </tr>\n",
       "    <tr>\n",
       "      <th>50%</th>\n",
       "      <td>NaN</td>\n",
       "      <td>2017.000000</td>\n",
       "      <td>13999.000000</td>\n",
       "      <td>NaN</td>\n",
       "      <td>16899.000000</td>\n",
       "      <td>NaN</td>\n",
       "      <td>145.000000</td>\n",
       "      <td>54.300000</td>\n",
       "      <td>1.600000</td>\n",
       "      <td>NaN</td>\n",
       "    </tr>\n",
       "    <tr>\n",
       "      <th>75%</th>\n",
       "      <td>NaN</td>\n",
       "      <td>2019.000000</td>\n",
       "      <td>19995.000000</td>\n",
       "      <td>NaN</td>\n",
       "      <td>30996.750000</td>\n",
       "      <td>NaN</td>\n",
       "      <td>145.000000</td>\n",
       "      <td>62.800000</td>\n",
       "      <td>2.000000</td>\n",
       "      <td>NaN</td>\n",
       "    </tr>\n",
       "    <tr>\n",
       "      <th>max</th>\n",
       "      <td>NaN</td>\n",
       "      <td>2020.000000</td>\n",
       "      <td>40099.000000</td>\n",
       "      <td>NaN</td>\n",
       "      <td>76225.000000</td>\n",
       "      <td>NaN</td>\n",
       "      <td>295.000000</td>\n",
       "      <td>88.300000</td>\n",
       "      <td>3.000000</td>\n",
       "      <td>NaN</td>\n",
       "    </tr>\n",
       "  </tbody>\n",
       "</table>\n",
       "</div>"
      ],
      "text/plain": [
       "         model          year         price transmission       mileage  \\\n",
       "count    73278  71965.000000  71174.000000        73278  71172.000000   \n",
       "unique     194           NaN           NaN            3           NaN   \n",
       "top     Fiesta           NaN           NaN       Manual           NaN   \n",
       "freq      4886           NaN           NaN        41788           NaN   \n",
       "mean       NaN   2017.228417  15738.160368          NaN  21070.257784   \n",
       "std        NaN      1.736223   7520.660136          NaN  17012.994655   \n",
       "min        NaN   2012.000000    450.000000          NaN      1.000000   \n",
       "25%        NaN   2016.000000   9995.000000          NaN   7327.750000   \n",
       "50%        NaN   2017.000000  13999.000000          NaN  16899.000000   \n",
       "75%        NaN   2019.000000  19995.000000          NaN  30996.750000   \n",
       "max        NaN   2020.000000  40099.000000          NaN  76225.000000   \n",
       "\n",
       "       fuel_type           tax           mpg   engine_size  brand  \n",
       "count      73278  72616.000000  72805.000000  72568.000000  73278  \n",
       "unique         3           NaN           NaN           NaN      9  \n",
       "top       Petrol           NaN           NaN           NaN   ford  \n",
       "freq       40654           NaN           NaN           NaN  13376  \n",
       "mean         NaN    118.058141     54.442227      1.651094    NaN  \n",
       "std          NaN     58.586200     11.248507      0.505853    NaN  \n",
       "min          NaN      0.000000     20.800000      1.000000    NaN  \n",
       "25%          NaN    125.000000     46.300000      1.200000    NaN  \n",
       "50%          NaN    145.000000     54.300000      1.600000    NaN  \n",
       "75%          NaN    145.000000     62.800000      2.000000    NaN  \n",
       "max          NaN    295.000000     88.300000      3.000000    NaN  "
      ]
     },
     "execution_count": 24,
     "metadata": {},
     "output_type": "execute_result"
    }
   ],
   "source": [
    "df.describe(include='all')"
   ]
  },
  {
   "cell_type": "code",
   "execution_count": 25,
   "id": "7ff8784b",
   "metadata": {},
   "outputs": [
    {
     "name": "stdout",
     "output_type": "stream",
     "text": [
      "<class 'pandas.core.frame.DataFrame'>\n",
      "Int64Index: 73278 entries, 3053 to 13349\n",
      "Data columns (total 10 columns):\n",
      " #   Column        Non-Null Count  Dtype  \n",
      "---  ------        --------------  -----  \n",
      " 0   model         73278 non-null  object \n",
      " 1   year          71965 non-null  float64\n",
      " 2   price         71174 non-null  float64\n",
      " 3   transmission  73278 non-null  object \n",
      " 4   mileage       71172 non-null  float64\n",
      " 5   fuel_type     73278 non-null  object \n",
      " 6   tax           72616 non-null  float64\n",
      " 7   mpg           72805 non-null  float64\n",
      " 8   engine_size   72568 non-null  float64\n",
      " 9   brand         73278 non-null  object \n",
      "dtypes: float64(6), object(4)\n",
      "memory usage: 6.1+ MB\n"
     ]
    }
   ],
   "source": [
    "df.info()"
   ]
  },
  {
   "cell_type": "code",
   "execution_count": 26,
   "id": "20748a84",
   "metadata": {},
   "outputs": [
    {
     "name": "stdout",
     "output_type": "stream",
     "text": [
      "<class 'pandas.core.frame.DataFrame'>\n",
      "Int64Index: 73278 entries, 3053 to 13349\n",
      "Data columns (total 10 columns):\n",
      " #   Column        Non-Null Count  Dtype  \n",
      "---  ------        --------------  -----  \n",
      " 0   model         73278 non-null  object \n",
      " 1   year          73278 non-null  float64\n",
      " 2   price         73278 non-null  float64\n",
      " 3   transmission  73278 non-null  object \n",
      " 4   mileage       73278 non-null  float64\n",
      " 5   fuel_type     73278 non-null  object \n",
      " 6   tax           73278 non-null  float64\n",
      " 7   mpg           73278 non-null  float64\n",
      " 8   engine_size   73278 non-null  float64\n",
      " 9   brand         73278 non-null  object \n",
      "dtypes: float64(6), object(4)\n",
      "memory usage: 6.1+ MB\n"
     ]
    }
   ],
   "source": [
    "imputer = KNNImputer(weights='distance')\n",
    "columns = beda.get_numerical_columns(df)\n",
    "df[columns] = pd.DataFrame(imputer.fit_transform(df[columns]),columns=columns)\n",
    "df.info()"
   ]
  },
  {
   "cell_type": "markdown",
   "id": "1997d5a6",
   "metadata": {},
   "source": [
    "### Nombre de cluster pour `engine_size`"
   ]
  },
  {
   "cell_type": "code",
   "execution_count": 27,
   "id": "ce20f49b",
   "metadata": {},
   "outputs": [
    {
     "name": "stderr",
     "output_type": "stream",
     "text": [
      "No handles with labels found to put in legend.\n"
     ]
    },
    {
     "data": {
      "image/png": "[encoded data removed]",
      "text/plain": [
       "<Figure size 864x504 with 1 Axes>"
      ]
     },
     "metadata": {},
     "output_type": "display_data"
    }
   ],
   "source": [
    "bsp.show_elbow(df['engine_size'].values.reshape(-1, 1),max_iter=12)"
   ]
  },
  {
   "cell_type": "markdown",
   "id": "ac11e5da",
   "metadata": {},
   "source": [
    "## Generate CSV"
   ]
  },
  {
   "cell_type": "code",
   "execution_count": 67,
   "id": "31e3d2c8",
   "metadata": {},
   "outputs": [],
   "source": [
    "directory = 'dataset/'\n",
    "df.to_csv(join(directory,'train_set_light_preprocessed.csv'))"
   ]
  }
 ],
 "metadata": {
  "kernelspec": {
   "display_name": "Python 3",
   "language": "python",
   "name": "python3"
  },
  "language_info": {
   "codemirror_mode": {
    "name": "ipython",
    "version": 3
   },
   "file_extension": ".py",
   "mimetype": "text/x-python",
   "name": "python",
   "nbconvert_exporter": "python",
   "pygments_lexer": "ipython3",
   "version": "3.8.11"
  },
  "toc": {
   "base_numbering": 1,
   "nav_menu": {},
   "number_sections": true,
   "sideBar": true,
   "skip_h1_title": false,
   "title_cell": "Table of Contents",
   "title_sidebar": "Contents",
   "toc_cell": false,
   "toc_position": {},
   "toc_section_display": true,
   "toc_window_display": false
  }
 },
 "nbformat": 4,
 "nbformat_minor": 5
}
