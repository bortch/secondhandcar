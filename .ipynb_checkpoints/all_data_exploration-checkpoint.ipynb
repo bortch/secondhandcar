{
 "cells": [
  {
   "cell_type": "code",
   "execution_count": 2,
   "id": "ec0dbc50",
   "metadata": {},
   "outputs": [],
   "source": [
    "import bs_eda as beda"
   ]
  },
  {
   "cell_type": "markdown",
   "id": "bc91761c",
   "metadata": {},
   "source": [
    "# Notes\n",
    "\n",
    "\n",
    "price = expected price on which old car can be sold\n",
    "\n",
    "The cars with engine size 0 are in fact electric cars.\n",
    "\n",
    "The cars with engine size 0 and mpg not equal to 0 est une erreur -> à supprimer ou corriger\n",
    "\n"
   ]
  },
  {
   "cell_type": "markdown",
   "id": "2fd0f7dc",
   "metadata": {},
   "source": [
    "## Todo\n",
    "\n",
    "Vérifier engine_size:\n",
    "* présence d'un caractère inutil: £\n",
    "* valeurs abbérantes\n",
    "\n",
    "\n"
   ]
  },
  {
   "cell_type": "code",
   "execution_count": 22,
   "id": "4c3cf8c6",
   "metadata": {},
   "outputs": [
    {
     "name": "stdout",
     "output_type": "stream",
     "text": [
      "Parsing skoda.csv\n",
      "Parsing focus.csv\n",
      "Parsing unclean cclass.csv\n",
      "Parsing cclass.csv\n",
      "Parsing ford.csv\n",
      "Parsing vw.csv\n",
      "Parsing audi.csv\n",
      "Parsing toyota.csv\n",
      "Parsing bmw.csv\n",
      "Parsing hyundi.csv\n",
      "Parsing unclean focus.csv\n",
      "Parsing merc.csv\n",
      "Parsing vauxhall.csv\n"
     ]
    }
   ],
   "source": [
    "all_data = beda.load_all_csv()"
   ]
  },
  {
   "cell_type": "markdown",
   "id": "d292e346",
   "metadata": {},
   "source": [
    "### Structures des différents fichiers"
   ]
  },
  {
   "cell_type": "code",
   "execution_count": 21,
   "id": "1e846501",
   "metadata": {},
   "outputs": [],
   "source": [
    "def check_features(all_data):\n",
    "    print('Numbers of features by dataset\\n')\n",
    "    features = {}\n",
    "    for key,dataset in all_data.items():\n",
    "        feature_list = dataset.columns.tolist()\n",
    "        print(f'{key}: {len(feature_list)}')\n",
    "        for i in range(len(feature_list)):\n",
    "            f = feature_list[i]\n",
    "            if f in features:\n",
    "                features[f]+=1\n",
    "            else:\n",
    "                features[f]=1\n",
    "\n",
    "    print(f'\\n{len(features.items())} distinct(s) features found')\n",
    "    print(f'\\nOccurence of distinct(s) features:')\n",
    "    for key, value in features.items():\n",
    "        print(f'{value} x {key}')"
   ]
  },
  {
   "cell_type": "code",
   "execution_count": 23,
   "id": "3897782f",
   "metadata": {},
   "outputs": [
    {
     "name": "stdout",
     "output_type": "stream",
     "text": [
      "Numbers of features by dataset\n",
      "\n",
      "skoda: 9\n",
      "focus: 7\n",
      "unclean cclass: 11\n",
      "cclass: 7\n",
      "ford: 9\n",
      "vw: 9\n",
      "audi: 9\n",
      "toyota: 9\n",
      "bmw: 9\n",
      "hyundi: 9\n",
      "unclean focus: 11\n",
      "merc: 9\n",
      "vauxhall: 9\n",
      "\n",
      "14 distinct(s) features found\n",
      "\n",
      "Occurence of distinct(s) features:\n",
      "13 x model\n",
      "13 x year\n",
      "13 x price\n",
      "13 x transmission\n",
      "13 x mileage\n",
      "13 x fuel_type\n",
      "8 x tax\n",
      "9 x mpg\n",
      "13 x engine_size\n",
      "2 x mileage2\n",
      "2 x fuel_type2\n",
      "2 x engine_size2\n",
      "2 x reference\n",
      "1 x tax(£)\n"
     ]
    }
   ],
   "source": [
    "check_features(all_data)"
   ]
  },
  {
   "cell_type": "markdown",
   "id": "7d3c076b",
   "metadata": {},
   "source": [
    "Le dataset est composé de 13 fichiers. \n",
    "\n",
    "On y distingue 3 sortes de données:\n",
    "1. 9 fichiers de marques: `[\"audi\",\"bmw\", \"ford\", \"hyundi\", \"mercedes\", \"scoda\", \"toyota\", \"vauxhall\", \"vw\"]`\n",
    "1. 2 fichiers de modèles: `[\"cclass\", \"focus\"]`\n",
    "1. 2 fichiers de modèles *non nettoyés*: `[\"cclass\", \"focus\"]`\n",
    "\n",
    "Tous les csv du dataset n'ont pas le même nombre de features.\n",
    "\n",
    "* Les fichiers par marque ont 9 colonnes\n",
    "* Les fichiers par model ont 7 colonnes\n",
    "* Les 2 fichiers *non nettoyés* ont 11 colonnes"
   ]
  },
  {
   "cell_type": "code",
   "execution_count": 24,
   "id": "4793f7be",
   "metadata": {},
   "outputs": [
    {
     "name": "stdout",
     "output_type": "stream",
     "text": [
      "Numbers of features by dataset\n",
      "\n",
      "skoda: 9\n",
      "ford: 9\n",
      "vw: 9\n",
      "audi: 9\n",
      "toyota: 9\n",
      "bmw: 9\n",
      "hyundi: 9\n",
      "merc: 9\n",
      "vauxhall: 9\n",
      "\n",
      "10 distinct(s) features found\n",
      "\n",
      "Occurence of distinct(s) features:\n",
      "9 x model\n",
      "9 x year\n",
      "9 x price\n",
      "9 x transmission\n",
      "9 x mileage\n",
      "9 x fuel_type\n",
      "8 x tax\n",
      "9 x mpg\n",
      "9 x engine_size\n",
      "1 x tax(£)\n"
     ]
    }
   ],
   "source": [
    "# removing 'unclean' data and by 'model' data\n",
    "to_remove = ['unclean focus','unclean cclass','cclass','focus']\n",
    "for i in range(len(to_remove)):\n",
    "    all_data.pop(to_remove[i])\n",
    "\n",
    "check_features(all_data)"
   ]
  },
  {
   "cell_type": "markdown",
   "id": "50b417bc",
   "metadata": {},
   "source": [
    "Mis à part les features `tax` et `tax(£)`, après exclusion des fichiers ci-dessus, les données des différents fichiers semblent pouvoir être fusionnées au moment opportun."
   ]
  },
  {
   "cell_type": "markdown",
   "id": "2c8feb1f",
   "metadata": {},
   "source": [
    "1. `model`: le model de la marque.\n",
    "1. `year`: l'année d'enregistrement.\n",
    "1. `price`: le prix attendu de la vente en £.\n",
    "1. `transmission`: le type de transmission `[\"Manual\",\"Semi-auto\", \"Other\"]`\n",
    "1. `mileage`: le nombre de miles parcouru.\n",
    "1. `fuelType`: le type de carburant `[\"Diesel\", \"Petrol\",\"Other\"]`\n",
    "1. `tax`: taxe de mise en circulation.\n",
    "1. `mpg`: le nombre de miles par gallon.  \n",
    "    Plus la valeur est élevée, plus le véhicule est économique, plus il peut parcourir de distance avec un certain volume de carburant.\n",
    "1. `engineSize`: la taille du moteur en litres."
   ]
  }
 ],
 "metadata": {
  "kernelspec": {
   "display_name": "Python 3",
   "language": "python",
   "name": "python3"
  },
  "language_info": {
   "codemirror_mode": {
    "name": "ipython",
    "version": 3
   },
   "file_extension": ".py",
   "mimetype": "text/x-python",
   "name": "python",
   "nbconvert_exporter": "python",
   "pygments_lexer": "ipython3",
   "version": "3.8.11"
  },
  "toc": {
   "base_numbering": 1,
   "nav_menu": {},
   "number_sections": true,
   "sideBar": true,
   "skip_h1_title": false,
   "title_cell": "Table of Contents",
   "title_sidebar": "Contents",
   "toc_cell": false,
   "toc_position": {},
   "toc_section_display": true,
   "toc_window_display": false
  }
 },
 "nbformat": 4,
 "nbformat_minor": 5
}
