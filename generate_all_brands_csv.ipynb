{
 "cells": [
  {
   "cell_type": "code",
   "execution_count": 1,
   "id": "3d2a4611",
   "metadata": {},
   "outputs": [],
   "source": [
    "# autoreload reloads modules automatically before entering the execution of code typed at the IPython prompt.\n",
    "%load_ext autoreload\n",
    "%autoreload 2\n",
    "%aimport bs_lib.bs_eda"
   ]
  },
  {
   "cell_type": "code",
   "execution_count": 2,
   "id": "16630d9e",
   "metadata": {},
   "outputs": [],
   "source": [
    "from os.path import join\n",
    "import pandas as pd\n",
    "import numpy as np\n",
    "import bs_lib.bs_eda as beda"
   ]
  },
  {
   "cell_type": "markdown",
   "id": "2d107192",
   "metadata": {},
   "source": [
    "## Création du dataset\n",
    "\n",
    "Chargement et fusion des fichiers csv en un unique dataset"
   ]
  },
  {
   "cell_type": "code",
   "execution_count": 15,
   "id": "361952d1",
   "metadata": {},
   "outputs": [
    {
     "name": "stdout",
     "output_type": "stream",
     "text": [
      "loading:['dataset/skoda.csv', 'dataset/ford.csv', 'dataset/vw.csv', 'dataset/audi.csv', 'dataset/toyota.csv', 'dataset/bmw.csv', 'dataset/hyundi.csv', 'dataset/merc.csv', 'dataset/vauxhall.csv']\n",
      "Parsing dataset/skoda.csv\n",
      "Parsing dataset/ford.csv\n",
      "Parsing dataset/vw.csv\n",
      "Parsing dataset/audi.csv\n",
      "Parsing dataset/toyota.csv\n",
      "Parsing dataset/bmw.csv\n",
      "Parsing dataset/hyundi.csv\n",
      "Parsing dataset/merc.csv\n",
      "Parsing dataset/vauxhall.csv\n"
     ]
    }
   ],
   "source": [
    "file_to_exclude = [\"unclean focus.csv\",\"unclean cclass.csv\",\"focus.csv\",\"cclass.csv\",\n",
    "                   \"train_set.csv\",\"val_set.csv\",\"test_set.csv\",\n",
    "                   \"train_set_pre_training_processed.csv\",\n",
    "                   \"train_set_preprocessed.csv\",\n",
    "                   \"train_set_light_preprocessed.csv\",\n",
    "                   \"all_set.csv\"]\n",
    "directory = 'dataset/'\n",
    "all_df = beda.load_all_csv(dataset_path=directory, exclude=file_to_exclude)\n",
    "\n",
    "columns = all_df['audi'].columns.to_list()\n",
    "\n",
    "all_set_df = pd.DataFrame(columns=columns)\n",
    "all_df_train = pd.DataFrame(columns=columns)\n",
    "all_df_val = pd.DataFrame(columns=columns)\n",
    "all_df_test = pd.DataFrame(columns=columns)\n",
    "\n",
    "target = 'price'"
   ]
  },
  {
   "cell_type": "markdown",
   "id": "f18ca791",
   "metadata": {},
   "source": [
    "## Corrections typographiques"
   ]
  },
  {
   "cell_type": "code",
   "execution_count": 16,
   "id": "9ac783a9",
   "metadata": {},
   "outputs": [],
   "source": [
    "# brand typo correction\n",
    "all_df['hyundai'] = all_df.pop('hyundi')\n",
    "all_df['mercedes'] = all_df.pop('merc')\n",
    "all_df['opel'] = all_df.pop('vauxhall')"
   ]
  },
  {
   "cell_type": "markdown",
   "id": "e61d936b",
   "metadata": {},
   "source": [
    "## Séparation en différents ensembles de données"
   ]
  },
  {
   "cell_type": "code",
   "execution_count": 17,
   "id": "5271629f",
   "metadata": {},
   "outputs": [
    {
     "name": "stdout",
     "output_type": "stream",
     "text": [
      "Source: skoda, Shape: (6267, 9)\n",
      "\tX_train: (4700, 10)\n",
      "\tX_val: (940, 10)\n",
      "\tX_test: (627, 10)\n",
      "\ty_train: (4700,)\n",
      "\ty_val: (940,)\n",
      "\ty_test: (627,)\n",
      "Source: ford, Shape: (17965, 9)\n",
      "\tX_train: (13473, 10)\n",
      "\tX_val: (2695, 10)\n",
      "\tX_test: (1797, 10)\n",
      "\ty_train: (13473,)\n",
      "\ty_val: (2695,)\n",
      "\ty_test: (1797,)\n",
      "Source: vw, Shape: (15157, 9)\n",
      "\tX_train: (11367, 10)\n",
      "\tX_val: (2274, 10)\n",
      "\tX_test: (1516, 10)\n",
      "\ty_train: (11367,)\n",
      "\ty_val: (2274,)\n",
      "\ty_test: (1516,)\n",
      "Source: audi, Shape: (10668, 9)\n",
      "\tX_train: (8001, 10)\n",
      "\tX_val: (1600, 10)\n",
      "\tX_test: (1067, 10)\n",
      "\ty_train: (8001,)\n",
      "\ty_val: (1600,)\n",
      "\ty_test: (1067,)\n",
      "Source: toyota, Shape: (6738, 9)\n",
      "\tX_train: (5053, 10)\n",
      "\tX_val: (1011, 10)\n",
      "\tX_test: (674, 10)\n",
      "\ty_train: (5053,)\n",
      "\ty_val: (1011,)\n",
      "\ty_test: (674,)\n",
      "Source: bmw, Shape: (10781, 9)\n",
      "\tX_train: (8085, 10)\n",
      "\tX_val: (1617, 10)\n",
      "\tX_test: (1079, 10)\n",
      "\ty_train: (8085,)\n",
      "\ty_val: (1617,)\n",
      "\ty_test: (1079,)\n",
      "Source: hyundai, Shape: (4860, 9)\n",
      "\tX_train: (3645, 10)\n",
      "\tX_val: (729, 10)\n",
      "\tX_test: (486, 10)\n",
      "\ty_train: (3645,)\n",
      "\ty_val: (729,)\n",
      "\ty_test: (486,)\n",
      "Source: mercedes, Shape: (13119, 9)\n",
      "\tX_train: (9839, 10)\n",
      "\tX_val: (1968, 10)\n",
      "\tX_test: (1312, 10)\n",
      "\ty_train: (9839,)\n",
      "\ty_val: (1968,)\n",
      "\ty_test: (1312,)\n",
      "Source: opel, Shape: (13632, 9)\n",
      "\tX_train: (10224, 10)\n",
      "\tX_val: (2044, 10)\n",
      "\tX_test: (1364, 10)\n",
      "\ty_train: (10224,)\n",
      "\ty_val: (2044,)\n",
      "\ty_test: (1364,)\n",
      "train_set:(74387, 10)\n",
      "val_set:(14878, 10)\n",
      "train_set:(9922, 10)\n",
      "\n"
     ]
    }
   ],
   "source": [
    "for brand, dataframe in all_df.items():\n",
    "    print(f\"Source: {brand}, Shape: {dataframe.shape}\")\n",
    "    # Add brand name as feature\n",
    "    all_df[brand]['brand'] = brand\n",
    "    \n",
    "    # merge column 'tax' and 'tax(£)'\n",
    "    if brand == 'hyundai':\n",
    "        all_df[brand]['tax'] = all_df[brand]['tax(£)']\n",
    "        all_df[brand].drop(labels='tax(£)',axis=1,inplace=True)\n",
    "\n",
    "    # sanitize `model` blank space\n",
    "    all_df[brand]['model'] = all_df[brand]['model'].str.strip()\n",
    "    # X = all_df[brand] because we keep the target for the EDA and we will drop it later \n",
    "    # using X = all_df[brand].drop(target)\n",
    "    X_train, X_val, X_test, _, _, _= beda.train_val_test_split(X=all_df[brand],\n",
    "                                                                               y=all_df[brand][target], \n",
    "                                                                               train_size=.75, \n",
    "                                                                               val_size=.15, \n",
    "                                                                               test_size=.1, \n",
    "                                                                               random_state=1,\n",
    "                                                                               show=True)\n",
    "    all_set_df = pd.concat([all_set_df,all_df[brand]])\n",
    "    all_df_train = pd.concat([all_df_train,X_train])\n",
    "    all_df_val = pd.concat([all_df_val,X_val])\n",
    "    all_df_test = pd.concat([all_df_test,X_test])\n",
    "\n",
    "print(f\"train_set:{all_df_train.shape}\\nval_set:{all_df_val.shape}\\ntrain_set:{all_df_test.shape}\\n\")"
   ]
  },
  {
   "cell_type": "code",
   "execution_count": 18,
   "id": "74c9151c",
   "metadata": {},
   "outputs": [
    {
     "data": {
      "text/plain": [
       "Index(['model', 'year', 'price', 'transmission', 'mileage', 'fuel_type', 'tax',\n",
       "       'mpg', 'engine_size', 'brand'],\n",
       "      dtype='object')"
      ]
     },
     "execution_count": 18,
     "metadata": {},
     "output_type": "execute_result"
    }
   ],
   "source": [
    "all_set_df.to_csv(join(directory,'all_set.csv'))\n",
    "all_set_df.columns"
   ]
  },
  {
   "cell_type": "code",
   "execution_count": 22,
   "id": "6f6a3e11",
   "metadata": {},
   "outputs": [],
   "source": [
    "\n",
    "all_df_train.to_csv(join(directory,'train_set.csv'))\n",
    "all_df_val.to_csv(join(directory,'val_set.csv'))\n",
    "all_df_test.to_csv(join(directory,'test_set.csv'))"
   ]
  }
 ],
 "metadata": {
  "kernelspec": {
   "display_name": "Python 3",
   "language": "python",
   "name": "python3"
  },
  "language_info": {
   "codemirror_mode": {
    "name": "ipython",
    "version": 3
   },
   "file_extension": ".py",
   "mimetype": "text/x-python",
   "name": "python",
   "nbconvert_exporter": "python",
   "pygments_lexer": "ipython3",
   "version": "3.8.11"
  },
  "toc": {
   "base_numbering": 1,
   "nav_menu": {},
   "number_sections": true,
   "sideBar": true,
   "skip_h1_title": false,
   "title_cell": "Table of Contents",
   "title_sidebar": "Contents",
   "toc_cell": false,
   "toc_position": {},
   "toc_section_display": true,
   "toc_window_display": false
  }
 },
 "nbformat": 4,
 "nbformat_minor": 5
}
