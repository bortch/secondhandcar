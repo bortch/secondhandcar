{
 "cells": [
  {
   "cell_type": "code",
   "execution_count": 1,
   "id": "3d2a4611",
   "metadata": {},
   "outputs": [],
   "source": [
    "# autoreload reloads modules automatically before entering the execution of code typed at the IPython prompt.\n",
    "%load_ext autoreload\n",
    "%autoreload 2\n",
    "%aimport bs_eda"
   ]
  },
  {
   "cell_type": "code",
   "execution_count": 2,
   "id": "16630d9e",
   "metadata": {},
   "outputs": [],
   "source": [
    "import pandas as pd\n",
    "import numpy as np\n",
    "import bs_eda as beda"
   ]
  },
  {
   "cell_type": "markdown",
   "id": "2d107192",
   "metadata": {},
   "source": [
    "## Création du dataset\n",
    "\n",
    "Chargement et fusion des fichiers csv en un unique dataset"
   ]
  },
  {
   "cell_type": "code",
   "execution_count": 27,
   "id": "5271629f",
   "metadata": {},
   "outputs": [
    {
     "name": "stdout",
     "output_type": "stream",
     "text": [
      "loading:['dataset/skoda.csv', 'dataset/ford.csv', 'dataset/vw.csv', 'dataset/audi.csv', 'dataset/toyota.csv', 'dataset/bmw.csv', 'dataset/hyundi.csv', 'dataset/merc.csv', 'dataset/vauxhall.csv']\n",
      "Parsing dataset/skoda.csv\n",
      "Parsing dataset/ford.csv\n",
      "Parsing dataset/vw.csv\n",
      "Parsing dataset/audi.csv\n",
      "Parsing dataset/toyota.csv\n",
      "Parsing dataset/bmw.csv\n",
      "Parsing dataset/hyundi.csv\n",
      "Parsing dataset/merc.csv\n",
      "Parsing dataset/vauxhall.csv\n",
      "skoda (6267, 9)\n",
      "ford (17965, 9)\n",
      "vw (15157, 9)\n",
      "audi (10668, 9)\n",
      "toyota (6738, 9)\n",
      "bmw (10781, 9)\n",
      "hyundai (4860, 9)\n",
      "mercedes (13119, 9)\n",
      "opel (13632, 9)\n",
      "<class 'pandas.core.frame.DataFrame'>\n",
      "Int64Index: 99187 entries, 0 to 13631\n",
      "Data columns (total 10 columns):\n",
      " #   Column        Non-Null Count  Dtype  \n",
      "---  ------        --------------  -----  \n",
      " 0   model         99187 non-null  object \n",
      " 1   year          99187 non-null  int64  \n",
      " 2   price         99187 non-null  int64  \n",
      " 3   transmission  99187 non-null  object \n",
      " 4   mileage       99187 non-null  int64  \n",
      " 5   fuel_type     99187 non-null  object \n",
      " 6   tax           99187 non-null  float64\n",
      " 7   mpg           99187 non-null  float64\n",
      " 8   engine_size   99187 non-null  float64\n",
      " 9   brand         99187 non-null  object \n",
      "dtypes: float64(3), int64(3), object(4)\n",
      "memory usage: 8.3+ MB\n"
     ]
    }
   ],
   "source": [
    "file_to_exclude = [\"unclean focus.csv\",\"unclean cclass.csv\",\"focus.csv\",\"cclass.csv\"]\n",
    "\n",
    "all_df = beda.load_all_csv(dataset_path=\"dataset\", exclude=file_to_exclude)\n",
    "\n",
    "# brand typo correction\n",
    "all_df['hyundai'] = all_df.pop('hyundi')\n",
    "all_df['mercedes'] = all_df.pop('merc')\n",
    "all_df['opel'] = all_df.pop('vauxhall')\n",
    "\n",
    "# add brands name to each dataframe\n",
    "for brand, dataframe in all_df.items():\n",
    "    print(brand,dataframe.shape)\n",
    "    all_df[brand]['brand'] = brand\n",
    "\n",
    "data = pd.concat(all_df.values())\n",
    "# merge column 'tax' and 'tax(£)'\n",
    "data['tax'] = data['tax'].combine_first(data['tax(£)'])\n",
    "data.drop(labels='tax(£)',axis=1,inplace=True)\n",
    "\n",
    "# sanitize model blank space\n",
    "data['model'] = data['model'].str.strip()\n",
    "data.info()\n"
   ]
  },
  {
   "cell_type": "code",
   "execution_count": 28,
   "id": "6c041141",
   "metadata": {},
   "outputs": [],
   "source": [
    "data.to_csv('all_brands.csv')"
   ]
  },
  {
   "cell_type": "code",
   "execution_count": null,
   "id": "6f6a3e11",
   "metadata": {},
   "outputs": [],
   "source": []
  }
 ],
 "metadata": {
  "kernelspec": {
   "display_name": "Python 3",
   "language": "python",
   "name": "python3"
  },
  "language_info": {
   "codemirror_mode": {
    "name": "ipython",
    "version": 3
   },
   "file_extension": ".py",
   "mimetype": "text/x-python",
   "name": "python",
   "nbconvert_exporter": "python",
   "pygments_lexer": "ipython3",
   "version": "3.8.11"
  },
  "toc": {
   "base_numbering": 1,
   "nav_menu": {},
   "number_sections": true,
   "sideBar": true,
   "skip_h1_title": false,
   "title_cell": "Table of Contents",
   "title_sidebar": "Contents",
   "toc_cell": false,
   "toc_position": {},
   "toc_section_display": true,
   "toc_window_display": false
  }
 },
 "nbformat": 4,
 "nbformat_minor": 5
}
