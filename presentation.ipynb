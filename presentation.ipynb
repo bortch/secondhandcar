{
 "cells": [
  {
   "cell_type": "markdown",
   "id": "5ecade9c",
   "metadata": {},
   "source": [
    "## Description\n",
    "\n",
    "### Objectif"
   ]
  },
  {
   "cell_type": "markdown",
   "id": "10afd5d3",
   "metadata": {},
   "source": [
    "## Modèle"
   ]
  },
  {
   "cell_type": "markdown",
   "id": "94dea49a",
   "metadata": {},
   "source": [
    "### Résultats"
   ]
  },
  {
   "cell_type": "markdown",
   "id": "df73bc7a",
   "metadata": {},
   "source": [
    "### Méthode"
   ]
  },
  {
   "cell_type": "markdown",
   "id": "65aad4a4",
   "metadata": {},
   "source": []
  }
 ],
 "metadata": {
  "kernelspec": {
   "display_name": "Python 3",
   "language": "python",
   "name": "python3"
  },
  "language_info": {
   "codemirror_mode": {
    "name": "ipython",
    "version": 3
   },
   "file_extension": ".py",
   "mimetype": "text/x-python",
   "name": "python",
   "nbconvert_exporter": "python",
   "pygments_lexer": "ipython3",
   "version": "3.8.11"
  },
  "toc": {
   "base_numbering": 1,
   "nav_menu": {},
   "number_sections": true,
   "sideBar": true,
   "skip_h1_title": false,
   "title_cell": "Table of Contents",
   "title_sidebar": "Contents",
   "toc_cell": false,
   "toc_position": {},
   "toc_section_display": true,
   "toc_window_display": false
  }
 },
 "nbformat": 4,
 "nbformat_minor": 5
}
