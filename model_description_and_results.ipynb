{
 "cells": [
  {
   "cell_type": "code",
   "execution_count": 70,
   "id": "1a7bb67f",
   "metadata": {},
   "outputs": [],
   "source": [
    "# autoreload reloads modules automatically before entering the execution of code typed at the IPython prompt.\n",
    "%reload_ext autoreload\n",
    "%autoreload 2\n",
    "%aimport feature_preprocessing_pipeline"
   ]
  },
  {
   "cell_type": "code",
   "execution_count": 92,
   "id": "c30d3dbb",
   "metadata": {},
   "outputs": [],
   "source": [
    "from sklearn import set_config\n",
    "from os.path import join, isfile\n",
    "from joblib import dump, load\n",
    "from feature_preprocessing_pipeline import categorize, extract_features, clean_variables, evaluate_prediction\n",
    "from sklearn import tree\n",
    "import matplotlib.pyplot as plt\n",
    "import pandas as pd\n",
    "import numpy as np"
   ]
  },
  {
   "cell_type": "code",
   "execution_count": 37,
   "id": "799b2867",
   "metadata": {},
   "outputs": [],
   "source": [
    "set_config(display='diagram') "
   ]
  },
  {
   "cell_type": "code",
   "execution_count": 38,
   "id": "38116cba",
   "metadata": {},
   "outputs": [],
   "source": [
    "dataset_directory_path = 'dataset/'\n",
    "model_directory_path = 'model/'"
   ]
  },
  {
   "cell_type": "code",
   "execution_count": 56,
   "id": "51e30144",
   "metadata": {},
   "outputs": [],
   "source": [
    "model_name = 'model_RMSE-678'\n",
    "model_filename = f'{model_name}.joblib'\n",
    "model_path = join(model_directory_path, model_filename)\n",
    "model = load(model_path)"
   ]
  },
  {
   "cell_type": "code",
   "execution_count": 66,
   "id": "8eb71f4a",
   "metadata": {},
   "outputs": [],
   "source": [
    "test_set_file = 'test_set.csv'\n",
    "train_set_file = 'train_set.csv'\n",
    "\n",
    "def get_data(file_path, target_column,dataset_directory_path='./dataset/', sample=None, callback=None):\n",
    "    data = pd.read_csv(join(dataset_directory_path, file_path), index_col=0)\n",
    "    if callback:\n",
    "        data = callback(data)\n",
    "    if sample:\n",
    "        data = data.sample(n=sample)\n",
    "    X = data.drop(labels=[target_column], axis=1)\n",
    "    y = np.log(data[target_column])\n",
    "    return X,y\n"
   ]
  },
  {
   "cell_type": "markdown",
   "id": "5e1f1e53",
   "metadata": {},
   "source": [
    "## Model "
   ]
  },
  {
   "cell_type": "markdown",
   "id": "fe8b84c1",
   "metadata": {},
   "source": [
    "### Variables"
   ]
  },
  {
   "cell_type": "code",
   "execution_count": 57,
   "id": "3d36fe55",
   "metadata": {},
   "outputs": [
    {
     "name": "stdout",
     "output_type": "stream",
     "text": [
      "Le model RandomForestRegressor(n_estimators=500, n_jobs=-1) a 251 variables\n"
     ]
    }
   ],
   "source": [
    "rfr = model[2]\n",
    "print(f\"Le model {rfr} a {rfr.n_features_in_} variables\")"
   ]
  },
  {
   "cell_type": "markdown",
   "id": "7da28f85",
   "metadata": {},
   "source": [
    "### Diagramme"
   ]
  },
  {
   "cell_type": "code",
   "execution_count": 58,
   "id": "ad9ea6e2",
   "metadata": {
    "scrolled": false
   },
   "outputs": [
    {
     "data": {
      "text/html": [
       "<style>#sk-accef925-4e39-41ac-afe4-9ba79a219c31 {color: black;background-color: white;}#sk-accef925-4e39-41ac-afe4-9ba79a219c31 pre{padding: 0;}#sk-accef925-4e39-41ac-afe4-9ba79a219c31 div.sk-toggleable {background-color: white;}#sk-accef925-4e39-41ac-afe4-9ba79a219c31 label.sk-toggleable__label {cursor: pointer;display: block;width: 100%;margin-bottom: 0;padding: 0.2em 0.3em;box-sizing: border-box;text-align: center;}#sk-accef925-4e39-41ac-afe4-9ba79a219c31 div.sk-toggleable__content {max-height: 0;max-width: 0;overflow: hidden;text-align: left;background-color: #f0f8ff;}#sk-accef925-4e39-41ac-afe4-9ba79a219c31 div.sk-toggleable__content pre {margin: 0.2em;color: black;border-radius: 0.25em;background-color: #f0f8ff;}#sk-accef925-4e39-41ac-afe4-9ba79a219c31 input.sk-toggleable__control:checked~div.sk-toggleable__content {max-height: 200px;max-width: 100%;overflow: auto;}#sk-accef925-4e39-41ac-afe4-9ba79a219c31 div.sk-estimator input.sk-toggleable__control:checked~label.sk-toggleable__label {background-color: #d4ebff;}#sk-accef925-4e39-41ac-afe4-9ba79a219c31 div.sk-label input.sk-toggleable__control:checked~label.sk-toggleable__label {background-color: #d4ebff;}#sk-accef925-4e39-41ac-afe4-9ba79a219c31 input.sk-hidden--visually {border: 0;clip: rect(1px 1px 1px 1px);clip: rect(1px, 1px, 1px, 1px);height: 1px;margin: -1px;overflow: hidden;padding: 0;position: absolute;width: 1px;}#sk-accef925-4e39-41ac-afe4-9ba79a219c31 div.sk-estimator {font-family: monospace;background-color: #f0f8ff;margin: 0.25em 0.25em;border: 1px dotted black;border-radius: 0.25em;box-sizing: border-box;}#sk-accef925-4e39-41ac-afe4-9ba79a219c31 div.sk-estimator:hover {background-color: #d4ebff;}#sk-accef925-4e39-41ac-afe4-9ba79a219c31 div.sk-parallel-item::after {content: \"\";width: 100%;border-bottom: 1px solid gray;flex-grow: 1;}#sk-accef925-4e39-41ac-afe4-9ba79a219c31 div.sk-label:hover label.sk-toggleable__label {background-color: #d4ebff;}#sk-accef925-4e39-41ac-afe4-9ba79a219c31 div.sk-serial::before {content: \"\";position: absolute;border-left: 1px solid gray;box-sizing: border-box;top: 2em;bottom: 0;left: 50%;}#sk-accef925-4e39-41ac-afe4-9ba79a219c31 div.sk-serial {display: flex;flex-direction: column;align-items: center;background-color: white;}#sk-accef925-4e39-41ac-afe4-9ba79a219c31 div.sk-item {z-index: 1;}#sk-accef925-4e39-41ac-afe4-9ba79a219c31 div.sk-parallel {display: flex;align-items: stretch;justify-content: center;background-color: white;}#sk-accef925-4e39-41ac-afe4-9ba79a219c31 div.sk-parallel-item {display: flex;flex-direction: column;position: relative;background-color: white;}#sk-accef925-4e39-41ac-afe4-9ba79a219c31 div.sk-parallel-item:first-child::after {align-self: flex-end;width: 50%;}#sk-accef925-4e39-41ac-afe4-9ba79a219c31 div.sk-parallel-item:last-child::after {align-self: flex-start;width: 50%;}#sk-accef925-4e39-41ac-afe4-9ba79a219c31 div.sk-parallel-item:only-child::after {width: 0;}#sk-accef925-4e39-41ac-afe4-9ba79a219c31 div.sk-dashed-wrapped {border: 1px dashed gray;margin: 0.2em;box-sizing: border-box;padding-bottom: 0.1em;background-color: white;position: relative;}#sk-accef925-4e39-41ac-afe4-9ba79a219c31 div.sk-label label {font-family: monospace;font-weight: bold;background-color: white;display: inline-block;line-height: 1.2em;}#sk-accef925-4e39-41ac-afe4-9ba79a219c31 div.sk-label-container {position: relative;z-index: 2;text-align: center;}#sk-accef925-4e39-41ac-afe4-9ba79a219c31 div.sk-container {display: inline-block;position: relative;}</style><div id=\"sk-accef925-4e39-41ac-afe4-9ba79a219c31\" class\"sk-top-container\"><div class=\"sk-container\"><div class=\"sk-item sk-dashed-wrapped\"><div class=\"sk-label-container\"><div class=\"sk-label sk-toggleable\"><input class=\"sk-toggleable__control sk-hidden--visually\" id=\"ec2c4bf4-1d6f-4f73-96d3-45719210676d\" type=\"checkbox\" ><label class=\"sk-toggleable__label\" for=\"ec2c4bf4-1d6f-4f73-96d3-45719210676d\">Pipeline</label><div class=\"sk-toggleable__content\"><pre>Pipeline(steps=[('Features Extraction',\n",
       "                 FunctionTransformer(func=<function extract_features at 0x7fbafb078f70>)),\n",
       "                ('Columns Transformer',\n",
       "                 ColumnTransformer(remainder='passthrough',\n",
       "                                   transformers=[('Poly features Creator',\n",
       "                                                  Pipeline(steps=[('Polynomial '\n",
       "                                                                   'Features',\n",
       "                                                                   PolynomialFeatures(degree=3,\n",
       "                                                                                      include_bias=False,\n",
       "                                                                                      interaction_only=True))],\n",
       "                                                           verbose=True),\n",
       "                                                  <sklearn.compos...\n",
       "                                                                                  unknown_value=nan))],\n",
       "                                                           verbose=True),\n",
       "                                                  ['transmission',\n",
       "                                                   'fuel_type']),\n",
       "                                                 (\"'Brand' OHE\",\n",
       "                                                  Pipeline(steps=[('Categorizer',\n",
       "                                                                   FunctionTransformer(func=<function categorize at 0x7fbb01216c10>)),\n",
       "                                                                  ('OHE',\n",
       "                                                                   OneHotEncoder(handle_unknown='ignore'))],\n",
       "                                                           verbose=True),\n",
       "                                                  ['brand'])],\n",
       "                                   verbose=True)),\n",
       "                ('Random Forest Regressor',\n",
       "                 RandomForestRegressor(n_estimators=500, n_jobs=-1))],\n",
       "         verbose=True)</pre></div></div></div><div class=\"sk-serial\"><div class=\"sk-item\"><div class=\"sk-estimator sk-toggleable\"><input class=\"sk-toggleable__control sk-hidden--visually\" id=\"0dbe5c96-d6e1-4204-b96f-52798195f4fe\" type=\"checkbox\" ><label class=\"sk-toggleable__label\" for=\"0dbe5c96-d6e1-4204-b96f-52798195f4fe\">FunctionTransformer</label><div class=\"sk-toggleable__content\"><pre>FunctionTransformer(func=<function extract_features at 0x7fbafb078f70>)</pre></div></div></div><div class=\"sk-item sk-dashed-wrapped\"><div class=\"sk-label-container\"><div class=\"sk-label sk-toggleable\"><input class=\"sk-toggleable__control sk-hidden--visually\" id=\"94415150-40d9-43ca-be23-110bc74dc919\" type=\"checkbox\" ><label class=\"sk-toggleable__label\" for=\"94415150-40d9-43ca-be23-110bc74dc919\">Columns Transformer: ColumnTransformer</label><div class=\"sk-toggleable__content\"><pre>ColumnTransformer(remainder='passthrough',\n",
       "                  transformers=[('Poly features Creator',\n",
       "                                 Pipeline(steps=[('Polynomial Features',\n",
       "                                                  PolynomialFeatures(degree=3,\n",
       "                                                                     include_bias=False,\n",
       "                                                                     interaction_only=True))],\n",
       "                                          verbose=True),\n",
       "                                 <sklearn.compose._column_transformer.make_column_selector object at 0x7fbaf4987760>),\n",
       "                                (\"'mileage' to Float Converter\",\n",
       "                                 TypeConverter(), ['mileage']),\n",
       "                                (\"'mpg'...\n",
       "                                                  FunctionTransformer(func=<function categorize at 0x7fbb01216c10>)),\n",
       "                                                 ('Ordinal Encoder',\n",
       "                                                  OrdinalEncoder(handle_unknown='use_encoded_value',\n",
       "                                                                 unknown_value=nan))],\n",
       "                                          verbose=True),\n",
       "                                 ['transmission', 'fuel_type']),\n",
       "                                (\"'Brand' OHE\",\n",
       "                                 Pipeline(steps=[('Categorizer',\n",
       "                                                  FunctionTransformer(func=<function categorize at 0x7fbb01216c10>)),\n",
       "                                                 ('OHE',\n",
       "                                                  OneHotEncoder(handle_unknown='ignore'))],\n",
       "                                          verbose=True),\n",
       "                                 ['brand'])],\n",
       "                  verbose=True)</pre></div></div></div><div class=\"sk-parallel\"><div class=\"sk-parallel-item\"><div class=\"sk-item\"><div class=\"sk-label-container\"><div class=\"sk-label sk-toggleable\"><input class=\"sk-toggleable__control sk-hidden--visually\" id=\"9d9e9dd4-eee9-4d76-a4c9-ea1b69016bc4\" type=\"checkbox\" ><label class=\"sk-toggleable__label\" for=\"9d9e9dd4-eee9-4d76-a4c9-ea1b69016bc4\">Poly features Creator</label><div class=\"sk-toggleable__content\"><pre><sklearn.compose._column_transformer.make_column_selector object at 0x7fbaf4987760></pre></div></div></div><div class=\"sk-serial\"><div class=\"sk-item\"><div class=\"sk-serial\"><div class=\"sk-item\"><div class=\"sk-estimator sk-toggleable\"><input class=\"sk-toggleable__control sk-hidden--visually\" id=\"b53c4e04-a6a9-41be-a6e1-80389396e9e9\" type=\"checkbox\" ><label class=\"sk-toggleable__label\" for=\"b53c4e04-a6a9-41be-a6e1-80389396e9e9\">PolynomialFeatures</label><div class=\"sk-toggleable__content\"><pre>PolynomialFeatures(degree=3, include_bias=False, interaction_only=True)</pre></div></div></div></div></div></div></div></div><div class=\"sk-parallel-item\"><div class=\"sk-item\"><div class=\"sk-label-container\"><div class=\"sk-label sk-toggleable\"><input class=\"sk-toggleable__control sk-hidden--visually\" id=\"2370e26f-e882-49a1-ae80-d397dce28946\" type=\"checkbox\" ><label class=\"sk-toggleable__label\" for=\"2370e26f-e882-49a1-ae80-d397dce28946\">&#x27;mileage&#x27; to Float Converter</label><div class=\"sk-toggleable__content\"><pre>['mileage']</pre></div></div></div><div class=\"sk-serial\"><div class=\"sk-item\"><div class=\"sk-estimator sk-toggleable\"><input class=\"sk-toggleable__control sk-hidden--visually\" id=\"e194a289-1508-42c7-964e-85d367162d73\" type=\"checkbox\" ><label class=\"sk-toggleable__label\" for=\"e194a289-1508-42c7-964e-85d367162d73\">TypeConverter</label><div class=\"sk-toggleable__content\"><pre>TypeConverter()</pre></div></div></div></div></div></div><div class=\"sk-parallel-item\"><div class=\"sk-item\"><div class=\"sk-label-container\"><div class=\"sk-label sk-toggleable\"><input class=\"sk-toggleable__control sk-hidden--visually\" id=\"9fdbbc06-3d0e-40ab-ade0-fff989491ff2\" type=\"checkbox\" ><label class=\"sk-toggleable__label\" for=\"9fdbbc06-3d0e-40ab-ade0-fff989491ff2\">&#x27;mpg&#x27; Discretizer</label><div class=\"sk-toggleable__content\"><pre>['mpg']</pre></div></div></div><div class=\"sk-serial\"><div class=\"sk-item\"><div class=\"sk-estimator sk-toggleable\"><input class=\"sk-toggleable__control sk-hidden--visually\" id=\"8faba1b1-0d1b-403d-b87d-34e9881792e9\" type=\"checkbox\" ><label class=\"sk-toggleable__label\" for=\"8faba1b1-0d1b-403d-b87d-34e9881792e9\">KBinsDiscretizer</label><div class=\"sk-toggleable__content\"><pre>KBinsDiscretizer(n_bins=6, strategy='kmeans')</pre></div></div></div></div></div></div><div class=\"sk-parallel-item\"><div class=\"sk-item\"><div class=\"sk-label-container\"><div class=\"sk-label sk-toggleable\"><input class=\"sk-toggleable__control sk-hidden--visually\" id=\"e05faf31-c95e-46da-b6a9-372c5d0d78ab\" type=\"checkbox\" ><label class=\"sk-toggleable__label\" for=\"e05faf31-c95e-46da-b6a9-372c5d0d78ab\">&#x27;engine_size&#x27; Discretizer</label><div class=\"sk-toggleable__content\"><pre>['engine_size']</pre></div></div></div><div class=\"sk-serial\"><div class=\"sk-item\"><div class=\"sk-estimator sk-toggleable\"><input class=\"sk-toggleable__control sk-hidden--visually\" id=\"0f2d3548-a45b-452d-9dd9-b4085c985432\" type=\"checkbox\" ><label class=\"sk-toggleable__label\" for=\"0f2d3548-a45b-452d-9dd9-b4085c985432\">KBinsDiscretizer</label><div class=\"sk-toggleable__content\"><pre>KBinsDiscretizer(encode='ordinal', n_bins=4, strategy='kmeans')</pre></div></div></div></div></div></div><div class=\"sk-parallel-item\"><div class=\"sk-item\"><div class=\"sk-label-container\"><div class=\"sk-label sk-toggleable\"><input class=\"sk-toggleable__control sk-hidden--visually\" id=\"d0625f04-f0ac-4830-8ef8-ea2ab809349f\" type=\"checkbox\" ><label class=\"sk-toggleable__label\" for=\"d0625f04-f0ac-4830-8ef8-ea2ab809349f\">&#x27;tax&#x27; Discretizer</label><div class=\"sk-toggleable__content\"><pre>['tax']</pre></div></div></div><div class=\"sk-serial\"><div class=\"sk-item\"><div class=\"sk-estimator sk-toggleable\"><input class=\"sk-toggleable__control sk-hidden--visually\" id=\"81846bd8-bba9-4c8e-9062-0f8e94cf173b\" type=\"checkbox\" ><label class=\"sk-toggleable__label\" for=\"81846bd8-bba9-4c8e-9062-0f8e94cf173b\">KBinsDiscretizer</label><div class=\"sk-toggleable__content\"><pre>KBinsDiscretizer(encode='ordinal', n_bins=9, strategy='kmeans')</pre></div></div></div></div></div></div><div class=\"sk-parallel-item\"><div class=\"sk-item\"><div class=\"sk-label-container\"><div class=\"sk-label sk-toggleable\"><input class=\"sk-toggleable__control sk-hidden--visually\" id=\"21cffc82-a069-4e43-9ba5-478cf6240f94\" type=\"checkbox\" ><label class=\"sk-toggleable__label\" for=\"21cffc82-a069-4e43-9ba5-478cf6240f94\">Drop Colinear Variables</label><div class=\"sk-toggleable__content\"><pre>['model', 'year']</pre></div></div></div><div class=\"sk-serial\"><div class=\"sk-item\"><div class=\"sk-estimator sk-toggleable\"><input class=\"sk-toggleable__control sk-hidden--visually\" id=\"03e25b77-84e0-441c-9654-798004e11f52\" type=\"checkbox\" ><label class=\"sk-toggleable__label\" for=\"03e25b77-84e0-441c-9654-798004e11f52\">drop</label><div class=\"sk-toggleable__content\"><pre>drop</pre></div></div></div></div></div></div><div class=\"sk-parallel-item\"><div class=\"sk-item\"><div class=\"sk-label-container\"><div class=\"sk-label sk-toggleable\"><input class=\"sk-toggleable__control sk-hidden--visually\" id=\"5260cda0-e8e0-4dff-8c26-57322d471604\" type=\"checkbox\" ><label class=\"sk-toggleable__label\" for=\"5260cda0-e8e0-4dff-8c26-57322d471604\">&#x27;Transmission&#x27;, &#x27;Fuel&#x27; Ordinal Encoder</label><div class=\"sk-toggleable__content\"><pre>['transmission', 'fuel_type']</pre></div></div></div><div class=\"sk-serial\"><div class=\"sk-item\"><div class=\"sk-serial\"><div class=\"sk-item\"><div class=\"sk-estimator sk-toggleable\"><input class=\"sk-toggleable__control sk-hidden--visually\" id=\"9579ad4f-f498-49a5-a5a1-92824a5de9a6\" type=\"checkbox\" ><label class=\"sk-toggleable__label\" for=\"9579ad4f-f498-49a5-a5a1-92824a5de9a6\">FunctionTransformer</label><div class=\"sk-toggleable__content\"><pre>FunctionTransformer(func=<function categorize at 0x7fbb01216c10>)</pre></div></div></div><div class=\"sk-item\"><div class=\"sk-estimator sk-toggleable\"><input class=\"sk-toggleable__control sk-hidden--visually\" id=\"a9e75469-c9df-4291-bea8-f0fbbce8abb7\" type=\"checkbox\" ><label class=\"sk-toggleable__label\" for=\"a9e75469-c9df-4291-bea8-f0fbbce8abb7\">OrdinalEncoder</label><div class=\"sk-toggleable__content\"><pre>OrdinalEncoder(handle_unknown='use_encoded_value', unknown_value=nan)</pre></div></div></div></div></div></div></div></div><div class=\"sk-parallel-item\"><div class=\"sk-item\"><div class=\"sk-label-container\"><div class=\"sk-label sk-toggleable\"><input class=\"sk-toggleable__control sk-hidden--visually\" id=\"c011c986-3831-4649-88b0-565f9304a1f0\" type=\"checkbox\" ><label class=\"sk-toggleable__label\" for=\"c011c986-3831-4649-88b0-565f9304a1f0\">&#x27;Brand&#x27; OHE</label><div class=\"sk-toggleable__content\"><pre>['brand']</pre></div></div></div><div class=\"sk-serial\"><div class=\"sk-item\"><div class=\"sk-serial\"><div class=\"sk-item\"><div class=\"sk-estimator sk-toggleable\"><input class=\"sk-toggleable__control sk-hidden--visually\" id=\"17574b55-180f-4a8b-a6bf-9256910fcd8a\" type=\"checkbox\" ><label class=\"sk-toggleable__label\" for=\"17574b55-180f-4a8b-a6bf-9256910fcd8a\">FunctionTransformer</label><div class=\"sk-toggleable__content\"><pre>FunctionTransformer(func=<function categorize at 0x7fbb01216c10>)</pre></div></div></div><div class=\"sk-item\"><div class=\"sk-estimator sk-toggleable\"><input class=\"sk-toggleable__control sk-hidden--visually\" id=\"2d70304e-f00b-4749-b5cb-74023ddb3a5a\" type=\"checkbox\" ><label class=\"sk-toggleable__label\" for=\"2d70304e-f00b-4749-b5cb-74023ddb3a5a\">OneHotEncoder</label><div class=\"sk-toggleable__content\"><pre>OneHotEncoder(handle_unknown='ignore')</pre></div></div></div></div></div></div></div></div><div class=\"sk-parallel-item\"><div class=\"sk-item\"><div class=\"sk-label-container\"><div class=\"sk-label sk-toggleable\"><input class=\"sk-toggleable__control sk-hidden--visually\" id=\"9781e8d5-ca50-4df9-b471-4044d7e6747c\" type=\"checkbox\" ><label class=\"sk-toggleable__label\" for=\"9781e8d5-ca50-4df9-b471-4044d7e6747c\">remainder</label><div class=\"sk-toggleable__content\"><pre>[['model', 'year', 'transmission', 'mileage', 'fuel_type', 'tax', 'mpg', 'engine_size', 'brand', 'age', 'mileage_per_year', 'galon_per_year', 'tax_per_mileage', 'litre_per_mileage', 'litre_per_galon']]</pre></div></div></div><div class=\"sk-serial\"><div class=\"sk-item\"><div class=\"sk-estimator sk-toggleable\"><input class=\"sk-toggleable__control sk-hidden--visually\" id=\"eab08536-87b7-40a0-aca8-a79f3f553778\" type=\"checkbox\" ><label class=\"sk-toggleable__label\" for=\"eab08536-87b7-40a0-aca8-a79f3f553778\">passthrough</label><div class=\"sk-toggleable__content\"><pre>passthrough</pre></div></div></div></div></div></div></div></div><div class=\"sk-item\"><div class=\"sk-estimator sk-toggleable\"><input class=\"sk-toggleable__control sk-hidden--visually\" id=\"2b405041-9b09-43f2-b93d-802c5723652a\" type=\"checkbox\" ><label class=\"sk-toggleable__label\" for=\"2b405041-9b09-43f2-b93d-802c5723652a\">RandomForestRegressor</label><div class=\"sk-toggleable__content\"><pre>RandomForestRegressor(n_estimators=500, n_jobs=-1)</pre></div></div></div></div></div></div></div>"
      ],
      "text/plain": [
       "Pipeline(steps=[('Features Extraction',\n",
       "                 FunctionTransformer(func=<function extract_features at 0x7fbafb078f70>)),\n",
       "                ('Columns Transformer',\n",
       "                 ColumnTransformer(remainder='passthrough',\n",
       "                                   transformers=[('Poly features Creator',\n",
       "                                                  Pipeline(steps=[('Polynomial '\n",
       "                                                                   'Features',\n",
       "                                                                   PolynomialFeatures(degree=3,\n",
       "                                                                                      include_bias=False,\n",
       "                                                                                      interaction_only=True))],\n",
       "                                                           verbose=True),\n",
       "                                                  <sklearn.compos...\n",
       "                                                                                  unknown_value=nan))],\n",
       "                                                           verbose=True),\n",
       "                                                  ['transmission',\n",
       "                                                   'fuel_type']),\n",
       "                                                 (\"'Brand' OHE\",\n",
       "                                                  Pipeline(steps=[('Categorizer',\n",
       "                                                                   FunctionTransformer(func=<function categorize at 0x7fbb01216c10>)),\n",
       "                                                                  ('OHE',\n",
       "                                                                   OneHotEncoder(handle_unknown='ignore'))],\n",
       "                                                           verbose=True),\n",
       "                                                  ['brand'])],\n",
       "                                   verbose=True)),\n",
       "                ('Random Forest Regressor',\n",
       "                 RandomForestRegressor(n_estimators=500, n_jobs=-1))],\n",
       "         verbose=True)"
      ]
     },
     "execution_count": 58,
     "metadata": {},
     "output_type": "execute_result"
    }
   ],
   "source": [
    "model"
   ]
  },
  {
   "cell_type": "raw",
   "id": "c9a88483",
   "metadata": {},
   "source": [
    "[Pipeline]      (step 1 of 3) Processing Features Extraction,          total=   0.1s\n",
    "[Pipeline]      (step 1 of 1) Processing Polynomial Features,          total=   0.4s\n",
    "[ColumnTransformer]  (1 of 7) Processing Poly features Creator,        total=   0.4s\n",
    "[ColumnTransformer]  (2 of 7) Processing 'mileage' to Float Converter, total=   0.0s\n",
    "[ColumnTransformer]  (3 of 7) Processing 'mpg' Discretizer,            total=   0.2s\n",
    "[ColumnTransformer]  (4 of 7) Processing 'engine_size' Discretizer,    total=   0.1s\n",
    "[ColumnTransformer]  (5 of 7) Processing 'tax' Discretizer,            total=   0.1s\n",
    "[Pipeline] .... (step 1 of 2) Processing Categorizer,                  total=   0.0s\n",
    "[Pipeline] .... (step 2 of 2) Processing Ordinal Encoder,              total=   0.0s\n",
    "[ColumnTransformer]  (6 of 7) Processing 'Transmission', 'Fuel' Ordinal Encoder, total=   0.1s\n",
    "[Pipeline] .... (step 1 of 2) Processing Categorizer,                  total=   0.0s\n",
    "[Pipeline] .... (step 2 of 2) Processing OHE,                          total=   0.0s\n",
    "[ColumnTransformer]  (7 of 7) Processing 'Brand' OHE,                  total=   0.0s\n",
    "[Pipeline]      (step 2 of 3) Processing Columns Transformer,          total=   1.0s\n",
    "[Pipeline]      (step 3 of 3) Processing Random Forest Regressor,      total=56.5min"
   ]
  },
  {
   "cell_type": "markdown",
   "id": "a8a1ff11",
   "metadata": {},
   "source": [
    "## Learning Curve\n",
    "\n",
    "![Learning curve](./Learning_curve_model_677.png)\n",
    "\n",
    "Le premier graphique montre la courbe d'apprentissage.\n",
    "\n",
    "Le deuxième graphique montre le temps nécessaire aux modèles pour s'entraîner avec différentes tailles de données d'entraînement. \n",
    "\n",
    "Le troisième graphique montre le temps nécessaire à l'entraînement des modèles pour chaque taille de données d'entraînement."
   ]
  },
  {
   "cell_type": "code",
   "execution_count": 59,
   "id": "4a7d5679",
   "metadata": {},
   "outputs": [
    {
     "data": {
      "text/html": [
       "<style>#sk-967adf1e-de32-4f9d-854d-ffad7cc6106f {color: black;background-color: white;}#sk-967adf1e-de32-4f9d-854d-ffad7cc6106f pre{padding: 0;}#sk-967adf1e-de32-4f9d-854d-ffad7cc6106f div.sk-toggleable {background-color: white;}#sk-967adf1e-de32-4f9d-854d-ffad7cc6106f label.sk-toggleable__label {cursor: pointer;display: block;width: 100%;margin-bottom: 0;padding: 0.2em 0.3em;box-sizing: border-box;text-align: center;}#sk-967adf1e-de32-4f9d-854d-ffad7cc6106f div.sk-toggleable__content {max-height: 0;max-width: 0;overflow: hidden;text-align: left;background-color: #f0f8ff;}#sk-967adf1e-de32-4f9d-854d-ffad7cc6106f div.sk-toggleable__content pre {margin: 0.2em;color: black;border-radius: 0.25em;background-color: #f0f8ff;}#sk-967adf1e-de32-4f9d-854d-ffad7cc6106f input.sk-toggleable__control:checked~div.sk-toggleable__content {max-height: 200px;max-width: 100%;overflow: auto;}#sk-967adf1e-de32-4f9d-854d-ffad7cc6106f div.sk-estimator input.sk-toggleable__control:checked~label.sk-toggleable__label {background-color: #d4ebff;}#sk-967adf1e-de32-4f9d-854d-ffad7cc6106f div.sk-label input.sk-toggleable__control:checked~label.sk-toggleable__label {background-color: #d4ebff;}#sk-967adf1e-de32-4f9d-854d-ffad7cc6106f input.sk-hidden--visually {border: 0;clip: rect(1px 1px 1px 1px);clip: rect(1px, 1px, 1px, 1px);height: 1px;margin: -1px;overflow: hidden;padding: 0;position: absolute;width: 1px;}#sk-967adf1e-de32-4f9d-854d-ffad7cc6106f div.sk-estimator {font-family: monospace;background-color: #f0f8ff;margin: 0.25em 0.25em;border: 1px dotted black;border-radius: 0.25em;box-sizing: border-box;}#sk-967adf1e-de32-4f9d-854d-ffad7cc6106f div.sk-estimator:hover {background-color: #d4ebff;}#sk-967adf1e-de32-4f9d-854d-ffad7cc6106f div.sk-parallel-item::after {content: \"\";width: 100%;border-bottom: 1px solid gray;flex-grow: 1;}#sk-967adf1e-de32-4f9d-854d-ffad7cc6106f div.sk-label:hover label.sk-toggleable__label {background-color: #d4ebff;}#sk-967adf1e-de32-4f9d-854d-ffad7cc6106f div.sk-serial::before {content: \"\";position: absolute;border-left: 1px solid gray;box-sizing: border-box;top: 2em;bottom: 0;left: 50%;}#sk-967adf1e-de32-4f9d-854d-ffad7cc6106f div.sk-serial {display: flex;flex-direction: column;align-items: center;background-color: white;}#sk-967adf1e-de32-4f9d-854d-ffad7cc6106f div.sk-item {z-index: 1;}#sk-967adf1e-de32-4f9d-854d-ffad7cc6106f div.sk-parallel {display: flex;align-items: stretch;justify-content: center;background-color: white;}#sk-967adf1e-de32-4f9d-854d-ffad7cc6106f div.sk-parallel-item {display: flex;flex-direction: column;position: relative;background-color: white;}#sk-967adf1e-de32-4f9d-854d-ffad7cc6106f div.sk-parallel-item:first-child::after {align-self: flex-end;width: 50%;}#sk-967adf1e-de32-4f9d-854d-ffad7cc6106f div.sk-parallel-item:last-child::after {align-self: flex-start;width: 50%;}#sk-967adf1e-de32-4f9d-854d-ffad7cc6106f div.sk-parallel-item:only-child::after {width: 0;}#sk-967adf1e-de32-4f9d-854d-ffad7cc6106f div.sk-dashed-wrapped {border: 1px dashed gray;margin: 0.2em;box-sizing: border-box;padding-bottom: 0.1em;background-color: white;position: relative;}#sk-967adf1e-de32-4f9d-854d-ffad7cc6106f div.sk-label label {font-family: monospace;font-weight: bold;background-color: white;display: inline-block;line-height: 1.2em;}#sk-967adf1e-de32-4f9d-854d-ffad7cc6106f div.sk-label-container {position: relative;z-index: 2;text-align: center;}#sk-967adf1e-de32-4f9d-854d-ffad7cc6106f div.sk-container {display: inline-block;position: relative;}</style><div id=\"sk-967adf1e-de32-4f9d-854d-ffad7cc6106f\" class\"sk-top-container\"><div class=\"sk-container\"><div class=\"sk-item\"><div class=\"sk-estimator sk-toggleable\"><input class=\"sk-toggleable__control sk-hidden--visually\" id=\"7b9dd0ff-a9b3-45d4-b818-cc3b0bf20c61\" type=\"checkbox\" checked><label class=\"sk-toggleable__label\" for=\"7b9dd0ff-a9b3-45d4-b818-cc3b0bf20c61\">DecisionTreeRegressor</label><div class=\"sk-toggleable__content\"><pre>DecisionTreeRegressor()</pre></div></div></div></div></div>"
      ],
      "text/plain": [
       "DecisionTreeRegressor()"
      ]
     },
     "execution_count": 59,
     "metadata": {},
     "output_type": "execute_result"
    }
   ],
   "source": [
    "model[2].base_estimator_"
   ]
  },
  {
   "cell_type": "code",
   "execution_count": 128,
   "id": "57f0a13e",
   "metadata": {},
   "outputs": [],
   "source": [
    "X_test,y_test = get_data(test_set_file,target_column='price',sample=25, callback=clean_variables)"
   ]
  },
  {
   "cell_type": "code",
   "execution_count": 129,
   "id": "4d79ca9f",
   "metadata": {},
   "outputs": [
    {
     "name": "stdout",
     "output_type": "stream",
     "text": [
      "RMSE: 6584.579507185703\n",
      "prediction \t| real price\n",
      "18010 \t\t| 17998\n",
      "11015 \t\t| 18994\n",
      "14400 \t\t| 14000\n",
      "17531 \t\t| 22999\n",
      "10251 \t\t| 11249\n",
      "15723 \t\t| 22490\n",
      "21404 \t\t| 28849\n",
      "17615 \t\t| 6695\n",
      "26015 \t\t| 31999\n",
      "8415 \t\t| 10997\n",
      "14577 \t\t| 13995\n",
      "9387 \t\t| 9927\n",
      "16829 \t\t| 12794\n",
      "17306 \t\t| 36990\n",
      "18630 \t\t| 26849\n",
      "12055 \t\t| 7400\n",
      "7486 \t\t| 8298\n",
      "6411 \t\t| 6999\n",
      "15279 \t\t| 22494\n",
      "8016 \t\t| 11498\n",
      "8643 \t\t| 9689\n",
      "18804 \t\t| 28490\n",
      "13008 \t\t| 21497\n",
      "8190 \t\t| 8791\n",
      "8249 \t\t| 7998\n"
     ]
    }
   ],
   "source": [
    "evaluate_prediction(model, X_test, y_test)"
   ]
  },
  {
   "cell_type": "code",
   "execution_count": 130,
   "id": "8640ade4",
   "metadata": {},
   "outputs": [
    {
     "ename": "NotFittedError",
     "evalue": "This DecisionTreeRegressor instance is not fitted yet. Call 'fit' with appropriate arguments before using this estimator.",
     "output_type": "error",
     "traceback": [
      "\u001b[0;31m---------------------------------------------------------------------------\u001b[0m",
      "\u001b[0;31mNotFittedError\u001b[0m                            Traceback (most recent call last)",
      "\u001b[0;32m<ipython-input-130-5dda897fdfdf>\u001b[0m in \u001b[0;36m<module>\u001b[0;34m\u001b[0m\n\u001b[0;32m----> 1\u001b[0;31m tree.plot_tree(model[2].base_estimator_, \n\u001b[0m\u001b[1;32m      2\u001b[0m                    \u001b[0;31m#feature_names=data.feature_names,\u001b[0m\u001b[0;34m\u001b[0m\u001b[0;34m\u001b[0m\u001b[0;34m\u001b[0m\u001b[0m\n\u001b[1;32m      3\u001b[0m                    \u001b[0;31m#class_names=data.target_names,\u001b[0m\u001b[0;34m\u001b[0m\u001b[0;34m\u001b[0m\u001b[0;34m\u001b[0m\u001b[0m\n\u001b[1;32m      4\u001b[0m                    filled=True)\n",
      "\u001b[0;32m~/anaconda3/envs/tf_cpu/lib/python3.8/site-packages/sklearn/utils/validation.py\u001b[0m in \u001b[0;36minner_f\u001b[0;34m(*args, **kwargs)\u001b[0m\n\u001b[1;32m     61\u001b[0m             \u001b[0mextra_args\u001b[0m \u001b[0;34m=\u001b[0m \u001b[0mlen\u001b[0m\u001b[0;34m(\u001b[0m\u001b[0margs\u001b[0m\u001b[0;34m)\u001b[0m \u001b[0;34m-\u001b[0m \u001b[0mlen\u001b[0m\u001b[0;34m(\u001b[0m\u001b[0mall_args\u001b[0m\u001b[0;34m)\u001b[0m\u001b[0;34m\u001b[0m\u001b[0;34m\u001b[0m\u001b[0m\n\u001b[1;32m     62\u001b[0m             \u001b[0;32mif\u001b[0m \u001b[0mextra_args\u001b[0m \u001b[0;34m<=\u001b[0m \u001b[0;36m0\u001b[0m\u001b[0;34m:\u001b[0m\u001b[0;34m\u001b[0m\u001b[0;34m\u001b[0m\u001b[0m\n\u001b[0;32m---> 63\u001b[0;31m                 \u001b[0;32mreturn\u001b[0m \u001b[0mf\u001b[0m\u001b[0;34m(\u001b[0m\u001b[0;34m*\u001b[0m\u001b[0margs\u001b[0m\u001b[0;34m,\u001b[0m \u001b[0;34m**\u001b[0m\u001b[0mkwargs\u001b[0m\u001b[0;34m)\u001b[0m\u001b[0;34m\u001b[0m\u001b[0;34m\u001b[0m\u001b[0m\n\u001b[0m\u001b[1;32m     64\u001b[0m \u001b[0;34m\u001b[0m\u001b[0m\n\u001b[1;32m     65\u001b[0m             \u001b[0;31m# extra_args > 0\u001b[0m\u001b[0;34m\u001b[0m\u001b[0;34m\u001b[0m\u001b[0;34m\u001b[0m\u001b[0m\n",
      "\u001b[0;32m~/anaconda3/envs/tf_cpu/lib/python3.8/site-packages/sklearn/tree/_export.py\u001b[0m in \u001b[0;36mplot_tree\u001b[0;34m(decision_tree, max_depth, feature_names, class_names, label, filled, impurity, node_ids, proportion, rotate, rounded, precision, ax, fontsize)\u001b[0m\n\u001b[1;32m    179\u001b[0m     \"\"\"\n\u001b[1;32m    180\u001b[0m \u001b[0;34m\u001b[0m\u001b[0m\n\u001b[0;32m--> 181\u001b[0;31m     \u001b[0mcheck_is_fitted\u001b[0m\u001b[0;34m(\u001b[0m\u001b[0mdecision_tree\u001b[0m\u001b[0;34m)\u001b[0m\u001b[0;34m\u001b[0m\u001b[0;34m\u001b[0m\u001b[0m\n\u001b[0m\u001b[1;32m    182\u001b[0m \u001b[0;34m\u001b[0m\u001b[0m\n\u001b[1;32m    183\u001b[0m     \u001b[0;32mif\u001b[0m \u001b[0mrotate\u001b[0m \u001b[0;34m!=\u001b[0m \u001b[0;34m'deprecated'\u001b[0m\u001b[0;34m:\u001b[0m\u001b[0;34m\u001b[0m\u001b[0;34m\u001b[0m\u001b[0m\n",
      "\u001b[0;32m~/anaconda3/envs/tf_cpu/lib/python3.8/site-packages/sklearn/utils/validation.py\u001b[0m in \u001b[0;36minner_f\u001b[0;34m(*args, **kwargs)\u001b[0m\n\u001b[1;32m     61\u001b[0m             \u001b[0mextra_args\u001b[0m \u001b[0;34m=\u001b[0m \u001b[0mlen\u001b[0m\u001b[0;34m(\u001b[0m\u001b[0margs\u001b[0m\u001b[0;34m)\u001b[0m \u001b[0;34m-\u001b[0m \u001b[0mlen\u001b[0m\u001b[0;34m(\u001b[0m\u001b[0mall_args\u001b[0m\u001b[0;34m)\u001b[0m\u001b[0;34m\u001b[0m\u001b[0;34m\u001b[0m\u001b[0m\n\u001b[1;32m     62\u001b[0m             \u001b[0;32mif\u001b[0m \u001b[0mextra_args\u001b[0m \u001b[0;34m<=\u001b[0m \u001b[0;36m0\u001b[0m\u001b[0;34m:\u001b[0m\u001b[0;34m\u001b[0m\u001b[0;34m\u001b[0m\u001b[0m\n\u001b[0;32m---> 63\u001b[0;31m                 \u001b[0;32mreturn\u001b[0m \u001b[0mf\u001b[0m\u001b[0;34m(\u001b[0m\u001b[0;34m*\u001b[0m\u001b[0margs\u001b[0m\u001b[0;34m,\u001b[0m \u001b[0;34m**\u001b[0m\u001b[0mkwargs\u001b[0m\u001b[0;34m)\u001b[0m\u001b[0;34m\u001b[0m\u001b[0;34m\u001b[0m\u001b[0m\n\u001b[0m\u001b[1;32m     64\u001b[0m \u001b[0;34m\u001b[0m\u001b[0m\n\u001b[1;32m     65\u001b[0m             \u001b[0;31m# extra_args > 0\u001b[0m\u001b[0;34m\u001b[0m\u001b[0;34m\u001b[0m\u001b[0;34m\u001b[0m\u001b[0m\n",
      "\u001b[0;32m~/anaconda3/envs/tf_cpu/lib/python3.8/site-packages/sklearn/utils/validation.py\u001b[0m in \u001b[0;36mcheck_is_fitted\u001b[0;34m(estimator, attributes, msg, all_or_any)\u001b[0m\n\u001b[1;32m   1096\u001b[0m \u001b[0;34m\u001b[0m\u001b[0m\n\u001b[1;32m   1097\u001b[0m     \u001b[0;32mif\u001b[0m \u001b[0;32mnot\u001b[0m \u001b[0mattrs\u001b[0m\u001b[0;34m:\u001b[0m\u001b[0;34m\u001b[0m\u001b[0;34m\u001b[0m\u001b[0m\n\u001b[0;32m-> 1098\u001b[0;31m         \u001b[0;32mraise\u001b[0m \u001b[0mNotFittedError\u001b[0m\u001b[0;34m(\u001b[0m\u001b[0mmsg\u001b[0m \u001b[0;34m%\u001b[0m \u001b[0;34m{\u001b[0m\u001b[0;34m'name'\u001b[0m\u001b[0;34m:\u001b[0m \u001b[0mtype\u001b[0m\u001b[0;34m(\u001b[0m\u001b[0mestimator\u001b[0m\u001b[0;34m)\u001b[0m\u001b[0;34m.\u001b[0m\u001b[0m__name__\u001b[0m\u001b[0;34m}\u001b[0m\u001b[0;34m)\u001b[0m\u001b[0;34m\u001b[0m\u001b[0;34m\u001b[0m\u001b[0m\n\u001b[0m\u001b[1;32m   1099\u001b[0m \u001b[0;34m\u001b[0m\u001b[0m\n\u001b[1;32m   1100\u001b[0m \u001b[0;34m\u001b[0m\u001b[0m\n",
      "\u001b[0;31mNotFittedError\u001b[0m: This DecisionTreeRegressor instance is not fitted yet. Call 'fit' with appropriate arguments before using this estimator."
     ]
    }
   ],
   "source": [
    "tree.plot_tree(model[2].base_estimator_, \n",
    "                   #feature_names=data.feature_names,  \n",
    "                   #class_names=data.target_names,\n",
    "                   filled=True)"
   ]
  },
  {
   "cell_type": "code",
   "execution_count": null,
   "id": "fa1dbdba",
   "metadata": {},
   "outputs": [],
   "source": []
  }
 ],
 "metadata": {
  "kernelspec": {
   "display_name": "Python 3",
   "language": "python",
   "name": "python3"
  },
  "language_info": {
   "codemirror_mode": {
    "name": "ipython",
    "version": 3
   },
   "file_extension": ".py",
   "mimetype": "text/x-python",
   "name": "python",
   "nbconvert_exporter": "python",
   "pygments_lexer": "ipython3",
   "version": "3.8.11"
  },
  "toc": {
   "base_numbering": 1,
   "nav_menu": {},
   "number_sections": true,
   "sideBar": true,
   "skip_h1_title": false,
   "title_cell": "Table of Contents",
   "title_sidebar": "Contents",
   "toc_cell": false,
   "toc_position": {},
   "toc_section_display": true,
   "toc_window_display": false
  }
 },
 "nbformat": 4,
 "nbformat_minor": 5
}
