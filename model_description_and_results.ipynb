{
 "cells": [
  {
   "cell_type": "code",
   "execution_count": 23,
   "id": "1a7bb67f",
   "metadata": {
    "slideshow": {
     "slide_type": "skip"
    }
   },
   "outputs": [],
   "source": [
    "# autoreload reloads modules automatically before entering the execution of code typed at the IPython prompt.\n",
    "%reload_ext autoreload\n",
    "%autoreload 2\n",
    "%aimport feature_preprocessing_pipeline\n",
    "%aimport build_model_by_brand\n",
    "%aimport build_model"
   ]
  },
  {
   "cell_type": "code",
   "execution_count": 24,
   "id": "c30d3dbb",
   "metadata": {
    "slideshow": {
     "slide_type": "skip"
    }
   },
   "outputs": [],
   "source": [
    "from sklearn import set_config\n",
    "from os import system\n",
    "from os.path import join, isfile\n",
    "from joblib import dump, load\n",
    "from feature_preprocessing_pipeline import categorize, extract_features, clean_variables, evaluate_prediction\n",
    "from sklearn import tree\n",
    "import matplotlib.pyplot as plt\n",
    "import pandas as pd\n",
    "import numpy as np\n",
    "from sklearn import tree\n",
    "from build_model_by_brand import evaluate_all_models\n",
    "from build_model import get_one_model_for_all\n",
    "#from dtreeviz.trees import dtreeviz"
   ]
  },
  {
   "cell_type": "code",
   "execution_count": 3,
   "id": "799b2867",
   "metadata": {
    "slideshow": {
     "slide_type": "skip"
    }
   },
   "outputs": [],
   "source": [
    "set_config(display='diagram') "
   ]
  },
  {
   "cell_type": "code",
   "execution_count": 4,
   "id": "38116cba",
   "metadata": {
    "slideshow": {
     "slide_type": "skip"
    }
   },
   "outputs": [],
   "source": [
    "dataset_directory_path = 'dataset/'\n",
    "model_directory_path = 'model/'"
   ]
  },
  {
   "cell_type": "code",
   "execution_count": 32,
   "id": "51e30144",
   "metadata": {
    "slideshow": {
     "slide_type": "skip"
    }
   },
   "outputs": [],
   "source": [
    "model_name = 'mercedes_optimize_rmse_2427'\n",
    "model_filename = f'{model_name}.joblib'\n",
    "model_path = join(model_directory_path, model_filename)\n",
    "model = load(model_path)"
   ]
  },
  {
   "cell_type": "code",
   "execution_count": 60,
   "id": "8eb71f4a",
   "metadata": {
    "slideshow": {
     "slide_type": "skip"
    }
   },
   "outputs": [],
   "source": [
    "def get_data(file_path, target_column,dataset_directory_path='./dataset/', sample=None, callback=None):\n",
    "    data = pd.read_csv(join(dataset_directory_path, file_path), index_col=0)\n",
    "    if callback:\n",
    "        data = callback(data)\n",
    "    if sample:\n",
    "        data = data.sample(n=sample)\n",
    "    X = data.drop(labels=[target_column], axis=1)\n",
    "    y = np.log(data[target_column])\n",
    "    return X,y\n",
    "\n"
   ]
  },
  {
   "cell_type": "code",
   "execution_count": 82,
   "id": "346f7723",
   "metadata": {
    "slideshow": {
     "slide_type": "skip"
    }
   },
   "outputs": [],
   "source": [
    "X_test = pd.read_csv(join(dataset_directory_path, 'X_test.csv'), index_col=0)\n",
    "y_test = pd.read_csv(join(dataset_directory_path, 'y_test.csv'), index_col=0)"
   ]
  },
  {
   "cell_type": "markdown",
   "id": "5e1f1e53",
   "metadata": {
    "slideshow": {
     "slide_type": "slide"
    }
   },
   "source": [
    "## Description du model "
   ]
  },
  {
   "cell_type": "markdown",
   "id": "7da28f85",
   "metadata": {
    "slideshow": {
     "slide_type": "fragment"
    }
   },
   "source": [
    "### Diagramme"
   ]
  },
  {
   "cell_type": "code",
   "execution_count": 33,
   "id": "1e602a08",
   "metadata": {},
   "outputs": [
    {
     "data": {
      "text/html": [
       "<style>#sk-21cb74fc-35e3-45a4-b3c7-da13424b4c71 {color: black;background-color: white;}#sk-21cb74fc-35e3-45a4-b3c7-da13424b4c71 pre{padding: 0;}#sk-21cb74fc-35e3-45a4-b3c7-da13424b4c71 div.sk-toggleable {background-color: white;}#sk-21cb74fc-35e3-45a4-b3c7-da13424b4c71 label.sk-toggleable__label {cursor: pointer;display: block;width: 100%;margin-bottom: 0;padding: 0.2em 0.3em;box-sizing: border-box;text-align: center;}#sk-21cb74fc-35e3-45a4-b3c7-da13424b4c71 div.sk-toggleable__content {max-height: 0;max-width: 0;overflow: hidden;text-align: left;background-color: #f0f8ff;}#sk-21cb74fc-35e3-45a4-b3c7-da13424b4c71 div.sk-toggleable__content pre {margin: 0.2em;color: black;border-radius: 0.25em;background-color: #f0f8ff;}#sk-21cb74fc-35e3-45a4-b3c7-da13424b4c71 input.sk-toggleable__control:checked~div.sk-toggleable__content {max-height: 200px;max-width: 100%;overflow: auto;}#sk-21cb74fc-35e3-45a4-b3c7-da13424b4c71 div.sk-estimator input.sk-toggleable__control:checked~label.sk-toggleable__label {background-color: #d4ebff;}#sk-21cb74fc-35e3-45a4-b3c7-da13424b4c71 div.sk-label input.sk-toggleable__control:checked~label.sk-toggleable__label {background-color: #d4ebff;}#sk-21cb74fc-35e3-45a4-b3c7-da13424b4c71 input.sk-hidden--visually {border: 0;clip: rect(1px 1px 1px 1px);clip: rect(1px, 1px, 1px, 1px);height: 1px;margin: -1px;overflow: hidden;padding: 0;position: absolute;width: 1px;}#sk-21cb74fc-35e3-45a4-b3c7-da13424b4c71 div.sk-estimator {font-family: monospace;background-color: #f0f8ff;margin: 0.25em 0.25em;border: 1px dotted black;border-radius: 0.25em;box-sizing: border-box;}#sk-21cb74fc-35e3-45a4-b3c7-da13424b4c71 div.sk-estimator:hover {background-color: #d4ebff;}#sk-21cb74fc-35e3-45a4-b3c7-da13424b4c71 div.sk-parallel-item::after {content: \"\";width: 100%;border-bottom: 1px solid gray;flex-grow: 1;}#sk-21cb74fc-35e3-45a4-b3c7-da13424b4c71 div.sk-label:hover label.sk-toggleable__label {background-color: #d4ebff;}#sk-21cb74fc-35e3-45a4-b3c7-da13424b4c71 div.sk-serial::before {content: \"\";position: absolute;border-left: 1px solid gray;box-sizing: border-box;top: 2em;bottom: 0;left: 50%;}#sk-21cb74fc-35e3-45a4-b3c7-da13424b4c71 div.sk-serial {display: flex;flex-direction: column;align-items: center;background-color: white;}#sk-21cb74fc-35e3-45a4-b3c7-da13424b4c71 div.sk-item {z-index: 1;}#sk-21cb74fc-35e3-45a4-b3c7-da13424b4c71 div.sk-parallel {display: flex;align-items: stretch;justify-content: center;background-color: white;}#sk-21cb74fc-35e3-45a4-b3c7-da13424b4c71 div.sk-parallel-item {display: flex;flex-direction: column;position: relative;background-color: white;}#sk-21cb74fc-35e3-45a4-b3c7-da13424b4c71 div.sk-parallel-item:first-child::after {align-self: flex-end;width: 50%;}#sk-21cb74fc-35e3-45a4-b3c7-da13424b4c71 div.sk-parallel-item:last-child::after {align-self: flex-start;width: 50%;}#sk-21cb74fc-35e3-45a4-b3c7-da13424b4c71 div.sk-parallel-item:only-child::after {width: 0;}#sk-21cb74fc-35e3-45a4-b3c7-da13424b4c71 div.sk-dashed-wrapped {border: 1px dashed gray;margin: 0.2em;box-sizing: border-box;padding-bottom: 0.1em;background-color: white;position: relative;}#sk-21cb74fc-35e3-45a4-b3c7-da13424b4c71 div.sk-label label {font-family: monospace;font-weight: bold;background-color: white;display: inline-block;line-height: 1.2em;}#sk-21cb74fc-35e3-45a4-b3c7-da13424b4c71 div.sk-label-container {position: relative;z-index: 2;text-align: center;}#sk-21cb74fc-35e3-45a4-b3c7-da13424b4c71 div.sk-container {display: inline-block;position: relative;}</style><div id=\"sk-21cb74fc-35e3-45a4-b3c7-da13424b4c71\" class\"sk-top-container\"><div class=\"sk-container\"><div class=\"sk-item sk-dashed-wrapped\"><div class=\"sk-label-container\"><div class=\"sk-label sk-toggleable\"><input class=\"sk-toggleable__control sk-hidden--visually\" id=\"1fc56da7-ea68-4676-b756-0f81964e24e8\" type=\"checkbox\" ><label class=\"sk-toggleable__label\" for=\"1fc56da7-ea68-4676-b756-0f81964e24e8\">Pipeline</label><div class=\"sk-toggleable__content\"><pre>Pipeline(steps=[('features_extraction',\n",
       "                 FunctionTransformer(func=<function extract_features at 0x7ffabad6dca0>,\n",
       "                                     kw_args={'features': ['age',\n",
       "                                                           'tax_per_year']})),\n",
       "                ('transformer',\n",
       "                 ColumnTransformer(remainder='passthrough',\n",
       "                                   transformers=[('poly', PolynomialFeatures(),\n",
       "                                                  <sklearn.compose._column_transformer.make_column_selector object at 0x7ffab9321310>),\n",
       "                                                 ('mpg_pipe',\n",
       "                                                  Pip...\n",
       "                                                                                               'Automatic',\n",
       "                                                                                               'Semi-Auto']]))]),\n",
       "                                                  ['transmission']),\n",
       "                                                 ('fuel_type_pipe',\n",
       "                                                  Pipeline(steps=[('OHE',\n",
       "                                                                   OneHotEncoder(categories=[['Hybrid',\n",
       "                                                                                              'Diesel',\n",
       "                                                                                              'Petrol']],\n",
       "                                                                                 handle_unknown='ignore',\n",
       "                                                                                 sparse=False)),\n",
       "                                                                  ('OE',\n",
       "                                                                   'passthrough')]),\n",
       "                                                  ['fuel_type'])])),\n",
       "                ('random_forest',\n",
       "                 RandomForestRegressor(max_depth=50, max_features=None,\n",
       "                                       min_samples_split=6, n_estimators=10,\n",
       "                                       n_jobs=-1, verbose=False))])</pre></div></div></div><div class=\"sk-serial\"><div class=\"sk-item\"><div class=\"sk-estimator sk-toggleable\"><input class=\"sk-toggleable__control sk-hidden--visually\" id=\"30d6ea4e-4943-4c44-af4f-12b61d7c8ae9\" type=\"checkbox\" ><label class=\"sk-toggleable__label\" for=\"30d6ea4e-4943-4c44-af4f-12b61d7c8ae9\">FunctionTransformer</label><div class=\"sk-toggleable__content\"><pre>FunctionTransformer(func=<function extract_features at 0x7ffabad6dca0>,\n",
       "                    kw_args={'features': ['age', 'tax_per_year']})</pre></div></div></div><div class=\"sk-item sk-dashed-wrapped\"><div class=\"sk-label-container\"><div class=\"sk-label sk-toggleable\"><input class=\"sk-toggleable__control sk-hidden--visually\" id=\"84644923-442a-4a9e-8ce5-3cfe193c6e76\" type=\"checkbox\" ><label class=\"sk-toggleable__label\" for=\"84644923-442a-4a9e-8ce5-3cfe193c6e76\">transformer: ColumnTransformer</label><div class=\"sk-toggleable__content\"><pre>ColumnTransformer(remainder='passthrough',\n",
       "                  transformers=[('poly', PolynomialFeatures(),\n",
       "                                 <sklearn.compose._column_transformer.make_column_selector object at 0x7ffab9321310>),\n",
       "                                ('mpg_pipe',\n",
       "                                 Pipeline(steps=[('discretize',\n",
       "                                                  KBinsDiscretizer(n_bins=6,\n",
       "                                                                   strategy='uniform'))]),\n",
       "                                 ['mpg']),\n",
       "                                ('tax_pipe',\n",
       "                                 Pipeline(steps=[('discretize',\n",
       "                                                  KBinsDiscretizer(n_bins=8))]),\n",
       "                                 ['tax']),\n",
       "                                ('...\n",
       "                                                  OrdinalEncoder(categories=[['mercedes']]))]),\n",
       "                                 ['brand']),\n",
       "                                ('transmission_pipe',\n",
       "                                 Pipeline(steps=[('OHE', 'passthrough'),\n",
       "                                                 ('OE',\n",
       "                                                  OrdinalEncoder(categories=[['Manual',\n",
       "                                                                              'Automatic',\n",
       "                                                                              'Semi-Auto']]))]),\n",
       "                                 ['transmission']),\n",
       "                                ('fuel_type_pipe',\n",
       "                                 Pipeline(steps=[('OHE',\n",
       "                                                  OneHotEncoder(categories=[['Hybrid',\n",
       "                                                                             'Diesel',\n",
       "                                                                             'Petrol']],\n",
       "                                                                handle_unknown='ignore',\n",
       "                                                                sparse=False)),\n",
       "                                                 ('OE', 'passthrough')]),\n",
       "                                 ['fuel_type'])])</pre></div></div></div><div class=\"sk-parallel\"><div class=\"sk-parallel-item\"><div class=\"sk-item\"><div class=\"sk-label-container\"><div class=\"sk-label sk-toggleable\"><input class=\"sk-toggleable__control sk-hidden--visually\" id=\"53e9758e-0332-4a9d-80e4-b9b5f0ccd3bb\" type=\"checkbox\" ><label class=\"sk-toggleable__label\" for=\"53e9758e-0332-4a9d-80e4-b9b5f0ccd3bb\">poly</label><div class=\"sk-toggleable__content\"><pre><sklearn.compose._column_transformer.make_column_selector object at 0x7ffab9321310></pre></div></div></div><div class=\"sk-serial\"><div class=\"sk-item\"><div class=\"sk-estimator sk-toggleable\"><input class=\"sk-toggleable__control sk-hidden--visually\" id=\"ed352d8f-94a8-46b6-8cb5-1f53d0298851\" type=\"checkbox\" ><label class=\"sk-toggleable__label\" for=\"ed352d8f-94a8-46b6-8cb5-1f53d0298851\">PolynomialFeatures</label><div class=\"sk-toggleable__content\"><pre>PolynomialFeatures()</pre></div></div></div></div></div></div><div class=\"sk-parallel-item\"><div class=\"sk-item\"><div class=\"sk-label-container\"><div class=\"sk-label sk-toggleable\"><input class=\"sk-toggleable__control sk-hidden--visually\" id=\"bf4d3aec-abb6-46f4-8157-d21dd67d72c4\" type=\"checkbox\" ><label class=\"sk-toggleable__label\" for=\"bf4d3aec-abb6-46f4-8157-d21dd67d72c4\">mpg_pipe</label><div class=\"sk-toggleable__content\"><pre>['mpg']</pre></div></div></div><div class=\"sk-serial\"><div class=\"sk-item\"><div class=\"sk-serial\"><div class=\"sk-item\"><div class=\"sk-estimator sk-toggleable\"><input class=\"sk-toggleable__control sk-hidden--visually\" id=\"79bfd6fe-8d0a-4854-97ba-1f56155fe3f8\" type=\"checkbox\" ><label class=\"sk-toggleable__label\" for=\"79bfd6fe-8d0a-4854-97ba-1f56155fe3f8\">KBinsDiscretizer</label><div class=\"sk-toggleable__content\"><pre>KBinsDiscretizer(n_bins=6, strategy='uniform')</pre></div></div></div></div></div></div></div></div><div class=\"sk-parallel-item\"><div class=\"sk-item\"><div class=\"sk-label-container\"><div class=\"sk-label sk-toggleable\"><input class=\"sk-toggleable__control sk-hidden--visually\" id=\"b6543113-5ea5-4fa0-b1da-de21cfdd1813\" type=\"checkbox\" ><label class=\"sk-toggleable__label\" for=\"b6543113-5ea5-4fa0-b1da-de21cfdd1813\">tax_pipe</label><div class=\"sk-toggleable__content\"><pre>['tax']</pre></div></div></div><div class=\"sk-serial\"><div class=\"sk-item\"><div class=\"sk-serial\"><div class=\"sk-item\"><div class=\"sk-estimator sk-toggleable\"><input class=\"sk-toggleable__control sk-hidden--visually\" id=\"50f47389-6371-45f1-a3fe-8211963285ca\" type=\"checkbox\" ><label class=\"sk-toggleable__label\" for=\"50f47389-6371-45f1-a3fe-8211963285ca\">KBinsDiscretizer</label><div class=\"sk-toggleable__content\"><pre>KBinsDiscretizer(n_bins=8)</pre></div></div></div></div></div></div></div></div><div class=\"sk-parallel-item\"><div class=\"sk-item\"><div class=\"sk-label-container\"><div class=\"sk-label sk-toggleable\"><input class=\"sk-toggleable__control sk-hidden--visually\" id=\"9067b29c-f9d6-44d1-b683-8e02ac920b63\" type=\"checkbox\" ><label class=\"sk-toggleable__label\" for=\"9067b29c-f9d6-44d1-b683-8e02ac920b63\">engine_size_pipe</label><div class=\"sk-toggleable__content\"><pre>['engine_size']</pre></div></div></div><div class=\"sk-serial\"><div class=\"sk-item\"><div class=\"sk-serial\"><div class=\"sk-item\"><div class=\"sk-estimator sk-toggleable\"><input class=\"sk-toggleable__control sk-hidden--visually\" id=\"ced16f59-de89-4580-a3c0-d228f2fbf6e8\" type=\"checkbox\" ><label class=\"sk-toggleable__label\" for=\"ced16f59-de89-4580-a3c0-d228f2fbf6e8\">KBinsDiscretizer</label><div class=\"sk-toggleable__content\"><pre>KBinsDiscretizer(n_bins=3, strategy='uniform')</pre></div></div></div></div></div></div></div></div><div class=\"sk-parallel-item\"><div class=\"sk-item\"><div class=\"sk-label-container\"><div class=\"sk-label sk-toggleable\"><input class=\"sk-toggleable__control sk-hidden--visually\" id=\"5d7f9e88-a549-4417-b250-53f6bb07b743\" type=\"checkbox\" ><label class=\"sk-toggleable__label\" for=\"5d7f9e88-a549-4417-b250-53f6bb07b743\">year_pipe</label><div class=\"sk-toggleable__content\"><pre>['year']</pre></div></div></div><div class=\"sk-serial\"><div class=\"sk-item\"><div class=\"sk-serial\"><div class=\"sk-item\"><div class=\"sk-estimator sk-toggleable\"><input class=\"sk-toggleable__control sk-hidden--visually\" id=\"a41e08cb-8730-4387-a7b7-4463ce51002f\" type=\"checkbox\" ><label class=\"sk-toggleable__label\" for=\"a41e08cb-8730-4387-a7b7-4463ce51002f\">KBinsDiscretizer</label><div class=\"sk-toggleable__content\"><pre>KBinsDiscretizer(encode='ordinal', n_bins=10)</pre></div></div></div></div></div></div></div></div><div class=\"sk-parallel-item\"><div class=\"sk-item\"><div class=\"sk-label-container\"><div class=\"sk-label sk-toggleable\"><input class=\"sk-toggleable__control sk-hidden--visually\" id=\"4a4a9369-6fa1-4c9f-b529-35a9b0e3aa40\" type=\"checkbox\" ><label class=\"sk-toggleable__label\" for=\"4a4a9369-6fa1-4c9f-b529-35a9b0e3aa40\">model_pipe</label><div class=\"sk-toggleable__content\"><pre>['model']</pre></div></div></div><div class=\"sk-serial\"><div class=\"sk-item\"><div class=\"sk-serial\"><div class=\"sk-item\"><div class=\"sk-estimator sk-toggleable\"><input class=\"sk-toggleable__control sk-hidden--visually\" id=\"6d3664e1-dc91-4232-819d-ff6fb3453a0d\" type=\"checkbox\" ><label class=\"sk-toggleable__label\" for=\"6d3664e1-dc91-4232-819d-ff6fb3453a0d\">passthrough</label><div class=\"sk-toggleable__content\"><pre>passthrough</pre></div></div></div><div class=\"sk-item\"><div class=\"sk-estimator sk-toggleable\"><input class=\"sk-toggleable__control sk-hidden--visually\" id=\"223ec931-12d6-4d66-96b8-e60a70804aec\" type=\"checkbox\" ><label class=\"sk-toggleable__label\" for=\"223ec931-12d6-4d66-96b8-e60a70804aec\">OrdinalEncoder</label><div class=\"sk-toggleable__content\"><pre>OrdinalEncoder(categories=[['CLK', '230', 'CLC Class', 'R Class', 'SLK', '180',\n",
       "                            'M Class', 'B Class', 'A Class', '200', 'CLA Class',\n",
       "                            '220', 'GLA Class', 'GL Class', 'CL Class',\n",
       "                            'C Class', 'E Class', 'CLS Class', 'SL CLASS',\n",
       "                            'X-CLASS', 'V Class', 'GLC Class', 'GLB Class',\n",
       "                            'GLE Class', 'S Class', 'GLS Class', 'G Class']])</pre></div></div></div></div></div></div></div></div><div class=\"sk-parallel-item\"><div class=\"sk-item\"><div class=\"sk-label-container\"><div class=\"sk-label sk-toggleable\"><input class=\"sk-toggleable__control sk-hidden--visually\" id=\"04651b63-a617-4488-958e-2d5f379c0274\" type=\"checkbox\" ><label class=\"sk-toggleable__label\" for=\"04651b63-a617-4488-958e-2d5f379c0274\">brand_pipe</label><div class=\"sk-toggleable__content\"><pre>['brand']</pre></div></div></div><div class=\"sk-serial\"><div class=\"sk-item\"><div class=\"sk-serial\"><div class=\"sk-item\"><div class=\"sk-estimator sk-toggleable\"><input class=\"sk-toggleable__control sk-hidden--visually\" id=\"d5cc7715-5494-49ad-9782-1e5a12b92c14\" type=\"checkbox\" ><label class=\"sk-toggleable__label\" for=\"d5cc7715-5494-49ad-9782-1e5a12b92c14\">passthrough</label><div class=\"sk-toggleable__content\"><pre>passthrough</pre></div></div></div><div class=\"sk-item\"><div class=\"sk-estimator sk-toggleable\"><input class=\"sk-toggleable__control sk-hidden--visually\" id=\"25ca7329-c6fc-4283-9700-823dfaf5d9b9\" type=\"checkbox\" ><label class=\"sk-toggleable__label\" for=\"25ca7329-c6fc-4283-9700-823dfaf5d9b9\">OrdinalEncoder</label><div class=\"sk-toggleable__content\"><pre>OrdinalEncoder(categories=[['mercedes']])</pre></div></div></div></div></div></div></div></div><div class=\"sk-parallel-item\"><div class=\"sk-item\"><div class=\"sk-label-container\"><div class=\"sk-label sk-toggleable\"><input class=\"sk-toggleable__control sk-hidden--visually\" id=\"09b12c4f-04ed-4ca2-9407-84834609fb72\" type=\"checkbox\" ><label class=\"sk-toggleable__label\" for=\"09b12c4f-04ed-4ca2-9407-84834609fb72\">transmission_pipe</label><div class=\"sk-toggleable__content\"><pre>['transmission']</pre></div></div></div><div class=\"sk-serial\"><div class=\"sk-item\"><div class=\"sk-serial\"><div class=\"sk-item\"><div class=\"sk-estimator sk-toggleable\"><input class=\"sk-toggleable__control sk-hidden--visually\" id=\"9724ce2e-5272-492e-8d12-8200ca9c3853\" type=\"checkbox\" ><label class=\"sk-toggleable__label\" for=\"9724ce2e-5272-492e-8d12-8200ca9c3853\">passthrough</label><div class=\"sk-toggleable__content\"><pre>passthrough</pre></div></div></div><div class=\"sk-item\"><div class=\"sk-estimator sk-toggleable\"><input class=\"sk-toggleable__control sk-hidden--visually\" id=\"5a6e06ac-43a5-4214-be35-f259a8b3cc21\" type=\"checkbox\" ><label class=\"sk-toggleable__label\" for=\"5a6e06ac-43a5-4214-be35-f259a8b3cc21\">OrdinalEncoder</label><div class=\"sk-toggleable__content\"><pre>OrdinalEncoder(categories=[['Manual', 'Automatic', 'Semi-Auto']])</pre></div></div></div></div></div></div></div></div><div class=\"sk-parallel-item\"><div class=\"sk-item\"><div class=\"sk-label-container\"><div class=\"sk-label sk-toggleable\"><input class=\"sk-toggleable__control sk-hidden--visually\" id=\"352dc5d7-38d1-42c9-ac42-07c6aabb1acf\" type=\"checkbox\" ><label class=\"sk-toggleable__label\" for=\"352dc5d7-38d1-42c9-ac42-07c6aabb1acf\">fuel_type_pipe</label><div class=\"sk-toggleable__content\"><pre>['fuel_type']</pre></div></div></div><div class=\"sk-serial\"><div class=\"sk-item\"><div class=\"sk-serial\"><div class=\"sk-item\"><div class=\"sk-estimator sk-toggleable\"><input class=\"sk-toggleable__control sk-hidden--visually\" id=\"0bc05f26-1422-4f33-819a-2390b5c7cf95\" type=\"checkbox\" ><label class=\"sk-toggleable__label\" for=\"0bc05f26-1422-4f33-819a-2390b5c7cf95\">OneHotEncoder</label><div class=\"sk-toggleable__content\"><pre>OneHotEncoder(categories=[['Hybrid', 'Diesel', 'Petrol']],\n",
       "              handle_unknown='ignore', sparse=False)</pre></div></div></div><div class=\"sk-item\"><div class=\"sk-estimator sk-toggleable\"><input class=\"sk-toggleable__control sk-hidden--visually\" id=\"037cf955-706e-4e04-8985-5d9ad3547bf2\" type=\"checkbox\" ><label class=\"sk-toggleable__label\" for=\"037cf955-706e-4e04-8985-5d9ad3547bf2\">passthrough</label><div class=\"sk-toggleable__content\"><pre>passthrough</pre></div></div></div></div></div></div></div></div><div class=\"sk-parallel-item\"><div class=\"sk-item\"><div class=\"sk-label-container\"><div class=\"sk-label sk-toggleable\"><input class=\"sk-toggleable__control sk-hidden--visually\" id=\"64e2e748-fa73-42c2-a35f-4ce342aa00a0\" type=\"checkbox\" ><label class=\"sk-toggleable__label\" for=\"64e2e748-fa73-42c2-a35f-4ce342aa00a0\">remainder</label><div class=\"sk-toggleable__content\"><pre>[['model', 'year', 'transmission', 'mileage', 'fuel_type', 'tax', 'mpg', 'engine_size', 'brand', 'age', 'tax_per_year']]</pre></div></div></div><div class=\"sk-serial\"><div class=\"sk-item\"><div class=\"sk-estimator sk-toggleable\"><input class=\"sk-toggleable__control sk-hidden--visually\" id=\"f4b77617-bb1c-4da4-84a0-a406705201fe\" type=\"checkbox\" ><label class=\"sk-toggleable__label\" for=\"f4b77617-bb1c-4da4-84a0-a406705201fe\">passthrough</label><div class=\"sk-toggleable__content\"><pre>passthrough</pre></div></div></div></div></div></div></div></div><div class=\"sk-item\"><div class=\"sk-estimator sk-toggleable\"><input class=\"sk-toggleable__control sk-hidden--visually\" id=\"e6486d9f-5648-40b7-9b6c-49cd1eb81ccc\" type=\"checkbox\" ><label class=\"sk-toggleable__label\" for=\"e6486d9f-5648-40b7-9b6c-49cd1eb81ccc\">RandomForestRegressor</label><div class=\"sk-toggleable__content\"><pre>RandomForestRegressor(max_depth=50, max_features=None, min_samples_split=6,\n",
       "                      n_estimators=10, n_jobs=-1, verbose=False)</pre></div></div></div></div></div></div></div>"
      ],
      "text/plain": [
       "Pipeline(steps=[('features_extraction',\n",
       "                 FunctionTransformer(func=<function extract_features at 0x7ffabad6dca0>,\n",
       "                                     kw_args={'features': ['age',\n",
       "                                                           'tax_per_year']})),\n",
       "                ('transformer',\n",
       "                 ColumnTransformer(remainder='passthrough',\n",
       "                                   transformers=[('poly', PolynomialFeatures(),\n",
       "                                                  <sklearn.compose._column_transformer.make_column_selector object at 0x7ffab9321310>),\n",
       "                                                 ('mpg_pipe',\n",
       "                                                  Pip...\n",
       "                                                                                               'Automatic',\n",
       "                                                                                               'Semi-Auto']]))]),\n",
       "                                                  ['transmission']),\n",
       "                                                 ('fuel_type_pipe',\n",
       "                                                  Pipeline(steps=[('OHE',\n",
       "                                                                   OneHotEncoder(categories=[['Hybrid',\n",
       "                                                                                              'Diesel',\n",
       "                                                                                              'Petrol']],\n",
       "                                                                                 handle_unknown='ignore',\n",
       "                                                                                 sparse=False)),\n",
       "                                                                  ('OE',\n",
       "                                                                   'passthrough')]),\n",
       "                                                  ['fuel_type'])])),\n",
       "                ('random_forest',\n",
       "                 RandomForestRegressor(max_depth=50, max_features=None,\n",
       "                                       min_samples_split=6, n_estimators=10,\n",
       "                                       n_jobs=-1, verbose=False))])"
      ]
     },
     "execution_count": 33,
     "metadata": {},
     "output_type": "execute_result"
    }
   ],
   "source": [
    "model"
   ]
  },
  {
   "cell_type": "code",
   "execution_count": 6,
   "id": "ad9ea6e2",
   "metadata": {
    "scrolled": false,
    "slideshow": {
     "slide_type": "fragment"
    }
   },
   "outputs": [
    {
     "data": {
      "text/html": [
       "<style>#sk-5ce80fd1-e8b3-4a14-9b5d-607e6b1d362e {color: black;background-color: white;}#sk-5ce80fd1-e8b3-4a14-9b5d-607e6b1d362e pre{padding: 0;}#sk-5ce80fd1-e8b3-4a14-9b5d-607e6b1d362e div.sk-toggleable {background-color: white;}#sk-5ce80fd1-e8b3-4a14-9b5d-607e6b1d362e label.sk-toggleable__label {cursor: pointer;display: block;width: 100%;margin-bottom: 0;padding: 0.2em 0.3em;box-sizing: border-box;text-align: center;}#sk-5ce80fd1-e8b3-4a14-9b5d-607e6b1d362e div.sk-toggleable__content {max-height: 0;max-width: 0;overflow: hidden;text-align: left;background-color: #f0f8ff;}#sk-5ce80fd1-e8b3-4a14-9b5d-607e6b1d362e div.sk-toggleable__content pre {margin: 0.2em;color: black;border-radius: 0.25em;background-color: #f0f8ff;}#sk-5ce80fd1-e8b3-4a14-9b5d-607e6b1d362e input.sk-toggleable__control:checked~div.sk-toggleable__content {max-height: 200px;max-width: 100%;overflow: auto;}#sk-5ce80fd1-e8b3-4a14-9b5d-607e6b1d362e div.sk-estimator input.sk-toggleable__control:checked~label.sk-toggleable__label {background-color: #d4ebff;}#sk-5ce80fd1-e8b3-4a14-9b5d-607e6b1d362e div.sk-label input.sk-toggleable__control:checked~label.sk-toggleable__label {background-color: #d4ebff;}#sk-5ce80fd1-e8b3-4a14-9b5d-607e6b1d362e input.sk-hidden--visually {border: 0;clip: rect(1px 1px 1px 1px);clip: rect(1px, 1px, 1px, 1px);height: 1px;margin: -1px;overflow: hidden;padding: 0;position: absolute;width: 1px;}#sk-5ce80fd1-e8b3-4a14-9b5d-607e6b1d362e div.sk-estimator {font-family: monospace;background-color: #f0f8ff;margin: 0.25em 0.25em;border: 1px dotted black;border-radius: 0.25em;box-sizing: border-box;}#sk-5ce80fd1-e8b3-4a14-9b5d-607e6b1d362e div.sk-estimator:hover {background-color: #d4ebff;}#sk-5ce80fd1-e8b3-4a14-9b5d-607e6b1d362e div.sk-parallel-item::after {content: \"\";width: 100%;border-bottom: 1px solid gray;flex-grow: 1;}#sk-5ce80fd1-e8b3-4a14-9b5d-607e6b1d362e div.sk-label:hover label.sk-toggleable__label {background-color: #d4ebff;}#sk-5ce80fd1-e8b3-4a14-9b5d-607e6b1d362e div.sk-serial::before {content: \"\";position: absolute;border-left: 1px solid gray;box-sizing: border-box;top: 2em;bottom: 0;left: 50%;}#sk-5ce80fd1-e8b3-4a14-9b5d-607e6b1d362e div.sk-serial {display: flex;flex-direction: column;align-items: center;background-color: white;}#sk-5ce80fd1-e8b3-4a14-9b5d-607e6b1d362e div.sk-item {z-index: 1;}#sk-5ce80fd1-e8b3-4a14-9b5d-607e6b1d362e div.sk-parallel {display: flex;align-items: stretch;justify-content: center;background-color: white;}#sk-5ce80fd1-e8b3-4a14-9b5d-607e6b1d362e div.sk-parallel-item {display: flex;flex-direction: column;position: relative;background-color: white;}#sk-5ce80fd1-e8b3-4a14-9b5d-607e6b1d362e div.sk-parallel-item:first-child::after {align-self: flex-end;width: 50%;}#sk-5ce80fd1-e8b3-4a14-9b5d-607e6b1d362e div.sk-parallel-item:last-child::after {align-self: flex-start;width: 50%;}#sk-5ce80fd1-e8b3-4a14-9b5d-607e6b1d362e div.sk-parallel-item:only-child::after {width: 0;}#sk-5ce80fd1-e8b3-4a14-9b5d-607e6b1d362e div.sk-dashed-wrapped {border: 1px dashed gray;margin: 0.2em;box-sizing: border-box;padding-bottom: 0.1em;background-color: white;position: relative;}#sk-5ce80fd1-e8b3-4a14-9b5d-607e6b1d362e div.sk-label label {font-family: monospace;font-weight: bold;background-color: white;display: inline-block;line-height: 1.2em;}#sk-5ce80fd1-e8b3-4a14-9b5d-607e6b1d362e div.sk-label-container {position: relative;z-index: 2;text-align: center;}#sk-5ce80fd1-e8b3-4a14-9b5d-607e6b1d362e div.sk-container {display: inline-block;position: relative;}</style><div id=\"sk-5ce80fd1-e8b3-4a14-9b5d-607e6b1d362e\" class\"sk-top-container\"><div class=\"sk-container\"><div class=\"sk-item sk-dashed-wrapped\"><div class=\"sk-label-container\"><div class=\"sk-label sk-toggleable\"><input class=\"sk-toggleable__control sk-hidden--visually\" id=\"ae8d2fae-d43e-4d76-bd5a-40e5f3baf553\" type=\"checkbox\" ><label class=\"sk-toggleable__label\" for=\"ae8d2fae-d43e-4d76-bd5a-40e5f3baf553\">Pipeline</label><div class=\"sk-toggleable__content\"><pre>Pipeline(steps=[('features_extraction',\n",
       "                 FunctionTransformer(func=<function extract_features at 0x7ffabad6daf0>,\n",
       "                                     kw_args={'features': ['age',\n",
       "                                                           'tax_per_year']})),\n",
       "                ('transformer',\n",
       "                 ColumnTransformer(remainder='passthrough',\n",
       "                                   transformers=[('poly',\n",
       "                                                  PolynomialFeatures(degree=1,\n",
       "                                                                     interaction_only=True),\n",
       "                                                  <sklearn.compose._column_transformer.make_column_selector object at 0x...\n",
       "                                                                                               'Semi-Auto',\n",
       "                                                                                               'Automatic']]))]),\n",
       "                                                  ['transmission']),\n",
       "                                                 ('fuel_type_pipe',\n",
       "                                                  Pipeline(steps=[('OHE',\n",
       "                                                                   OneHotEncoder(categories=[['Petrol',\n",
       "                                                                                              'Diesel',\n",
       "                                                                                              'Hybrid']],\n",
       "                                                                                 handle_unknown='ignore',\n",
       "                                                                                 sparse=False)),\n",
       "                                                                  ('OE',\n",
       "                                                                   'passthrough')]),\n",
       "                                                  ['fuel_type'])])),\n",
       "                ('random_forest',\n",
       "                 RandomForestRegressor(max_depth=50, max_features=None,\n",
       "                                       min_samples_split=6, n_estimators=10,\n",
       "                                       n_jobs=-1, verbose=False))])</pre></div></div></div><div class=\"sk-serial\"><div class=\"sk-item\"><div class=\"sk-estimator sk-toggleable\"><input class=\"sk-toggleable__control sk-hidden--visually\" id=\"0eec15e2-44c2-49d4-908e-92a2a48c95d5\" type=\"checkbox\" ><label class=\"sk-toggleable__label\" for=\"0eec15e2-44c2-49d4-908e-92a2a48c95d5\">FunctionTransformer</label><div class=\"sk-toggleable__content\"><pre>FunctionTransformer(func=<function extract_features at 0x7ffabad6daf0>,\n",
       "                    kw_args={'features': ['age', 'tax_per_year']})</pre></div></div></div><div class=\"sk-item sk-dashed-wrapped\"><div class=\"sk-label-container\"><div class=\"sk-label sk-toggleable\"><input class=\"sk-toggleable__control sk-hidden--visually\" id=\"51cb80a7-959e-49ca-a059-f89b6a7d98f3\" type=\"checkbox\" ><label class=\"sk-toggleable__label\" for=\"51cb80a7-959e-49ca-a059-f89b6a7d98f3\">transformer: ColumnTransformer</label><div class=\"sk-toggleable__content\"><pre>ColumnTransformer(remainder='passthrough',\n",
       "                  transformers=[('poly',\n",
       "                                 PolynomialFeatures(degree=1,\n",
       "                                                    interaction_only=True),\n",
       "                                 <sklearn.compose._column_transformer.make_column_selector object at 0x7ffaba11ebb0>),\n",
       "                                ('mpg_pipe',\n",
       "                                 Pipeline(steps=[('discretize',\n",
       "                                                  KBinsDiscretizer(n_bins=6,\n",
       "                                                                   strategy='uniform'))]),\n",
       "                                 ['mpg']),\n",
       "                                ('tax_pipe',\n",
       "                                 Pipeline(steps=[('discretize',\n",
       "                                                  KBinsDiscre...\n",
       "                                                  OrdinalEncoder(categories=[['audi']]))]),\n",
       "                                 ['brand']),\n",
       "                                ('transmission_pipe',\n",
       "                                 Pipeline(steps=[('OHE', 'passthrough'),\n",
       "                                                 ('OE',\n",
       "                                                  OrdinalEncoder(categories=[['Manual',\n",
       "                                                                              'Semi-Auto',\n",
       "                                                                              'Automatic']]))]),\n",
       "                                 ['transmission']),\n",
       "                                ('fuel_type_pipe',\n",
       "                                 Pipeline(steps=[('OHE',\n",
       "                                                  OneHotEncoder(categories=[['Petrol',\n",
       "                                                                             'Diesel',\n",
       "                                                                             'Hybrid']],\n",
       "                                                                handle_unknown='ignore',\n",
       "                                                                sparse=False)),\n",
       "                                                 ('OE', 'passthrough')]),\n",
       "                                 ['fuel_type'])])</pre></div></div></div><div class=\"sk-parallel\"><div class=\"sk-parallel-item\"><div class=\"sk-item\"><div class=\"sk-label-container\"><div class=\"sk-label sk-toggleable\"><input class=\"sk-toggleable__control sk-hidden--visually\" id=\"39dc41fe-e8f6-4bb4-8cde-08e96439c1f2\" type=\"checkbox\" ><label class=\"sk-toggleable__label\" for=\"39dc41fe-e8f6-4bb4-8cde-08e96439c1f2\">poly</label><div class=\"sk-toggleable__content\"><pre><sklearn.compose._column_transformer.make_column_selector object at 0x7ffaba11ebb0></pre></div></div></div><div class=\"sk-serial\"><div class=\"sk-item\"><div class=\"sk-estimator sk-toggleable\"><input class=\"sk-toggleable__control sk-hidden--visually\" id=\"162f18f6-bdfe-4429-a707-8bbe90760d82\" type=\"checkbox\" ><label class=\"sk-toggleable__label\" for=\"162f18f6-bdfe-4429-a707-8bbe90760d82\">PolynomialFeatures</label><div class=\"sk-toggleable__content\"><pre>PolynomialFeatures(degree=1, interaction_only=True)</pre></div></div></div></div></div></div><div class=\"sk-parallel-item\"><div class=\"sk-item\"><div class=\"sk-label-container\"><div class=\"sk-label sk-toggleable\"><input class=\"sk-toggleable__control sk-hidden--visually\" id=\"c813fdbd-66fe-4b1f-98d5-b3a73e79fe1e\" type=\"checkbox\" ><label class=\"sk-toggleable__label\" for=\"c813fdbd-66fe-4b1f-98d5-b3a73e79fe1e\">mpg_pipe</label><div class=\"sk-toggleable__content\"><pre>['mpg']</pre></div></div></div><div class=\"sk-serial\"><div class=\"sk-item\"><div class=\"sk-serial\"><div class=\"sk-item\"><div class=\"sk-estimator sk-toggleable\"><input class=\"sk-toggleable__control sk-hidden--visually\" id=\"5ef4051d-bab0-4403-af37-2b1ccb13c8b6\" type=\"checkbox\" ><label class=\"sk-toggleable__label\" for=\"5ef4051d-bab0-4403-af37-2b1ccb13c8b6\">KBinsDiscretizer</label><div class=\"sk-toggleable__content\"><pre>KBinsDiscretizer(n_bins=6, strategy='uniform')</pre></div></div></div></div></div></div></div></div><div class=\"sk-parallel-item\"><div class=\"sk-item\"><div class=\"sk-label-container\"><div class=\"sk-label sk-toggleable\"><input class=\"sk-toggleable__control sk-hidden--visually\" id=\"cb385587-545e-4df8-b201-4623a7aa01e0\" type=\"checkbox\" ><label class=\"sk-toggleable__label\" for=\"cb385587-545e-4df8-b201-4623a7aa01e0\">tax_pipe</label><div class=\"sk-toggleable__content\"><pre>['tax']</pre></div></div></div><div class=\"sk-serial\"><div class=\"sk-item\"><div class=\"sk-serial\"><div class=\"sk-item\"><div class=\"sk-estimator sk-toggleable\"><input class=\"sk-toggleable__control sk-hidden--visually\" id=\"a2314dd3-5b89-4b78-9f66-55c4c45fa1d3\" type=\"checkbox\" ><label class=\"sk-toggleable__label\" for=\"a2314dd3-5b89-4b78-9f66-55c4c45fa1d3\">KBinsDiscretizer</label><div class=\"sk-toggleable__content\"><pre>KBinsDiscretizer(n_bins=9)</pre></div></div></div></div></div></div></div></div><div class=\"sk-parallel-item\"><div class=\"sk-item\"><div class=\"sk-label-container\"><div class=\"sk-label sk-toggleable\"><input class=\"sk-toggleable__control sk-hidden--visually\" id=\"1ec82411-72ce-4828-9a25-f9f012cc43f5\" type=\"checkbox\" ><label class=\"sk-toggleable__label\" for=\"1ec82411-72ce-4828-9a25-f9f012cc43f5\">engine_size_pipe</label><div class=\"sk-toggleable__content\"><pre>['engine_size']</pre></div></div></div><div class=\"sk-serial\"><div class=\"sk-item\"><div class=\"sk-serial\"><div class=\"sk-item\"><div class=\"sk-estimator sk-toggleable\"><input class=\"sk-toggleable__control sk-hidden--visually\" id=\"df5be414-707d-424c-9bae-480ed316077d\" type=\"checkbox\" ><label class=\"sk-toggleable__label\" for=\"df5be414-707d-424c-9bae-480ed316077d\">KBinsDiscretizer</label><div class=\"sk-toggleable__content\"><pre>KBinsDiscretizer(n_bins=3, strategy='uniform')</pre></div></div></div></div></div></div></div></div><div class=\"sk-parallel-item\"><div class=\"sk-item\"><div class=\"sk-label-container\"><div class=\"sk-label sk-toggleable\"><input class=\"sk-toggleable__control sk-hidden--visually\" id=\"7a9cca2a-688e-42b3-89a7-691431c9162e\" type=\"checkbox\" ><label class=\"sk-toggleable__label\" for=\"7a9cca2a-688e-42b3-89a7-691431c9162e\">year_pipe</label><div class=\"sk-toggleable__content\"><pre>['year']</pre></div></div></div><div class=\"sk-serial\"><div class=\"sk-item\"><div class=\"sk-serial\"><div class=\"sk-item\"><div class=\"sk-estimator sk-toggleable\"><input class=\"sk-toggleable__control sk-hidden--visually\" id=\"1c106b05-d2ca-4451-8038-45fe2df88f6e\" type=\"checkbox\" ><label class=\"sk-toggleable__label\" for=\"1c106b05-d2ca-4451-8038-45fe2df88f6e\">KBinsDiscretizer</label><div class=\"sk-toggleable__content\"><pre>KBinsDiscretizer(encode='ordinal', n_bins=10)</pre></div></div></div></div></div></div></div></div><div class=\"sk-parallel-item\"><div class=\"sk-item\"><div class=\"sk-label-container\"><div class=\"sk-label sk-toggleable\"><input class=\"sk-toggleable__control sk-hidden--visually\" id=\"d02e0ea2-4d10-483b-ac6a-2acc2364d28c\" type=\"checkbox\" ><label class=\"sk-toggleable__label\" for=\"d02e0ea2-4d10-483b-ac6a-2acc2364d28c\">model_pipe</label><div class=\"sk-toggleable__content\"><pre>['model']</pre></div></div></div><div class=\"sk-serial\"><div class=\"sk-item\"><div class=\"sk-serial\"><div class=\"sk-item\"><div class=\"sk-estimator sk-toggleable\"><input class=\"sk-toggleable__control sk-hidden--visually\" id=\"f44808b9-f006-4bef-918b-e6dc458df16e\" type=\"checkbox\" ><label class=\"sk-toggleable__label\" for=\"f44808b9-f006-4bef-918b-e6dc458df16e\">passthrough</label><div class=\"sk-toggleable__content\"><pre>passthrough</pre></div></div></div><div class=\"sk-item\"><div class=\"sk-estimator sk-toggleable\"><input class=\"sk-toggleable__control sk-hidden--visually\" id=\"85e94a88-e143-4a02-a06a-eb76038ae568\" type=\"checkbox\" ><label class=\"sk-toggleable__label\" for=\"85e94a88-e143-4a02-a06a-eb76038ae568\">OrdinalEncoder</label><div class=\"sk-toggleable__content\"><pre>OrdinalEncoder(categories=[['A2', 'A1', 'S5', 'A3', 'A4', 'S3', 'TT', 'A6',\n",
       "                            'Q3', 'Q2', 'A5', 'S4', 'A7', 'Q5', 'SQ5', 'A8',\n",
       "                            'S8', 'RS3', 'RS7', 'Q7', 'RS4', 'SQ7', 'RS5',\n",
       "                            'RS6', 'Q8', 'R8']])</pre></div></div></div></div></div></div></div></div><div class=\"sk-parallel-item\"><div class=\"sk-item\"><div class=\"sk-label-container\"><div class=\"sk-label sk-toggleable\"><input class=\"sk-toggleable__control sk-hidden--visually\" id=\"49f9362b-ed6a-4812-9a9c-7965572b0a87\" type=\"checkbox\" ><label class=\"sk-toggleable__label\" for=\"49f9362b-ed6a-4812-9a9c-7965572b0a87\">brand_pipe</label><div class=\"sk-toggleable__content\"><pre>['brand']</pre></div></div></div><div class=\"sk-serial\"><div class=\"sk-item\"><div class=\"sk-serial\"><div class=\"sk-item\"><div class=\"sk-estimator sk-toggleable\"><input class=\"sk-toggleable__control sk-hidden--visually\" id=\"27ae6ddb-ae8b-4446-94e4-b21cbd793a6f\" type=\"checkbox\" ><label class=\"sk-toggleable__label\" for=\"27ae6ddb-ae8b-4446-94e4-b21cbd793a6f\">passthrough</label><div class=\"sk-toggleable__content\"><pre>passthrough</pre></div></div></div><div class=\"sk-item\"><div class=\"sk-estimator sk-toggleable\"><input class=\"sk-toggleable__control sk-hidden--visually\" id=\"7a98fb0f-eb99-4348-bb9e-db9038b975a7\" type=\"checkbox\" ><label class=\"sk-toggleable__label\" for=\"7a98fb0f-eb99-4348-bb9e-db9038b975a7\">OrdinalEncoder</label><div class=\"sk-toggleable__content\"><pre>OrdinalEncoder(categories=[['audi']])</pre></div></div></div></div></div></div></div></div><div class=\"sk-parallel-item\"><div class=\"sk-item\"><div class=\"sk-label-container\"><div class=\"sk-label sk-toggleable\"><input class=\"sk-toggleable__control sk-hidden--visually\" id=\"29e29992-c01b-4467-955f-6d91eb95b9a2\" type=\"checkbox\" ><label class=\"sk-toggleable__label\" for=\"29e29992-c01b-4467-955f-6d91eb95b9a2\">transmission_pipe</label><div class=\"sk-toggleable__content\"><pre>['transmission']</pre></div></div></div><div class=\"sk-serial\"><div class=\"sk-item\"><div class=\"sk-serial\"><div class=\"sk-item\"><div class=\"sk-estimator sk-toggleable\"><input class=\"sk-toggleable__control sk-hidden--visually\" id=\"262656ff-d76c-4b76-a4ed-46ef0cf5f023\" type=\"checkbox\" ><label class=\"sk-toggleable__label\" for=\"262656ff-d76c-4b76-a4ed-46ef0cf5f023\">passthrough</label><div class=\"sk-toggleable__content\"><pre>passthrough</pre></div></div></div><div class=\"sk-item\"><div class=\"sk-estimator sk-toggleable\"><input class=\"sk-toggleable__control sk-hidden--visually\" id=\"26db11db-2180-4390-ba4f-922c6f036dcf\" type=\"checkbox\" ><label class=\"sk-toggleable__label\" for=\"26db11db-2180-4390-ba4f-922c6f036dcf\">OrdinalEncoder</label><div class=\"sk-toggleable__content\"><pre>OrdinalEncoder(categories=[['Manual', 'Semi-Auto', 'Automatic']])</pre></div></div></div></div></div></div></div></div><div class=\"sk-parallel-item\"><div class=\"sk-item\"><div class=\"sk-label-container\"><div class=\"sk-label sk-toggleable\"><input class=\"sk-toggleable__control sk-hidden--visually\" id=\"e9a85654-3f5d-4913-9999-d582a9cb5b3b\" type=\"checkbox\" ><label class=\"sk-toggleable__label\" for=\"e9a85654-3f5d-4913-9999-d582a9cb5b3b\">fuel_type_pipe</label><div class=\"sk-toggleable__content\"><pre>['fuel_type']</pre></div></div></div><div class=\"sk-serial\"><div class=\"sk-item\"><div class=\"sk-serial\"><div class=\"sk-item\"><div class=\"sk-estimator sk-toggleable\"><input class=\"sk-toggleable__control sk-hidden--visually\" id=\"52c05e12-e60a-493e-abd5-141cfe90ffea\" type=\"checkbox\" ><label class=\"sk-toggleable__label\" for=\"52c05e12-e60a-493e-abd5-141cfe90ffea\">OneHotEncoder</label><div class=\"sk-toggleable__content\"><pre>OneHotEncoder(categories=[['Petrol', 'Diesel', 'Hybrid']],\n",
       "              handle_unknown='ignore', sparse=False)</pre></div></div></div><div class=\"sk-item\"><div class=\"sk-estimator sk-toggleable\"><input class=\"sk-toggleable__control sk-hidden--visually\" id=\"43c48a7b-8d35-4edf-98ec-bbd4f233a200\" type=\"checkbox\" ><label class=\"sk-toggleable__label\" for=\"43c48a7b-8d35-4edf-98ec-bbd4f233a200\">passthrough</label><div class=\"sk-toggleable__content\"><pre>passthrough</pre></div></div></div></div></div></div></div></div><div class=\"sk-parallel-item\"><div class=\"sk-item\"><div class=\"sk-label-container\"><div class=\"sk-label sk-toggleable\"><input class=\"sk-toggleable__control sk-hidden--visually\" id=\"60582551-95a2-4006-924b-1996527bebdd\" type=\"checkbox\" ><label class=\"sk-toggleable__label\" for=\"60582551-95a2-4006-924b-1996527bebdd\">remainder</label><div class=\"sk-toggleable__content\"><pre>[['model', 'year', 'transmission', 'mileage', 'fuel_type', 'tax', 'mpg', 'engine_size', 'brand', 'age', 'tax_per_year']]</pre></div></div></div><div class=\"sk-serial\"><div class=\"sk-item\"><div class=\"sk-estimator sk-toggleable\"><input class=\"sk-toggleable__control sk-hidden--visually\" id=\"c92a53f5-3e03-4454-9f19-519d409de0b0\" type=\"checkbox\" ><label class=\"sk-toggleable__label\" for=\"c92a53f5-3e03-4454-9f19-519d409de0b0\">passthrough</label><div class=\"sk-toggleable__content\"><pre>passthrough</pre></div></div></div></div></div></div></div></div><div class=\"sk-item\"><div class=\"sk-estimator sk-toggleable\"><input class=\"sk-toggleable__control sk-hidden--visually\" id=\"7d13d395-e320-4ce2-9855-38fe78245b7e\" type=\"checkbox\" ><label class=\"sk-toggleable__label\" for=\"7d13d395-e320-4ce2-9855-38fe78245b7e\">RandomForestRegressor</label><div class=\"sk-toggleable__content\"><pre>RandomForestRegressor(max_depth=50, max_features=None, min_samples_split=6,\n",
       "                      n_estimators=10, n_jobs=-1, verbose=False)</pre></div></div></div></div></div></div></div>"
      ],
      "text/plain": [
       "Pipeline(steps=[('features_extraction',\n",
       "                 FunctionTransformer(func=<function extract_features at 0x7ffabad6daf0>,\n",
       "                                     kw_args={'features': ['age',\n",
       "                                                           'tax_per_year']})),\n",
       "                ('transformer',\n",
       "                 ColumnTransformer(remainder='passthrough',\n",
       "                                   transformers=[('poly',\n",
       "                                                  PolynomialFeatures(degree=1,\n",
       "                                                                     interaction_only=True),\n",
       "                                                  <sklearn.compose._column_transformer.make_column_selector object at 0x...\n",
       "                                                                                               'Semi-Auto',\n",
       "                                                                                               'Automatic']]))]),\n",
       "                                                  ['transmission']),\n",
       "                                                 ('fuel_type_pipe',\n",
       "                                                  Pipeline(steps=[('OHE',\n",
       "                                                                   OneHotEncoder(categories=[['Petrol',\n",
       "                                                                                              'Diesel',\n",
       "                                                                                              'Hybrid']],\n",
       "                                                                                 handle_unknown='ignore',\n",
       "                                                                                 sparse=False)),\n",
       "                                                                  ('OE',\n",
       "                                                                   'passthrough')]),\n",
       "                                                  ['fuel_type'])])),\n",
       "                ('random_forest',\n",
       "                 RandomForestRegressor(max_depth=50, max_features=None,\n",
       "                                       min_samples_split=6, n_estimators=10,\n",
       "                                       n_jobs=-1, verbose=False))])"
      ]
     },
     "execution_count": 6,
     "metadata": {},
     "output_type": "execute_result"
    }
   ],
   "source": [
    "model"
   ]
  },
  {
   "cell_type": "code",
   "execution_count": 124,
   "id": "4a7d5679",
   "metadata": {
    "scrolled": false,
    "slideshow": {
     "slide_type": "subslide"
    }
   },
   "outputs": [
    {
     "name": "stdout",
     "output_type": "stream",
     "text": [
      "\n",
      "Extract Features\n",
      "[Pipeline]  (step 1 of 4) Processing features_extraction, total=   0.0s\n",
      "[ColumnTransformer] .......... (1 of 9) Processing poly, total=   0.0s\n",
      "[ColumnTransformer]  (2 of 9) Processing mpg_discretizer, total=   0.0s\n",
      "[ColumnTransformer]  (3 of 9) Processing tax_discretizer, total=   0.0s\n",
      "[ColumnTransformer]  (4 of 9) Processing engine_size_discretizer, total=   0.0s\n",
      "[Pipeline] ........ (step 1 of 1) Processing discretize, total=   0.0s\n",
      "[ColumnTransformer] ..... (5 of 9) Processing year_pipe, total=   0.0s\n",
      "[Pipeline] ............... (step 1 of 1) Processing OHE, total=   0.0s\n",
      "[ColumnTransformer] .... (6 of 9) Processing model_pipe, total=   0.0s\n",
      "[Pipeline] ............... (step 1 of 1) Processing OHE, total=   0.0s\n",
      "[ColumnTransformer] .... (7 of 9) Processing brand_pipe, total=   0.0s\n",
      "[Pipeline] ............... (step 1 of 1) Processing OHE, total=   0.0s\n",
      "[ColumnTransformer]  (8 of 9) Processing transmission_pipe, total=   0.0s\n",
      "[Pipeline] ............... (step 1 of 1) Processing OHE, total=   0.0s\n",
      "[ColumnTransformer]  (9 of 9) Processing fuel_type_pipe, total=   0.0s\n",
      "[Pipeline] ....... (step 2 of 4) Processing transformer, total=   0.1s\n",
      "[Pipeline] ............ (step 3 of 4) Processing scaler, total=   0.1s\n",
      "[Pipeline] ..... (step 4 of 4) Processing random_forest, total=   0.0s\n"
     ]
    },
    {
     "name": "stderr",
     "output_type": "stream",
     "text": [
      "/home/ghostbot/anaconda3/envs/tf_cpu/lib/python3.8/site-packages/sklearn/preprocessing/_discretization.py:220: UserWarning: Bins whose width are too small (i.e., <= 1e-8) in feature 0 are removed. Consider decreasing the number of bins.\n",
      "  warnings.warn('Bins whose width are too small (i.e., <= '\n",
      "/home/ghostbot/anaconda3/envs/tf_cpu/lib/python3.8/site-packages/sklearn/preprocessing/_discretization.py:220: UserWarning: Bins whose width are too small (i.e., <= 1e-8) in feature 0 are removed. Consider decreasing the number of bins.\n",
      "  warnings.warn('Bins whose width are too small (i.e., <= '\n",
      "/home/ghostbot/anaconda3/envs/tf_cpu/lib/python3.8/site-packages/sklearn/ensemble/_forest.py:369: UserWarning: Warm-start fitting without increasing n_estimators does not fit new trees.\n",
      "  warn(\"Warm-start fitting without increasing n_estimators does not \"\n"
     ]
    }
   ],
   "source": [
    "model.fit(X_test,y_test.values.ravel())\n",
    "rf = model[3]#.estimators_[1]\n",
    "#print(rf.estimators_[0].feature_importances_)\n",
    "\n",
    "#_ = tree.plot_tree(rf.estimators_[0], filled=True)"
   ]
  },
  {
   "cell_type": "markdown",
   "id": "fe8b84c1",
   "metadata": {
    "slideshow": {
     "slide_type": "fragment"
    }
   },
   "source": [
    "### Variables"
   ]
  },
  {
   "cell_type": "code",
   "execution_count": 121,
   "id": "3d36fe55",
   "metadata": {
    "slideshow": {
     "slide_type": "fragment"
    }
   },
   "outputs": [
    {
     "name": "stdout",
     "output_type": "stream",
     "text": [
      "Le model RandomForestRegressor(max_depth=50, min_samples_split=6, n_jobs=-1,\n",
      "                      verbose=True, warm_start=True) a 256 variables\n"
     ]
    }
   ],
   "source": [
    "rfr = model[3]\n",
    "print(f\"Le model {rfr} a {rfr.n_features_in_} variables\")"
   ]
  },
  {
   "cell_type": "markdown",
   "id": "d305d131",
   "metadata": {
    "slideshow": {
     "slide_type": "slide"
    }
   },
   "source": [
    "### Durée d'entraînement"
   ]
  },
  {
   "cell_type": "raw",
   "id": "c9a88483",
   "metadata": {
    "slideshow": {
     "slide_type": "subslide"
    }
   },
   "source": [
    "Loading all_set.csv Dataset...\n",
    "all_set.csv already processed, prepared_all_set.csv loaded\n",
    "X: (78231, 9)\n",
    "y: (78231,)\n",
    "\tX_train: (58673, 9)\n",
    "\tX_val: (11734, 9)\n",
    "\tX_test: (7824, 9)\n",
    "\ty_train: (58673,)\n",
    "\ty_val: (11734,)\n",
    "\ty_test: (7824,)\n",
    "\n",
    "Loading X_train.csv Dataset...\n",
    "\n",
    "Creating Columns transformers\n",
    "\n",
    "Extract Features\n",
    "[Pipeline] ........ (step 1 of 4) Processing features_extraction,               total=   0.1s\n",
    "[ColumnTransformer] ............. (1 of 9) Processing poly,                     total=   0.1s\n",
    "[ColumnTransformer] ............. (2 of 9) Processing mpg_discretizer,          total=   0.0s\n",
    "[ColumnTransformer] ............. (3 of 9) Processing tax_discretizer,          total=   0.0s\n",
    "[ColumnTransformer] ............. (4 of 9) Processing engine_size_discretizer,  total=   0.0s\n",
    "         [Pipeline] ...................... (step 1 of 1) Processing discretize, total=   0.0s\n",
    "[ColumnTransformer] ............. (5 of 9) Processing year_pipe,                total=   0.0s\n",
    "         [Pipeline] ...................... (step 1 of 1) Processing OHE,        total=   0.1s\n",
    "[ColumnTransformer] ............. (6 of 9) Processing model_pipe,               total=   0.1s\n",
    "         [Pipeline] ...................... (step 1 of 1) Processing OHE,        total=   0.1s\n",
    "[ColumnTransformer] ............. (7 of 9) Processing brand_pipe,               total=   0.1s\n",
    "         [Pipeline] ...................... (step 1 of 1) Processing OHE,        total=   0.1s\n",
    "[ColumnTransformer] ............. (8 of 9) Processing transmission_pipe,        total=   0.1s\n",
    "         [Pipeline] ...................... (step 1 of 1) Processing OHE,        total=   0.1s\n",
    "[ColumnTransformer] ............. (9 of 9) Processing fuel_type_pipe,           total=   0.1s\n",
    "[Pipeline] ........ (step 2 of 4) Processing transformer,                       total=   0.8s\n",
    "[Pipeline] ........ (step 3 of 4) Processing scaler,                            total=   1.0s\n",
    "[Pipeline] ........ (step 4 of 4) Processing random_forest,                     total= 3.8min\n",
    "    [Parallel(n_jobs=-1)]: Using backend ThreadingBackend with 4 concurrent workers.\n",
    "    [Parallel(n_jobs=-1)]: Done  42 tasks      | elapsed:  1.7min\n",
    "    [Parallel(n_jobs=-1)]: Done 100 out of 100 | elapsed:  3.8min finished\n",
    "\n",
    "Predicting\n",
    "[Parallel(n_jobs=4)]: Using backend ThreadingBackend with 4 concurrent workers.\n",
    "[Parallel(n_jobs=4)]: Done  42 tasks      | elapsed:    0.2s\n",
    "[Parallel(n_jobs=4)]: Done 100 out of 100 | elapsed:    0.5s finished\n",
    "\n",
    "RMSE: 1778.447790820576\n"
   ]
  },
  {
   "cell_type": "markdown",
   "id": "a8a1ff11",
   "metadata": {
    "slideshow": {
     "slide_type": "slide"
    }
   },
   "source": [
    "## Performance\n",
    "\n",
    "### Learning Curve\n",
    "\n",
    "![Learning curve](./Learning_curve_model_677.png)\n",
    "\n",
    "Le premier graphique montre la courbe d'apprentissage.\n",
    "\n",
    "Le deuxième graphique montre le temps nécessaire aux modèles pour s'entraîner avec différentes tailles de données d'entraînement. \n",
    "\n",
    "Le troisième graphique montre le temps nécessaire à l'entraînement des modèles pour chaque taille de données d'entraînement."
   ]
  },
  {
   "cell_type": "code",
   "execution_count": 64,
   "id": "57f0a13e",
   "metadata": {
    "slideshow": {
     "slide_type": "skip"
    }
   },
   "outputs": [
    {
     "name": "stdout",
     "output_type": "stream",
     "text": [
      "Test set:\n",
      " X (7824, 9) y (7824, 1)\n"
     ]
    }
   ],
   "source": [
    "print(f\"Test set:\\n X {X_test.shape} y {y_test.shape}\")\n"
   ]
  },
  {
   "cell_type": "code",
   "execution_count": 80,
   "id": "4d79ca9f",
   "metadata": {
    "slideshow": {
     "slide_type": "slide"
    }
   },
   "outputs": [
    {
     "name": "stdout",
     "output_type": "stream",
     "text": [
      "\n",
      "Extract Features\n",
      "RMSE: 1529.201266839476\n"
     ]
    },
    {
     "name": "stderr",
     "output_type": "stream",
     "text": [
      "[Parallel(n_jobs=4)]: Using backend ThreadingBackend with 4 concurrent workers.\n",
      "[Parallel(n_jobs=4)]: Done  42 tasks      | elapsed:    0.0s\n",
      "[Parallel(n_jobs=4)]: Done 100 out of 100 | elapsed:    0.0s finished\n"
     ]
    },
    {
     "data": {
      "text/html": [
       "<pre style=\"white-space:pre;overflow-x:auto;line-height:normal;font-family:Menlo,'DejaVu Sans Mono',consolas,'Courier New',monospace\"><span style=\"color: #000000; text-decoration-color: #000000; background-color: #ffffff; font-weight: bold\">MODEL PREDICTION TESTING</span> <span style=\"color: #000000; text-decoration-color: #000000; background-color: #ffffff\">────────────────────────────────────────────────────────────────────</span>\n",
       "</pre>\n"
      ],
      "text/plain": [
       "\u001b[1;52;30;107mMODEL PREDICTION TESTING\u001b[0m \u001b[30;107m────────────────────────────────────────────────────────────────────\u001b[0m\n"
      ]
     },
     "metadata": {},
     "output_type": "display_data"
    },
    {
     "data": {
      "text/html": [
       "<pre style=\"white-space:pre;overflow-x:auto;line-height:normal;font-family:Menlo,'DejaVu Sans Mono',consolas,'Courier New',monospace\"><span style=\"color: #000000; text-decoration-color: #000000; background-color: #ffffff; font-style: italic\">Prediction results                              </span>\n",
       "<span style=\"color: #000000; text-decoration-color: #000000; background-color: #ffffff\">┏━━━━━━━━━━━━┳━━━━━━━━━━━━┳━━━━━━━┳━━━━━━━━━━━━┓</span>\n",
       "<span style=\"color: #000000; text-decoration-color: #000000; background-color: #ffffff\">┃ Prediction ┃ Real Price ┃ Error ┃ Percentage ┃</span>\n",
       "<span style=\"color: #000000; text-decoration-color: #000000; background-color: #ffffff\">┡━━━━━━━━━━━━╇━━━━━━━━━━━━╇━━━━━━━╇━━━━━━━━━━━━┩</span>\n",
       "<span style=\"color: #000000; text-decoration-color: #000000; background-color: #ffffff\">│    </span><span style=\"color: #008080; text-decoration-color: #008080; background-color: #ffffff; font-weight: bold\">7766</span><span style=\"color: #000000; text-decoration-color: #000000; background-color: #ffffff\">    │    </span><span style=\"color: #008080; text-decoration-color: #008080; background-color: #ffffff; font-weight: bold\">7341</span><span style=\"color: #000000; text-decoration-color: #000000; background-color: #ffffff\">    │  </span><span style=\"color: #008080; text-decoration-color: #008080; background-color: #ffffff; font-weight: bold\">425</span><span style=\"color: #000000; text-decoration-color: #000000; background-color: #ffffff\">  │    </span><span style=\"color: #008080; text-decoration-color: #008080; background-color: #ffffff; font-weight: bold\">6</span><span style=\"color: #000000; text-decoration-color: #000000; background-color: #ffffff\"> %     │</span>\n",
       "<span style=\"color: #000000; text-decoration-color: #000000; background-color: #ffffff\">│   </span><span style=\"color: #008080; text-decoration-color: #008080; background-color: #ffffff; font-weight: bold\">15606</span><span style=\"color: #000000; text-decoration-color: #000000; background-color: #ffffff\">    │   </span><span style=\"color: #008080; text-decoration-color: #008080; background-color: #ffffff; font-weight: bold\">16000</span><span style=\"color: #000000; text-decoration-color: #000000; background-color: #ffffff\">    │  </span><span style=\"color: #008080; text-decoration-color: #008080; background-color: #ffffff; font-weight: bold\">394</span><span style=\"color: #000000; text-decoration-color: #000000; background-color: #ffffff\">  │    </span><span style=\"color: #008080; text-decoration-color: #008080; background-color: #ffffff; font-weight: bold\">2</span><span style=\"color: #000000; text-decoration-color: #000000; background-color: #ffffff\"> %     │</span>\n",
       "<span style=\"color: #000000; text-decoration-color: #000000; background-color: #ffffff\">│   </span><span style=\"color: #008080; text-decoration-color: #008080; background-color: #ffffff; font-weight: bold\">11309</span><span style=\"color: #000000; text-decoration-color: #000000; background-color: #ffffff\">    │   </span><span style=\"color: #008080; text-decoration-color: #008080; background-color: #ffffff; font-weight: bold\">10997</span><span style=\"color: #000000; text-decoration-color: #000000; background-color: #ffffff\">    │  </span><span style=\"color: #008080; text-decoration-color: #008080; background-color: #ffffff; font-weight: bold\">312</span><span style=\"color: #000000; text-decoration-color: #000000; background-color: #ffffff\">  │    </span><span style=\"color: #008080; text-decoration-color: #008080; background-color: #ffffff; font-weight: bold\">3</span><span style=\"color: #000000; text-decoration-color: #000000; background-color: #ffffff\"> %     │</span>\n",
       "<span style=\"color: #000000; text-decoration-color: #000000; background-color: #ffffff\">│   </span><span style=\"color: #008080; text-decoration-color: #008080; background-color: #ffffff; font-weight: bold\">19608</span><span style=\"color: #000000; text-decoration-color: #000000; background-color: #ffffff\">    │   </span><span style=\"color: #008080; text-decoration-color: #008080; background-color: #ffffff; font-weight: bold\">19279</span><span style=\"color: #000000; text-decoration-color: #000000; background-color: #ffffff\">    │  </span><span style=\"color: #008080; text-decoration-color: #008080; background-color: #ffffff; font-weight: bold\">329</span><span style=\"color: #000000; text-decoration-color: #000000; background-color: #ffffff\">  │    </span><span style=\"color: #008080; text-decoration-color: #008080; background-color: #ffffff; font-weight: bold\">2</span><span style=\"color: #000000; text-decoration-color: #000000; background-color: #ffffff\"> %     │</span>\n",
       "<span style=\"color: #000000; text-decoration-color: #000000; background-color: #ffffff\">│   </span><span style=\"color: #008080; text-decoration-color: #008080; background-color: #ffffff; font-weight: bold\">11108</span><span style=\"color: #000000; text-decoration-color: #000000; background-color: #ffffff\">    │   </span><span style=\"color: #008080; text-decoration-color: #008080; background-color: #ffffff; font-weight: bold\">10999</span><span style=\"color: #000000; text-decoration-color: #000000; background-color: #ffffff\">    │  </span><span style=\"color: #008080; text-decoration-color: #008080; background-color: #ffffff; font-weight: bold\">109</span><span style=\"color: #000000; text-decoration-color: #000000; background-color: #ffffff\">  │    </span><span style=\"color: #008080; text-decoration-color: #008080; background-color: #ffffff; font-weight: bold\">1</span><span style=\"color: #000000; text-decoration-color: #000000; background-color: #ffffff\"> %     │</span>\n",
       "<span style=\"color: #000000; text-decoration-color: #000000; background-color: #ffffff\">│   </span><span style=\"color: #008080; text-decoration-color: #008080; background-color: #ffffff; font-weight: bold\">19534</span><span style=\"color: #000000; text-decoration-color: #000000; background-color: #ffffff\">    │   </span><span style=\"color: #008080; text-decoration-color: #008080; background-color: #ffffff; font-weight: bold\">17894</span><span style=\"color: #000000; text-decoration-color: #000000; background-color: #ffffff\">    │ </span><span style=\"color: #008080; text-decoration-color: #008080; background-color: #ffffff; font-weight: bold\">1640</span><span style=\"color: #000000; text-decoration-color: #000000; background-color: #ffffff\">  │    </span><span style=\"color: #008080; text-decoration-color: #008080; background-color: #ffffff; font-weight: bold\">9</span><span style=\"color: #000000; text-decoration-color: #000000; background-color: #ffffff\"> %     │</span>\n",
       "<span style=\"color: #000000; text-decoration-color: #000000; background-color: #ffffff\">│   </span><span style=\"color: #008080; text-decoration-color: #008080; background-color: #ffffff; font-weight: bold\">14757</span><span style=\"color: #000000; text-decoration-color: #000000; background-color: #ffffff\">    │   </span><span style=\"color: #008080; text-decoration-color: #008080; background-color: #ffffff; font-weight: bold\">14488</span><span style=\"color: #000000; text-decoration-color: #000000; background-color: #ffffff\">    │  </span><span style=\"color: #008080; text-decoration-color: #008080; background-color: #ffffff; font-weight: bold\">269</span><span style=\"color: #000000; text-decoration-color: #000000; background-color: #ffffff\">  │    </span><span style=\"color: #008080; text-decoration-color: #008080; background-color: #ffffff; font-weight: bold\">2</span><span style=\"color: #000000; text-decoration-color: #000000; background-color: #ffffff\"> %     │</span>\n",
       "<span style=\"color: #000000; text-decoration-color: #000000; background-color: #ffffff\">│   </span><span style=\"color: #008080; text-decoration-color: #008080; background-color: #ffffff; font-weight: bold\">42085</span><span style=\"color: #000000; text-decoration-color: #000000; background-color: #ffffff\">    │   </span><span style=\"color: #008080; text-decoration-color: #008080; background-color: #ffffff; font-weight: bold\">41630</span><span style=\"color: #000000; text-decoration-color: #000000; background-color: #ffffff\">    │  </span><span style=\"color: #008080; text-decoration-color: #008080; background-color: #ffffff; font-weight: bold\">455</span><span style=\"color: #000000; text-decoration-color: #000000; background-color: #ffffff\">  │    </span><span style=\"color: #008080; text-decoration-color: #008080; background-color: #ffffff; font-weight: bold\">1</span><span style=\"color: #000000; text-decoration-color: #000000; background-color: #ffffff\"> %     │</span>\n",
       "<span style=\"color: #000000; text-decoration-color: #000000; background-color: #ffffff\">│    </span><span style=\"color: #008080; text-decoration-color: #008080; background-color: #ffffff; font-weight: bold\">6681</span><span style=\"color: #000000; text-decoration-color: #000000; background-color: #ffffff\">    │    </span><span style=\"color: #008080; text-decoration-color: #008080; background-color: #ffffff; font-weight: bold\">7499</span><span style=\"color: #000000; text-decoration-color: #000000; background-color: #ffffff\">    │  </span><span style=\"color: #008080; text-decoration-color: #008080; background-color: #ffffff; font-weight: bold\">818</span><span style=\"color: #000000; text-decoration-color: #000000; background-color: #ffffff\">  │    </span><span style=\"color: #008080; text-decoration-color: #008080; background-color: #ffffff; font-weight: bold\">11</span><span style=\"color: #000000; text-decoration-color: #000000; background-color: #ffffff\"> %    │</span>\n",
       "<span style=\"color: #000000; text-decoration-color: #000000; background-color: #ffffff\">│    </span><span style=\"color: #008080; text-decoration-color: #008080; background-color: #ffffff; font-weight: bold\">7906</span><span style=\"color: #000000; text-decoration-color: #000000; background-color: #ffffff\">    │    </span><span style=\"color: #008080; text-decoration-color: #008080; background-color: #ffffff; font-weight: bold\">8995</span><span style=\"color: #000000; text-decoration-color: #000000; background-color: #ffffff\">    │ </span><span style=\"color: #008080; text-decoration-color: #008080; background-color: #ffffff; font-weight: bold\">1089</span><span style=\"color: #000000; text-decoration-color: #000000; background-color: #ffffff\">  │    </span><span style=\"color: #008080; text-decoration-color: #008080; background-color: #ffffff; font-weight: bold\">12</span><span style=\"color: #000000; text-decoration-color: #000000; background-color: #ffffff\"> %    │</span>\n",
       "<span style=\"color: #000000; text-decoration-color: #000000; background-color: #ffffff\">│    </span><span style=\"color: #008080; text-decoration-color: #008080; background-color: #ffffff; font-weight: bold\">6218</span><span style=\"color: #000000; text-decoration-color: #000000; background-color: #ffffff\">    │    </span><span style=\"color: #008080; text-decoration-color: #008080; background-color: #ffffff; font-weight: bold\">5998</span><span style=\"color: #000000; text-decoration-color: #000000; background-color: #ffffff\">    │  </span><span style=\"color: #008080; text-decoration-color: #008080; background-color: #ffffff; font-weight: bold\">220</span><span style=\"color: #000000; text-decoration-color: #000000; background-color: #ffffff\">  │    </span><span style=\"color: #008080; text-decoration-color: #008080; background-color: #ffffff; font-weight: bold\">4</span><span style=\"color: #000000; text-decoration-color: #000000; background-color: #ffffff\"> %     │</span>\n",
       "<span style=\"color: #000000; text-decoration-color: #000000; background-color: #ffffff\">│   </span><span style=\"color: #008080; text-decoration-color: #008080; background-color: #ffffff; font-weight: bold\">13150</span><span style=\"color: #000000; text-decoration-color: #000000; background-color: #ffffff\">    │   </span><span style=\"color: #008080; text-decoration-color: #008080; background-color: #ffffff; font-weight: bold\">13494</span><span style=\"color: #000000; text-decoration-color: #000000; background-color: #ffffff\">    │  </span><span style=\"color: #008080; text-decoration-color: #008080; background-color: #ffffff; font-weight: bold\">344</span><span style=\"color: #000000; text-decoration-color: #000000; background-color: #ffffff\">  │    </span><span style=\"color: #008080; text-decoration-color: #008080; background-color: #ffffff; font-weight: bold\">3</span><span style=\"color: #000000; text-decoration-color: #000000; background-color: #ffffff\"> %     │</span>\n",
       "<span style=\"color: #000000; text-decoration-color: #000000; background-color: #ffffff\">│   </span><span style=\"color: #008080; text-decoration-color: #008080; background-color: #ffffff; font-weight: bold\">10682</span><span style=\"color: #000000; text-decoration-color: #000000; background-color: #ffffff\">    │   </span><span style=\"color: #008080; text-decoration-color: #008080; background-color: #ffffff; font-weight: bold\">12500</span><span style=\"color: #000000; text-decoration-color: #000000; background-color: #ffffff\">    │ </span><span style=\"color: #008080; text-decoration-color: #008080; background-color: #ffffff; font-weight: bold\">1818</span><span style=\"color: #000000; text-decoration-color: #000000; background-color: #ffffff\">  │    </span><span style=\"color: #008080; text-decoration-color: #008080; background-color: #ffffff; font-weight: bold\">15</span><span style=\"color: #000000; text-decoration-color: #000000; background-color: #ffffff\"> %    │</span>\n",
       "<span style=\"color: #000000; text-decoration-color: #000000; background-color: #ffffff\">│   </span><span style=\"color: #008080; text-decoration-color: #008080; background-color: #ffffff; font-weight: bold\">14905</span><span style=\"color: #000000; text-decoration-color: #000000; background-color: #ffffff\">    │   </span><span style=\"color: #008080; text-decoration-color: #008080; background-color: #ffffff; font-weight: bold\">13599</span><span style=\"color: #000000; text-decoration-color: #000000; background-color: #ffffff\">    │ </span><span style=\"color: #008080; text-decoration-color: #008080; background-color: #ffffff; font-weight: bold\">1306</span><span style=\"color: #000000; text-decoration-color: #000000; background-color: #ffffff\">  │    </span><span style=\"color: #008080; text-decoration-color: #008080; background-color: #ffffff; font-weight: bold\">10</span><span style=\"color: #000000; text-decoration-color: #000000; background-color: #ffffff\"> %    │</span>\n",
       "<span style=\"color: #000000; text-decoration-color: #000000; background-color: #ffffff\">│    </span><span style=\"color: #008080; text-decoration-color: #008080; background-color: #ffffff; font-weight: bold\">8628</span><span style=\"color: #000000; text-decoration-color: #000000; background-color: #ffffff\">    │    </span><span style=\"color: #008080; text-decoration-color: #008080; background-color: #ffffff; font-weight: bold\">8740</span><span style=\"color: #000000; text-decoration-color: #000000; background-color: #ffffff\">    │  </span><span style=\"color: #008080; text-decoration-color: #008080; background-color: #ffffff; font-weight: bold\">112</span><span style=\"color: #000000; text-decoration-color: #000000; background-color: #ffffff\">  │    </span><span style=\"color: #008080; text-decoration-color: #008080; background-color: #ffffff; font-weight: bold\">1</span><span style=\"color: #000000; text-decoration-color: #000000; background-color: #ffffff\"> %     │</span>\n",
       "<span style=\"color: #000000; text-decoration-color: #000000; background-color: #ffffff\">│   </span><span style=\"color: #008080; text-decoration-color: #008080; background-color: #ffffff; font-weight: bold\">38590</span><span style=\"color: #000000; text-decoration-color: #000000; background-color: #ffffff\">    │   </span><span style=\"color: #008080; text-decoration-color: #008080; background-color: #ffffff; font-weight: bold\">34950</span><span style=\"color: #000000; text-decoration-color: #000000; background-color: #ffffff\">    │ </span><span style=\"color: #008080; text-decoration-color: #008080; background-color: #ffffff; font-weight: bold\">3640</span><span style=\"color: #000000; text-decoration-color: #000000; background-color: #ffffff\">  │    </span><span style=\"color: #008080; text-decoration-color: #008080; background-color: #ffffff; font-weight: bold\">10</span><span style=\"color: #000000; text-decoration-color: #000000; background-color: #ffffff\"> %    │</span>\n",
       "<span style=\"color: #000000; text-decoration-color: #000000; background-color: #ffffff\">│   </span><span style=\"color: #008080; text-decoration-color: #008080; background-color: #ffffff; font-weight: bold\">11916</span><span style=\"color: #000000; text-decoration-color: #000000; background-color: #ffffff\">    │   </span><span style=\"color: #008080; text-decoration-color: #008080; background-color: #ffffff; font-weight: bold\">12700</span><span style=\"color: #000000; text-decoration-color: #000000; background-color: #ffffff\">    │  </span><span style=\"color: #008080; text-decoration-color: #008080; background-color: #ffffff; font-weight: bold\">784</span><span style=\"color: #000000; text-decoration-color: #000000; background-color: #ffffff\">  │    </span><span style=\"color: #008080; text-decoration-color: #008080; background-color: #ffffff; font-weight: bold\">6</span><span style=\"color: #000000; text-decoration-color: #000000; background-color: #ffffff\"> %     │</span>\n",
       "<span style=\"color: #000000; text-decoration-color: #000000; background-color: #ffffff\">│   </span><span style=\"color: #008080; text-decoration-color: #008080; background-color: #ffffff; font-weight: bold\">12977</span><span style=\"color: #000000; text-decoration-color: #000000; background-color: #ffffff\">    │   </span><span style=\"color: #008080; text-decoration-color: #008080; background-color: #ffffff; font-weight: bold\">13494</span><span style=\"color: #000000; text-decoration-color: #000000; background-color: #ffffff\">    │  </span><span style=\"color: #008080; text-decoration-color: #008080; background-color: #ffffff; font-weight: bold\">517</span><span style=\"color: #000000; text-decoration-color: #000000; background-color: #ffffff\">  │    </span><span style=\"color: #008080; text-decoration-color: #008080; background-color: #ffffff; font-weight: bold\">4</span><span style=\"color: #000000; text-decoration-color: #000000; background-color: #ffffff\"> %     │</span>\n",
       "<span style=\"color: #000000; text-decoration-color: #000000; background-color: #ffffff\">│   </span><span style=\"color: #008080; text-decoration-color: #008080; background-color: #ffffff; font-weight: bold\">10350</span><span style=\"color: #000000; text-decoration-color: #000000; background-color: #ffffff\">    │   </span><span style=\"color: #008080; text-decoration-color: #008080; background-color: #ffffff; font-weight: bold\">14591</span><span style=\"color: #000000; text-decoration-color: #000000; background-color: #ffffff\">    │ </span><span style=\"color: #008080; text-decoration-color: #008080; background-color: #ffffff; font-weight: bold\">4241</span><span style=\"color: #000000; text-decoration-color: #000000; background-color: #ffffff\">  │    </span><span style=\"color: #008080; text-decoration-color: #008080; background-color: #ffffff; font-weight: bold\">29</span><span style=\"color: #000000; text-decoration-color: #000000; background-color: #ffffff\"> %    │</span>\n",
       "<span style=\"color: #000000; text-decoration-color: #000000; background-color: #ffffff\">│   </span><span style=\"color: #008080; text-decoration-color: #008080; background-color: #ffffff; font-weight: bold\">20696</span><span style=\"color: #000000; text-decoration-color: #000000; background-color: #ffffff\">    │   </span><span style=\"color: #008080; text-decoration-color: #008080; background-color: #ffffff; font-weight: bold\">20500</span><span style=\"color: #000000; text-decoration-color: #000000; background-color: #ffffff\">    │  </span><span style=\"color: #008080; text-decoration-color: #008080; background-color: #ffffff; font-weight: bold\">196</span><span style=\"color: #000000; text-decoration-color: #000000; background-color: #ffffff\">  │    </span><span style=\"color: #008080; text-decoration-color: #008080; background-color: #ffffff; font-weight: bold\">1</span><span style=\"color: #000000; text-decoration-color: #000000; background-color: #ffffff\"> %     │</span>\n",
       "<span style=\"color: #000000; text-decoration-color: #000000; background-color: #ffffff\">│   </span><span style=\"color: #008080; text-decoration-color: #008080; background-color: #ffffff; font-weight: bold\">16640</span><span style=\"color: #000000; text-decoration-color: #000000; background-color: #ffffff\">    │   </span><span style=\"color: #008080; text-decoration-color: #008080; background-color: #ffffff; font-weight: bold\">16497</span><span style=\"color: #000000; text-decoration-color: #000000; background-color: #ffffff\">    │  </span><span style=\"color: #008080; text-decoration-color: #008080; background-color: #ffffff; font-weight: bold\">143</span><span style=\"color: #000000; text-decoration-color: #000000; background-color: #ffffff\">  │    </span><span style=\"color: #008080; text-decoration-color: #008080; background-color: #ffffff; font-weight: bold\">1</span><span style=\"color: #000000; text-decoration-color: #000000; background-color: #ffffff\"> %     │</span>\n",
       "<span style=\"color: #000000; text-decoration-color: #000000; background-color: #ffffff\">│   </span><span style=\"color: #008080; text-decoration-color: #008080; background-color: #ffffff; font-weight: bold\">41711</span><span style=\"color: #000000; text-decoration-color: #000000; background-color: #ffffff\">    │   </span><span style=\"color: #008080; text-decoration-color: #008080; background-color: #ffffff; font-weight: bold\">45490</span><span style=\"color: #000000; text-decoration-color: #000000; background-color: #ffffff\">    │ </span><span style=\"color: #008080; text-decoration-color: #008080; background-color: #ffffff; font-weight: bold\">3779</span><span style=\"color: #000000; text-decoration-color: #000000; background-color: #ffffff\">  │    </span><span style=\"color: #008080; text-decoration-color: #008080; background-color: #ffffff; font-weight: bold\">8</span><span style=\"color: #000000; text-decoration-color: #000000; background-color: #ffffff\"> %     │</span>\n",
       "<span style=\"color: #000000; text-decoration-color: #000000; background-color: #ffffff\">│    </span><span style=\"color: #008080; text-decoration-color: #008080; background-color: #ffffff; font-weight: bold\">8135</span><span style=\"color: #000000; text-decoration-color: #000000; background-color: #ffffff\">    │    </span><span style=\"color: #008080; text-decoration-color: #008080; background-color: #ffffff; font-weight: bold\">6994</span><span style=\"color: #000000; text-decoration-color: #000000; background-color: #ffffff\">    │ </span><span style=\"color: #008080; text-decoration-color: #008080; background-color: #ffffff; font-weight: bold\">1141</span><span style=\"color: #000000; text-decoration-color: #000000; background-color: #ffffff\">  │    </span><span style=\"color: #008080; text-decoration-color: #008080; background-color: #ffffff; font-weight: bold\">16</span><span style=\"color: #000000; text-decoration-color: #000000; background-color: #ffffff\"> %    │</span>\n",
       "<span style=\"color: #000000; text-decoration-color: #000000; background-color: #ffffff\">│   </span><span style=\"color: #008080; text-decoration-color: #008080; background-color: #ffffff; font-weight: bold\">16675</span><span style=\"color: #000000; text-decoration-color: #000000; background-color: #ffffff\">    │   </span><span style=\"color: #008080; text-decoration-color: #008080; background-color: #ffffff; font-weight: bold\">16297</span><span style=\"color: #000000; text-decoration-color: #000000; background-color: #ffffff\">    │  </span><span style=\"color: #008080; text-decoration-color: #008080; background-color: #ffffff; font-weight: bold\">378</span><span style=\"color: #000000; text-decoration-color: #000000; background-color: #ffffff\">  │    </span><span style=\"color: #008080; text-decoration-color: #008080; background-color: #ffffff; font-weight: bold\">2</span><span style=\"color: #000000; text-decoration-color: #000000; background-color: #ffffff\"> %     │</span>\n",
       "<span style=\"color: #000000; text-decoration-color: #000000; background-color: #ffffff\">│   </span><span style=\"color: #008080; text-decoration-color: #008080; background-color: #ffffff; font-weight: bold\">22166</span><span style=\"color: #000000; text-decoration-color: #000000; background-color: #ffffff\">    │   </span><span style=\"color: #008080; text-decoration-color: #008080; background-color: #ffffff; font-weight: bold\">22095</span><span style=\"color: #000000; text-decoration-color: #000000; background-color: #ffffff\">    │  </span><span style=\"color: #008080; text-decoration-color: #008080; background-color: #ffffff; font-weight: bold\">71</span><span style=\"color: #000000; text-decoration-color: #000000; background-color: #ffffff\">   │    </span><span style=\"color: #008080; text-decoration-color: #008080; background-color: #ffffff; font-weight: bold\">0</span><span style=\"color: #000000; text-decoration-color: #000000; background-color: #ffffff\"> %     │</span>\n",
       "<span style=\"color: #000000; text-decoration-color: #000000; background-color: #ffffff\">└────────────┴────────────┴───────┴────────────┘</span>\n",
       "</pre>\n"
      ],
      "text/plain": [
       "\u001b[3;30;107mPrediction results                              \u001b[0m\n",
       "\u001b[30;107m┏━━━━━━━━━━━━┳━━━━━━━━━━━━┳━━━━━━━┳━━━━━━━━━━━━┓\u001b[0m\n",
       "\u001b[30;107m┃\u001b[0m\u001b[30;107m \u001b[0m\u001b[30;107mPrediction\u001b[0m\u001b[30;107m \u001b[0m\u001b[30;107m┃\u001b[0m\u001b[30;107m \u001b[0m\u001b[30;107mReal Price\u001b[0m\u001b[30;107m \u001b[0m\u001b[30;107m┃\u001b[0m\u001b[30;107m \u001b[0m\u001b[30;107mError\u001b[0m\u001b[30;107m \u001b[0m\u001b[30;107m┃\u001b[0m\u001b[30;107m \u001b[0m\u001b[30;107mPercentage\u001b[0m\u001b[30;107m \u001b[0m\u001b[30;107m┃\u001b[0m\n",
       "\u001b[30;107m┡━━━━━━━━━━━━╇━━━━━━━━━━━━╇━━━━━━━╇━━━━━━━━━━━━┩\u001b[0m\n",
       "\u001b[30;107m│\u001b[0m\u001b[30;107m \u001b[0m\u001b[30;107m   \u001b[0m\u001b[1;36;107m7766\u001b[0m\u001b[30;107m   \u001b[0m\u001b[30;107m \u001b[0m\u001b[30;107m│\u001b[0m\u001b[30;107m \u001b[0m\u001b[30;107m   \u001b[0m\u001b[1;36;107m7341\u001b[0m\u001b[30;107m   \u001b[0m\u001b[30;107m \u001b[0m\u001b[30;107m│\u001b[0m\u001b[30;107m \u001b[0m\u001b[30;107m \u001b[0m\u001b[1;36;107m425\u001b[0m\u001b[30;107m \u001b[0m\u001b[30;107m \u001b[0m\u001b[30;107m│\u001b[0m\u001b[30;107m \u001b[0m\u001b[30;107m   \u001b[0m\u001b[1;36;107m6\u001b[0m\u001b[30;107m %    \u001b[0m\u001b[30;107m \u001b[0m\u001b[30;107m│\u001b[0m\n",
       "\u001b[30;107m│\u001b[0m\u001b[30;107m \u001b[0m\u001b[30;107m  \u001b[0m\u001b[1;36;107m15606\u001b[0m\u001b[30;107m   \u001b[0m\u001b[30;107m \u001b[0m\u001b[30;107m│\u001b[0m\u001b[30;107m \u001b[0m\u001b[30;107m  \u001b[0m\u001b[1;36;107m16000\u001b[0m\u001b[30;107m   \u001b[0m\u001b[30;107m \u001b[0m\u001b[30;107m│\u001b[0m\u001b[30;107m \u001b[0m\u001b[30;107m \u001b[0m\u001b[1;36;107m394\u001b[0m\u001b[30;107m \u001b[0m\u001b[30;107m \u001b[0m\u001b[30;107m│\u001b[0m\u001b[30;107m \u001b[0m\u001b[30;107m   \u001b[0m\u001b[1;36;107m2\u001b[0m\u001b[30;107m %    \u001b[0m\u001b[30;107m \u001b[0m\u001b[30;107m│\u001b[0m\n",
       "\u001b[30;107m│\u001b[0m\u001b[30;107m \u001b[0m\u001b[30;107m  \u001b[0m\u001b[1;36;107m11309\u001b[0m\u001b[30;107m   \u001b[0m\u001b[30;107m \u001b[0m\u001b[30;107m│\u001b[0m\u001b[30;107m \u001b[0m\u001b[30;107m  \u001b[0m\u001b[1;36;107m10997\u001b[0m\u001b[30;107m   \u001b[0m\u001b[30;107m \u001b[0m\u001b[30;107m│\u001b[0m\u001b[30;107m \u001b[0m\u001b[30;107m \u001b[0m\u001b[1;36;107m312\u001b[0m\u001b[30;107m \u001b[0m\u001b[30;107m \u001b[0m\u001b[30;107m│\u001b[0m\u001b[30;107m \u001b[0m\u001b[30;107m   \u001b[0m\u001b[1;36;107m3\u001b[0m\u001b[30;107m %    \u001b[0m\u001b[30;107m \u001b[0m\u001b[30;107m│\u001b[0m\n",
       "\u001b[30;107m│\u001b[0m\u001b[30;107m \u001b[0m\u001b[30;107m  \u001b[0m\u001b[1;36;107m19608\u001b[0m\u001b[30;107m   \u001b[0m\u001b[30;107m \u001b[0m\u001b[30;107m│\u001b[0m\u001b[30;107m \u001b[0m\u001b[30;107m  \u001b[0m\u001b[1;36;107m19279\u001b[0m\u001b[30;107m   \u001b[0m\u001b[30;107m \u001b[0m\u001b[30;107m│\u001b[0m\u001b[30;107m \u001b[0m\u001b[30;107m \u001b[0m\u001b[1;36;107m329\u001b[0m\u001b[30;107m \u001b[0m\u001b[30;107m \u001b[0m\u001b[30;107m│\u001b[0m\u001b[30;107m \u001b[0m\u001b[30;107m   \u001b[0m\u001b[1;36;107m2\u001b[0m\u001b[30;107m %    \u001b[0m\u001b[30;107m \u001b[0m\u001b[30;107m│\u001b[0m\n",
       "\u001b[30;107m│\u001b[0m\u001b[30;107m \u001b[0m\u001b[30;107m  \u001b[0m\u001b[1;36;107m11108\u001b[0m\u001b[30;107m   \u001b[0m\u001b[30;107m \u001b[0m\u001b[30;107m│\u001b[0m\u001b[30;107m \u001b[0m\u001b[30;107m  \u001b[0m\u001b[1;36;107m10999\u001b[0m\u001b[30;107m   \u001b[0m\u001b[30;107m \u001b[0m\u001b[30;107m│\u001b[0m\u001b[30;107m \u001b[0m\u001b[30;107m \u001b[0m\u001b[1;36;107m109\u001b[0m\u001b[30;107m \u001b[0m\u001b[30;107m \u001b[0m\u001b[30;107m│\u001b[0m\u001b[30;107m \u001b[0m\u001b[30;107m   \u001b[0m\u001b[1;36;107m1\u001b[0m\u001b[30;107m %    \u001b[0m\u001b[30;107m \u001b[0m\u001b[30;107m│\u001b[0m\n",
       "\u001b[30;107m│\u001b[0m\u001b[30;107m \u001b[0m\u001b[30;107m  \u001b[0m\u001b[1;36;107m19534\u001b[0m\u001b[30;107m   \u001b[0m\u001b[30;107m \u001b[0m\u001b[30;107m│\u001b[0m\u001b[30;107m \u001b[0m\u001b[30;107m  \u001b[0m\u001b[1;36;107m17894\u001b[0m\u001b[30;107m   \u001b[0m\u001b[30;107m \u001b[0m\u001b[30;107m│\u001b[0m\u001b[30;107m \u001b[0m\u001b[1;36;107m1640\u001b[0m\u001b[30;107m \u001b[0m\u001b[30;107m \u001b[0m\u001b[30;107m│\u001b[0m\u001b[30;107m \u001b[0m\u001b[30;107m   \u001b[0m\u001b[1;36;107m9\u001b[0m\u001b[30;107m %    \u001b[0m\u001b[30;107m \u001b[0m\u001b[30;107m│\u001b[0m\n",
       "\u001b[30;107m│\u001b[0m\u001b[30;107m \u001b[0m\u001b[30;107m  \u001b[0m\u001b[1;36;107m14757\u001b[0m\u001b[30;107m   \u001b[0m\u001b[30;107m \u001b[0m\u001b[30;107m│\u001b[0m\u001b[30;107m \u001b[0m\u001b[30;107m  \u001b[0m\u001b[1;36;107m14488\u001b[0m\u001b[30;107m   \u001b[0m\u001b[30;107m \u001b[0m\u001b[30;107m│\u001b[0m\u001b[30;107m \u001b[0m\u001b[30;107m \u001b[0m\u001b[1;36;107m269\u001b[0m\u001b[30;107m \u001b[0m\u001b[30;107m \u001b[0m\u001b[30;107m│\u001b[0m\u001b[30;107m \u001b[0m\u001b[30;107m   \u001b[0m\u001b[1;36;107m2\u001b[0m\u001b[30;107m %    \u001b[0m\u001b[30;107m \u001b[0m\u001b[30;107m│\u001b[0m\n",
       "\u001b[30;107m│\u001b[0m\u001b[30;107m \u001b[0m\u001b[30;107m  \u001b[0m\u001b[1;36;107m42085\u001b[0m\u001b[30;107m   \u001b[0m\u001b[30;107m \u001b[0m\u001b[30;107m│\u001b[0m\u001b[30;107m \u001b[0m\u001b[30;107m  \u001b[0m\u001b[1;36;107m41630\u001b[0m\u001b[30;107m   \u001b[0m\u001b[30;107m \u001b[0m\u001b[30;107m│\u001b[0m\u001b[30;107m \u001b[0m\u001b[30;107m \u001b[0m\u001b[1;36;107m455\u001b[0m\u001b[30;107m \u001b[0m\u001b[30;107m \u001b[0m\u001b[30;107m│\u001b[0m\u001b[30;107m \u001b[0m\u001b[30;107m   \u001b[0m\u001b[1;36;107m1\u001b[0m\u001b[30;107m %    \u001b[0m\u001b[30;107m \u001b[0m\u001b[30;107m│\u001b[0m\n",
       "\u001b[30;107m│\u001b[0m\u001b[30;107m \u001b[0m\u001b[30;107m   \u001b[0m\u001b[1;36;107m6681\u001b[0m\u001b[30;107m   \u001b[0m\u001b[30;107m \u001b[0m\u001b[30;107m│\u001b[0m\u001b[30;107m \u001b[0m\u001b[30;107m   \u001b[0m\u001b[1;36;107m7499\u001b[0m\u001b[30;107m   \u001b[0m\u001b[30;107m \u001b[0m\u001b[30;107m│\u001b[0m\u001b[30;107m \u001b[0m\u001b[30;107m \u001b[0m\u001b[1;36;107m818\u001b[0m\u001b[30;107m \u001b[0m\u001b[30;107m \u001b[0m\u001b[30;107m│\u001b[0m\u001b[30;107m \u001b[0m\u001b[30;107m   \u001b[0m\u001b[1;36;107m11\u001b[0m\u001b[30;107m %   \u001b[0m\u001b[30;107m \u001b[0m\u001b[30;107m│\u001b[0m\n",
       "\u001b[30;107m│\u001b[0m\u001b[30;107m \u001b[0m\u001b[30;107m   \u001b[0m\u001b[1;36;107m7906\u001b[0m\u001b[30;107m   \u001b[0m\u001b[30;107m \u001b[0m\u001b[30;107m│\u001b[0m\u001b[30;107m \u001b[0m\u001b[30;107m   \u001b[0m\u001b[1;36;107m8995\u001b[0m\u001b[30;107m   \u001b[0m\u001b[30;107m \u001b[0m\u001b[30;107m│\u001b[0m\u001b[30;107m \u001b[0m\u001b[1;36;107m1089\u001b[0m\u001b[30;107m \u001b[0m\u001b[30;107m \u001b[0m\u001b[30;107m│\u001b[0m\u001b[30;107m \u001b[0m\u001b[30;107m   \u001b[0m\u001b[1;36;107m12\u001b[0m\u001b[30;107m %   \u001b[0m\u001b[30;107m \u001b[0m\u001b[30;107m│\u001b[0m\n",
       "\u001b[30;107m│\u001b[0m\u001b[30;107m \u001b[0m\u001b[30;107m   \u001b[0m\u001b[1;36;107m6218\u001b[0m\u001b[30;107m   \u001b[0m\u001b[30;107m \u001b[0m\u001b[30;107m│\u001b[0m\u001b[30;107m \u001b[0m\u001b[30;107m   \u001b[0m\u001b[1;36;107m5998\u001b[0m\u001b[30;107m   \u001b[0m\u001b[30;107m \u001b[0m\u001b[30;107m│\u001b[0m\u001b[30;107m \u001b[0m\u001b[30;107m \u001b[0m\u001b[1;36;107m220\u001b[0m\u001b[30;107m \u001b[0m\u001b[30;107m \u001b[0m\u001b[30;107m│\u001b[0m\u001b[30;107m \u001b[0m\u001b[30;107m   \u001b[0m\u001b[1;36;107m4\u001b[0m\u001b[30;107m %    \u001b[0m\u001b[30;107m \u001b[0m\u001b[30;107m│\u001b[0m\n",
       "\u001b[30;107m│\u001b[0m\u001b[30;107m \u001b[0m\u001b[30;107m  \u001b[0m\u001b[1;36;107m13150\u001b[0m\u001b[30;107m   \u001b[0m\u001b[30;107m \u001b[0m\u001b[30;107m│\u001b[0m\u001b[30;107m \u001b[0m\u001b[30;107m  \u001b[0m\u001b[1;36;107m13494\u001b[0m\u001b[30;107m   \u001b[0m\u001b[30;107m \u001b[0m\u001b[30;107m│\u001b[0m\u001b[30;107m \u001b[0m\u001b[30;107m \u001b[0m\u001b[1;36;107m344\u001b[0m\u001b[30;107m \u001b[0m\u001b[30;107m \u001b[0m\u001b[30;107m│\u001b[0m\u001b[30;107m \u001b[0m\u001b[30;107m   \u001b[0m\u001b[1;36;107m3\u001b[0m\u001b[30;107m %    \u001b[0m\u001b[30;107m \u001b[0m\u001b[30;107m│\u001b[0m\n",
       "\u001b[30;107m│\u001b[0m\u001b[30;107m \u001b[0m\u001b[30;107m  \u001b[0m\u001b[1;36;107m10682\u001b[0m\u001b[30;107m   \u001b[0m\u001b[30;107m \u001b[0m\u001b[30;107m│\u001b[0m\u001b[30;107m \u001b[0m\u001b[30;107m  \u001b[0m\u001b[1;36;107m12500\u001b[0m\u001b[30;107m   \u001b[0m\u001b[30;107m \u001b[0m\u001b[30;107m│\u001b[0m\u001b[30;107m \u001b[0m\u001b[1;36;107m1818\u001b[0m\u001b[30;107m \u001b[0m\u001b[30;107m \u001b[0m\u001b[30;107m│\u001b[0m\u001b[30;107m \u001b[0m\u001b[30;107m   \u001b[0m\u001b[1;36;107m15\u001b[0m\u001b[30;107m %   \u001b[0m\u001b[30;107m \u001b[0m\u001b[30;107m│\u001b[0m\n",
       "\u001b[30;107m│\u001b[0m\u001b[30;107m \u001b[0m\u001b[30;107m  \u001b[0m\u001b[1;36;107m14905\u001b[0m\u001b[30;107m   \u001b[0m\u001b[30;107m \u001b[0m\u001b[30;107m│\u001b[0m\u001b[30;107m \u001b[0m\u001b[30;107m  \u001b[0m\u001b[1;36;107m13599\u001b[0m\u001b[30;107m   \u001b[0m\u001b[30;107m \u001b[0m\u001b[30;107m│\u001b[0m\u001b[30;107m \u001b[0m\u001b[1;36;107m1306\u001b[0m\u001b[30;107m \u001b[0m\u001b[30;107m \u001b[0m\u001b[30;107m│\u001b[0m\u001b[30;107m \u001b[0m\u001b[30;107m   \u001b[0m\u001b[1;36;107m10\u001b[0m\u001b[30;107m %   \u001b[0m\u001b[30;107m \u001b[0m\u001b[30;107m│\u001b[0m\n",
       "\u001b[30;107m│\u001b[0m\u001b[30;107m \u001b[0m\u001b[30;107m   \u001b[0m\u001b[1;36;107m8628\u001b[0m\u001b[30;107m   \u001b[0m\u001b[30;107m \u001b[0m\u001b[30;107m│\u001b[0m\u001b[30;107m \u001b[0m\u001b[30;107m   \u001b[0m\u001b[1;36;107m8740\u001b[0m\u001b[30;107m   \u001b[0m\u001b[30;107m \u001b[0m\u001b[30;107m│\u001b[0m\u001b[30;107m \u001b[0m\u001b[30;107m \u001b[0m\u001b[1;36;107m112\u001b[0m\u001b[30;107m \u001b[0m\u001b[30;107m \u001b[0m\u001b[30;107m│\u001b[0m\u001b[30;107m \u001b[0m\u001b[30;107m   \u001b[0m\u001b[1;36;107m1\u001b[0m\u001b[30;107m %    \u001b[0m\u001b[30;107m \u001b[0m\u001b[30;107m│\u001b[0m\n",
       "\u001b[30;107m│\u001b[0m\u001b[30;107m \u001b[0m\u001b[30;107m  \u001b[0m\u001b[1;36;107m38590\u001b[0m\u001b[30;107m   \u001b[0m\u001b[30;107m \u001b[0m\u001b[30;107m│\u001b[0m\u001b[30;107m \u001b[0m\u001b[30;107m  \u001b[0m\u001b[1;36;107m34950\u001b[0m\u001b[30;107m   \u001b[0m\u001b[30;107m \u001b[0m\u001b[30;107m│\u001b[0m\u001b[30;107m \u001b[0m\u001b[1;36;107m3640\u001b[0m\u001b[30;107m \u001b[0m\u001b[30;107m \u001b[0m\u001b[30;107m│\u001b[0m\u001b[30;107m \u001b[0m\u001b[30;107m   \u001b[0m\u001b[1;36;107m10\u001b[0m\u001b[30;107m %   \u001b[0m\u001b[30;107m \u001b[0m\u001b[30;107m│\u001b[0m\n",
       "\u001b[30;107m│\u001b[0m\u001b[30;107m \u001b[0m\u001b[30;107m  \u001b[0m\u001b[1;36;107m11916\u001b[0m\u001b[30;107m   \u001b[0m\u001b[30;107m \u001b[0m\u001b[30;107m│\u001b[0m\u001b[30;107m \u001b[0m\u001b[30;107m  \u001b[0m\u001b[1;36;107m12700\u001b[0m\u001b[30;107m   \u001b[0m\u001b[30;107m \u001b[0m\u001b[30;107m│\u001b[0m\u001b[30;107m \u001b[0m\u001b[30;107m \u001b[0m\u001b[1;36;107m784\u001b[0m\u001b[30;107m \u001b[0m\u001b[30;107m \u001b[0m\u001b[30;107m│\u001b[0m\u001b[30;107m \u001b[0m\u001b[30;107m   \u001b[0m\u001b[1;36;107m6\u001b[0m\u001b[30;107m %    \u001b[0m\u001b[30;107m \u001b[0m\u001b[30;107m│\u001b[0m\n",
       "\u001b[30;107m│\u001b[0m\u001b[30;107m \u001b[0m\u001b[30;107m  \u001b[0m\u001b[1;36;107m12977\u001b[0m\u001b[30;107m   \u001b[0m\u001b[30;107m \u001b[0m\u001b[30;107m│\u001b[0m\u001b[30;107m \u001b[0m\u001b[30;107m  \u001b[0m\u001b[1;36;107m13494\u001b[0m\u001b[30;107m   \u001b[0m\u001b[30;107m \u001b[0m\u001b[30;107m│\u001b[0m\u001b[30;107m \u001b[0m\u001b[30;107m \u001b[0m\u001b[1;36;107m517\u001b[0m\u001b[30;107m \u001b[0m\u001b[30;107m \u001b[0m\u001b[30;107m│\u001b[0m\u001b[30;107m \u001b[0m\u001b[30;107m   \u001b[0m\u001b[1;36;107m4\u001b[0m\u001b[30;107m %    \u001b[0m\u001b[30;107m \u001b[0m\u001b[30;107m│\u001b[0m\n",
       "\u001b[30;107m│\u001b[0m\u001b[30;107m \u001b[0m\u001b[30;107m  \u001b[0m\u001b[1;36;107m10350\u001b[0m\u001b[30;107m   \u001b[0m\u001b[30;107m \u001b[0m\u001b[30;107m│\u001b[0m\u001b[30;107m \u001b[0m\u001b[30;107m  \u001b[0m\u001b[1;36;107m14591\u001b[0m\u001b[30;107m   \u001b[0m\u001b[30;107m \u001b[0m\u001b[30;107m│\u001b[0m\u001b[30;107m \u001b[0m\u001b[1;36;107m4241\u001b[0m\u001b[30;107m \u001b[0m\u001b[30;107m \u001b[0m\u001b[30;107m│\u001b[0m\u001b[30;107m \u001b[0m\u001b[30;107m   \u001b[0m\u001b[1;36;107m29\u001b[0m\u001b[30;107m %   \u001b[0m\u001b[30;107m \u001b[0m\u001b[30;107m│\u001b[0m\n",
       "\u001b[30;107m│\u001b[0m\u001b[30;107m \u001b[0m\u001b[30;107m  \u001b[0m\u001b[1;36;107m20696\u001b[0m\u001b[30;107m   \u001b[0m\u001b[30;107m \u001b[0m\u001b[30;107m│\u001b[0m\u001b[30;107m \u001b[0m\u001b[30;107m  \u001b[0m\u001b[1;36;107m20500\u001b[0m\u001b[30;107m   \u001b[0m\u001b[30;107m \u001b[0m\u001b[30;107m│\u001b[0m\u001b[30;107m \u001b[0m\u001b[30;107m \u001b[0m\u001b[1;36;107m196\u001b[0m\u001b[30;107m \u001b[0m\u001b[30;107m \u001b[0m\u001b[30;107m│\u001b[0m\u001b[30;107m \u001b[0m\u001b[30;107m   \u001b[0m\u001b[1;36;107m1\u001b[0m\u001b[30;107m %    \u001b[0m\u001b[30;107m \u001b[0m\u001b[30;107m│\u001b[0m\n",
       "\u001b[30;107m│\u001b[0m\u001b[30;107m \u001b[0m\u001b[30;107m  \u001b[0m\u001b[1;36;107m16640\u001b[0m\u001b[30;107m   \u001b[0m\u001b[30;107m \u001b[0m\u001b[30;107m│\u001b[0m\u001b[30;107m \u001b[0m\u001b[30;107m  \u001b[0m\u001b[1;36;107m16497\u001b[0m\u001b[30;107m   \u001b[0m\u001b[30;107m \u001b[0m\u001b[30;107m│\u001b[0m\u001b[30;107m \u001b[0m\u001b[30;107m \u001b[0m\u001b[1;36;107m143\u001b[0m\u001b[30;107m \u001b[0m\u001b[30;107m \u001b[0m\u001b[30;107m│\u001b[0m\u001b[30;107m \u001b[0m\u001b[30;107m   \u001b[0m\u001b[1;36;107m1\u001b[0m\u001b[30;107m %    \u001b[0m\u001b[30;107m \u001b[0m\u001b[30;107m│\u001b[0m\n",
       "\u001b[30;107m│\u001b[0m\u001b[30;107m \u001b[0m\u001b[30;107m  \u001b[0m\u001b[1;36;107m41711\u001b[0m\u001b[30;107m   \u001b[0m\u001b[30;107m \u001b[0m\u001b[30;107m│\u001b[0m\u001b[30;107m \u001b[0m\u001b[30;107m  \u001b[0m\u001b[1;36;107m45490\u001b[0m\u001b[30;107m   \u001b[0m\u001b[30;107m \u001b[0m\u001b[30;107m│\u001b[0m\u001b[30;107m \u001b[0m\u001b[1;36;107m3779\u001b[0m\u001b[30;107m \u001b[0m\u001b[30;107m \u001b[0m\u001b[30;107m│\u001b[0m\u001b[30;107m \u001b[0m\u001b[30;107m   \u001b[0m\u001b[1;36;107m8\u001b[0m\u001b[30;107m %    \u001b[0m\u001b[30;107m \u001b[0m\u001b[30;107m│\u001b[0m\n",
       "\u001b[30;107m│\u001b[0m\u001b[30;107m \u001b[0m\u001b[30;107m   \u001b[0m\u001b[1;36;107m8135\u001b[0m\u001b[30;107m   \u001b[0m\u001b[30;107m \u001b[0m\u001b[30;107m│\u001b[0m\u001b[30;107m \u001b[0m\u001b[30;107m   \u001b[0m\u001b[1;36;107m6994\u001b[0m\u001b[30;107m   \u001b[0m\u001b[30;107m \u001b[0m\u001b[30;107m│\u001b[0m\u001b[30;107m \u001b[0m\u001b[1;36;107m1141\u001b[0m\u001b[30;107m \u001b[0m\u001b[30;107m \u001b[0m\u001b[30;107m│\u001b[0m\u001b[30;107m \u001b[0m\u001b[30;107m   \u001b[0m\u001b[1;36;107m16\u001b[0m\u001b[30;107m %   \u001b[0m\u001b[30;107m \u001b[0m\u001b[30;107m│\u001b[0m\n",
       "\u001b[30;107m│\u001b[0m\u001b[30;107m \u001b[0m\u001b[30;107m  \u001b[0m\u001b[1;36;107m16675\u001b[0m\u001b[30;107m   \u001b[0m\u001b[30;107m \u001b[0m\u001b[30;107m│\u001b[0m\u001b[30;107m \u001b[0m\u001b[30;107m  \u001b[0m\u001b[1;36;107m16297\u001b[0m\u001b[30;107m   \u001b[0m\u001b[30;107m \u001b[0m\u001b[30;107m│\u001b[0m\u001b[30;107m \u001b[0m\u001b[30;107m \u001b[0m\u001b[1;36;107m378\u001b[0m\u001b[30;107m \u001b[0m\u001b[30;107m \u001b[0m\u001b[30;107m│\u001b[0m\u001b[30;107m \u001b[0m\u001b[30;107m   \u001b[0m\u001b[1;36;107m2\u001b[0m\u001b[30;107m %    \u001b[0m\u001b[30;107m \u001b[0m\u001b[30;107m│\u001b[0m\n",
       "\u001b[30;107m│\u001b[0m\u001b[30;107m \u001b[0m\u001b[30;107m  \u001b[0m\u001b[1;36;107m22166\u001b[0m\u001b[30;107m   \u001b[0m\u001b[30;107m \u001b[0m\u001b[30;107m│\u001b[0m\u001b[30;107m \u001b[0m\u001b[30;107m  \u001b[0m\u001b[1;36;107m22095\u001b[0m\u001b[30;107m   \u001b[0m\u001b[30;107m \u001b[0m\u001b[30;107m│\u001b[0m\u001b[30;107m \u001b[0m\u001b[30;107m \u001b[0m\u001b[1;36;107m71\u001b[0m\u001b[30;107m  \u001b[0m\u001b[30;107m \u001b[0m\u001b[30;107m│\u001b[0m\u001b[30;107m \u001b[0m\u001b[30;107m   \u001b[0m\u001b[1;36;107m0\u001b[0m\u001b[30;107m %    \u001b[0m\u001b[30;107m \u001b[0m\u001b[30;107m│\u001b[0m\n",
       "\u001b[30;107m└────────────┴────────────┴───────┴────────────┘\u001b[0m\n"
      ]
     },
     "metadata": {},
     "output_type": "display_data"
    }
   ],
   "source": [
    "evaluate_prediction(model, X_test, y_test,sample=25)"
   ]
  },
  {
   "cell_type": "markdown",
   "id": "66e8a799",
   "metadata": {
    "slideshow": {
     "slide_type": "slide"
    }
   },
   "source": [
    "## Context d'application\n",
    "\n",
    "Décrire le contexte d'évaluation du model. cdts dans lesquelles la précision est valable."
   ]
  },
  {
   "cell_type": "markdown",
   "id": "66b0547f",
   "metadata": {
    "slideshow": {
     "slide_type": "slide"
    }
   },
   "source": [
    "### Limites\n",
    "\n",
    "Décrire les limites dans lesquelles le modèle est utilisable."
   ]
  },
  {
   "cell_type": "markdown",
   "id": "17eba132",
   "metadata": {
    "slideshow": {
     "slide_type": "slide"
    }
   },
   "source": [
    "## Heuristique, analyse et choix"
   ]
  },
  {
   "cell_type": "markdown",
   "id": "1dec395f",
   "metadata": {
    "slideshow": {
     "slide_type": "fragment"
    }
   },
   "source": [
    "### Traitement du jeu de données"
   ]
  },
  {
   "cell_type": "markdown",
   "id": "5ff95e06",
   "metadata": {
    "slideshow": {
     "slide_type": "subslide"
    }
   },
   "source": [
    "#### Suppression des valeurs extrêmes\n",
    "\n",
    "##### Avant séparation du jeu de données\n",
    "\n",
    "Suppression des valeurs extrêmes avant de scinder le jeu de données en ensemble d'entraînement, de validation et de test: \n",
    "\n",
    "Évaluation brute, RMSE: `1810.4777071283058`\n",
    "\n",
    "##### Après séparation du jeu de données\n",
    "\n",
    "Séquence:\n",
    "1. Scission du jeu de données en *ensemble d'entraînement* et *ensemble de test*\n",
    "1. Suppression des valeurs extrêmes dans l'*ensemble d'entraînement*\n",
    "\n",
    "Évaluation brute, RMSE: `1879.4122621120684`\n"
   ]
  },
  {
   "cell_type": "markdown",
   "id": "67b22b63",
   "metadata": {
    "slideshow": {
     "slide_type": "subslide"
    }
   },
   "source": [
    "#### Imputation des valeurs extrêmes\n",
    "\n",
    "##### Avant séparation du jeu de données\n",
    "\n",
    "Séquence:\n",
    "1. marquage des valeurs extrêmes\n",
    "1. Imputation des valeurs marquées:\n",
    "   * **KNNImputer**: \n",
    "       * Entraîné sur l'ensemble des valeurs des variables du jeu de données\n",
    "       * Transformation de l'ensemble des valeurs marquées\n",
    "       * Évaluation brute, RMSE: `1863.9720250598702`\n",
    "       \n",
    "   * **IterativeImputer**: \n",
    "       * Entraîné sur l'ensemble des valeurs des variables du jeu de données\n",
    "       * Transformation de l'*ensemble d'entraînement* uniquement\n",
    "       * Évaluation brute, RMSE: `1869.5612685708281`"
   ]
  },
  {
   "cell_type": "markdown",
   "id": "3ac697fe",
   "metadata": {
    "slideshow": {
     "slide_type": "subslide"
    }
   },
   "source": [
    "##### Après séparation du jeu de données\n",
    "\n",
    "Séquence:\n",
    "1. Scission du jeu de données en *ensemble d'entraînement* et *ensemble de test*\n",
    "1. Marquage des valeurs extrêmes dans l'*ensemble d'entraînement*\n",
    "1. Imputation des valeurs marquées dans l'ensemble *ensemble d'entraînement*:\n",
    "   * **KNNImputer**: \n",
    "       * Entraîné sur l'ensemble des valeurs des variables du jeu de données\n",
    "       * Transformation de l'*ensemble d'entraînement* uniquement\n",
    "       * Évaluation brute, RMSE: `1885.9952078731876`\n",
    "   * **IterativeImputer**: \n",
    "       * Entraîné sur l'ensemble des valeurs des variables du jeu de données\n",
    "       * Transformation de l'*ensemble d'entraînement* uniquement\n",
    "       *  Évaluation brute, RMSE: `1848.2712109813936`\n",
    "       \n",
    "1. Scission de l'*ensemble d'entraînement* en un *ensemble de validation* et un d'*entraînement*"
   ]
  },
  {
   "cell_type": "markdown",
   "id": "e42dd767",
   "metadata": {
    "slideshow": {
     "slide_type": "subslide"
    }
   },
   "source": [
    "#### Suppression et imputation\n",
    "\n",
    "séquence:\n",
    "1. Suppression des valeurs extrêmes sur l'ensemble des données\n",
    "1. Imputation des valeurs marquées dans l'ensemble *ensemble d'entraînement*:\n",
    "   * **KNNImputer**: \n",
    "       * Entraîné sur l'ensemble des valeurs des variables du jeu de données\n",
    "       * Transformation de l'*ensemble d'entraînement* uniquement\n",
    "       * Évaluation brute, RMSE: `1796.7700517404032`\n",
    "   * **IterativeImputer**: \n",
    "       * Entraîné sur l'ensemble des valeurs des variables du jeu de données\n",
    "       * Transformation de l'*ensemble d'entraînement* uniquement\n",
    "       * Évaluation brute, RMSE: `1803.47188168163`\n",
    "1. Scission de l'*ensemble d'entraînement* en un *ensemble de validation* et un d'*entraînement*"
   ]
  },
  {
   "cell_type": "markdown",
   "id": "d60ad738",
   "metadata": {
    "slideshow": {
     "slide_type": "slide"
    }
   },
   "source": [
    "## Méthode"
   ]
  },
  {
   "cell_type": "markdown",
   "id": "b2df1155",
   "metadata": {
    "slideshow": {
     "slide_type": "subslide"
    }
   },
   "source": [
    "<center><img src=\"./assets/one_model_by_brand_overview.svg\"/></center>"
   ]
  },
  {
   "cell_type": "markdown",
   "id": "7a244106",
   "metadata": {
    "slideshow": {
     "slide_type": "subslide"
    }
   },
   "source": [
    "### Traitement des fichiers sources\n",
    "<center><img src=\"./assets/file_processing.svg\"/></center>"
   ]
  },
  {
   "cell_type": "markdown",
   "id": "11d91a01",
   "metadata": {
    "slideshow": {
     "slide_type": "subslide"
    }
   },
   "source": [
    "### Préparation des données\n",
    "\n",
    "<center><img src=\"./assets/prepare_data.svg\"/></center>"
   ]
  },
  {
   "cell_type": "markdown",
   "id": "49526ed2",
   "metadata": {
    "slideshow": {
     "slide_type": "subslide"
    }
   },
   "source": [
    "### Séparation des données\n",
    "\n",
    "<center><img src=\"./assets/split_data.svg\"/></center>"
   ]
  },
  {
   "cell_type": "markdown",
   "id": "7600e9f3",
   "metadata": {
    "slideshow": {
     "slide_type": "subslide"
    }
   },
   "source": [
    "### Création du Modèle\n",
    "\n",
    "<center><img src=\"./assets/build_model.svg\"/></center>"
   ]
  },
  {
   "cell_type": "markdown",
   "id": "6e691b85",
   "metadata": {
    "slideshow": {
     "slide_type": "subslide"
    }
   },
   "source": [
    "#### Extract Features\n",
    "\n",
    "Création de nouvelles variables:\n",
    "1. `age`: $max(year)-year$\n",
    "1. `model_count`: nombre d'occurence du modèle dans le dataset\n",
    "1. `occurence_relative`: $\\frac{count(model)}{count(allmodel)}$\n",
    "1. `mileage_per_year`: $\\frac{mileage}{age}$\n",
    "1. `mpg_per_year`: $\\frac{mpg}{age}$\n",
    "1. `tax_per_year`: $\\frac{tax}{age}$\n",
    "1. `engine_size_per_year`: $\\frac{enginesize}{age}$\n",
    "1. `esoteric_composite_ratio`\n",
    "\n",
    "Suivant la marque de voiture et/ou le modèle de prédiction créé, certaines améliorent le score de prédictions."
   ]
  },
  {
   "cell_type": "markdown",
   "id": "db3c41a4",
   "metadata": {
    "slideshow": {
     "slide_type": "subslide"
    }
   },
   "source": [
    "#### Transform Features\n",
    "1. `PolynomialFeature` pour les variables numériques.\n",
    "1. `KBinsDiscretizer` pour les variables `mpg`, `tax`, `engine_size`, `year`.\n",
    "1. `OneHotEncoder` ou `OrdinalEncoder` pour les variables `model`, `brand`, `transmission`, `fuel_type`. \n",
    "   Pour l'`OrdinalEncoder`, les catégories ont été triées relativement à la variable dépendante `price` par ordre ascendant.\n"
   ]
  },
  {
   "cell_type": "markdown",
   "id": "d29bc0e5",
   "metadata": {
    "slideshow": {
     "slide_type": "subslide"
    }
   },
   "source": [
    "### Hyperparamètres\n",
    "\n",
    "<center><img src=\"./assets/best_params_search.svg\"/></center>"
   ]
  },
  {
   "cell_type": "raw",
   "id": "d2de6716",
   "metadata": {
    "slideshow": {
     "slide_type": "subslide"
    }
   },
   "source": [
    "Loading ./dataset/prepared_data/toyota.csv\n",
    "\n",
    "(...)\n",
    "\n",
    "New best score for this combination:\n",
    "\n",
    "Best score 918.9770768190458\n",
    "Best params \n",
    "{'transformer__poly': 'passthrough',\n",
    " 'transformer__mpg_pipe': {'transformer__mpg_pipe__discretize__encode': 'ordinal',  \n",
    "                           'transformer__mpg_pipe__discretize__n_bins': 6,\n",
    "                           'transformer__mpg_pipe__discretize__strategy': 'uniform'}, \n",
    " 'transformer__tax_pipe': 'passthrough', \n",
    " 'transformer__engine_size_pipe': 'passthrough', \n",
    " 'transformer__year_pipe': 'passthrough'}\n",
    "\n",
    "(...)\n",
    "\n",
    "Toyota - Best score 918.9770768190458\n",
    "Toyota - Best params {...}\n",
    "Best Model saved @ ./model/toyota_optimize.joblib"
   ]
  },
  {
   "cell_type": "markdown",
   "id": "69ca0b9f",
   "metadata": {
    "slideshow": {
     "slide_type": "slide"
    }
   },
   "source": [
    "## Recherche de Modèles"
   ]
  },
  {
   "cell_type": "markdown",
   "id": "b9ea6ac5",
   "metadata": {
    "slideshow": {
     "slide_type": "slide"
    }
   },
   "source": [
    "### Par marques\n",
    "\n",
    "Création d'un modèle par marques"
   ]
  },
  {
   "cell_type": "code",
   "execution_count": 19,
   "id": "f7404691",
   "metadata": {},
   "outputs": [
    {
     "data": {
      "text/html": [
       "<pre style=\"white-space:pre;overflow-x:auto;line-height:normal;font-family:Menlo,'DejaVu Sans Mono',consolas,'Courier New',monospace\"><span style=\"color: #000000; text-decoration-color: #000000; background-color: #ffffff; font-weight: bold\">PERFORMANCE COMPARISON</span> <span style=\"color: #000000; text-decoration-color: #000000; background-color: #ffffff\">──────────────────────────────────────────────────────────────────────</span>\n",
       "</pre>\n"
      ],
      "text/plain": [
       "\u001b[1;52;30;107mPERFORMANCE COMPARISON\u001b[0m \u001b[30;107m──────────────────────────────────────────────────────────────────────\u001b[0m\n"
      ]
     },
     "metadata": {},
     "output_type": "display_data"
    },
    {
     "data": {
      "text/html": [
       "<pre style=\"white-space:pre;overflow-x:auto;line-height:normal;font-family:Menlo,'DejaVu Sans Mono',consolas,'Courier New',monospace\"><span style=\"color: #000000; text-decoration-color: #000000; background-color: #ffffff; font-style: italic\">One model by Brand                                                                 </span>\n",
       "<span style=\"color: #000000; text-decoration-color: #000000; background-color: #ffffff\">┏━━━━━━━━━━┳━━━━━━┳━━━━━━━━━━━━━┳━━━━━━━━━━━━━━━━━┳━━━━━━━━━━━━━━━━━━━━━━━━━━━━━━━┓</span>\n",
       "<span style=\"color: #000000; text-decoration-color: #000000; background-color: #ffffff\">┃  Brand   ┃ RMSE ┃ Target mean ┃ Prediction mean ┃          Model path           ┃</span>\n",
       "<span style=\"color: #000000; text-decoration-color: #000000; background-color: #ffffff\">┡━━━━━━━━━━╇━━━━━━╇━━━━━━━━━━━━━╇━━━━━━━━━━━━━━━━━╇━━━━━━━━━━━━━━━━━━━━━━━━━━━━━━━┩</span>\n",
       "<span style=\"color: #000000; text-decoration-color: #000000; background-color: #ffffff\">│  Toyota  │ </span><span style=\"color: #008080; text-decoration-color: #008080; background-color: #ffffff; font-weight: bold\">1018</span><span style=\"color: #000000; text-decoration-color: #000000; background-color: #ffffff\"> │    </span><span style=\"color: #008080; text-decoration-color: #008080; background-color: #ffffff; font-weight: bold\">12543</span><span style=\"color: #000000; text-decoration-color: #000000; background-color: #ffffff\">    │      </span><span style=\"color: #008080; text-decoration-color: #008080; background-color: #ffffff; font-weight: bold\">12424</span><span style=\"color: #000000; text-decoration-color: #000000; background-color: #ffffff\">      │  .</span><span style=\"color: #800080; text-decoration-color: #800080; background-color: #ffffff\">/model/</span><span style=\"color: #ff00ff; text-decoration-color: #ff00ff; background-color: #ffffff\">toyota_model.joblib</span><span style=\"color: #000000; text-decoration-color: #000000; background-color: #ffffff\">  │</span>\n",
       "<span style=\"color: #000000; text-decoration-color: #000000; background-color: #ffffff\">│ Mercedes │ </span><span style=\"color: #008080; text-decoration-color: #008080; background-color: #ffffff; font-weight: bold\">2742</span><span style=\"color: #000000; text-decoration-color: #000000; background-color: #ffffff\"> │    </span><span style=\"color: #008080; text-decoration-color: #008080; background-color: #ffffff; font-weight: bold\">24606</span><span style=\"color: #000000; text-decoration-color: #000000; background-color: #ffffff\">    │      </span><span style=\"color: #008080; text-decoration-color: #008080; background-color: #ffffff; font-weight: bold\">24386</span><span style=\"color: #000000; text-decoration-color: #000000; background-color: #ffffff\">      │ .</span><span style=\"color: #800080; text-decoration-color: #800080; background-color: #ffffff\">/model/</span><span style=\"color: #ff00ff; text-decoration-color: #ff00ff; background-color: #ffffff\">mercedes_model.joblib</span><span style=\"color: #000000; text-decoration-color: #000000; background-color: #ffffff\"> │</span>\n",
       "<span style=\"color: #000000; text-decoration-color: #000000; background-color: #ffffff\">│   Audi   │ </span><span style=\"color: #008080; text-decoration-color: #008080; background-color: #ffffff; font-weight: bold\">2866</span><span style=\"color: #000000; text-decoration-color: #000000; background-color: #ffffff\"> │    </span><span style=\"color: #008080; text-decoration-color: #008080; background-color: #ffffff; font-weight: bold\">23179</span><span style=\"color: #000000; text-decoration-color: #000000; background-color: #ffffff\">    │      </span><span style=\"color: #008080; text-decoration-color: #008080; background-color: #ffffff; font-weight: bold\">23099</span><span style=\"color: #000000; text-decoration-color: #000000; background-color: #ffffff\">      │   .</span><span style=\"color: #800080; text-decoration-color: #800080; background-color: #ffffff\">/model/</span><span style=\"color: #ff00ff; text-decoration-color: #ff00ff; background-color: #ffffff\">audi_model.joblib</span><span style=\"color: #000000; text-decoration-color: #000000; background-color: #ffffff\">   │</span>\n",
       "<span style=\"color: #000000; text-decoration-color: #000000; background-color: #ffffff\">│   Bmw    │ </span><span style=\"color: #008080; text-decoration-color: #008080; background-color: #ffffff; font-weight: bold\">2699</span><span style=\"color: #000000; text-decoration-color: #000000; background-color: #ffffff\"> │    </span><span style=\"color: #008080; text-decoration-color: #008080; background-color: #ffffff; font-weight: bold\">22720</span><span style=\"color: #000000; text-decoration-color: #000000; background-color: #ffffff\">    │      </span><span style=\"color: #008080; text-decoration-color: #008080; background-color: #ffffff; font-weight: bold\">22594</span><span style=\"color: #000000; text-decoration-color: #000000; background-color: #ffffff\">      │   .</span><span style=\"color: #800080; text-decoration-color: #800080; background-color: #ffffff\">/model/</span><span style=\"color: #ff00ff; text-decoration-color: #ff00ff; background-color: #ffffff\">bmw_model.joblib</span><span style=\"color: #000000; text-decoration-color: #000000; background-color: #ffffff\">    │</span>\n",
       "<span style=\"color: #000000; text-decoration-color: #000000; background-color: #ffffff\">│   Ford   │ </span><span style=\"color: #008080; text-decoration-color: #008080; background-color: #ffffff; font-weight: bold\">1133</span><span style=\"color: #000000; text-decoration-color: #000000; background-color: #ffffff\"> │    </span><span style=\"color: #008080; text-decoration-color: #008080; background-color: #ffffff; font-weight: bold\">12214</span><span style=\"color: #000000; text-decoration-color: #000000; background-color: #ffffff\">    │      </span><span style=\"color: #008080; text-decoration-color: #008080; background-color: #ffffff; font-weight: bold\">12240</span><span style=\"color: #000000; text-decoration-color: #000000; background-color: #ffffff\">      │   .</span><span style=\"color: #800080; text-decoration-color: #800080; background-color: #ffffff\">/model/</span><span style=\"color: #ff00ff; text-decoration-color: #ff00ff; background-color: #ffffff\">ford_model.joblib</span><span style=\"color: #000000; text-decoration-color: #000000; background-color: #ffffff\">   │</span>\n",
       "<span style=\"color: #000000; text-decoration-color: #000000; background-color: #ffffff\">│    Vw    │ </span><span style=\"color: #008080; text-decoration-color: #008080; background-color: #ffffff; font-weight: bold\">1294</span><span style=\"color: #000000; text-decoration-color: #000000; background-color: #ffffff\"> │    </span><span style=\"color: #008080; text-decoration-color: #008080; background-color: #ffffff; font-weight: bold\">16745</span><span style=\"color: #000000; text-decoration-color: #000000; background-color: #ffffff\">    │      </span><span style=\"color: #008080; text-decoration-color: #008080; background-color: #ffffff; font-weight: bold\">16690</span><span style=\"color: #000000; text-decoration-color: #000000; background-color: #ffffff\">      │    .</span><span style=\"color: #800080; text-decoration-color: #800080; background-color: #ffffff\">/model/</span><span style=\"color: #ff00ff; text-decoration-color: #ff00ff; background-color: #ffffff\">vw_model.joblib</span><span style=\"color: #000000; text-decoration-color: #000000; background-color: #ffffff\">    │</span>\n",
       "<span style=\"color: #000000; text-decoration-color: #000000; background-color: #ffffff\">│   Opel   │ </span><span style=\"color: #008080; text-decoration-color: #008080; background-color: #ffffff; font-weight: bold\">1100</span><span style=\"color: #000000; text-decoration-color: #000000; background-color: #ffffff\"> │    </span><span style=\"color: #008080; text-decoration-color: #008080; background-color: #ffffff; font-weight: bold\">10471</span><span style=\"color: #000000; text-decoration-color: #000000; background-color: #ffffff\">    │      </span><span style=\"color: #008080; text-decoration-color: #008080; background-color: #ffffff; font-weight: bold\">10445</span><span style=\"color: #000000; text-decoration-color: #000000; background-color: #ffffff\">      │   .</span><span style=\"color: #800080; text-decoration-color: #800080; background-color: #ffffff\">/model/</span><span style=\"color: #ff00ff; text-decoration-color: #ff00ff; background-color: #ffffff\">opel_model.joblib</span><span style=\"color: #000000; text-decoration-color: #000000; background-color: #ffffff\">   │</span>\n",
       "<span style=\"color: #000000; text-decoration-color: #000000; background-color: #ffffff\">│ Hyundai  │ </span><span style=\"color: #008080; text-decoration-color: #008080; background-color: #ffffff; font-weight: bold\">1262</span><span style=\"color: #000000; text-decoration-color: #000000; background-color: #ffffff\"> │    </span><span style=\"color: #008080; text-decoration-color: #008080; background-color: #ffffff; font-weight: bold\">12806</span><span style=\"color: #000000; text-decoration-color: #000000; background-color: #ffffff\">    │      </span><span style=\"color: #008080; text-decoration-color: #008080; background-color: #ffffff; font-weight: bold\">12847</span><span style=\"color: #000000; text-decoration-color: #000000; background-color: #ffffff\">      │ .</span><span style=\"color: #800080; text-decoration-color: #800080; background-color: #ffffff\">/model/</span><span style=\"color: #ff00ff; text-decoration-color: #ff00ff; background-color: #ffffff\">hyundai_model.joblib</span><span style=\"color: #000000; text-decoration-color: #000000; background-color: #ffffff\">  │</span>\n",
       "<span style=\"color: #000000; text-decoration-color: #000000; background-color: #ffffff\">│  Skoda   │ </span><span style=\"color: #008080; text-decoration-color: #008080; background-color: #ffffff; font-weight: bold\">1300</span><span style=\"color: #000000; text-decoration-color: #000000; background-color: #ffffff\"> │    </span><span style=\"color: #008080; text-decoration-color: #008080; background-color: #ffffff; font-weight: bold\">14096</span><span style=\"color: #000000; text-decoration-color: #000000; background-color: #ffffff\">    │      </span><span style=\"color: #008080; text-decoration-color: #008080; background-color: #ffffff; font-weight: bold\">14077</span><span style=\"color: #000000; text-decoration-color: #000000; background-color: #ffffff\">      │  .</span><span style=\"color: #800080; text-decoration-color: #800080; background-color: #ffffff\">/model/</span><span style=\"color: #ff00ff; text-decoration-color: #ff00ff; background-color: #ffffff\">skoda_model.joblib</span><span style=\"color: #000000; text-decoration-color: #000000; background-color: #ffffff\">   │</span>\n",
       "<span style=\"color: #000000; text-decoration-color: #000000; background-color: #ffffff\">└──────────┴──────┴─────────────┴─────────────────┴───────────────────────────────┘</span>\n",
       "</pre>\n"
      ],
      "text/plain": [
       "\u001b[3;30;107mOne model by Brand                                                                 \u001b[0m\n",
       "\u001b[30;107m┏━━━━━━━━━━┳━━━━━━┳━━━━━━━━━━━━━┳━━━━━━━━━━━━━━━━━┳━━━━━━━━━━━━━━━━━━━━━━━━━━━━━━━┓\u001b[0m\n",
       "\u001b[30;107m┃\u001b[0m\u001b[30;107m \u001b[0m\u001b[30;107m Brand  \u001b[0m\u001b[30;107m \u001b[0m\u001b[30;107m┃\u001b[0m\u001b[30;107m \u001b[0m\u001b[30;107mRMSE\u001b[0m\u001b[30;107m \u001b[0m\u001b[30;107m┃\u001b[0m\u001b[30;107m \u001b[0m\u001b[30;107mTarget mean\u001b[0m\u001b[30;107m \u001b[0m\u001b[30;107m┃\u001b[0m\u001b[30;107m \u001b[0m\u001b[30;107mPrediction mean\u001b[0m\u001b[30;107m \u001b[0m\u001b[30;107m┃\u001b[0m\u001b[30;107m \u001b[0m\u001b[30;107m         Model path          \u001b[0m\u001b[30;107m \u001b[0m\u001b[30;107m┃\u001b[0m\n",
       "\u001b[30;107m┡━━━━━━━━━━╇━━━━━━╇━━━━━━━━━━━━━╇━━━━━━━━━━━━━━━━━╇━━━━━━━━━━━━━━━━━━━━━━━━━━━━━━━┩\u001b[0m\n",
       "\u001b[30;107m│\u001b[0m\u001b[30;107m \u001b[0m\u001b[30;107m Toyota \u001b[0m\u001b[30;107m \u001b[0m\u001b[30;107m│\u001b[0m\u001b[30;107m \u001b[0m\u001b[1;36;107m1018\u001b[0m\u001b[30;107m \u001b[0m\u001b[30;107m│\u001b[0m\u001b[30;107m \u001b[0m\u001b[30;107m   \u001b[0m\u001b[1;36;107m12543\u001b[0m\u001b[30;107m   \u001b[0m\u001b[30;107m \u001b[0m\u001b[30;107m│\u001b[0m\u001b[30;107m \u001b[0m\u001b[30;107m     \u001b[0m\u001b[1;36;107m12424\u001b[0m\u001b[30;107m     \u001b[0m\u001b[30;107m \u001b[0m\u001b[30;107m│\u001b[0m\u001b[30;107m \u001b[0m\u001b[30;107m .\u001b[0m\u001b[35;107m/model/\u001b[0m\u001b[95;107mtoyota_model.joblib\u001b[0m\u001b[30;107m \u001b[0m\u001b[30;107m \u001b[0m\u001b[30;107m│\u001b[0m\n",
       "\u001b[30;107m│\u001b[0m\u001b[30;107m \u001b[0m\u001b[30;107mMercedes\u001b[0m\u001b[30;107m \u001b[0m\u001b[30;107m│\u001b[0m\u001b[30;107m \u001b[0m\u001b[1;36;107m2742\u001b[0m\u001b[30;107m \u001b[0m\u001b[30;107m│\u001b[0m\u001b[30;107m \u001b[0m\u001b[30;107m   \u001b[0m\u001b[1;36;107m24606\u001b[0m\u001b[30;107m   \u001b[0m\u001b[30;107m \u001b[0m\u001b[30;107m│\u001b[0m\u001b[30;107m \u001b[0m\u001b[30;107m     \u001b[0m\u001b[1;36;107m24386\u001b[0m\u001b[30;107m     \u001b[0m\u001b[30;107m \u001b[0m\u001b[30;107m│\u001b[0m\u001b[30;107m \u001b[0m\u001b[30;107m.\u001b[0m\u001b[35;107m/model/\u001b[0m\u001b[95;107mmercedes_model.joblib\u001b[0m\u001b[30;107m \u001b[0m\u001b[30;107m│\u001b[0m\n",
       "\u001b[30;107m│\u001b[0m\u001b[30;107m \u001b[0m\u001b[30;107m  Audi  \u001b[0m\u001b[30;107m \u001b[0m\u001b[30;107m│\u001b[0m\u001b[30;107m \u001b[0m\u001b[1;36;107m2866\u001b[0m\u001b[30;107m \u001b[0m\u001b[30;107m│\u001b[0m\u001b[30;107m \u001b[0m\u001b[30;107m   \u001b[0m\u001b[1;36;107m23179\u001b[0m\u001b[30;107m   \u001b[0m\u001b[30;107m \u001b[0m\u001b[30;107m│\u001b[0m\u001b[30;107m \u001b[0m\u001b[30;107m     \u001b[0m\u001b[1;36;107m23099\u001b[0m\u001b[30;107m     \u001b[0m\u001b[30;107m \u001b[0m\u001b[30;107m│\u001b[0m\u001b[30;107m \u001b[0m\u001b[30;107m  .\u001b[0m\u001b[35;107m/model/\u001b[0m\u001b[95;107maudi_model.joblib\u001b[0m\u001b[30;107m  \u001b[0m\u001b[30;107m \u001b[0m\u001b[30;107m│\u001b[0m\n",
       "\u001b[30;107m│\u001b[0m\u001b[30;107m \u001b[0m\u001b[30;107m  Bmw   \u001b[0m\u001b[30;107m \u001b[0m\u001b[30;107m│\u001b[0m\u001b[30;107m \u001b[0m\u001b[1;36;107m2699\u001b[0m\u001b[30;107m \u001b[0m\u001b[30;107m│\u001b[0m\u001b[30;107m \u001b[0m\u001b[30;107m   \u001b[0m\u001b[1;36;107m22720\u001b[0m\u001b[30;107m   \u001b[0m\u001b[30;107m \u001b[0m\u001b[30;107m│\u001b[0m\u001b[30;107m \u001b[0m\u001b[30;107m     \u001b[0m\u001b[1;36;107m22594\u001b[0m\u001b[30;107m     \u001b[0m\u001b[30;107m \u001b[0m\u001b[30;107m│\u001b[0m\u001b[30;107m \u001b[0m\u001b[30;107m  .\u001b[0m\u001b[35;107m/model/\u001b[0m\u001b[95;107mbmw_model.joblib\u001b[0m\u001b[30;107m   \u001b[0m\u001b[30;107m \u001b[0m\u001b[30;107m│\u001b[0m\n",
       "\u001b[30;107m│\u001b[0m\u001b[30;107m \u001b[0m\u001b[30;107m  Ford  \u001b[0m\u001b[30;107m \u001b[0m\u001b[30;107m│\u001b[0m\u001b[30;107m \u001b[0m\u001b[1;36;107m1133\u001b[0m\u001b[30;107m \u001b[0m\u001b[30;107m│\u001b[0m\u001b[30;107m \u001b[0m\u001b[30;107m   \u001b[0m\u001b[1;36;107m12214\u001b[0m\u001b[30;107m   \u001b[0m\u001b[30;107m \u001b[0m\u001b[30;107m│\u001b[0m\u001b[30;107m \u001b[0m\u001b[30;107m     \u001b[0m\u001b[1;36;107m12240\u001b[0m\u001b[30;107m     \u001b[0m\u001b[30;107m \u001b[0m\u001b[30;107m│\u001b[0m\u001b[30;107m \u001b[0m\u001b[30;107m  .\u001b[0m\u001b[35;107m/model/\u001b[0m\u001b[95;107mford_model.joblib\u001b[0m\u001b[30;107m  \u001b[0m\u001b[30;107m \u001b[0m\u001b[30;107m│\u001b[0m\n",
       "\u001b[30;107m│\u001b[0m\u001b[30;107m \u001b[0m\u001b[30;107m   Vw   \u001b[0m\u001b[30;107m \u001b[0m\u001b[30;107m│\u001b[0m\u001b[30;107m \u001b[0m\u001b[1;36;107m1294\u001b[0m\u001b[30;107m \u001b[0m\u001b[30;107m│\u001b[0m\u001b[30;107m \u001b[0m\u001b[30;107m   \u001b[0m\u001b[1;36;107m16745\u001b[0m\u001b[30;107m   \u001b[0m\u001b[30;107m \u001b[0m\u001b[30;107m│\u001b[0m\u001b[30;107m \u001b[0m\u001b[30;107m     \u001b[0m\u001b[1;36;107m16690\u001b[0m\u001b[30;107m     \u001b[0m\u001b[30;107m \u001b[0m\u001b[30;107m│\u001b[0m\u001b[30;107m \u001b[0m\u001b[30;107m   .\u001b[0m\u001b[35;107m/model/\u001b[0m\u001b[95;107mvw_model.joblib\u001b[0m\u001b[30;107m   \u001b[0m\u001b[30;107m \u001b[0m\u001b[30;107m│\u001b[0m\n",
       "\u001b[30;107m│\u001b[0m\u001b[30;107m \u001b[0m\u001b[30;107m  Opel  \u001b[0m\u001b[30;107m \u001b[0m\u001b[30;107m│\u001b[0m\u001b[30;107m \u001b[0m\u001b[1;36;107m1100\u001b[0m\u001b[30;107m \u001b[0m\u001b[30;107m│\u001b[0m\u001b[30;107m \u001b[0m\u001b[30;107m   \u001b[0m\u001b[1;36;107m10471\u001b[0m\u001b[30;107m   \u001b[0m\u001b[30;107m \u001b[0m\u001b[30;107m│\u001b[0m\u001b[30;107m \u001b[0m\u001b[30;107m     \u001b[0m\u001b[1;36;107m10445\u001b[0m\u001b[30;107m     \u001b[0m\u001b[30;107m \u001b[0m\u001b[30;107m│\u001b[0m\u001b[30;107m \u001b[0m\u001b[30;107m  .\u001b[0m\u001b[35;107m/model/\u001b[0m\u001b[95;107mopel_model.joblib\u001b[0m\u001b[30;107m  \u001b[0m\u001b[30;107m \u001b[0m\u001b[30;107m│\u001b[0m\n",
       "\u001b[30;107m│\u001b[0m\u001b[30;107m \u001b[0m\u001b[30;107mHyundai \u001b[0m\u001b[30;107m \u001b[0m\u001b[30;107m│\u001b[0m\u001b[30;107m \u001b[0m\u001b[1;36;107m1262\u001b[0m\u001b[30;107m \u001b[0m\u001b[30;107m│\u001b[0m\u001b[30;107m \u001b[0m\u001b[30;107m   \u001b[0m\u001b[1;36;107m12806\u001b[0m\u001b[30;107m   \u001b[0m\u001b[30;107m \u001b[0m\u001b[30;107m│\u001b[0m\u001b[30;107m \u001b[0m\u001b[30;107m     \u001b[0m\u001b[1;36;107m12847\u001b[0m\u001b[30;107m     \u001b[0m\u001b[30;107m \u001b[0m\u001b[30;107m│\u001b[0m\u001b[30;107m \u001b[0m\u001b[30;107m.\u001b[0m\u001b[35;107m/model/\u001b[0m\u001b[95;107mhyundai_model.joblib\u001b[0m\u001b[30;107m \u001b[0m\u001b[30;107m \u001b[0m\u001b[30;107m│\u001b[0m\n",
       "\u001b[30;107m│\u001b[0m\u001b[30;107m \u001b[0m\u001b[30;107m Skoda  \u001b[0m\u001b[30;107m \u001b[0m\u001b[30;107m│\u001b[0m\u001b[30;107m \u001b[0m\u001b[1;36;107m1300\u001b[0m\u001b[30;107m \u001b[0m\u001b[30;107m│\u001b[0m\u001b[30;107m \u001b[0m\u001b[30;107m   \u001b[0m\u001b[1;36;107m14096\u001b[0m\u001b[30;107m   \u001b[0m\u001b[30;107m \u001b[0m\u001b[30;107m│\u001b[0m\u001b[30;107m \u001b[0m\u001b[30;107m     \u001b[0m\u001b[1;36;107m14077\u001b[0m\u001b[30;107m     \u001b[0m\u001b[30;107m \u001b[0m\u001b[30;107m│\u001b[0m\u001b[30;107m \u001b[0m\u001b[30;107m .\u001b[0m\u001b[35;107m/model/\u001b[0m\u001b[95;107mskoda_model.joblib\u001b[0m\u001b[30;107m  \u001b[0m\u001b[30;107m \u001b[0m\u001b[30;107m│\u001b[0m\n",
       "\u001b[30;107m└──────────┴──────┴─────────────┴─────────────────┴───────────────────────────────┘\u001b[0m\n"
      ]
     },
     "metadata": {},
     "output_type": "display_data"
    }
   ],
   "source": [
    "# load performance\n",
    "evaluate_all_models(search_term='model',exclude=['base_score_model.joblib'])"
   ]
  },
  {
   "cell_type": "code",
   "execution_count": 20,
   "id": "f359fc87",
   "metadata": {},
   "outputs": [
    {
     "data": {
      "text/html": [
       "<pre style=\"white-space:pre;overflow-x:auto;line-height:normal;font-family:Menlo,'DejaVu Sans Mono',consolas,'Courier New',monospace\"><span style=\"color: #000000; text-decoration-color: #000000; background-color: #ffffff; font-weight: bold\">PERFORMANCE COMPARISON</span> <span style=\"color: #000000; text-decoration-color: #000000; background-color: #ffffff\">──────────────────────────────────────────────────────────────────────</span>\n",
       "</pre>\n"
      ],
      "text/plain": [
       "\u001b[1;52;30;107mPERFORMANCE COMPARISON\u001b[0m \u001b[30;107m──────────────────────────────────────────────────────────────────────\u001b[0m\n"
      ]
     },
     "metadata": {},
     "output_type": "display_data"
    },
    {
     "data": {
      "text/html": [
       "<pre style=\"white-space:pre;overflow-x:auto;line-height:normal;font-family:Menlo,'DejaVu Sans Mono',consolas,'Courier New',monospace\"><span style=\"color: #000000; text-decoration-color: #000000; background-color: #ffffff; font-style: italic\">One model by Brand                                                                    </span>\n",
       "<span style=\"color: #000000; text-decoration-color: #000000; background-color: #ffffff\">┏━━━━━━━━━━┳━━━━━━┳━━━━━━━━━━━━━┳━━━━━━━━━━━━━━━━━┳━━━━━━━━━━━━━━━━━━━━━━━━━━━━━━━━━━┓</span>\n",
       "<span style=\"color: #000000; text-decoration-color: #000000; background-color: #ffffff\">┃  Brand   ┃ RMSE ┃ Target mean ┃ Prediction mean ┃            Model path            ┃</span>\n",
       "<span style=\"color: #000000; text-decoration-color: #000000; background-color: #ffffff\">┡━━━━━━━━━━╇━━━━━━╇━━━━━━━━━━━━━╇━━━━━━━━━━━━━━━━━╇━━━━━━━━━━━━━━━━━━━━━━━━━━━━━━━━━━┩</span>\n",
       "<span style=\"color: #000000; text-decoration-color: #000000; background-color: #ffffff\">│ Mercedes │ </span><span style=\"color: #008080; text-decoration-color: #008080; background-color: #ffffff; font-weight: bold\">3961</span><span style=\"color: #000000; text-decoration-color: #000000; background-color: #ffffff\"> │    </span><span style=\"color: #008080; text-decoration-color: #008080; background-color: #ffffff; font-weight: bold\">24606</span><span style=\"color: #000000; text-decoration-color: #000000; background-color: #ffffff\">    │      </span><span style=\"color: #008080; text-decoration-color: #008080; background-color: #ffffff; font-weight: bold\">24297</span><span style=\"color: #000000; text-decoration-color: #000000; background-color: #ffffff\">      │ .</span><span style=\"color: #800080; text-decoration-color: #800080; background-color: #ffffff\">/model/</span><span style=\"color: #ff00ff; text-decoration-color: #ff00ff; background-color: #ffffff\">mercedes_optimize.joblib</span><span style=\"color: #000000; text-decoration-color: #000000; background-color: #ffffff\"> │</span>\n",
       "<span style=\"color: #000000; text-decoration-color: #000000; background-color: #ffffff\">│  Toyota  │ </span><span style=\"color: #008080; text-decoration-color: #008080; background-color: #ffffff; font-weight: bold\">1630</span><span style=\"color: #000000; text-decoration-color: #000000; background-color: #ffffff\"> │    </span><span style=\"color: #008080; text-decoration-color: #008080; background-color: #ffffff; font-weight: bold\">12543</span><span style=\"color: #000000; text-decoration-color: #000000; background-color: #ffffff\">    │      </span><span style=\"color: #008080; text-decoration-color: #008080; background-color: #ffffff; font-weight: bold\">12354</span><span style=\"color: #000000; text-decoration-color: #000000; background-color: #ffffff\">      │  .</span><span style=\"color: #800080; text-decoration-color: #800080; background-color: #ffffff\">/model/</span><span style=\"color: #ff00ff; text-decoration-color: #ff00ff; background-color: #ffffff\">toyota_optimize.joblib</span><span style=\"color: #000000; text-decoration-color: #000000; background-color: #ffffff\">  │</span>\n",
       "<span style=\"color: #000000; text-decoration-color: #000000; background-color: #ffffff\">│   Bmw    │ </span><span style=\"color: #008080; text-decoration-color: #008080; background-color: #ffffff; font-weight: bold\">3991</span><span style=\"color: #000000; text-decoration-color: #000000; background-color: #ffffff\"> │    </span><span style=\"color: #008080; text-decoration-color: #008080; background-color: #ffffff; font-weight: bold\">22720</span><span style=\"color: #000000; text-decoration-color: #000000; background-color: #ffffff\">    │      </span><span style=\"color: #008080; text-decoration-color: #008080; background-color: #ffffff; font-weight: bold\">22494</span><span style=\"color: #000000; text-decoration-color: #000000; background-color: #ffffff\">      │   .</span><span style=\"color: #800080; text-decoration-color: #800080; background-color: #ffffff\">/model/</span><span style=\"color: #ff00ff; text-decoration-color: #ff00ff; background-color: #ffffff\">bmw_optimize.joblib</span><span style=\"color: #000000; text-decoration-color: #000000; background-color: #ffffff\">    │</span>\n",
       "<span style=\"color: #000000; text-decoration-color: #000000; background-color: #ffffff\">│    Vw    │ </span><span style=\"color: #008080; text-decoration-color: #008080; background-color: #ffffff; font-weight: bold\">2110</span><span style=\"color: #000000; text-decoration-color: #000000; background-color: #ffffff\"> │    </span><span style=\"color: #008080; text-decoration-color: #008080; background-color: #ffffff; font-weight: bold\">16745</span><span style=\"color: #000000; text-decoration-color: #000000; background-color: #ffffff\">    │      </span><span style=\"color: #008080; text-decoration-color: #008080; background-color: #ffffff; font-weight: bold\">16708</span><span style=\"color: #000000; text-decoration-color: #000000; background-color: #ffffff\">      │    .</span><span style=\"color: #800080; text-decoration-color: #800080; background-color: #ffffff\">/model/</span><span style=\"color: #ff00ff; text-decoration-color: #ff00ff; background-color: #ffffff\">vw_optimize.joblib</span><span style=\"color: #000000; text-decoration-color: #000000; background-color: #ffffff\">    │</span>\n",
       "<span style=\"color: #000000; text-decoration-color: #000000; background-color: #ffffff\">│   Opel   │ </span><span style=\"color: #008080; text-decoration-color: #008080; background-color: #ffffff; font-weight: bold\">1179</span><span style=\"color: #000000; text-decoration-color: #000000; background-color: #ffffff\"> │    </span><span style=\"color: #008080; text-decoration-color: #008080; background-color: #ffffff; font-weight: bold\">10471</span><span style=\"color: #000000; text-decoration-color: #000000; background-color: #ffffff\">    │      </span><span style=\"color: #008080; text-decoration-color: #008080; background-color: #ffffff; font-weight: bold\">10402</span><span style=\"color: #000000; text-decoration-color: #000000; background-color: #ffffff\">      │   .</span><span style=\"color: #800080; text-decoration-color: #800080; background-color: #ffffff\">/model/</span><span style=\"color: #ff00ff; text-decoration-color: #ff00ff; background-color: #ffffff\">opel_optimize.joblib</span><span style=\"color: #000000; text-decoration-color: #000000; background-color: #ffffff\">   │</span>\n",
       "<span style=\"color: #000000; text-decoration-color: #000000; background-color: #ffffff\">│   Ford   │ </span><span style=\"color: #008080; text-decoration-color: #008080; background-color: #ffffff; font-weight: bold\">1338</span><span style=\"color: #000000; text-decoration-color: #000000; background-color: #ffffff\"> │    </span><span style=\"color: #008080; text-decoration-color: #008080; background-color: #ffffff; font-weight: bold\">12214</span><span style=\"color: #000000; text-decoration-color: #000000; background-color: #ffffff\">    │      </span><span style=\"color: #008080; text-decoration-color: #008080; background-color: #ffffff; font-weight: bold\">12130</span><span style=\"color: #000000; text-decoration-color: #000000; background-color: #ffffff\">      │   .</span><span style=\"color: #800080; text-decoration-color: #800080; background-color: #ffffff\">/model/</span><span style=\"color: #ff00ff; text-decoration-color: #ff00ff; background-color: #ffffff\">ford_optimize.joblib</span><span style=\"color: #000000; text-decoration-color: #000000; background-color: #ffffff\">   │</span>\n",
       "<span style=\"color: #000000; text-decoration-color: #000000; background-color: #ffffff\">│  Skoda   │ </span><span style=\"color: #008080; text-decoration-color: #008080; background-color: #ffffff; font-weight: bold\">1776</span><span style=\"color: #000000; text-decoration-color: #000000; background-color: #ffffff\"> │    </span><span style=\"color: #008080; text-decoration-color: #008080; background-color: #ffffff; font-weight: bold\">14096</span><span style=\"color: #000000; text-decoration-color: #000000; background-color: #ffffff\">    │      </span><span style=\"color: #008080; text-decoration-color: #008080; background-color: #ffffff; font-weight: bold\">14128</span><span style=\"color: #000000; text-decoration-color: #000000; background-color: #ffffff\">      │  .</span><span style=\"color: #800080; text-decoration-color: #800080; background-color: #ffffff\">/model/</span><span style=\"color: #ff00ff; text-decoration-color: #ff00ff; background-color: #ffffff\">skoda_optimize.joblib</span><span style=\"color: #000000; text-decoration-color: #000000; background-color: #ffffff\">   │</span>\n",
       "<span style=\"color: #000000; text-decoration-color: #000000; background-color: #ffffff\">│ Hyundai  │ </span><span style=\"color: #008080; text-decoration-color: #008080; background-color: #ffffff; font-weight: bold\">1178</span><span style=\"color: #000000; text-decoration-color: #000000; background-color: #ffffff\"> │    </span><span style=\"color: #008080; text-decoration-color: #008080; background-color: #ffffff; font-weight: bold\">12806</span><span style=\"color: #000000; text-decoration-color: #000000; background-color: #ffffff\">    │      </span><span style=\"color: #008080; text-decoration-color: #008080; background-color: #ffffff; font-weight: bold\">12711</span><span style=\"color: #000000; text-decoration-color: #000000; background-color: #ffffff\">      │ .</span><span style=\"color: #800080; text-decoration-color: #800080; background-color: #ffffff\">/model/</span><span style=\"color: #ff00ff; text-decoration-color: #ff00ff; background-color: #ffffff\">hyundai_optimize.joblib</span><span style=\"color: #000000; text-decoration-color: #000000; background-color: #ffffff\">  │</span>\n",
       "<span style=\"color: #000000; text-decoration-color: #000000; background-color: #ffffff\">│   Audi   │ </span><span style=\"color: #008080; text-decoration-color: #008080; background-color: #ffffff; font-weight: bold\">1847</span><span style=\"color: #000000; text-decoration-color: #000000; background-color: #ffffff\"> │    </span><span style=\"color: #008080; text-decoration-color: #008080; background-color: #ffffff; font-weight: bold\">23179</span><span style=\"color: #000000; text-decoration-color: #000000; background-color: #ffffff\">    │      </span><span style=\"color: #008080; text-decoration-color: #008080; background-color: #ffffff; font-weight: bold\">23057</span><span style=\"color: #000000; text-decoration-color: #000000; background-color: #ffffff\">      │   .</span><span style=\"color: #800080; text-decoration-color: #800080; background-color: #ffffff\">/model/</span><span style=\"color: #ff00ff; text-decoration-color: #ff00ff; background-color: #ffffff\">audi_optimize.joblib</span><span style=\"color: #000000; text-decoration-color: #000000; background-color: #ffffff\">   │</span>\n",
       "<span style=\"color: #000000; text-decoration-color: #000000; background-color: #ffffff\">└──────────┴──────┴─────────────┴─────────────────┴──────────────────────────────────┘</span>\n",
       "</pre>\n"
      ],
      "text/plain": [
       "\u001b[3;30;107mOne model by Brand                                                                    \u001b[0m\n",
       "\u001b[30;107m┏━━━━━━━━━━┳━━━━━━┳━━━━━━━━━━━━━┳━━━━━━━━━━━━━━━━━┳━━━━━━━━━━━━━━━━━━━━━━━━━━━━━━━━━━┓\u001b[0m\n",
       "\u001b[30;107m┃\u001b[0m\u001b[30;107m \u001b[0m\u001b[30;107m Brand  \u001b[0m\u001b[30;107m \u001b[0m\u001b[30;107m┃\u001b[0m\u001b[30;107m \u001b[0m\u001b[30;107mRMSE\u001b[0m\u001b[30;107m \u001b[0m\u001b[30;107m┃\u001b[0m\u001b[30;107m \u001b[0m\u001b[30;107mTarget mean\u001b[0m\u001b[30;107m \u001b[0m\u001b[30;107m┃\u001b[0m\u001b[30;107m \u001b[0m\u001b[30;107mPrediction mean\u001b[0m\u001b[30;107m \u001b[0m\u001b[30;107m┃\u001b[0m\u001b[30;107m \u001b[0m\u001b[30;107m           Model path           \u001b[0m\u001b[30;107m \u001b[0m\u001b[30;107m┃\u001b[0m\n",
       "\u001b[30;107m┡━━━━━━━━━━╇━━━━━━╇━━━━━━━━━━━━━╇━━━━━━━━━━━━━━━━━╇━━━━━━━━━━━━━━━━━━━━━━━━━━━━━━━━━━┩\u001b[0m\n",
       "\u001b[30;107m│\u001b[0m\u001b[30;107m \u001b[0m\u001b[30;107mMercedes\u001b[0m\u001b[30;107m \u001b[0m\u001b[30;107m│\u001b[0m\u001b[30;107m \u001b[0m\u001b[1;36;107m3961\u001b[0m\u001b[30;107m \u001b[0m\u001b[30;107m│\u001b[0m\u001b[30;107m \u001b[0m\u001b[30;107m   \u001b[0m\u001b[1;36;107m24606\u001b[0m\u001b[30;107m   \u001b[0m\u001b[30;107m \u001b[0m\u001b[30;107m│\u001b[0m\u001b[30;107m \u001b[0m\u001b[30;107m     \u001b[0m\u001b[1;36;107m24297\u001b[0m\u001b[30;107m     \u001b[0m\u001b[30;107m \u001b[0m\u001b[30;107m│\u001b[0m\u001b[30;107m \u001b[0m\u001b[30;107m.\u001b[0m\u001b[35;107m/model/\u001b[0m\u001b[95;107mmercedes_optimize.joblib\u001b[0m\u001b[30;107m \u001b[0m\u001b[30;107m│\u001b[0m\n",
       "\u001b[30;107m│\u001b[0m\u001b[30;107m \u001b[0m\u001b[30;107m Toyota \u001b[0m\u001b[30;107m \u001b[0m\u001b[30;107m│\u001b[0m\u001b[30;107m \u001b[0m\u001b[1;36;107m1630\u001b[0m\u001b[30;107m \u001b[0m\u001b[30;107m│\u001b[0m\u001b[30;107m \u001b[0m\u001b[30;107m   \u001b[0m\u001b[1;36;107m12543\u001b[0m\u001b[30;107m   \u001b[0m\u001b[30;107m \u001b[0m\u001b[30;107m│\u001b[0m\u001b[30;107m \u001b[0m\u001b[30;107m     \u001b[0m\u001b[1;36;107m12354\u001b[0m\u001b[30;107m     \u001b[0m\u001b[30;107m \u001b[0m\u001b[30;107m│\u001b[0m\u001b[30;107m \u001b[0m\u001b[30;107m .\u001b[0m\u001b[35;107m/model/\u001b[0m\u001b[95;107mtoyota_optimize.joblib\u001b[0m\u001b[30;107m \u001b[0m\u001b[30;107m \u001b[0m\u001b[30;107m│\u001b[0m\n",
       "\u001b[30;107m│\u001b[0m\u001b[30;107m \u001b[0m\u001b[30;107m  Bmw   \u001b[0m\u001b[30;107m \u001b[0m\u001b[30;107m│\u001b[0m\u001b[30;107m \u001b[0m\u001b[1;36;107m3991\u001b[0m\u001b[30;107m \u001b[0m\u001b[30;107m│\u001b[0m\u001b[30;107m \u001b[0m\u001b[30;107m   \u001b[0m\u001b[1;36;107m22720\u001b[0m\u001b[30;107m   \u001b[0m\u001b[30;107m \u001b[0m\u001b[30;107m│\u001b[0m\u001b[30;107m \u001b[0m\u001b[30;107m     \u001b[0m\u001b[1;36;107m22494\u001b[0m\u001b[30;107m     \u001b[0m\u001b[30;107m \u001b[0m\u001b[30;107m│\u001b[0m\u001b[30;107m \u001b[0m\u001b[30;107m  .\u001b[0m\u001b[35;107m/model/\u001b[0m\u001b[95;107mbmw_optimize.joblib\u001b[0m\u001b[30;107m   \u001b[0m\u001b[30;107m \u001b[0m\u001b[30;107m│\u001b[0m\n",
       "\u001b[30;107m│\u001b[0m\u001b[30;107m \u001b[0m\u001b[30;107m   Vw   \u001b[0m\u001b[30;107m \u001b[0m\u001b[30;107m│\u001b[0m\u001b[30;107m \u001b[0m\u001b[1;36;107m2110\u001b[0m\u001b[30;107m \u001b[0m\u001b[30;107m│\u001b[0m\u001b[30;107m \u001b[0m\u001b[30;107m   \u001b[0m\u001b[1;36;107m16745\u001b[0m\u001b[30;107m   \u001b[0m\u001b[30;107m \u001b[0m\u001b[30;107m│\u001b[0m\u001b[30;107m \u001b[0m\u001b[30;107m     \u001b[0m\u001b[1;36;107m16708\u001b[0m\u001b[30;107m     \u001b[0m\u001b[30;107m \u001b[0m\u001b[30;107m│\u001b[0m\u001b[30;107m \u001b[0m\u001b[30;107m   .\u001b[0m\u001b[35;107m/model/\u001b[0m\u001b[95;107mvw_optimize.joblib\u001b[0m\u001b[30;107m   \u001b[0m\u001b[30;107m \u001b[0m\u001b[30;107m│\u001b[0m\n",
       "\u001b[30;107m│\u001b[0m\u001b[30;107m \u001b[0m\u001b[30;107m  Opel  \u001b[0m\u001b[30;107m \u001b[0m\u001b[30;107m│\u001b[0m\u001b[30;107m \u001b[0m\u001b[1;36;107m1179\u001b[0m\u001b[30;107m \u001b[0m\u001b[30;107m│\u001b[0m\u001b[30;107m \u001b[0m\u001b[30;107m   \u001b[0m\u001b[1;36;107m10471\u001b[0m\u001b[30;107m   \u001b[0m\u001b[30;107m \u001b[0m\u001b[30;107m│\u001b[0m\u001b[30;107m \u001b[0m\u001b[30;107m     \u001b[0m\u001b[1;36;107m10402\u001b[0m\u001b[30;107m     \u001b[0m\u001b[30;107m \u001b[0m\u001b[30;107m│\u001b[0m\u001b[30;107m \u001b[0m\u001b[30;107m  .\u001b[0m\u001b[35;107m/model/\u001b[0m\u001b[95;107mopel_optimize.joblib\u001b[0m\u001b[30;107m  \u001b[0m\u001b[30;107m \u001b[0m\u001b[30;107m│\u001b[0m\n",
       "\u001b[30;107m│\u001b[0m\u001b[30;107m \u001b[0m\u001b[30;107m  Ford  \u001b[0m\u001b[30;107m \u001b[0m\u001b[30;107m│\u001b[0m\u001b[30;107m \u001b[0m\u001b[1;36;107m1338\u001b[0m\u001b[30;107m \u001b[0m\u001b[30;107m│\u001b[0m\u001b[30;107m \u001b[0m\u001b[30;107m   \u001b[0m\u001b[1;36;107m12214\u001b[0m\u001b[30;107m   \u001b[0m\u001b[30;107m \u001b[0m\u001b[30;107m│\u001b[0m\u001b[30;107m \u001b[0m\u001b[30;107m     \u001b[0m\u001b[1;36;107m12130\u001b[0m\u001b[30;107m     \u001b[0m\u001b[30;107m \u001b[0m\u001b[30;107m│\u001b[0m\u001b[30;107m \u001b[0m\u001b[30;107m  .\u001b[0m\u001b[35;107m/model/\u001b[0m\u001b[95;107mford_optimize.joblib\u001b[0m\u001b[30;107m  \u001b[0m\u001b[30;107m \u001b[0m\u001b[30;107m│\u001b[0m\n",
       "\u001b[30;107m│\u001b[0m\u001b[30;107m \u001b[0m\u001b[30;107m Skoda  \u001b[0m\u001b[30;107m \u001b[0m\u001b[30;107m│\u001b[0m\u001b[30;107m \u001b[0m\u001b[1;36;107m1776\u001b[0m\u001b[30;107m \u001b[0m\u001b[30;107m│\u001b[0m\u001b[30;107m \u001b[0m\u001b[30;107m   \u001b[0m\u001b[1;36;107m14096\u001b[0m\u001b[30;107m   \u001b[0m\u001b[30;107m \u001b[0m\u001b[30;107m│\u001b[0m\u001b[30;107m \u001b[0m\u001b[30;107m     \u001b[0m\u001b[1;36;107m14128\u001b[0m\u001b[30;107m     \u001b[0m\u001b[30;107m \u001b[0m\u001b[30;107m│\u001b[0m\u001b[30;107m \u001b[0m\u001b[30;107m .\u001b[0m\u001b[35;107m/model/\u001b[0m\u001b[95;107mskoda_optimize.joblib\u001b[0m\u001b[30;107m  \u001b[0m\u001b[30;107m \u001b[0m\u001b[30;107m│\u001b[0m\n",
       "\u001b[30;107m│\u001b[0m\u001b[30;107m \u001b[0m\u001b[30;107mHyundai \u001b[0m\u001b[30;107m \u001b[0m\u001b[30;107m│\u001b[0m\u001b[30;107m \u001b[0m\u001b[1;36;107m1178\u001b[0m\u001b[30;107m \u001b[0m\u001b[30;107m│\u001b[0m\u001b[30;107m \u001b[0m\u001b[30;107m   \u001b[0m\u001b[1;36;107m12806\u001b[0m\u001b[30;107m   \u001b[0m\u001b[30;107m \u001b[0m\u001b[30;107m│\u001b[0m\u001b[30;107m \u001b[0m\u001b[30;107m     \u001b[0m\u001b[1;36;107m12711\u001b[0m\u001b[30;107m     \u001b[0m\u001b[30;107m \u001b[0m\u001b[30;107m│\u001b[0m\u001b[30;107m \u001b[0m\u001b[30;107m.\u001b[0m\u001b[35;107m/model/\u001b[0m\u001b[95;107mhyundai_optimize.joblib\u001b[0m\u001b[30;107m \u001b[0m\u001b[30;107m \u001b[0m\u001b[30;107m│\u001b[0m\n",
       "\u001b[30;107m│\u001b[0m\u001b[30;107m \u001b[0m\u001b[30;107m  Audi  \u001b[0m\u001b[30;107m \u001b[0m\u001b[30;107m│\u001b[0m\u001b[30;107m \u001b[0m\u001b[1;36;107m1847\u001b[0m\u001b[30;107m \u001b[0m\u001b[30;107m│\u001b[0m\u001b[30;107m \u001b[0m\u001b[30;107m   \u001b[0m\u001b[1;36;107m23179\u001b[0m\u001b[30;107m   \u001b[0m\u001b[30;107m \u001b[0m\u001b[30;107m│\u001b[0m\u001b[30;107m \u001b[0m\u001b[30;107m     \u001b[0m\u001b[1;36;107m23057\u001b[0m\u001b[30;107m     \u001b[0m\u001b[30;107m \u001b[0m\u001b[30;107m│\u001b[0m\u001b[30;107m \u001b[0m\u001b[30;107m  .\u001b[0m\u001b[35;107m/model/\u001b[0m\u001b[95;107maudi_optimize.joblib\u001b[0m\u001b[30;107m  \u001b[0m\u001b[30;107m \u001b[0m\u001b[30;107m│\u001b[0m\n",
       "\u001b[30;107m└──────────┴──────┴─────────────┴─────────────────┴──────────────────────────────────┘\u001b[0m\n"
      ]
     },
     "metadata": {},
     "output_type": "display_data"
    }
   ],
   "source": [
    "# load performance\n",
    "evaluate_all_models(search_term='optimize',exclude=['base_score_model.joblib'])"
   ]
  },
  {
   "cell_type": "code",
   "execution_count": 31,
   "id": "64c17672",
   "metadata": {},
   "outputs": [
    {
     "data": {
      "text/html": [
       "<pre style=\"white-space:pre;overflow-x:auto;line-height:normal;font-family:Menlo,'DejaVu Sans Mono',consolas,'Courier New',monospace\"><span style=\"color: #000000; text-decoration-color: #000000; background-color: #ffffff; font-weight: bold\">PERFORMANCE COMPARISON</span> <span style=\"color: #000000; text-decoration-color: #000000; background-color: #ffffff\">──────────────────────────────────────────────────────────────────────</span>\n",
       "</pre>\n"
      ],
      "text/plain": [
       "\u001b[1;52;30;107mPERFORMANCE COMPARISON\u001b[0m \u001b[30;107m──────────────────────────────────────────────────────────────────────\u001b[0m\n"
      ]
     },
     "metadata": {},
     "output_type": "display_data"
    },
    {
     "data": {
      "text/html": [
       "<pre style=\"white-space:pre;overflow-x:auto;line-height:normal;font-family:Menlo,'DejaVu Sans Mono',consolas,'Courier New',monospace\"><span style=\"color: #000000; text-decoration-color: #000000; background-color: #ffffff; font-style: italic\">One model by Brand                                                                           </span>\n",
       "<span style=\"color: #000000; text-decoration-color: #000000; background-color: #ffffff\">┏━━━━━━━━━┳━━━━━━┳━━━━━━━━━━━━┳━━━━━━━━━━━━━━━━━┳━━━━━━━━━━━━━━━━━━━━━━━━━━━━━━━━━━━━━━━━━━━┓</span>\n",
       "<span style=\"color: #000000; text-decoration-color: #000000; background-color: #ffffff\">┃  Brand  ┃ RMSE ┃ Target me… ┃ Prediction mean ┃                Model path                 ┃</span>\n",
       "<span style=\"color: #000000; text-decoration-color: #000000; background-color: #ffffff\">┡━━━━━━━━━╇━━━━━━╇━━━━━━━━━━━━╇━━━━━━━━━━━━━━━━━╇━━━━━━━━━━━━━━━━━━━━━━━━━━━━━━━━━━━━━━━━━━━┩</span>\n",
       "<span style=\"color: #000000; text-decoration-color: #000000; background-color: #ffffff\">│  Opel   │ </span><span style=\"color: #008080; text-decoration-color: #008080; background-color: #ffffff; font-weight: bold\">1191</span><span style=\"color: #000000; text-decoration-color: #000000; background-color: #ffffff\"> │   </span><span style=\"color: #008080; text-decoration-color: #008080; background-color: #ffffff; font-weight: bold\">10471</span><span style=\"color: #000000; text-decoration-color: #000000; background-color: #ffffff\">    │      </span><span style=\"color: #008080; text-decoration-color: #008080; background-color: #ffffff; font-weight: bold\">10386</span><span style=\"color: #000000; text-decoration-color: #000000; background-color: #ffffff\">      │   .</span><span style=\"color: #800080; text-decoration-color: #800080; background-color: #ffffff\">/model/</span><span style=\"color: #ff00ff; text-decoration-color: #ff00ff; background-color: #ffffff\">opel_optimize_rmse_679.joblib</span><span style=\"color: #000000; text-decoration-color: #000000; background-color: #ffffff\">   │</span>\n",
       "<span style=\"color: #000000; text-decoration-color: #000000; background-color: #ffffff\">│ Hyundai │ </span><span style=\"color: #008080; text-decoration-color: #008080; background-color: #ffffff; font-weight: bold\">1178</span><span style=\"color: #000000; text-decoration-color: #000000; background-color: #ffffff\"> │   </span><span style=\"color: #008080; text-decoration-color: #008080; background-color: #ffffff; font-weight: bold\">12806</span><span style=\"color: #000000; text-decoration-color: #000000; background-color: #ffffff\">    │      </span><span style=\"color: #008080; text-decoration-color: #008080; background-color: #ffffff; font-weight: bold\">12711</span><span style=\"color: #000000; text-decoration-color: #000000; background-color: #ffffff\">      │ .</span><span style=\"color: #800080; text-decoration-color: #800080; background-color: #ffffff\">/model/</span><span style=\"color: #ff00ff; text-decoration-color: #ff00ff; background-color: #ffffff\">hyundai_optimize_rmse_733.joblib</span><span style=\"color: #000000; text-decoration-color: #000000; background-color: #ffffff\">  │</span>\n",
       "<span style=\"color: #000000; text-decoration-color: #000000; background-color: #ffffff\">│  Ford   │ </span><span style=\"color: #008080; text-decoration-color: #008080; background-color: #ffffff; font-weight: bold\">1338</span><span style=\"color: #000000; text-decoration-color: #000000; background-color: #ffffff\"> │   </span><span style=\"color: #008080; text-decoration-color: #008080; background-color: #ffffff; font-weight: bold\">12214</span><span style=\"color: #000000; text-decoration-color: #000000; background-color: #ffffff\">    │      </span><span style=\"color: #008080; text-decoration-color: #008080; background-color: #ffffff; font-weight: bold\">12130</span><span style=\"color: #000000; text-decoration-color: #000000; background-color: #ffffff\">      │   .</span><span style=\"color: #800080; text-decoration-color: #800080; background-color: #ffffff\">/model/</span><span style=\"color: #ff00ff; text-decoration-color: #ff00ff; background-color: #ffffff\">ford_optimize_rmse_801.joblib</span><span style=\"color: #000000; text-decoration-color: #000000; background-color: #ffffff\">   │</span>\n",
       "<span style=\"color: #000000; text-decoration-color: #000000; background-color: #ffffff\">│   Bmw   │ </span><span style=\"color: #008080; text-decoration-color: #008080; background-color: #ffffff; font-weight: bold\">3991</span><span style=\"color: #000000; text-decoration-color: #000000; background-color: #ffffff\"> │   </span><span style=\"color: #008080; text-decoration-color: #008080; background-color: #ffffff; font-weight: bold\">22720</span><span style=\"color: #000000; text-decoration-color: #000000; background-color: #ffffff\">    │      </span><span style=\"color: #008080; text-decoration-color: #008080; background-color: #ffffff; font-weight: bold\">22494</span><span style=\"color: #000000; text-decoration-color: #000000; background-color: #ffffff\">      │   .</span><span style=\"color: #800080; text-decoration-color: #800080; background-color: #ffffff\">/model/</span><span style=\"color: #ff00ff; text-decoration-color: #ff00ff; background-color: #ffffff\">bmw_optimize_rmse_1635.joblib</span><span style=\"color: #000000; text-decoration-color: #000000; background-color: #ffffff\">   │</span>\n",
       "<span style=\"color: #000000; text-decoration-color: #000000; background-color: #ffffff\">│ Toyota  │ </span><span style=\"color: #008080; text-decoration-color: #008080; background-color: #ffffff; font-weight: bold\">1630</span><span style=\"color: #000000; text-decoration-color: #000000; background-color: #ffffff\"> │   </span><span style=\"color: #008080; text-decoration-color: #008080; background-color: #ffffff; font-weight: bold\">12543</span><span style=\"color: #000000; text-decoration-color: #000000; background-color: #ffffff\">    │      </span><span style=\"color: #008080; text-decoration-color: #008080; background-color: #ffffff; font-weight: bold\">12354</span><span style=\"color: #000000; text-decoration-color: #000000; background-color: #ffffff\">      │  .</span><span style=\"color: #800080; text-decoration-color: #800080; background-color: #ffffff\">/model/</span><span style=\"color: #ff00ff; text-decoration-color: #ff00ff; background-color: #ffffff\">toyota_optimize_rmse_919.joblib</span><span style=\"color: #000000; text-decoration-color: #000000; background-color: #ffffff\">  │</span>\n",
       "<span style=\"color: #000000; text-decoration-color: #000000; background-color: #ffffff\">│   Vw    │ </span><span style=\"color: #008080; text-decoration-color: #008080; background-color: #ffffff; font-weight: bold\">2110</span><span style=\"color: #000000; text-decoration-color: #000000; background-color: #ffffff\"> │   </span><span style=\"color: #008080; text-decoration-color: #008080; background-color: #ffffff; font-weight: bold\">16745</span><span style=\"color: #000000; text-decoration-color: #000000; background-color: #ffffff\">    │      </span><span style=\"color: #008080; text-decoration-color: #008080; background-color: #ffffff; font-weight: bold\">16708</span><span style=\"color: #000000; text-decoration-color: #000000; background-color: #ffffff\">      │   .</span><span style=\"color: #800080; text-decoration-color: #800080; background-color: #ffffff\">/model/</span><span style=\"color: #ff00ff; text-decoration-color: #ff00ff; background-color: #ffffff\">vw_optimize_rmse_1162.joblib</span><span style=\"color: #000000; text-decoration-color: #000000; background-color: #ffffff\">    │</span>\n",
       "<span style=\"color: #000000; text-decoration-color: #000000; background-color: #ffffff\">│ Merced… │ </span><span style=\"color: #008080; text-decoration-color: #008080; background-color: #ffffff; font-weight: bold\">3894</span><span style=\"color: #000000; text-decoration-color: #000000; background-color: #ffffff\"> │   </span><span style=\"color: #008080; text-decoration-color: #008080; background-color: #ffffff; font-weight: bold\">24606</span><span style=\"color: #000000; text-decoration-color: #000000; background-color: #ffffff\">    │      </span><span style=\"color: #008080; text-decoration-color: #008080; background-color: #ffffff; font-weight: bold\">24298</span><span style=\"color: #000000; text-decoration-color: #000000; background-color: #ffffff\">      │ .</span><span style=\"color: #800080; text-decoration-color: #800080; background-color: #ffffff\">/model/</span><span style=\"color: #ff00ff; text-decoration-color: #ff00ff; background-color: #ffffff\">mercedes_optimize_rmse_2427.jobl…</span><span style=\"color: #000000; text-decoration-color: #000000; background-color: #ffffff\"> │</span>\n",
       "<span style=\"color: #000000; text-decoration-color: #000000; background-color: #ffffff\">│  Audi   │ </span><span style=\"color: #008080; text-decoration-color: #008080; background-color: #ffffff; font-weight: bold\">1842</span><span style=\"color: #000000; text-decoration-color: #000000; background-color: #ffffff\"> │   </span><span style=\"color: #008080; text-decoration-color: #008080; background-color: #ffffff; font-weight: bold\">23179</span><span style=\"color: #000000; text-decoration-color: #000000; background-color: #ffffff\">    │      </span><span style=\"color: #008080; text-decoration-color: #008080; background-color: #ffffff; font-weight: bold\">23047</span><span style=\"color: #000000; text-decoration-color: #000000; background-color: #ffffff\">      │  .</span><span style=\"color: #800080; text-decoration-color: #800080; background-color: #ffffff\">/model/</span><span style=\"color: #ff00ff; text-decoration-color: #ff00ff; background-color: #ffffff\">audi_optimize_rmse_1842.joblib</span><span style=\"color: #000000; text-decoration-color: #000000; background-color: #ffffff\">   │</span>\n",
       "<span style=\"color: #000000; text-decoration-color: #000000; background-color: #ffffff\">│  Skoda  │ </span><span style=\"color: #008080; text-decoration-color: #008080; background-color: #ffffff; font-weight: bold\">1731</span><span style=\"color: #000000; text-decoration-color: #000000; background-color: #ffffff\"> │   </span><span style=\"color: #008080; text-decoration-color: #008080; background-color: #ffffff; font-weight: bold\">14096</span><span style=\"color: #000000; text-decoration-color: #000000; background-color: #ffffff\">    │      </span><span style=\"color: #008080; text-decoration-color: #008080; background-color: #ffffff; font-weight: bold\">14089</span><span style=\"color: #000000; text-decoration-color: #000000; background-color: #ffffff\">      │  .</span><span style=\"color: #800080; text-decoration-color: #800080; background-color: #ffffff\">/model/</span><span style=\"color: #ff00ff; text-decoration-color: #ff00ff; background-color: #ffffff\">skoda_optimize_rmse_1428.joblib</span><span style=\"color: #000000; text-decoration-color: #000000; background-color: #ffffff\">  │</span>\n",
       "<span style=\"color: #000000; text-decoration-color: #000000; background-color: #ffffff\">└─────────┴──────┴────────────┴─────────────────┴───────────────────────────────────────────┘</span>\n",
       "</pre>\n"
      ],
      "text/plain": [
       "\u001b[3;30;107mOne model by Brand                                                                           \u001b[0m\n",
       "\u001b[30;107m┏━━━━━━━━━┳━━━━━━┳━━━━━━━━━━━━┳━━━━━━━━━━━━━━━━━┳━━━━━━━━━━━━━━━━━━━━━━━━━━━━━━━━━━━━━━━━━━━┓\u001b[0m\n",
       "\u001b[30;107m┃\u001b[0m\u001b[30;107m \u001b[0m\u001b[30;107m Brand \u001b[0m\u001b[30;107m \u001b[0m\u001b[30;107m┃\u001b[0m\u001b[30;107m \u001b[0m\u001b[30;107mRMSE\u001b[0m\u001b[30;107m \u001b[0m\u001b[30;107m┃\u001b[0m\u001b[30;107m \u001b[0m\u001b[30;107mTarget me…\u001b[0m\u001b[30;107m \u001b[0m\u001b[30;107m┃\u001b[0m\u001b[30;107m \u001b[0m\u001b[30;107mPrediction mean\u001b[0m\u001b[30;107m \u001b[0m\u001b[30;107m┃\u001b[0m\u001b[30;107m \u001b[0m\u001b[30;107m               Model path                \u001b[0m\u001b[30;107m \u001b[0m\u001b[30;107m┃\u001b[0m\n",
       "\u001b[30;107m┡━━━━━━━━━╇━━━━━━╇━━━━━━━━━━━━╇━━━━━━━━━━━━━━━━━╇━━━━━━━━━━━━━━━━━━━━━━━━━━━━━━━━━━━━━━━━━━━┩\u001b[0m\n",
       "\u001b[30;107m│\u001b[0m\u001b[30;107m \u001b[0m\u001b[30;107m Opel  \u001b[0m\u001b[30;107m \u001b[0m\u001b[30;107m│\u001b[0m\u001b[30;107m \u001b[0m\u001b[1;36;107m1191\u001b[0m\u001b[30;107m \u001b[0m\u001b[30;107m│\u001b[0m\u001b[30;107m \u001b[0m\u001b[30;107m  \u001b[0m\u001b[1;36;107m10471\u001b[0m\u001b[30;107m   \u001b[0m\u001b[30;107m \u001b[0m\u001b[30;107m│\u001b[0m\u001b[30;107m \u001b[0m\u001b[30;107m     \u001b[0m\u001b[1;36;107m10386\u001b[0m\u001b[30;107m     \u001b[0m\u001b[30;107m \u001b[0m\u001b[30;107m│\u001b[0m\u001b[30;107m \u001b[0m\u001b[30;107m  .\u001b[0m\u001b[35;107m/model/\u001b[0m\u001b[95;107mopel_optimize_rmse_679.joblib\u001b[0m\u001b[30;107m  \u001b[0m\u001b[30;107m \u001b[0m\u001b[30;107m│\u001b[0m\n",
       "\u001b[30;107m│\u001b[0m\u001b[30;107m \u001b[0m\u001b[30;107mHyundai\u001b[0m\u001b[30;107m \u001b[0m\u001b[30;107m│\u001b[0m\u001b[30;107m \u001b[0m\u001b[1;36;107m1178\u001b[0m\u001b[30;107m \u001b[0m\u001b[30;107m│\u001b[0m\u001b[30;107m \u001b[0m\u001b[30;107m  \u001b[0m\u001b[1;36;107m12806\u001b[0m\u001b[30;107m   \u001b[0m\u001b[30;107m \u001b[0m\u001b[30;107m│\u001b[0m\u001b[30;107m \u001b[0m\u001b[30;107m     \u001b[0m\u001b[1;36;107m12711\u001b[0m\u001b[30;107m     \u001b[0m\u001b[30;107m \u001b[0m\u001b[30;107m│\u001b[0m\u001b[30;107m \u001b[0m\u001b[30;107m.\u001b[0m\u001b[35;107m/model/\u001b[0m\u001b[95;107mhyundai_optimize_rmse_733.joblib\u001b[0m\u001b[30;107m \u001b[0m\u001b[30;107m \u001b[0m\u001b[30;107m│\u001b[0m\n",
       "\u001b[30;107m│\u001b[0m\u001b[30;107m \u001b[0m\u001b[30;107m Ford  \u001b[0m\u001b[30;107m \u001b[0m\u001b[30;107m│\u001b[0m\u001b[30;107m \u001b[0m\u001b[1;36;107m1338\u001b[0m\u001b[30;107m \u001b[0m\u001b[30;107m│\u001b[0m\u001b[30;107m \u001b[0m\u001b[30;107m  \u001b[0m\u001b[1;36;107m12214\u001b[0m\u001b[30;107m   \u001b[0m\u001b[30;107m \u001b[0m\u001b[30;107m│\u001b[0m\u001b[30;107m \u001b[0m\u001b[30;107m     \u001b[0m\u001b[1;36;107m12130\u001b[0m\u001b[30;107m     \u001b[0m\u001b[30;107m \u001b[0m\u001b[30;107m│\u001b[0m\u001b[30;107m \u001b[0m\u001b[30;107m  .\u001b[0m\u001b[35;107m/model/\u001b[0m\u001b[95;107mford_optimize_rmse_801.joblib\u001b[0m\u001b[30;107m  \u001b[0m\u001b[30;107m \u001b[0m\u001b[30;107m│\u001b[0m\n",
       "\u001b[30;107m│\u001b[0m\u001b[30;107m \u001b[0m\u001b[30;107m  Bmw  \u001b[0m\u001b[30;107m \u001b[0m\u001b[30;107m│\u001b[0m\u001b[30;107m \u001b[0m\u001b[1;36;107m3991\u001b[0m\u001b[30;107m \u001b[0m\u001b[30;107m│\u001b[0m\u001b[30;107m \u001b[0m\u001b[30;107m  \u001b[0m\u001b[1;36;107m22720\u001b[0m\u001b[30;107m   \u001b[0m\u001b[30;107m \u001b[0m\u001b[30;107m│\u001b[0m\u001b[30;107m \u001b[0m\u001b[30;107m     \u001b[0m\u001b[1;36;107m22494\u001b[0m\u001b[30;107m     \u001b[0m\u001b[30;107m \u001b[0m\u001b[30;107m│\u001b[0m\u001b[30;107m \u001b[0m\u001b[30;107m  .\u001b[0m\u001b[35;107m/model/\u001b[0m\u001b[95;107mbmw_optimize_rmse_1635.joblib\u001b[0m\u001b[30;107m  \u001b[0m\u001b[30;107m \u001b[0m\u001b[30;107m│\u001b[0m\n",
       "\u001b[30;107m│\u001b[0m\u001b[30;107m \u001b[0m\u001b[30;107mToyota \u001b[0m\u001b[30;107m \u001b[0m\u001b[30;107m│\u001b[0m\u001b[30;107m \u001b[0m\u001b[1;36;107m1630\u001b[0m\u001b[30;107m \u001b[0m\u001b[30;107m│\u001b[0m\u001b[30;107m \u001b[0m\u001b[30;107m  \u001b[0m\u001b[1;36;107m12543\u001b[0m\u001b[30;107m   \u001b[0m\u001b[30;107m \u001b[0m\u001b[30;107m│\u001b[0m\u001b[30;107m \u001b[0m\u001b[30;107m     \u001b[0m\u001b[1;36;107m12354\u001b[0m\u001b[30;107m     \u001b[0m\u001b[30;107m \u001b[0m\u001b[30;107m│\u001b[0m\u001b[30;107m \u001b[0m\u001b[30;107m .\u001b[0m\u001b[35;107m/model/\u001b[0m\u001b[95;107mtoyota_optimize_rmse_919.joblib\u001b[0m\u001b[30;107m \u001b[0m\u001b[30;107m \u001b[0m\u001b[30;107m│\u001b[0m\n",
       "\u001b[30;107m│\u001b[0m\u001b[30;107m \u001b[0m\u001b[30;107m  Vw   \u001b[0m\u001b[30;107m \u001b[0m\u001b[30;107m│\u001b[0m\u001b[30;107m \u001b[0m\u001b[1;36;107m2110\u001b[0m\u001b[30;107m \u001b[0m\u001b[30;107m│\u001b[0m\u001b[30;107m \u001b[0m\u001b[30;107m  \u001b[0m\u001b[1;36;107m16745\u001b[0m\u001b[30;107m   \u001b[0m\u001b[30;107m \u001b[0m\u001b[30;107m│\u001b[0m\u001b[30;107m \u001b[0m\u001b[30;107m     \u001b[0m\u001b[1;36;107m16708\u001b[0m\u001b[30;107m     \u001b[0m\u001b[30;107m \u001b[0m\u001b[30;107m│\u001b[0m\u001b[30;107m \u001b[0m\u001b[30;107m  .\u001b[0m\u001b[35;107m/model/\u001b[0m\u001b[95;107mvw_optimize_rmse_1162.joblib\u001b[0m\u001b[30;107m   \u001b[0m\u001b[30;107m \u001b[0m\u001b[30;107m│\u001b[0m\n",
       "\u001b[30;107m│\u001b[0m\u001b[30;107m \u001b[0m\u001b[30;107mMerced…\u001b[0m\u001b[30;107m \u001b[0m\u001b[30;107m│\u001b[0m\u001b[30;107m \u001b[0m\u001b[1;36;107m3894\u001b[0m\u001b[30;107m \u001b[0m\u001b[30;107m│\u001b[0m\u001b[30;107m \u001b[0m\u001b[30;107m  \u001b[0m\u001b[1;36;107m24606\u001b[0m\u001b[30;107m   \u001b[0m\u001b[30;107m \u001b[0m\u001b[30;107m│\u001b[0m\u001b[30;107m \u001b[0m\u001b[30;107m     \u001b[0m\u001b[1;36;107m24298\u001b[0m\u001b[30;107m     \u001b[0m\u001b[30;107m \u001b[0m\u001b[30;107m│\u001b[0m\u001b[30;107m \u001b[0m\u001b[30;107m.\u001b[0m\u001b[35;107m/model/\u001b[0m\u001b[95;107mmercedes_optimize_rmse_2427.jobl…\u001b[0m\u001b[30;107m \u001b[0m\u001b[30;107m│\u001b[0m\n",
       "\u001b[30;107m│\u001b[0m\u001b[30;107m \u001b[0m\u001b[30;107m Audi  \u001b[0m\u001b[30;107m \u001b[0m\u001b[30;107m│\u001b[0m\u001b[30;107m \u001b[0m\u001b[1;36;107m1842\u001b[0m\u001b[30;107m \u001b[0m\u001b[30;107m│\u001b[0m\u001b[30;107m \u001b[0m\u001b[30;107m  \u001b[0m\u001b[1;36;107m23179\u001b[0m\u001b[30;107m   \u001b[0m\u001b[30;107m \u001b[0m\u001b[30;107m│\u001b[0m\u001b[30;107m \u001b[0m\u001b[30;107m     \u001b[0m\u001b[1;36;107m23047\u001b[0m\u001b[30;107m     \u001b[0m\u001b[30;107m \u001b[0m\u001b[30;107m│\u001b[0m\u001b[30;107m \u001b[0m\u001b[30;107m .\u001b[0m\u001b[35;107m/model/\u001b[0m\u001b[95;107maudi_optimize_rmse_1842.joblib\u001b[0m\u001b[30;107m  \u001b[0m\u001b[30;107m \u001b[0m\u001b[30;107m│\u001b[0m\n",
       "\u001b[30;107m│\u001b[0m\u001b[30;107m \u001b[0m\u001b[30;107m Skoda \u001b[0m\u001b[30;107m \u001b[0m\u001b[30;107m│\u001b[0m\u001b[30;107m \u001b[0m\u001b[1;36;107m1731\u001b[0m\u001b[30;107m \u001b[0m\u001b[30;107m│\u001b[0m\u001b[30;107m \u001b[0m\u001b[30;107m  \u001b[0m\u001b[1;36;107m14096\u001b[0m\u001b[30;107m   \u001b[0m\u001b[30;107m \u001b[0m\u001b[30;107m│\u001b[0m\u001b[30;107m \u001b[0m\u001b[30;107m     \u001b[0m\u001b[1;36;107m14089\u001b[0m\u001b[30;107m     \u001b[0m\u001b[30;107m \u001b[0m\u001b[30;107m│\u001b[0m\u001b[30;107m \u001b[0m\u001b[30;107m .\u001b[0m\u001b[35;107m/model/\u001b[0m\u001b[95;107mskoda_optimize_rmse_1428.joblib\u001b[0m\u001b[30;107m \u001b[0m\u001b[30;107m \u001b[0m\u001b[30;107m│\u001b[0m\n",
       "\u001b[30;107m└─────────┴──────┴────────────┴─────────────────┴───────────────────────────────────────────┘\u001b[0m\n"
      ]
     },
     "metadata": {},
     "output_type": "display_data"
    }
   ],
   "source": [
    "# load performance\n",
    "evaluate_all_models(search_term='rmse')"
   ]
  },
  {
   "cell_type": "raw",
   "id": "bd8b114b",
   "metadata": {
    "slideshow": {
     "slide_type": "subslide"
    }
   },
   "source": [
    "Model Evaluation\n",
    "PERFORMANCE COMPARISON -----------------------------------------------------------------------\n",
    "One model by Brand                                              \n",
    "+--------------------------------------------------------------+\n",
    "|  Brand   | RMSE | Target mean | Prediction mean | Model path |\n",
    "|----------+------+-------------+-----------------+------------|\n",
    "|   Opel   | 1128 |    10303    |      10222      |     -      |\n",
    "|  Toyota  | 1264 |    12185    |      12113      |     -      |\n",
    "|   Audi   | 2667 |    23179    |      23058      |     -      |\n",
    "|   Bmw    | 2612 |    22672    |      22537      |     -      |\n",
    "| Hyundai  | 1207 |    12785    |      12847      |     -      |\n",
    "|  Skoda   | 2708 |    14248    |      14127      |     -      |\n",
    "|   Ford   | 1334 |    12334    |      12348      |     -      |\n",
    "| Mercedes | 3694 |    24313    |      24151      |     -      |\n",
    "| All_Set  | 2284 |    16694    |      16608      |     -      |\n",
    "|    Vw    | 1875 |    16832    |      16709      |     -      |\n",
    "+--------------------------------------------------------------+"
   ]
  },
  {
   "cell_type": "markdown",
   "id": "b8333e7e",
   "metadata": {
    "slideshow": {
     "slide_type": "slide"
    }
   },
   "source": [
    "### Toutes marques\n",
    "\n",
    "1. fusion des données en une seule source de données"
   ]
  },
  {
   "cell_type": "code",
   "execution_count": null,
   "id": "d2661629",
   "metadata": {},
   "outputs": [],
   "source": [
    "get_"
   ]
  },
  {
   "cell_type": "raw",
   "id": "c54ce1e4",
   "metadata": {
    "slideshow": {
     "slide_type": "subslide"
    }
   },
   "source": [
    "Model Evaluation\n",
    "RMSE: 2309.3034565240664\n",
    "PERFORMANCE COMPARISON -----------------------------------------------------------------------\n",
    "One model by Brand                                                          \n",
    "+--------------------------------------------------------------------------+\n",
    "|        Brand         | RMSE | Target mean | Prediction mean | Model path |\n",
    "|----------------------+------+-------------+-----------------+------------|\n",
    "| Merged Brand Dataset | 2309 |    16694    |      16611      |     -      |\n",
    "+--------------------------------------------------------------------------+"
   ]
  },
  {
   "cell_type": "markdown",
   "id": "bb948cbf",
   "metadata": {
    "slideshow": {
     "slide_type": "slide"
    }
   },
   "source": [
    "### Entraînement Incrémental\n",
    "\n",
    "Le model est entrainé sur chaque jeu de données en conservant les arbres précédemment créés."
   ]
  },
  {
   "cell_type": "code",
   "execution_count": 30,
   "id": "23e9180a",
   "metadata": {},
   "outputs": [
    {
     "data": {
      "text/html": [
       "<pre style=\"white-space:pre;overflow-x:auto;line-height:normal;font-family:Menlo,'DejaVu Sans Mono',consolas,'Courier New',monospace\"><span style=\"color: #000000; text-decoration-color: #000000; background-color: #ffffff; font-weight: bold\">PERFORMANCE COMPARISON</span> <span style=\"color: #000000; text-decoration-color: #000000; background-color: #ffffff\">──────────────────────────────────────────────────────────────────────</span>\n",
       "</pre>\n"
      ],
      "text/plain": [
       "\u001b[1;52;30;107mPERFORMANCE COMPARISON\u001b[0m \u001b[30;107m──────────────────────────────────────────────────────────────────────\u001b[0m\n"
      ]
     },
     "metadata": {},
     "output_type": "display_data"
    },
    {
     "data": {
      "text/html": [
       "<pre style=\"white-space:pre;overflow-x:auto;line-height:normal;font-family:Menlo,'DejaVu Sans Mono',consolas,'Courier New',monospace\"><span style=\"color: #000000; text-decoration-color: #000000; background-color: #ffffff; font-style: italic\">One model by Brand                                                                         </span>\n",
       "<span style=\"color: #000000; text-decoration-color: #000000; background-color: #ffffff\">┏━━━━━━━━━━━━┳━━━━━━┳━━━━━━━━━━━━━┳━━━━━━━━━━━━━━━━━┳━━━━━━━━━━━━━━━━━━━━━━━━━━━━━━━━━━━━━┓</span>\n",
       "<span style=\"color: #000000; text-decoration-color: #000000; background-color: #ffffff\">┃   Brand    ┃ RMSE ┃ Target mean ┃ Prediction mean ┃             Model path              ┃</span>\n",
       "<span style=\"color: #000000; text-decoration-color: #000000; background-color: #ffffff\">┡━━━━━━━━━━━━╇━━━━━━╇━━━━━━━━━━━━━╇━━━━━━━━━━━━━━━━━╇━━━━━━━━━━━━━━━━━━━━━━━━━━━━━━━━━━━━━┩</span>\n",
       "<span style=\"color: #000000; text-decoration-color: #000000; background-color: #ffffff\">│ Inc. Model │ </span><span style=\"color: #008080; text-decoration-color: #008080; background-color: #ffffff; font-weight: bold\">8652</span><span style=\"color: #000000; text-decoration-color: #000000; background-color: #ffffff\"> │    </span><span style=\"color: #008080; text-decoration-color: #008080; background-color: #ffffff; font-weight: bold\">16802</span><span style=\"color: #000000; text-decoration-color: #000000; background-color: #ffffff\">    │      </span><span style=\"color: #008080; text-decoration-color: #008080; background-color: #ffffff; font-weight: bold\">11661</span><span style=\"color: #000000; text-decoration-color: #000000; background-color: #ffffff\">      │ model/all_brand_model_8652.</span><span style=\"color: #008080; text-decoration-color: #008080; background-color: #ffffff; font-weight: bold\">0.</span><span style=\"color: #000000; text-decoration-color: #000000; background-color: #ffffff\">joblib │</span>\n",
       "<span style=\"color: #000000; text-decoration-color: #000000; background-color: #ffffff\">└────────────┴──────┴─────────────┴─────────────────┴─────────────────────────────────────┘</span>\n",
       "</pre>\n"
      ],
      "text/plain": [
       "\u001b[3;30;107mOne model by Brand                                                                         \u001b[0m\n",
       "\u001b[30;107m┏━━━━━━━━━━━━┳━━━━━━┳━━━━━━━━━━━━━┳━━━━━━━━━━━━━━━━━┳━━━━━━━━━━━━━━━━━━━━━━━━━━━━━━━━━━━━━┓\u001b[0m\n",
       "\u001b[30;107m┃\u001b[0m\u001b[30;107m \u001b[0m\u001b[30;107m  Brand   \u001b[0m\u001b[30;107m \u001b[0m\u001b[30;107m┃\u001b[0m\u001b[30;107m \u001b[0m\u001b[30;107mRMSE\u001b[0m\u001b[30;107m \u001b[0m\u001b[30;107m┃\u001b[0m\u001b[30;107m \u001b[0m\u001b[30;107mTarget mean\u001b[0m\u001b[30;107m \u001b[0m\u001b[30;107m┃\u001b[0m\u001b[30;107m \u001b[0m\u001b[30;107mPrediction mean\u001b[0m\u001b[30;107m \u001b[0m\u001b[30;107m┃\u001b[0m\u001b[30;107m \u001b[0m\u001b[30;107m            Model path             \u001b[0m\u001b[30;107m \u001b[0m\u001b[30;107m┃\u001b[0m\n",
       "\u001b[30;107m┡━━━━━━━━━━━━╇━━━━━━╇━━━━━━━━━━━━━╇━━━━━━━━━━━━━━━━━╇━━━━━━━━━━━━━━━━━━━━━━━━━━━━━━━━━━━━━┩\u001b[0m\n",
       "\u001b[30;107m│\u001b[0m\u001b[30;107m \u001b[0m\u001b[30;107mInc. Model\u001b[0m\u001b[30;107m \u001b[0m\u001b[30;107m│\u001b[0m\u001b[30;107m \u001b[0m\u001b[1;36;107m8652\u001b[0m\u001b[30;107m \u001b[0m\u001b[30;107m│\u001b[0m\u001b[30;107m \u001b[0m\u001b[30;107m   \u001b[0m\u001b[1;36;107m16802\u001b[0m\u001b[30;107m   \u001b[0m\u001b[30;107m \u001b[0m\u001b[30;107m│\u001b[0m\u001b[30;107m \u001b[0m\u001b[30;107m     \u001b[0m\u001b[1;36;107m11661\u001b[0m\u001b[30;107m     \u001b[0m\u001b[30;107m \u001b[0m\u001b[30;107m│\u001b[0m\u001b[30;107m \u001b[0m\u001b[30;107mmodel/all_brand_model_8652.\u001b[0m\u001b[1;36;107m0.\u001b[0m\u001b[30;107mjoblib\u001b[0m\u001b[30;107m \u001b[0m\u001b[30;107m│\u001b[0m\n",
       "\u001b[30;107m└────────────┴──────┴─────────────┴─────────────────┴─────────────────────────────────────┘\u001b[0m\n"
      ]
     },
     "metadata": {},
     "output_type": "display_data"
    }
   ],
   "source": [
    "get_one_model_for_all(model_to_dump=True, evaluation=True, verbose=False)"
   ]
  },
  {
   "cell_type": "raw",
   "id": "3fadee71",
   "metadata": {
    "slideshow": {
     "slide_type": "subslide"
    }
   },
   "source": [
    "Model Evaluation\n",
    "RMSE: 8170.288317336947\n",
    "PERFORMANCE COMPARISON -----------------------------------------------------------------------\n",
    "One model by Brand                                                       \n",
    "+-----------------------------------------------------------------------+\n",
    "|       Brand       | RMSE | Target mean | Prediction mean | Model path |\n",
    "|-------------------+------+-------------+-----------------+------------|\n",
    "| Incremental Model | 8170 |    16757    |      12268      |     -      |\n",
    "+-----------------------------------------------------------------------+"
   ]
  }
 ],
 "metadata": {
  "celltoolbar": "Slideshow",
  "kernelspec": {
   "display_name": "Python 3",
   "language": "python",
   "name": "python3"
  },
  "language_info": {
   "codemirror_mode": {
    "name": "ipython",
    "version": 3
   },
   "file_extension": ".py",
   "mimetype": "text/x-python",
   "name": "python",
   "nbconvert_exporter": "python",
   "pygments_lexer": "ipython3",
   "version": "3.8.11"
  },
  "rise": {
   "footer": "<h3>JBS</h3>",
   "header": "<h1>UK Used Car Prediction</h1>",
   "start_slideshow_at": "beginning"
  },
  "toc": {
   "base_numbering": 1,
   "nav_menu": {},
   "number_sections": true,
   "sideBar": true,
   "skip_h1_title": false,
   "title_cell": "Table of Contents",
   "title_sidebar": "Contents",
   "toc_cell": false,
   "toc_position": {},
   "toc_section_display": true,
   "toc_window_display": false
  }
 },
 "nbformat": 4,
 "nbformat_minor": 5
}
