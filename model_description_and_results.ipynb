{
 "cells": [
  {
   "cell_type": "code",
   "execution_count": 12,
   "id": "2713f7ca",
   "metadata": {},
   "outputs": [],
   "source": [
    "from sklearn import set_config\n",
    "from os.path import join, isfile\n",
    "from joblib import dump, load\n",
    "from feature_preprocessing_pipeline import categorize"
   ]
  },
  {
   "cell_type": "code",
   "execution_count": 3,
   "id": "6b1a5dbf",
   "metadata": {},
   "outputs": [],
   "source": [
    "set_config(display='diagram') "
   ]
  },
  {
   "cell_type": "code",
   "execution_count": 6,
   "id": "01fedc0b",
   "metadata": {},
   "outputs": [],
   "source": [
    "dataset_directory_path = 'dataset/'\n",
    "model_directory_path = 'model/'"
   ]
  },
  {
   "cell_type": "code",
   "execution_count": 13,
   "id": "d12d859d",
   "metadata": {},
   "outputs": [],
   "source": [
    "model_name = 'model_677'\n",
    "model_filename = f'{model_name}.joblib'\n",
    "model_path = join(model_directory_path, model_filename)\n",
    "model = load(model_path)"
   ]
  },
  {
   "cell_type": "code",
   "execution_count": 14,
   "id": "241c0c73",
   "metadata": {},
   "outputs": [
    {
     "data": {
      "text/html": [
       "<style>#sk-99bdbd43-ce1d-41d7-b972-b7a21c358b9e {color: black;background-color: white;}#sk-99bdbd43-ce1d-41d7-b972-b7a21c358b9e pre{padding: 0;}#sk-99bdbd43-ce1d-41d7-b972-b7a21c358b9e div.sk-toggleable {background-color: white;}#sk-99bdbd43-ce1d-41d7-b972-b7a21c358b9e label.sk-toggleable__label {cursor: pointer;display: block;width: 100%;margin-bottom: 0;padding: 0.2em 0.3em;box-sizing: border-box;text-align: center;}#sk-99bdbd43-ce1d-41d7-b972-b7a21c358b9e div.sk-toggleable__content {max-height: 0;max-width: 0;overflow: hidden;text-align: left;background-color: #f0f8ff;}#sk-99bdbd43-ce1d-41d7-b972-b7a21c358b9e div.sk-toggleable__content pre {margin: 0.2em;color: black;border-radius: 0.25em;background-color: #f0f8ff;}#sk-99bdbd43-ce1d-41d7-b972-b7a21c358b9e input.sk-toggleable__control:checked~div.sk-toggleable__content {max-height: 200px;max-width: 100%;overflow: auto;}#sk-99bdbd43-ce1d-41d7-b972-b7a21c358b9e div.sk-estimator input.sk-toggleable__control:checked~label.sk-toggleable__label {background-color: #d4ebff;}#sk-99bdbd43-ce1d-41d7-b972-b7a21c358b9e div.sk-label input.sk-toggleable__control:checked~label.sk-toggleable__label {background-color: #d4ebff;}#sk-99bdbd43-ce1d-41d7-b972-b7a21c358b9e input.sk-hidden--visually {border: 0;clip: rect(1px 1px 1px 1px);clip: rect(1px, 1px, 1px, 1px);height: 1px;margin: -1px;overflow: hidden;padding: 0;position: absolute;width: 1px;}#sk-99bdbd43-ce1d-41d7-b972-b7a21c358b9e div.sk-estimator {font-family: monospace;background-color: #f0f8ff;margin: 0.25em 0.25em;border: 1px dotted black;border-radius: 0.25em;box-sizing: border-box;}#sk-99bdbd43-ce1d-41d7-b972-b7a21c358b9e div.sk-estimator:hover {background-color: #d4ebff;}#sk-99bdbd43-ce1d-41d7-b972-b7a21c358b9e div.sk-parallel-item::after {content: \"\";width: 100%;border-bottom: 1px solid gray;flex-grow: 1;}#sk-99bdbd43-ce1d-41d7-b972-b7a21c358b9e div.sk-label:hover label.sk-toggleable__label {background-color: #d4ebff;}#sk-99bdbd43-ce1d-41d7-b972-b7a21c358b9e div.sk-serial::before {content: \"\";position: absolute;border-left: 1px solid gray;box-sizing: border-box;top: 2em;bottom: 0;left: 50%;}#sk-99bdbd43-ce1d-41d7-b972-b7a21c358b9e div.sk-serial {display: flex;flex-direction: column;align-items: center;background-color: white;}#sk-99bdbd43-ce1d-41d7-b972-b7a21c358b9e div.sk-item {z-index: 1;}#sk-99bdbd43-ce1d-41d7-b972-b7a21c358b9e div.sk-parallel {display: flex;align-items: stretch;justify-content: center;background-color: white;}#sk-99bdbd43-ce1d-41d7-b972-b7a21c358b9e div.sk-parallel-item {display: flex;flex-direction: column;position: relative;background-color: white;}#sk-99bdbd43-ce1d-41d7-b972-b7a21c358b9e div.sk-parallel-item:first-child::after {align-self: flex-end;width: 50%;}#sk-99bdbd43-ce1d-41d7-b972-b7a21c358b9e div.sk-parallel-item:last-child::after {align-self: flex-start;width: 50%;}#sk-99bdbd43-ce1d-41d7-b972-b7a21c358b9e div.sk-parallel-item:only-child::after {width: 0;}#sk-99bdbd43-ce1d-41d7-b972-b7a21c358b9e div.sk-dashed-wrapped {border: 1px dashed gray;margin: 0.2em;box-sizing: border-box;padding-bottom: 0.1em;background-color: white;position: relative;}#sk-99bdbd43-ce1d-41d7-b972-b7a21c358b9e div.sk-label label {font-family: monospace;font-weight: bold;background-color: white;display: inline-block;line-height: 1.2em;}#sk-99bdbd43-ce1d-41d7-b972-b7a21c358b9e div.sk-label-container {position: relative;z-index: 2;text-align: center;}#sk-99bdbd43-ce1d-41d7-b972-b7a21c358b9e div.sk-container {display: inline-block;position: relative;}</style><div id=\"sk-99bdbd43-ce1d-41d7-b972-b7a21c358b9e\" class\"sk-top-container\"><div class=\"sk-container\"><div class=\"sk-item sk-dashed-wrapped\"><div class=\"sk-label-container\"><div class=\"sk-label sk-toggleable\"><input class=\"sk-toggleable__control sk-hidden--visually\" id=\"2e32680a-2a4b-471b-bae0-0667e719672e\" type=\"checkbox\" ><label class=\"sk-toggleable__label\" for=\"2e32680a-2a4b-471b-bae0-0667e719672e\">Pipeline</label><div class=\"sk-toggleable__content\"><pre>Pipeline(steps=[('columntransformer',\n",
       "                 ColumnTransformer(remainder='passthrough',\n",
       "                                   transformers=[('pipeline-1',\n",
       "                                                  Pipeline(steps=[('polynomialfeatures',\n",
       "                                                                   PolynomialFeatures(degree=3,\n",
       "                                                                                      include_bias=False,\n",
       "                                                                                      interaction_only=True)),\n",
       "                                                                  ('standardscaler',\n",
       "                                                                   StandardScaler())]),\n",
       "                                                  <sklearn.compose._column_transformer.make_column_selector object at 0x7f0e47a06460>),\n",
       "                                                 ('typeconverte...\n",
       "                                                                  ('ordinalencoder',\n",
       "                                                                   OrdinalEncoder())]),\n",
       "                                                  ['transmission',\n",
       "                                                   'fuel_type']),\n",
       "                                                 ('pipeline-3',\n",
       "                                                  Pipeline(steps=[('functiontransformer',\n",
       "                                                                   FunctionTransformer(func=<function categorize at 0x7f0e4887bc10>)),\n",
       "                                                                  ('onehotencoder',\n",
       "                                                                   OneHotEncoder(handle_unknown='ignore'))]),\n",
       "                                                  ['brand'])],\n",
       "                                   verbose=True)),\n",
       "                ('randomforestregressor',\n",
       "                 RandomForestRegressor(n_estimators=500, n_jobs=-1))],\n",
       "         verbose=True)</pre></div></div></div><div class=\"sk-serial\"><div class=\"sk-item sk-dashed-wrapped\"><div class=\"sk-label-container\"><div class=\"sk-label sk-toggleable\"><input class=\"sk-toggleable__control sk-hidden--visually\" id=\"ab79be81-1fcf-4666-8902-d8dba51954af\" type=\"checkbox\" ><label class=\"sk-toggleable__label\" for=\"ab79be81-1fcf-4666-8902-d8dba51954af\">columntransformer: ColumnTransformer</label><div class=\"sk-toggleable__content\"><pre>ColumnTransformer(remainder='passthrough',\n",
       "                  transformers=[('pipeline-1',\n",
       "                                 Pipeline(steps=[('polynomialfeatures',\n",
       "                                                  PolynomialFeatures(degree=3,\n",
       "                                                                     include_bias=False,\n",
       "                                                                     interaction_only=True)),\n",
       "                                                 ('standardscaler',\n",
       "                                                  StandardScaler())]),\n",
       "                                 <sklearn.compose._column_transformer.make_column_selector object at 0x7f0e47a06460>),\n",
       "                                ('typeconverter', TypeConverter(), ['mileage']),\n",
       "                                ('kbi...\n",
       "                                 Pipeline(steps=[('functiontransformer',\n",
       "                                                  FunctionTransformer(func=<function categorize at 0x7f0e4887bc10>)),\n",
       "                                                 ('ordinalencoder',\n",
       "                                                  OrdinalEncoder())]),\n",
       "                                 ['transmission', 'fuel_type']),\n",
       "                                ('pipeline-3',\n",
       "                                 Pipeline(steps=[('functiontransformer',\n",
       "                                                  FunctionTransformer(func=<function categorize at 0x7f0e4887bc10>)),\n",
       "                                                 ('onehotencoder',\n",
       "                                                  OneHotEncoder(handle_unknown='ignore'))]),\n",
       "                                 ['brand'])],\n",
       "                  verbose=True)</pre></div></div></div><div class=\"sk-parallel\"><div class=\"sk-parallel-item\"><div class=\"sk-item\"><div class=\"sk-label-container\"><div class=\"sk-label sk-toggleable\"><input class=\"sk-toggleable__control sk-hidden--visually\" id=\"1316b2b6-2e62-44e6-9da9-7cf19c76f2d2\" type=\"checkbox\" ><label class=\"sk-toggleable__label\" for=\"1316b2b6-2e62-44e6-9da9-7cf19c76f2d2\">pipeline-1</label><div class=\"sk-toggleable__content\"><pre><sklearn.compose._column_transformer.make_column_selector object at 0x7f0e47a06460></pre></div></div></div><div class=\"sk-serial\"><div class=\"sk-item\"><div class=\"sk-serial\"><div class=\"sk-item\"><div class=\"sk-estimator sk-toggleable\"><input class=\"sk-toggleable__control sk-hidden--visually\" id=\"9b0f4875-24d2-49c9-8bd8-279ef1bdf1c8\" type=\"checkbox\" ><label class=\"sk-toggleable__label\" for=\"9b0f4875-24d2-49c9-8bd8-279ef1bdf1c8\">PolynomialFeatures</label><div class=\"sk-toggleable__content\"><pre>PolynomialFeatures(degree=3, include_bias=False, interaction_only=True)</pre></div></div></div><div class=\"sk-item\"><div class=\"sk-estimator sk-toggleable\"><input class=\"sk-toggleable__control sk-hidden--visually\" id=\"56742892-7192-44ec-b85d-b19717d38e3b\" type=\"checkbox\" ><label class=\"sk-toggleable__label\" for=\"56742892-7192-44ec-b85d-b19717d38e3b\">StandardScaler</label><div class=\"sk-toggleable__content\"><pre>StandardScaler()</pre></div></div></div></div></div></div></div></div><div class=\"sk-parallel-item\"><div class=\"sk-item\"><div class=\"sk-label-container\"><div class=\"sk-label sk-toggleable\"><input class=\"sk-toggleable__control sk-hidden--visually\" id=\"e9be1069-bfc1-42d1-aa7d-e478bd8024a3\" type=\"checkbox\" ><label class=\"sk-toggleable__label\" for=\"e9be1069-bfc1-42d1-aa7d-e478bd8024a3\">typeconverter</label><div class=\"sk-toggleable__content\"><pre>['mileage']</pre></div></div></div><div class=\"sk-serial\"><div class=\"sk-item\"><div class=\"sk-estimator sk-toggleable\"><input class=\"sk-toggleable__control sk-hidden--visually\" id=\"01a42468-76c8-447d-bbe2-eb0ea0f4e618\" type=\"checkbox\" ><label class=\"sk-toggleable__label\" for=\"01a42468-76c8-447d-bbe2-eb0ea0f4e618\">TypeConverter</label><div class=\"sk-toggleable__content\"><pre>TypeConverter()</pre></div></div></div></div></div></div><div class=\"sk-parallel-item\"><div class=\"sk-item\"><div class=\"sk-label-container\"><div class=\"sk-label sk-toggleable\"><input class=\"sk-toggleable__control sk-hidden--visually\" id=\"3e1f72af-0183-4755-b563-d8cee646a0b3\" type=\"checkbox\" ><label class=\"sk-toggleable__label\" for=\"3e1f72af-0183-4755-b563-d8cee646a0b3\">kbinsdiscretizer-1</label><div class=\"sk-toggleable__content\"><pre>['mpg']</pre></div></div></div><div class=\"sk-serial\"><div class=\"sk-item\"><div class=\"sk-estimator sk-toggleable\"><input class=\"sk-toggleable__control sk-hidden--visually\" id=\"19ad1663-14b9-4a1c-9981-7bb382686f71\" type=\"checkbox\" ><label class=\"sk-toggleable__label\" for=\"19ad1663-14b9-4a1c-9981-7bb382686f71\">KBinsDiscretizer</label><div class=\"sk-toggleable__content\"><pre>KBinsDiscretizer(n_bins=6, strategy='kmeans')</pre></div></div></div></div></div></div><div class=\"sk-parallel-item\"><div class=\"sk-item\"><div class=\"sk-label-container\"><div class=\"sk-label sk-toggleable\"><input class=\"sk-toggleable__control sk-hidden--visually\" id=\"5f96e516-80bb-4b2d-8ef4-6d24dab1530d\" type=\"checkbox\" ><label class=\"sk-toggleable__label\" for=\"5f96e516-80bb-4b2d-8ef4-6d24dab1530d\">kbinsdiscretizer-2</label><div class=\"sk-toggleable__content\"><pre>['engine_size']</pre></div></div></div><div class=\"sk-serial\"><div class=\"sk-item\"><div class=\"sk-estimator sk-toggleable\"><input class=\"sk-toggleable__control sk-hidden--visually\" id=\"c5f4e195-1e62-4332-a08b-4d27f03e2af1\" type=\"checkbox\" ><label class=\"sk-toggleable__label\" for=\"c5f4e195-1e62-4332-a08b-4d27f03e2af1\">KBinsDiscretizer</label><div class=\"sk-toggleable__content\"><pre>KBinsDiscretizer(encode='ordinal', n_bins=4, strategy='kmeans')</pre></div></div></div></div></div></div><div class=\"sk-parallel-item\"><div class=\"sk-item\"><div class=\"sk-label-container\"><div class=\"sk-label sk-toggleable\"><input class=\"sk-toggleable__control sk-hidden--visually\" id=\"8890c7c1-0ec4-41f3-ba1c-673a45082852\" type=\"checkbox\" ><label class=\"sk-toggleable__label\" for=\"8890c7c1-0ec4-41f3-ba1c-673a45082852\">kbinsdiscretizer-3</label><div class=\"sk-toggleable__content\"><pre>['tax']</pre></div></div></div><div class=\"sk-serial\"><div class=\"sk-item\"><div class=\"sk-estimator sk-toggleable\"><input class=\"sk-toggleable__control sk-hidden--visually\" id=\"fd152d79-a663-4b89-bb10-4c7fe3ea7d97\" type=\"checkbox\" ><label class=\"sk-toggleable__label\" for=\"fd152d79-a663-4b89-bb10-4c7fe3ea7d97\">KBinsDiscretizer</label><div class=\"sk-toggleable__content\"><pre>KBinsDiscretizer(encode='ordinal', n_bins=9, strategy='kmeans')</pre></div></div></div></div></div></div><div class=\"sk-parallel-item\"><div class=\"sk-item\"><div class=\"sk-label-container\"><div class=\"sk-label sk-toggleable\"><input class=\"sk-toggleable__control sk-hidden--visually\" id=\"9f32ad7e-a3c8-4968-9d41-a56b4965e373\" type=\"checkbox\" ><label class=\"sk-toggleable__label\" for=\"9f32ad7e-a3c8-4968-9d41-a56b4965e373\">drop</label><div class=\"sk-toggleable__content\"><pre>['model', 'year']</pre></div></div></div><div class=\"sk-serial\"><div class=\"sk-item\"><div class=\"sk-estimator sk-toggleable\"><input class=\"sk-toggleable__control sk-hidden--visually\" id=\"fc9b4c99-bef1-4f24-9b35-37c967ca8cf9\" type=\"checkbox\" ><label class=\"sk-toggleable__label\" for=\"fc9b4c99-bef1-4f24-9b35-37c967ca8cf9\">drop</label><div class=\"sk-toggleable__content\"><pre>drop</pre></div></div></div></div></div></div><div class=\"sk-parallel-item\"><div class=\"sk-item\"><div class=\"sk-label-container\"><div class=\"sk-label sk-toggleable\"><input class=\"sk-toggleable__control sk-hidden--visually\" id=\"13c32345-220b-447b-b0a9-51043a4060c2\" type=\"checkbox\" ><label class=\"sk-toggleable__label\" for=\"13c32345-220b-447b-b0a9-51043a4060c2\">pipeline-2</label><div class=\"sk-toggleable__content\"><pre>['transmission', 'fuel_type']</pre></div></div></div><div class=\"sk-serial\"><div class=\"sk-item\"><div class=\"sk-serial\"><div class=\"sk-item\"><div class=\"sk-estimator sk-toggleable\"><input class=\"sk-toggleable__control sk-hidden--visually\" id=\"fc7935c0-60d2-4346-9f05-d4d1c83c5762\" type=\"checkbox\" ><label class=\"sk-toggleable__label\" for=\"fc7935c0-60d2-4346-9f05-d4d1c83c5762\">FunctionTransformer</label><div class=\"sk-toggleable__content\"><pre>FunctionTransformer(func=<function categorize at 0x7f0e4887bc10>)</pre></div></div></div><div class=\"sk-item\"><div class=\"sk-estimator sk-toggleable\"><input class=\"sk-toggleable__control sk-hidden--visually\" id=\"ba148e27-a944-4eee-a4a6-e5c8065cb985\" type=\"checkbox\" ><label class=\"sk-toggleable__label\" for=\"ba148e27-a944-4eee-a4a6-e5c8065cb985\">OrdinalEncoder</label><div class=\"sk-toggleable__content\"><pre>OrdinalEncoder()</pre></div></div></div></div></div></div></div></div><div class=\"sk-parallel-item\"><div class=\"sk-item\"><div class=\"sk-label-container\"><div class=\"sk-label sk-toggleable\"><input class=\"sk-toggleable__control sk-hidden--visually\" id=\"6e0b158f-312c-429f-952b-1759defa90ee\" type=\"checkbox\" ><label class=\"sk-toggleable__label\" for=\"6e0b158f-312c-429f-952b-1759defa90ee\">pipeline-3</label><div class=\"sk-toggleable__content\"><pre>['brand']</pre></div></div></div><div class=\"sk-serial\"><div class=\"sk-item\"><div class=\"sk-serial\"><div class=\"sk-item\"><div class=\"sk-estimator sk-toggleable\"><input class=\"sk-toggleable__control sk-hidden--visually\" id=\"967ac1dc-c192-41a8-ab2f-99b110c0b675\" type=\"checkbox\" ><label class=\"sk-toggleable__label\" for=\"967ac1dc-c192-41a8-ab2f-99b110c0b675\">FunctionTransformer</label><div class=\"sk-toggleable__content\"><pre>FunctionTransformer(func=<function categorize at 0x7f0e4887bc10>)</pre></div></div></div><div class=\"sk-item\"><div class=\"sk-estimator sk-toggleable\"><input class=\"sk-toggleable__control sk-hidden--visually\" id=\"52ed74f3-8425-4ad7-bcaa-f94a76655936\" type=\"checkbox\" ><label class=\"sk-toggleable__label\" for=\"52ed74f3-8425-4ad7-bcaa-f94a76655936\">OneHotEncoder</label><div class=\"sk-toggleable__content\"><pre>OneHotEncoder(handle_unknown='ignore')</pre></div></div></div></div></div></div></div></div><div class=\"sk-parallel-item\"><div class=\"sk-item\"><div class=\"sk-label-container\"><div class=\"sk-label sk-toggleable\"><input class=\"sk-toggleable__control sk-hidden--visually\" id=\"077de65b-e1a7-4572-a80d-ecd547d55879\" type=\"checkbox\" ><label class=\"sk-toggleable__label\" for=\"077de65b-e1a7-4572-a80d-ecd547d55879\">remainder</label><div class=\"sk-toggleable__content\"><pre>[['model', 'year', 'transmission', 'mileage', 'fuel_type', 'tax', 'mpg', 'engine_size', 'brand']]</pre></div></div></div><div class=\"sk-serial\"><div class=\"sk-item\"><div class=\"sk-estimator sk-toggleable\"><input class=\"sk-toggleable__control sk-hidden--visually\" id=\"1f7b6c7c-b1e1-4cab-b3cf-950fd50f9e94\" type=\"checkbox\" ><label class=\"sk-toggleable__label\" for=\"1f7b6c7c-b1e1-4cab-b3cf-950fd50f9e94\">passthrough</label><div class=\"sk-toggleable__content\"><pre>passthrough</pre></div></div></div></div></div></div></div></div><div class=\"sk-item\"><div class=\"sk-estimator sk-toggleable\"><input class=\"sk-toggleable__control sk-hidden--visually\" id=\"35946170-e7d1-43ac-b9b7-03be5d19ee7e\" type=\"checkbox\" ><label class=\"sk-toggleable__label\" for=\"35946170-e7d1-43ac-b9b7-03be5d19ee7e\">RandomForestRegressor</label><div class=\"sk-toggleable__content\"><pre>RandomForestRegressor(n_estimators=500, n_jobs=-1)</pre></div></div></div></div></div></div></div>"
      ],
      "text/plain": [
       "Pipeline(steps=[('columntransformer',\n",
       "                 ColumnTransformer(remainder='passthrough',\n",
       "                                   transformers=[('pipeline-1',\n",
       "                                                  Pipeline(steps=[('polynomialfeatures',\n",
       "                                                                   PolynomialFeatures(degree=3,\n",
       "                                                                                      include_bias=False,\n",
       "                                                                                      interaction_only=True)),\n",
       "                                                                  ('standardscaler',\n",
       "                                                                   StandardScaler())]),\n",
       "                                                  <sklearn.compose._column_transformer.make_column_selector object at 0x7f0e47a06460>),\n",
       "                                                 ('typeconverte...\n",
       "                                                                  ('ordinalencoder',\n",
       "                                                                   OrdinalEncoder())]),\n",
       "                                                  ['transmission',\n",
       "                                                   'fuel_type']),\n",
       "                                                 ('pipeline-3',\n",
       "                                                  Pipeline(steps=[('functiontransformer',\n",
       "                                                                   FunctionTransformer(func=<function categorize at 0x7f0e4887bc10>)),\n",
       "                                                                  ('onehotencoder',\n",
       "                                                                   OneHotEncoder(handle_unknown='ignore'))]),\n",
       "                                                  ['brand'])],\n",
       "                                   verbose=True)),\n",
       "                ('randomforestregressor',\n",
       "                 RandomForestRegressor(n_estimators=500, n_jobs=-1))],\n",
       "         verbose=True)"
      ]
     },
     "execution_count": 14,
     "metadata": {},
     "output_type": "execute_result"
    }
   ],
   "source": [
    "model"
   ]
  }
 ],
 "metadata": {
  "kernelspec": {
   "display_name": "Python 3",
   "language": "python",
   "name": "python3"
  },
  "language_info": {
   "codemirror_mode": {
    "name": "ipython",
    "version": 3
   },
   "file_extension": ".py",
   "mimetype": "text/x-python",
   "name": "python",
   "nbconvert_exporter": "python",
   "pygments_lexer": "ipython3",
   "version": "3.8.11"
  },
  "toc": {
   "base_numbering": 1,
   "nav_menu": {},
   "number_sections": true,
   "sideBar": true,
   "skip_h1_title": false,
   "title_cell": "Table of Contents",
   "title_sidebar": "Contents",
   "toc_cell": false,
   "toc_position": {},
   "toc_section_display": true,
   "toc_window_display": false
  }
 },
 "nbformat": 4,
 "nbformat_minor": 5
}
