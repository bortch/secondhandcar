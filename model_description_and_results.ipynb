{
 "cells": [
  {
   "cell_type": "code",
   "execution_count": 24,
   "id": "1a7bb67f",
   "metadata": {
    "slideshow": {
     "slide_type": "skip"
    }
   },
   "outputs": [],
   "source": [
    "# autoreload reloads modules automatically before entering the execution of code typed at the IPython prompt.\n",
    "%reload_ext autoreload\n",
    "%autoreload 2\n",
    "%aimport feature_preprocessing_pipeline\n",
    "%aimport build_model_by_brand\n",
    "%aimport build_model\n",
    "%aimport build_model_for_merged_data\n",
    "%aimport prepare_data\n",
    "%aimport bs_lib.bs_preprocess_lib\n",
    "%aimport constants"
   ]
  },
  {
   "cell_type": "code",
   "execution_count": 75,
   "id": "c30d3dbb",
   "metadata": {
    "slideshow": {
     "slide_type": "skip"
    }
   },
   "outputs": [],
   "source": [
    "from sklearn import set_config\n",
    "from os import system\n",
    "from os.path import join, isfile\n",
    "from joblib import dump, load\n",
    "from feature_preprocessing_pipeline import categorize, extract_features, clean_variables\n",
    "from sklearn import tree\n",
    "import matplotlib.pyplot as plt\n",
    "import pandas as pd\n",
    "import numpy as np\n",
    "from sklearn import tree\n",
    "from sklearn.metrics import make_scorer, mean_squared_error\n",
    "from build_model_by_brand import evaluate_all_models,evaluate_all_refitted_models, get_set_split,get_best_estimators_params\n",
    "from build_model import get_one_model_for_all_iterative,evaluate_prediction, get_model\n",
    "import build_model_for_merged_data as bmmd #import evaluate_model,get_best_estimator\n",
    "from prepare_data import load_prepared_file\n",
    "from bs_lib.bs_preprocess_lib import plot_validation_curve,get_learning_curve,plot_learning_curve\n",
    "import constants as cnst\n",
    "#from dtreeviz.trees import dtreeviz"
   ]
  },
  {
   "cell_type": "code",
   "execution_count": 81,
   "id": "799b2867",
   "metadata": {
    "slideshow": {
     "slide_type": "skip"
    }
   },
   "outputs": [],
   "source": [
    "\n",
    "from IPython.core.display import display, HTML \n",
    "from sklearn.utils import estimator_html_repr \n",
    "set_config(display='diagram') "
   ]
  },
  {
   "cell_type": "code",
   "execution_count": 4,
   "id": "38116cba",
   "metadata": {
    "slideshow": {
     "slide_type": "skip"
    }
   },
   "outputs": [],
   "source": [
    "dataset_directory_path = 'dataset/'\n",
    "model_directory_path = 'model/'"
   ]
  },
  {
   "cell_type": "code",
   "execution_count": 57,
   "id": "51e30144",
   "metadata": {
    "slideshow": {
     "slide_type": "skip"
    }
   },
   "outputs": [],
   "source": [
    "model_name = 'mercedes_optimize_rmse_2427'\n",
    "model_filename = f'{model_name}.joblib'\n",
    "model_path = join(cnst.MODEL_DIR_PATH, model_filename)\n",
    "model = load(model_path)"
   ]
  },
  {
   "cell_type": "code",
   "execution_count": 82,
   "id": "346f7723",
   "metadata": {
    "slideshow": {
     "slide_type": "skip"
    }
   },
   "outputs": [],
   "source": [
    "X_test = pd.read_csv(join(dataset_directory_path, 'X_test.csv'), index_col=0)\n",
    "y_test = pd.read_csv(join(dataset_directory_path, 'y_test.csv'), index_col=0)"
   ]
  },
  {
   "cell_type": "markdown",
   "id": "5e1f1e53",
   "metadata": {
    "slideshow": {
     "slide_type": "slide"
    }
   },
   "source": [
    "## Description du model "
   ]
  },
  {
   "cell_type": "markdown",
   "id": "fe8b84c1",
   "metadata": {
    "slideshow": {
     "slide_type": "skip"
    }
   },
   "source": [
    "### Variables"
   ]
  },
  {
   "cell_type": "code",
   "execution_count": 78,
   "id": "3d36fe55",
   "metadata": {
    "slideshow": {
     "slide_type": "skip"
    }
   },
   "outputs": [
    {
     "name": "stdout",
     "output_type": "stream",
     "text": [
      "Le model RandomForestRegressor(max_depth=50, max_features=None, min_samples_split=6,\n",
      "                      n_estimators=10, n_jobs=-1, verbose=False) a 57 variables\n"
     ]
    }
   ],
   "source": [
    "rfr = model[2]\n",
    "print(f\"Le model {rfr} a {rfr.n_features_in_} variables\")"
   ]
  },
  {
   "cell_type": "markdown",
   "id": "d305d131",
   "metadata": {
    "slideshow": {
     "slide_type": "skip"
    }
   },
   "source": [
    "### Durée d'entraînement"
   ]
  },
  {
   "cell_type": "raw",
   "id": "c9a88483",
   "metadata": {
    "slideshow": {
     "slide_type": "skip"
    }
   },
   "source": [
    "Loading all_set.csv Dataset...\n",
    "all_set.csv already processed, prepared_all_set.csv loaded\n",
    "X: (78231, 9)\n",
    "y: (78231,)\n",
    "\tX_train: (58673, 9)\n",
    "\tX_val: (11734, 9)\n",
    "\tX_test: (7824, 9)\n",
    "\ty_train: (58673,)\n",
    "\ty_val: (11734,)\n",
    "\ty_test: (7824,)\n",
    "\n",
    "Loading X_train.csv Dataset...\n",
    "\n",
    "Creating Columns transformers\n",
    "\n",
    "Extract Features\n",
    "[Pipeline] ........ (step 1 of 4) Processing features_extraction,               total=   0.1s\n",
    "[ColumnTransformer] ............. (1 of 9) Processing poly,                     total=   0.1s\n",
    "[ColumnTransformer] ............. (2 of 9) Processing mpg_discretizer,          total=   0.0s\n",
    "[ColumnTransformer] ............. (3 of 9) Processing tax_discretizer,          total=   0.0s\n",
    "[ColumnTransformer] ............. (4 of 9) Processing engine_size_discretizer,  total=   0.0s\n",
    "         [Pipeline] ...................... (step 1 of 1) Processing discretize, total=   0.0s\n",
    "[ColumnTransformer] ............. (5 of 9) Processing year_pipe,                total=   0.0s\n",
    "         [Pipeline] ...................... (step 1 of 1) Processing OHE,        total=   0.1s\n",
    "[ColumnTransformer] ............. (6 of 9) Processing model_pipe,               total=   0.1s\n",
    "         [Pipeline] ...................... (step 1 of 1) Processing OHE,        total=   0.1s\n",
    "[ColumnTransformer] ............. (7 of 9) Processing brand_pipe,               total=   0.1s\n",
    "         [Pipeline] ...................... (step 1 of 1) Processing OHE,        total=   0.1s\n",
    "[ColumnTransformer] ............. (8 of 9) Processing transmission_pipe,        total=   0.1s\n",
    "         [Pipeline] ...................... (step 1 of 1) Processing OHE,        total=   0.1s\n",
    "[ColumnTransformer] ............. (9 of 9) Processing fuel_type_pipe,           total=   0.1s\n",
    "[Pipeline] ........ (step 2 of 4) Processing transformer,                       total=   0.8s\n",
    "[Pipeline] ........ (step 3 of 4) Processing scaler,                            total=   1.0s\n",
    "[Pipeline] ........ (step 4 of 4) Processing random_forest,                     total= 3.8min\n",
    "    [Parallel(n_jobs=-1)]: Using backend ThreadingBackend with 4 concurrent workers.\n",
    "    [Parallel(n_jobs=-1)]: Done  42 tasks      | elapsed:  1.7min\n",
    "    [Parallel(n_jobs=-1)]: Done 100 out of 100 | elapsed:  3.8min finished\n",
    "\n",
    "Predicting\n",
    "[Parallel(n_jobs=4)]: Using backend ThreadingBackend with 4 concurrent workers.\n",
    "[Parallel(n_jobs=4)]: Done  42 tasks      | elapsed:    0.2s\n",
    "[Parallel(n_jobs=4)]: Done 100 out of 100 | elapsed:    0.5s finished\n",
    "\n",
    "RMSE: 1778.447790820576\n"
   ]
  },
  {
   "cell_type": "code",
   "execution_count": 64,
   "id": "57f0a13e",
   "metadata": {
    "slideshow": {
     "slide_type": "skip"
    }
   },
   "outputs": [
    {
     "name": "stdout",
     "output_type": "stream",
     "text": [
      "Test set:\n",
      " X (7824, 9) y (7824, 1)\n"
     ]
    }
   ],
   "source": [
    "print(f\"Test set:\\n X {X_test.shape} y {y_test.shape}\")\n"
   ]
  },
  {
   "cell_type": "markdown",
   "id": "b2df1155",
   "metadata": {
    "slideshow": {
     "slide_type": "subslide"
    }
   },
   "source": [
    "<center><img src=\"./assets/one_model_by_brand_overview.svg\"/></center>"
   ]
  },
  {
   "cell_type": "markdown",
   "id": "7a244106",
   "metadata": {
    "slideshow": {
     "slide_type": "subslide"
    }
   },
   "source": [
    "### Traitement des fichiers sources\n",
    "<center><img src=\"./assets/file_processing.svg\"/></center>"
   ]
  },
  {
   "cell_type": "markdown",
   "id": "11d91a01",
   "metadata": {
    "slideshow": {
     "slide_type": "subslide"
    }
   },
   "source": [
    "### Préparation des données\n",
    "\n",
    "<center><img src=\"./assets/prepare_data.svg\"/></center>"
   ]
  },
  {
   "cell_type": "markdown",
   "id": "8cac99c2",
   "metadata": {
    "slideshow": {
     "slide_type": "subslide"
    }
   },
   "source": [
    "#### Suppression ou Imputation des *anomalies*\n",
    "\n",
    "<center><img src=\"./assets/outliers.svg\"/></center>"
   ]
  },
  {
   "cell_type": "markdown",
   "id": "49526ed2",
   "metadata": {
    "slideshow": {
     "slide_type": "subslide"
    }
   },
   "source": [
    "### Séparation des données\n",
    "\n",
    "<center><img src=\"./assets/split_data.svg\"/></center>"
   ]
  },
  {
   "cell_type": "markdown",
   "id": "7600e9f3",
   "metadata": {
    "slideshow": {
     "slide_type": "subslide"
    }
   },
   "source": [
    "### Création du Modèle\n",
    "\n",
    "<center><img src=\"./assets/build_model.svg\"/></center>"
   ]
  },
  {
   "cell_type": "markdown",
   "id": "6e691b85",
   "metadata": {
    "slideshow": {
     "slide_type": "subslide"
    }
   },
   "source": [
    "#### Extract Features\n",
    "\n",
    "Création de nouvelles variables:\n",
    "1. `age`: $max(year)-year$\n",
    "1. `model_count`: nombre d'occurence du modèle dans le dataset\n",
    "1. `occurence_relative`: $\\frac{count(model)}{count(allmodel)}$\n",
    "1. `mileage_per_year`: $\\frac{mileage}{age}$\n",
    "1. `mpg_per_year`: $\\frac{mpg}{age}$\n",
    "1. `tax_per_year`: $\\frac{tax}{age}$\n",
    "1. `engine_size_per_year`: $\\frac{enginesize}{age}$\n",
    "1. `esoteric_composite_ratio`\n",
    "\n",
    "Suivant la marque de voiture et/ou le modèle de prédiction créé, certaines améliorent le score de prédictions."
   ]
  },
  {
   "cell_type": "markdown",
   "id": "db3c41a4",
   "metadata": {
    "slideshow": {
     "slide_type": "subslide"
    }
   },
   "source": [
    "#### Transform Features\n",
    "1. `PolynomialFeature` pour les variables numériques.\n",
    "1. `KBinsDiscretizer` pour les variables `mpg`, `tax`, `engine_size`, `year`.\n",
    "1. `OneHotEncoder` ou `OrdinalEncoder` pour les variables `model`, `brand`, `transmission`, `fuel_type`. \n",
    "\n",
    "Pour l'`OrdinalEncoder`, les catégories ont été triées relativement à la variable dépendante `price` par **ordre ascendant**.\n"
   ]
  },
  {
   "cell_type": "markdown",
   "id": "c9d8db94",
   "metadata": {
    "slideshow": {
     "slide_type": "subslide"
    }
   },
   "source": [
    "#### Échelle discrète"
   ]
  },
  {
   "cell_type": "markdown",
   "id": "be945332",
   "metadata": {
    "slideshow": {
     "slide_type": "subslide"
    }
   },
   "source": [
    "##### MPG\n",
    "\n",
    "<center><img src=\"./assets/mpg_histplot.png\"/></center>"
   ]
  },
  {
   "cell_type": "markdown",
   "id": "72492ad1",
   "metadata": {
    "slideshow": {
     "slide_type": "subslide"
    }
   },
   "source": [
    "##### Tax\n",
    "\n",
    "<center><img src=\"./assets/tax_vs_price_relation_plot.png\"/></center>"
   ]
  },
  {
   "cell_type": "markdown",
   "id": "56ee3b42",
   "metadata": {},
   "source": [
    "##### Engine Size\n",
    "\n",
    "<center><img src=\"./assets/engine_size_histplot.png\"/></center>"
   ]
  },
  {
   "cell_type": "markdown",
   "id": "ff198cf1",
   "metadata": {
    "slideshow": {
     "slide_type": "subslide"
    }
   },
   "source": [
    "### Pipeline\n",
    "\n",
    "<center><img src=\"./assets/pipeline.svg\"/></center>"
   ]
  },
  {
   "cell_type": "markdown",
   "id": "d29bc0e5",
   "metadata": {
    "slideshow": {
     "slide_type": "subslide"
    }
   },
   "source": [
    "### Valeurs des paramètres du pipeline\n",
    "\n",
    "<center><img src=\"./assets/best_params_search.svg\"/></center>"
   ]
  },
  {
   "cell_type": "raw",
   "id": "d2de6716",
   "metadata": {
    "slideshow": {
     "slide_type": "subslide"
    }
   },
   "source": [
    "Loading ./dataset/prepared_data/toyota.csv\n",
    "\n",
    "(...)\n",
    "\n",
    "New best score for this combination:\n",
    "\n",
    "Best score 918.9770768190458\n",
    "Best params \n",
    "{'transformer__poly': 'passthrough',\n",
    " 'transformer__mpg_pipe': {'transformer__mpg_pipe__discretize__encode': 'ordinal',  \n",
    "                           'transformer__mpg_pipe__discretize__n_bins': 6,\n",
    "                           'transformer__mpg_pipe__discretize__strategy': 'uniform'}, \n",
    " 'transformer__tax_pipe': 'passthrough', \n",
    " 'transformer__engine_size_pipe': 'passthrough', \n",
    " 'transformer__year_pipe': 'passthrough'}\n",
    "\n",
    "(...)\n",
    "\n",
    "Toyota - Best score 918.9770768190458\n",
    "Toyota - Best params {...}\n",
    "Best Model saved @ ./model/toyota_optimize.joblib"
   ]
  },
  {
   "cell_type": "markdown",
   "id": "7b08fa0a",
   "metadata": {
    "slideshow": {
     "slide_type": "slide"
    }
   },
   "source": [
    "## Recherche de Modèles\n",
    "\n",
    "1. Un modèle par marque\n",
    "1. Un modèle pour toutes les marques\n",
    "1. Un modèle incrémental pour toutes les marques"
   ]
  },
  {
   "cell_type": "markdown",
   "id": "69ca0b9f",
   "metadata": {
    "slideshow": {
     "slide_type": "slide"
    }
   },
   "source": [
    "### Couches d'optimisation du modèle\n",
    "\n",
    "<center><img src=\"./assets/optimization.svg\"/></center>"
   ]
  },
  {
   "cell_type": "markdown",
   "id": "b9ea6ac5",
   "metadata": {
    "slideshow": {
     "slide_type": "slide"
    }
   },
   "source": [
    "### Par marques\n",
    "\n",
    "Création d'un modèle par marques"
   ]
  },
  {
   "cell_type": "markdown",
   "id": "931b4a65",
   "metadata": {
    "slideshow": {
     "slide_type": "subslide"
    }
   },
   "source": [
    "#### Évaluation du modèle de base"
   ]
  },
  {
   "cell_type": "code",
   "execution_count": 89,
   "id": "f7404691",
   "metadata": {
    "slideshow": {
     "slide_type": "subslide"
    }
   },
   "outputs": [
    {
     "data": {
      "text/html": [
       "<pre style=\"white-space:pre;overflow-x:auto;line-height:normal;font-family:Menlo,'DejaVu Sans Mono',consolas,'Courier New',monospace\"><span style=\"color: #000000; text-decoration-color: #000000; background-color: #ffffff; font-weight: bold\">PERFORMANCE COMPARISON</span> <span style=\"color: #000000; text-decoration-color: #000000; background-color: #ffffff\">──────────────────────────────────────────────────────────────────────</span>\n",
       "</pre>\n"
      ],
      "text/plain": [
       "\u001b[1;52;30;107mPERFORMANCE COMPARISON\u001b[0m \u001b[30;107m──────────────────────────────────────────────────────────────────────\u001b[0m\n"
      ]
     },
     "metadata": {},
     "output_type": "display_data"
    },
    {
     "data": {
      "text/html": [
       "<pre style=\"white-space:pre;overflow-x:auto;line-height:normal;font-family:Menlo,'DejaVu Sans Mono',consolas,'Courier New',monospace\"><span style=\"color: #000000; text-decoration-color: #000000; background-color: #ffffff; font-style: italic\">One model by Brand                                                       </span>\n",
       "<span style=\"color: #000000; text-decoration-color: #000000; background-color: #ffffff\">┏━━━━━━━━━━┳━━━━━━┳━━━━━━━━━┳━━━━━━━━━━━━━━━━━━━━━┳━━━━━━━━━━━━━━━━━━━━━┓</span>\n",
       "<span style=\"color: #000000; text-decoration-color: #000000; background-color: #ffffff\">┃  Brand   ┃ RMSE ┃   R2    ┃ Absolute Mean Error ┃     Model path      ┃</span>\n",
       "<span style=\"color: #000000; text-decoration-color: #000000; background-color: #ffffff\">┡━━━━━━━━━━╇━━━━━━╇━━━━━━━━━╇━━━━━━━━━━━━━━━━━━━━━╇━━━━━━━━━━━━━━━━━━━━━┩</span>\n",
       "<span style=\"color: #000000; text-decoration-color: #000000; background-color: #ffffff\">│   Audi   │ </span><span style=\"color: #008080; text-decoration-color: #008080; background-color: #ffffff; font-weight: bold\">2866</span><span style=\"color: #000000; text-decoration-color: #000000; background-color: #ffffff\"> │ </span><span style=\"color: #008080; text-decoration-color: #008080; background-color: #ffffff; font-weight: bold\">-3.7893</span><span style=\"color: #000000; text-decoration-color: #000000; background-color: #ffffff\"> │        </span><span style=\"color: #008080; text-decoration-color: #008080; background-color: #ffffff; font-weight: bold\">1687</span><span style=\"color: #000000; text-decoration-color: #000000; background-color: #ffffff\">         │   audi_base-model   │</span>\n",
       "<span style=\"color: #000000; text-decoration-color: #000000; background-color: #ffffff\">│   Bmw    │ </span><span style=\"color: #008080; text-decoration-color: #008080; background-color: #ffffff; font-weight: bold\">2534</span><span style=\"color: #000000; text-decoration-color: #000000; background-color: #ffffff\"> │ </span><span style=\"color: #008080; text-decoration-color: #008080; background-color: #ffffff; font-weight: bold\">-4.1015</span><span style=\"color: #000000; text-decoration-color: #000000; background-color: #ffffff\"> │        </span><span style=\"color: #008080; text-decoration-color: #008080; background-color: #ffffff; font-weight: bold\">1674</span><span style=\"color: #000000; text-decoration-color: #000000; background-color: #ffffff\">         │   bmw_base-model    │</span>\n",
       "<span style=\"color: #000000; text-decoration-color: #000000; background-color: #ffffff\">│   Ford   │ </span><span style=\"color: #008080; text-decoration-color: #008080; background-color: #ffffff; font-weight: bold\">1402</span><span style=\"color: #000000; text-decoration-color: #000000; background-color: #ffffff\"> │ </span><span style=\"color: #008080; text-decoration-color: #008080; background-color: #ffffff; font-weight: bold\">-6.4619</span><span style=\"color: #000000; text-decoration-color: #000000; background-color: #ffffff\"> │         </span><span style=\"color: #008080; text-decoration-color: #008080; background-color: #ffffff; font-weight: bold\">918</span><span style=\"color: #000000; text-decoration-color: #000000; background-color: #ffffff\">         │   ford_base-model   │</span>\n",
       "<span style=\"color: #000000; text-decoration-color: #000000; background-color: #ffffff\">│ Hyundai  │ </span><span style=\"color: #008080; text-decoration-color: #008080; background-color: #ffffff; font-weight: bold\">1585</span><span style=\"color: #000000; text-decoration-color: #000000; background-color: #ffffff\"> │ </span><span style=\"color: #008080; text-decoration-color: #008080; background-color: #ffffff; font-weight: bold\">-4.6620</span><span style=\"color: #000000; text-decoration-color: #000000; background-color: #ffffff\"> │         </span><span style=\"color: #008080; text-decoration-color: #008080; background-color: #ffffff; font-weight: bold\">891</span><span style=\"color: #000000; text-decoration-color: #000000; background-color: #ffffff\">         │ hyundai_base-model  │</span>\n",
       "<span style=\"color: #000000; text-decoration-color: #000000; background-color: #ffffff\">│ Mercedes │ </span><span style=\"color: #008080; text-decoration-color: #008080; background-color: #ffffff; font-weight: bold\">3469</span><span style=\"color: #000000; text-decoration-color: #000000; background-color: #ffffff\"> │ </span><span style=\"color: #008080; text-decoration-color: #008080; background-color: #ffffff; font-weight: bold\">-4.2664</span><span style=\"color: #000000; text-decoration-color: #000000; background-color: #ffffff\"> │        </span><span style=\"color: #008080; text-decoration-color: #008080; background-color: #ffffff; font-weight: bold\">1803</span><span style=\"color: #000000; text-decoration-color: #000000; background-color: #ffffff\">         │ mercedes_base-model │</span>\n",
       "<span style=\"color: #000000; text-decoration-color: #000000; background-color: #ffffff\">│   Opel   │ </span><span style=\"color: #008080; text-decoration-color: #008080; background-color: #ffffff; font-weight: bold\">1146</span><span style=\"color: #000000; text-decoration-color: #000000; background-color: #ffffff\"> │ </span><span style=\"color: #008080; text-decoration-color: #008080; background-color: #ffffff; font-weight: bold\">-8.7634</span><span style=\"color: #000000; text-decoration-color: #000000; background-color: #ffffff\"> │         </span><span style=\"color: #008080; text-decoration-color: #008080; background-color: #ffffff; font-weight: bold\">785</span><span style=\"color: #000000; text-decoration-color: #000000; background-color: #ffffff\">         │   opel_base-model   │</span>\n",
       "<span style=\"color: #000000; text-decoration-color: #000000; background-color: #ffffff\">│  Skoda   │ </span><span style=\"color: #008080; text-decoration-color: #008080; background-color: #ffffff; font-weight: bold\">2743</span><span style=\"color: #000000; text-decoration-color: #000000; background-color: #ffffff\"> │ </span><span style=\"color: #008080; text-decoration-color: #008080; background-color: #ffffff; font-weight: bold\">-4.3746</span><span style=\"color: #000000; text-decoration-color: #000000; background-color: #ffffff\"> │        </span><span style=\"color: #008080; text-decoration-color: #008080; background-color: #ffffff; font-weight: bold\">1138</span><span style=\"color: #000000; text-decoration-color: #000000; background-color: #ffffff\">         │  skoda_base-model   │</span>\n",
       "<span style=\"color: #000000; text-decoration-color: #000000; background-color: #ffffff\">│  Toyota  │ </span><span style=\"color: #008080; text-decoration-color: #008080; background-color: #ffffff; font-weight: bold\">1504</span><span style=\"color: #000000; text-decoration-color: #000000; background-color: #ffffff\"> │ </span><span style=\"color: #008080; text-decoration-color: #008080; background-color: #ffffff; font-weight: bold\">-4.0970</span><span style=\"color: #000000; text-decoration-color: #000000; background-color: #ffffff\"> │         </span><span style=\"color: #008080; text-decoration-color: #008080; background-color: #ffffff; font-weight: bold\">891</span><span style=\"color: #000000; text-decoration-color: #000000; background-color: #ffffff\">         │  toyota_base-model  │</span>\n",
       "<span style=\"color: #000000; text-decoration-color: #000000; background-color: #ffffff\">│    Vw    │ </span><span style=\"color: #008080; text-decoration-color: #008080; background-color: #ffffff; font-weight: bold\">2026</span><span style=\"color: #000000; text-decoration-color: #000000; background-color: #ffffff\"> │ </span><span style=\"color: #008080; text-decoration-color: #008080; background-color: #ffffff; font-weight: bold\">-4.6721</span><span style=\"color: #000000; text-decoration-color: #000000; background-color: #ffffff\"> │        </span><span style=\"color: #008080; text-decoration-color: #008080; background-color: #ffffff; font-weight: bold\">1191</span><span style=\"color: #000000; text-decoration-color: #000000; background-color: #ffffff\">         │    vw_base-model    │</span>\n",
       "<span style=\"color: #000000; text-decoration-color: #000000; background-color: #ffffff\">└──────────┴──────┴─────────┴─────────────────────┴─────────────────────┘</span>\n",
       "</pre>\n"
      ],
      "text/plain": [
       "\u001b[3;30;107mOne model by Brand                                                       \u001b[0m\n",
       "\u001b[30;107m┏━━━━━━━━━━┳━━━━━━┳━━━━━━━━━┳━━━━━━━━━━━━━━━━━━━━━┳━━━━━━━━━━━━━━━━━━━━━┓\u001b[0m\n",
       "\u001b[30;107m┃\u001b[0m\u001b[30;107m \u001b[0m\u001b[30;107m Brand  \u001b[0m\u001b[30;107m \u001b[0m\u001b[30;107m┃\u001b[0m\u001b[30;107m \u001b[0m\u001b[30;107mRMSE\u001b[0m\u001b[30;107m \u001b[0m\u001b[30;107m┃\u001b[0m\u001b[30;107m \u001b[0m\u001b[30;107m  R2   \u001b[0m\u001b[30;107m \u001b[0m\u001b[30;107m┃\u001b[0m\u001b[30;107m \u001b[0m\u001b[30;107mAbsolute Mean Error\u001b[0m\u001b[30;107m \u001b[0m\u001b[30;107m┃\u001b[0m\u001b[30;107m \u001b[0m\u001b[30;107m    Model path     \u001b[0m\u001b[30;107m \u001b[0m\u001b[30;107m┃\u001b[0m\n",
       "\u001b[30;107m┡━━━━━━━━━━╇━━━━━━╇━━━━━━━━━╇━━━━━━━━━━━━━━━━━━━━━╇━━━━━━━━━━━━━━━━━━━━━┩\u001b[0m\n",
       "\u001b[30;107m│\u001b[0m\u001b[30;107m \u001b[0m\u001b[30;107m  Audi  \u001b[0m\u001b[30;107m \u001b[0m\u001b[30;107m│\u001b[0m\u001b[30;107m \u001b[0m\u001b[1;36;107m2866\u001b[0m\u001b[30;107m \u001b[0m\u001b[30;107m│\u001b[0m\u001b[30;107m \u001b[0m\u001b[1;36;107m-3.7893\u001b[0m\u001b[30;107m \u001b[0m\u001b[30;107m│\u001b[0m\u001b[30;107m \u001b[0m\u001b[30;107m       \u001b[0m\u001b[1;36;107m1687\u001b[0m\u001b[30;107m        \u001b[0m\u001b[30;107m \u001b[0m\u001b[30;107m│\u001b[0m\u001b[30;107m \u001b[0m\u001b[30;107m  audi_base-model  \u001b[0m\u001b[30;107m \u001b[0m\u001b[30;107m│\u001b[0m\n",
       "\u001b[30;107m│\u001b[0m\u001b[30;107m \u001b[0m\u001b[30;107m  Bmw   \u001b[0m\u001b[30;107m \u001b[0m\u001b[30;107m│\u001b[0m\u001b[30;107m \u001b[0m\u001b[1;36;107m2534\u001b[0m\u001b[30;107m \u001b[0m\u001b[30;107m│\u001b[0m\u001b[30;107m \u001b[0m\u001b[1;36;107m-4.1015\u001b[0m\u001b[30;107m \u001b[0m\u001b[30;107m│\u001b[0m\u001b[30;107m \u001b[0m\u001b[30;107m       \u001b[0m\u001b[1;36;107m1674\u001b[0m\u001b[30;107m        \u001b[0m\u001b[30;107m \u001b[0m\u001b[30;107m│\u001b[0m\u001b[30;107m \u001b[0m\u001b[30;107m  bmw_base-model   \u001b[0m\u001b[30;107m \u001b[0m\u001b[30;107m│\u001b[0m\n",
       "\u001b[30;107m│\u001b[0m\u001b[30;107m \u001b[0m\u001b[30;107m  Ford  \u001b[0m\u001b[30;107m \u001b[0m\u001b[30;107m│\u001b[0m\u001b[30;107m \u001b[0m\u001b[1;36;107m1402\u001b[0m\u001b[30;107m \u001b[0m\u001b[30;107m│\u001b[0m\u001b[30;107m \u001b[0m\u001b[1;36;107m-6.4619\u001b[0m\u001b[30;107m \u001b[0m\u001b[30;107m│\u001b[0m\u001b[30;107m \u001b[0m\u001b[30;107m        \u001b[0m\u001b[1;36;107m918\u001b[0m\u001b[30;107m        \u001b[0m\u001b[30;107m \u001b[0m\u001b[30;107m│\u001b[0m\u001b[30;107m \u001b[0m\u001b[30;107m  ford_base-model  \u001b[0m\u001b[30;107m \u001b[0m\u001b[30;107m│\u001b[0m\n",
       "\u001b[30;107m│\u001b[0m\u001b[30;107m \u001b[0m\u001b[30;107mHyundai \u001b[0m\u001b[30;107m \u001b[0m\u001b[30;107m│\u001b[0m\u001b[30;107m \u001b[0m\u001b[1;36;107m1585\u001b[0m\u001b[30;107m \u001b[0m\u001b[30;107m│\u001b[0m\u001b[30;107m \u001b[0m\u001b[1;36;107m-4.6620\u001b[0m\u001b[30;107m \u001b[0m\u001b[30;107m│\u001b[0m\u001b[30;107m \u001b[0m\u001b[30;107m        \u001b[0m\u001b[1;36;107m891\u001b[0m\u001b[30;107m        \u001b[0m\u001b[30;107m \u001b[0m\u001b[30;107m│\u001b[0m\u001b[30;107m \u001b[0m\u001b[30;107mhyundai_base-model \u001b[0m\u001b[30;107m \u001b[0m\u001b[30;107m│\u001b[0m\n",
       "\u001b[30;107m│\u001b[0m\u001b[30;107m \u001b[0m\u001b[30;107mMercedes\u001b[0m\u001b[30;107m \u001b[0m\u001b[30;107m│\u001b[0m\u001b[30;107m \u001b[0m\u001b[1;36;107m3469\u001b[0m\u001b[30;107m \u001b[0m\u001b[30;107m│\u001b[0m\u001b[30;107m \u001b[0m\u001b[1;36;107m-4.2664\u001b[0m\u001b[30;107m \u001b[0m\u001b[30;107m│\u001b[0m\u001b[30;107m \u001b[0m\u001b[30;107m       \u001b[0m\u001b[1;36;107m1803\u001b[0m\u001b[30;107m        \u001b[0m\u001b[30;107m \u001b[0m\u001b[30;107m│\u001b[0m\u001b[30;107m \u001b[0m\u001b[30;107mmercedes_base-model\u001b[0m\u001b[30;107m \u001b[0m\u001b[30;107m│\u001b[0m\n",
       "\u001b[30;107m│\u001b[0m\u001b[30;107m \u001b[0m\u001b[30;107m  Opel  \u001b[0m\u001b[30;107m \u001b[0m\u001b[30;107m│\u001b[0m\u001b[30;107m \u001b[0m\u001b[1;36;107m1146\u001b[0m\u001b[30;107m \u001b[0m\u001b[30;107m│\u001b[0m\u001b[30;107m \u001b[0m\u001b[1;36;107m-8.7634\u001b[0m\u001b[30;107m \u001b[0m\u001b[30;107m│\u001b[0m\u001b[30;107m \u001b[0m\u001b[30;107m        \u001b[0m\u001b[1;36;107m785\u001b[0m\u001b[30;107m        \u001b[0m\u001b[30;107m \u001b[0m\u001b[30;107m│\u001b[0m\u001b[30;107m \u001b[0m\u001b[30;107m  opel_base-model  \u001b[0m\u001b[30;107m \u001b[0m\u001b[30;107m│\u001b[0m\n",
       "\u001b[30;107m│\u001b[0m\u001b[30;107m \u001b[0m\u001b[30;107m Skoda  \u001b[0m\u001b[30;107m \u001b[0m\u001b[30;107m│\u001b[0m\u001b[30;107m \u001b[0m\u001b[1;36;107m2743\u001b[0m\u001b[30;107m \u001b[0m\u001b[30;107m│\u001b[0m\u001b[30;107m \u001b[0m\u001b[1;36;107m-4.3746\u001b[0m\u001b[30;107m \u001b[0m\u001b[30;107m│\u001b[0m\u001b[30;107m \u001b[0m\u001b[30;107m       \u001b[0m\u001b[1;36;107m1138\u001b[0m\u001b[30;107m        \u001b[0m\u001b[30;107m \u001b[0m\u001b[30;107m│\u001b[0m\u001b[30;107m \u001b[0m\u001b[30;107m skoda_base-model  \u001b[0m\u001b[30;107m \u001b[0m\u001b[30;107m│\u001b[0m\n",
       "\u001b[30;107m│\u001b[0m\u001b[30;107m \u001b[0m\u001b[30;107m Toyota \u001b[0m\u001b[30;107m \u001b[0m\u001b[30;107m│\u001b[0m\u001b[30;107m \u001b[0m\u001b[1;36;107m1504\u001b[0m\u001b[30;107m \u001b[0m\u001b[30;107m│\u001b[0m\u001b[30;107m \u001b[0m\u001b[1;36;107m-4.0970\u001b[0m\u001b[30;107m \u001b[0m\u001b[30;107m│\u001b[0m\u001b[30;107m \u001b[0m\u001b[30;107m        \u001b[0m\u001b[1;36;107m891\u001b[0m\u001b[30;107m        \u001b[0m\u001b[30;107m \u001b[0m\u001b[30;107m│\u001b[0m\u001b[30;107m \u001b[0m\u001b[30;107m toyota_base-model \u001b[0m\u001b[30;107m \u001b[0m\u001b[30;107m│\u001b[0m\n",
       "\u001b[30;107m│\u001b[0m\u001b[30;107m \u001b[0m\u001b[30;107m   Vw   \u001b[0m\u001b[30;107m \u001b[0m\u001b[30;107m│\u001b[0m\u001b[30;107m \u001b[0m\u001b[1;36;107m2026\u001b[0m\u001b[30;107m \u001b[0m\u001b[30;107m│\u001b[0m\u001b[30;107m \u001b[0m\u001b[1;36;107m-4.6721\u001b[0m\u001b[30;107m \u001b[0m\u001b[30;107m│\u001b[0m\u001b[30;107m \u001b[0m\u001b[30;107m       \u001b[0m\u001b[1;36;107m1191\u001b[0m\u001b[30;107m        \u001b[0m\u001b[30;107m \u001b[0m\u001b[30;107m│\u001b[0m\u001b[30;107m \u001b[0m\u001b[30;107m   vw_base-model   \u001b[0m\u001b[30;107m \u001b[0m\u001b[30;107m│\u001b[0m\n",
       "\u001b[30;107m└──────────┴──────┴─────────┴─────────────────────┴─────────────────────┘\u001b[0m\n"
      ]
     },
     "metadata": {},
     "output_type": "display_data"
    }
   ],
   "source": [
    "evaluate_all_models(search_term='base-model',exclude=['base_score','all_brand'])"
   ]
  },
  {
   "cell_type": "markdown",
   "id": "da095743",
   "metadata": {
    "slideshow": {
     "slide_type": "subslide"
    }
   },
   "source": [
    "#### Optimisation des transformations"
   ]
  },
  {
   "cell_type": "code",
   "execution_count": 57,
   "id": "25dbf2d3",
   "metadata": {
    "slideshow": {
     "slide_type": "subslide"
    }
   },
   "outputs": [
    {
     "data": {
      "text/html": [
       "<pre style=\"white-space:pre;overflow-x:auto;line-height:normal;font-family:Menlo,'DejaVu Sans Mono',consolas,'Courier New',monospace\"><span style=\"color: #000000; text-decoration-color: #000000; background-color: #ffffff; font-weight: bold\">PERFORMANCE COMPARISON</span> <span style=\"color: #000000; text-decoration-color: #000000; background-color: #ffffff\">──────────────────────────────────────────────────────────────────────</span>\n",
       "</pre>\n"
      ],
      "text/plain": [
       "\u001b[1;52;30;107mPERFORMANCE COMPARISON\u001b[0m \u001b[30;107m──────────────────────────────────────────────────────────────────────\u001b[0m\n"
      ]
     },
     "metadata": {},
     "output_type": "display_data"
    },
    {
     "data": {
      "text/html": [
       "<pre style=\"white-space:pre;overflow-x:auto;line-height:normal;font-family:Menlo,'DejaVu Sans Mono',consolas,'Courier New',monospace\"><span style=\"color: #000000; text-decoration-color: #000000; background-color: #ffffff; font-style: italic\">One model by Brand                                                     </span>\n",
       "<span style=\"color: #000000; text-decoration-color: #000000; background-color: #ffffff\">┏━━━━━━━━━━┳━━━━━━┳━━━━━━━━━┳━━━━━━━━━━━━━━━━━━━━━┳━━━━━━━━━━━━━━━━━━━┓</span>\n",
       "<span style=\"color: #000000; text-decoration-color: #000000; background-color: #ffffff\">┃  Brand   ┃ RMSE ┃   R2    ┃ Absolute Mean Error ┃    Model path     ┃</span>\n",
       "<span style=\"color: #000000; text-decoration-color: #000000; background-color: #ffffff\">┡━━━━━━━━━━╇━━━━━━╇━━━━━━━━━╇━━━━━━━━━━━━━━━━━━━━━╇━━━━━━━━━━━━━━━━━━━┩</span>\n",
       "<span style=\"color: #000000; text-decoration-color: #000000; background-color: #ffffff\">│   Audi   │ </span><span style=\"color: #008080; text-decoration-color: #008080; background-color: #ffffff; font-weight: bold\">1847</span><span style=\"color: #000000; text-decoration-color: #000000; background-color: #ffffff\"> │ </span><span style=\"color: #008080; text-decoration-color: #008080; background-color: #ffffff; font-weight: bold\">-3.7893</span><span style=\"color: #000000; text-decoration-color: #000000; background-color: #ffffff\"> │        </span><span style=\"color: #008080; text-decoration-color: #008080; background-color: #ffffff; font-weight: bold\">1149</span><span style=\"color: #000000; text-decoration-color: #000000; background-color: #ffffff\">         │   audi_optimize   │</span>\n",
       "<span style=\"color: #000000; text-decoration-color: #000000; background-color: #ffffff\">│   Bmw    │ </span><span style=\"color: #008080; text-decoration-color: #008080; background-color: #ffffff; font-weight: bold\">1635</span><span style=\"color: #000000; text-decoration-color: #000000; background-color: #ffffff\"> │ </span><span style=\"color: #008080; text-decoration-color: #008080; background-color: #ffffff; font-weight: bold\">-4.1015</span><span style=\"color: #000000; text-decoration-color: #000000; background-color: #ffffff\"> │        </span><span style=\"color: #008080; text-decoration-color: #008080; background-color: #ffffff; font-weight: bold\">1108</span><span style=\"color: #000000; text-decoration-color: #000000; background-color: #ffffff\">         │   bmw_optimize    │</span>\n",
       "<span style=\"color: #000000; text-decoration-color: #000000; background-color: #ffffff\">│   Ford   │ </span><span style=\"color: #008080; text-decoration-color: #008080; background-color: #ffffff; font-weight: bold\">801</span><span style=\"color: #000000; text-decoration-color: #000000; background-color: #ffffff\">  │ </span><span style=\"color: #008080; text-decoration-color: #008080; background-color: #ffffff; font-weight: bold\">-6.4619</span><span style=\"color: #000000; text-decoration-color: #000000; background-color: #ffffff\"> │         </span><span style=\"color: #008080; text-decoration-color: #008080; background-color: #ffffff; font-weight: bold\">541</span><span style=\"color: #000000; text-decoration-color: #000000; background-color: #ffffff\">         │   ford_optimize   │</span>\n",
       "<span style=\"color: #000000; text-decoration-color: #000000; background-color: #ffffff\">│ Hyundai  │ </span><span style=\"color: #008080; text-decoration-color: #008080; background-color: #ffffff; font-weight: bold\">733</span><span style=\"color: #000000; text-decoration-color: #000000; background-color: #ffffff\">  │ </span><span style=\"color: #008080; text-decoration-color: #008080; background-color: #ffffff; font-weight: bold\">-4.6620</span><span style=\"color: #000000; text-decoration-color: #000000; background-color: #ffffff\"> │         </span><span style=\"color: #008080; text-decoration-color: #008080; background-color: #ffffff; font-weight: bold\">518</span><span style=\"color: #000000; text-decoration-color: #000000; background-color: #ffffff\">         │ hyundai_optimize  │</span>\n",
       "<span style=\"color: #000000; text-decoration-color: #000000; background-color: #ffffff\">│ Mercedes │ </span><span style=\"color: #008080; text-decoration-color: #008080; background-color: #ffffff; font-weight: bold\">2613</span><span style=\"color: #000000; text-decoration-color: #000000; background-color: #ffffff\"> │ </span><span style=\"color: #008080; text-decoration-color: #008080; background-color: #ffffff; font-weight: bold\">-4.2664</span><span style=\"color: #000000; text-decoration-color: #000000; background-color: #ffffff\"> │        </span><span style=\"color: #008080; text-decoration-color: #008080; background-color: #ffffff; font-weight: bold\">1211</span><span style=\"color: #000000; text-decoration-color: #000000; background-color: #ffffff\">         │ mercedes_optimize │</span>\n",
       "<span style=\"color: #000000; text-decoration-color: #000000; background-color: #ffffff\">│   Opel   │ </span><span style=\"color: #008080; text-decoration-color: #008080; background-color: #ffffff; font-weight: bold\">682</span><span style=\"color: #000000; text-decoration-color: #000000; background-color: #ffffff\">  │ </span><span style=\"color: #008080; text-decoration-color: #008080; background-color: #ffffff; font-weight: bold\">-8.7634</span><span style=\"color: #000000; text-decoration-color: #000000; background-color: #ffffff\"> │         </span><span style=\"color: #008080; text-decoration-color: #008080; background-color: #ffffff; font-weight: bold\">463</span><span style=\"color: #000000; text-decoration-color: #000000; background-color: #ffffff\">         │   opel_optimize   │</span>\n",
       "<span style=\"color: #000000; text-decoration-color: #000000; background-color: #ffffff\">│  Skoda   │ </span><span style=\"color: #008080; text-decoration-color: #008080; background-color: #ffffff; font-weight: bold\">1486</span><span style=\"color: #000000; text-decoration-color: #000000; background-color: #ffffff\"> │ </span><span style=\"color: #008080; text-decoration-color: #008080; background-color: #ffffff; font-weight: bold\">-4.3745</span><span style=\"color: #000000; text-decoration-color: #000000; background-color: #ffffff\"> │         </span><span style=\"color: #008080; text-decoration-color: #008080; background-color: #ffffff; font-weight: bold\">736</span><span style=\"color: #000000; text-decoration-color: #000000; background-color: #ffffff\">         │  skoda_optimize   │</span>\n",
       "<span style=\"color: #000000; text-decoration-color: #000000; background-color: #ffffff\">│  Toyota  │ </span><span style=\"color: #008080; text-decoration-color: #008080; background-color: #ffffff; font-weight: bold\">919</span><span style=\"color: #000000; text-decoration-color: #000000; background-color: #ffffff\">  │ </span><span style=\"color: #008080; text-decoration-color: #008080; background-color: #ffffff; font-weight: bold\">-4.0970</span><span style=\"color: #000000; text-decoration-color: #000000; background-color: #ffffff\"> │         </span><span style=\"color: #008080; text-decoration-color: #008080; background-color: #ffffff; font-weight: bold\">545</span><span style=\"color: #000000; text-decoration-color: #000000; background-color: #ffffff\">         │  toyota_optimize  │</span>\n",
       "<span style=\"color: #000000; text-decoration-color: #000000; background-color: #ffffff\">│    Vw    │ </span><span style=\"color: #008080; text-decoration-color: #008080; background-color: #ffffff; font-weight: bold\">1162</span><span style=\"color: #000000; text-decoration-color: #000000; background-color: #ffffff\"> │ </span><span style=\"color: #008080; text-decoration-color: #008080; background-color: #ffffff; font-weight: bold\">-4.6721</span><span style=\"color: #000000; text-decoration-color: #000000; background-color: #ffffff\"> │         </span><span style=\"color: #008080; text-decoration-color: #008080; background-color: #ffffff; font-weight: bold\">761</span><span style=\"color: #000000; text-decoration-color: #000000; background-color: #ffffff\">         │    vw_optimize    │</span>\n",
       "<span style=\"color: #000000; text-decoration-color: #000000; background-color: #ffffff\">└──────────┴──────┴─────────┴─────────────────────┴───────────────────┘</span>\n",
       "</pre>\n"
      ],
      "text/plain": [
       "\u001b[3;30;107mOne model by Brand                                                     \u001b[0m\n",
       "\u001b[30;107m┏━━━━━━━━━━┳━━━━━━┳━━━━━━━━━┳━━━━━━━━━━━━━━━━━━━━━┳━━━━━━━━━━━━━━━━━━━┓\u001b[0m\n",
       "\u001b[30;107m┃\u001b[0m\u001b[30;107m \u001b[0m\u001b[30;107m Brand  \u001b[0m\u001b[30;107m \u001b[0m\u001b[30;107m┃\u001b[0m\u001b[30;107m \u001b[0m\u001b[30;107mRMSE\u001b[0m\u001b[30;107m \u001b[0m\u001b[30;107m┃\u001b[0m\u001b[30;107m \u001b[0m\u001b[30;107m  R2   \u001b[0m\u001b[30;107m \u001b[0m\u001b[30;107m┃\u001b[0m\u001b[30;107m \u001b[0m\u001b[30;107mAbsolute Mean Error\u001b[0m\u001b[30;107m \u001b[0m\u001b[30;107m┃\u001b[0m\u001b[30;107m \u001b[0m\u001b[30;107m   Model path    \u001b[0m\u001b[30;107m \u001b[0m\u001b[30;107m┃\u001b[0m\n",
       "\u001b[30;107m┡━━━━━━━━━━╇━━━━━━╇━━━━━━━━━╇━━━━━━━━━━━━━━━━━━━━━╇━━━━━━━━━━━━━━━━━━━┩\u001b[0m\n",
       "\u001b[30;107m│\u001b[0m\u001b[30;107m \u001b[0m\u001b[30;107m  Audi  \u001b[0m\u001b[30;107m \u001b[0m\u001b[30;107m│\u001b[0m\u001b[30;107m \u001b[0m\u001b[1;36;107m1847\u001b[0m\u001b[30;107m \u001b[0m\u001b[30;107m│\u001b[0m\u001b[30;107m \u001b[0m\u001b[1;36;107m-3.7893\u001b[0m\u001b[30;107m \u001b[0m\u001b[30;107m│\u001b[0m\u001b[30;107m \u001b[0m\u001b[30;107m       \u001b[0m\u001b[1;36;107m1149\u001b[0m\u001b[30;107m        \u001b[0m\u001b[30;107m \u001b[0m\u001b[30;107m│\u001b[0m\u001b[30;107m \u001b[0m\u001b[30;107m  audi_optimize  \u001b[0m\u001b[30;107m \u001b[0m\u001b[30;107m│\u001b[0m\n",
       "\u001b[30;107m│\u001b[0m\u001b[30;107m \u001b[0m\u001b[30;107m  Bmw   \u001b[0m\u001b[30;107m \u001b[0m\u001b[30;107m│\u001b[0m\u001b[30;107m \u001b[0m\u001b[1;36;107m1635\u001b[0m\u001b[30;107m \u001b[0m\u001b[30;107m│\u001b[0m\u001b[30;107m \u001b[0m\u001b[1;36;107m-4.1015\u001b[0m\u001b[30;107m \u001b[0m\u001b[30;107m│\u001b[0m\u001b[30;107m \u001b[0m\u001b[30;107m       \u001b[0m\u001b[1;36;107m1108\u001b[0m\u001b[30;107m        \u001b[0m\u001b[30;107m \u001b[0m\u001b[30;107m│\u001b[0m\u001b[30;107m \u001b[0m\u001b[30;107m  bmw_optimize   \u001b[0m\u001b[30;107m \u001b[0m\u001b[30;107m│\u001b[0m\n",
       "\u001b[30;107m│\u001b[0m\u001b[30;107m \u001b[0m\u001b[30;107m  Ford  \u001b[0m\u001b[30;107m \u001b[0m\u001b[30;107m│\u001b[0m\u001b[30;107m \u001b[0m\u001b[1;36;107m801\u001b[0m\u001b[30;107m \u001b[0m\u001b[30;107m \u001b[0m\u001b[30;107m│\u001b[0m\u001b[30;107m \u001b[0m\u001b[1;36;107m-6.4619\u001b[0m\u001b[30;107m \u001b[0m\u001b[30;107m│\u001b[0m\u001b[30;107m \u001b[0m\u001b[30;107m        \u001b[0m\u001b[1;36;107m541\u001b[0m\u001b[30;107m        \u001b[0m\u001b[30;107m \u001b[0m\u001b[30;107m│\u001b[0m\u001b[30;107m \u001b[0m\u001b[30;107m  ford_optimize  \u001b[0m\u001b[30;107m \u001b[0m\u001b[30;107m│\u001b[0m\n",
       "\u001b[30;107m│\u001b[0m\u001b[30;107m \u001b[0m\u001b[30;107mHyundai \u001b[0m\u001b[30;107m \u001b[0m\u001b[30;107m│\u001b[0m\u001b[30;107m \u001b[0m\u001b[1;36;107m733\u001b[0m\u001b[30;107m \u001b[0m\u001b[30;107m \u001b[0m\u001b[30;107m│\u001b[0m\u001b[30;107m \u001b[0m\u001b[1;36;107m-4.6620\u001b[0m\u001b[30;107m \u001b[0m\u001b[30;107m│\u001b[0m\u001b[30;107m \u001b[0m\u001b[30;107m        \u001b[0m\u001b[1;36;107m518\u001b[0m\u001b[30;107m        \u001b[0m\u001b[30;107m \u001b[0m\u001b[30;107m│\u001b[0m\u001b[30;107m \u001b[0m\u001b[30;107mhyundai_optimize \u001b[0m\u001b[30;107m \u001b[0m\u001b[30;107m│\u001b[0m\n",
       "\u001b[30;107m│\u001b[0m\u001b[30;107m \u001b[0m\u001b[30;107mMercedes\u001b[0m\u001b[30;107m \u001b[0m\u001b[30;107m│\u001b[0m\u001b[30;107m \u001b[0m\u001b[1;36;107m2613\u001b[0m\u001b[30;107m \u001b[0m\u001b[30;107m│\u001b[0m\u001b[30;107m \u001b[0m\u001b[1;36;107m-4.2664\u001b[0m\u001b[30;107m \u001b[0m\u001b[30;107m│\u001b[0m\u001b[30;107m \u001b[0m\u001b[30;107m       \u001b[0m\u001b[1;36;107m1211\u001b[0m\u001b[30;107m        \u001b[0m\u001b[30;107m \u001b[0m\u001b[30;107m│\u001b[0m\u001b[30;107m \u001b[0m\u001b[30;107mmercedes_optimize\u001b[0m\u001b[30;107m \u001b[0m\u001b[30;107m│\u001b[0m\n",
       "\u001b[30;107m│\u001b[0m\u001b[30;107m \u001b[0m\u001b[30;107m  Opel  \u001b[0m\u001b[30;107m \u001b[0m\u001b[30;107m│\u001b[0m\u001b[30;107m \u001b[0m\u001b[1;36;107m682\u001b[0m\u001b[30;107m \u001b[0m\u001b[30;107m \u001b[0m\u001b[30;107m│\u001b[0m\u001b[30;107m \u001b[0m\u001b[1;36;107m-8.7634\u001b[0m\u001b[30;107m \u001b[0m\u001b[30;107m│\u001b[0m\u001b[30;107m \u001b[0m\u001b[30;107m        \u001b[0m\u001b[1;36;107m463\u001b[0m\u001b[30;107m        \u001b[0m\u001b[30;107m \u001b[0m\u001b[30;107m│\u001b[0m\u001b[30;107m \u001b[0m\u001b[30;107m  opel_optimize  \u001b[0m\u001b[30;107m \u001b[0m\u001b[30;107m│\u001b[0m\n",
       "\u001b[30;107m│\u001b[0m\u001b[30;107m \u001b[0m\u001b[30;107m Skoda  \u001b[0m\u001b[30;107m \u001b[0m\u001b[30;107m│\u001b[0m\u001b[30;107m \u001b[0m\u001b[1;36;107m1486\u001b[0m\u001b[30;107m \u001b[0m\u001b[30;107m│\u001b[0m\u001b[30;107m \u001b[0m\u001b[1;36;107m-4.3745\u001b[0m\u001b[30;107m \u001b[0m\u001b[30;107m│\u001b[0m\u001b[30;107m \u001b[0m\u001b[30;107m        \u001b[0m\u001b[1;36;107m736\u001b[0m\u001b[30;107m        \u001b[0m\u001b[30;107m \u001b[0m\u001b[30;107m│\u001b[0m\u001b[30;107m \u001b[0m\u001b[30;107m skoda_optimize  \u001b[0m\u001b[30;107m \u001b[0m\u001b[30;107m│\u001b[0m\n",
       "\u001b[30;107m│\u001b[0m\u001b[30;107m \u001b[0m\u001b[30;107m Toyota \u001b[0m\u001b[30;107m \u001b[0m\u001b[30;107m│\u001b[0m\u001b[30;107m \u001b[0m\u001b[1;36;107m919\u001b[0m\u001b[30;107m \u001b[0m\u001b[30;107m \u001b[0m\u001b[30;107m│\u001b[0m\u001b[30;107m \u001b[0m\u001b[1;36;107m-4.0970\u001b[0m\u001b[30;107m \u001b[0m\u001b[30;107m│\u001b[0m\u001b[30;107m \u001b[0m\u001b[30;107m        \u001b[0m\u001b[1;36;107m545\u001b[0m\u001b[30;107m        \u001b[0m\u001b[30;107m \u001b[0m\u001b[30;107m│\u001b[0m\u001b[30;107m \u001b[0m\u001b[30;107m toyota_optimize \u001b[0m\u001b[30;107m \u001b[0m\u001b[30;107m│\u001b[0m\n",
       "\u001b[30;107m│\u001b[0m\u001b[30;107m \u001b[0m\u001b[30;107m   Vw   \u001b[0m\u001b[30;107m \u001b[0m\u001b[30;107m│\u001b[0m\u001b[30;107m \u001b[0m\u001b[1;36;107m1162\u001b[0m\u001b[30;107m \u001b[0m\u001b[30;107m│\u001b[0m\u001b[30;107m \u001b[0m\u001b[1;36;107m-4.6721\u001b[0m\u001b[30;107m \u001b[0m\u001b[30;107m│\u001b[0m\u001b[30;107m \u001b[0m\u001b[30;107m        \u001b[0m\u001b[1;36;107m761\u001b[0m\u001b[30;107m        \u001b[0m\u001b[30;107m \u001b[0m\u001b[30;107m│\u001b[0m\u001b[30;107m \u001b[0m\u001b[30;107m   vw_optimize   \u001b[0m\u001b[30;107m \u001b[0m\u001b[30;107m│\u001b[0m\n",
       "\u001b[30;107m└──────────┴──────┴─────────┴─────────────────────┴───────────────────┘\u001b[0m\n"
      ]
     },
     "metadata": {},
     "output_type": "display_data"
    }
   ],
   "source": [
    "evaluate_all_models(search_term='optimize', exclude=['rmse'])"
   ]
  },
  {
   "cell_type": "markdown",
   "id": "44167204",
   "metadata": {
    "slideshow": {
     "slide_type": "subslide"
    }
   },
   "source": [
    "#### Optimisation de l'estimateur"
   ]
  },
  {
   "cell_type": "code",
   "execution_count": 91,
   "id": "12ab07e8",
   "metadata": {
    "scrolled": false,
    "slideshow": {
     "slide_type": "subslide"
    }
   },
   "outputs": [
    {
     "data": {
      "text/html": [
       "<pre style=\"white-space:pre;overflow-x:auto;line-height:normal;font-family:Menlo,'DejaVu Sans Mono',consolas,'Courier New',monospace\"><span style=\"color: #000000; text-decoration-color: #000000; background-color: #ffffff; font-weight: bold\">PERFORMANCE COMPARISON</span> <span style=\"color: #000000; text-decoration-color: #000000; background-color: #ffffff\">──────────────────────────────────────────────────────────────────────</span>\n",
       "</pre>\n"
      ],
      "text/plain": [
       "\u001b[1;52;30;107mPERFORMANCE COMPARISON\u001b[0m \u001b[30;107m──────────────────────────────────────────────────────────────────────\u001b[0m\n"
      ]
     },
     "metadata": {},
     "output_type": "display_data"
    },
    {
     "data": {
      "text/html": [
       "<pre style=\"white-space:pre;overflow-x:auto;line-height:normal;font-family:Menlo,'DejaVu Sans Mono',consolas,'Courier New',monospace\"><span style=\"color: #000000; text-decoration-color: #000000; background-color: #ffffff; font-style: italic\">One model by Brand                                                           </span>\n",
       "<span style=\"color: #000000; text-decoration-color: #000000; background-color: #ffffff\">┏━━━━━━━━━━┳━━━━━━┳━━━━━━━━━┳━━━━━━━━━━━━━━━━━━━━━┳━━━━━━━━━━━━━━━━━━━━━━━━━┓</span>\n",
       "<span style=\"color: #000000; text-decoration-color: #000000; background-color: #ffffff\">┃  Brand   ┃ RMSE ┃   R2    ┃ Absolute Mean Error ┃       Model path        ┃</span>\n",
       "<span style=\"color: #000000; text-decoration-color: #000000; background-color: #ffffff\">┡━━━━━━━━━━╇━━━━━━╇━━━━━━━━━╇━━━━━━━━━━━━━━━━━━━━━╇━━━━━━━━━━━━━━━━━━━━━━━━━┩</span>\n",
       "<span style=\"color: #000000; text-decoration-color: #000000; background-color: #ffffff\">│   Audi   │ </span><span style=\"color: #008080; text-decoration-color: #008080; background-color: #ffffff; font-weight: bold\">1567</span><span style=\"color: #000000; text-decoration-color: #000000; background-color: #ffffff\"> │ </span><span style=\"color: #008080; text-decoration-color: #008080; background-color: #ffffff; font-weight: bold\">-3.7893</span><span style=\"color: #000000; text-decoration-color: #000000; background-color: #ffffff\"> │         </span><span style=\"color: #008080; text-decoration-color: #008080; background-color: #ffffff; font-weight: bold\">871</span><span style=\"color: #000000; text-decoration-color: #000000; background-color: #ffffff\">         │   audi_estimator_1567   │</span>\n",
       "<span style=\"color: #000000; text-decoration-color: #000000; background-color: #ffffff\">│   Bmw    │ </span><span style=\"color: #008080; text-decoration-color: #008080; background-color: #ffffff; font-weight: bold\">1635</span><span style=\"color: #000000; text-decoration-color: #000000; background-color: #ffffff\"> │ </span><span style=\"color: #008080; text-decoration-color: #008080; background-color: #ffffff; font-weight: bold\">-4.1015</span><span style=\"color: #000000; text-decoration-color: #000000; background-color: #ffffff\"> │        </span><span style=\"color: #008080; text-decoration-color: #008080; background-color: #ffffff; font-weight: bold\">1108</span><span style=\"color: #000000; text-decoration-color: #000000; background-color: #ffffff\">         │   bmw_estimator_1635    │</span>\n",
       "<span style=\"color: #000000; text-decoration-color: #000000; background-color: #ffffff\">│   Ford   │ </span><span style=\"color: #008080; text-decoration-color: #008080; background-color: #ffffff; font-weight: bold\">784</span><span style=\"color: #000000; text-decoration-color: #000000; background-color: #ffffff\">  │ </span><span style=\"color: #008080; text-decoration-color: #008080; background-color: #ffffff; font-weight: bold\">-6.4619</span><span style=\"color: #000000; text-decoration-color: #000000; background-color: #ffffff\"> │         </span><span style=\"color: #008080; text-decoration-color: #008080; background-color: #ffffff; font-weight: bold\">486</span><span style=\"color: #000000; text-decoration-color: #000000; background-color: #ffffff\">         │   ford_estimator_784    │</span>\n",
       "<span style=\"color: #000000; text-decoration-color: #000000; background-color: #ffffff\">│ Hyundai  │ </span><span style=\"color: #008080; text-decoration-color: #008080; background-color: #ffffff; font-weight: bold\">733</span><span style=\"color: #000000; text-decoration-color: #000000; background-color: #ffffff\">  │ </span><span style=\"color: #008080; text-decoration-color: #008080; background-color: #ffffff; font-weight: bold\">-4.6620</span><span style=\"color: #000000; text-decoration-color: #000000; background-color: #ffffff\"> │         </span><span style=\"color: #008080; text-decoration-color: #008080; background-color: #ffffff; font-weight: bold\">518</span><span style=\"color: #000000; text-decoration-color: #000000; background-color: #ffffff\">         │  hyundai_estimator_733  │</span>\n",
       "<span style=\"color: #000000; text-decoration-color: #000000; background-color: #ffffff\">│ Mercedes │ </span><span style=\"color: #008080; text-decoration-color: #008080; background-color: #ffffff; font-weight: bold\">2073</span><span style=\"color: #000000; text-decoration-color: #000000; background-color: #ffffff\"> │ </span><span style=\"color: #008080; text-decoration-color: #008080; background-color: #ffffff; font-weight: bold\">-4.2664</span><span style=\"color: #000000; text-decoration-color: #000000; background-color: #ffffff\"> │         </span><span style=\"color: #008080; text-decoration-color: #008080; background-color: #ffffff; font-weight: bold\">983</span><span style=\"color: #000000; text-decoration-color: #000000; background-color: #ffffff\">         │ mercedes_estimator_2073 │</span>\n",
       "<span style=\"color: #000000; text-decoration-color: #000000; background-color: #ffffff\">│   Opel   │ </span><span style=\"color: #008080; text-decoration-color: #008080; background-color: #ffffff; font-weight: bold\">586</span><span style=\"color: #000000; text-decoration-color: #000000; background-color: #ffffff\">  │ </span><span style=\"color: #008080; text-decoration-color: #008080; background-color: #ffffff; font-weight: bold\">-8.7634</span><span style=\"color: #000000; text-decoration-color: #000000; background-color: #ffffff\"> │         </span><span style=\"color: #008080; text-decoration-color: #008080; background-color: #ffffff; font-weight: bold\">376</span><span style=\"color: #000000; text-decoration-color: #000000; background-color: #ffffff\">         │   opel_estimator_586    │</span>\n",
       "<span style=\"color: #000000; text-decoration-color: #000000; background-color: #ffffff\">│  Skoda   │ </span><span style=\"color: #008080; text-decoration-color: #008080; background-color: #ffffff; font-weight: bold\">1825</span><span style=\"color: #000000; text-decoration-color: #000000; background-color: #ffffff\"> │ </span><span style=\"color: #008080; text-decoration-color: #008080; background-color: #ffffff; font-weight: bold\">-4.3745</span><span style=\"color: #000000; text-decoration-color: #000000; background-color: #ffffff\"> │         </span><span style=\"color: #008080; text-decoration-color: #008080; background-color: #ffffff; font-weight: bold\">744</span><span style=\"color: #000000; text-decoration-color: #000000; background-color: #ffffff\">         │  skoda_estimator_1825   │</span>\n",
       "<span style=\"color: #000000; text-decoration-color: #000000; background-color: #ffffff\">│  Toyota  │ </span><span style=\"color: #008080; text-decoration-color: #008080; background-color: #ffffff; font-weight: bold\">845</span><span style=\"color: #000000; text-decoration-color: #000000; background-color: #ffffff\">  │ </span><span style=\"color: #008080; text-decoration-color: #008080; background-color: #ffffff; font-weight: bold\">-4.0970</span><span style=\"color: #000000; text-decoration-color: #000000; background-color: #ffffff\"> │         </span><span style=\"color: #008080; text-decoration-color: #008080; background-color: #ffffff; font-weight: bold\">494</span><span style=\"color: #000000; text-decoration-color: #000000; background-color: #ffffff\">         │  toyota_estimator_845   │</span>\n",
       "<span style=\"color: #000000; text-decoration-color: #000000; background-color: #ffffff\">│    Vw    │ </span><span style=\"color: #008080; text-decoration-color: #008080; background-color: #ffffff; font-weight: bold\">947</span><span style=\"color: #000000; text-decoration-color: #000000; background-color: #ffffff\">  │ </span><span style=\"color: #008080; text-decoration-color: #008080; background-color: #ffffff; font-weight: bold\">-4.6721</span><span style=\"color: #000000; text-decoration-color: #000000; background-color: #ffffff\"> │         </span><span style=\"color: #008080; text-decoration-color: #008080; background-color: #ffffff; font-weight: bold\">558</span><span style=\"color: #000000; text-decoration-color: #000000; background-color: #ffffff\">         │    vw_estimator_947     │</span>\n",
       "<span style=\"color: #000000; text-decoration-color: #000000; background-color: #ffffff\">└──────────┴──────┴─────────┴─────────────────────┴─────────────────────────┘</span>\n",
       "</pre>\n"
      ],
      "text/plain": [
       "\u001b[3;30;107mOne model by Brand                                                           \u001b[0m\n",
       "\u001b[30;107m┏━━━━━━━━━━┳━━━━━━┳━━━━━━━━━┳━━━━━━━━━━━━━━━━━━━━━┳━━━━━━━━━━━━━━━━━━━━━━━━━┓\u001b[0m\n",
       "\u001b[30;107m┃\u001b[0m\u001b[30;107m \u001b[0m\u001b[30;107m Brand  \u001b[0m\u001b[30;107m \u001b[0m\u001b[30;107m┃\u001b[0m\u001b[30;107m \u001b[0m\u001b[30;107mRMSE\u001b[0m\u001b[30;107m \u001b[0m\u001b[30;107m┃\u001b[0m\u001b[30;107m \u001b[0m\u001b[30;107m  R2   \u001b[0m\u001b[30;107m \u001b[0m\u001b[30;107m┃\u001b[0m\u001b[30;107m \u001b[0m\u001b[30;107mAbsolute Mean Error\u001b[0m\u001b[30;107m \u001b[0m\u001b[30;107m┃\u001b[0m\u001b[30;107m \u001b[0m\u001b[30;107m      Model path       \u001b[0m\u001b[30;107m \u001b[0m\u001b[30;107m┃\u001b[0m\n",
       "\u001b[30;107m┡━━━━━━━━━━╇━━━━━━╇━━━━━━━━━╇━━━━━━━━━━━━━━━━━━━━━╇━━━━━━━━━━━━━━━━━━━━━━━━━┩\u001b[0m\n",
       "\u001b[30;107m│\u001b[0m\u001b[30;107m \u001b[0m\u001b[30;107m  Audi  \u001b[0m\u001b[30;107m \u001b[0m\u001b[30;107m│\u001b[0m\u001b[30;107m \u001b[0m\u001b[1;36;107m1567\u001b[0m\u001b[30;107m \u001b[0m\u001b[30;107m│\u001b[0m\u001b[30;107m \u001b[0m\u001b[1;36;107m-3.7893\u001b[0m\u001b[30;107m \u001b[0m\u001b[30;107m│\u001b[0m\u001b[30;107m \u001b[0m\u001b[30;107m        \u001b[0m\u001b[1;36;107m871\u001b[0m\u001b[30;107m        \u001b[0m\u001b[30;107m \u001b[0m\u001b[30;107m│\u001b[0m\u001b[30;107m \u001b[0m\u001b[30;107m  audi_estimator_1567  \u001b[0m\u001b[30;107m \u001b[0m\u001b[30;107m│\u001b[0m\n",
       "\u001b[30;107m│\u001b[0m\u001b[30;107m \u001b[0m\u001b[30;107m  Bmw   \u001b[0m\u001b[30;107m \u001b[0m\u001b[30;107m│\u001b[0m\u001b[30;107m \u001b[0m\u001b[1;36;107m1635\u001b[0m\u001b[30;107m \u001b[0m\u001b[30;107m│\u001b[0m\u001b[30;107m \u001b[0m\u001b[1;36;107m-4.1015\u001b[0m\u001b[30;107m \u001b[0m\u001b[30;107m│\u001b[0m\u001b[30;107m \u001b[0m\u001b[30;107m       \u001b[0m\u001b[1;36;107m1108\u001b[0m\u001b[30;107m        \u001b[0m\u001b[30;107m \u001b[0m\u001b[30;107m│\u001b[0m\u001b[30;107m \u001b[0m\u001b[30;107m  bmw_estimator_1635   \u001b[0m\u001b[30;107m \u001b[0m\u001b[30;107m│\u001b[0m\n",
       "\u001b[30;107m│\u001b[0m\u001b[30;107m \u001b[0m\u001b[30;107m  Ford  \u001b[0m\u001b[30;107m \u001b[0m\u001b[30;107m│\u001b[0m\u001b[30;107m \u001b[0m\u001b[1;36;107m784\u001b[0m\u001b[30;107m \u001b[0m\u001b[30;107m \u001b[0m\u001b[30;107m│\u001b[0m\u001b[30;107m \u001b[0m\u001b[1;36;107m-6.4619\u001b[0m\u001b[30;107m \u001b[0m\u001b[30;107m│\u001b[0m\u001b[30;107m \u001b[0m\u001b[30;107m        \u001b[0m\u001b[1;36;107m486\u001b[0m\u001b[30;107m        \u001b[0m\u001b[30;107m \u001b[0m\u001b[30;107m│\u001b[0m\u001b[30;107m \u001b[0m\u001b[30;107m  ford_estimator_784   \u001b[0m\u001b[30;107m \u001b[0m\u001b[30;107m│\u001b[0m\n",
       "\u001b[30;107m│\u001b[0m\u001b[30;107m \u001b[0m\u001b[30;107mHyundai \u001b[0m\u001b[30;107m \u001b[0m\u001b[30;107m│\u001b[0m\u001b[30;107m \u001b[0m\u001b[1;36;107m733\u001b[0m\u001b[30;107m \u001b[0m\u001b[30;107m \u001b[0m\u001b[30;107m│\u001b[0m\u001b[30;107m \u001b[0m\u001b[1;36;107m-4.6620\u001b[0m\u001b[30;107m \u001b[0m\u001b[30;107m│\u001b[0m\u001b[30;107m \u001b[0m\u001b[30;107m        \u001b[0m\u001b[1;36;107m518\u001b[0m\u001b[30;107m        \u001b[0m\u001b[30;107m \u001b[0m\u001b[30;107m│\u001b[0m\u001b[30;107m \u001b[0m\u001b[30;107m hyundai_estimator_733 \u001b[0m\u001b[30;107m \u001b[0m\u001b[30;107m│\u001b[0m\n",
       "\u001b[30;107m│\u001b[0m\u001b[30;107m \u001b[0m\u001b[30;107mMercedes\u001b[0m\u001b[30;107m \u001b[0m\u001b[30;107m│\u001b[0m\u001b[30;107m \u001b[0m\u001b[1;36;107m2073\u001b[0m\u001b[30;107m \u001b[0m\u001b[30;107m│\u001b[0m\u001b[30;107m \u001b[0m\u001b[1;36;107m-4.2664\u001b[0m\u001b[30;107m \u001b[0m\u001b[30;107m│\u001b[0m\u001b[30;107m \u001b[0m\u001b[30;107m        \u001b[0m\u001b[1;36;107m983\u001b[0m\u001b[30;107m        \u001b[0m\u001b[30;107m \u001b[0m\u001b[30;107m│\u001b[0m\u001b[30;107m \u001b[0m\u001b[30;107mmercedes_estimator_2073\u001b[0m\u001b[30;107m \u001b[0m\u001b[30;107m│\u001b[0m\n",
       "\u001b[30;107m│\u001b[0m\u001b[30;107m \u001b[0m\u001b[30;107m  Opel  \u001b[0m\u001b[30;107m \u001b[0m\u001b[30;107m│\u001b[0m\u001b[30;107m \u001b[0m\u001b[1;36;107m586\u001b[0m\u001b[30;107m \u001b[0m\u001b[30;107m \u001b[0m\u001b[30;107m│\u001b[0m\u001b[30;107m \u001b[0m\u001b[1;36;107m-8.7634\u001b[0m\u001b[30;107m \u001b[0m\u001b[30;107m│\u001b[0m\u001b[30;107m \u001b[0m\u001b[30;107m        \u001b[0m\u001b[1;36;107m376\u001b[0m\u001b[30;107m        \u001b[0m\u001b[30;107m \u001b[0m\u001b[30;107m│\u001b[0m\u001b[30;107m \u001b[0m\u001b[30;107m  opel_estimator_586   \u001b[0m\u001b[30;107m \u001b[0m\u001b[30;107m│\u001b[0m\n",
       "\u001b[30;107m│\u001b[0m\u001b[30;107m \u001b[0m\u001b[30;107m Skoda  \u001b[0m\u001b[30;107m \u001b[0m\u001b[30;107m│\u001b[0m\u001b[30;107m \u001b[0m\u001b[1;36;107m1825\u001b[0m\u001b[30;107m \u001b[0m\u001b[30;107m│\u001b[0m\u001b[30;107m \u001b[0m\u001b[1;36;107m-4.3745\u001b[0m\u001b[30;107m \u001b[0m\u001b[30;107m│\u001b[0m\u001b[30;107m \u001b[0m\u001b[30;107m        \u001b[0m\u001b[1;36;107m744\u001b[0m\u001b[30;107m        \u001b[0m\u001b[30;107m \u001b[0m\u001b[30;107m│\u001b[0m\u001b[30;107m \u001b[0m\u001b[30;107m skoda_estimator_1825  \u001b[0m\u001b[30;107m \u001b[0m\u001b[30;107m│\u001b[0m\n",
       "\u001b[30;107m│\u001b[0m\u001b[30;107m \u001b[0m\u001b[30;107m Toyota \u001b[0m\u001b[30;107m \u001b[0m\u001b[30;107m│\u001b[0m\u001b[30;107m \u001b[0m\u001b[1;36;107m845\u001b[0m\u001b[30;107m \u001b[0m\u001b[30;107m \u001b[0m\u001b[30;107m│\u001b[0m\u001b[30;107m \u001b[0m\u001b[1;36;107m-4.0970\u001b[0m\u001b[30;107m \u001b[0m\u001b[30;107m│\u001b[0m\u001b[30;107m \u001b[0m\u001b[30;107m        \u001b[0m\u001b[1;36;107m494\u001b[0m\u001b[30;107m        \u001b[0m\u001b[30;107m \u001b[0m\u001b[30;107m│\u001b[0m\u001b[30;107m \u001b[0m\u001b[30;107m toyota_estimator_845  \u001b[0m\u001b[30;107m \u001b[0m\u001b[30;107m│\u001b[0m\n",
       "\u001b[30;107m│\u001b[0m\u001b[30;107m \u001b[0m\u001b[30;107m   Vw   \u001b[0m\u001b[30;107m \u001b[0m\u001b[30;107m│\u001b[0m\u001b[30;107m \u001b[0m\u001b[1;36;107m947\u001b[0m\u001b[30;107m \u001b[0m\u001b[30;107m \u001b[0m\u001b[30;107m│\u001b[0m\u001b[30;107m \u001b[0m\u001b[1;36;107m-4.6721\u001b[0m\u001b[30;107m \u001b[0m\u001b[30;107m│\u001b[0m\u001b[30;107m \u001b[0m\u001b[30;107m        \u001b[0m\u001b[1;36;107m558\u001b[0m\u001b[30;107m        \u001b[0m\u001b[30;107m \u001b[0m\u001b[30;107m│\u001b[0m\u001b[30;107m \u001b[0m\u001b[30;107m   vw_estimator_947    \u001b[0m\u001b[30;107m \u001b[0m\u001b[30;107m│\u001b[0m\n",
       "\u001b[30;107m└──────────┴──────┴─────────┴─────────────────────┴─────────────────────────┘\u001b[0m\n"
      ]
     },
     "metadata": {},
     "output_type": "display_data"
    }
   ],
   "source": [
    "# Modèle avec pipeline et estimateur optimisé\n",
    "#get_best_estimators_params(search_term='optimize_rmse', exclude_term=['estimator'], verbose=True)\n",
    "evaluate_all_models(search_term='estimator',exclude=['all_brand'])"
   ]
  },
  {
   "cell_type": "markdown",
   "id": "c4f6eb23",
   "metadata": {},
   "source": [
    "#### Optimisation des transformations (avec permutation)"
   ]
  },
  {
   "cell_type": "code",
   "execution_count": 92,
   "id": "2ebc7868",
   "metadata": {},
   "outputs": [
    {
     "data": {
      "text/html": [
       "<pre style=\"white-space:pre;overflow-x:auto;line-height:normal;font-family:Menlo,'DejaVu Sans Mono',consolas,'Courier New',monospace\"><span style=\"color: #000000; text-decoration-color: #000000; background-color: #ffffff; font-weight: bold\">PERFORMANCE COMPARISON</span> <span style=\"color: #000000; text-decoration-color: #000000; background-color: #ffffff\">──────────────────────────────────────────────────────────────────────</span>\n",
       "</pre>\n"
      ],
      "text/plain": [
       "\u001b[1;52;30;107mPERFORMANCE COMPARISON\u001b[0m \u001b[30;107m──────────────────────────────────────────────────────────────────────\u001b[0m\n"
      ]
     },
     "metadata": {},
     "output_type": "display_data"
    },
    {
     "data": {
      "text/html": [
       "<pre style=\"white-space:pre;overflow-x:auto;line-height:normal;font-family:Menlo,'DejaVu Sans Mono',consolas,'Courier New',monospace\"><span style=\"color: #000000; text-decoration-color: #000000; background-color: #ffffff; font-style: italic\">One model by Brand                                                      </span>\n",
       "<span style=\"color: #000000; text-decoration-color: #000000; background-color: #ffffff\">┏━━━━━━━━━━┳━━━━━━┳━━━━━━━━━┳━━━━━━━━━━━━━━━━━━━━━┳━━━━━━━━━━━━━━━━━━━━┓</span>\n",
       "<span style=\"color: #000000; text-decoration-color: #000000; background-color: #ffffff\">┃  Brand   ┃ RMSE ┃   R2    ┃ Absolute Mean Error ┃     Model path     ┃</span>\n",
       "<span style=\"color: #000000; text-decoration-color: #000000; background-color: #ffffff\">┡━━━━━━━━━━╇━━━━━━╇━━━━━━━━━╇━━━━━━━━━━━━━━━━━━━━━╇━━━━━━━━━━━━━━━━━━━━┩</span>\n",
       "<span style=\"color: #000000; text-decoration-color: #000000; background-color: #ffffff\">│   Audi   │ </span><span style=\"color: #008080; text-decoration-color: #008080; background-color: #ffffff; font-weight: bold\">1792</span><span style=\"color: #000000; text-decoration-color: #000000; background-color: #ffffff\"> │ </span><span style=\"color: #008080; text-decoration-color: #008080; background-color: #ffffff; font-weight: bold\">-3.7893</span><span style=\"color: #000000; text-decoration-color: #000000; background-color: #ffffff\"> │        </span><span style=\"color: #008080; text-decoration-color: #008080; background-color: #ffffff; font-weight: bold\">1096</span><span style=\"color: #000000; text-decoration-color: #000000; background-color: #ffffff\">         │   audi_perm_1792   │</span>\n",
       "<span style=\"color: #000000; text-decoration-color: #000000; background-color: #ffffff\">│   Bmw    │ </span><span style=\"color: #008080; text-decoration-color: #008080; background-color: #ffffff; font-weight: bold\">1656</span><span style=\"color: #000000; text-decoration-color: #000000; background-color: #ffffff\"> │ </span><span style=\"color: #008080; text-decoration-color: #008080; background-color: #ffffff; font-weight: bold\">-4.1015</span><span style=\"color: #000000; text-decoration-color: #000000; background-color: #ffffff\"> │        </span><span style=\"color: #008080; text-decoration-color: #008080; background-color: #ffffff; font-weight: bold\">1097</span><span style=\"color: #000000; text-decoration-color: #000000; background-color: #ffffff\">         │   bmw_perm_1656    │</span>\n",
       "<span style=\"color: #000000; text-decoration-color: #000000; background-color: #ffffff\">│   Ford   │ </span><span style=\"color: #008080; text-decoration-color: #008080; background-color: #ffffff; font-weight: bold\">789</span><span style=\"color: #000000; text-decoration-color: #000000; background-color: #ffffff\">  │ </span><span style=\"color: #008080; text-decoration-color: #008080; background-color: #ffffff; font-weight: bold\">-6.4619</span><span style=\"color: #000000; text-decoration-color: #000000; background-color: #ffffff\"> │         </span><span style=\"color: #008080; text-decoration-color: #008080; background-color: #ffffff; font-weight: bold\">554</span><span style=\"color: #000000; text-decoration-color: #000000; background-color: #ffffff\">         │   ford_perm_789    │</span>\n",
       "<span style=\"color: #000000; text-decoration-color: #000000; background-color: #ffffff\">│ Hyundai  │ </span><span style=\"color: #008080; text-decoration-color: #008080; background-color: #ffffff; font-weight: bold\">760</span><span style=\"color: #000000; text-decoration-color: #000000; background-color: #ffffff\">  │ </span><span style=\"color: #008080; text-decoration-color: #008080; background-color: #ffffff; font-weight: bold\">-4.6620</span><span style=\"color: #000000; text-decoration-color: #000000; background-color: #ffffff\"> │         </span><span style=\"color: #008080; text-decoration-color: #008080; background-color: #ffffff; font-weight: bold\">536</span><span style=\"color: #000000; text-decoration-color: #000000; background-color: #ffffff\">         │  hyundai_perm_760  │</span>\n",
       "<span style=\"color: #000000; text-decoration-color: #000000; background-color: #ffffff\">│ Mercedes │ </span><span style=\"color: #008080; text-decoration-color: #008080; background-color: #ffffff; font-weight: bold\">2266</span><span style=\"color: #000000; text-decoration-color: #000000; background-color: #ffffff\"> │ </span><span style=\"color: #008080; text-decoration-color: #008080; background-color: #ffffff; font-weight: bold\">-4.2664</span><span style=\"color: #000000; text-decoration-color: #000000; background-color: #ffffff\"> │        </span><span style=\"color: #008080; text-decoration-color: #008080; background-color: #ffffff; font-weight: bold\">1237</span><span style=\"color: #000000; text-decoration-color: #000000; background-color: #ffffff\">         │ mercedes_perm_2266 │</span>\n",
       "<span style=\"color: #000000; text-decoration-color: #000000; background-color: #ffffff\">│   Opel   │ </span><span style=\"color: #008080; text-decoration-color: #008080; background-color: #ffffff; font-weight: bold\">707</span><span style=\"color: #000000; text-decoration-color: #000000; background-color: #ffffff\">  │ </span><span style=\"color: #008080; text-decoration-color: #008080; background-color: #ffffff; font-weight: bold\">-8.7634</span><span style=\"color: #000000; text-decoration-color: #000000; background-color: #ffffff\"> │         </span><span style=\"color: #008080; text-decoration-color: #008080; background-color: #ffffff; font-weight: bold\">461</span><span style=\"color: #000000; text-decoration-color: #000000; background-color: #ffffff\">         │   opel_perm_707    │</span>\n",
       "<span style=\"color: #000000; text-decoration-color: #000000; background-color: #ffffff\">│  Skoda   │ </span><span style=\"color: #008080; text-decoration-color: #008080; background-color: #ffffff; font-weight: bold\">1435</span><span style=\"color: #000000; text-decoration-color: #000000; background-color: #ffffff\"> │ </span><span style=\"color: #008080; text-decoration-color: #008080; background-color: #ffffff; font-weight: bold\">-4.3745</span><span style=\"color: #000000; text-decoration-color: #000000; background-color: #ffffff\"> │         </span><span style=\"color: #008080; text-decoration-color: #008080; background-color: #ffffff; font-weight: bold\">708</span><span style=\"color: #000000; text-decoration-color: #000000; background-color: #ffffff\">         │  skoda_perm_1435   │</span>\n",
       "<span style=\"color: #000000; text-decoration-color: #000000; background-color: #ffffff\">│  Toyota  │ </span><span style=\"color: #008080; text-decoration-color: #008080; background-color: #ffffff; font-weight: bold\">916</span><span style=\"color: #000000; text-decoration-color: #000000; background-color: #ffffff\">  │ </span><span style=\"color: #008080; text-decoration-color: #008080; background-color: #ffffff; font-weight: bold\">-4.0970</span><span style=\"color: #000000; text-decoration-color: #000000; background-color: #ffffff\"> │         </span><span style=\"color: #008080; text-decoration-color: #008080; background-color: #ffffff; font-weight: bold\">580</span><span style=\"color: #000000; text-decoration-color: #000000; background-color: #ffffff\">         │  toyota_perm_916   │</span>\n",
       "<span style=\"color: #000000; text-decoration-color: #000000; background-color: #ffffff\">│    Vw    │ </span><span style=\"color: #008080; text-decoration-color: #008080; background-color: #ffffff; font-weight: bold\">1149</span><span style=\"color: #000000; text-decoration-color: #000000; background-color: #ffffff\"> │ </span><span style=\"color: #008080; text-decoration-color: #008080; background-color: #ffffff; font-weight: bold\">-4.6721</span><span style=\"color: #000000; text-decoration-color: #000000; background-color: #ffffff\"> │         </span><span style=\"color: #008080; text-decoration-color: #008080; background-color: #ffffff; font-weight: bold\">759</span><span style=\"color: #000000; text-decoration-color: #000000; background-color: #ffffff\">         │    vw_perm_1149    │</span>\n",
       "<span style=\"color: #000000; text-decoration-color: #000000; background-color: #ffffff\">└──────────┴──────┴─────────┴─────────────────────┴────────────────────┘</span>\n",
       "</pre>\n"
      ],
      "text/plain": [
       "\u001b[3;30;107mOne model by Brand                                                      \u001b[0m\n",
       "\u001b[30;107m┏━━━━━━━━━━┳━━━━━━┳━━━━━━━━━┳━━━━━━━━━━━━━━━━━━━━━┳━━━━━━━━━━━━━━━━━━━━┓\u001b[0m\n",
       "\u001b[30;107m┃\u001b[0m\u001b[30;107m \u001b[0m\u001b[30;107m Brand  \u001b[0m\u001b[30;107m \u001b[0m\u001b[30;107m┃\u001b[0m\u001b[30;107m \u001b[0m\u001b[30;107mRMSE\u001b[0m\u001b[30;107m \u001b[0m\u001b[30;107m┃\u001b[0m\u001b[30;107m \u001b[0m\u001b[30;107m  R2   \u001b[0m\u001b[30;107m \u001b[0m\u001b[30;107m┃\u001b[0m\u001b[30;107m \u001b[0m\u001b[30;107mAbsolute Mean Error\u001b[0m\u001b[30;107m \u001b[0m\u001b[30;107m┃\u001b[0m\u001b[30;107m \u001b[0m\u001b[30;107m    Model path    \u001b[0m\u001b[30;107m \u001b[0m\u001b[30;107m┃\u001b[0m\n",
       "\u001b[30;107m┡━━━━━━━━━━╇━━━━━━╇━━━━━━━━━╇━━━━━━━━━━━━━━━━━━━━━╇━━━━━━━━━━━━━━━━━━━━┩\u001b[0m\n",
       "\u001b[30;107m│\u001b[0m\u001b[30;107m \u001b[0m\u001b[30;107m  Audi  \u001b[0m\u001b[30;107m \u001b[0m\u001b[30;107m│\u001b[0m\u001b[30;107m \u001b[0m\u001b[1;36;107m1792\u001b[0m\u001b[30;107m \u001b[0m\u001b[30;107m│\u001b[0m\u001b[30;107m \u001b[0m\u001b[1;36;107m-3.7893\u001b[0m\u001b[30;107m \u001b[0m\u001b[30;107m│\u001b[0m\u001b[30;107m \u001b[0m\u001b[30;107m       \u001b[0m\u001b[1;36;107m1096\u001b[0m\u001b[30;107m        \u001b[0m\u001b[30;107m \u001b[0m\u001b[30;107m│\u001b[0m\u001b[30;107m \u001b[0m\u001b[30;107m  audi_perm_1792  \u001b[0m\u001b[30;107m \u001b[0m\u001b[30;107m│\u001b[0m\n",
       "\u001b[30;107m│\u001b[0m\u001b[30;107m \u001b[0m\u001b[30;107m  Bmw   \u001b[0m\u001b[30;107m \u001b[0m\u001b[30;107m│\u001b[0m\u001b[30;107m \u001b[0m\u001b[1;36;107m1656\u001b[0m\u001b[30;107m \u001b[0m\u001b[30;107m│\u001b[0m\u001b[30;107m \u001b[0m\u001b[1;36;107m-4.1015\u001b[0m\u001b[30;107m \u001b[0m\u001b[30;107m│\u001b[0m\u001b[30;107m \u001b[0m\u001b[30;107m       \u001b[0m\u001b[1;36;107m1097\u001b[0m\u001b[30;107m        \u001b[0m\u001b[30;107m \u001b[0m\u001b[30;107m│\u001b[0m\u001b[30;107m \u001b[0m\u001b[30;107m  bmw_perm_1656   \u001b[0m\u001b[30;107m \u001b[0m\u001b[30;107m│\u001b[0m\n",
       "\u001b[30;107m│\u001b[0m\u001b[30;107m \u001b[0m\u001b[30;107m  Ford  \u001b[0m\u001b[30;107m \u001b[0m\u001b[30;107m│\u001b[0m\u001b[30;107m \u001b[0m\u001b[1;36;107m789\u001b[0m\u001b[30;107m \u001b[0m\u001b[30;107m \u001b[0m\u001b[30;107m│\u001b[0m\u001b[30;107m \u001b[0m\u001b[1;36;107m-6.4619\u001b[0m\u001b[30;107m \u001b[0m\u001b[30;107m│\u001b[0m\u001b[30;107m \u001b[0m\u001b[30;107m        \u001b[0m\u001b[1;36;107m554\u001b[0m\u001b[30;107m        \u001b[0m\u001b[30;107m \u001b[0m\u001b[30;107m│\u001b[0m\u001b[30;107m \u001b[0m\u001b[30;107m  ford_perm_789   \u001b[0m\u001b[30;107m \u001b[0m\u001b[30;107m│\u001b[0m\n",
       "\u001b[30;107m│\u001b[0m\u001b[30;107m \u001b[0m\u001b[30;107mHyundai \u001b[0m\u001b[30;107m \u001b[0m\u001b[30;107m│\u001b[0m\u001b[30;107m \u001b[0m\u001b[1;36;107m760\u001b[0m\u001b[30;107m \u001b[0m\u001b[30;107m \u001b[0m\u001b[30;107m│\u001b[0m\u001b[30;107m \u001b[0m\u001b[1;36;107m-4.6620\u001b[0m\u001b[30;107m \u001b[0m\u001b[30;107m│\u001b[0m\u001b[30;107m \u001b[0m\u001b[30;107m        \u001b[0m\u001b[1;36;107m536\u001b[0m\u001b[30;107m        \u001b[0m\u001b[30;107m \u001b[0m\u001b[30;107m│\u001b[0m\u001b[30;107m \u001b[0m\u001b[30;107m hyundai_perm_760 \u001b[0m\u001b[30;107m \u001b[0m\u001b[30;107m│\u001b[0m\n",
       "\u001b[30;107m│\u001b[0m\u001b[30;107m \u001b[0m\u001b[30;107mMercedes\u001b[0m\u001b[30;107m \u001b[0m\u001b[30;107m│\u001b[0m\u001b[30;107m \u001b[0m\u001b[1;36;107m2266\u001b[0m\u001b[30;107m \u001b[0m\u001b[30;107m│\u001b[0m\u001b[30;107m \u001b[0m\u001b[1;36;107m-4.2664\u001b[0m\u001b[30;107m \u001b[0m\u001b[30;107m│\u001b[0m\u001b[30;107m \u001b[0m\u001b[30;107m       \u001b[0m\u001b[1;36;107m1237\u001b[0m\u001b[30;107m        \u001b[0m\u001b[30;107m \u001b[0m\u001b[30;107m│\u001b[0m\u001b[30;107m \u001b[0m\u001b[30;107mmercedes_perm_2266\u001b[0m\u001b[30;107m \u001b[0m\u001b[30;107m│\u001b[0m\n",
       "\u001b[30;107m│\u001b[0m\u001b[30;107m \u001b[0m\u001b[30;107m  Opel  \u001b[0m\u001b[30;107m \u001b[0m\u001b[30;107m│\u001b[0m\u001b[30;107m \u001b[0m\u001b[1;36;107m707\u001b[0m\u001b[30;107m \u001b[0m\u001b[30;107m \u001b[0m\u001b[30;107m│\u001b[0m\u001b[30;107m \u001b[0m\u001b[1;36;107m-8.7634\u001b[0m\u001b[30;107m \u001b[0m\u001b[30;107m│\u001b[0m\u001b[30;107m \u001b[0m\u001b[30;107m        \u001b[0m\u001b[1;36;107m461\u001b[0m\u001b[30;107m        \u001b[0m\u001b[30;107m \u001b[0m\u001b[30;107m│\u001b[0m\u001b[30;107m \u001b[0m\u001b[30;107m  opel_perm_707   \u001b[0m\u001b[30;107m \u001b[0m\u001b[30;107m│\u001b[0m\n",
       "\u001b[30;107m│\u001b[0m\u001b[30;107m \u001b[0m\u001b[30;107m Skoda  \u001b[0m\u001b[30;107m \u001b[0m\u001b[30;107m│\u001b[0m\u001b[30;107m \u001b[0m\u001b[1;36;107m1435\u001b[0m\u001b[30;107m \u001b[0m\u001b[30;107m│\u001b[0m\u001b[30;107m \u001b[0m\u001b[1;36;107m-4.3745\u001b[0m\u001b[30;107m \u001b[0m\u001b[30;107m│\u001b[0m\u001b[30;107m \u001b[0m\u001b[30;107m        \u001b[0m\u001b[1;36;107m708\u001b[0m\u001b[30;107m        \u001b[0m\u001b[30;107m \u001b[0m\u001b[30;107m│\u001b[0m\u001b[30;107m \u001b[0m\u001b[30;107m skoda_perm_1435  \u001b[0m\u001b[30;107m \u001b[0m\u001b[30;107m│\u001b[0m\n",
       "\u001b[30;107m│\u001b[0m\u001b[30;107m \u001b[0m\u001b[30;107m Toyota \u001b[0m\u001b[30;107m \u001b[0m\u001b[30;107m│\u001b[0m\u001b[30;107m \u001b[0m\u001b[1;36;107m916\u001b[0m\u001b[30;107m \u001b[0m\u001b[30;107m \u001b[0m\u001b[30;107m│\u001b[0m\u001b[30;107m \u001b[0m\u001b[1;36;107m-4.0970\u001b[0m\u001b[30;107m \u001b[0m\u001b[30;107m│\u001b[0m\u001b[30;107m \u001b[0m\u001b[30;107m        \u001b[0m\u001b[1;36;107m580\u001b[0m\u001b[30;107m        \u001b[0m\u001b[30;107m \u001b[0m\u001b[30;107m│\u001b[0m\u001b[30;107m \u001b[0m\u001b[30;107m toyota_perm_916  \u001b[0m\u001b[30;107m \u001b[0m\u001b[30;107m│\u001b[0m\n",
       "\u001b[30;107m│\u001b[0m\u001b[30;107m \u001b[0m\u001b[30;107m   Vw   \u001b[0m\u001b[30;107m \u001b[0m\u001b[30;107m│\u001b[0m\u001b[30;107m \u001b[0m\u001b[1;36;107m1149\u001b[0m\u001b[30;107m \u001b[0m\u001b[30;107m│\u001b[0m\u001b[30;107m \u001b[0m\u001b[1;36;107m-4.6721\u001b[0m\u001b[30;107m \u001b[0m\u001b[30;107m│\u001b[0m\u001b[30;107m \u001b[0m\u001b[30;107m        \u001b[0m\u001b[1;36;107m759\u001b[0m\u001b[30;107m        \u001b[0m\u001b[30;107m \u001b[0m\u001b[30;107m│\u001b[0m\u001b[30;107m \u001b[0m\u001b[30;107m   vw_perm_1149   \u001b[0m\u001b[30;107m \u001b[0m\u001b[30;107m│\u001b[0m\n",
       "\u001b[30;107m└──────────┴──────┴─────────┴─────────────────────┴────────────────────┘\u001b[0m\n"
      ]
     },
     "metadata": {},
     "output_type": "display_data"
    }
   ],
   "source": [
    "evaluate_all_models(search_term='perm', exclude=[])"
   ]
  },
  {
   "cell_type": "code",
   "execution_count": 94,
   "id": "68feaf50",
   "metadata": {},
   "outputs": [
    {
     "data": {
      "text/html": [
       "<pre style=\"white-space:pre;overflow-x:auto;line-height:normal;font-family:Menlo,'DejaVu Sans Mono',consolas,'Courier New',monospace\"><span style=\"color: #000000; text-decoration-color: #000000; background-color: #ffffff; font-weight: bold\">PERFORMANCE COMPARISON</span> <span style=\"color: #000000; text-decoration-color: #000000; background-color: #ffffff\">──────────────────────────────────────────────────────────────────────</span>\n",
       "</pre>\n"
      ],
      "text/plain": [
       "\u001b[1;52;30;107mPERFORMANCE COMPARISON\u001b[0m \u001b[30;107m──────────────────────────────────────────────────────────────────────\u001b[0m\n"
      ]
     },
     "metadata": {},
     "output_type": "display_data"
    },
    {
     "data": {
      "text/html": [
       "<pre style=\"white-space:pre;overflow-x:auto;line-height:normal;font-family:Menlo,'DejaVu Sans Mono',consolas,'Courier New',monospace\"><span style=\"color: #000000; text-decoration-color: #000000; background-color: #ffffff; font-style: italic\">One model by Brand                                                                </span>\n",
       "<span style=\"color: #000000; text-decoration-color: #000000; background-color: #ffffff\">┏━━━━━━━━━━┳━━━━━━┳━━━━━━━━━┳━━━━━━━━━━━━━━━━━━━━━┳━━━━━━━━━━━━━━━━━━━━━━━━━━━━━━┓</span>\n",
       "<span style=\"color: #000000; text-decoration-color: #000000; background-color: #ffffff\">┃  Brand   ┃ RMSE ┃   R2    ┃ Absolute Mean Error ┃          Model path          ┃</span>\n",
       "<span style=\"color: #000000; text-decoration-color: #000000; background-color: #ffffff\">┡━━━━━━━━━━╇━━━━━━╇━━━━━━━━━╇━━━━━━━━━━━━━━━━━━━━━╇━━━━━━━━━━━━━━━━━━━━━━━━━━━━━━┩</span>\n",
       "<span style=\"color: #000000; text-decoration-color: #000000; background-color: #ffffff\">│   Audi   │ </span><span style=\"color: #008080; text-decoration-color: #008080; background-color: #ffffff; font-weight: bold\">1540</span><span style=\"color: #000000; text-decoration-color: #000000; background-color: #ffffff\"> │ </span><span style=\"color: #008080; text-decoration-color: #008080; background-color: #ffffff; font-weight: bold\">-3.7893</span><span style=\"color: #000000; text-decoration-color: #000000; background-color: #ffffff\"> │         </span><span style=\"color: #008080; text-decoration-color: #008080; background-color: #ffffff; font-weight: bold\">848</span><span style=\"color: #000000; text-decoration-color: #000000; background-color: #ffffff\">         │   audi_perm-estimator_1540   │</span>\n",
       "<span style=\"color: #000000; text-decoration-color: #000000; background-color: #ffffff\">│   Bmw    │ </span><span style=\"color: #008080; text-decoration-color: #008080; background-color: #ffffff; font-weight: bold\">1482</span><span style=\"color: #000000; text-decoration-color: #000000; background-color: #ffffff\"> │ </span><span style=\"color: #008080; text-decoration-color: #008080; background-color: #ffffff; font-weight: bold\">-4.1015</span><span style=\"color: #000000; text-decoration-color: #000000; background-color: #ffffff\"> │         </span><span style=\"color: #008080; text-decoration-color: #008080; background-color: #ffffff; font-weight: bold\">959</span><span style=\"color: #000000; text-decoration-color: #000000; background-color: #ffffff\">         │   bmw_perm-estimator_1482    │</span>\n",
       "<span style=\"color: #000000; text-decoration-color: #000000; background-color: #ffffff\">│   Ford   │ </span><span style=\"color: #008080; text-decoration-color: #008080; background-color: #ffffff; font-weight: bold\">785</span><span style=\"color: #000000; text-decoration-color: #000000; background-color: #ffffff\">  │ </span><span style=\"color: #008080; text-decoration-color: #008080; background-color: #ffffff; font-weight: bold\">-6.4619</span><span style=\"color: #000000; text-decoration-color: #000000; background-color: #ffffff\"> │         </span><span style=\"color: #008080; text-decoration-color: #008080; background-color: #ffffff; font-weight: bold\">507</span><span style=\"color: #000000; text-decoration-color: #000000; background-color: #ffffff\">         │   ford_perm-estimator_785    │</span>\n",
       "<span style=\"color: #000000; text-decoration-color: #000000; background-color: #ffffff\">│ Hyundai  │ </span><span style=\"color: #008080; text-decoration-color: #008080; background-color: #ffffff; font-weight: bold\">760</span><span style=\"color: #000000; text-decoration-color: #000000; background-color: #ffffff\">  │ </span><span style=\"color: #008080; text-decoration-color: #008080; background-color: #ffffff; font-weight: bold\">-4.6620</span><span style=\"color: #000000; text-decoration-color: #000000; background-color: #ffffff\"> │         </span><span style=\"color: #008080; text-decoration-color: #008080; background-color: #ffffff; font-weight: bold\">536</span><span style=\"color: #000000; text-decoration-color: #000000; background-color: #ffffff\">         │  hyundai_perm-estimator_760  │</span>\n",
       "<span style=\"color: #000000; text-decoration-color: #000000; background-color: #ffffff\">│ Mercedes │ </span><span style=\"color: #008080; text-decoration-color: #008080; background-color: #ffffff; font-weight: bold\">2266</span><span style=\"color: #000000; text-decoration-color: #000000; background-color: #ffffff\"> │ </span><span style=\"color: #008080; text-decoration-color: #008080; background-color: #ffffff; font-weight: bold\">-4.2664</span><span style=\"color: #000000; text-decoration-color: #000000; background-color: #ffffff\"> │        </span><span style=\"color: #008080; text-decoration-color: #008080; background-color: #ffffff; font-weight: bold\">1237</span><span style=\"color: #000000; text-decoration-color: #000000; background-color: #ffffff\">         │ mercedes_perm-estimator_2266 │</span>\n",
       "<span style=\"color: #000000; text-decoration-color: #000000; background-color: #ffffff\">│   Opel   │ </span><span style=\"color: #008080; text-decoration-color: #008080; background-color: #ffffff; font-weight: bold\">707</span><span style=\"color: #000000; text-decoration-color: #000000; background-color: #ffffff\">  │ </span><span style=\"color: #008080; text-decoration-color: #008080; background-color: #ffffff; font-weight: bold\">-8.7634</span><span style=\"color: #000000; text-decoration-color: #000000; background-color: #ffffff\"> │         </span><span style=\"color: #008080; text-decoration-color: #008080; background-color: #ffffff; font-weight: bold\">461</span><span style=\"color: #000000; text-decoration-color: #000000; background-color: #ffffff\">         │   opel_perm-estimator_707    │</span>\n",
       "<span style=\"color: #000000; text-decoration-color: #000000; background-color: #ffffff\">│  Skoda   │ </span><span style=\"color: #008080; text-decoration-color: #008080; background-color: #ffffff; font-weight: bold\">1435</span><span style=\"color: #000000; text-decoration-color: #000000; background-color: #ffffff\"> │ </span><span style=\"color: #008080; text-decoration-color: #008080; background-color: #ffffff; font-weight: bold\">-4.3745</span><span style=\"color: #000000; text-decoration-color: #000000; background-color: #ffffff\"> │         </span><span style=\"color: #008080; text-decoration-color: #008080; background-color: #ffffff; font-weight: bold\">708</span><span style=\"color: #000000; text-decoration-color: #000000; background-color: #ffffff\">         │  skoda_perm-estimator_1435   │</span>\n",
       "<span style=\"color: #000000; text-decoration-color: #000000; background-color: #ffffff\">│  Toyota  │ </span><span style=\"color: #008080; text-decoration-color: #008080; background-color: #ffffff; font-weight: bold\">862</span><span style=\"color: #000000; text-decoration-color: #000000; background-color: #ffffff\">  │ </span><span style=\"color: #008080; text-decoration-color: #008080; background-color: #ffffff; font-weight: bold\">-4.0970</span><span style=\"color: #000000; text-decoration-color: #000000; background-color: #ffffff\"> │         </span><span style=\"color: #008080; text-decoration-color: #008080; background-color: #ffffff; font-weight: bold\">503</span><span style=\"color: #000000; text-decoration-color: #000000; background-color: #ffffff\">         │  toyota_perm-estimator_862   │</span>\n",
       "<span style=\"color: #000000; text-decoration-color: #000000; background-color: #ffffff\">│    Vw    │ </span><span style=\"color: #008080; text-decoration-color: #008080; background-color: #ffffff; font-weight: bold\">963</span><span style=\"color: #000000; text-decoration-color: #000000; background-color: #ffffff\">  │ </span><span style=\"color: #008080; text-decoration-color: #008080; background-color: #ffffff; font-weight: bold\">-4.6721</span><span style=\"color: #000000; text-decoration-color: #000000; background-color: #ffffff\"> │         </span><span style=\"color: #008080; text-decoration-color: #008080; background-color: #ffffff; font-weight: bold\">561</span><span style=\"color: #000000; text-decoration-color: #000000; background-color: #ffffff\">         │    vw_perm-estimator_963     │</span>\n",
       "<span style=\"color: #000000; text-decoration-color: #000000; background-color: #ffffff\">└──────────┴──────┴─────────┴─────────────────────┴──────────────────────────────┘</span>\n",
       "</pre>\n"
      ],
      "text/plain": [
       "\u001b[3;30;107mOne model by Brand                                                                \u001b[0m\n",
       "\u001b[30;107m┏━━━━━━━━━━┳━━━━━━┳━━━━━━━━━┳━━━━━━━━━━━━━━━━━━━━━┳━━━━━━━━━━━━━━━━━━━━━━━━━━━━━━┓\u001b[0m\n",
       "\u001b[30;107m┃\u001b[0m\u001b[30;107m \u001b[0m\u001b[30;107m Brand  \u001b[0m\u001b[30;107m \u001b[0m\u001b[30;107m┃\u001b[0m\u001b[30;107m \u001b[0m\u001b[30;107mRMSE\u001b[0m\u001b[30;107m \u001b[0m\u001b[30;107m┃\u001b[0m\u001b[30;107m \u001b[0m\u001b[30;107m  R2   \u001b[0m\u001b[30;107m \u001b[0m\u001b[30;107m┃\u001b[0m\u001b[30;107m \u001b[0m\u001b[30;107mAbsolute Mean Error\u001b[0m\u001b[30;107m \u001b[0m\u001b[30;107m┃\u001b[0m\u001b[30;107m \u001b[0m\u001b[30;107m         Model path         \u001b[0m\u001b[30;107m \u001b[0m\u001b[30;107m┃\u001b[0m\n",
       "\u001b[30;107m┡━━━━━━━━━━╇━━━━━━╇━━━━━━━━━╇━━━━━━━━━━━━━━━━━━━━━╇━━━━━━━━━━━━━━━━━━━━━━━━━━━━━━┩\u001b[0m\n",
       "\u001b[30;107m│\u001b[0m\u001b[30;107m \u001b[0m\u001b[30;107m  Audi  \u001b[0m\u001b[30;107m \u001b[0m\u001b[30;107m│\u001b[0m\u001b[30;107m \u001b[0m\u001b[1;36;107m1540\u001b[0m\u001b[30;107m \u001b[0m\u001b[30;107m│\u001b[0m\u001b[30;107m \u001b[0m\u001b[1;36;107m-3.7893\u001b[0m\u001b[30;107m \u001b[0m\u001b[30;107m│\u001b[0m\u001b[30;107m \u001b[0m\u001b[30;107m        \u001b[0m\u001b[1;36;107m848\u001b[0m\u001b[30;107m        \u001b[0m\u001b[30;107m \u001b[0m\u001b[30;107m│\u001b[0m\u001b[30;107m \u001b[0m\u001b[30;107m  audi_perm-estimator_1540  \u001b[0m\u001b[30;107m \u001b[0m\u001b[30;107m│\u001b[0m\n",
       "\u001b[30;107m│\u001b[0m\u001b[30;107m \u001b[0m\u001b[30;107m  Bmw   \u001b[0m\u001b[30;107m \u001b[0m\u001b[30;107m│\u001b[0m\u001b[30;107m \u001b[0m\u001b[1;36;107m1482\u001b[0m\u001b[30;107m \u001b[0m\u001b[30;107m│\u001b[0m\u001b[30;107m \u001b[0m\u001b[1;36;107m-4.1015\u001b[0m\u001b[30;107m \u001b[0m\u001b[30;107m│\u001b[0m\u001b[30;107m \u001b[0m\u001b[30;107m        \u001b[0m\u001b[1;36;107m959\u001b[0m\u001b[30;107m        \u001b[0m\u001b[30;107m \u001b[0m\u001b[30;107m│\u001b[0m\u001b[30;107m \u001b[0m\u001b[30;107m  bmw_perm-estimator_1482   \u001b[0m\u001b[30;107m \u001b[0m\u001b[30;107m│\u001b[0m\n",
       "\u001b[30;107m│\u001b[0m\u001b[30;107m \u001b[0m\u001b[30;107m  Ford  \u001b[0m\u001b[30;107m \u001b[0m\u001b[30;107m│\u001b[0m\u001b[30;107m \u001b[0m\u001b[1;36;107m785\u001b[0m\u001b[30;107m \u001b[0m\u001b[30;107m \u001b[0m\u001b[30;107m│\u001b[0m\u001b[30;107m \u001b[0m\u001b[1;36;107m-6.4619\u001b[0m\u001b[30;107m \u001b[0m\u001b[30;107m│\u001b[0m\u001b[30;107m \u001b[0m\u001b[30;107m        \u001b[0m\u001b[1;36;107m507\u001b[0m\u001b[30;107m        \u001b[0m\u001b[30;107m \u001b[0m\u001b[30;107m│\u001b[0m\u001b[30;107m \u001b[0m\u001b[30;107m  ford_perm-estimator_785   \u001b[0m\u001b[30;107m \u001b[0m\u001b[30;107m│\u001b[0m\n",
       "\u001b[30;107m│\u001b[0m\u001b[30;107m \u001b[0m\u001b[30;107mHyundai \u001b[0m\u001b[30;107m \u001b[0m\u001b[30;107m│\u001b[0m\u001b[30;107m \u001b[0m\u001b[1;36;107m760\u001b[0m\u001b[30;107m \u001b[0m\u001b[30;107m \u001b[0m\u001b[30;107m│\u001b[0m\u001b[30;107m \u001b[0m\u001b[1;36;107m-4.6620\u001b[0m\u001b[30;107m \u001b[0m\u001b[30;107m│\u001b[0m\u001b[30;107m \u001b[0m\u001b[30;107m        \u001b[0m\u001b[1;36;107m536\u001b[0m\u001b[30;107m        \u001b[0m\u001b[30;107m \u001b[0m\u001b[30;107m│\u001b[0m\u001b[30;107m \u001b[0m\u001b[30;107m hyundai_perm-estimator_760 \u001b[0m\u001b[30;107m \u001b[0m\u001b[30;107m│\u001b[0m\n",
       "\u001b[30;107m│\u001b[0m\u001b[30;107m \u001b[0m\u001b[30;107mMercedes\u001b[0m\u001b[30;107m \u001b[0m\u001b[30;107m│\u001b[0m\u001b[30;107m \u001b[0m\u001b[1;36;107m2266\u001b[0m\u001b[30;107m \u001b[0m\u001b[30;107m│\u001b[0m\u001b[30;107m \u001b[0m\u001b[1;36;107m-4.2664\u001b[0m\u001b[30;107m \u001b[0m\u001b[30;107m│\u001b[0m\u001b[30;107m \u001b[0m\u001b[30;107m       \u001b[0m\u001b[1;36;107m1237\u001b[0m\u001b[30;107m        \u001b[0m\u001b[30;107m \u001b[0m\u001b[30;107m│\u001b[0m\u001b[30;107m \u001b[0m\u001b[30;107mmercedes_perm-estimator_2266\u001b[0m\u001b[30;107m \u001b[0m\u001b[30;107m│\u001b[0m\n",
       "\u001b[30;107m│\u001b[0m\u001b[30;107m \u001b[0m\u001b[30;107m  Opel  \u001b[0m\u001b[30;107m \u001b[0m\u001b[30;107m│\u001b[0m\u001b[30;107m \u001b[0m\u001b[1;36;107m707\u001b[0m\u001b[30;107m \u001b[0m\u001b[30;107m \u001b[0m\u001b[30;107m│\u001b[0m\u001b[30;107m \u001b[0m\u001b[1;36;107m-8.7634\u001b[0m\u001b[30;107m \u001b[0m\u001b[30;107m│\u001b[0m\u001b[30;107m \u001b[0m\u001b[30;107m        \u001b[0m\u001b[1;36;107m461\u001b[0m\u001b[30;107m        \u001b[0m\u001b[30;107m \u001b[0m\u001b[30;107m│\u001b[0m\u001b[30;107m \u001b[0m\u001b[30;107m  opel_perm-estimator_707   \u001b[0m\u001b[30;107m \u001b[0m\u001b[30;107m│\u001b[0m\n",
       "\u001b[30;107m│\u001b[0m\u001b[30;107m \u001b[0m\u001b[30;107m Skoda  \u001b[0m\u001b[30;107m \u001b[0m\u001b[30;107m│\u001b[0m\u001b[30;107m \u001b[0m\u001b[1;36;107m1435\u001b[0m\u001b[30;107m \u001b[0m\u001b[30;107m│\u001b[0m\u001b[30;107m \u001b[0m\u001b[1;36;107m-4.3745\u001b[0m\u001b[30;107m \u001b[0m\u001b[30;107m│\u001b[0m\u001b[30;107m \u001b[0m\u001b[30;107m        \u001b[0m\u001b[1;36;107m708\u001b[0m\u001b[30;107m        \u001b[0m\u001b[30;107m \u001b[0m\u001b[30;107m│\u001b[0m\u001b[30;107m \u001b[0m\u001b[30;107m skoda_perm-estimator_1435  \u001b[0m\u001b[30;107m \u001b[0m\u001b[30;107m│\u001b[0m\n",
       "\u001b[30;107m│\u001b[0m\u001b[30;107m \u001b[0m\u001b[30;107m Toyota \u001b[0m\u001b[30;107m \u001b[0m\u001b[30;107m│\u001b[0m\u001b[30;107m \u001b[0m\u001b[1;36;107m862\u001b[0m\u001b[30;107m \u001b[0m\u001b[30;107m \u001b[0m\u001b[30;107m│\u001b[0m\u001b[30;107m \u001b[0m\u001b[1;36;107m-4.0970\u001b[0m\u001b[30;107m \u001b[0m\u001b[30;107m│\u001b[0m\u001b[30;107m \u001b[0m\u001b[30;107m        \u001b[0m\u001b[1;36;107m503\u001b[0m\u001b[30;107m        \u001b[0m\u001b[30;107m \u001b[0m\u001b[30;107m│\u001b[0m\u001b[30;107m \u001b[0m\u001b[30;107m toyota_perm-estimator_862  \u001b[0m\u001b[30;107m \u001b[0m\u001b[30;107m│\u001b[0m\n",
       "\u001b[30;107m│\u001b[0m\u001b[30;107m \u001b[0m\u001b[30;107m   Vw   \u001b[0m\u001b[30;107m \u001b[0m\u001b[30;107m│\u001b[0m\u001b[30;107m \u001b[0m\u001b[1;36;107m963\u001b[0m\u001b[30;107m \u001b[0m\u001b[30;107m \u001b[0m\u001b[30;107m│\u001b[0m\u001b[30;107m \u001b[0m\u001b[1;36;107m-4.6721\u001b[0m\u001b[30;107m \u001b[0m\u001b[30;107m│\u001b[0m\u001b[30;107m \u001b[0m\u001b[30;107m        \u001b[0m\u001b[1;36;107m561\u001b[0m\u001b[30;107m        \u001b[0m\u001b[30;107m \u001b[0m\u001b[30;107m│\u001b[0m\u001b[30;107m \u001b[0m\u001b[30;107m   vw_perm-estimator_963    \u001b[0m\u001b[30;107m \u001b[0m\u001b[30;107m│\u001b[0m\n",
       "\u001b[30;107m└──────────┴──────┴─────────┴─────────────────────┴──────────────────────────────┘\u001b[0m\n"
      ]
     },
     "metadata": {},
     "output_type": "display_data"
    }
   ],
   "source": [
    "#get_best_estimators_params(search_term='perm', exclude_term=[],prefix='perm', verbose=True)\n",
    "evaluate_all_models(search_term='perm-estimator', exclude=[])"
   ]
  },
  {
   "cell_type": "markdown",
   "id": "b65bf29f",
   "metadata": {
    "slideshow": {
     "slide_type": "subslide"
    }
   },
   "source": [
    "#### Refit?"
   ]
  },
  {
   "cell_type": "code",
   "execution_count": 61,
   "id": "4887405c",
   "metadata": {
    "slideshow": {
     "slide_type": "subslide"
    }
   },
   "outputs": [
    {
     "data": {
      "text/html": [
       "<pre style=\"white-space:pre;overflow-x:auto;line-height:normal;font-family:Menlo,'DejaVu Sans Mono',consolas,'Courier New',monospace\"><span style=\"color: #000000; text-decoration-color: #000000; background-color: #ffffff; font-weight: bold\">PERFORMANCE COMPARISON</span> <span style=\"color: #000000; text-decoration-color: #000000; background-color: #ffffff\">──────────────────────────────────────────────────────────────────────</span>\n",
       "</pre>\n"
      ],
      "text/plain": [
       "\u001b[1;52;30;107mPERFORMANCE COMPARISON\u001b[0m \u001b[30;107m──────────────────────────────────────────────────────────────────────\u001b[0m\n"
      ]
     },
     "metadata": {},
     "output_type": "display_data"
    },
    {
     "data": {
      "text/html": [
       "<pre style=\"white-space:pre;overflow-x:auto;line-height:normal;font-family:Menlo,'DejaVu Sans Mono',consolas,'Courier New',monospace\"><span style=\"color: #000000; text-decoration-color: #000000; background-color: #ffffff; font-style: italic\">One model by Brand                                                  </span>\n",
       "<span style=\"color: #000000; text-decoration-color: #000000; background-color: #ffffff\">┏━━━━━━━━━━┳━━━━━━┳━━━━━━━━━┳━━━━━━━━━━━━━━━━━━━━━┳━━━━━━━━━━━━━━━━┓</span>\n",
       "<span style=\"color: #000000; text-decoration-color: #000000; background-color: #ffffff\">┃  Brand   ┃ RMSE ┃   R2    ┃ Absolute Mean Error ┃   Model path   ┃</span>\n",
       "<span style=\"color: #000000; text-decoration-color: #000000; background-color: #ffffff\">┡━━━━━━━━━━╇━━━━━━╇━━━━━━━━━╇━━━━━━━━━━━━━━━━━━━━━╇━━━━━━━━━━━━━━━━┩</span>\n",
       "<span style=\"color: #000000; text-decoration-color: #000000; background-color: #ffffff\">│   Audi   │ </span><span style=\"color: #008080; text-decoration-color: #008080; background-color: #ffffff; font-weight: bold\">2582</span><span style=\"color: #000000; text-decoration-color: #000000; background-color: #ffffff\"> │ </span><span style=\"color: #008080; text-decoration-color: #008080; background-color: #ffffff; font-weight: bold\">-3.7893</span><span style=\"color: #000000; text-decoration-color: #000000; background-color: #ffffff\"> │        </span><span style=\"color: #008080; text-decoration-color: #008080; background-color: #ffffff; font-weight: bold\">1585</span><span style=\"color: #000000; text-decoration-color: #000000; background-color: #ffffff\">         │   audi_model   │</span>\n",
       "<span style=\"color: #000000; text-decoration-color: #000000; background-color: #ffffff\">│   Bmw    │ </span><span style=\"color: #008080; text-decoration-color: #008080; background-color: #ffffff; font-weight: bold\">2473</span><span style=\"color: #000000; text-decoration-color: #000000; background-color: #ffffff\"> │ </span><span style=\"color: #008080; text-decoration-color: #008080; background-color: #ffffff; font-weight: bold\">-4.1015</span><span style=\"color: #000000; text-decoration-color: #000000; background-color: #ffffff\"> │        </span><span style=\"color: #008080; text-decoration-color: #008080; background-color: #ffffff; font-weight: bold\">1615</span><span style=\"color: #000000; text-decoration-color: #000000; background-color: #ffffff\">         │   bmw_model    │</span>\n",
       "<span style=\"color: #000000; text-decoration-color: #000000; background-color: #ffffff\">│   Ford   │ </span><span style=\"color: #008080; text-decoration-color: #008080; background-color: #ffffff; font-weight: bold\">1274</span><span style=\"color: #000000; text-decoration-color: #000000; background-color: #ffffff\"> │ </span><span style=\"color: #008080; text-decoration-color: #008080; background-color: #ffffff; font-weight: bold\">-6.4619</span><span style=\"color: #000000; text-decoration-color: #000000; background-color: #ffffff\"> │         </span><span style=\"color: #008080; text-decoration-color: #008080; background-color: #ffffff; font-weight: bold\">872</span><span style=\"color: #000000; text-decoration-color: #000000; background-color: #ffffff\">         │   ford_model   │</span>\n",
       "<span style=\"color: #000000; text-decoration-color: #000000; background-color: #ffffff\">│ Hyundai  │ </span><span style=\"color: #008080; text-decoration-color: #008080; background-color: #ffffff; font-weight: bold\">1480</span><span style=\"color: #000000; text-decoration-color: #000000; background-color: #ffffff\"> │ </span><span style=\"color: #008080; text-decoration-color: #008080; background-color: #ffffff; font-weight: bold\">-4.6620</span><span style=\"color: #000000; text-decoration-color: #000000; background-color: #ffffff\"> │         </span><span style=\"color: #008080; text-decoration-color: #008080; background-color: #ffffff; font-weight: bold\">849</span><span style=\"color: #000000; text-decoration-color: #000000; background-color: #ffffff\">         │ hyundai_model  │</span>\n",
       "<span style=\"color: #000000; text-decoration-color: #000000; background-color: #ffffff\">│ Mercedes │ </span><span style=\"color: #008080; text-decoration-color: #008080; background-color: #ffffff; font-weight: bold\">3375</span><span style=\"color: #000000; text-decoration-color: #000000; background-color: #ffffff\"> │ </span><span style=\"color: #008080; text-decoration-color: #008080; background-color: #ffffff; font-weight: bold\">-4.2664</span><span style=\"color: #000000; text-decoration-color: #000000; background-color: #ffffff\"> │        </span><span style=\"color: #008080; text-decoration-color: #008080; background-color: #ffffff; font-weight: bold\">1731</span><span style=\"color: #000000; text-decoration-color: #000000; background-color: #ffffff\">         │ mercedes_model │</span>\n",
       "<span style=\"color: #000000; text-decoration-color: #000000; background-color: #ffffff\">│   Opel   │ </span><span style=\"color: #008080; text-decoration-color: #008080; background-color: #ffffff; font-weight: bold\">1107</span><span style=\"color: #000000; text-decoration-color: #000000; background-color: #ffffff\"> │ </span><span style=\"color: #008080; text-decoration-color: #008080; background-color: #ffffff; font-weight: bold\">-8.7634</span><span style=\"color: #000000; text-decoration-color: #000000; background-color: #ffffff\"> │         </span><span style=\"color: #008080; text-decoration-color: #008080; background-color: #ffffff; font-weight: bold\">756</span><span style=\"color: #000000; text-decoration-color: #000000; background-color: #ffffff\">         │   opel_model   │</span>\n",
       "<span style=\"color: #000000; text-decoration-color: #000000; background-color: #ffffff\">│  Skoda   │ </span><span style=\"color: #008080; text-decoration-color: #008080; background-color: #ffffff; font-weight: bold\">2659</span><span style=\"color: #000000; text-decoration-color: #000000; background-color: #ffffff\"> │ </span><span style=\"color: #008080; text-decoration-color: #008080; background-color: #ffffff; font-weight: bold\">-4.3746</span><span style=\"color: #000000; text-decoration-color: #000000; background-color: #ffffff\"> │        </span><span style=\"color: #008080; text-decoration-color: #008080; background-color: #ffffff; font-weight: bold\">1072</span><span style=\"color: #000000; text-decoration-color: #000000; background-color: #ffffff\">         │  skoda_model   │</span>\n",
       "<span style=\"color: #000000; text-decoration-color: #000000; background-color: #ffffff\">│  Toyota  │ </span><span style=\"color: #008080; text-decoration-color: #008080; background-color: #ffffff; font-weight: bold\">1215</span><span style=\"color: #000000; text-decoration-color: #000000; background-color: #ffffff\"> │ </span><span style=\"color: #008080; text-decoration-color: #008080; background-color: #ffffff; font-weight: bold\">-4.0970</span><span style=\"color: #000000; text-decoration-color: #000000; background-color: #ffffff\"> │         </span><span style=\"color: #008080; text-decoration-color: #008080; background-color: #ffffff; font-weight: bold\">822</span><span style=\"color: #000000; text-decoration-color: #000000; background-color: #ffffff\">         │  toyota_model  │</span>\n",
       "<span style=\"color: #000000; text-decoration-color: #000000; background-color: #ffffff\">│    Vw    │ </span><span style=\"color: #008080; text-decoration-color: #008080; background-color: #ffffff; font-weight: bold\">1995</span><span style=\"color: #000000; text-decoration-color: #000000; background-color: #ffffff\"> │ </span><span style=\"color: #008080; text-decoration-color: #008080; background-color: #ffffff; font-weight: bold\">-4.6721</span><span style=\"color: #000000; text-decoration-color: #000000; background-color: #ffffff\"> │        </span><span style=\"color: #008080; text-decoration-color: #008080; background-color: #ffffff; font-weight: bold\">1165</span><span style=\"color: #000000; text-decoration-color: #000000; background-color: #ffffff\">         │    vw_model    │</span>\n",
       "<span style=\"color: #000000; text-decoration-color: #000000; background-color: #ffffff\">└──────────┴──────┴─────────┴─────────────────────┴────────────────┘</span>\n",
       "</pre>\n"
      ],
      "text/plain": [
       "\u001b[3;30;107mOne model by Brand                                                  \u001b[0m\n",
       "\u001b[30;107m┏━━━━━━━━━━┳━━━━━━┳━━━━━━━━━┳━━━━━━━━━━━━━━━━━━━━━┳━━━━━━━━━━━━━━━━┓\u001b[0m\n",
       "\u001b[30;107m┃\u001b[0m\u001b[30;107m \u001b[0m\u001b[30;107m Brand  \u001b[0m\u001b[30;107m \u001b[0m\u001b[30;107m┃\u001b[0m\u001b[30;107m \u001b[0m\u001b[30;107mRMSE\u001b[0m\u001b[30;107m \u001b[0m\u001b[30;107m┃\u001b[0m\u001b[30;107m \u001b[0m\u001b[30;107m  R2   \u001b[0m\u001b[30;107m \u001b[0m\u001b[30;107m┃\u001b[0m\u001b[30;107m \u001b[0m\u001b[30;107mAbsolute Mean Error\u001b[0m\u001b[30;107m \u001b[0m\u001b[30;107m┃\u001b[0m\u001b[30;107m \u001b[0m\u001b[30;107m  Model path  \u001b[0m\u001b[30;107m \u001b[0m\u001b[30;107m┃\u001b[0m\n",
       "\u001b[30;107m┡━━━━━━━━━━╇━━━━━━╇━━━━━━━━━╇━━━━━━━━━━━━━━━━━━━━━╇━━━━━━━━━━━━━━━━┩\u001b[0m\n",
       "\u001b[30;107m│\u001b[0m\u001b[30;107m \u001b[0m\u001b[30;107m  Audi  \u001b[0m\u001b[30;107m \u001b[0m\u001b[30;107m│\u001b[0m\u001b[30;107m \u001b[0m\u001b[1;36;107m2582\u001b[0m\u001b[30;107m \u001b[0m\u001b[30;107m│\u001b[0m\u001b[30;107m \u001b[0m\u001b[1;36;107m-3.7893\u001b[0m\u001b[30;107m \u001b[0m\u001b[30;107m│\u001b[0m\u001b[30;107m \u001b[0m\u001b[30;107m       \u001b[0m\u001b[1;36;107m1585\u001b[0m\u001b[30;107m        \u001b[0m\u001b[30;107m \u001b[0m\u001b[30;107m│\u001b[0m\u001b[30;107m \u001b[0m\u001b[30;107m  audi_model  \u001b[0m\u001b[30;107m \u001b[0m\u001b[30;107m│\u001b[0m\n",
       "\u001b[30;107m│\u001b[0m\u001b[30;107m \u001b[0m\u001b[30;107m  Bmw   \u001b[0m\u001b[30;107m \u001b[0m\u001b[30;107m│\u001b[0m\u001b[30;107m \u001b[0m\u001b[1;36;107m2473\u001b[0m\u001b[30;107m \u001b[0m\u001b[30;107m│\u001b[0m\u001b[30;107m \u001b[0m\u001b[1;36;107m-4.1015\u001b[0m\u001b[30;107m \u001b[0m\u001b[30;107m│\u001b[0m\u001b[30;107m \u001b[0m\u001b[30;107m       \u001b[0m\u001b[1;36;107m1615\u001b[0m\u001b[30;107m        \u001b[0m\u001b[30;107m \u001b[0m\u001b[30;107m│\u001b[0m\u001b[30;107m \u001b[0m\u001b[30;107m  bmw_model   \u001b[0m\u001b[30;107m \u001b[0m\u001b[30;107m│\u001b[0m\n",
       "\u001b[30;107m│\u001b[0m\u001b[30;107m \u001b[0m\u001b[30;107m  Ford  \u001b[0m\u001b[30;107m \u001b[0m\u001b[30;107m│\u001b[0m\u001b[30;107m \u001b[0m\u001b[1;36;107m1274\u001b[0m\u001b[30;107m \u001b[0m\u001b[30;107m│\u001b[0m\u001b[30;107m \u001b[0m\u001b[1;36;107m-6.4619\u001b[0m\u001b[30;107m \u001b[0m\u001b[30;107m│\u001b[0m\u001b[30;107m \u001b[0m\u001b[30;107m        \u001b[0m\u001b[1;36;107m872\u001b[0m\u001b[30;107m        \u001b[0m\u001b[30;107m \u001b[0m\u001b[30;107m│\u001b[0m\u001b[30;107m \u001b[0m\u001b[30;107m  ford_model  \u001b[0m\u001b[30;107m \u001b[0m\u001b[30;107m│\u001b[0m\n",
       "\u001b[30;107m│\u001b[0m\u001b[30;107m \u001b[0m\u001b[30;107mHyundai \u001b[0m\u001b[30;107m \u001b[0m\u001b[30;107m│\u001b[0m\u001b[30;107m \u001b[0m\u001b[1;36;107m1480\u001b[0m\u001b[30;107m \u001b[0m\u001b[30;107m│\u001b[0m\u001b[30;107m \u001b[0m\u001b[1;36;107m-4.6620\u001b[0m\u001b[30;107m \u001b[0m\u001b[30;107m│\u001b[0m\u001b[30;107m \u001b[0m\u001b[30;107m        \u001b[0m\u001b[1;36;107m849\u001b[0m\u001b[30;107m        \u001b[0m\u001b[30;107m \u001b[0m\u001b[30;107m│\u001b[0m\u001b[30;107m \u001b[0m\u001b[30;107mhyundai_model \u001b[0m\u001b[30;107m \u001b[0m\u001b[30;107m│\u001b[0m\n",
       "\u001b[30;107m│\u001b[0m\u001b[30;107m \u001b[0m\u001b[30;107mMercedes\u001b[0m\u001b[30;107m \u001b[0m\u001b[30;107m│\u001b[0m\u001b[30;107m \u001b[0m\u001b[1;36;107m3375\u001b[0m\u001b[30;107m \u001b[0m\u001b[30;107m│\u001b[0m\u001b[30;107m \u001b[0m\u001b[1;36;107m-4.2664\u001b[0m\u001b[30;107m \u001b[0m\u001b[30;107m│\u001b[0m\u001b[30;107m \u001b[0m\u001b[30;107m       \u001b[0m\u001b[1;36;107m1731\u001b[0m\u001b[30;107m        \u001b[0m\u001b[30;107m \u001b[0m\u001b[30;107m│\u001b[0m\u001b[30;107m \u001b[0m\u001b[30;107mmercedes_model\u001b[0m\u001b[30;107m \u001b[0m\u001b[30;107m│\u001b[0m\n",
       "\u001b[30;107m│\u001b[0m\u001b[30;107m \u001b[0m\u001b[30;107m  Opel  \u001b[0m\u001b[30;107m \u001b[0m\u001b[30;107m│\u001b[0m\u001b[30;107m \u001b[0m\u001b[1;36;107m1107\u001b[0m\u001b[30;107m \u001b[0m\u001b[30;107m│\u001b[0m\u001b[30;107m \u001b[0m\u001b[1;36;107m-8.7634\u001b[0m\u001b[30;107m \u001b[0m\u001b[30;107m│\u001b[0m\u001b[30;107m \u001b[0m\u001b[30;107m        \u001b[0m\u001b[1;36;107m756\u001b[0m\u001b[30;107m        \u001b[0m\u001b[30;107m \u001b[0m\u001b[30;107m│\u001b[0m\u001b[30;107m \u001b[0m\u001b[30;107m  opel_model  \u001b[0m\u001b[30;107m \u001b[0m\u001b[30;107m│\u001b[0m\n",
       "\u001b[30;107m│\u001b[0m\u001b[30;107m \u001b[0m\u001b[30;107m Skoda  \u001b[0m\u001b[30;107m \u001b[0m\u001b[30;107m│\u001b[0m\u001b[30;107m \u001b[0m\u001b[1;36;107m2659\u001b[0m\u001b[30;107m \u001b[0m\u001b[30;107m│\u001b[0m\u001b[30;107m \u001b[0m\u001b[1;36;107m-4.3746\u001b[0m\u001b[30;107m \u001b[0m\u001b[30;107m│\u001b[0m\u001b[30;107m \u001b[0m\u001b[30;107m       \u001b[0m\u001b[1;36;107m1072\u001b[0m\u001b[30;107m        \u001b[0m\u001b[30;107m \u001b[0m\u001b[30;107m│\u001b[0m\u001b[30;107m \u001b[0m\u001b[30;107m skoda_model  \u001b[0m\u001b[30;107m \u001b[0m\u001b[30;107m│\u001b[0m\n",
       "\u001b[30;107m│\u001b[0m\u001b[30;107m \u001b[0m\u001b[30;107m Toyota \u001b[0m\u001b[30;107m \u001b[0m\u001b[30;107m│\u001b[0m\u001b[30;107m \u001b[0m\u001b[1;36;107m1215\u001b[0m\u001b[30;107m \u001b[0m\u001b[30;107m│\u001b[0m\u001b[30;107m \u001b[0m\u001b[1;36;107m-4.0970\u001b[0m\u001b[30;107m \u001b[0m\u001b[30;107m│\u001b[0m\u001b[30;107m \u001b[0m\u001b[30;107m        \u001b[0m\u001b[1;36;107m822\u001b[0m\u001b[30;107m        \u001b[0m\u001b[30;107m \u001b[0m\u001b[30;107m│\u001b[0m\u001b[30;107m \u001b[0m\u001b[30;107m toyota_model \u001b[0m\u001b[30;107m \u001b[0m\u001b[30;107m│\u001b[0m\n",
       "\u001b[30;107m│\u001b[0m\u001b[30;107m \u001b[0m\u001b[30;107m   Vw   \u001b[0m\u001b[30;107m \u001b[0m\u001b[30;107m│\u001b[0m\u001b[30;107m \u001b[0m\u001b[1;36;107m1995\u001b[0m\u001b[30;107m \u001b[0m\u001b[30;107m│\u001b[0m\u001b[30;107m \u001b[0m\u001b[1;36;107m-4.6721\u001b[0m\u001b[30;107m \u001b[0m\u001b[30;107m│\u001b[0m\u001b[30;107m \u001b[0m\u001b[30;107m       \u001b[0m\u001b[1;36;107m1165\u001b[0m\u001b[30;107m        \u001b[0m\u001b[30;107m \u001b[0m\u001b[30;107m│\u001b[0m\u001b[30;107m \u001b[0m\u001b[30;107m   vw_model   \u001b[0m\u001b[30;107m \u001b[0m\u001b[30;107m│\u001b[0m\n",
       "\u001b[30;107m└──────────┴──────┴─────────┴─────────────────────┴────────────────┘\u001b[0m\n"
      ]
     },
     "metadata": {},
     "output_type": "display_data"
    }
   ],
   "source": [
    "# load performance\n",
    "evaluate_all_refitted_models(base_model_search_term='model', \n",
    "                             params_search_term='rmse',\n",
    "                             model_exclude=['base_score_model.joblib','all_brand'],\n",
    "                             params_exclude=[])\n",
    "# Refit toyota_model.joblib using toyota.csv with parameters from toyota_optimize_rmse_919.json"
   ]
  },
  {
   "cell_type": "markdown",
   "id": "c5ec4a40",
   "metadata": {
    "slideshow": {
     "slide_type": "slide"
    }
   },
   "source": [
    "#### Essais de prédictions"
   ]
  },
  {
   "cell_type": "code",
   "execution_count": 95,
   "id": "ff52b6cc",
   "metadata": {
    "slideshow": {
     "slide_type": "subslide"
    }
   },
   "outputs": [
    {
     "name": "stdout",
     "output_type": "stream",
     "text": [
      "RMSE: 1030.7270273679117\n"
     ]
    },
    {
     "data": {
      "text/html": [
       "<pre style=\"white-space:pre;overflow-x:auto;line-height:normal;font-family:Menlo,'DejaVu Sans Mono',consolas,'Courier New',monospace\"><span style=\"color: #000000; text-decoration-color: #000000; background-color: #ffffff; font-weight: bold\">MODEL PREDICTION TESTING</span> <span style=\"color: #000000; text-decoration-color: #000000; background-color: #ffffff\">────────────────────────────────────────────────────────────────────</span>\n",
       "</pre>\n"
      ],
      "text/plain": [
       "\u001b[1;52;30;107mMODEL PREDICTION TESTING\u001b[0m \u001b[30;107m────────────────────────────────────────────────────────────────────\u001b[0m\n"
      ]
     },
     "metadata": {},
     "output_type": "display_data"
    },
    {
     "data": {
      "text/html": [
       "<pre style=\"white-space:pre;overflow-x:auto;line-height:normal;font-family:Menlo,'DejaVu Sans Mono',consolas,'Courier New',monospace\"><span style=\"color: #000000; text-decoration-color: #000000; background-color: #ffffff; font-style: italic\">Prediction results                                                                   </span>\n",
       "<span style=\"color: #000000; text-decoration-color: #000000; background-color: #ffffff\">┏━━━━━━━━━━━━┳━━━━━━━━━━━━┳━━━━━━━┳━━━━━━━━━━━━┳━━━━━━━━━┳━━━━━━━━━━━━━━┳━━━━━━━━━━━┓</span>\n",
       "<span style=\"color: #000000; text-decoration-color: #000000; background-color: #ffffff\">┃ Prediction ┃ Real Price ┃ Error ┃ Percentage ┃  model  ┃ transmission ┃ fuel_type ┃</span>\n",
       "<span style=\"color: #000000; text-decoration-color: #000000; background-color: #ffffff\">┡━━━━━━━━━━━━╇━━━━━━━━━━━━╇━━━━━━━╇━━━━━━━━━━━━╇━━━━━━━━━╇━━━━━━━━━━━━━━╇━━━━━━━━━━━┩</span>\n",
       "<span style=\"color: #000000; text-decoration-color: #000000; background-color: #ffffff\">│   </span><span style=\"color: #008080; text-decoration-color: #008080; background-color: #ffffff; font-weight: bold\">10451</span><span style=\"color: #000000; text-decoration-color: #000000; background-color: #ffffff\">    │   </span><span style=\"color: #008080; text-decoration-color: #008080; background-color: #ffffff; font-weight: bold\">10000</span><span style=\"color: #000000; text-decoration-color: #000000; background-color: #ffffff\">    │ </span><span style=\"color: #008080; text-decoration-color: #008080; background-color: #ffffff; font-weight: bold\">-451</span><span style=\"color: #000000; text-decoration-color: #000000; background-color: #ffffff\">  │    </span><span style=\"color: #008080; text-decoration-color: #008080; background-color: #ffffff; font-weight: bold\">-5</span><span style=\"color: #000000; text-decoration-color: #000000; background-color: #ffffff\"> %    │  Astra  │  Semi-Auto   │  Petrol   │</span>\n",
       "<span style=\"color: #000000; text-decoration-color: #000000; background-color: #ffffff\">│   </span><span style=\"color: #008080; text-decoration-color: #008080; background-color: #ffffff; font-weight: bold\">13763</span><span style=\"color: #000000; text-decoration-color: #000000; background-color: #ffffff\">    │   </span><span style=\"color: #008080; text-decoration-color: #008080; background-color: #ffffff; font-weight: bold\">13481</span><span style=\"color: #000000; text-decoration-color: #000000; background-color: #ffffff\">    │ </span><span style=\"color: #008080; text-decoration-color: #008080; background-color: #ffffff; font-weight: bold\">-282</span><span style=\"color: #000000; text-decoration-color: #000000; background-color: #ffffff\">  │    </span><span style=\"color: #008080; text-decoration-color: #008080; background-color: #ffffff; font-weight: bold\">-2</span><span style=\"color: #000000; text-decoration-color: #000000; background-color: #ffffff\"> %    │  Astra  │    Manual    │  Petrol   │</span>\n",
       "<span style=\"color: #000000; text-decoration-color: #000000; background-color: #ffffff\">│    </span><span style=\"color: #008080; text-decoration-color: #008080; background-color: #ffffff; font-weight: bold\">8691</span><span style=\"color: #000000; text-decoration-color: #000000; background-color: #ffffff\">    │    </span><span style=\"color: #008080; text-decoration-color: #008080; background-color: #ffffff; font-weight: bold\">8298</span><span style=\"color: #000000; text-decoration-color: #000000; background-color: #ffffff\">    │ </span><span style=\"color: #008080; text-decoration-color: #008080; background-color: #ffffff; font-weight: bold\">-393</span><span style=\"color: #000000; text-decoration-color: #000000; background-color: #ffffff\">  │    </span><span style=\"color: #008080; text-decoration-color: #008080; background-color: #ffffff; font-weight: bold\">-5</span><span style=\"color: #000000; text-decoration-color: #000000; background-color: #ffffff\"> %    │  Mokka  │    Manual    │  Petrol   │</span>\n",
       "<span style=\"color: #000000; text-decoration-color: #000000; background-color: #ffffff\">│   </span><span style=\"color: #008080; text-decoration-color: #008080; background-color: #ffffff; font-weight: bold\">10279</span><span style=\"color: #000000; text-decoration-color: #000000; background-color: #ffffff\">    │    </span><span style=\"color: #008080; text-decoration-color: #008080; background-color: #ffffff; font-weight: bold\">8290</span><span style=\"color: #000000; text-decoration-color: #000000; background-color: #ffffff\">    │ </span><span style=\"color: #008080; text-decoration-color: #008080; background-color: #ffffff; font-weight: bold\">-1989</span><span style=\"color: #000000; text-decoration-color: #000000; background-color: #ffffff\"> │   </span><span style=\"color: #008080; text-decoration-color: #008080; background-color: #ffffff; font-weight: bold\">-24</span><span style=\"color: #000000; text-decoration-color: #000000; background-color: #ffffff\"> %    │  Astra  │    Manual    │  Petrol   │</span>\n",
       "<span style=\"color: #000000; text-decoration-color: #000000; background-color: #ffffff\">│    </span><span style=\"color: #008080; text-decoration-color: #008080; background-color: #ffffff; font-weight: bold\">7968</span><span style=\"color: #000000; text-decoration-color: #000000; background-color: #ffffff\">    │    </span><span style=\"color: #008080; text-decoration-color: #008080; background-color: #ffffff; font-weight: bold\">7994</span><span style=\"color: #000000; text-decoration-color: #000000; background-color: #ffffff\">    │  </span><span style=\"color: #008080; text-decoration-color: #008080; background-color: #ffffff; font-weight: bold\">26</span><span style=\"color: #000000; text-decoration-color: #000000; background-color: #ffffff\">   │    </span><span style=\"color: #008080; text-decoration-color: #008080; background-color: #ffffff; font-weight: bold\">0</span><span style=\"color: #000000; text-decoration-color: #000000; background-color: #ffffff\"> %     │  Corsa  │    Manual    │  Petrol   │</span>\n",
       "<span style=\"color: #000000; text-decoration-color: #000000; background-color: #ffffff\">│   </span><span style=\"color: #008080; text-decoration-color: #008080; background-color: #ffffff; font-weight: bold\">13959</span><span style=\"color: #000000; text-decoration-color: #000000; background-color: #ffffff\">    │   </span><span style=\"color: #008080; text-decoration-color: #008080; background-color: #ffffff; font-weight: bold\">12049</span><span style=\"color: #000000; text-decoration-color: #000000; background-color: #ffffff\">    │ </span><span style=\"color: #008080; text-decoration-color: #008080; background-color: #ffffff; font-weight: bold\">-1910</span><span style=\"color: #000000; text-decoration-color: #000000; background-color: #ffffff\"> │   </span><span style=\"color: #008080; text-decoration-color: #008080; background-color: #ffffff; font-weight: bold\">-16</span><span style=\"color: #000000; text-decoration-color: #000000; background-color: #ffffff\"> %    │ Mokka X │  Semi-Auto   │  Petrol   │</span>\n",
       "<span style=\"color: #000000; text-decoration-color: #000000; background-color: #ffffff\">│   </span><span style=\"color: #008080; text-decoration-color: #008080; background-color: #ffffff; font-weight: bold\">10761</span><span style=\"color: #000000; text-decoration-color: #000000; background-color: #ffffff\">    │    </span><span style=\"color: #008080; text-decoration-color: #008080; background-color: #ffffff; font-weight: bold\">9959</span><span style=\"color: #000000; text-decoration-color: #000000; background-color: #ffffff\">    │ </span><span style=\"color: #008080; text-decoration-color: #008080; background-color: #ffffff; font-weight: bold\">-802</span><span style=\"color: #000000; text-decoration-color: #000000; background-color: #ffffff\">  │    </span><span style=\"color: #008080; text-decoration-color: #008080; background-color: #ffffff; font-weight: bold\">-8</span><span style=\"color: #000000; text-decoration-color: #000000; background-color: #ffffff\"> %    │  Astra  │  Automatic   │  Diesel   │</span>\n",
       "<span style=\"color: #000000; text-decoration-color: #000000; background-color: #ffffff\">│    </span><span style=\"color: #008080; text-decoration-color: #008080; background-color: #ffffff; font-weight: bold\">8664</span><span style=\"color: #000000; text-decoration-color: #000000; background-color: #ffffff\">    │    </span><span style=\"color: #008080; text-decoration-color: #008080; background-color: #ffffff; font-weight: bold\">9135</span><span style=\"color: #000000; text-decoration-color: #000000; background-color: #ffffff\">    │  </span><span style=\"color: #008080; text-decoration-color: #008080; background-color: #ffffff; font-weight: bold\">471</span><span style=\"color: #000000; text-decoration-color: #000000; background-color: #ffffff\">  │    </span><span style=\"color: #008080; text-decoration-color: #008080; background-color: #ffffff; font-weight: bold\">5</span><span style=\"color: #000000; text-decoration-color: #000000; background-color: #ffffff\"> %     │  Corsa  │    Manual    │  Petrol   │</span>\n",
       "<span style=\"color: #000000; text-decoration-color: #000000; background-color: #ffffff\">│   </span><span style=\"color: #008080; text-decoration-color: #008080; background-color: #ffffff; font-weight: bold\">12697</span><span style=\"color: #000000; text-decoration-color: #000000; background-color: #ffffff\">    │   </span><span style=\"color: #008080; text-decoration-color: #008080; background-color: #ffffff; font-weight: bold\">12999</span><span style=\"color: #000000; text-decoration-color: #000000; background-color: #ffffff\">    │  </span><span style=\"color: #008080; text-decoration-color: #008080; background-color: #ffffff; font-weight: bold\">302</span><span style=\"color: #000000; text-decoration-color: #000000; background-color: #ffffff\">  │    </span><span style=\"color: #008080; text-decoration-color: #008080; background-color: #ffffff; font-weight: bold\">2</span><span style=\"color: #000000; text-decoration-color: #000000; background-color: #ffffff\"> %     │  Mokka  │    Manual    │  Petrol   │</span>\n",
       "<span style=\"color: #000000; text-decoration-color: #000000; background-color: #ffffff\">│   </span><span style=\"color: #008080; text-decoration-color: #008080; background-color: #ffffff; font-weight: bold\">11474</span><span style=\"color: #000000; text-decoration-color: #000000; background-color: #ffffff\">    │   </span><span style=\"color: #008080; text-decoration-color: #008080; background-color: #ffffff; font-weight: bold\">10195</span><span style=\"color: #000000; text-decoration-color: #000000; background-color: #ffffff\">    │ </span><span style=\"color: #008080; text-decoration-color: #008080; background-color: #ffffff; font-weight: bold\">-1279</span><span style=\"color: #000000; text-decoration-color: #000000; background-color: #ffffff\"> │   </span><span style=\"color: #008080; text-decoration-color: #008080; background-color: #ffffff; font-weight: bold\">-13</span><span style=\"color: #000000; text-decoration-color: #000000; background-color: #ffffff\"> %    │ Mokka X │    Manual    │  Petrol   │</span>\n",
       "<span style=\"color: #000000; text-decoration-color: #000000; background-color: #ffffff\">└────────────┴────────────┴───────┴────────────┴─────────┴──────────────┴───────────┘</span>\n",
       "</pre>\n"
      ],
      "text/plain": [
       "\u001b[3;30;107mPrediction results                                                                   \u001b[0m\n",
       "\u001b[30;107m┏━━━━━━━━━━━━┳━━━━━━━━━━━━┳━━━━━━━┳━━━━━━━━━━━━┳━━━━━━━━━┳━━━━━━━━━━━━━━┳━━━━━━━━━━━┓\u001b[0m\n",
       "\u001b[30;107m┃\u001b[0m\u001b[30;107m \u001b[0m\u001b[30;107mPrediction\u001b[0m\u001b[30;107m \u001b[0m\u001b[30;107m┃\u001b[0m\u001b[30;107m \u001b[0m\u001b[30;107mReal Price\u001b[0m\u001b[30;107m \u001b[0m\u001b[30;107m┃\u001b[0m\u001b[30;107m \u001b[0m\u001b[30;107mError\u001b[0m\u001b[30;107m \u001b[0m\u001b[30;107m┃\u001b[0m\u001b[30;107m \u001b[0m\u001b[30;107mPercentage\u001b[0m\u001b[30;107m \u001b[0m\u001b[30;107m┃\u001b[0m\u001b[30;107m \u001b[0m\u001b[30;107m model \u001b[0m\u001b[30;107m \u001b[0m\u001b[30;107m┃\u001b[0m\u001b[30;107m \u001b[0m\u001b[30;107mtransmission\u001b[0m\u001b[30;107m \u001b[0m\u001b[30;107m┃\u001b[0m\u001b[30;107m \u001b[0m\u001b[30;107mfuel_type\u001b[0m\u001b[30;107m \u001b[0m\u001b[30;107m┃\u001b[0m\n",
       "\u001b[30;107m┡━━━━━━━━━━━━╇━━━━━━━━━━━━╇━━━━━━━╇━━━━━━━━━━━━╇━━━━━━━━━╇━━━━━━━━━━━━━━╇━━━━━━━━━━━┩\u001b[0m\n",
       "\u001b[30;107m│\u001b[0m\u001b[30;107m \u001b[0m\u001b[30;107m  \u001b[0m\u001b[1;36;107m10451\u001b[0m\u001b[30;107m   \u001b[0m\u001b[30;107m \u001b[0m\u001b[30;107m│\u001b[0m\u001b[30;107m \u001b[0m\u001b[30;107m  \u001b[0m\u001b[1;36;107m10000\u001b[0m\u001b[30;107m   \u001b[0m\u001b[30;107m \u001b[0m\u001b[30;107m│\u001b[0m\u001b[30;107m \u001b[0m\u001b[1;36;107m-451\u001b[0m\u001b[30;107m \u001b[0m\u001b[30;107m \u001b[0m\u001b[30;107m│\u001b[0m\u001b[30;107m \u001b[0m\u001b[30;107m   \u001b[0m\u001b[1;36;107m-5\u001b[0m\u001b[30;107m %   \u001b[0m\u001b[30;107m \u001b[0m\u001b[30;107m│\u001b[0m\u001b[30;107m \u001b[0m\u001b[30;107m Astra \u001b[0m\u001b[30;107m \u001b[0m\u001b[30;107m│\u001b[0m\u001b[30;107m \u001b[0m\u001b[30;107m Semi-Auto  \u001b[0m\u001b[30;107m \u001b[0m\u001b[30;107m│\u001b[0m\u001b[30;107m \u001b[0m\u001b[30;107m Petrol  \u001b[0m\u001b[30;107m \u001b[0m\u001b[30;107m│\u001b[0m\n",
       "\u001b[30;107m│\u001b[0m\u001b[30;107m \u001b[0m\u001b[30;107m  \u001b[0m\u001b[1;36;107m13763\u001b[0m\u001b[30;107m   \u001b[0m\u001b[30;107m \u001b[0m\u001b[30;107m│\u001b[0m\u001b[30;107m \u001b[0m\u001b[30;107m  \u001b[0m\u001b[1;36;107m13481\u001b[0m\u001b[30;107m   \u001b[0m\u001b[30;107m \u001b[0m\u001b[30;107m│\u001b[0m\u001b[30;107m \u001b[0m\u001b[1;36;107m-282\u001b[0m\u001b[30;107m \u001b[0m\u001b[30;107m \u001b[0m\u001b[30;107m│\u001b[0m\u001b[30;107m \u001b[0m\u001b[30;107m   \u001b[0m\u001b[1;36;107m-2\u001b[0m\u001b[30;107m %   \u001b[0m\u001b[30;107m \u001b[0m\u001b[30;107m│\u001b[0m\u001b[30;107m \u001b[0m\u001b[30;107m Astra \u001b[0m\u001b[30;107m \u001b[0m\u001b[30;107m│\u001b[0m\u001b[30;107m \u001b[0m\u001b[30;107m   Manual   \u001b[0m\u001b[30;107m \u001b[0m\u001b[30;107m│\u001b[0m\u001b[30;107m \u001b[0m\u001b[30;107m Petrol  \u001b[0m\u001b[30;107m \u001b[0m\u001b[30;107m│\u001b[0m\n",
       "\u001b[30;107m│\u001b[0m\u001b[30;107m \u001b[0m\u001b[30;107m   \u001b[0m\u001b[1;36;107m8691\u001b[0m\u001b[30;107m   \u001b[0m\u001b[30;107m \u001b[0m\u001b[30;107m│\u001b[0m\u001b[30;107m \u001b[0m\u001b[30;107m   \u001b[0m\u001b[1;36;107m8298\u001b[0m\u001b[30;107m   \u001b[0m\u001b[30;107m \u001b[0m\u001b[30;107m│\u001b[0m\u001b[30;107m \u001b[0m\u001b[1;36;107m-393\u001b[0m\u001b[30;107m \u001b[0m\u001b[30;107m \u001b[0m\u001b[30;107m│\u001b[0m\u001b[30;107m \u001b[0m\u001b[30;107m   \u001b[0m\u001b[1;36;107m-5\u001b[0m\u001b[30;107m %   \u001b[0m\u001b[30;107m \u001b[0m\u001b[30;107m│\u001b[0m\u001b[30;107m \u001b[0m\u001b[30;107m Mokka \u001b[0m\u001b[30;107m \u001b[0m\u001b[30;107m│\u001b[0m\u001b[30;107m \u001b[0m\u001b[30;107m   Manual   \u001b[0m\u001b[30;107m \u001b[0m\u001b[30;107m│\u001b[0m\u001b[30;107m \u001b[0m\u001b[30;107m Petrol  \u001b[0m\u001b[30;107m \u001b[0m\u001b[30;107m│\u001b[0m\n",
       "\u001b[30;107m│\u001b[0m\u001b[30;107m \u001b[0m\u001b[30;107m  \u001b[0m\u001b[1;36;107m10279\u001b[0m\u001b[30;107m   \u001b[0m\u001b[30;107m \u001b[0m\u001b[30;107m│\u001b[0m\u001b[30;107m \u001b[0m\u001b[30;107m   \u001b[0m\u001b[1;36;107m8290\u001b[0m\u001b[30;107m   \u001b[0m\u001b[30;107m \u001b[0m\u001b[30;107m│\u001b[0m\u001b[30;107m \u001b[0m\u001b[1;36;107m-1989\u001b[0m\u001b[30;107m \u001b[0m\u001b[30;107m│\u001b[0m\u001b[30;107m \u001b[0m\u001b[30;107m  \u001b[0m\u001b[1;36;107m-24\u001b[0m\u001b[30;107m %   \u001b[0m\u001b[30;107m \u001b[0m\u001b[30;107m│\u001b[0m\u001b[30;107m \u001b[0m\u001b[30;107m Astra \u001b[0m\u001b[30;107m \u001b[0m\u001b[30;107m│\u001b[0m\u001b[30;107m \u001b[0m\u001b[30;107m   Manual   \u001b[0m\u001b[30;107m \u001b[0m\u001b[30;107m│\u001b[0m\u001b[30;107m \u001b[0m\u001b[30;107m Petrol  \u001b[0m\u001b[30;107m \u001b[0m\u001b[30;107m│\u001b[0m\n",
       "\u001b[30;107m│\u001b[0m\u001b[30;107m \u001b[0m\u001b[30;107m   \u001b[0m\u001b[1;36;107m7968\u001b[0m\u001b[30;107m   \u001b[0m\u001b[30;107m \u001b[0m\u001b[30;107m│\u001b[0m\u001b[30;107m \u001b[0m\u001b[30;107m   \u001b[0m\u001b[1;36;107m7994\u001b[0m\u001b[30;107m   \u001b[0m\u001b[30;107m \u001b[0m\u001b[30;107m│\u001b[0m\u001b[30;107m \u001b[0m\u001b[30;107m \u001b[0m\u001b[1;36;107m26\u001b[0m\u001b[30;107m  \u001b[0m\u001b[30;107m \u001b[0m\u001b[30;107m│\u001b[0m\u001b[30;107m \u001b[0m\u001b[30;107m   \u001b[0m\u001b[1;36;107m0\u001b[0m\u001b[30;107m %    \u001b[0m\u001b[30;107m \u001b[0m\u001b[30;107m│\u001b[0m\u001b[30;107m \u001b[0m\u001b[30;107m Corsa \u001b[0m\u001b[30;107m \u001b[0m\u001b[30;107m│\u001b[0m\u001b[30;107m \u001b[0m\u001b[30;107m   Manual   \u001b[0m\u001b[30;107m \u001b[0m\u001b[30;107m│\u001b[0m\u001b[30;107m \u001b[0m\u001b[30;107m Petrol  \u001b[0m\u001b[30;107m \u001b[0m\u001b[30;107m│\u001b[0m\n",
       "\u001b[30;107m│\u001b[0m\u001b[30;107m \u001b[0m\u001b[30;107m  \u001b[0m\u001b[1;36;107m13959\u001b[0m\u001b[30;107m   \u001b[0m\u001b[30;107m \u001b[0m\u001b[30;107m│\u001b[0m\u001b[30;107m \u001b[0m\u001b[30;107m  \u001b[0m\u001b[1;36;107m12049\u001b[0m\u001b[30;107m   \u001b[0m\u001b[30;107m \u001b[0m\u001b[30;107m│\u001b[0m\u001b[30;107m \u001b[0m\u001b[1;36;107m-1910\u001b[0m\u001b[30;107m \u001b[0m\u001b[30;107m│\u001b[0m\u001b[30;107m \u001b[0m\u001b[30;107m  \u001b[0m\u001b[1;36;107m-16\u001b[0m\u001b[30;107m %   \u001b[0m\u001b[30;107m \u001b[0m\u001b[30;107m│\u001b[0m\u001b[30;107m \u001b[0m\u001b[30;107mMokka X\u001b[0m\u001b[30;107m \u001b[0m\u001b[30;107m│\u001b[0m\u001b[30;107m \u001b[0m\u001b[30;107m Semi-Auto  \u001b[0m\u001b[30;107m \u001b[0m\u001b[30;107m│\u001b[0m\u001b[30;107m \u001b[0m\u001b[30;107m Petrol  \u001b[0m\u001b[30;107m \u001b[0m\u001b[30;107m│\u001b[0m\n",
       "\u001b[30;107m│\u001b[0m\u001b[30;107m \u001b[0m\u001b[30;107m  \u001b[0m\u001b[1;36;107m10761\u001b[0m\u001b[30;107m   \u001b[0m\u001b[30;107m \u001b[0m\u001b[30;107m│\u001b[0m\u001b[30;107m \u001b[0m\u001b[30;107m   \u001b[0m\u001b[1;36;107m9959\u001b[0m\u001b[30;107m   \u001b[0m\u001b[30;107m \u001b[0m\u001b[30;107m│\u001b[0m\u001b[30;107m \u001b[0m\u001b[1;36;107m-802\u001b[0m\u001b[30;107m \u001b[0m\u001b[30;107m \u001b[0m\u001b[30;107m│\u001b[0m\u001b[30;107m \u001b[0m\u001b[30;107m   \u001b[0m\u001b[1;36;107m-8\u001b[0m\u001b[30;107m %   \u001b[0m\u001b[30;107m \u001b[0m\u001b[30;107m│\u001b[0m\u001b[30;107m \u001b[0m\u001b[30;107m Astra \u001b[0m\u001b[30;107m \u001b[0m\u001b[30;107m│\u001b[0m\u001b[30;107m \u001b[0m\u001b[30;107m Automatic  \u001b[0m\u001b[30;107m \u001b[0m\u001b[30;107m│\u001b[0m\u001b[30;107m \u001b[0m\u001b[30;107m Diesel  \u001b[0m\u001b[30;107m \u001b[0m\u001b[30;107m│\u001b[0m\n",
       "\u001b[30;107m│\u001b[0m\u001b[30;107m \u001b[0m\u001b[30;107m   \u001b[0m\u001b[1;36;107m8664\u001b[0m\u001b[30;107m   \u001b[0m\u001b[30;107m \u001b[0m\u001b[30;107m│\u001b[0m\u001b[30;107m \u001b[0m\u001b[30;107m   \u001b[0m\u001b[1;36;107m9135\u001b[0m\u001b[30;107m   \u001b[0m\u001b[30;107m \u001b[0m\u001b[30;107m│\u001b[0m\u001b[30;107m \u001b[0m\u001b[30;107m \u001b[0m\u001b[1;36;107m471\u001b[0m\u001b[30;107m \u001b[0m\u001b[30;107m \u001b[0m\u001b[30;107m│\u001b[0m\u001b[30;107m \u001b[0m\u001b[30;107m   \u001b[0m\u001b[1;36;107m5\u001b[0m\u001b[30;107m %    \u001b[0m\u001b[30;107m \u001b[0m\u001b[30;107m│\u001b[0m\u001b[30;107m \u001b[0m\u001b[30;107m Corsa \u001b[0m\u001b[30;107m \u001b[0m\u001b[30;107m│\u001b[0m\u001b[30;107m \u001b[0m\u001b[30;107m   Manual   \u001b[0m\u001b[30;107m \u001b[0m\u001b[30;107m│\u001b[0m\u001b[30;107m \u001b[0m\u001b[30;107m Petrol  \u001b[0m\u001b[30;107m \u001b[0m\u001b[30;107m│\u001b[0m\n",
       "\u001b[30;107m│\u001b[0m\u001b[30;107m \u001b[0m\u001b[30;107m  \u001b[0m\u001b[1;36;107m12697\u001b[0m\u001b[30;107m   \u001b[0m\u001b[30;107m \u001b[0m\u001b[30;107m│\u001b[0m\u001b[30;107m \u001b[0m\u001b[30;107m  \u001b[0m\u001b[1;36;107m12999\u001b[0m\u001b[30;107m   \u001b[0m\u001b[30;107m \u001b[0m\u001b[30;107m│\u001b[0m\u001b[30;107m \u001b[0m\u001b[30;107m \u001b[0m\u001b[1;36;107m302\u001b[0m\u001b[30;107m \u001b[0m\u001b[30;107m \u001b[0m\u001b[30;107m│\u001b[0m\u001b[30;107m \u001b[0m\u001b[30;107m   \u001b[0m\u001b[1;36;107m2\u001b[0m\u001b[30;107m %    \u001b[0m\u001b[30;107m \u001b[0m\u001b[30;107m│\u001b[0m\u001b[30;107m \u001b[0m\u001b[30;107m Mokka \u001b[0m\u001b[30;107m \u001b[0m\u001b[30;107m│\u001b[0m\u001b[30;107m \u001b[0m\u001b[30;107m   Manual   \u001b[0m\u001b[30;107m \u001b[0m\u001b[30;107m│\u001b[0m\u001b[30;107m \u001b[0m\u001b[30;107m Petrol  \u001b[0m\u001b[30;107m \u001b[0m\u001b[30;107m│\u001b[0m\n",
       "\u001b[30;107m│\u001b[0m\u001b[30;107m \u001b[0m\u001b[30;107m  \u001b[0m\u001b[1;36;107m11474\u001b[0m\u001b[30;107m   \u001b[0m\u001b[30;107m \u001b[0m\u001b[30;107m│\u001b[0m\u001b[30;107m \u001b[0m\u001b[30;107m  \u001b[0m\u001b[1;36;107m10195\u001b[0m\u001b[30;107m   \u001b[0m\u001b[30;107m \u001b[0m\u001b[30;107m│\u001b[0m\u001b[30;107m \u001b[0m\u001b[1;36;107m-1279\u001b[0m\u001b[30;107m \u001b[0m\u001b[30;107m│\u001b[0m\u001b[30;107m \u001b[0m\u001b[30;107m  \u001b[0m\u001b[1;36;107m-13\u001b[0m\u001b[30;107m %   \u001b[0m\u001b[30;107m \u001b[0m\u001b[30;107m│\u001b[0m\u001b[30;107m \u001b[0m\u001b[30;107mMokka X\u001b[0m\u001b[30;107m \u001b[0m\u001b[30;107m│\u001b[0m\u001b[30;107m \u001b[0m\u001b[30;107m   Manual   \u001b[0m\u001b[30;107m \u001b[0m\u001b[30;107m│\u001b[0m\u001b[30;107m \u001b[0m\u001b[30;107m Petrol  \u001b[0m\u001b[30;107m \u001b[0m\u001b[30;107m│\u001b[0m\n",
       "\u001b[30;107m└────────────┴────────────┴───────┴────────────┴─────────┴──────────────┴───────────┘\u001b[0m\n"
      ]
     },
     "metadata": {},
     "output_type": "display_data"
    }
   ],
   "source": [
    "brand = 'opel'\n",
    "model_name = 'opel_perm-estimator_707'\n",
    "model_filename = f'{model_name}.joblib'\n",
    "model_path = join(cnst.MODEL_DIR_PATH, model_filename)\n",
    "model = load(model_path)\n",
    "filename = f\"{brand}.csv\"\n",
    "df = load_prepared_file(filename=filename)\n",
    "X_train, X_val, X_test, y_train, y_val, y_test = get_set_split(df, target='price')\n",
    "evaluate_prediction(model, X_test, y_test,sample=10,add_columns=['model','transmission','fuel_type'])"
   ]
  },
  {
   "cell_type": "markdown",
   "id": "219d55d5",
   "metadata": {
    "slideshow": {
     "slide_type": "subslide"
    }
   },
   "source": [
    "#### Courbe d'apprentissage"
   ]
  },
  {
   "cell_type": "code",
   "execution_count": null,
   "id": "5eb3de33",
   "metadata": {
    "scrolled": true,
    "slideshow": {
     "slide_type": "subslide"
    }
   },
   "outputs": [],
   "source": [
    "\n",
    "from sklearn.model_selection import StratifiedKFold\n",
    "mse = make_scorer(mean_squared_error, greater_is_better=False)\n",
    "skf = StratifiedKFold(n_splits=5,random_state=1, shuffle=True)\n",
    "plot_learning_curve(model, 'opel', X_train, y_train, axes=None, ylim=None, cv=sk,\n",
    "                        n_jobs=2, train_sizes=np.linspace(.1, 1.0, 10), show=True,savefig=False)"
   ]
  },
  {
   "cell_type": "markdown",
   "id": "b5b1d542",
   "metadata": {
    "slideshow": {
     "slide_type": "subslide"
    }
   },
   "source": [
    "Le premier graphique montre les courbes d'apprentissage pour l'entraînement et la validation.\n",
    "\n",
    "Le deuxième graphique montre la durée d'entraînement du modèle relativement à la taille des données d'entraînement. \n",
    "\n",
    "Le troisième graphique montre les scores obtenus relativement au temps d'entraînement du modèle."
   ]
  },
  {
   "cell_type": "markdown",
   "id": "836ed3d8",
   "metadata": {},
   "source": [
    "#### Nombre de variables"
   ]
  },
  {
   "cell_type": "code",
   "execution_count": 97,
   "id": "2ec4b8f3",
   "metadata": {},
   "outputs": [
    {
     "name": "stdout",
     "output_type": "stream",
     "text": [
      "Le model RandomForestRegressor(max_depth=50, max_features=None, min_samples_split=6,\n",
      "                      n_estimators=10, n_jobs=-1, verbose=False) a 131 variables\n"
     ]
    }
   ],
   "source": [
    "rfr = model[2]\n",
    "print(f\"Le model {rfr} a {rfr.n_features_in_} variables\")"
   ]
  },
  {
   "cell_type": "markdown",
   "id": "b8333e7e",
   "metadata": {
    "slideshow": {
     "slide_type": "slide"
    }
   },
   "source": [
    "### Toutes marques\n",
    "\n",
    "1. fusion des données en une seule source de données"
   ]
  },
  {
   "cell_type": "code",
   "execution_count": 62,
   "id": "87ba18dc",
   "metadata": {
    "scrolled": false,
    "slideshow": {
     "slide_type": "subslide"
    }
   },
   "outputs": [
    {
     "name": "stdout",
     "output_type": "stream",
     "text": [
      "Loading all_brands.joblib\n"
     ]
    },
    {
     "data": {
      "text/html": [
       "<pre style=\"white-space:pre;overflow-x:auto;line-height:normal;font-family:Menlo,'DejaVu Sans Mono',consolas,'Courier New',monospace\"><span style=\"color: #000000; text-decoration-color: #000000; background-color: #ffffff; font-weight: bold\">PERFORMANCE COMPARISON</span> <span style=\"color: #000000; text-decoration-color: #000000; background-color: #ffffff\">──────────────────────────────────────────────────────────────────────</span>\n",
       "</pre>\n"
      ],
      "text/plain": [
       "\u001b[1;52;30;107mPERFORMANCE COMPARISON\u001b[0m \u001b[30;107m──────────────────────────────────────────────────────────────────────\u001b[0m\n"
      ]
     },
     "metadata": {},
     "output_type": "display_data"
    },
    {
     "data": {
      "text/html": [
       "<pre style=\"white-space:pre;overflow-x:auto;line-height:normal;font-family:Menlo,'DejaVu Sans Mono',consolas,'Courier New',monospace\"><span style=\"color: #000000; text-decoration-color: #000000; background-color: #ffffff; font-style: italic\">One model by Brand                                                          </span>\n",
       "<span style=\"color: #000000; text-decoration-color: #000000; background-color: #ffffff\">┏━━━━━━━━━━━━━━━━━━━━━━┳━━━━━━┳━━━━━━━━━┳━━━━━━━━━━━━━━━━━━━━━┳━━━━━━━━━━━━┓</span>\n",
       "<span style=\"color: #000000; text-decoration-color: #000000; background-color: #ffffff\">┃        Brand         ┃ RMSE ┃   R2    ┃ Absolute Mean Error ┃ Model path ┃</span>\n",
       "<span style=\"color: #000000; text-decoration-color: #000000; background-color: #ffffff\">┡━━━━━━━━━━━━━━━━━━━━━━╇━━━━━━╇━━━━━━━━━╇━━━━━━━━━━━━━━━━━━━━━╇━━━━━━━━━━━━┩</span>\n",
       "<span style=\"color: #000000; text-decoration-color: #000000; background-color: #ffffff\">│ Merged Brand Dataset │ </span><span style=\"color: #008080; text-decoration-color: #008080; background-color: #ffffff; font-weight: bold\">2442</span><span style=\"color: #000000; text-decoration-color: #000000; background-color: #ffffff\"> │ </span><span style=\"color: #008080; text-decoration-color: #008080; background-color: #ffffff; font-weight: bold\">-2.8677</span><span style=\"color: #000000; text-decoration-color: #000000; background-color: #ffffff\"> │        </span><span style=\"color: #008080; text-decoration-color: #008080; background-color: #ffffff; font-weight: bold\">1220</span><span style=\"color: #000000; text-decoration-color: #000000; background-color: #ffffff\">         │ all_brands │</span>\n",
       "<span style=\"color: #000000; text-decoration-color: #000000; background-color: #ffffff\">└──────────────────────┴──────┴─────────┴─────────────────────┴────────────┘</span>\n",
       "</pre>\n"
      ],
      "text/plain": [
       "\u001b[3;30;107mOne model by Brand                                                          \u001b[0m\n",
       "\u001b[30;107m┏━━━━━━━━━━━━━━━━━━━━━━┳━━━━━━┳━━━━━━━━━┳━━━━━━━━━━━━━━━━━━━━━┳━━━━━━━━━━━━┓\u001b[0m\n",
       "\u001b[30;107m┃\u001b[0m\u001b[30;107m \u001b[0m\u001b[30;107m       Brand        \u001b[0m\u001b[30;107m \u001b[0m\u001b[30;107m┃\u001b[0m\u001b[30;107m \u001b[0m\u001b[30;107mRMSE\u001b[0m\u001b[30;107m \u001b[0m\u001b[30;107m┃\u001b[0m\u001b[30;107m \u001b[0m\u001b[30;107m  R2   \u001b[0m\u001b[30;107m \u001b[0m\u001b[30;107m┃\u001b[0m\u001b[30;107m \u001b[0m\u001b[30;107mAbsolute Mean Error\u001b[0m\u001b[30;107m \u001b[0m\u001b[30;107m┃\u001b[0m\u001b[30;107m \u001b[0m\u001b[30;107mModel path\u001b[0m\u001b[30;107m \u001b[0m\u001b[30;107m┃\u001b[0m\n",
       "\u001b[30;107m┡━━━━━━━━━━━━━━━━━━━━━━╇━━━━━━╇━━━━━━━━━╇━━━━━━━━━━━━━━━━━━━━━╇━━━━━━━━━━━━┩\u001b[0m\n",
       "\u001b[30;107m│\u001b[0m\u001b[30;107m \u001b[0m\u001b[30;107mMerged Brand Dataset\u001b[0m\u001b[30;107m \u001b[0m\u001b[30;107m│\u001b[0m\u001b[30;107m \u001b[0m\u001b[1;36;107m2442\u001b[0m\u001b[30;107m \u001b[0m\u001b[30;107m│\u001b[0m\u001b[30;107m \u001b[0m\u001b[1;36;107m-2.8677\u001b[0m\u001b[30;107m \u001b[0m\u001b[30;107m│\u001b[0m\u001b[30;107m \u001b[0m\u001b[30;107m       \u001b[0m\u001b[1;36;107m1220\u001b[0m\u001b[30;107m        \u001b[0m\u001b[30;107m \u001b[0m\u001b[30;107m│\u001b[0m\u001b[30;107m \u001b[0m\u001b[30;107mall_brands\u001b[0m\u001b[30;107m \u001b[0m\u001b[30;107m│\u001b[0m\n",
       "\u001b[30;107m└──────────────────────┴──────┴─────────┴─────────────────────┴────────────┘\u001b[0m\n"
      ]
     },
     "metadata": {},
     "output_type": "display_data"
    }
   ],
   "source": [
    "bmmd.evaluate_model(model_filename='all_brands.joblib', data_filename='all_brands.csv',verbose=False)"
   ]
  },
  {
   "cell_type": "code",
   "execution_count": 14,
   "id": "608c2ab0",
   "metadata": {
    "slideshow": {
     "slide_type": "skip"
    }
   },
   "outputs": [
    {
     "name": "stdout",
     "output_type": "stream",
     "text": [
      "Loading all_brands.joblib\n",
      "Model all_brands_estimator_optimized_rmse_2096 saved @ ./model/all_brands_estimator_optimized_rmse_2096.joblib\n"
     ]
    }
   ],
   "source": [
    "bmmd.get_best_estimator(model_filename='all_brands.joblib', data_filename='all_brands.csv',verbose=False)"
   ]
  },
  {
   "cell_type": "code",
   "execution_count": 63,
   "id": "a6fa5331",
   "metadata": {
    "slideshow": {
     "slide_type": "subslide"
    }
   },
   "outputs": [
    {
     "name": "stdout",
     "output_type": "stream",
     "text": [
      "Loading all_brands_estimator_optimized_rmse_2096.joblib\n"
     ]
    },
    {
     "data": {
      "text/html": [
       "<pre style=\"white-space:pre;overflow-x:auto;line-height:normal;font-family:Menlo,'DejaVu Sans Mono',consolas,'Courier New',monospace\"><span style=\"color: #000000; text-decoration-color: #000000; background-color: #ffffff; font-weight: bold\">PERFORMANCE COMPARISON</span> <span style=\"color: #000000; text-decoration-color: #000000; background-color: #ffffff\">──────────────────────────────────────────────────────────────────────</span>\n",
       "</pre>\n"
      ],
      "text/plain": [
       "\u001b[1;52;30;107mPERFORMANCE COMPARISON\u001b[0m \u001b[30;107m──────────────────────────────────────────────────────────────────────\u001b[0m\n"
      ]
     },
     "metadata": {},
     "output_type": "display_data"
    },
    {
     "data": {
      "text/html": [
       "<pre style=\"white-space:pre;overflow-x:auto;line-height:normal;font-family:Menlo,'DejaVu Sans Mono',consolas,'Courier New',monospace\"><span style=\"color: #000000; text-decoration-color: #000000; background-color: #ffffff; font-style: italic\">One model by Brand                                                                           </span>\n",
       "<span style=\"color: #000000; text-decoration-color: #000000; background-color: #ffffff\">┏━━━━━━━━━━━━━━━━━━━┳━━━━┳━━━━━━┳━━━━━━━━━━━━━━━━━━━┳━━━━━━━━━━━━━━━━━━━━━━━━━━━━━━━━━━━━━━━┓</span>\n",
       "<span style=\"color: #000000; text-decoration-color: #000000; background-color: #ffffff\">┃       Brand       ┃ R… ┃  R2  ┃ Absolute Mean Er… ┃              Model path               ┃</span>\n",
       "<span style=\"color: #000000; text-decoration-color: #000000; background-color: #ffffff\">┡━━━━━━━━━━━━━━━━━━━╇━━━━╇━━━━━━╇━━━━━━━━━━━━━━━━━━━╇━━━━━━━━━━━━━━━━━━━━━━━━━━━━━━━━━━━━━━━┩</span>\n",
       "<span style=\"color: #000000; text-decoration-color: #000000; background-color: #ffffff\">│ Merged Brand Dat… │ </span><span style=\"color: #008080; text-decoration-color: #008080; background-color: #ffffff; font-weight: bold\">2…</span><span style=\"color: #000000; text-decoration-color: #000000; background-color: #ffffff\"> │ </span><span style=\"color: #008080; text-decoration-color: #008080; background-color: #ffffff; font-weight: bold\">-2.…</span><span style=\"color: #000000; text-decoration-color: #000000; background-color: #ffffff\"> │        </span><span style=\"color: #008080; text-decoration-color: #008080; background-color: #ffffff; font-weight: bold\">960</span><span style=\"color: #000000; text-decoration-color: #000000; background-color: #ffffff\">        │ all_brands_estimator_optimized_rmse_… │</span>\n",
       "<span style=\"color: #000000; text-decoration-color: #000000; background-color: #ffffff\">└───────────────────┴────┴──────┴───────────────────┴───────────────────────────────────────┘</span>\n",
       "</pre>\n"
      ],
      "text/plain": [
       "\u001b[3;30;107mOne model by Brand                                                                           \u001b[0m\n",
       "\u001b[30;107m┏━━━━━━━━━━━━━━━━━━━┳━━━━┳━━━━━━┳━━━━━━━━━━━━━━━━━━━┳━━━━━━━━━━━━━━━━━━━━━━━━━━━━━━━━━━━━━━━┓\u001b[0m\n",
       "\u001b[30;107m┃\u001b[0m\u001b[30;107m \u001b[0m\u001b[30;107m      Brand      \u001b[0m\u001b[30;107m \u001b[0m\u001b[30;107m┃\u001b[0m\u001b[30;107m \u001b[0m\u001b[30;107mR…\u001b[0m\u001b[30;107m \u001b[0m\u001b[30;107m┃\u001b[0m\u001b[30;107m \u001b[0m\u001b[30;107m R2 \u001b[0m\u001b[30;107m \u001b[0m\u001b[30;107m┃\u001b[0m\u001b[30;107m \u001b[0m\u001b[30;107mAbsolute Mean Er…\u001b[0m\u001b[30;107m \u001b[0m\u001b[30;107m┃\u001b[0m\u001b[30;107m \u001b[0m\u001b[30;107m             Model path              \u001b[0m\u001b[30;107m \u001b[0m\u001b[30;107m┃\u001b[0m\n",
       "\u001b[30;107m┡━━━━━━━━━━━━━━━━━━━╇━━━━╇━━━━━━╇━━━━━━━━━━━━━━━━━━━╇━━━━━━━━━━━━━━━━━━━━━━━━━━━━━━━━━━━━━━━┩\u001b[0m\n",
       "\u001b[30;107m│\u001b[0m\u001b[30;107m \u001b[0m\u001b[30;107mMerged Brand Dat…\u001b[0m\u001b[30;107m \u001b[0m\u001b[30;107m│\u001b[0m\u001b[30;107m \u001b[0m\u001b[1;36;107m2…\u001b[0m\u001b[30;107m \u001b[0m\u001b[30;107m│\u001b[0m\u001b[30;107m \u001b[0m\u001b[1;36;107m-2.…\u001b[0m\u001b[30;107m \u001b[0m\u001b[30;107m│\u001b[0m\u001b[30;107m \u001b[0m\u001b[30;107m       \u001b[0m\u001b[1;36;107m960\u001b[0m\u001b[30;107m       \u001b[0m\u001b[30;107m \u001b[0m\u001b[30;107m│\u001b[0m\u001b[30;107m \u001b[0m\u001b[30;107mall_brands_estimator_optimized_rmse_…\u001b[0m\u001b[30;107m \u001b[0m\u001b[30;107m│\u001b[0m\n",
       "\u001b[30;107m└───────────────────┴────┴──────┴───────────────────┴───────────────────────────────────────┘\u001b[0m\n"
      ]
     },
     "metadata": {},
     "output_type": "display_data"
    }
   ],
   "source": [
    "bmmd.evaluate_model(model_filename='all_brands_estimator_optimized_rmse_2096.joblib',data_filename='all_brands.csv',verbose=False)"
   ]
  },
  {
   "cell_type": "code",
   "execution_count": 84,
   "id": "0e517595",
   "metadata": {
    "slideshow": {
     "slide_type": "subslide"
    }
   },
   "outputs": [
    {
     "name": "stdout",
     "output_type": "stream",
     "text": [
      "Loading all_brands.joblib\n",
      "RMSE: 3398.386598062283\n"
     ]
    },
    {
     "data": {
      "text/html": [
       "<pre style=\"white-space:pre;overflow-x:auto;line-height:normal;font-family:Menlo,'DejaVu Sans Mono',consolas,'Courier New',monospace\"><span style=\"color: #000000; text-decoration-color: #000000; background-color: #ffffff; font-weight: bold\">MODEL PREDICTION TESTING</span> <span style=\"color: #000000; text-decoration-color: #000000; background-color: #ffffff\">────────────────────────────────────────────────────────────────────</span>\n",
       "</pre>\n"
      ],
      "text/plain": [
       "\u001b[1;52;30;107mMODEL PREDICTION TESTING\u001b[0m \u001b[30;107m────────────────────────────────────────────────────────────────────\u001b[0m\n"
      ]
     },
     "metadata": {},
     "output_type": "display_data"
    },
    {
     "data": {
      "text/html": [
       "<pre style=\"white-space:pre;overflow-x:auto;line-height:normal;font-family:Menlo,'DejaVu Sans Mono',consolas,'Courier New',monospace\"><span style=\"color: #000000; text-decoration-color: #000000; background-color: #ffffff; font-style: italic\">Prediction results                                                                           </span>\n",
       "<span style=\"color: #000000; text-decoration-color: #000000; background-color: #ffffff\">┏━━━━━━━━━━━━┳━━━━━━━━━━━━┳━━━━━━━┳━━━━━━━━━━━━┳━━━━━━━━┳━━━━━━━━━┳━━━━━━━━━━━━━━┳━━━━━━━━━━┓</span>\n",
       "<span style=\"color: #000000; text-decoration-color: #000000; background-color: #ffffff\">┃ Prediction ┃ Real Price ┃ Error ┃ Percentage ┃ brand  ┃  model  ┃ transmission ┃ fuel_ty… ┃</span>\n",
       "<span style=\"color: #000000; text-decoration-color: #000000; background-color: #ffffff\">┡━━━━━━━━━━━━╇━━━━━━━━━━━━╇━━━━━━━╇━━━━━━━━━━━━╇━━━━━━━━╇━━━━━━━━━╇━━━━━━━━━━━━━━╇━━━━━━━━━━┩</span>\n",
       "<span style=\"color: #000000; text-decoration-color: #000000; background-color: #ffffff\">│   </span><span style=\"color: #008080; text-decoration-color: #008080; background-color: #ffffff; font-weight: bold\">17969</span><span style=\"color: #000000; text-decoration-color: #000000; background-color: #ffffff\">    │   </span><span style=\"color: #008080; text-decoration-color: #008080; background-color: #ffffff; font-weight: bold\">17991</span><span style=\"color: #000000; text-decoration-color: #000000; background-color: #ffffff\">    │  </span><span style=\"color: #008080; text-decoration-color: #008080; background-color: #ffffff; font-weight: bold\">22</span><span style=\"color: #000000; text-decoration-color: #000000; background-color: #ffffff\">   │    </span><span style=\"color: #008080; text-decoration-color: #008080; background-color: #ffffff; font-weight: bold\">0</span><span style=\"color: #000000; text-decoration-color: #000000; background-color: #ffffff\"> %     │ toyota │  C-HR   │  Automatic   │  Petrol  │</span>\n",
       "<span style=\"color: #000000; text-decoration-color: #000000; background-color: #ffffff\">│   </span><span style=\"color: #008080; text-decoration-color: #008080; background-color: #ffffff; font-weight: bold\">13883</span><span style=\"color: #000000; text-decoration-color: #000000; background-color: #ffffff\">    │   </span><span style=\"color: #008080; text-decoration-color: #008080; background-color: #ffffff; font-weight: bold\">11995</span><span style=\"color: #000000; text-decoration-color: #000000; background-color: #ffffff\">    │ </span><span style=\"color: #008080; text-decoration-color: #008080; background-color: #ffffff; font-weight: bold\">-1888</span><span style=\"color: #000000; text-decoration-color: #000000; background-color: #ffffff\"> │   </span><span style=\"color: #008080; text-decoration-color: #008080; background-color: #ffffff; font-weight: bold\">-16</span><span style=\"color: #000000; text-decoration-color: #000000; background-color: #ffffff\"> %    │ toyota │  Yaris  │  Automatic   │  Hybrid  │</span>\n",
       "<span style=\"color: #000000; text-decoration-color: #000000; background-color: #ffffff\">│   </span><span style=\"color: #008080; text-decoration-color: #008080; background-color: #ffffff; font-weight: bold\">26001</span><span style=\"color: #000000; text-decoration-color: #000000; background-color: #ffffff\">    │   </span><span style=\"color: #008080; text-decoration-color: #008080; background-color: #ffffff; font-weight: bold\">25190</span><span style=\"color: #000000; text-decoration-color: #000000; background-color: #ffffff\">    │ </span><span style=\"color: #008080; text-decoration-color: #008080; background-color: #ffffff; font-weight: bold\">-811</span><span style=\"color: #000000; text-decoration-color: #000000; background-color: #ffffff\">  │    </span><span style=\"color: #008080; text-decoration-color: #008080; background-color: #ffffff; font-weight: bold\">-3</span><span style=\"color: #000000; text-decoration-color: #000000; background-color: #ffffff\"> %    │ skoda  │  Karoq  │  Automatic   │  Diesel  │</span>\n",
       "<span style=\"color: #000000; text-decoration-color: #000000; background-color: #ffffff\">│   </span><span style=\"color: #008080; text-decoration-color: #008080; background-color: #ffffff; font-weight: bold\">10959</span><span style=\"color: #000000; text-decoration-color: #000000; background-color: #ffffff\">    │   </span><span style=\"color: #008080; text-decoration-color: #008080; background-color: #ffffff; font-weight: bold\">14398</span><span style=\"color: #000000; text-decoration-color: #000000; background-color: #ffffff\">    │ </span><span style=\"color: #008080; text-decoration-color: #008080; background-color: #ffffff; font-weight: bold\">3439</span><span style=\"color: #000000; text-decoration-color: #000000; background-color: #ffffff\">  │    </span><span style=\"color: #008080; text-decoration-color: #008080; background-color: #ffffff; font-weight: bold\">24</span><span style=\"color: #000000; text-decoration-color: #000000; background-color: #ffffff\"> %    │  opel  │ Mokka X │  Semi-Auto   │  Petrol  │</span>\n",
       "<span style=\"color: #000000; text-decoration-color: #000000; background-color: #ffffff\">│   </span><span style=\"color: #008080; text-decoration-color: #008080; background-color: #ffffff; font-weight: bold\">33102</span><span style=\"color: #000000; text-decoration-color: #000000; background-color: #ffffff\">    │   </span><span style=\"color: #008080; text-decoration-color: #008080; background-color: #ffffff; font-weight: bold\">26825</span><span style=\"color: #000000; text-decoration-color: #000000; background-color: #ffffff\">    │ </span><span style=\"color: #008080; text-decoration-color: #008080; background-color: #ffffff; font-weight: bold\">-6277</span><span style=\"color: #000000; text-decoration-color: #000000; background-color: #ffffff\"> │   </span><span style=\"color: #008080; text-decoration-color: #008080; background-color: #ffffff; font-weight: bold\">-23</span><span style=\"color: #000000; text-decoration-color: #000000; background-color: #ffffff\"> %    │  bmw   │ </span><span style=\"color: #008080; text-decoration-color: #008080; background-color: #ffffff; font-weight: bold\">3</span><span style=\"color: #000000; text-decoration-color: #000000; background-color: #ffffff\"> Seri… │  Automatic   │  Petrol  │</span>\n",
       "<span style=\"color: #000000; text-decoration-color: #000000; background-color: #ffffff\">│   </span><span style=\"color: #008080; text-decoration-color: #008080; background-color: #ffffff; font-weight: bold\">11265</span><span style=\"color: #000000; text-decoration-color: #000000; background-color: #ffffff\">    │   </span><span style=\"color: #008080; text-decoration-color: #008080; background-color: #ffffff; font-weight: bold\">18490</span><span style=\"color: #000000; text-decoration-color: #000000; background-color: #ffffff\">    │ </span><span style=\"color: #008080; text-decoration-color: #008080; background-color: #ffffff; font-weight: bold\">7225</span><span style=\"color: #000000; text-decoration-color: #000000; background-color: #ffffff\">  │    </span><span style=\"color: #008080; text-decoration-color: #008080; background-color: #ffffff; font-weight: bold\">39</span><span style=\"color: #000000; text-decoration-color: #000000; background-color: #ffffff\"> %    │  audi  │   Q2    │  Semi-Auto   │  Petrol  │</span>\n",
       "<span style=\"color: #000000; text-decoration-color: #000000; background-color: #ffffff\">│   </span><span style=\"color: #008080; text-decoration-color: #008080; background-color: #ffffff; font-weight: bold\">10313</span><span style=\"color: #000000; text-decoration-color: #000000; background-color: #ffffff\">    │   </span><span style=\"color: #008080; text-decoration-color: #008080; background-color: #ffffff; font-weight: bold\">10494</span><span style=\"color: #000000; text-decoration-color: #000000; background-color: #ffffff\">    │  </span><span style=\"color: #008080; text-decoration-color: #008080; background-color: #ffffff; font-weight: bold\">181</span><span style=\"color: #000000; text-decoration-color: #000000; background-color: #ffffff\">  │    </span><span style=\"color: #008080; text-decoration-color: #008080; background-color: #ffffff; font-weight: bold\">2</span><span style=\"color: #000000; text-decoration-color: #000000; background-color: #ffffff\"> %     │ toyota │  Yaris  │    Manual    │  Petrol  │</span>\n",
       "<span style=\"color: #000000; text-decoration-color: #000000; background-color: #ffffff\">│   </span><span style=\"color: #008080; text-decoration-color: #008080; background-color: #ffffff; font-weight: bold\">10979</span><span style=\"color: #000000; text-decoration-color: #000000; background-color: #ffffff\">    │    </span><span style=\"color: #008080; text-decoration-color: #008080; background-color: #ffffff; font-weight: bold\">9898</span><span style=\"color: #000000; text-decoration-color: #000000; background-color: #ffffff\">    │ </span><span style=\"color: #008080; text-decoration-color: #008080; background-color: #ffffff; font-weight: bold\">-1081</span><span style=\"color: #000000; text-decoration-color: #000000; background-color: #ffffff\"> │   </span><span style=\"color: #008080; text-decoration-color: #008080; background-color: #ffffff; font-weight: bold\">-11</span><span style=\"color: #000000; text-decoration-color: #000000; background-color: #ffffff\"> %    │   vw   │ Golf SV │    Manual    │  Diesel  │</span>\n",
       "<span style=\"color: #000000; text-decoration-color: #000000; background-color: #ffffff\">│   </span><span style=\"color: #008080; text-decoration-color: #008080; background-color: #ffffff; font-weight: bold\">34515</span><span style=\"color: #000000; text-decoration-color: #000000; background-color: #ffffff\">    │   </span><span style=\"color: #008080; text-decoration-color: #008080; background-color: #ffffff; font-weight: bold\">36984</span><span style=\"color: #000000; text-decoration-color: #000000; background-color: #ffffff\">    │ </span><span style=\"color: #008080; text-decoration-color: #008080; background-color: #ffffff; font-weight: bold\">2469</span><span style=\"color: #000000; text-decoration-color: #000000; background-color: #ffffff\">  │    </span><span style=\"color: #008080; text-decoration-color: #008080; background-color: #ffffff; font-weight: bold\">7</span><span style=\"color: #000000; text-decoration-color: #000000; background-color: #ffffff\"> %     │  audi  │   Q5    │  Automatic   │  Diesel  │</span>\n",
       "<span style=\"color: #000000; text-decoration-color: #000000; background-color: #ffffff\">│   </span><span style=\"color: #008080; text-decoration-color: #008080; background-color: #ffffff; font-weight: bold\">28188</span><span style=\"color: #000000; text-decoration-color: #000000; background-color: #ffffff\">    │   </span><span style=\"color: #008080; text-decoration-color: #008080; background-color: #ffffff; font-weight: bold\">28919</span><span style=\"color: #000000; text-decoration-color: #000000; background-color: #ffffff\">    │  </span><span style=\"color: #008080; text-decoration-color: #008080; background-color: #ffffff; font-weight: bold\">731</span><span style=\"color: #000000; text-decoration-color: #000000; background-color: #ffffff\">  │    </span><span style=\"color: #008080; text-decoration-color: #008080; background-color: #ffffff; font-weight: bold\">3</span><span style=\"color: #000000; text-decoration-color: #000000; background-color: #ffffff\"> %     │  bmw   │ </span><span style=\"color: #008080; text-decoration-color: #008080; background-color: #ffffff; font-weight: bold\">5</span><span style=\"color: #000000; text-decoration-color: #000000; background-color: #ffffff\"> Seri… │  Semi-Auto   │  Diesel  │</span>\n",
       "<span style=\"color: #000000; text-decoration-color: #000000; background-color: #ffffff\">└────────────┴────────────┴───────┴────────────┴────────┴─────────┴──────────────┴──────────┘</span>\n",
       "</pre>\n"
      ],
      "text/plain": [
       "\u001b[3;30;107mPrediction results                                                                           \u001b[0m\n",
       "\u001b[30;107m┏━━━━━━━━━━━━┳━━━━━━━━━━━━┳━━━━━━━┳━━━━━━━━━━━━┳━━━━━━━━┳━━━━━━━━━┳━━━━━━━━━━━━━━┳━━━━━━━━━━┓\u001b[0m\n",
       "\u001b[30;107m┃\u001b[0m\u001b[30;107m \u001b[0m\u001b[30;107mPrediction\u001b[0m\u001b[30;107m \u001b[0m\u001b[30;107m┃\u001b[0m\u001b[30;107m \u001b[0m\u001b[30;107mReal Price\u001b[0m\u001b[30;107m \u001b[0m\u001b[30;107m┃\u001b[0m\u001b[30;107m \u001b[0m\u001b[30;107mError\u001b[0m\u001b[30;107m \u001b[0m\u001b[30;107m┃\u001b[0m\u001b[30;107m \u001b[0m\u001b[30;107mPercentage\u001b[0m\u001b[30;107m \u001b[0m\u001b[30;107m┃\u001b[0m\u001b[30;107m \u001b[0m\u001b[30;107mbrand \u001b[0m\u001b[30;107m \u001b[0m\u001b[30;107m┃\u001b[0m\u001b[30;107m \u001b[0m\u001b[30;107m model \u001b[0m\u001b[30;107m \u001b[0m\u001b[30;107m┃\u001b[0m\u001b[30;107m \u001b[0m\u001b[30;107mtransmission\u001b[0m\u001b[30;107m \u001b[0m\u001b[30;107m┃\u001b[0m\u001b[30;107m \u001b[0m\u001b[30;107mfuel_ty…\u001b[0m\u001b[30;107m \u001b[0m\u001b[30;107m┃\u001b[0m\n",
       "\u001b[30;107m┡━━━━━━━━━━━━╇━━━━━━━━━━━━╇━━━━━━━╇━━━━━━━━━━━━╇━━━━━━━━╇━━━━━━━━━╇━━━━━━━━━━━━━━╇━━━━━━━━━━┩\u001b[0m\n",
       "\u001b[30;107m│\u001b[0m\u001b[30;107m \u001b[0m\u001b[30;107m  \u001b[0m\u001b[1;36;107m17969\u001b[0m\u001b[30;107m   \u001b[0m\u001b[30;107m \u001b[0m\u001b[30;107m│\u001b[0m\u001b[30;107m \u001b[0m\u001b[30;107m  \u001b[0m\u001b[1;36;107m17991\u001b[0m\u001b[30;107m   \u001b[0m\u001b[30;107m \u001b[0m\u001b[30;107m│\u001b[0m\u001b[30;107m \u001b[0m\u001b[30;107m \u001b[0m\u001b[1;36;107m22\u001b[0m\u001b[30;107m  \u001b[0m\u001b[30;107m \u001b[0m\u001b[30;107m│\u001b[0m\u001b[30;107m \u001b[0m\u001b[30;107m   \u001b[0m\u001b[1;36;107m0\u001b[0m\u001b[30;107m %    \u001b[0m\u001b[30;107m \u001b[0m\u001b[30;107m│\u001b[0m\u001b[30;107m \u001b[0m\u001b[30;107mtoyota\u001b[0m\u001b[30;107m \u001b[0m\u001b[30;107m│\u001b[0m\u001b[30;107m \u001b[0m\u001b[30;107m C-HR  \u001b[0m\u001b[30;107m \u001b[0m\u001b[30;107m│\u001b[0m\u001b[30;107m \u001b[0m\u001b[30;107m Automatic  \u001b[0m\u001b[30;107m \u001b[0m\u001b[30;107m│\u001b[0m\u001b[30;107m \u001b[0m\u001b[30;107m Petrol \u001b[0m\u001b[30;107m \u001b[0m\u001b[30;107m│\u001b[0m\n",
       "\u001b[30;107m│\u001b[0m\u001b[30;107m \u001b[0m\u001b[30;107m  \u001b[0m\u001b[1;36;107m13883\u001b[0m\u001b[30;107m   \u001b[0m\u001b[30;107m \u001b[0m\u001b[30;107m│\u001b[0m\u001b[30;107m \u001b[0m\u001b[30;107m  \u001b[0m\u001b[1;36;107m11995\u001b[0m\u001b[30;107m   \u001b[0m\u001b[30;107m \u001b[0m\u001b[30;107m│\u001b[0m\u001b[30;107m \u001b[0m\u001b[1;36;107m-1888\u001b[0m\u001b[30;107m \u001b[0m\u001b[30;107m│\u001b[0m\u001b[30;107m \u001b[0m\u001b[30;107m  \u001b[0m\u001b[1;36;107m-16\u001b[0m\u001b[30;107m %   \u001b[0m\u001b[30;107m \u001b[0m\u001b[30;107m│\u001b[0m\u001b[30;107m \u001b[0m\u001b[30;107mtoyota\u001b[0m\u001b[30;107m \u001b[0m\u001b[30;107m│\u001b[0m\u001b[30;107m \u001b[0m\u001b[30;107m Yaris \u001b[0m\u001b[30;107m \u001b[0m\u001b[30;107m│\u001b[0m\u001b[30;107m \u001b[0m\u001b[30;107m Automatic  \u001b[0m\u001b[30;107m \u001b[0m\u001b[30;107m│\u001b[0m\u001b[30;107m \u001b[0m\u001b[30;107m Hybrid \u001b[0m\u001b[30;107m \u001b[0m\u001b[30;107m│\u001b[0m\n",
       "\u001b[30;107m│\u001b[0m\u001b[30;107m \u001b[0m\u001b[30;107m  \u001b[0m\u001b[1;36;107m26001\u001b[0m\u001b[30;107m   \u001b[0m\u001b[30;107m \u001b[0m\u001b[30;107m│\u001b[0m\u001b[30;107m \u001b[0m\u001b[30;107m  \u001b[0m\u001b[1;36;107m25190\u001b[0m\u001b[30;107m   \u001b[0m\u001b[30;107m \u001b[0m\u001b[30;107m│\u001b[0m\u001b[30;107m \u001b[0m\u001b[1;36;107m-811\u001b[0m\u001b[30;107m \u001b[0m\u001b[30;107m \u001b[0m\u001b[30;107m│\u001b[0m\u001b[30;107m \u001b[0m\u001b[30;107m   \u001b[0m\u001b[1;36;107m-3\u001b[0m\u001b[30;107m %   \u001b[0m\u001b[30;107m \u001b[0m\u001b[30;107m│\u001b[0m\u001b[30;107m \u001b[0m\u001b[30;107mskoda \u001b[0m\u001b[30;107m \u001b[0m\u001b[30;107m│\u001b[0m\u001b[30;107m \u001b[0m\u001b[30;107m Karoq \u001b[0m\u001b[30;107m \u001b[0m\u001b[30;107m│\u001b[0m\u001b[30;107m \u001b[0m\u001b[30;107m Automatic  \u001b[0m\u001b[30;107m \u001b[0m\u001b[30;107m│\u001b[0m\u001b[30;107m \u001b[0m\u001b[30;107m Diesel \u001b[0m\u001b[30;107m \u001b[0m\u001b[30;107m│\u001b[0m\n",
       "\u001b[30;107m│\u001b[0m\u001b[30;107m \u001b[0m\u001b[30;107m  \u001b[0m\u001b[1;36;107m10959\u001b[0m\u001b[30;107m   \u001b[0m\u001b[30;107m \u001b[0m\u001b[30;107m│\u001b[0m\u001b[30;107m \u001b[0m\u001b[30;107m  \u001b[0m\u001b[1;36;107m14398\u001b[0m\u001b[30;107m   \u001b[0m\u001b[30;107m \u001b[0m\u001b[30;107m│\u001b[0m\u001b[30;107m \u001b[0m\u001b[1;36;107m3439\u001b[0m\u001b[30;107m \u001b[0m\u001b[30;107m \u001b[0m\u001b[30;107m│\u001b[0m\u001b[30;107m \u001b[0m\u001b[30;107m   \u001b[0m\u001b[1;36;107m24\u001b[0m\u001b[30;107m %   \u001b[0m\u001b[30;107m \u001b[0m\u001b[30;107m│\u001b[0m\u001b[30;107m \u001b[0m\u001b[30;107m opel \u001b[0m\u001b[30;107m \u001b[0m\u001b[30;107m│\u001b[0m\u001b[30;107m \u001b[0m\u001b[30;107mMokka X\u001b[0m\u001b[30;107m \u001b[0m\u001b[30;107m│\u001b[0m\u001b[30;107m \u001b[0m\u001b[30;107m Semi-Auto  \u001b[0m\u001b[30;107m \u001b[0m\u001b[30;107m│\u001b[0m\u001b[30;107m \u001b[0m\u001b[30;107m Petrol \u001b[0m\u001b[30;107m \u001b[0m\u001b[30;107m│\u001b[0m\n",
       "\u001b[30;107m│\u001b[0m\u001b[30;107m \u001b[0m\u001b[30;107m  \u001b[0m\u001b[1;36;107m33102\u001b[0m\u001b[30;107m   \u001b[0m\u001b[30;107m \u001b[0m\u001b[30;107m│\u001b[0m\u001b[30;107m \u001b[0m\u001b[30;107m  \u001b[0m\u001b[1;36;107m26825\u001b[0m\u001b[30;107m   \u001b[0m\u001b[30;107m \u001b[0m\u001b[30;107m│\u001b[0m\u001b[30;107m \u001b[0m\u001b[1;36;107m-6277\u001b[0m\u001b[30;107m \u001b[0m\u001b[30;107m│\u001b[0m\u001b[30;107m \u001b[0m\u001b[30;107m  \u001b[0m\u001b[1;36;107m-23\u001b[0m\u001b[30;107m %   \u001b[0m\u001b[30;107m \u001b[0m\u001b[30;107m│\u001b[0m\u001b[30;107m \u001b[0m\u001b[30;107m bmw  \u001b[0m\u001b[30;107m \u001b[0m\u001b[30;107m│\u001b[0m\u001b[30;107m \u001b[0m\u001b[1;36;107m3\u001b[0m\u001b[30;107m Seri…\u001b[0m\u001b[30;107m \u001b[0m\u001b[30;107m│\u001b[0m\u001b[30;107m \u001b[0m\u001b[30;107m Automatic  \u001b[0m\u001b[30;107m \u001b[0m\u001b[30;107m│\u001b[0m\u001b[30;107m \u001b[0m\u001b[30;107m Petrol \u001b[0m\u001b[30;107m \u001b[0m\u001b[30;107m│\u001b[0m\n",
       "\u001b[30;107m│\u001b[0m\u001b[30;107m \u001b[0m\u001b[30;107m  \u001b[0m\u001b[1;36;107m11265\u001b[0m\u001b[30;107m   \u001b[0m\u001b[30;107m \u001b[0m\u001b[30;107m│\u001b[0m\u001b[30;107m \u001b[0m\u001b[30;107m  \u001b[0m\u001b[1;36;107m18490\u001b[0m\u001b[30;107m   \u001b[0m\u001b[30;107m \u001b[0m\u001b[30;107m│\u001b[0m\u001b[30;107m \u001b[0m\u001b[1;36;107m7225\u001b[0m\u001b[30;107m \u001b[0m\u001b[30;107m \u001b[0m\u001b[30;107m│\u001b[0m\u001b[30;107m \u001b[0m\u001b[30;107m   \u001b[0m\u001b[1;36;107m39\u001b[0m\u001b[30;107m %   \u001b[0m\u001b[30;107m \u001b[0m\u001b[30;107m│\u001b[0m\u001b[30;107m \u001b[0m\u001b[30;107m audi \u001b[0m\u001b[30;107m \u001b[0m\u001b[30;107m│\u001b[0m\u001b[30;107m \u001b[0m\u001b[30;107m  Q2   \u001b[0m\u001b[30;107m \u001b[0m\u001b[30;107m│\u001b[0m\u001b[30;107m \u001b[0m\u001b[30;107m Semi-Auto  \u001b[0m\u001b[30;107m \u001b[0m\u001b[30;107m│\u001b[0m\u001b[30;107m \u001b[0m\u001b[30;107m Petrol \u001b[0m\u001b[30;107m \u001b[0m\u001b[30;107m│\u001b[0m\n",
       "\u001b[30;107m│\u001b[0m\u001b[30;107m \u001b[0m\u001b[30;107m  \u001b[0m\u001b[1;36;107m10313\u001b[0m\u001b[30;107m   \u001b[0m\u001b[30;107m \u001b[0m\u001b[30;107m│\u001b[0m\u001b[30;107m \u001b[0m\u001b[30;107m  \u001b[0m\u001b[1;36;107m10494\u001b[0m\u001b[30;107m   \u001b[0m\u001b[30;107m \u001b[0m\u001b[30;107m│\u001b[0m\u001b[30;107m \u001b[0m\u001b[30;107m \u001b[0m\u001b[1;36;107m181\u001b[0m\u001b[30;107m \u001b[0m\u001b[30;107m \u001b[0m\u001b[30;107m│\u001b[0m\u001b[30;107m \u001b[0m\u001b[30;107m   \u001b[0m\u001b[1;36;107m2\u001b[0m\u001b[30;107m %    \u001b[0m\u001b[30;107m \u001b[0m\u001b[30;107m│\u001b[0m\u001b[30;107m \u001b[0m\u001b[30;107mtoyota\u001b[0m\u001b[30;107m \u001b[0m\u001b[30;107m│\u001b[0m\u001b[30;107m \u001b[0m\u001b[30;107m Yaris \u001b[0m\u001b[30;107m \u001b[0m\u001b[30;107m│\u001b[0m\u001b[30;107m \u001b[0m\u001b[30;107m   Manual   \u001b[0m\u001b[30;107m \u001b[0m\u001b[30;107m│\u001b[0m\u001b[30;107m \u001b[0m\u001b[30;107m Petrol \u001b[0m\u001b[30;107m \u001b[0m\u001b[30;107m│\u001b[0m\n",
       "\u001b[30;107m│\u001b[0m\u001b[30;107m \u001b[0m\u001b[30;107m  \u001b[0m\u001b[1;36;107m10979\u001b[0m\u001b[30;107m   \u001b[0m\u001b[30;107m \u001b[0m\u001b[30;107m│\u001b[0m\u001b[30;107m \u001b[0m\u001b[30;107m   \u001b[0m\u001b[1;36;107m9898\u001b[0m\u001b[30;107m   \u001b[0m\u001b[30;107m \u001b[0m\u001b[30;107m│\u001b[0m\u001b[30;107m \u001b[0m\u001b[1;36;107m-1081\u001b[0m\u001b[30;107m \u001b[0m\u001b[30;107m│\u001b[0m\u001b[30;107m \u001b[0m\u001b[30;107m  \u001b[0m\u001b[1;36;107m-11\u001b[0m\u001b[30;107m %   \u001b[0m\u001b[30;107m \u001b[0m\u001b[30;107m│\u001b[0m\u001b[30;107m \u001b[0m\u001b[30;107m  vw  \u001b[0m\u001b[30;107m \u001b[0m\u001b[30;107m│\u001b[0m\u001b[30;107m \u001b[0m\u001b[30;107mGolf SV\u001b[0m\u001b[30;107m \u001b[0m\u001b[30;107m│\u001b[0m\u001b[30;107m \u001b[0m\u001b[30;107m   Manual   \u001b[0m\u001b[30;107m \u001b[0m\u001b[30;107m│\u001b[0m\u001b[30;107m \u001b[0m\u001b[30;107m Diesel \u001b[0m\u001b[30;107m \u001b[0m\u001b[30;107m│\u001b[0m\n",
       "\u001b[30;107m│\u001b[0m\u001b[30;107m \u001b[0m\u001b[30;107m  \u001b[0m\u001b[1;36;107m34515\u001b[0m\u001b[30;107m   \u001b[0m\u001b[30;107m \u001b[0m\u001b[30;107m│\u001b[0m\u001b[30;107m \u001b[0m\u001b[30;107m  \u001b[0m\u001b[1;36;107m36984\u001b[0m\u001b[30;107m   \u001b[0m\u001b[30;107m \u001b[0m\u001b[30;107m│\u001b[0m\u001b[30;107m \u001b[0m\u001b[1;36;107m2469\u001b[0m\u001b[30;107m \u001b[0m\u001b[30;107m \u001b[0m\u001b[30;107m│\u001b[0m\u001b[30;107m \u001b[0m\u001b[30;107m   \u001b[0m\u001b[1;36;107m7\u001b[0m\u001b[30;107m %    \u001b[0m\u001b[30;107m \u001b[0m\u001b[30;107m│\u001b[0m\u001b[30;107m \u001b[0m\u001b[30;107m audi \u001b[0m\u001b[30;107m \u001b[0m\u001b[30;107m│\u001b[0m\u001b[30;107m \u001b[0m\u001b[30;107m  Q5   \u001b[0m\u001b[30;107m \u001b[0m\u001b[30;107m│\u001b[0m\u001b[30;107m \u001b[0m\u001b[30;107m Automatic  \u001b[0m\u001b[30;107m \u001b[0m\u001b[30;107m│\u001b[0m\u001b[30;107m \u001b[0m\u001b[30;107m Diesel \u001b[0m\u001b[30;107m \u001b[0m\u001b[30;107m│\u001b[0m\n",
       "\u001b[30;107m│\u001b[0m\u001b[30;107m \u001b[0m\u001b[30;107m  \u001b[0m\u001b[1;36;107m28188\u001b[0m\u001b[30;107m   \u001b[0m\u001b[30;107m \u001b[0m\u001b[30;107m│\u001b[0m\u001b[30;107m \u001b[0m\u001b[30;107m  \u001b[0m\u001b[1;36;107m28919\u001b[0m\u001b[30;107m   \u001b[0m\u001b[30;107m \u001b[0m\u001b[30;107m│\u001b[0m\u001b[30;107m \u001b[0m\u001b[30;107m \u001b[0m\u001b[1;36;107m731\u001b[0m\u001b[30;107m \u001b[0m\u001b[30;107m \u001b[0m\u001b[30;107m│\u001b[0m\u001b[30;107m \u001b[0m\u001b[30;107m   \u001b[0m\u001b[1;36;107m3\u001b[0m\u001b[30;107m %    \u001b[0m\u001b[30;107m \u001b[0m\u001b[30;107m│\u001b[0m\u001b[30;107m \u001b[0m\u001b[30;107m bmw  \u001b[0m\u001b[30;107m \u001b[0m\u001b[30;107m│\u001b[0m\u001b[30;107m \u001b[0m\u001b[1;36;107m5\u001b[0m\u001b[30;107m Seri…\u001b[0m\u001b[30;107m \u001b[0m\u001b[30;107m│\u001b[0m\u001b[30;107m \u001b[0m\u001b[30;107m Semi-Auto  \u001b[0m\u001b[30;107m \u001b[0m\u001b[30;107m│\u001b[0m\u001b[30;107m \u001b[0m\u001b[30;107m Diesel \u001b[0m\u001b[30;107m \u001b[0m\u001b[30;107m│\u001b[0m\n",
       "\u001b[30;107m└────────────┴────────────┴───────┴────────────┴────────┴─────────┴──────────────┴──────────┘\u001b[0m\n"
      ]
     },
     "metadata": {},
     "output_type": "display_data"
    }
   ],
   "source": [
    "model = bmmd.get_model(model_filename='all_brands.joblib', data_filename='all_brands.csv',verbose=False)\n",
    "df = bmmd.get_data('all_brands.csv')\n",
    "X_train, X_val, X_test, y_train, y_val, y_test = bmmd.get_split_sets(df)\n",
    "evaluate_prediction(model, X_test, y_test,sample=10,add_columns=['brand','model','transmission','fuel_type'])"
   ]
  },
  {
   "cell_type": "markdown",
   "id": "bb948cbf",
   "metadata": {
    "slideshow": {
     "slide_type": "slide"
    }
   },
   "source": [
    "### Entraînement Incrémental\n",
    "\n",
    "Le model est entrainé sur chaque jeu de données en conservant les arbres précédemment créés."
   ]
  },
  {
   "cell_type": "code",
   "execution_count": 73,
   "id": "cab2bb5a",
   "metadata": {
    "slideshow": {
     "slide_type": "subslide"
    }
   },
   "outputs": [
    {
     "data": {
      "text/html": [
       "<pre style=\"white-space:pre;overflow-x:auto;line-height:normal;font-family:Menlo,'DejaVu Sans Mono',consolas,'Courier New',monospace\"><span style=\"color: #000000; text-decoration-color: #000000; background-color: #ffffff; font-weight: bold\">PERFORMANCE COMPARISON</span> <span style=\"color: #000000; text-decoration-color: #000000; background-color: #ffffff\">──────────────────────────────────────────────────────────────────────</span>\n",
       "</pre>\n"
      ],
      "text/plain": [
       "\u001b[1;52;30;107mPERFORMANCE COMPARISON\u001b[0m \u001b[30;107m──────────────────────────────────────────────────────────────────────\u001b[0m\n"
      ]
     },
     "metadata": {},
     "output_type": "display_data"
    },
    {
     "data": {
      "text/html": [
       "<pre style=\"white-space:pre;overflow-x:auto;line-height:normal;font-family:Menlo,'DejaVu Sans Mono',consolas,'Courier New',monospace\"><span style=\"color: #000000; text-decoration-color: #000000; background-color: #ffffff; font-style: italic\">One model by Brand                                                           </span>\n",
       "<span style=\"color: #000000; text-decoration-color: #000000; background-color: #ffffff\">┏━━━━━━━━━━━━┳━━━━━━┳━━━━━━━━┳━━━━━━━━━━━━━━━━━━━━━┳━━━━━━━━━━━━━━━━━━━━━━━━┓</span>\n",
       "<span style=\"color: #000000; text-decoration-color: #000000; background-color: #ffffff\">┃   Brand    ┃ RMSE ┃   R2   ┃ Absolute Mean Error ┃       Model path       ┃</span>\n",
       "<span style=\"color: #000000; text-decoration-color: #000000; background-color: #ffffff\">┡━━━━━━━━━━━━╇━━━━━━╇━━━━━━━━╇━━━━━━━━━━━━━━━━━━━━━╇━━━━━━━━━━━━━━━━━━━━━━━━┩</span>\n",
       "<span style=\"color: #000000; text-decoration-color: #000000; background-color: #ffffff\">│ Inc. Model │ </span><span style=\"color: #008080; text-decoration-color: #008080; background-color: #ffffff; font-weight: bold\">6930</span><span style=\"color: #000000; text-decoration-color: #000000; background-color: #ffffff\"> │ </span><span style=\"color: #008080; text-decoration-color: #008080; background-color: #ffffff; font-weight: bold\">0.5995</span><span style=\"color: #000000; text-decoration-color: #000000; background-color: #ffffff\"> │        </span><span style=\"color: #008080; text-decoration-color: #008080; background-color: #ffffff; font-weight: bold\">4163</span><span style=\"color: #000000; text-decoration-color: #000000; background-color: #ffffff\">         │ all_brand_model_6930.</span><span style=\"color: #008080; text-decoration-color: #008080; background-color: #ffffff; font-weight: bold\">0</span><span style=\"color: #000000; text-decoration-color: #000000; background-color: #ffffff\"> │</span>\n",
       "<span style=\"color: #000000; text-decoration-color: #000000; background-color: #ffffff\">└────────────┴──────┴────────┴─────────────────────┴────────────────────────┘</span>\n",
       "</pre>\n"
      ],
      "text/plain": [
       "\u001b[3;30;107mOne model by Brand                                                           \u001b[0m\n",
       "\u001b[30;107m┏━━━━━━━━━━━━┳━━━━━━┳━━━━━━━━┳━━━━━━━━━━━━━━━━━━━━━┳━━━━━━━━━━━━━━━━━━━━━━━━┓\u001b[0m\n",
       "\u001b[30;107m┃\u001b[0m\u001b[30;107m \u001b[0m\u001b[30;107m  Brand   \u001b[0m\u001b[30;107m \u001b[0m\u001b[30;107m┃\u001b[0m\u001b[30;107m \u001b[0m\u001b[30;107mRMSE\u001b[0m\u001b[30;107m \u001b[0m\u001b[30;107m┃\u001b[0m\u001b[30;107m \u001b[0m\u001b[30;107m  R2  \u001b[0m\u001b[30;107m \u001b[0m\u001b[30;107m┃\u001b[0m\u001b[30;107m \u001b[0m\u001b[30;107mAbsolute Mean Error\u001b[0m\u001b[30;107m \u001b[0m\u001b[30;107m┃\u001b[0m\u001b[30;107m \u001b[0m\u001b[30;107m      Model path      \u001b[0m\u001b[30;107m \u001b[0m\u001b[30;107m┃\u001b[0m\n",
       "\u001b[30;107m┡━━━━━━━━━━━━╇━━━━━━╇━━━━━━━━╇━━━━━━━━━━━━━━━━━━━━━╇━━━━━━━━━━━━━━━━━━━━━━━━┩\u001b[0m\n",
       "\u001b[30;107m│\u001b[0m\u001b[30;107m \u001b[0m\u001b[30;107mInc. Model\u001b[0m\u001b[30;107m \u001b[0m\u001b[30;107m│\u001b[0m\u001b[30;107m \u001b[0m\u001b[1;36;107m6930\u001b[0m\u001b[30;107m \u001b[0m\u001b[30;107m│\u001b[0m\u001b[30;107m \u001b[0m\u001b[1;36;107m0.5995\u001b[0m\u001b[30;107m \u001b[0m\u001b[30;107m│\u001b[0m\u001b[30;107m \u001b[0m\u001b[30;107m       \u001b[0m\u001b[1;36;107m4163\u001b[0m\u001b[30;107m        \u001b[0m\u001b[30;107m \u001b[0m\u001b[30;107m│\u001b[0m\u001b[30;107m \u001b[0m\u001b[30;107mall_brand_model_6930.\u001b[0m\u001b[1;36;107m0\u001b[0m\u001b[30;107m \u001b[0m\u001b[30;107m│\u001b[0m\n",
       "\u001b[30;107m└────────────┴──────┴────────┴─────────────────────┴────────────────────────┘\u001b[0m\n"
      ]
     },
     "metadata": {},
     "output_type": "display_data"
    }
   ],
   "source": [
    "iterative_model = get_one_model_for_all_iterative(model_to_dump=True, evaluation=True, verbose=False)"
   ]
  },
  {
   "cell_type": "code",
   "execution_count": 74,
   "id": "3df070ff",
   "metadata": {
    "slideshow": {
     "slide_type": "subslide"
    }
   },
   "outputs": [
    {
     "name": "stdout",
     "output_type": "stream",
     "text": [
      "Loading all_brand_model_6930.0.joblib\n",
      "Model all_brand_model_6930_estimator_optimized_rmse_1642 saved @ ./model/all_brand_model_6930_estimator_optimized_rmse_1642.joblib\n"
     ]
    }
   ],
   "source": [
    "bmmd.get_best_estimator(model_filename='all_brand_model_6930.0.joblib', data_filename='all_brands.csv',verbose=False)"
   ]
  },
  {
   "cell_type": "code",
   "execution_count": 76,
   "id": "6ea2fa93",
   "metadata": {
    "slideshow": {
     "slide_type": "skip"
    }
   },
   "outputs": [],
   "source": [
    "iterative_model = get_model(model_path_to_load='./model/all_brand_model_6930_estimator_optimized_rmse_1642.joblib')\n",
    "df = bmmd.get_data('all_brands.csv')\n",
    "X_train, X_val, X_test, y_train, y_val, y_test = bmmd.get_split_sets(df)"
   ]
  },
  {
   "cell_type": "code",
   "execution_count": 81,
   "id": "8922897d",
   "metadata": {},
   "outputs": [
    {
     "name": "stdout",
     "output_type": "stream",
     "text": [
      "Loading all_brand_model_6930_estimator_optimized_rmse_1642.joblib\n"
     ]
    },
    {
     "data": {
      "text/html": [
       "<pre style=\"white-space:pre;overflow-x:auto;line-height:normal;font-family:Menlo,'DejaVu Sans Mono',consolas,'Courier New',monospace\"><span style=\"color: #000000; text-decoration-color: #000000; background-color: #ffffff; font-weight: bold\">PERFORMANCE COMPARISON</span> <span style=\"color: #000000; text-decoration-color: #000000; background-color: #ffffff\">──────────────────────────────────────────────────────────────────────</span>\n",
       "</pre>\n"
      ],
      "text/plain": [
       "\u001b[1;52;30;107mPERFORMANCE COMPARISON\u001b[0m \u001b[30;107m──────────────────────────────────────────────────────────────────────\u001b[0m\n"
      ]
     },
     "metadata": {},
     "output_type": "display_data"
    },
    {
     "data": {
      "text/html": [
       "<pre style=\"white-space:pre;overflow-x:auto;line-height:normal;font-family:Menlo,'DejaVu Sans Mono',consolas,'Courier New',monospace\"><span style=\"color: #000000; text-decoration-color: #000000; background-color: #ffffff; font-style: italic\">One model by Brand                                                                       </span>\n",
       "<span style=\"color: #000000; text-decoration-color: #000000; background-color: #ffffff\">┏━━━━━━━━━━━━━━━━━━━━━━┳━━━━━━┳━━━━━━━━━┳━━━━━━━━━━━━━━━━━━━━━┳━━━━━━━━━━━━━━━━━━━━━━━━━┓</span>\n",
       "<span style=\"color: #000000; text-decoration-color: #000000; background-color: #ffffff\">┃        Brand         ┃ RMSE ┃   R2    ┃ Absolute Mean Error ┃       Model path        ┃</span>\n",
       "<span style=\"color: #000000; text-decoration-color: #000000; background-color: #ffffff\">┡━━━━━━━━━━━━━━━━━━━━━━╇━━━━━━╇━━━━━━━━━╇━━━━━━━━━━━━━━━━━━━━━╇━━━━━━━━━━━━━━━━━━━━━━━━━┩</span>\n",
       "<span style=\"color: #000000; text-decoration-color: #000000; background-color: #ffffff\">│ Merged Brand Dataset │ </span><span style=\"color: #008080; text-decoration-color: #008080; background-color: #ffffff; font-weight: bold\">1642</span><span style=\"color: #000000; text-decoration-color: #000000; background-color: #ffffff\"> │ </span><span style=\"color: #008080; text-decoration-color: #008080; background-color: #ffffff; font-weight: bold\">-2.8677</span><span style=\"color: #000000; text-decoration-color: #000000; background-color: #ffffff\"> │         </span><span style=\"color: #008080; text-decoration-color: #008080; background-color: #ffffff; font-weight: bold\">651</span><span style=\"color: #000000; text-decoration-color: #000000; background-color: #ffffff\">         │ all_brand_model_6930</span><span style=\"color: #808000; text-decoration-color: #808000; background-color: #ffffff\">...</span><span style=\"color: #000000; text-decoration-color: #000000; background-color: #ffffff\"> │</span>\n",
       "<span style=\"color: #000000; text-decoration-color: #000000; background-color: #ffffff\">└──────────────────────┴──────┴─────────┴─────────────────────┴─────────────────────────┘</span>\n",
       "</pre>\n"
      ],
      "text/plain": [
       "\u001b[3;30;107mOne model by Brand                                                                       \u001b[0m\n",
       "\u001b[30;107m┏━━━━━━━━━━━━━━━━━━━━━━┳━━━━━━┳━━━━━━━━━┳━━━━━━━━━━━━━━━━━━━━━┳━━━━━━━━━━━━━━━━━━━━━━━━━┓\u001b[0m\n",
       "\u001b[30;107m┃\u001b[0m\u001b[30;107m \u001b[0m\u001b[30;107m       Brand        \u001b[0m\u001b[30;107m \u001b[0m\u001b[30;107m┃\u001b[0m\u001b[30;107m \u001b[0m\u001b[30;107mRMSE\u001b[0m\u001b[30;107m \u001b[0m\u001b[30;107m┃\u001b[0m\u001b[30;107m \u001b[0m\u001b[30;107m  R2   \u001b[0m\u001b[30;107m \u001b[0m\u001b[30;107m┃\u001b[0m\u001b[30;107m \u001b[0m\u001b[30;107mAbsolute Mean Error\u001b[0m\u001b[30;107m \u001b[0m\u001b[30;107m┃\u001b[0m\u001b[30;107m \u001b[0m\u001b[30;107m      Model path       \u001b[0m\u001b[30;107m \u001b[0m\u001b[30;107m┃\u001b[0m\n",
       "\u001b[30;107m┡━━━━━━━━━━━━━━━━━━━━━━╇━━━━━━╇━━━━━━━━━╇━━━━━━━━━━━━━━━━━━━━━╇━━━━━━━━━━━━━━━━━━━━━━━━━┩\u001b[0m\n",
       "\u001b[30;107m│\u001b[0m\u001b[30;107m \u001b[0m\u001b[30;107mMerged Brand Dataset\u001b[0m\u001b[30;107m \u001b[0m\u001b[30;107m│\u001b[0m\u001b[30;107m \u001b[0m\u001b[1;36;107m1642\u001b[0m\u001b[30;107m \u001b[0m\u001b[30;107m│\u001b[0m\u001b[30;107m \u001b[0m\u001b[1;36;107m-2.8677\u001b[0m\u001b[30;107m \u001b[0m\u001b[30;107m│\u001b[0m\u001b[30;107m \u001b[0m\u001b[30;107m        \u001b[0m\u001b[1;36;107m651\u001b[0m\u001b[30;107m        \u001b[0m\u001b[30;107m \u001b[0m\u001b[30;107m│\u001b[0m\u001b[30;107m \u001b[0m\u001b[30;107mall_brand_model_6930\u001b[0m\u001b[33;107m...\u001b[0m\u001b[30;107m \u001b[0m\u001b[30;107m│\u001b[0m\n",
       "\u001b[30;107m└──────────────────────┴──────┴─────────┴─────────────────────┴─────────────────────────┘\u001b[0m\n"
      ]
     },
     "metadata": {},
     "output_type": "display_data"
    }
   ],
   "source": [
    "bmmd.evaluate_model(model_filename='all_brand_model_6930_estimator_optimized_rmse_1642.joblib', data_filename='all_brands.csv',verbose=False)"
   ]
  },
  {
   "cell_type": "code",
   "execution_count": 83,
   "id": "0d610d43",
   "metadata": {
    "slideshow": {
     "slide_type": "subslide"
    }
   },
   "outputs": [
    {
     "name": "stdout",
     "output_type": "stream",
     "text": [
      "RMSE: 2712.2443298190624\n"
     ]
    },
    {
     "data": {
      "text/html": [
       "<pre style=\"white-space:pre;overflow-x:auto;line-height:normal;font-family:Menlo,'DejaVu Sans Mono',consolas,'Courier New',monospace\"><span style=\"color: #000000; text-decoration-color: #000000; background-color: #ffffff; font-weight: bold\">MODEL PREDICTION TESTING</span> <span style=\"color: #000000; text-decoration-color: #000000; background-color: #ffffff\">────────────────────────────────────────────────────────────────────</span>\n",
       "</pre>\n"
      ],
      "text/plain": [
       "\u001b[1;52;30;107mMODEL PREDICTION TESTING\u001b[0m \u001b[30;107m────────────────────────────────────────────────────────────────────\u001b[0m\n"
      ]
     },
     "metadata": {},
     "output_type": "display_data"
    },
    {
     "data": {
      "text/html": [
       "<pre style=\"white-space:pre;overflow-x:auto;line-height:normal;font-family:Menlo,'DejaVu Sans Mono',consolas,'Courier New',monospace\"><span style=\"color: #000000; text-decoration-color: #000000; background-color: #ffffff; font-style: italic\">Prediction results                                                                           </span>\n",
       "<span style=\"color: #000000; text-decoration-color: #000000; background-color: #ffffff\">┏━━━━━━━━━━━━┳━━━━━━━━━━━━┳━━━━━━━┳━━━━━━━━━━━━┳━━━━━━━━┳━━━━━━━━━┳━━━━━━━━━━━━━━┳━━━━━━━━━━┓</span>\n",
       "<span style=\"color: #000000; text-decoration-color: #000000; background-color: #ffffff\">┃ Prediction ┃ Real Price ┃ Error ┃ Percentage ┃ brand  ┃  model  ┃ transmission ┃ fuel_ty… ┃</span>\n",
       "<span style=\"color: #000000; text-decoration-color: #000000; background-color: #ffffff\">┡━━━━━━━━━━━━╇━━━━━━━━━━━━╇━━━━━━━╇━━━━━━━━━━━━╇━━━━━━━━╇━━━━━━━━━╇━━━━━━━━━━━━━━╇━━━━━━━━━━┩</span>\n",
       "<span style=\"color: #000000; text-decoration-color: #000000; background-color: #ffffff\">│   </span><span style=\"color: #008080; text-decoration-color: #008080; background-color: #ffffff; font-weight: bold\">20653</span><span style=\"color: #000000; text-decoration-color: #000000; background-color: #ffffff\">    │   </span><span style=\"color: #008080; text-decoration-color: #008080; background-color: #ffffff; font-weight: bold\">17991</span><span style=\"color: #000000; text-decoration-color: #000000; background-color: #ffffff\">    │ </span><span style=\"color: #008080; text-decoration-color: #008080; background-color: #ffffff; font-weight: bold\">-2662</span><span style=\"color: #000000; text-decoration-color: #000000; background-color: #ffffff\"> │   </span><span style=\"color: #008080; text-decoration-color: #008080; background-color: #ffffff; font-weight: bold\">-15</span><span style=\"color: #000000; text-decoration-color: #000000; background-color: #ffffff\"> %    │ toyota │  C-HR   │  Automatic   │  Petrol  │</span>\n",
       "<span style=\"color: #000000; text-decoration-color: #000000; background-color: #ffffff\">│   </span><span style=\"color: #008080; text-decoration-color: #008080; background-color: #ffffff; font-weight: bold\">13509</span><span style=\"color: #000000; text-decoration-color: #000000; background-color: #ffffff\">    │   </span><span style=\"color: #008080; text-decoration-color: #008080; background-color: #ffffff; font-weight: bold\">11995</span><span style=\"color: #000000; text-decoration-color: #000000; background-color: #ffffff\">    │ </span><span style=\"color: #008080; text-decoration-color: #008080; background-color: #ffffff; font-weight: bold\">-1514</span><span style=\"color: #000000; text-decoration-color: #000000; background-color: #ffffff\"> │   </span><span style=\"color: #008080; text-decoration-color: #008080; background-color: #ffffff; font-weight: bold\">-13</span><span style=\"color: #000000; text-decoration-color: #000000; background-color: #ffffff\"> %    │ toyota │  Yaris  │  Automatic   │  Hybrid  │</span>\n",
       "<span style=\"color: #000000; text-decoration-color: #000000; background-color: #ffffff\">│   </span><span style=\"color: #008080; text-decoration-color: #008080; background-color: #ffffff; font-weight: bold\">26106</span><span style=\"color: #000000; text-decoration-color: #000000; background-color: #ffffff\">    │   </span><span style=\"color: #008080; text-decoration-color: #008080; background-color: #ffffff; font-weight: bold\">25190</span><span style=\"color: #000000; text-decoration-color: #000000; background-color: #ffffff\">    │ </span><span style=\"color: #008080; text-decoration-color: #008080; background-color: #ffffff; font-weight: bold\">-916</span><span style=\"color: #000000; text-decoration-color: #000000; background-color: #ffffff\">  │    </span><span style=\"color: #008080; text-decoration-color: #008080; background-color: #ffffff; font-weight: bold\">-4</span><span style=\"color: #000000; text-decoration-color: #000000; background-color: #ffffff\"> %    │ skoda  │  Karoq  │  Automatic   │  Diesel  │</span>\n",
       "<span style=\"color: #000000; text-decoration-color: #000000; background-color: #ffffff\">│   </span><span style=\"color: #008080; text-decoration-color: #008080; background-color: #ffffff; font-weight: bold\">12664</span><span style=\"color: #000000; text-decoration-color: #000000; background-color: #ffffff\">    │   </span><span style=\"color: #008080; text-decoration-color: #008080; background-color: #ffffff; font-weight: bold\">14398</span><span style=\"color: #000000; text-decoration-color: #000000; background-color: #ffffff\">    │ </span><span style=\"color: #008080; text-decoration-color: #008080; background-color: #ffffff; font-weight: bold\">1734</span><span style=\"color: #000000; text-decoration-color: #000000; background-color: #ffffff\">  │    </span><span style=\"color: #008080; text-decoration-color: #008080; background-color: #ffffff; font-weight: bold\">12</span><span style=\"color: #000000; text-decoration-color: #000000; background-color: #ffffff\"> %    │  opel  │ Mokka X │  Semi-Auto   │  Petrol  │</span>\n",
       "<span style=\"color: #000000; text-decoration-color: #000000; background-color: #ffffff\">│   </span><span style=\"color: #008080; text-decoration-color: #008080; background-color: #ffffff; font-weight: bold\">33800</span><span style=\"color: #000000; text-decoration-color: #000000; background-color: #ffffff\">    │   </span><span style=\"color: #008080; text-decoration-color: #008080; background-color: #ffffff; font-weight: bold\">26825</span><span style=\"color: #000000; text-decoration-color: #000000; background-color: #ffffff\">    │ </span><span style=\"color: #008080; text-decoration-color: #008080; background-color: #ffffff; font-weight: bold\">-6975</span><span style=\"color: #000000; text-decoration-color: #000000; background-color: #ffffff\"> │   </span><span style=\"color: #008080; text-decoration-color: #008080; background-color: #ffffff; font-weight: bold\">-26</span><span style=\"color: #000000; text-decoration-color: #000000; background-color: #ffffff\"> %    │  bmw   │ </span><span style=\"color: #008080; text-decoration-color: #008080; background-color: #ffffff; font-weight: bold\">3</span><span style=\"color: #000000; text-decoration-color: #000000; background-color: #ffffff\"> Seri… │  Automatic   │  Petrol  │</span>\n",
       "<span style=\"color: #000000; text-decoration-color: #000000; background-color: #ffffff\">│   </span><span style=\"color: #008080; text-decoration-color: #008080; background-color: #ffffff; font-weight: bold\">17602</span><span style=\"color: #000000; text-decoration-color: #000000; background-color: #ffffff\">    │   </span><span style=\"color: #008080; text-decoration-color: #008080; background-color: #ffffff; font-weight: bold\">18490</span><span style=\"color: #000000; text-decoration-color: #000000; background-color: #ffffff\">    │  </span><span style=\"color: #008080; text-decoration-color: #008080; background-color: #ffffff; font-weight: bold\">888</span><span style=\"color: #000000; text-decoration-color: #000000; background-color: #ffffff\">  │    </span><span style=\"color: #008080; text-decoration-color: #008080; background-color: #ffffff; font-weight: bold\">5</span><span style=\"color: #000000; text-decoration-color: #000000; background-color: #ffffff\"> %     │  audi  │   Q2    │  Semi-Auto   │  Petrol  │</span>\n",
       "<span style=\"color: #000000; text-decoration-color: #000000; background-color: #ffffff\">│   </span><span style=\"color: #008080; text-decoration-color: #008080; background-color: #ffffff; font-weight: bold\">10383</span><span style=\"color: #000000; text-decoration-color: #000000; background-color: #ffffff\">    │   </span><span style=\"color: #008080; text-decoration-color: #008080; background-color: #ffffff; font-weight: bold\">10494</span><span style=\"color: #000000; text-decoration-color: #000000; background-color: #ffffff\">    │  </span><span style=\"color: #008080; text-decoration-color: #008080; background-color: #ffffff; font-weight: bold\">111</span><span style=\"color: #000000; text-decoration-color: #000000; background-color: #ffffff\">  │    </span><span style=\"color: #008080; text-decoration-color: #008080; background-color: #ffffff; font-weight: bold\">1</span><span style=\"color: #000000; text-decoration-color: #000000; background-color: #ffffff\"> %     │ toyota │  Yaris  │    Manual    │  Petrol  │</span>\n",
       "<span style=\"color: #000000; text-decoration-color: #000000; background-color: #ffffff\">│   </span><span style=\"color: #008080; text-decoration-color: #008080; background-color: #ffffff; font-weight: bold\">10984</span><span style=\"color: #000000; text-decoration-color: #000000; background-color: #ffffff\">    │    </span><span style=\"color: #008080; text-decoration-color: #008080; background-color: #ffffff; font-weight: bold\">9898</span><span style=\"color: #000000; text-decoration-color: #000000; background-color: #ffffff\">    │ </span><span style=\"color: #008080; text-decoration-color: #008080; background-color: #ffffff; font-weight: bold\">-1086</span><span style=\"color: #000000; text-decoration-color: #000000; background-color: #ffffff\"> │   </span><span style=\"color: #008080; text-decoration-color: #008080; background-color: #ffffff; font-weight: bold\">-11</span><span style=\"color: #000000; text-decoration-color: #000000; background-color: #ffffff\"> %    │   vw   │ Golf SV │    Manual    │  Diesel  │</span>\n",
       "<span style=\"color: #000000; text-decoration-color: #000000; background-color: #ffffff\">│   </span><span style=\"color: #008080; text-decoration-color: #008080; background-color: #ffffff; font-weight: bold\">36625</span><span style=\"color: #000000; text-decoration-color: #000000; background-color: #ffffff\">    │   </span><span style=\"color: #008080; text-decoration-color: #008080; background-color: #ffffff; font-weight: bold\">36984</span><span style=\"color: #000000; text-decoration-color: #000000; background-color: #ffffff\">    │  </span><span style=\"color: #008080; text-decoration-color: #008080; background-color: #ffffff; font-weight: bold\">359</span><span style=\"color: #000000; text-decoration-color: #000000; background-color: #ffffff\">  │    </span><span style=\"color: #008080; text-decoration-color: #008080; background-color: #ffffff; font-weight: bold\">1</span><span style=\"color: #000000; text-decoration-color: #000000; background-color: #ffffff\"> %     │  audi  │   Q5    │  Automatic   │  Diesel  │</span>\n",
       "<span style=\"color: #000000; text-decoration-color: #000000; background-color: #ffffff\">│   </span><span style=\"color: #008080; text-decoration-color: #008080; background-color: #ffffff; font-weight: bold\">25824</span><span style=\"color: #000000; text-decoration-color: #000000; background-color: #ffffff\">    │   </span><span style=\"color: #008080; text-decoration-color: #008080; background-color: #ffffff; font-weight: bold\">28919</span><span style=\"color: #000000; text-decoration-color: #000000; background-color: #ffffff\">    │ </span><span style=\"color: #008080; text-decoration-color: #008080; background-color: #ffffff; font-weight: bold\">3095</span><span style=\"color: #000000; text-decoration-color: #000000; background-color: #ffffff\">  │    </span><span style=\"color: #008080; text-decoration-color: #008080; background-color: #ffffff; font-weight: bold\">11</span><span style=\"color: #000000; text-decoration-color: #000000; background-color: #ffffff\"> %    │  bmw   │ </span><span style=\"color: #008080; text-decoration-color: #008080; background-color: #ffffff; font-weight: bold\">5</span><span style=\"color: #000000; text-decoration-color: #000000; background-color: #ffffff\"> Seri… │  Semi-Auto   │  Diesel  │</span>\n",
       "<span style=\"color: #000000; text-decoration-color: #000000; background-color: #ffffff\">└────────────┴────────────┴───────┴────────────┴────────┴─────────┴──────────────┴──────────┘</span>\n",
       "</pre>\n"
      ],
      "text/plain": [
       "\u001b[3;30;107mPrediction results                                                                           \u001b[0m\n",
       "\u001b[30;107m┏━━━━━━━━━━━━┳━━━━━━━━━━━━┳━━━━━━━┳━━━━━━━━━━━━┳━━━━━━━━┳━━━━━━━━━┳━━━━━━━━━━━━━━┳━━━━━━━━━━┓\u001b[0m\n",
       "\u001b[30;107m┃\u001b[0m\u001b[30;107m \u001b[0m\u001b[30;107mPrediction\u001b[0m\u001b[30;107m \u001b[0m\u001b[30;107m┃\u001b[0m\u001b[30;107m \u001b[0m\u001b[30;107mReal Price\u001b[0m\u001b[30;107m \u001b[0m\u001b[30;107m┃\u001b[0m\u001b[30;107m \u001b[0m\u001b[30;107mError\u001b[0m\u001b[30;107m \u001b[0m\u001b[30;107m┃\u001b[0m\u001b[30;107m \u001b[0m\u001b[30;107mPercentage\u001b[0m\u001b[30;107m \u001b[0m\u001b[30;107m┃\u001b[0m\u001b[30;107m \u001b[0m\u001b[30;107mbrand \u001b[0m\u001b[30;107m \u001b[0m\u001b[30;107m┃\u001b[0m\u001b[30;107m \u001b[0m\u001b[30;107m model \u001b[0m\u001b[30;107m \u001b[0m\u001b[30;107m┃\u001b[0m\u001b[30;107m \u001b[0m\u001b[30;107mtransmission\u001b[0m\u001b[30;107m \u001b[0m\u001b[30;107m┃\u001b[0m\u001b[30;107m \u001b[0m\u001b[30;107mfuel_ty…\u001b[0m\u001b[30;107m \u001b[0m\u001b[30;107m┃\u001b[0m\n",
       "\u001b[30;107m┡━━━━━━━━━━━━╇━━━━━━━━━━━━╇━━━━━━━╇━━━━━━━━━━━━╇━━━━━━━━╇━━━━━━━━━╇━━━━━━━━━━━━━━╇━━━━━━━━━━┩\u001b[0m\n",
       "\u001b[30;107m│\u001b[0m\u001b[30;107m \u001b[0m\u001b[30;107m  \u001b[0m\u001b[1;36;107m20653\u001b[0m\u001b[30;107m   \u001b[0m\u001b[30;107m \u001b[0m\u001b[30;107m│\u001b[0m\u001b[30;107m \u001b[0m\u001b[30;107m  \u001b[0m\u001b[1;36;107m17991\u001b[0m\u001b[30;107m   \u001b[0m\u001b[30;107m \u001b[0m\u001b[30;107m│\u001b[0m\u001b[30;107m \u001b[0m\u001b[1;36;107m-2662\u001b[0m\u001b[30;107m \u001b[0m\u001b[30;107m│\u001b[0m\u001b[30;107m \u001b[0m\u001b[30;107m  \u001b[0m\u001b[1;36;107m-15\u001b[0m\u001b[30;107m %   \u001b[0m\u001b[30;107m \u001b[0m\u001b[30;107m│\u001b[0m\u001b[30;107m \u001b[0m\u001b[30;107mtoyota\u001b[0m\u001b[30;107m \u001b[0m\u001b[30;107m│\u001b[0m\u001b[30;107m \u001b[0m\u001b[30;107m C-HR  \u001b[0m\u001b[30;107m \u001b[0m\u001b[30;107m│\u001b[0m\u001b[30;107m \u001b[0m\u001b[30;107m Automatic  \u001b[0m\u001b[30;107m \u001b[0m\u001b[30;107m│\u001b[0m\u001b[30;107m \u001b[0m\u001b[30;107m Petrol \u001b[0m\u001b[30;107m \u001b[0m\u001b[30;107m│\u001b[0m\n",
       "\u001b[30;107m│\u001b[0m\u001b[30;107m \u001b[0m\u001b[30;107m  \u001b[0m\u001b[1;36;107m13509\u001b[0m\u001b[30;107m   \u001b[0m\u001b[30;107m \u001b[0m\u001b[30;107m│\u001b[0m\u001b[30;107m \u001b[0m\u001b[30;107m  \u001b[0m\u001b[1;36;107m11995\u001b[0m\u001b[30;107m   \u001b[0m\u001b[30;107m \u001b[0m\u001b[30;107m│\u001b[0m\u001b[30;107m \u001b[0m\u001b[1;36;107m-1514\u001b[0m\u001b[30;107m \u001b[0m\u001b[30;107m│\u001b[0m\u001b[30;107m \u001b[0m\u001b[30;107m  \u001b[0m\u001b[1;36;107m-13\u001b[0m\u001b[30;107m %   \u001b[0m\u001b[30;107m \u001b[0m\u001b[30;107m│\u001b[0m\u001b[30;107m \u001b[0m\u001b[30;107mtoyota\u001b[0m\u001b[30;107m \u001b[0m\u001b[30;107m│\u001b[0m\u001b[30;107m \u001b[0m\u001b[30;107m Yaris \u001b[0m\u001b[30;107m \u001b[0m\u001b[30;107m│\u001b[0m\u001b[30;107m \u001b[0m\u001b[30;107m Automatic  \u001b[0m\u001b[30;107m \u001b[0m\u001b[30;107m│\u001b[0m\u001b[30;107m \u001b[0m\u001b[30;107m Hybrid \u001b[0m\u001b[30;107m \u001b[0m\u001b[30;107m│\u001b[0m\n",
       "\u001b[30;107m│\u001b[0m\u001b[30;107m \u001b[0m\u001b[30;107m  \u001b[0m\u001b[1;36;107m26106\u001b[0m\u001b[30;107m   \u001b[0m\u001b[30;107m \u001b[0m\u001b[30;107m│\u001b[0m\u001b[30;107m \u001b[0m\u001b[30;107m  \u001b[0m\u001b[1;36;107m25190\u001b[0m\u001b[30;107m   \u001b[0m\u001b[30;107m \u001b[0m\u001b[30;107m│\u001b[0m\u001b[30;107m \u001b[0m\u001b[1;36;107m-916\u001b[0m\u001b[30;107m \u001b[0m\u001b[30;107m \u001b[0m\u001b[30;107m│\u001b[0m\u001b[30;107m \u001b[0m\u001b[30;107m   \u001b[0m\u001b[1;36;107m-4\u001b[0m\u001b[30;107m %   \u001b[0m\u001b[30;107m \u001b[0m\u001b[30;107m│\u001b[0m\u001b[30;107m \u001b[0m\u001b[30;107mskoda \u001b[0m\u001b[30;107m \u001b[0m\u001b[30;107m│\u001b[0m\u001b[30;107m \u001b[0m\u001b[30;107m Karoq \u001b[0m\u001b[30;107m \u001b[0m\u001b[30;107m│\u001b[0m\u001b[30;107m \u001b[0m\u001b[30;107m Automatic  \u001b[0m\u001b[30;107m \u001b[0m\u001b[30;107m│\u001b[0m\u001b[30;107m \u001b[0m\u001b[30;107m Diesel \u001b[0m\u001b[30;107m \u001b[0m\u001b[30;107m│\u001b[0m\n",
       "\u001b[30;107m│\u001b[0m\u001b[30;107m \u001b[0m\u001b[30;107m  \u001b[0m\u001b[1;36;107m12664\u001b[0m\u001b[30;107m   \u001b[0m\u001b[30;107m \u001b[0m\u001b[30;107m│\u001b[0m\u001b[30;107m \u001b[0m\u001b[30;107m  \u001b[0m\u001b[1;36;107m14398\u001b[0m\u001b[30;107m   \u001b[0m\u001b[30;107m \u001b[0m\u001b[30;107m│\u001b[0m\u001b[30;107m \u001b[0m\u001b[1;36;107m1734\u001b[0m\u001b[30;107m \u001b[0m\u001b[30;107m \u001b[0m\u001b[30;107m│\u001b[0m\u001b[30;107m \u001b[0m\u001b[30;107m   \u001b[0m\u001b[1;36;107m12\u001b[0m\u001b[30;107m %   \u001b[0m\u001b[30;107m \u001b[0m\u001b[30;107m│\u001b[0m\u001b[30;107m \u001b[0m\u001b[30;107m opel \u001b[0m\u001b[30;107m \u001b[0m\u001b[30;107m│\u001b[0m\u001b[30;107m \u001b[0m\u001b[30;107mMokka X\u001b[0m\u001b[30;107m \u001b[0m\u001b[30;107m│\u001b[0m\u001b[30;107m \u001b[0m\u001b[30;107m Semi-Auto  \u001b[0m\u001b[30;107m \u001b[0m\u001b[30;107m│\u001b[0m\u001b[30;107m \u001b[0m\u001b[30;107m Petrol \u001b[0m\u001b[30;107m \u001b[0m\u001b[30;107m│\u001b[0m\n",
       "\u001b[30;107m│\u001b[0m\u001b[30;107m \u001b[0m\u001b[30;107m  \u001b[0m\u001b[1;36;107m33800\u001b[0m\u001b[30;107m   \u001b[0m\u001b[30;107m \u001b[0m\u001b[30;107m│\u001b[0m\u001b[30;107m \u001b[0m\u001b[30;107m  \u001b[0m\u001b[1;36;107m26825\u001b[0m\u001b[30;107m   \u001b[0m\u001b[30;107m \u001b[0m\u001b[30;107m│\u001b[0m\u001b[30;107m \u001b[0m\u001b[1;36;107m-6975\u001b[0m\u001b[30;107m \u001b[0m\u001b[30;107m│\u001b[0m\u001b[30;107m \u001b[0m\u001b[30;107m  \u001b[0m\u001b[1;36;107m-26\u001b[0m\u001b[30;107m %   \u001b[0m\u001b[30;107m \u001b[0m\u001b[30;107m│\u001b[0m\u001b[30;107m \u001b[0m\u001b[30;107m bmw  \u001b[0m\u001b[30;107m \u001b[0m\u001b[30;107m│\u001b[0m\u001b[30;107m \u001b[0m\u001b[1;36;107m3\u001b[0m\u001b[30;107m Seri…\u001b[0m\u001b[30;107m \u001b[0m\u001b[30;107m│\u001b[0m\u001b[30;107m \u001b[0m\u001b[30;107m Automatic  \u001b[0m\u001b[30;107m \u001b[0m\u001b[30;107m│\u001b[0m\u001b[30;107m \u001b[0m\u001b[30;107m Petrol \u001b[0m\u001b[30;107m \u001b[0m\u001b[30;107m│\u001b[0m\n",
       "\u001b[30;107m│\u001b[0m\u001b[30;107m \u001b[0m\u001b[30;107m  \u001b[0m\u001b[1;36;107m17602\u001b[0m\u001b[30;107m   \u001b[0m\u001b[30;107m \u001b[0m\u001b[30;107m│\u001b[0m\u001b[30;107m \u001b[0m\u001b[30;107m  \u001b[0m\u001b[1;36;107m18490\u001b[0m\u001b[30;107m   \u001b[0m\u001b[30;107m \u001b[0m\u001b[30;107m│\u001b[0m\u001b[30;107m \u001b[0m\u001b[30;107m \u001b[0m\u001b[1;36;107m888\u001b[0m\u001b[30;107m \u001b[0m\u001b[30;107m \u001b[0m\u001b[30;107m│\u001b[0m\u001b[30;107m \u001b[0m\u001b[30;107m   \u001b[0m\u001b[1;36;107m5\u001b[0m\u001b[30;107m %    \u001b[0m\u001b[30;107m \u001b[0m\u001b[30;107m│\u001b[0m\u001b[30;107m \u001b[0m\u001b[30;107m audi \u001b[0m\u001b[30;107m \u001b[0m\u001b[30;107m│\u001b[0m\u001b[30;107m \u001b[0m\u001b[30;107m  Q2   \u001b[0m\u001b[30;107m \u001b[0m\u001b[30;107m│\u001b[0m\u001b[30;107m \u001b[0m\u001b[30;107m Semi-Auto  \u001b[0m\u001b[30;107m \u001b[0m\u001b[30;107m│\u001b[0m\u001b[30;107m \u001b[0m\u001b[30;107m Petrol \u001b[0m\u001b[30;107m \u001b[0m\u001b[30;107m│\u001b[0m\n",
       "\u001b[30;107m│\u001b[0m\u001b[30;107m \u001b[0m\u001b[30;107m  \u001b[0m\u001b[1;36;107m10383\u001b[0m\u001b[30;107m   \u001b[0m\u001b[30;107m \u001b[0m\u001b[30;107m│\u001b[0m\u001b[30;107m \u001b[0m\u001b[30;107m  \u001b[0m\u001b[1;36;107m10494\u001b[0m\u001b[30;107m   \u001b[0m\u001b[30;107m \u001b[0m\u001b[30;107m│\u001b[0m\u001b[30;107m \u001b[0m\u001b[30;107m \u001b[0m\u001b[1;36;107m111\u001b[0m\u001b[30;107m \u001b[0m\u001b[30;107m \u001b[0m\u001b[30;107m│\u001b[0m\u001b[30;107m \u001b[0m\u001b[30;107m   \u001b[0m\u001b[1;36;107m1\u001b[0m\u001b[30;107m %    \u001b[0m\u001b[30;107m \u001b[0m\u001b[30;107m│\u001b[0m\u001b[30;107m \u001b[0m\u001b[30;107mtoyota\u001b[0m\u001b[30;107m \u001b[0m\u001b[30;107m│\u001b[0m\u001b[30;107m \u001b[0m\u001b[30;107m Yaris \u001b[0m\u001b[30;107m \u001b[0m\u001b[30;107m│\u001b[0m\u001b[30;107m \u001b[0m\u001b[30;107m   Manual   \u001b[0m\u001b[30;107m \u001b[0m\u001b[30;107m│\u001b[0m\u001b[30;107m \u001b[0m\u001b[30;107m Petrol \u001b[0m\u001b[30;107m \u001b[0m\u001b[30;107m│\u001b[0m\n",
       "\u001b[30;107m│\u001b[0m\u001b[30;107m \u001b[0m\u001b[30;107m  \u001b[0m\u001b[1;36;107m10984\u001b[0m\u001b[30;107m   \u001b[0m\u001b[30;107m \u001b[0m\u001b[30;107m│\u001b[0m\u001b[30;107m \u001b[0m\u001b[30;107m   \u001b[0m\u001b[1;36;107m9898\u001b[0m\u001b[30;107m   \u001b[0m\u001b[30;107m \u001b[0m\u001b[30;107m│\u001b[0m\u001b[30;107m \u001b[0m\u001b[1;36;107m-1086\u001b[0m\u001b[30;107m \u001b[0m\u001b[30;107m│\u001b[0m\u001b[30;107m \u001b[0m\u001b[30;107m  \u001b[0m\u001b[1;36;107m-11\u001b[0m\u001b[30;107m %   \u001b[0m\u001b[30;107m \u001b[0m\u001b[30;107m│\u001b[0m\u001b[30;107m \u001b[0m\u001b[30;107m  vw  \u001b[0m\u001b[30;107m \u001b[0m\u001b[30;107m│\u001b[0m\u001b[30;107m \u001b[0m\u001b[30;107mGolf SV\u001b[0m\u001b[30;107m \u001b[0m\u001b[30;107m│\u001b[0m\u001b[30;107m \u001b[0m\u001b[30;107m   Manual   \u001b[0m\u001b[30;107m \u001b[0m\u001b[30;107m│\u001b[0m\u001b[30;107m \u001b[0m\u001b[30;107m Diesel \u001b[0m\u001b[30;107m \u001b[0m\u001b[30;107m│\u001b[0m\n",
       "\u001b[30;107m│\u001b[0m\u001b[30;107m \u001b[0m\u001b[30;107m  \u001b[0m\u001b[1;36;107m36625\u001b[0m\u001b[30;107m   \u001b[0m\u001b[30;107m \u001b[0m\u001b[30;107m│\u001b[0m\u001b[30;107m \u001b[0m\u001b[30;107m  \u001b[0m\u001b[1;36;107m36984\u001b[0m\u001b[30;107m   \u001b[0m\u001b[30;107m \u001b[0m\u001b[30;107m│\u001b[0m\u001b[30;107m \u001b[0m\u001b[30;107m \u001b[0m\u001b[1;36;107m359\u001b[0m\u001b[30;107m \u001b[0m\u001b[30;107m \u001b[0m\u001b[30;107m│\u001b[0m\u001b[30;107m \u001b[0m\u001b[30;107m   \u001b[0m\u001b[1;36;107m1\u001b[0m\u001b[30;107m %    \u001b[0m\u001b[30;107m \u001b[0m\u001b[30;107m│\u001b[0m\u001b[30;107m \u001b[0m\u001b[30;107m audi \u001b[0m\u001b[30;107m \u001b[0m\u001b[30;107m│\u001b[0m\u001b[30;107m \u001b[0m\u001b[30;107m  Q5   \u001b[0m\u001b[30;107m \u001b[0m\u001b[30;107m│\u001b[0m\u001b[30;107m \u001b[0m\u001b[30;107m Automatic  \u001b[0m\u001b[30;107m \u001b[0m\u001b[30;107m│\u001b[0m\u001b[30;107m \u001b[0m\u001b[30;107m Diesel \u001b[0m\u001b[30;107m \u001b[0m\u001b[30;107m│\u001b[0m\n",
       "\u001b[30;107m│\u001b[0m\u001b[30;107m \u001b[0m\u001b[30;107m  \u001b[0m\u001b[1;36;107m25824\u001b[0m\u001b[30;107m   \u001b[0m\u001b[30;107m \u001b[0m\u001b[30;107m│\u001b[0m\u001b[30;107m \u001b[0m\u001b[30;107m  \u001b[0m\u001b[1;36;107m28919\u001b[0m\u001b[30;107m   \u001b[0m\u001b[30;107m \u001b[0m\u001b[30;107m│\u001b[0m\u001b[30;107m \u001b[0m\u001b[1;36;107m3095\u001b[0m\u001b[30;107m \u001b[0m\u001b[30;107m \u001b[0m\u001b[30;107m│\u001b[0m\u001b[30;107m \u001b[0m\u001b[30;107m   \u001b[0m\u001b[1;36;107m11\u001b[0m\u001b[30;107m %   \u001b[0m\u001b[30;107m \u001b[0m\u001b[30;107m│\u001b[0m\u001b[30;107m \u001b[0m\u001b[30;107m bmw  \u001b[0m\u001b[30;107m \u001b[0m\u001b[30;107m│\u001b[0m\u001b[30;107m \u001b[0m\u001b[1;36;107m5\u001b[0m\u001b[30;107m Seri…\u001b[0m\u001b[30;107m \u001b[0m\u001b[30;107m│\u001b[0m\u001b[30;107m \u001b[0m\u001b[30;107m Semi-Auto  \u001b[0m\u001b[30;107m \u001b[0m\u001b[30;107m│\u001b[0m\u001b[30;107m \u001b[0m\u001b[30;107m Diesel \u001b[0m\u001b[30;107m \u001b[0m\u001b[30;107m│\u001b[0m\n",
       "\u001b[30;107m└────────────┴────────────┴───────┴────────────┴────────┴─────────┴──────────────┴──────────┘\u001b[0m\n"
      ]
     },
     "metadata": {},
     "output_type": "display_data"
    }
   ],
   "source": [
    "evaluate_prediction(iterative_model, X_test, y_test,sample=10,add_columns=['brand','model','transmission','fuel_type'])"
   ]
  }
 ],
 "metadata": {
  "celltoolbar": "Slideshow",
  "kernelspec": {
   "display_name": "Python 3",
   "language": "python",
   "name": "python3"
  },
  "language_info": {
   "codemirror_mode": {
    "name": "ipython",
    "version": 3
   },
   "file_extension": ".py",
   "mimetype": "text/x-python",
   "name": "python",
   "nbconvert_exporter": "python",
   "pygments_lexer": "ipython3",
   "version": "3.8.11"
  },
  "rise": {
   "footer": "<h3>JBS</h3>",
   "header": "<h1>UK Used Car Prediction</h1>",
   "start_slideshow_at": "beginning"
  },
  "toc": {
   "base_numbering": 1,
   "nav_menu": {},
   "number_sections": true,
   "sideBar": true,
   "skip_h1_title": false,
   "title_cell": "Table of Contents",
   "title_sidebar": "Contents",
   "toc_cell": false,
   "toc_position": {},
   "toc_section_display": true,
   "toc_window_display": false
  }
 },
 "nbformat": 4,
 "nbformat_minor": 5
}
