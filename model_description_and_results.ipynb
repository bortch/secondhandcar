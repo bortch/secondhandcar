{
 "cells": [
  {
   "cell_type": "code",
   "execution_count": 16,
   "id": "c30d3dbb",
   "metadata": {},
   "outputs": [],
   "source": [
    "from sklearn import set_config\n",
    "from os.path import join, isfile\n",
    "from joblib import dump, load\n",
    "from feature_preprocessing_pipeline import categorize, extract_features"
   ]
  },
  {
   "cell_type": "code",
   "execution_count": 3,
   "id": "799b2867",
   "metadata": {},
   "outputs": [],
   "source": [
    "set_config(display='diagram') "
   ]
  },
  {
   "cell_type": "code",
   "execution_count": 6,
   "id": "38116cba",
   "metadata": {},
   "outputs": [],
   "source": [
    "dataset_directory_path = 'dataset/'\n",
    "model_directory_path = 'model/'"
   ]
  },
  {
   "cell_type": "code",
   "execution_count": 17,
   "id": "51e30144",
   "metadata": {},
   "outputs": [],
   "source": [
    "model_name = 'RFR_RMSE-678'\n",
    "model_filename = f'{model_name}.joblib'\n",
    "model_path = join(model_directory_path, model_filename)\n",
    "model = load(model_path)"
   ]
  },
  {
   "cell_type": "markdown",
   "id": "5e1f1e53",
   "metadata": {},
   "source": [
    "## Model Diagram"
   ]
  },
  {
   "cell_type": "code",
   "execution_count": 18,
   "id": "ad9ea6e2",
   "metadata": {},
   "outputs": [
    {
     "data": {
      "text/html": [
       "<style>#sk-9096f9c1-53f5-4322-86e0-f04b398b3763 {color: black;background-color: white;}#sk-9096f9c1-53f5-4322-86e0-f04b398b3763 pre{padding: 0;}#sk-9096f9c1-53f5-4322-86e0-f04b398b3763 div.sk-toggleable {background-color: white;}#sk-9096f9c1-53f5-4322-86e0-f04b398b3763 label.sk-toggleable__label {cursor: pointer;display: block;width: 100%;margin-bottom: 0;padding: 0.2em 0.3em;box-sizing: border-box;text-align: center;}#sk-9096f9c1-53f5-4322-86e0-f04b398b3763 div.sk-toggleable__content {max-height: 0;max-width: 0;overflow: hidden;text-align: left;background-color: #f0f8ff;}#sk-9096f9c1-53f5-4322-86e0-f04b398b3763 div.sk-toggleable__content pre {margin: 0.2em;color: black;border-radius: 0.25em;background-color: #f0f8ff;}#sk-9096f9c1-53f5-4322-86e0-f04b398b3763 input.sk-toggleable__control:checked~div.sk-toggleable__content {max-height: 200px;max-width: 100%;overflow: auto;}#sk-9096f9c1-53f5-4322-86e0-f04b398b3763 div.sk-estimator input.sk-toggleable__control:checked~label.sk-toggleable__label {background-color: #d4ebff;}#sk-9096f9c1-53f5-4322-86e0-f04b398b3763 div.sk-label input.sk-toggleable__control:checked~label.sk-toggleable__label {background-color: #d4ebff;}#sk-9096f9c1-53f5-4322-86e0-f04b398b3763 input.sk-hidden--visually {border: 0;clip: rect(1px 1px 1px 1px);clip: rect(1px, 1px, 1px, 1px);height: 1px;margin: -1px;overflow: hidden;padding: 0;position: absolute;width: 1px;}#sk-9096f9c1-53f5-4322-86e0-f04b398b3763 div.sk-estimator {font-family: monospace;background-color: #f0f8ff;margin: 0.25em 0.25em;border: 1px dotted black;border-radius: 0.25em;box-sizing: border-box;}#sk-9096f9c1-53f5-4322-86e0-f04b398b3763 div.sk-estimator:hover {background-color: #d4ebff;}#sk-9096f9c1-53f5-4322-86e0-f04b398b3763 div.sk-parallel-item::after {content: \"\";width: 100%;border-bottom: 1px solid gray;flex-grow: 1;}#sk-9096f9c1-53f5-4322-86e0-f04b398b3763 div.sk-label:hover label.sk-toggleable__label {background-color: #d4ebff;}#sk-9096f9c1-53f5-4322-86e0-f04b398b3763 div.sk-serial::before {content: \"\";position: absolute;border-left: 1px solid gray;box-sizing: border-box;top: 2em;bottom: 0;left: 50%;}#sk-9096f9c1-53f5-4322-86e0-f04b398b3763 div.sk-serial {display: flex;flex-direction: column;align-items: center;background-color: white;}#sk-9096f9c1-53f5-4322-86e0-f04b398b3763 div.sk-item {z-index: 1;}#sk-9096f9c1-53f5-4322-86e0-f04b398b3763 div.sk-parallel {display: flex;align-items: stretch;justify-content: center;background-color: white;}#sk-9096f9c1-53f5-4322-86e0-f04b398b3763 div.sk-parallel-item {display: flex;flex-direction: column;position: relative;background-color: white;}#sk-9096f9c1-53f5-4322-86e0-f04b398b3763 div.sk-parallel-item:first-child::after {align-self: flex-end;width: 50%;}#sk-9096f9c1-53f5-4322-86e0-f04b398b3763 div.sk-parallel-item:last-child::after {align-self: flex-start;width: 50%;}#sk-9096f9c1-53f5-4322-86e0-f04b398b3763 div.sk-parallel-item:only-child::after {width: 0;}#sk-9096f9c1-53f5-4322-86e0-f04b398b3763 div.sk-dashed-wrapped {border: 1px dashed gray;margin: 0.2em;box-sizing: border-box;padding-bottom: 0.1em;background-color: white;position: relative;}#sk-9096f9c1-53f5-4322-86e0-f04b398b3763 div.sk-label label {font-family: monospace;font-weight: bold;background-color: white;display: inline-block;line-height: 1.2em;}#sk-9096f9c1-53f5-4322-86e0-f04b398b3763 div.sk-label-container {position: relative;z-index: 2;text-align: center;}#sk-9096f9c1-53f5-4322-86e0-f04b398b3763 div.sk-container {display: inline-block;position: relative;}</style><div id=\"sk-9096f9c1-53f5-4322-86e0-f04b398b3763\" class\"sk-top-container\"><div class=\"sk-container\"><div class=\"sk-item sk-dashed-wrapped\"><div class=\"sk-label-container\"><div class=\"sk-label sk-toggleable\"><input class=\"sk-toggleable__control sk-hidden--visually\" id=\"9e7ddd76-6995-4bad-9e90-9dd364b11f4c\" type=\"checkbox\" ><label class=\"sk-toggleable__label\" for=\"9e7ddd76-6995-4bad-9e90-9dd364b11f4c\">Pipeline</label><div class=\"sk-toggleable__content\"><pre>Pipeline(steps=[('Features Extraction',\n",
       "                 FunctionTransformer(func=<function extract_features at 0x7f0e47a48820>)),\n",
       "                ('Columns Transformer',\n",
       "                 ColumnTransformer(remainder='passthrough',\n",
       "                                   transformers=[('Poly features Creator',\n",
       "                                                  Pipeline(steps=[('Polynomial '\n",
       "                                                                   'Features',\n",
       "                                                                   PolynomialFeatures(degree=3,\n",
       "                                                                                      include_bias=False,\n",
       "                                                                                      interaction_only=True)),\n",
       "                                                                  ('std Scaler',\n",
       "                                                                   StandardScaler())...\n",
       "                                                                   'Encoder',\n",
       "                                                                   OrdinalEncoder())],\n",
       "                                                           verbose=True),\n",
       "                                                  ['transmission',\n",
       "                                                   'fuel_type']),\n",
       "                                                 ('Brand OHE',\n",
       "                                                  Pipeline(steps=[('Categorizer',\n",
       "                                                                   FunctionTransformer(func=<function categorize at 0x7f0e4887bc10>)),\n",
       "                                                                  ('OHE',\n",
       "                                                                   OneHotEncoder(handle_unknown='ignore'))],\n",
       "                                                           verbose=True),\n",
       "                                                  ['brand'])],\n",
       "                                   verbose=True)),\n",
       "                ('Random Forest Regressor',\n",
       "                 RandomForestRegressor(n_estimators=500, n_jobs=2))],\n",
       "         verbose=True)</pre></div></div></div><div class=\"sk-serial\"><div class=\"sk-item\"><div class=\"sk-estimator sk-toggleable\"><input class=\"sk-toggleable__control sk-hidden--visually\" id=\"f611c62a-6e8b-49ce-9374-974b7bb946e9\" type=\"checkbox\" ><label class=\"sk-toggleable__label\" for=\"f611c62a-6e8b-49ce-9374-974b7bb946e9\">FunctionTransformer</label><div class=\"sk-toggleable__content\"><pre>FunctionTransformer(func=<function extract_features at 0x7f0e47a48820>)</pre></div></div></div><div class=\"sk-item sk-dashed-wrapped\"><div class=\"sk-label-container\"><div class=\"sk-label sk-toggleable\"><input class=\"sk-toggleable__control sk-hidden--visually\" id=\"3f13d705-a6f5-4f38-9b01-e7aef49c1cdb\" type=\"checkbox\" ><label class=\"sk-toggleable__label\" for=\"3f13d705-a6f5-4f38-9b01-e7aef49c1cdb\">Columns Transformer: ColumnTransformer</label><div class=\"sk-toggleable__content\"><pre>ColumnTransformer(remainder='passthrough',\n",
       "                  transformers=[('Poly features Creator',\n",
       "                                 Pipeline(steps=[('Polynomial Features',\n",
       "                                                  PolynomialFeatures(degree=3,\n",
       "                                                                     include_bias=False,\n",
       "                                                                     interaction_only=True)),\n",
       "                                                 ('std Scaler',\n",
       "                                                  StandardScaler())],\n",
       "                                          verbose=True),\n",
       "                                 <sklearn.compose._column_transformer.make_column_selector object at 0x7f0dc92b0430>),\n",
       "                                ('Int to Float Converter', TypeConvert...\n",
       "                                 Pipeline(steps=[('Categorizer',\n",
       "                                                  FunctionTransformer(func=<function categorize at 0x7f0e4887bc10>)),\n",
       "                                                 ('Ordinal Encoder',\n",
       "                                                  OrdinalEncoder())],\n",
       "                                          verbose=True),\n",
       "                                 ['transmission', 'fuel_type']),\n",
       "                                ('Brand OHE',\n",
       "                                 Pipeline(steps=[('Categorizer',\n",
       "                                                  FunctionTransformer(func=<function categorize at 0x7f0e4887bc10>)),\n",
       "                                                 ('OHE',\n",
       "                                                  OneHotEncoder(handle_unknown='ignore'))],\n",
       "                                          verbose=True),\n",
       "                                 ['brand'])],\n",
       "                  verbose=True)</pre></div></div></div><div class=\"sk-parallel\"><div class=\"sk-parallel-item\"><div class=\"sk-item\"><div class=\"sk-label-container\"><div class=\"sk-label sk-toggleable\"><input class=\"sk-toggleable__control sk-hidden--visually\" id=\"a175b8ac-6299-4d88-9ab8-b039a5ab42e8\" type=\"checkbox\" ><label class=\"sk-toggleable__label\" for=\"a175b8ac-6299-4d88-9ab8-b039a5ab42e8\">Poly features Creator</label><div class=\"sk-toggleable__content\"><pre><sklearn.compose._column_transformer.make_column_selector object at 0x7f0dc92b0430></pre></div></div></div><div class=\"sk-serial\"><div class=\"sk-item\"><div class=\"sk-serial\"><div class=\"sk-item\"><div class=\"sk-estimator sk-toggleable\"><input class=\"sk-toggleable__control sk-hidden--visually\" id=\"0a25232c-a40c-46e0-bc40-4301335e9609\" type=\"checkbox\" ><label class=\"sk-toggleable__label\" for=\"0a25232c-a40c-46e0-bc40-4301335e9609\">PolynomialFeatures</label><div class=\"sk-toggleable__content\"><pre>PolynomialFeatures(degree=3, include_bias=False, interaction_only=True)</pre></div></div></div><div class=\"sk-item\"><div class=\"sk-estimator sk-toggleable\"><input class=\"sk-toggleable__control sk-hidden--visually\" id=\"a09b2263-0adc-4570-8f3f-186b4ac710fe\" type=\"checkbox\" ><label class=\"sk-toggleable__label\" for=\"a09b2263-0adc-4570-8f3f-186b4ac710fe\">StandardScaler</label><div class=\"sk-toggleable__content\"><pre>StandardScaler()</pre></div></div></div></div></div></div></div></div><div class=\"sk-parallel-item\"><div class=\"sk-item\"><div class=\"sk-label-container\"><div class=\"sk-label sk-toggleable\"><input class=\"sk-toggleable__control sk-hidden--visually\" id=\"f10dbb17-187f-458a-a080-417b8f9d0220\" type=\"checkbox\" ><label class=\"sk-toggleable__label\" for=\"f10dbb17-187f-458a-a080-417b8f9d0220\">Int to Float Converter</label><div class=\"sk-toggleable__content\"><pre>['mileage']</pre></div></div></div><div class=\"sk-serial\"><div class=\"sk-item\"><div class=\"sk-estimator sk-toggleable\"><input class=\"sk-toggleable__control sk-hidden--visually\" id=\"fb30e51c-4721-4263-9f0a-0bd413db2081\" type=\"checkbox\" ><label class=\"sk-toggleable__label\" for=\"fb30e51c-4721-4263-9f0a-0bd413db2081\">TypeConverter</label><div class=\"sk-toggleable__content\"><pre>TypeConverter()</pre></div></div></div></div></div></div><div class=\"sk-parallel-item\"><div class=\"sk-item\"><div class=\"sk-label-container\"><div class=\"sk-label sk-toggleable\"><input class=\"sk-toggleable__control sk-hidden--visually\" id=\"f3138d64-13a9-4a39-8d63-1259355bce84\" type=\"checkbox\" ><label class=\"sk-toggleable__label\" for=\"f3138d64-13a9-4a39-8d63-1259355bce84\">mpg Discretizer</label><div class=\"sk-toggleable__content\"><pre>['mpg']</pre></div></div></div><div class=\"sk-serial\"><div class=\"sk-item\"><div class=\"sk-estimator sk-toggleable\"><input class=\"sk-toggleable__control sk-hidden--visually\" id=\"17ff3243-120b-4b06-bb76-fbad100c42e8\" type=\"checkbox\" ><label class=\"sk-toggleable__label\" for=\"17ff3243-120b-4b06-bb76-fbad100c42e8\">KBinsDiscretizer</label><div class=\"sk-toggleable__content\"><pre>KBinsDiscretizer(n_bins=6, strategy='kmeans')</pre></div></div></div></div></div></div><div class=\"sk-parallel-item\"><div class=\"sk-item\"><div class=\"sk-label-container\"><div class=\"sk-label sk-toggleable\"><input class=\"sk-toggleable__control sk-hidden--visually\" id=\"59f57a40-80ad-4bb0-9cf2-974a013d4307\" type=\"checkbox\" ><label class=\"sk-toggleable__label\" for=\"59f57a40-80ad-4bb0-9cf2-974a013d4307\">engine_size Discretizer</label><div class=\"sk-toggleable__content\"><pre>['engine_size']</pre></div></div></div><div class=\"sk-serial\"><div class=\"sk-item\"><div class=\"sk-estimator sk-toggleable\"><input class=\"sk-toggleable__control sk-hidden--visually\" id=\"7bd08d30-93a6-44a8-a460-8cec7c7ed5a7\" type=\"checkbox\" ><label class=\"sk-toggleable__label\" for=\"7bd08d30-93a6-44a8-a460-8cec7c7ed5a7\">KBinsDiscretizer</label><div class=\"sk-toggleable__content\"><pre>KBinsDiscretizer(encode='ordinal', n_bins=4, strategy='kmeans')</pre></div></div></div></div></div></div><div class=\"sk-parallel-item\"><div class=\"sk-item\"><div class=\"sk-label-container\"><div class=\"sk-label sk-toggleable\"><input class=\"sk-toggleable__control sk-hidden--visually\" id=\"323140df-e833-40c9-954a-20d98fbc7e41\" type=\"checkbox\" ><label class=\"sk-toggleable__label\" for=\"323140df-e833-40c9-954a-20d98fbc7e41\">tax Discretizer</label><div class=\"sk-toggleable__content\"><pre>['tax']</pre></div></div></div><div class=\"sk-serial\"><div class=\"sk-item\"><div class=\"sk-estimator sk-toggleable\"><input class=\"sk-toggleable__control sk-hidden--visually\" id=\"a17cb9a1-738f-4081-afcd-2468889d8167\" type=\"checkbox\" ><label class=\"sk-toggleable__label\" for=\"a17cb9a1-738f-4081-afcd-2468889d8167\">KBinsDiscretizer</label><div class=\"sk-toggleable__content\"><pre>KBinsDiscretizer(encode='ordinal', n_bins=9, strategy='kmeans')</pre></div></div></div></div></div></div><div class=\"sk-parallel-item\"><div class=\"sk-item\"><div class=\"sk-label-container\"><div class=\"sk-label sk-toggleable\"><input class=\"sk-toggleable__control sk-hidden--visually\" id=\"3beccca7-8b06-42a6-a12e-0e3110e8b5bc\" type=\"checkbox\" ><label class=\"sk-toggleable__label\" for=\"3beccca7-8b06-42a6-a12e-0e3110e8b5bc\">Drop Colinear Variable</label><div class=\"sk-toggleable__content\"><pre>['model', 'year']</pre></div></div></div><div class=\"sk-serial\"><div class=\"sk-item\"><div class=\"sk-estimator sk-toggleable\"><input class=\"sk-toggleable__control sk-hidden--visually\" id=\"4e7da905-76df-4cb9-9d7c-af55ea77f369\" type=\"checkbox\" ><label class=\"sk-toggleable__label\" for=\"4e7da905-76df-4cb9-9d7c-af55ea77f369\">drop</label><div class=\"sk-toggleable__content\"><pre>drop</pre></div></div></div></div></div></div><div class=\"sk-parallel-item\"><div class=\"sk-item\"><div class=\"sk-label-container\"><div class=\"sk-label sk-toggleable\"><input class=\"sk-toggleable__control sk-hidden--visually\" id=\"46d5d121-f678-48c3-81bf-6b951a73ecde\" type=\"checkbox\" ><label class=\"sk-toggleable__label\" for=\"46d5d121-f678-48c3-81bf-6b951a73ecde\">Transmission-Fuel Ordinal Encoder</label><div class=\"sk-toggleable__content\"><pre>['transmission', 'fuel_type']</pre></div></div></div><div class=\"sk-serial\"><div class=\"sk-item\"><div class=\"sk-serial\"><div class=\"sk-item\"><div class=\"sk-estimator sk-toggleable\"><input class=\"sk-toggleable__control sk-hidden--visually\" id=\"9447cdde-f8cd-428d-9fa1-6a7a18f38a69\" type=\"checkbox\" ><label class=\"sk-toggleable__label\" for=\"9447cdde-f8cd-428d-9fa1-6a7a18f38a69\">FunctionTransformer</label><div class=\"sk-toggleable__content\"><pre>FunctionTransformer(func=<function categorize at 0x7f0e4887bc10>)</pre></div></div></div><div class=\"sk-item\"><div class=\"sk-estimator sk-toggleable\"><input class=\"sk-toggleable__control sk-hidden--visually\" id=\"e69608b3-1a89-4820-81e4-98383bb77bb5\" type=\"checkbox\" ><label class=\"sk-toggleable__label\" for=\"e69608b3-1a89-4820-81e4-98383bb77bb5\">OrdinalEncoder</label><div class=\"sk-toggleable__content\"><pre>OrdinalEncoder()</pre></div></div></div></div></div></div></div></div><div class=\"sk-parallel-item\"><div class=\"sk-item\"><div class=\"sk-label-container\"><div class=\"sk-label sk-toggleable\"><input class=\"sk-toggleable__control sk-hidden--visually\" id=\"279e2cbc-7953-416b-a727-29d66c285b60\" type=\"checkbox\" ><label class=\"sk-toggleable__label\" for=\"279e2cbc-7953-416b-a727-29d66c285b60\">Brand OHE</label><div class=\"sk-toggleable__content\"><pre>['brand']</pre></div></div></div><div class=\"sk-serial\"><div class=\"sk-item\"><div class=\"sk-serial\"><div class=\"sk-item\"><div class=\"sk-estimator sk-toggleable\"><input class=\"sk-toggleable__control sk-hidden--visually\" id=\"8b47c448-369e-4c48-aafb-19bd309206d5\" type=\"checkbox\" ><label class=\"sk-toggleable__label\" for=\"8b47c448-369e-4c48-aafb-19bd309206d5\">FunctionTransformer</label><div class=\"sk-toggleable__content\"><pre>FunctionTransformer(func=<function categorize at 0x7f0e4887bc10>)</pre></div></div></div><div class=\"sk-item\"><div class=\"sk-estimator sk-toggleable\"><input class=\"sk-toggleable__control sk-hidden--visually\" id=\"b16d00ea-2310-4d80-8656-504259a94044\" type=\"checkbox\" ><label class=\"sk-toggleable__label\" for=\"b16d00ea-2310-4d80-8656-504259a94044\">OneHotEncoder</label><div class=\"sk-toggleable__content\"><pre>OneHotEncoder(handle_unknown='ignore')</pre></div></div></div></div></div></div></div></div><div class=\"sk-parallel-item\"><div class=\"sk-item\"><div class=\"sk-label-container\"><div class=\"sk-label sk-toggleable\"><input class=\"sk-toggleable__control sk-hidden--visually\" id=\"d7dc3734-7a44-4c6d-8581-fe10fdf163d7\" type=\"checkbox\" ><label class=\"sk-toggleable__label\" for=\"d7dc3734-7a44-4c6d-8581-fe10fdf163d7\">remainder</label><div class=\"sk-toggleable__content\"><pre>[['model', 'year', 'transmission', 'mileage', 'fuel_type', 'tax', 'mpg', 'engine_size', 'brand', 'age', 'mileage_per_year', 'galon_per_year', 'tax_per_mileage', 'litre_per_mileage', 'litre_per_galon']]</pre></div></div></div><div class=\"sk-serial\"><div class=\"sk-item\"><div class=\"sk-estimator sk-toggleable\"><input class=\"sk-toggleable__control sk-hidden--visually\" id=\"386ac233-12bd-4909-8902-6b5a3a8cd0d0\" type=\"checkbox\" ><label class=\"sk-toggleable__label\" for=\"386ac233-12bd-4909-8902-6b5a3a8cd0d0\">passthrough</label><div class=\"sk-toggleable__content\"><pre>passthrough</pre></div></div></div></div></div></div></div></div><div class=\"sk-item\"><div class=\"sk-estimator sk-toggleable\"><input class=\"sk-toggleable__control sk-hidden--visually\" id=\"68b2a0af-dac3-4a03-83e7-8369f350913b\" type=\"checkbox\" ><label class=\"sk-toggleable__label\" for=\"68b2a0af-dac3-4a03-83e7-8369f350913b\">RandomForestRegressor</label><div class=\"sk-toggleable__content\"><pre>RandomForestRegressor(n_estimators=500, n_jobs=2)</pre></div></div></div></div></div></div></div>"
      ],
      "text/plain": [
       "Pipeline(steps=[('Features Extraction',\n",
       "                 FunctionTransformer(func=<function extract_features at 0x7f0e47a48820>)),\n",
       "                ('Columns Transformer',\n",
       "                 ColumnTransformer(remainder='passthrough',\n",
       "                                   transformers=[('Poly features Creator',\n",
       "                                                  Pipeline(steps=[('Polynomial '\n",
       "                                                                   'Features',\n",
       "                                                                   PolynomialFeatures(degree=3,\n",
       "                                                                                      include_bias=False,\n",
       "                                                                                      interaction_only=True)),\n",
       "                                                                  ('std Scaler',\n",
       "                                                                   StandardScaler())...\n",
       "                                                                   'Encoder',\n",
       "                                                                   OrdinalEncoder())],\n",
       "                                                           verbose=True),\n",
       "                                                  ['transmission',\n",
       "                                                   'fuel_type']),\n",
       "                                                 ('Brand OHE',\n",
       "                                                  Pipeline(steps=[('Categorizer',\n",
       "                                                                   FunctionTransformer(func=<function categorize at 0x7f0e4887bc10>)),\n",
       "                                                                  ('OHE',\n",
       "                                                                   OneHotEncoder(handle_unknown='ignore'))],\n",
       "                                                           verbose=True),\n",
       "                                                  ['brand'])],\n",
       "                                   verbose=True)),\n",
       "                ('Random Forest Regressor',\n",
       "                 RandomForestRegressor(n_estimators=500, n_jobs=2))],\n",
       "         verbose=True)"
      ]
     },
     "execution_count": 18,
     "metadata": {},
     "output_type": "execute_result"
    }
   ],
   "source": [
    "model"
   ]
  },
  {
   "cell_type": "markdown",
   "id": "a8a1ff11",
   "metadata": {},
   "source": [
    "## Learning Curve\n",
    "\n",
    "![Learning curve](./Learning_curve_model_677.png)"
   ]
  },
  {
   "cell_type": "code",
   "execution_count": null,
   "id": "4a7d5679",
   "metadata": {},
   "outputs": [],
   "source": []
  }
 ],
 "metadata": {
  "kernelspec": {
   "display_name": "Python 3",
   "language": "python",
   "name": "python3"
  },
  "language_info": {
   "codemirror_mode": {
    "name": "ipython",
    "version": 3
   },
   "file_extension": ".py",
   "mimetype": "text/x-python",
   "name": "python",
   "nbconvert_exporter": "python",
   "pygments_lexer": "ipython3",
   "version": "3.8.11"
  },
  "toc": {
   "base_numbering": 1,
   "nav_menu": {},
   "number_sections": true,
   "sideBar": true,
   "skip_h1_title": false,
   "title_cell": "Table of Contents",
   "title_sidebar": "Contents",
   "toc_cell": false,
   "toc_position": {},
   "toc_section_display": true,
   "toc_window_display": false
  }
 },
 "nbformat": 4,
 "nbformat_minor": 5
}
