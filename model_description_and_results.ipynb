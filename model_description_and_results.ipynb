{
 "cells": [
  {
   "cell_type": "markdown",
   "id": "f3abd72a",
   "metadata": {
    "slideshow": {
     "slide_type": "skip"
    },
    "toc": true
   },
   "source": [
    "<h1>Table of Contents<span class=\"tocSkip\"></span></h1>\n",
    "<div class=\"toc\"><ul class=\"toc-item\"><li><span><a href=\"#Recherche-d'un-modèle\" data-toc-modified-id=\"Recherche-d'un-modèle-1\"><span class=\"toc-item-num\">1&nbsp;&nbsp;</span>Recherche d'un modèle</a></span><ul class=\"toc-item\"><li><span><a href=\"#Analyses\" data-toc-modified-id=\"Analyses-1.1\"><span class=\"toc-item-num\">1.1&nbsp;&nbsp;</span>Analyses</a></span></li><li><span><a href=\"#Traitement-des-fichiers-sources\" data-toc-modified-id=\"Traitement-des-fichiers-sources-1.2\"><span class=\"toc-item-num\">1.2&nbsp;&nbsp;</span>Traitement des fichiers sources</a></span></li><li><span><a href=\"#Préparation-des-données\" data-toc-modified-id=\"Préparation-des-données-1.3\"><span class=\"toc-item-num\">1.3&nbsp;&nbsp;</span>Préparation des données</a></span><ul class=\"toc-item\"><li><span><a href=\"#Suppression-ou-Imputation-des-anomalies\" data-toc-modified-id=\"Suppression-ou-Imputation-des-anomalies-1.3.1\"><span class=\"toc-item-num\">1.3.1&nbsp;&nbsp;</span>Suppression ou Imputation des <em>anomalies</em></a></span></li></ul></li><li><span><a href=\"#Séparation-des-données\" data-toc-modified-id=\"Séparation-des-données-1.4\"><span class=\"toc-item-num\">1.4&nbsp;&nbsp;</span>Séparation des données</a></span></li><li><span><a href=\"#Création-du-Modèle\" data-toc-modified-id=\"Création-du-Modèle-1.5\"><span class=\"toc-item-num\">1.5&nbsp;&nbsp;</span>Création du Modèle</a></span><ul class=\"toc-item\"><li><span><a href=\"#Extract-Features\" data-toc-modified-id=\"Extract-Features-1.5.1\"><span class=\"toc-item-num\">1.5.1&nbsp;&nbsp;</span>Extract Features</a></span></li><li><span><a href=\"#Transform-Features\" data-toc-modified-id=\"Transform-Features-1.5.2\"><span class=\"toc-item-num\">1.5.2&nbsp;&nbsp;</span>Transform Features</a></span></li><li><span><a href=\"#Échelle-discrète\" data-toc-modified-id=\"Échelle-discrète-1.5.3\"><span class=\"toc-item-num\">1.5.3&nbsp;&nbsp;</span>Échelle discrète</a></span><ul class=\"toc-item\"><li><span><a href=\"#MPG\" data-toc-modified-id=\"MPG-1.5.3.1\"><span class=\"toc-item-num\">1.5.3.1&nbsp;&nbsp;</span>MPG</a></span></li><li><span><a href=\"#Tax\" data-toc-modified-id=\"Tax-1.5.3.2\"><span class=\"toc-item-num\">1.5.3.2&nbsp;&nbsp;</span>Tax</a></span></li><li><span><a href=\"#Engine-Size\" data-toc-modified-id=\"Engine-Size-1.5.3.3\"><span class=\"toc-item-num\">1.5.3.3&nbsp;&nbsp;</span>Engine Size</a></span></li></ul></li></ul></li><li><span><a href=\"#Pipeline\" data-toc-modified-id=\"Pipeline-1.6\"><span class=\"toc-item-num\">1.6&nbsp;&nbsp;</span>Pipeline</a></span></li><li><span><a href=\"#Couches-d'optimisation-du-modèle\" data-toc-modified-id=\"Couches-d'optimisation-du-modèle-1.7\"><span class=\"toc-item-num\">1.7&nbsp;&nbsp;</span>Couches d'optimisation du modèle</a></span></li><li><span><a href=\"#Valeurs-des-paramètres-du-pipeline\" data-toc-modified-id=\"Valeurs-des-paramètres-du-pipeline-1.8\"><span class=\"toc-item-num\">1.8&nbsp;&nbsp;</span>Valeurs des paramètres du pipeline</a></span></li></ul></li><li><span><a href=\"#Des-modèles\" data-toc-modified-id=\"Des-modèles-2\"><span class=\"toc-item-num\">2&nbsp;&nbsp;</span>Des modèles</a></span><ul class=\"toc-item\"><li><span><a href=\"#Par-marques\" data-toc-modified-id=\"Par-marques-2.1\"><span class=\"toc-item-num\">2.1&nbsp;&nbsp;</span>Par marques</a></span><ul class=\"toc-item\"><li><span><a href=\"#Évaluation-du-modèle-de-base-(OMBB)\" data-toc-modified-id=\"Évaluation-du-modèle-de-base-(OMBB)-2.1.1\"><span class=\"toc-item-num\">2.1.1&nbsp;&nbsp;</span>Évaluation du modèle de base (OMBB)</a></span></li><li><span><a href=\"#Optimisation-du-pipeline-(OMBB)\" data-toc-modified-id=\"Optimisation-du-pipeline-(OMBB)-2.1.2\"><span class=\"toc-item-num\">2.1.2&nbsp;&nbsp;</span>Optimisation du pipeline (OMBB)</a></span></li><li><span><a href=\"#Optimisation-de-l'estimateur-(OMBB)\" data-toc-modified-id=\"Optimisation-de-l'estimateur-(OMBB)-2.1.3\"><span class=\"toc-item-num\">2.1.3&nbsp;&nbsp;</span>Optimisation de l'estimateur (OMBB)</a></span></li><li><span><a href=\"#Optimisation-du-pipeline-(OMBB-+-permutation)\" data-toc-modified-id=\"Optimisation-du-pipeline-(OMBB-+-permutation)-2.1.4\"><span class=\"toc-item-num\">2.1.4&nbsp;&nbsp;</span>Optimisation du pipeline (OMBB + permutation)</a></span></li><li><span><a href=\"#Optimisation-de-l'estimateur-(OMBB-+-permutation)\" data-toc-modified-id=\"Optimisation-de-l'estimateur-(OMBB-+-permutation)-2.1.5\"><span class=\"toc-item-num\">2.1.5&nbsp;&nbsp;</span>Optimisation de l'estimateur (OMBB + permutation)</a></span></li><li><span><a href=\"#Refit?\" data-toc-modified-id=\"Refit?-2.1.6\"><span class=\"toc-item-num\">2.1.6&nbsp;&nbsp;</span>Refit?</a></span></li><li><span><a href=\"#Essais-et-évaluation-de-prédictions-(OMBB)\" data-toc-modified-id=\"Essais-et-évaluation-de-prédictions-(OMBB)-2.1.7\"><span class=\"toc-item-num\">2.1.7&nbsp;&nbsp;</span>Essais et évaluation de prédictions (OMBB)</a></span></li><li><span><a href=\"#Courbe-d'apprentissage\" data-toc-modified-id=\"Courbe-d'apprentissage-2.1.8\"><span class=\"toc-item-num\">2.1.8&nbsp;&nbsp;</span>Courbe d'apprentissage</a></span></li><li><span><a href=\"#Nombre-de-variables\" data-toc-modified-id=\"Nombre-de-variables-2.1.9\"><span class=\"toc-item-num\">2.1.9&nbsp;&nbsp;</span>Nombre de variables</a></span></li></ul></li><li><span><a href=\"#Toutes-marques\" data-toc-modified-id=\"Toutes-marques-2.2\"><span class=\"toc-item-num\">2.2&nbsp;&nbsp;</span>Toutes marques</a></span></li><li><span><a href=\"#Entraînement-Incrémental\" data-toc-modified-id=\"Entraînement-Incrémental-2.3\"><span class=\"toc-item-num\">2.3&nbsp;&nbsp;</span>Entraînement Incrémental</a></span></li></ul></li><li><span><a href=\"#Sources\" data-toc-modified-id=\"Sources-3\"><span class=\"toc-item-num\">3&nbsp;&nbsp;</span>Sources</a></span><ul class=\"toc-item\"><li><span><a href=\"#Notebooks\" data-toc-modified-id=\"Notebooks-3.1\"><span class=\"toc-item-num\">3.1&nbsp;&nbsp;</span>Notebooks</a></span><ul class=\"toc-item\"><li><span><a href=\"#Files-Explorations\" data-toc-modified-id=\"Files-Explorations-3.1.1\"><span class=\"toc-item-num\">3.1.1&nbsp;&nbsp;</span>Files Explorations</a></span></li><li><span><a href=\"#EDA\" data-toc-modified-id=\"EDA-3.1.2\"><span class=\"toc-item-num\">3.1.2&nbsp;&nbsp;</span>EDA</a></span></li><li><span><a href=\"#Preprocessing\" data-toc-modified-id=\"Preprocessing-3.1.3\"><span class=\"toc-item-num\">3.1.3&nbsp;&nbsp;</span>Preprocessing</a></span></li></ul></li><li><span><a href=\"#Scripts\" data-toc-modified-id=\"Scripts-3.2\"><span class=\"toc-item-num\">3.2&nbsp;&nbsp;</span>Scripts</a></span><ul class=\"toc-item\"><li><span><a href=\"#Steps-Scripts\" data-toc-modified-id=\"Steps-Scripts-3.2.1\"><span class=\"toc-item-num\">3.2.1&nbsp;&nbsp;</span>Steps Scripts</a></span></li></ul></li><li><span><a href=\"#Libraries\" data-toc-modified-id=\"Libraries-3.3\"><span class=\"toc-item-num\">3.3&nbsp;&nbsp;</span>Libraries</a></span><ul class=\"toc-item\"><li><span><a href=\"#Local\" data-toc-modified-id=\"Local-3.3.1\"><span class=\"toc-item-num\">3.3.1&nbsp;&nbsp;</span>Local</a></span></li><li><span><a href=\"#Extern\" data-toc-modified-id=\"Extern-3.3.2\"><span class=\"toc-item-num\">3.3.2&nbsp;&nbsp;</span>Extern</a></span></li></ul></li></ul></li></ul></div>"
   ]
  },
  {
   "cell_type": "code",
   "execution_count": 2,
   "id": "7b17b523",
   "metadata": {
    "slideshow": {
     "slide_type": "skip"
    }
   },
   "outputs": [],
   "source": [
    "# autoreload reloads modules automatically before entering the execution of code typed at the IPython prompt.\n",
    "%reload_ext autoreload\n",
    "%autoreload 2\n",
    "%aimport feature_preprocessing_pipeline\n",
    "%aimport build_model_by_brand\n",
    "%aimport build_model\n",
    "%aimport build_model_for_merged_data\n",
    "%aimport prepare_data\n",
    "%aimport bs_lib.bs_preprocess_lib\n",
    "%aimport constants"
   ]
  },
  {
   "cell_type": "code",
   "execution_count": 3,
   "id": "cf689941",
   "metadata": {
    "slideshow": {
     "slide_type": "skip"
    }
   },
   "outputs": [],
   "source": [
    "from os.path import join\n",
    "from joblib import load\n",
    "import numpy as np\n",
    "from build_model_by_brand import evaluate_all_models,evaluate_all_refitted_models, get_set_split\n",
    "from build_model import get_one_model_for_all_iterative,evaluate_prediction, get_model\n",
    "import build_model_for_merged_data as bmmd\n",
    "from prepare_data import load_prepared_file\n",
    "from bs_lib.bs_preprocess_lib import plot_learning_curve\n",
    "import constants as cnst"
   ]
  },
  {
   "cell_type": "markdown",
   "id": "9c445d2a",
   "metadata": {
    "slideshow": {
     "slide_type": "slide"
    }
   },
   "source": [
    "# UK Used Car"
   ]
  },
  {
   "cell_type": "markdown",
   "id": "6b1c8a12",
   "metadata": {
    "slideshow": {
     "slide_type": "fragment"
    }
   },
   "source": [
    "## Recherche d'un modèle"
   ]
  },
  {
   "cell_type": "markdown",
   "id": "212dc548",
   "metadata": {
    "slideshow": {
     "slide_type": "slide"
    }
   },
   "source": [
    "### Analyses"
   ]
  },
  {
   "cell_type": "markdown",
   "id": "cd6cdb7d",
   "metadata": {
    "slideshow": {
     "slide_type": "subslide"
    }
   },
   "source": [
    "<center><img src=\"./assets/first_step_analysis.svg\"/></center>"
   ]
  },
  {
   "cell_type": "raw",
   "id": "b8172f74",
   "metadata": {
    "slideshow": {
     "slide_type": "skip"
    }
   },
   "source": [
    "Loading all_set.csv Dataset...\n",
    "all_set.csv already processed, prepared_all_set.csv loaded\n",
    "X: (78231, 9)\n",
    "y: (78231,)\n",
    "\tX_train: (58673, 9)\n",
    "\tX_val: (11734, 9)\n",
    "\tX_test: (7824, 9)\n",
    "\ty_train: (58673,)\n",
    "\ty_val: (11734,)\n",
    "\ty_test: (7824,)\n",
    "\n",
    "Loading X_train.csv Dataset...\n",
    "\n",
    "Creating Columns transformers\n",
    "\n",
    "Extract Features\n",
    "[Pipeline] ........ (step 1 of 4) Processing features_extraction,               total=   0.1s\n",
    "[ColumnTransformer] ............. (1 of 9) Processing poly,                     total=   0.1s\n",
    "[ColumnTransformer] ............. (2 of 9) Processing mpg_discretizer,          total=   0.0s\n",
    "[ColumnTransformer] ............. (3 of 9) Processing tax_discretizer,          total=   0.0s\n",
    "[ColumnTransformer] ............. (4 of 9) Processing engine_size_discretizer,  total=   0.0s\n",
    "         [Pipeline] ...................... (step 1 of 1) Processing discretize, total=   0.0s\n",
    "[ColumnTransformer] ............. (5 of 9) Processing year_pipe,                total=   0.0s\n",
    "         [Pipeline] ...................... (step 1 of 1) Processing OHE,        total=   0.1s\n",
    "[ColumnTransformer] ............. (6 of 9) Processing model_pipe,               total=   0.1s\n",
    "         [Pipeline] ...................... (step 1 of 1) Processing OHE,        total=   0.1s\n",
    "[ColumnTransformer] ............. (7 of 9) Processing brand_pipe,               total=   0.1s\n",
    "         [Pipeline] ...................... (step 1 of 1) Processing OHE,        total=   0.1s\n",
    "[ColumnTransformer] ............. (8 of 9) Processing transmission_pipe,        total=   0.1s\n",
    "         [Pipeline] ...................... (step 1 of 1) Processing OHE,        total=   0.1s\n",
    "[ColumnTransformer] ............. (9 of 9) Processing fuel_type_pipe,           total=   0.1s\n",
    "[Pipeline] ........ (step 2 of 4) Processing transformer,                       total=   0.8s\n",
    "[Pipeline] ........ (step 3 of 4) Processing scaler,                            total=   1.0s\n",
    "[Pipeline] ........ (step 4 of 4) Processing random_forest,                     total= 3.8min\n",
    "    [Parallel(n_jobs=-1)]: Using backend ThreadingBackend with 4 concurrent workers.\n",
    "    [Parallel(n_jobs=-1)]: Done  42 tasks      | elapsed:  1.7min\n",
    "    [Parallel(n_jobs=-1)]: Done 100 out of 100 | elapsed:  3.8min finished\n",
    "\n",
    "Predicting\n",
    "[Parallel(n_jobs=4)]: Using backend ThreadingBackend with 4 concurrent workers.\n",
    "[Parallel(n_jobs=4)]: Done  42 tasks      | elapsed:    0.2s\n",
    "[Parallel(n_jobs=4)]: Done 100 out of 100 | elapsed:    0.5s finished\n",
    "\n",
    "RMSE: 1778.447790820576\n"
   ]
  },
  {
   "cell_type": "markdown",
   "id": "cf7bc910",
   "metadata": {
    "slideshow": {
     "slide_type": "subslide"
    }
   },
   "source": [
    "<center><img src=\"./assets/one_model_by_brand_overview.svg\"/></center>"
   ]
  },
  {
   "cell_type": "markdown",
   "id": "70061912",
   "metadata": {
    "slideshow": {
     "slide_type": "subslide"
    }
   },
   "source": [
    "### Traitement des fichiers sources\n",
    "<center><img src=\"./assets/file_processing.svg\"/></center>"
   ]
  },
  {
   "cell_type": "markdown",
   "id": "02e12959",
   "metadata": {
    "slideshow": {
     "slide_type": "subslide"
    }
   },
   "source": [
    "### Préparation des données\n",
    "\n",
    "<center><img src=\"./assets/prepare_data.svg\"/></center>"
   ]
  },
  {
   "cell_type": "markdown",
   "id": "3729319c",
   "metadata": {
    "slideshow": {
     "slide_type": "subslide"
    }
   },
   "source": [
    "#### Suppression ou Imputation des *anomalies*\n",
    "\n",
    "<center><img src=\"./assets/outliers.svg\"/></center>"
   ]
  },
  {
   "cell_type": "markdown",
   "id": "3d429873",
   "metadata": {
    "slideshow": {
     "slide_type": "subslide"
    }
   },
   "source": [
    "### Séparation des données\n",
    "\n",
    "<center><img src=\"./assets/split_data.svg\"/></center>"
   ]
  },
  {
   "cell_type": "markdown",
   "id": "6b95c102",
   "metadata": {
    "slideshow": {
     "slide_type": "subslide"
    }
   },
   "source": [
    "### Création du Modèle\n",
    "\n",
    "<center><img src=\"./assets/build_model.svg\"/></center>"
   ]
  },
  {
   "cell_type": "markdown",
   "id": "51f7fef4",
   "metadata": {
    "slideshow": {
     "slide_type": "subslide"
    }
   },
   "source": [
    "#### Extract Features\n",
    "\n",
    "Création de nouvelles variables:\n",
    "1. `age`: $max(year)-year$\n",
    "1. `model_count`: nombre d'occurence du modèle dans le dataset\n",
    "1. `occurence_relative`: $\\frac{count(model)}{count(allmodel)}$\n",
    "1. `mileage_per_year`: $\\frac{mileage}{age}$\n",
    "1. `mpg_per_year`: $\\frac{mpg}{age}$\n",
    "1. `tax_per_year`: $\\frac{tax}{age}$\n",
    "1. `engine_size_per_year`: $\\frac{enginesize}{age}$\n",
    "1. `esoteric_composite_ratio`\n",
    "\n",
    "Suivant la marque de voiture et/ou le modèle de prédiction créé, certaines améliorent le score de prédictions."
   ]
  },
  {
   "cell_type": "markdown",
   "id": "d65f87b7",
   "metadata": {
    "slideshow": {
     "slide_type": "subslide"
    }
   },
   "source": [
    "#### Transform Features\n",
    "1. `PolynomialFeature` pour les variables numériques.\n",
    "1. `KBinsDiscretizer` pour les variables `mpg`, `tax`, `engine_size`, `year`.\n",
    "1. `OneHotEncoder` ou `OrdinalEncoder` pour les variables `model`, `brand`, `transmission`, `fuel_type`. \n",
    "\n",
    "> Pour l'`OrdinalEncoder`, les catégories ont été triées relativement à la variable dépendante `price` par **ordre ascendant**.\n"
   ]
  },
  {
   "cell_type": "markdown",
   "id": "257e1302",
   "metadata": {
    "slideshow": {
     "slide_type": "subslide"
    }
   },
   "source": [
    "#### Échelle discrète"
   ]
  },
  {
   "cell_type": "markdown",
   "id": "da34248a",
   "metadata": {
    "slideshow": {
     "slide_type": "subslide"
    }
   },
   "source": [
    "##### MPG\n",
    "\n",
    "<center><img src=\"./assets/mpg_histplot.png\"/></center>"
   ]
  },
  {
   "cell_type": "markdown",
   "id": "30cc5041",
   "metadata": {
    "slideshow": {
     "slide_type": "subslide"
    }
   },
   "source": [
    "##### Tax\n",
    "\n",
    "<center><img src=\"./assets/tax_vs_price_relation_plot.png\"/></center>"
   ]
  },
  {
   "cell_type": "markdown",
   "id": "7d4f83cb",
   "metadata": {
    "slideshow": {
     "slide_type": "subslide"
    }
   },
   "source": [
    "##### Engine Size\n",
    "\n",
    "<center><img src=\"./assets/engine_size_histplot.png\"/></center>"
   ]
  },
  {
   "cell_type": "markdown",
   "id": "87396d93",
   "metadata": {
    "slideshow": {
     "slide_type": "subslide"
    }
   },
   "source": [
    "### Pipeline\n",
    "\n",
    "<center><img src=\"./assets/pipeline.svg\"/></center>"
   ]
  },
  {
   "cell_type": "markdown",
   "id": "0de42dc8",
   "metadata": {
    "slideshow": {
     "slide_type": "slide"
    }
   },
   "source": [
    "### Couches d'optimisation du modèle\n",
    "\n",
    "<center><img src=\"./assets/optimization.svg\"/></center>"
   ]
  },
  {
   "cell_type": "markdown",
   "id": "a6d24526",
   "metadata": {
    "slideshow": {
     "slide_type": "subslide"
    }
   },
   "source": [
    "### Valeurs des paramètres du pipeline\n",
    "\n",
    "<center><img src=\"./assets/best_params_search.svg\"/></center>"
   ]
  },
  {
   "cell_type": "raw",
   "id": "776ec0af",
   "metadata": {
    "slideshow": {
     "slide_type": "skip"
    }
   },
   "source": [
    "Loading ./dataset/prepared_data/toyota.csv\n",
    "\n",
    "(...)\n",
    "\n",
    "New best score for this combination:\n",
    "\n",
    "Best score 918.9770768190458\n",
    "Best params \n",
    "{'transformer__poly': 'passthrough',\n",
    " 'transformer__mpg_pipe': {'transformer__mpg_pipe__discretize__encode': 'ordinal',  \n",
    "                           'transformer__mpg_pipe__discretize__n_bins': 6,\n",
    "                           'transformer__mpg_pipe__discretize__strategy': 'uniform'}, \n",
    " 'transformer__tax_pipe': 'passthrough', \n",
    " 'transformer__engine_size_pipe': 'passthrough', \n",
    " 'transformer__year_pipe': 'passthrough'}\n",
    "\n",
    "(...)\n",
    "\n",
    "Toyota - Best score 918.9770768190458\n",
    "Toyota - Best params {...}\n",
    "Best Model saved @ ./model/toyota_optimize.joblib"
   ]
  },
  {
   "cell_type": "markdown",
   "id": "eed5f586",
   "metadata": {
    "slideshow": {
     "slide_type": "slide"
    }
   },
   "source": [
    "## Des modèles\n",
    "\n",
    "1. Un modèle par marque\n",
    "1. Un modèle pour toutes les marques\n",
    "1. Un modèle incrémental pour toutes les marques"
   ]
  },
  {
   "cell_type": "markdown",
   "id": "8e4a8bde",
   "metadata": {
    "slideshow": {
     "slide_type": "slide"
    }
   },
   "source": [
    "### Par marques\n",
    "\n",
    "Création d'un modèle par marques, One Model By Brand (OMBB)."
   ]
  },
  {
   "cell_type": "markdown",
   "id": "e09d1f3f",
   "metadata": {
    "slideshow": {
     "slide_type": "subslide"
    }
   },
   "source": [
    "#### Évaluation du modèle de base (OMBB)"
   ]
  },
  {
   "cell_type": "code",
   "execution_count": 18,
   "id": "8b4bc0a4",
   "metadata": {
    "slideshow": {
     "slide_type": "subslide"
    }
   },
   "outputs": [
    {
     "data": {
      "text/html": [
       "<pre style=\"white-space:pre;overflow-x:auto;line-height:normal;font-family:Menlo,'DejaVu Sans Mono',consolas,'Courier New',monospace\"><span style=\"color: #000000; text-decoration-color: #000000; background-color: #ffffff; font-weight: bold\">PERFORMANCE COMPARISON</span> <span style=\"color: #000000; text-decoration-color: #000000; background-color: #ffffff\">──────────────────────────────────────────────────────────────────────</span>\n",
       "</pre>\n"
      ],
      "text/plain": [
       "\u001b[1;52;30;107mPERFORMANCE COMPARISON\u001b[0m \u001b[30;107m──────────────────────────────────────────────────────────────────────\u001b[0m\n"
      ]
     },
     "metadata": {},
     "output_type": "display_data"
    },
    {
     "data": {
      "text/html": [
       "<pre style=\"white-space:pre;overflow-x:auto;line-height:normal;font-family:Menlo,'DejaVu Sans Mono',consolas,'Courier New',monospace\"><span style=\"color: #000000; text-decoration-color: #000000; background-color: #ffffff; font-style: italic\">One model by Brand                                                       </span>\n",
       "<span style=\"color: #000000; text-decoration-color: #000000; background-color: #ffffff\">┏━━━━━━━━━━┳━━━━━━┳━━━━━━━━━┳━━━━━━━━━━━━━━━━━━━━━┳━━━━━━━━━━━━━━━━━━━━━┓</span>\n",
       "<span style=\"color: #000000; text-decoration-color: #000000; background-color: #ffffff\">┃  Brand   ┃ RMSE ┃   R2    ┃ Absolute Mean Error ┃     Model path      ┃</span>\n",
       "<span style=\"color: #000000; text-decoration-color: #000000; background-color: #ffffff\">┡━━━━━━━━━━╇━━━━━━╇━━━━━━━━━╇━━━━━━━━━━━━━━━━━━━━━╇━━━━━━━━━━━━━━━━━━━━━┩</span>\n",
       "<span style=\"color: #000000; text-decoration-color: #000000; background-color: #ffffff\">│   Audi   │ </span><span style=\"color: #008080; text-decoration-color: #008080; background-color: #ffffff; font-weight: bold\">2866</span><span style=\"color: #000000; text-decoration-color: #000000; background-color: #ffffff\"> │ </span><span style=\"color: #008080; text-decoration-color: #008080; background-color: #ffffff; font-weight: bold\">0.2526</span><span style=\"color: #000000; text-decoration-color: #000000; background-color: #ffffff\">  │        </span><span style=\"color: #008080; text-decoration-color: #008080; background-color: #ffffff; font-weight: bold\">1687</span><span style=\"color: #000000; text-decoration-color: #000000; background-color: #ffffff\">         │   audi_base-model   │</span>\n",
       "<span style=\"color: #000000; text-decoration-color: #000000; background-color: #ffffff\">│   Bmw    │ </span><span style=\"color: #008080; text-decoration-color: #008080; background-color: #ffffff; font-weight: bold\">2534</span><span style=\"color: #000000; text-decoration-color: #000000; background-color: #ffffff\"> │ </span><span style=\"color: #008080; text-decoration-color: #008080; background-color: #ffffff; font-weight: bold\">0.2053</span><span style=\"color: #000000; text-decoration-color: #000000; background-color: #ffffff\">  │        </span><span style=\"color: #008080; text-decoration-color: #008080; background-color: #ffffff; font-weight: bold\">1674</span><span style=\"color: #000000; text-decoration-color: #000000; background-color: #ffffff\">         │   bmw_base-model    │</span>\n",
       "<span style=\"color: #000000; text-decoration-color: #000000; background-color: #ffffff\">│   Ford   │ </span><span style=\"color: #008080; text-decoration-color: #008080; background-color: #ffffff; font-weight: bold\">1402</span><span style=\"color: #000000; text-decoration-color: #000000; background-color: #ffffff\"> │ </span><span style=\"color: #008080; text-decoration-color: #008080; background-color: #ffffff; font-weight: bold\">-0.1546</span><span style=\"color: #000000; text-decoration-color: #000000; background-color: #ffffff\"> │         </span><span style=\"color: #008080; text-decoration-color: #008080; background-color: #ffffff; font-weight: bold\">918</span><span style=\"color: #000000; text-decoration-color: #000000; background-color: #ffffff\">         │   ford_base-model   │</span>\n",
       "<span style=\"color: #000000; text-decoration-color: #000000; background-color: #ffffff\">│ Hyundai  │ </span><span style=\"color: #008080; text-decoration-color: #008080; background-color: #ffffff; font-weight: bold\">1585</span><span style=\"color: #000000; text-decoration-color: #000000; background-color: #ffffff\"> │ </span><span style=\"color: #008080; text-decoration-color: #008080; background-color: #ffffff; font-weight: bold\">0.1268</span><span style=\"color: #000000; text-decoration-color: #000000; background-color: #ffffff\">  │         </span><span style=\"color: #008080; text-decoration-color: #008080; background-color: #ffffff; font-weight: bold\">891</span><span style=\"color: #000000; text-decoration-color: #000000; background-color: #ffffff\">         │ hyundai_base-model  │</span>\n",
       "<span style=\"color: #000000; text-decoration-color: #000000; background-color: #ffffff\">│ Mercedes │ </span><span style=\"color: #008080; text-decoration-color: #008080; background-color: #ffffff; font-weight: bold\">3469</span><span style=\"color: #000000; text-decoration-color: #000000; background-color: #ffffff\"> │ </span><span style=\"color: #008080; text-decoration-color: #008080; background-color: #ffffff; font-weight: bold\">0.1752</span><span style=\"color: #000000; text-decoration-color: #000000; background-color: #ffffff\">  │        </span><span style=\"color: #008080; text-decoration-color: #008080; background-color: #ffffff; font-weight: bold\">1803</span><span style=\"color: #000000; text-decoration-color: #000000; background-color: #ffffff\">         │ mercedes_base-model │</span>\n",
       "<span style=\"color: #000000; text-decoration-color: #000000; background-color: #ffffff\">│   Opel   │ </span><span style=\"color: #008080; text-decoration-color: #008080; background-color: #ffffff; font-weight: bold\">1146</span><span style=\"color: #000000; text-decoration-color: #000000; background-color: #ffffff\"> │ </span><span style=\"color: #008080; text-decoration-color: #008080; background-color: #ffffff; font-weight: bold\">-0.5113</span><span style=\"color: #000000; text-decoration-color: #000000; background-color: #ffffff\"> │         </span><span style=\"color: #008080; text-decoration-color: #008080; background-color: #ffffff; font-weight: bold\">785</span><span style=\"color: #000000; text-decoration-color: #000000; background-color: #ffffff\">         │   opel_base-model   │</span>\n",
       "<span style=\"color: #000000; text-decoration-color: #000000; background-color: #ffffff\">│  Skoda   │ </span><span style=\"color: #008080; text-decoration-color: #008080; background-color: #ffffff; font-weight: bold\">2743</span><span style=\"color: #000000; text-decoration-color: #000000; background-color: #ffffff\"> │ </span><span style=\"color: #008080; text-decoration-color: #008080; background-color: #ffffff; font-weight: bold\">0.1673</span><span style=\"color: #000000; text-decoration-color: #000000; background-color: #ffffff\">  │        </span><span style=\"color: #008080; text-decoration-color: #008080; background-color: #ffffff; font-weight: bold\">1138</span><span style=\"color: #000000; text-decoration-color: #000000; background-color: #ffffff\">         │  skoda_base-model   │</span>\n",
       "<span style=\"color: #000000; text-decoration-color: #000000; background-color: #ffffff\">│  Toyota  │ </span><span style=\"color: #008080; text-decoration-color: #008080; background-color: #ffffff; font-weight: bold\">1504</span><span style=\"color: #000000; text-decoration-color: #000000; background-color: #ffffff\"> │ </span><span style=\"color: #008080; text-decoration-color: #008080; background-color: #ffffff; font-weight: bold\">0.2088</span><span style=\"color: #000000; text-decoration-color: #000000; background-color: #ffffff\">  │         </span><span style=\"color: #008080; text-decoration-color: #008080; background-color: #ffffff; font-weight: bold\">891</span><span style=\"color: #000000; text-decoration-color: #000000; background-color: #ffffff\">         │  toyota_base-model  │</span>\n",
       "<span style=\"color: #000000; text-decoration-color: #000000; background-color: #ffffff\">│    Vw    │ </span><span style=\"color: #008080; text-decoration-color: #008080; background-color: #ffffff; font-weight: bold\">2026</span><span style=\"color: #000000; text-decoration-color: #000000; background-color: #ffffff\"> │ </span><span style=\"color: #008080; text-decoration-color: #008080; background-color: #ffffff; font-weight: bold\">0.1248</span><span style=\"color: #000000; text-decoration-color: #000000; background-color: #ffffff\">  │        </span><span style=\"color: #008080; text-decoration-color: #008080; background-color: #ffffff; font-weight: bold\">1191</span><span style=\"color: #000000; text-decoration-color: #000000; background-color: #ffffff\">         │    vw_base-model    │</span>\n",
       "<span style=\"color: #000000; text-decoration-color: #000000; background-color: #ffffff\">└──────────┴──────┴─────────┴─────────────────────┴─────────────────────┘</span>\n",
       "</pre>\n"
      ],
      "text/plain": [
       "\u001b[3;30;107mOne model by Brand                                                       \u001b[0m\n",
       "\u001b[30;107m┏━━━━━━━━━━┳━━━━━━┳━━━━━━━━━┳━━━━━━━━━━━━━━━━━━━━━┳━━━━━━━━━━━━━━━━━━━━━┓\u001b[0m\n",
       "\u001b[30;107m┃\u001b[0m\u001b[30;107m \u001b[0m\u001b[30;107m Brand  \u001b[0m\u001b[30;107m \u001b[0m\u001b[30;107m┃\u001b[0m\u001b[30;107m \u001b[0m\u001b[30;107mRMSE\u001b[0m\u001b[30;107m \u001b[0m\u001b[30;107m┃\u001b[0m\u001b[30;107m \u001b[0m\u001b[30;107m  R2   \u001b[0m\u001b[30;107m \u001b[0m\u001b[30;107m┃\u001b[0m\u001b[30;107m \u001b[0m\u001b[30;107mAbsolute Mean Error\u001b[0m\u001b[30;107m \u001b[0m\u001b[30;107m┃\u001b[0m\u001b[30;107m \u001b[0m\u001b[30;107m    Model path     \u001b[0m\u001b[30;107m \u001b[0m\u001b[30;107m┃\u001b[0m\n",
       "\u001b[30;107m┡━━━━━━━━━━╇━━━━━━╇━━━━━━━━━╇━━━━━━━━━━━━━━━━━━━━━╇━━━━━━━━━━━━━━━━━━━━━┩\u001b[0m\n",
       "\u001b[30;107m│\u001b[0m\u001b[30;107m \u001b[0m\u001b[30;107m  Audi  \u001b[0m\u001b[30;107m \u001b[0m\u001b[30;107m│\u001b[0m\u001b[30;107m \u001b[0m\u001b[1;36;107m2866\u001b[0m\u001b[30;107m \u001b[0m\u001b[30;107m│\u001b[0m\u001b[30;107m \u001b[0m\u001b[1;36;107m0.2526\u001b[0m\u001b[30;107m \u001b[0m\u001b[30;107m \u001b[0m\u001b[30;107m│\u001b[0m\u001b[30;107m \u001b[0m\u001b[30;107m       \u001b[0m\u001b[1;36;107m1687\u001b[0m\u001b[30;107m        \u001b[0m\u001b[30;107m \u001b[0m\u001b[30;107m│\u001b[0m\u001b[30;107m \u001b[0m\u001b[30;107m  audi_base-model  \u001b[0m\u001b[30;107m \u001b[0m\u001b[30;107m│\u001b[0m\n",
       "\u001b[30;107m│\u001b[0m\u001b[30;107m \u001b[0m\u001b[30;107m  Bmw   \u001b[0m\u001b[30;107m \u001b[0m\u001b[30;107m│\u001b[0m\u001b[30;107m \u001b[0m\u001b[1;36;107m2534\u001b[0m\u001b[30;107m \u001b[0m\u001b[30;107m│\u001b[0m\u001b[30;107m \u001b[0m\u001b[1;36;107m0.2053\u001b[0m\u001b[30;107m \u001b[0m\u001b[30;107m \u001b[0m\u001b[30;107m│\u001b[0m\u001b[30;107m \u001b[0m\u001b[30;107m       \u001b[0m\u001b[1;36;107m1674\u001b[0m\u001b[30;107m        \u001b[0m\u001b[30;107m \u001b[0m\u001b[30;107m│\u001b[0m\u001b[30;107m \u001b[0m\u001b[30;107m  bmw_base-model   \u001b[0m\u001b[30;107m \u001b[0m\u001b[30;107m│\u001b[0m\n",
       "\u001b[30;107m│\u001b[0m\u001b[30;107m \u001b[0m\u001b[30;107m  Ford  \u001b[0m\u001b[30;107m \u001b[0m\u001b[30;107m│\u001b[0m\u001b[30;107m \u001b[0m\u001b[1;36;107m1402\u001b[0m\u001b[30;107m \u001b[0m\u001b[30;107m│\u001b[0m\u001b[30;107m \u001b[0m\u001b[1;36;107m-0.1546\u001b[0m\u001b[30;107m \u001b[0m\u001b[30;107m│\u001b[0m\u001b[30;107m \u001b[0m\u001b[30;107m        \u001b[0m\u001b[1;36;107m918\u001b[0m\u001b[30;107m        \u001b[0m\u001b[30;107m \u001b[0m\u001b[30;107m│\u001b[0m\u001b[30;107m \u001b[0m\u001b[30;107m  ford_base-model  \u001b[0m\u001b[30;107m \u001b[0m\u001b[30;107m│\u001b[0m\n",
       "\u001b[30;107m│\u001b[0m\u001b[30;107m \u001b[0m\u001b[30;107mHyundai \u001b[0m\u001b[30;107m \u001b[0m\u001b[30;107m│\u001b[0m\u001b[30;107m \u001b[0m\u001b[1;36;107m1585\u001b[0m\u001b[30;107m \u001b[0m\u001b[30;107m│\u001b[0m\u001b[30;107m \u001b[0m\u001b[1;36;107m0.1268\u001b[0m\u001b[30;107m \u001b[0m\u001b[30;107m \u001b[0m\u001b[30;107m│\u001b[0m\u001b[30;107m \u001b[0m\u001b[30;107m        \u001b[0m\u001b[1;36;107m891\u001b[0m\u001b[30;107m        \u001b[0m\u001b[30;107m \u001b[0m\u001b[30;107m│\u001b[0m\u001b[30;107m \u001b[0m\u001b[30;107mhyundai_base-model \u001b[0m\u001b[30;107m \u001b[0m\u001b[30;107m│\u001b[0m\n",
       "\u001b[30;107m│\u001b[0m\u001b[30;107m \u001b[0m\u001b[30;107mMercedes\u001b[0m\u001b[30;107m \u001b[0m\u001b[30;107m│\u001b[0m\u001b[30;107m \u001b[0m\u001b[1;36;107m3469\u001b[0m\u001b[30;107m \u001b[0m\u001b[30;107m│\u001b[0m\u001b[30;107m \u001b[0m\u001b[1;36;107m0.1752\u001b[0m\u001b[30;107m \u001b[0m\u001b[30;107m \u001b[0m\u001b[30;107m│\u001b[0m\u001b[30;107m \u001b[0m\u001b[30;107m       \u001b[0m\u001b[1;36;107m1803\u001b[0m\u001b[30;107m        \u001b[0m\u001b[30;107m \u001b[0m\u001b[30;107m│\u001b[0m\u001b[30;107m \u001b[0m\u001b[30;107mmercedes_base-model\u001b[0m\u001b[30;107m \u001b[0m\u001b[30;107m│\u001b[0m\n",
       "\u001b[30;107m│\u001b[0m\u001b[30;107m \u001b[0m\u001b[30;107m  Opel  \u001b[0m\u001b[30;107m \u001b[0m\u001b[30;107m│\u001b[0m\u001b[30;107m \u001b[0m\u001b[1;36;107m1146\u001b[0m\u001b[30;107m \u001b[0m\u001b[30;107m│\u001b[0m\u001b[30;107m \u001b[0m\u001b[1;36;107m-0.5113\u001b[0m\u001b[30;107m \u001b[0m\u001b[30;107m│\u001b[0m\u001b[30;107m \u001b[0m\u001b[30;107m        \u001b[0m\u001b[1;36;107m785\u001b[0m\u001b[30;107m        \u001b[0m\u001b[30;107m \u001b[0m\u001b[30;107m│\u001b[0m\u001b[30;107m \u001b[0m\u001b[30;107m  opel_base-model  \u001b[0m\u001b[30;107m \u001b[0m\u001b[30;107m│\u001b[0m\n",
       "\u001b[30;107m│\u001b[0m\u001b[30;107m \u001b[0m\u001b[30;107m Skoda  \u001b[0m\u001b[30;107m \u001b[0m\u001b[30;107m│\u001b[0m\u001b[30;107m \u001b[0m\u001b[1;36;107m2743\u001b[0m\u001b[30;107m \u001b[0m\u001b[30;107m│\u001b[0m\u001b[30;107m \u001b[0m\u001b[1;36;107m0.1673\u001b[0m\u001b[30;107m \u001b[0m\u001b[30;107m \u001b[0m\u001b[30;107m│\u001b[0m\u001b[30;107m \u001b[0m\u001b[30;107m       \u001b[0m\u001b[1;36;107m1138\u001b[0m\u001b[30;107m        \u001b[0m\u001b[30;107m \u001b[0m\u001b[30;107m│\u001b[0m\u001b[30;107m \u001b[0m\u001b[30;107m skoda_base-model  \u001b[0m\u001b[30;107m \u001b[0m\u001b[30;107m│\u001b[0m\n",
       "\u001b[30;107m│\u001b[0m\u001b[30;107m \u001b[0m\u001b[30;107m Toyota \u001b[0m\u001b[30;107m \u001b[0m\u001b[30;107m│\u001b[0m\u001b[30;107m \u001b[0m\u001b[1;36;107m1504\u001b[0m\u001b[30;107m \u001b[0m\u001b[30;107m│\u001b[0m\u001b[30;107m \u001b[0m\u001b[1;36;107m0.2088\u001b[0m\u001b[30;107m \u001b[0m\u001b[30;107m \u001b[0m\u001b[30;107m│\u001b[0m\u001b[30;107m \u001b[0m\u001b[30;107m        \u001b[0m\u001b[1;36;107m891\u001b[0m\u001b[30;107m        \u001b[0m\u001b[30;107m \u001b[0m\u001b[30;107m│\u001b[0m\u001b[30;107m \u001b[0m\u001b[30;107m toyota_base-model \u001b[0m\u001b[30;107m \u001b[0m\u001b[30;107m│\u001b[0m\n",
       "\u001b[30;107m│\u001b[0m\u001b[30;107m \u001b[0m\u001b[30;107m   Vw   \u001b[0m\u001b[30;107m \u001b[0m\u001b[30;107m│\u001b[0m\u001b[30;107m \u001b[0m\u001b[1;36;107m2026\u001b[0m\u001b[30;107m \u001b[0m\u001b[30;107m│\u001b[0m\u001b[30;107m \u001b[0m\u001b[1;36;107m0.1248\u001b[0m\u001b[30;107m \u001b[0m\u001b[30;107m \u001b[0m\u001b[30;107m│\u001b[0m\u001b[30;107m \u001b[0m\u001b[30;107m       \u001b[0m\u001b[1;36;107m1191\u001b[0m\u001b[30;107m        \u001b[0m\u001b[30;107m \u001b[0m\u001b[30;107m│\u001b[0m\u001b[30;107m \u001b[0m\u001b[30;107m   vw_base-model   \u001b[0m\u001b[30;107m \u001b[0m\u001b[30;107m│\u001b[0m\n",
       "\u001b[30;107m└──────────┴──────┴─────────┴─────────────────────┴─────────────────────┘\u001b[0m\n"
      ]
     },
     "metadata": {},
     "output_type": "display_data"
    }
   ],
   "source": [
    "evaluate_all_models(search_term='base-model',exclude=['base_score','all_brand'])"
   ]
  },
  {
   "cell_type": "markdown",
   "id": "b8640966",
   "metadata": {
    "slideshow": {
     "slide_type": "subslide"
    }
   },
   "source": [
    "#### Optimisation du pipeline (OMBB)"
   ]
  },
  {
   "cell_type": "code",
   "execution_count": 21,
   "id": "4d237441",
   "metadata": {
    "slideshow": {
     "slide_type": "subslide"
    }
   },
   "outputs": [
    {
     "data": {
      "text/html": [
       "<pre style=\"white-space:pre;overflow-x:auto;line-height:normal;font-family:Menlo,'DejaVu Sans Mono',consolas,'Courier New',monospace\"><span style=\"color: #000000; text-decoration-color: #000000; background-color: #ffffff; font-weight: bold\">PERFORMANCE COMPARISON</span> <span style=\"color: #000000; text-decoration-color: #000000; background-color: #ffffff\">──────────────────────────────────────────────────────────────────────</span>\n",
       "</pre>\n"
      ],
      "text/plain": [
       "\u001b[1;52;30;107mPERFORMANCE COMPARISON\u001b[0m \u001b[30;107m──────────────────────────────────────────────────────────────────────\u001b[0m\n"
      ]
     },
     "metadata": {},
     "output_type": "display_data"
    },
    {
     "data": {
      "text/html": [
       "<pre style=\"white-space:pre;overflow-x:auto;line-height:normal;font-family:Menlo,'DejaVu Sans Mono',consolas,'Courier New',monospace\"><span style=\"color: #000000; text-decoration-color: #000000; background-color: #ffffff; font-style: italic\">One model by Brand                                           </span>\n",
       "<span style=\"color: #000000; text-decoration-color: #000000; background-color: #ffffff\">┏━━━━━━━━━━┳━━━━━━┳━━━━━━━━━━━━━━━━━━━━━┳━━━━━━━━━━━━━━━━━━━┓</span>\n",
       "<span style=\"color: #000000; text-decoration-color: #000000; background-color: #ffffff\">┃  Brand   ┃ RMSE ┃ Absolute Mean Error ┃    Model path     ┃</span>\n",
       "<span style=\"color: #000000; text-decoration-color: #000000; background-color: #ffffff\">┡━━━━━━━━━━╇━━━━━━╇━━━━━━━━━━━━━━━━━━━━━╇━━━━━━━━━━━━━━━━━━━┩</span>\n",
       "<span style=\"color: #000000; text-decoration-color: #000000; background-color: #ffffff\">│   Audi   │ </span><span style=\"color: #008080; text-decoration-color: #008080; background-color: #ffffff; font-weight: bold\">1847</span><span style=\"color: #000000; text-decoration-color: #000000; background-color: #ffffff\"> │        </span><span style=\"color: #008080; text-decoration-color: #008080; background-color: #ffffff; font-weight: bold\">1149</span><span style=\"color: #000000; text-decoration-color: #000000; background-color: #ffffff\">         │   audi_optimize   │</span>\n",
       "<span style=\"color: #000000; text-decoration-color: #000000; background-color: #ffffff\">│   Bmw    │ </span><span style=\"color: #008080; text-decoration-color: #008080; background-color: #ffffff; font-weight: bold\">1635</span><span style=\"color: #000000; text-decoration-color: #000000; background-color: #ffffff\"> │        </span><span style=\"color: #008080; text-decoration-color: #008080; background-color: #ffffff; font-weight: bold\">1108</span><span style=\"color: #000000; text-decoration-color: #000000; background-color: #ffffff\">         │   bmw_optimize    │</span>\n",
       "<span style=\"color: #000000; text-decoration-color: #000000; background-color: #ffffff\">│   Ford   │ </span><span style=\"color: #008080; text-decoration-color: #008080; background-color: #ffffff; font-weight: bold\">801</span><span style=\"color: #000000; text-decoration-color: #000000; background-color: #ffffff\">  │         </span><span style=\"color: #008080; text-decoration-color: #008080; background-color: #ffffff; font-weight: bold\">541</span><span style=\"color: #000000; text-decoration-color: #000000; background-color: #ffffff\">         │   ford_optimize   │</span>\n",
       "<span style=\"color: #000000; text-decoration-color: #000000; background-color: #ffffff\">│ Hyundai  │ </span><span style=\"color: #008080; text-decoration-color: #008080; background-color: #ffffff; font-weight: bold\">733</span><span style=\"color: #000000; text-decoration-color: #000000; background-color: #ffffff\">  │         </span><span style=\"color: #008080; text-decoration-color: #008080; background-color: #ffffff; font-weight: bold\">518</span><span style=\"color: #000000; text-decoration-color: #000000; background-color: #ffffff\">         │ hyundai_optimize  │</span>\n",
       "<span style=\"color: #000000; text-decoration-color: #000000; background-color: #ffffff\">│ Mercedes │ </span><span style=\"color: #008080; text-decoration-color: #008080; background-color: #ffffff; font-weight: bold\">2613</span><span style=\"color: #000000; text-decoration-color: #000000; background-color: #ffffff\"> │        </span><span style=\"color: #008080; text-decoration-color: #008080; background-color: #ffffff; font-weight: bold\">1211</span><span style=\"color: #000000; text-decoration-color: #000000; background-color: #ffffff\">         │ mercedes_optimize │</span>\n",
       "<span style=\"color: #000000; text-decoration-color: #000000; background-color: #ffffff\">│   Opel   │ </span><span style=\"color: #008080; text-decoration-color: #008080; background-color: #ffffff; font-weight: bold\">682</span><span style=\"color: #000000; text-decoration-color: #000000; background-color: #ffffff\">  │         </span><span style=\"color: #008080; text-decoration-color: #008080; background-color: #ffffff; font-weight: bold\">463</span><span style=\"color: #000000; text-decoration-color: #000000; background-color: #ffffff\">         │   opel_optimize   │</span>\n",
       "<span style=\"color: #000000; text-decoration-color: #000000; background-color: #ffffff\">│  Skoda   │ </span><span style=\"color: #008080; text-decoration-color: #008080; background-color: #ffffff; font-weight: bold\">1486</span><span style=\"color: #000000; text-decoration-color: #000000; background-color: #ffffff\"> │         </span><span style=\"color: #008080; text-decoration-color: #008080; background-color: #ffffff; font-weight: bold\">736</span><span style=\"color: #000000; text-decoration-color: #000000; background-color: #ffffff\">         │  skoda_optimize   │</span>\n",
       "<span style=\"color: #000000; text-decoration-color: #000000; background-color: #ffffff\">│  Toyota  │ </span><span style=\"color: #008080; text-decoration-color: #008080; background-color: #ffffff; font-weight: bold\">919</span><span style=\"color: #000000; text-decoration-color: #000000; background-color: #ffffff\">  │         </span><span style=\"color: #008080; text-decoration-color: #008080; background-color: #ffffff; font-weight: bold\">545</span><span style=\"color: #000000; text-decoration-color: #000000; background-color: #ffffff\">         │  toyota_optimize  │</span>\n",
       "<span style=\"color: #000000; text-decoration-color: #000000; background-color: #ffffff\">│    Vw    │ </span><span style=\"color: #008080; text-decoration-color: #008080; background-color: #ffffff; font-weight: bold\">1162</span><span style=\"color: #000000; text-decoration-color: #000000; background-color: #ffffff\"> │         </span><span style=\"color: #008080; text-decoration-color: #008080; background-color: #ffffff; font-weight: bold\">761</span><span style=\"color: #000000; text-decoration-color: #000000; background-color: #ffffff\">         │    vw_optimize    │</span>\n",
       "<span style=\"color: #000000; text-decoration-color: #000000; background-color: #ffffff\">└──────────┴──────┴─────────────────────┴───────────────────┘</span>\n",
       "</pre>\n"
      ],
      "text/plain": [
       "\u001b[3;30;107mOne model by Brand                                           \u001b[0m\n",
       "\u001b[30;107m┏━━━━━━━━━━┳━━━━━━┳━━━━━━━━━━━━━━━━━━━━━┳━━━━━━━━━━━━━━━━━━━┓\u001b[0m\n",
       "\u001b[30;107m┃\u001b[0m\u001b[30;107m \u001b[0m\u001b[30;107m Brand  \u001b[0m\u001b[30;107m \u001b[0m\u001b[30;107m┃\u001b[0m\u001b[30;107m \u001b[0m\u001b[30;107mRMSE\u001b[0m\u001b[30;107m \u001b[0m\u001b[30;107m┃\u001b[0m\u001b[30;107m \u001b[0m\u001b[30;107mAbsolute Mean Error\u001b[0m\u001b[30;107m \u001b[0m\u001b[30;107m┃\u001b[0m\u001b[30;107m \u001b[0m\u001b[30;107m   Model path    \u001b[0m\u001b[30;107m \u001b[0m\u001b[30;107m┃\u001b[0m\n",
       "\u001b[30;107m┡━━━━━━━━━━╇━━━━━━╇━━━━━━━━━━━━━━━━━━━━━╇━━━━━━━━━━━━━━━━━━━┩\u001b[0m\n",
       "\u001b[30;107m│\u001b[0m\u001b[30;107m \u001b[0m\u001b[30;107m  Audi  \u001b[0m\u001b[30;107m \u001b[0m\u001b[30;107m│\u001b[0m\u001b[30;107m \u001b[0m\u001b[1;36;107m1847\u001b[0m\u001b[30;107m \u001b[0m\u001b[30;107m│\u001b[0m\u001b[30;107m \u001b[0m\u001b[30;107m       \u001b[0m\u001b[1;36;107m1149\u001b[0m\u001b[30;107m        \u001b[0m\u001b[30;107m \u001b[0m\u001b[30;107m│\u001b[0m\u001b[30;107m \u001b[0m\u001b[30;107m  audi_optimize  \u001b[0m\u001b[30;107m \u001b[0m\u001b[30;107m│\u001b[0m\n",
       "\u001b[30;107m│\u001b[0m\u001b[30;107m \u001b[0m\u001b[30;107m  Bmw   \u001b[0m\u001b[30;107m \u001b[0m\u001b[30;107m│\u001b[0m\u001b[30;107m \u001b[0m\u001b[1;36;107m1635\u001b[0m\u001b[30;107m \u001b[0m\u001b[30;107m│\u001b[0m\u001b[30;107m \u001b[0m\u001b[30;107m       \u001b[0m\u001b[1;36;107m1108\u001b[0m\u001b[30;107m        \u001b[0m\u001b[30;107m \u001b[0m\u001b[30;107m│\u001b[0m\u001b[30;107m \u001b[0m\u001b[30;107m  bmw_optimize   \u001b[0m\u001b[30;107m \u001b[0m\u001b[30;107m│\u001b[0m\n",
       "\u001b[30;107m│\u001b[0m\u001b[30;107m \u001b[0m\u001b[30;107m  Ford  \u001b[0m\u001b[30;107m \u001b[0m\u001b[30;107m│\u001b[0m\u001b[30;107m \u001b[0m\u001b[1;36;107m801\u001b[0m\u001b[30;107m \u001b[0m\u001b[30;107m \u001b[0m\u001b[30;107m│\u001b[0m\u001b[30;107m \u001b[0m\u001b[30;107m        \u001b[0m\u001b[1;36;107m541\u001b[0m\u001b[30;107m        \u001b[0m\u001b[30;107m \u001b[0m\u001b[30;107m│\u001b[0m\u001b[30;107m \u001b[0m\u001b[30;107m  ford_optimize  \u001b[0m\u001b[30;107m \u001b[0m\u001b[30;107m│\u001b[0m\n",
       "\u001b[30;107m│\u001b[0m\u001b[30;107m \u001b[0m\u001b[30;107mHyundai \u001b[0m\u001b[30;107m \u001b[0m\u001b[30;107m│\u001b[0m\u001b[30;107m \u001b[0m\u001b[1;36;107m733\u001b[0m\u001b[30;107m \u001b[0m\u001b[30;107m \u001b[0m\u001b[30;107m│\u001b[0m\u001b[30;107m \u001b[0m\u001b[30;107m        \u001b[0m\u001b[1;36;107m518\u001b[0m\u001b[30;107m        \u001b[0m\u001b[30;107m \u001b[0m\u001b[30;107m│\u001b[0m\u001b[30;107m \u001b[0m\u001b[30;107mhyundai_optimize \u001b[0m\u001b[30;107m \u001b[0m\u001b[30;107m│\u001b[0m\n",
       "\u001b[30;107m│\u001b[0m\u001b[30;107m \u001b[0m\u001b[30;107mMercedes\u001b[0m\u001b[30;107m \u001b[0m\u001b[30;107m│\u001b[0m\u001b[30;107m \u001b[0m\u001b[1;36;107m2613\u001b[0m\u001b[30;107m \u001b[0m\u001b[30;107m│\u001b[0m\u001b[30;107m \u001b[0m\u001b[30;107m       \u001b[0m\u001b[1;36;107m1211\u001b[0m\u001b[30;107m        \u001b[0m\u001b[30;107m \u001b[0m\u001b[30;107m│\u001b[0m\u001b[30;107m \u001b[0m\u001b[30;107mmercedes_optimize\u001b[0m\u001b[30;107m \u001b[0m\u001b[30;107m│\u001b[0m\n",
       "\u001b[30;107m│\u001b[0m\u001b[30;107m \u001b[0m\u001b[30;107m  Opel  \u001b[0m\u001b[30;107m \u001b[0m\u001b[30;107m│\u001b[0m\u001b[30;107m \u001b[0m\u001b[1;36;107m682\u001b[0m\u001b[30;107m \u001b[0m\u001b[30;107m \u001b[0m\u001b[30;107m│\u001b[0m\u001b[30;107m \u001b[0m\u001b[30;107m        \u001b[0m\u001b[1;36;107m463\u001b[0m\u001b[30;107m        \u001b[0m\u001b[30;107m \u001b[0m\u001b[30;107m│\u001b[0m\u001b[30;107m \u001b[0m\u001b[30;107m  opel_optimize  \u001b[0m\u001b[30;107m \u001b[0m\u001b[30;107m│\u001b[0m\n",
       "\u001b[30;107m│\u001b[0m\u001b[30;107m \u001b[0m\u001b[30;107m Skoda  \u001b[0m\u001b[30;107m \u001b[0m\u001b[30;107m│\u001b[0m\u001b[30;107m \u001b[0m\u001b[1;36;107m1486\u001b[0m\u001b[30;107m \u001b[0m\u001b[30;107m│\u001b[0m\u001b[30;107m \u001b[0m\u001b[30;107m        \u001b[0m\u001b[1;36;107m736\u001b[0m\u001b[30;107m        \u001b[0m\u001b[30;107m \u001b[0m\u001b[30;107m│\u001b[0m\u001b[30;107m \u001b[0m\u001b[30;107m skoda_optimize  \u001b[0m\u001b[30;107m \u001b[0m\u001b[30;107m│\u001b[0m\n",
       "\u001b[30;107m│\u001b[0m\u001b[30;107m \u001b[0m\u001b[30;107m Toyota \u001b[0m\u001b[30;107m \u001b[0m\u001b[30;107m│\u001b[0m\u001b[30;107m \u001b[0m\u001b[1;36;107m919\u001b[0m\u001b[30;107m \u001b[0m\u001b[30;107m \u001b[0m\u001b[30;107m│\u001b[0m\u001b[30;107m \u001b[0m\u001b[30;107m        \u001b[0m\u001b[1;36;107m545\u001b[0m\u001b[30;107m        \u001b[0m\u001b[30;107m \u001b[0m\u001b[30;107m│\u001b[0m\u001b[30;107m \u001b[0m\u001b[30;107m toyota_optimize \u001b[0m\u001b[30;107m \u001b[0m\u001b[30;107m│\u001b[0m\n",
       "\u001b[30;107m│\u001b[0m\u001b[30;107m \u001b[0m\u001b[30;107m   Vw   \u001b[0m\u001b[30;107m \u001b[0m\u001b[30;107m│\u001b[0m\u001b[30;107m \u001b[0m\u001b[1;36;107m1162\u001b[0m\u001b[30;107m \u001b[0m\u001b[30;107m│\u001b[0m\u001b[30;107m \u001b[0m\u001b[30;107m        \u001b[0m\u001b[1;36;107m761\u001b[0m\u001b[30;107m        \u001b[0m\u001b[30;107m \u001b[0m\u001b[30;107m│\u001b[0m\u001b[30;107m \u001b[0m\u001b[30;107m   vw_optimize   \u001b[0m\u001b[30;107m \u001b[0m\u001b[30;107m│\u001b[0m\n",
       "\u001b[30;107m└──────────┴──────┴─────────────────────┴───────────────────┘\u001b[0m\n"
      ]
     },
     "metadata": {},
     "output_type": "display_data"
    }
   ],
   "source": [
    "evaluate_all_models(search_term='optimize', exclude=['rmse'])"
   ]
  },
  {
   "cell_type": "markdown",
   "id": "2466391b",
   "metadata": {
    "slideshow": {
     "slide_type": "subslide"
    }
   },
   "source": [
    "#### Optimisation de l'estimateur (OMBB)"
   ]
  },
  {
   "cell_type": "code",
   "execution_count": null,
   "id": "f3b8139a",
   "metadata": {
    "slideshow": {
     "slide_type": "skip"
    }
   },
   "outputs": [],
   "source": [
    "# Modèle avec pipeline et estimateur optimisé\n",
    "#get_best_estimators_params(search_term='optimize_rmse', exclude_term=['estimator'], verbose=True)"
   ]
  },
  {
   "cell_type": "code",
   "execution_count": 22,
   "id": "4d595171",
   "metadata": {
    "scrolled": false,
    "slideshow": {
     "slide_type": "subslide"
    }
   },
   "outputs": [
    {
     "data": {
      "text/html": [
       "<pre style=\"white-space:pre;overflow-x:auto;line-height:normal;font-family:Menlo,'DejaVu Sans Mono',consolas,'Courier New',monospace\"><span style=\"color: #000000; text-decoration-color: #000000; background-color: #ffffff; font-weight: bold\">PERFORMANCE COMPARISON</span> <span style=\"color: #000000; text-decoration-color: #000000; background-color: #ffffff\">──────────────────────────────────────────────────────────────────────</span>\n",
       "</pre>\n"
      ],
      "text/plain": [
       "\u001b[1;52;30;107mPERFORMANCE COMPARISON\u001b[0m \u001b[30;107m──────────────────────────────────────────────────────────────────────\u001b[0m\n"
      ]
     },
     "metadata": {},
     "output_type": "display_data"
    },
    {
     "data": {
      "text/html": [
       "<pre style=\"white-space:pre;overflow-x:auto;line-height:normal;font-family:Menlo,'DejaVu Sans Mono',consolas,'Courier New',monospace\"><span style=\"color: #000000; text-decoration-color: #000000; background-color: #ffffff; font-style: italic\">One model by Brand                                                      </span>\n",
       "<span style=\"color: #000000; text-decoration-color: #000000; background-color: #ffffff\">┏━━━━━━━━━━┳━━━━━━┳━━━━━━━━━━━━━━━━━━━━━┳━━━━━━━━━━━━━━━━━━━━━━━━━━━━━━┓</span>\n",
       "<span style=\"color: #000000; text-decoration-color: #000000; background-color: #ffffff\">┃  Brand   ┃ RMSE ┃ Absolute Mean Error ┃          Model path          ┃</span>\n",
       "<span style=\"color: #000000; text-decoration-color: #000000; background-color: #ffffff\">┡━━━━━━━━━━╇━━━━━━╇━━━━━━━━━━━━━━━━━━━━━╇━━━━━━━━━━━━━━━━━━━━━━━━━━━━━━┩</span>\n",
       "<span style=\"color: #000000; text-decoration-color: #000000; background-color: #ffffff\">│   Audi   │ </span><span style=\"color: #008080; text-decoration-color: #008080; background-color: #ffffff; font-weight: bold\">1540</span><span style=\"color: #000000; text-decoration-color: #000000; background-color: #ffffff\"> │         </span><span style=\"color: #008080; text-decoration-color: #008080; background-color: #ffffff; font-weight: bold\">848</span><span style=\"color: #000000; text-decoration-color: #000000; background-color: #ffffff\">         │   audi_perm-estimator_1540   │</span>\n",
       "<span style=\"color: #000000; text-decoration-color: #000000; background-color: #ffffff\">│   Bmw    │ </span><span style=\"color: #008080; text-decoration-color: #008080; background-color: #ffffff; font-weight: bold\">1482</span><span style=\"color: #000000; text-decoration-color: #000000; background-color: #ffffff\"> │         </span><span style=\"color: #008080; text-decoration-color: #008080; background-color: #ffffff; font-weight: bold\">959</span><span style=\"color: #000000; text-decoration-color: #000000; background-color: #ffffff\">         │   bmw_perm-estimator_1482    │</span>\n",
       "<span style=\"color: #000000; text-decoration-color: #000000; background-color: #ffffff\">│   Ford   │ </span><span style=\"color: #008080; text-decoration-color: #008080; background-color: #ffffff; font-weight: bold\">785</span><span style=\"color: #000000; text-decoration-color: #000000; background-color: #ffffff\">  │         </span><span style=\"color: #008080; text-decoration-color: #008080; background-color: #ffffff; font-weight: bold\">507</span><span style=\"color: #000000; text-decoration-color: #000000; background-color: #ffffff\">         │   ford_perm-estimator_785    │</span>\n",
       "<span style=\"color: #000000; text-decoration-color: #000000; background-color: #ffffff\">│ Hyundai  │ </span><span style=\"color: #008080; text-decoration-color: #008080; background-color: #ffffff; font-weight: bold\">760</span><span style=\"color: #000000; text-decoration-color: #000000; background-color: #ffffff\">  │         </span><span style=\"color: #008080; text-decoration-color: #008080; background-color: #ffffff; font-weight: bold\">536</span><span style=\"color: #000000; text-decoration-color: #000000; background-color: #ffffff\">         │  hyundai_perm-estimator_760  │</span>\n",
       "<span style=\"color: #000000; text-decoration-color: #000000; background-color: #ffffff\">│ Mercedes │ </span><span style=\"color: #008080; text-decoration-color: #008080; background-color: #ffffff; font-weight: bold\">2266</span><span style=\"color: #000000; text-decoration-color: #000000; background-color: #ffffff\"> │        </span><span style=\"color: #008080; text-decoration-color: #008080; background-color: #ffffff; font-weight: bold\">1237</span><span style=\"color: #000000; text-decoration-color: #000000; background-color: #ffffff\">         │ mercedes_perm-estimator_2266 │</span>\n",
       "<span style=\"color: #000000; text-decoration-color: #000000; background-color: #ffffff\">│   Opel   │ </span><span style=\"color: #008080; text-decoration-color: #008080; background-color: #ffffff; font-weight: bold\">707</span><span style=\"color: #000000; text-decoration-color: #000000; background-color: #ffffff\">  │         </span><span style=\"color: #008080; text-decoration-color: #008080; background-color: #ffffff; font-weight: bold\">461</span><span style=\"color: #000000; text-decoration-color: #000000; background-color: #ffffff\">         │   opel_perm-estimator_707    │</span>\n",
       "<span style=\"color: #000000; text-decoration-color: #000000; background-color: #ffffff\">│  Skoda   │ </span><span style=\"color: #008080; text-decoration-color: #008080; background-color: #ffffff; font-weight: bold\">1435</span><span style=\"color: #000000; text-decoration-color: #000000; background-color: #ffffff\"> │         </span><span style=\"color: #008080; text-decoration-color: #008080; background-color: #ffffff; font-weight: bold\">708</span><span style=\"color: #000000; text-decoration-color: #000000; background-color: #ffffff\">         │  skoda_perm-estimator_1435   │</span>\n",
       "<span style=\"color: #000000; text-decoration-color: #000000; background-color: #ffffff\">│  Toyota  │ </span><span style=\"color: #008080; text-decoration-color: #008080; background-color: #ffffff; font-weight: bold\">862</span><span style=\"color: #000000; text-decoration-color: #000000; background-color: #ffffff\">  │         </span><span style=\"color: #008080; text-decoration-color: #008080; background-color: #ffffff; font-weight: bold\">503</span><span style=\"color: #000000; text-decoration-color: #000000; background-color: #ffffff\">         │  toyota_perm-estimator_862   │</span>\n",
       "<span style=\"color: #000000; text-decoration-color: #000000; background-color: #ffffff\">│    Vw    │ </span><span style=\"color: #008080; text-decoration-color: #008080; background-color: #ffffff; font-weight: bold\">963</span><span style=\"color: #000000; text-decoration-color: #000000; background-color: #ffffff\">  │         </span><span style=\"color: #008080; text-decoration-color: #008080; background-color: #ffffff; font-weight: bold\">561</span><span style=\"color: #000000; text-decoration-color: #000000; background-color: #ffffff\">         │    vw_perm-estimator_963     │</span>\n",
       "<span style=\"color: #000000; text-decoration-color: #000000; background-color: #ffffff\">└──────────┴──────┴─────────────────────┴──────────────────────────────┘</span>\n",
       "</pre>\n"
      ],
      "text/plain": [
       "\u001b[3;30;107mOne model by Brand                                                      \u001b[0m\n",
       "\u001b[30;107m┏━━━━━━━━━━┳━━━━━━┳━━━━━━━━━━━━━━━━━━━━━┳━━━━━━━━━━━━━━━━━━━━━━━━━━━━━━┓\u001b[0m\n",
       "\u001b[30;107m┃\u001b[0m\u001b[30;107m \u001b[0m\u001b[30;107m Brand  \u001b[0m\u001b[30;107m \u001b[0m\u001b[30;107m┃\u001b[0m\u001b[30;107m \u001b[0m\u001b[30;107mRMSE\u001b[0m\u001b[30;107m \u001b[0m\u001b[30;107m┃\u001b[0m\u001b[30;107m \u001b[0m\u001b[30;107mAbsolute Mean Error\u001b[0m\u001b[30;107m \u001b[0m\u001b[30;107m┃\u001b[0m\u001b[30;107m \u001b[0m\u001b[30;107m         Model path         \u001b[0m\u001b[30;107m \u001b[0m\u001b[30;107m┃\u001b[0m\n",
       "\u001b[30;107m┡━━━━━━━━━━╇━━━━━━╇━━━━━━━━━━━━━━━━━━━━━╇━━━━━━━━━━━━━━━━━━━━━━━━━━━━━━┩\u001b[0m\n",
       "\u001b[30;107m│\u001b[0m\u001b[30;107m \u001b[0m\u001b[30;107m  Audi  \u001b[0m\u001b[30;107m \u001b[0m\u001b[30;107m│\u001b[0m\u001b[30;107m \u001b[0m\u001b[1;36;107m1540\u001b[0m\u001b[30;107m \u001b[0m\u001b[30;107m│\u001b[0m\u001b[30;107m \u001b[0m\u001b[30;107m        \u001b[0m\u001b[1;36;107m848\u001b[0m\u001b[30;107m        \u001b[0m\u001b[30;107m \u001b[0m\u001b[30;107m│\u001b[0m\u001b[30;107m \u001b[0m\u001b[30;107m  audi_perm-estimator_1540  \u001b[0m\u001b[30;107m \u001b[0m\u001b[30;107m│\u001b[0m\n",
       "\u001b[30;107m│\u001b[0m\u001b[30;107m \u001b[0m\u001b[30;107m  Bmw   \u001b[0m\u001b[30;107m \u001b[0m\u001b[30;107m│\u001b[0m\u001b[30;107m \u001b[0m\u001b[1;36;107m1482\u001b[0m\u001b[30;107m \u001b[0m\u001b[30;107m│\u001b[0m\u001b[30;107m \u001b[0m\u001b[30;107m        \u001b[0m\u001b[1;36;107m959\u001b[0m\u001b[30;107m        \u001b[0m\u001b[30;107m \u001b[0m\u001b[30;107m│\u001b[0m\u001b[30;107m \u001b[0m\u001b[30;107m  bmw_perm-estimator_1482   \u001b[0m\u001b[30;107m \u001b[0m\u001b[30;107m│\u001b[0m\n",
       "\u001b[30;107m│\u001b[0m\u001b[30;107m \u001b[0m\u001b[30;107m  Ford  \u001b[0m\u001b[30;107m \u001b[0m\u001b[30;107m│\u001b[0m\u001b[30;107m \u001b[0m\u001b[1;36;107m785\u001b[0m\u001b[30;107m \u001b[0m\u001b[30;107m \u001b[0m\u001b[30;107m│\u001b[0m\u001b[30;107m \u001b[0m\u001b[30;107m        \u001b[0m\u001b[1;36;107m507\u001b[0m\u001b[30;107m        \u001b[0m\u001b[30;107m \u001b[0m\u001b[30;107m│\u001b[0m\u001b[30;107m \u001b[0m\u001b[30;107m  ford_perm-estimator_785   \u001b[0m\u001b[30;107m \u001b[0m\u001b[30;107m│\u001b[0m\n",
       "\u001b[30;107m│\u001b[0m\u001b[30;107m \u001b[0m\u001b[30;107mHyundai \u001b[0m\u001b[30;107m \u001b[0m\u001b[30;107m│\u001b[0m\u001b[30;107m \u001b[0m\u001b[1;36;107m760\u001b[0m\u001b[30;107m \u001b[0m\u001b[30;107m \u001b[0m\u001b[30;107m│\u001b[0m\u001b[30;107m \u001b[0m\u001b[30;107m        \u001b[0m\u001b[1;36;107m536\u001b[0m\u001b[30;107m        \u001b[0m\u001b[30;107m \u001b[0m\u001b[30;107m│\u001b[0m\u001b[30;107m \u001b[0m\u001b[30;107m hyundai_perm-estimator_760 \u001b[0m\u001b[30;107m \u001b[0m\u001b[30;107m│\u001b[0m\n",
       "\u001b[30;107m│\u001b[0m\u001b[30;107m \u001b[0m\u001b[30;107mMercedes\u001b[0m\u001b[30;107m \u001b[0m\u001b[30;107m│\u001b[0m\u001b[30;107m \u001b[0m\u001b[1;36;107m2266\u001b[0m\u001b[30;107m \u001b[0m\u001b[30;107m│\u001b[0m\u001b[30;107m \u001b[0m\u001b[30;107m       \u001b[0m\u001b[1;36;107m1237\u001b[0m\u001b[30;107m        \u001b[0m\u001b[30;107m \u001b[0m\u001b[30;107m│\u001b[0m\u001b[30;107m \u001b[0m\u001b[30;107mmercedes_perm-estimator_2266\u001b[0m\u001b[30;107m \u001b[0m\u001b[30;107m│\u001b[0m\n",
       "\u001b[30;107m│\u001b[0m\u001b[30;107m \u001b[0m\u001b[30;107m  Opel  \u001b[0m\u001b[30;107m \u001b[0m\u001b[30;107m│\u001b[0m\u001b[30;107m \u001b[0m\u001b[1;36;107m707\u001b[0m\u001b[30;107m \u001b[0m\u001b[30;107m \u001b[0m\u001b[30;107m│\u001b[0m\u001b[30;107m \u001b[0m\u001b[30;107m        \u001b[0m\u001b[1;36;107m461\u001b[0m\u001b[30;107m        \u001b[0m\u001b[30;107m \u001b[0m\u001b[30;107m│\u001b[0m\u001b[30;107m \u001b[0m\u001b[30;107m  opel_perm-estimator_707   \u001b[0m\u001b[30;107m \u001b[0m\u001b[30;107m│\u001b[0m\n",
       "\u001b[30;107m│\u001b[0m\u001b[30;107m \u001b[0m\u001b[30;107m Skoda  \u001b[0m\u001b[30;107m \u001b[0m\u001b[30;107m│\u001b[0m\u001b[30;107m \u001b[0m\u001b[1;36;107m1435\u001b[0m\u001b[30;107m \u001b[0m\u001b[30;107m│\u001b[0m\u001b[30;107m \u001b[0m\u001b[30;107m        \u001b[0m\u001b[1;36;107m708\u001b[0m\u001b[30;107m        \u001b[0m\u001b[30;107m \u001b[0m\u001b[30;107m│\u001b[0m\u001b[30;107m \u001b[0m\u001b[30;107m skoda_perm-estimator_1435  \u001b[0m\u001b[30;107m \u001b[0m\u001b[30;107m│\u001b[0m\n",
       "\u001b[30;107m│\u001b[0m\u001b[30;107m \u001b[0m\u001b[30;107m Toyota \u001b[0m\u001b[30;107m \u001b[0m\u001b[30;107m│\u001b[0m\u001b[30;107m \u001b[0m\u001b[1;36;107m862\u001b[0m\u001b[30;107m \u001b[0m\u001b[30;107m \u001b[0m\u001b[30;107m│\u001b[0m\u001b[30;107m \u001b[0m\u001b[30;107m        \u001b[0m\u001b[1;36;107m503\u001b[0m\u001b[30;107m        \u001b[0m\u001b[30;107m \u001b[0m\u001b[30;107m│\u001b[0m\u001b[30;107m \u001b[0m\u001b[30;107m toyota_perm-estimator_862  \u001b[0m\u001b[30;107m \u001b[0m\u001b[30;107m│\u001b[0m\n",
       "\u001b[30;107m│\u001b[0m\u001b[30;107m \u001b[0m\u001b[30;107m   Vw   \u001b[0m\u001b[30;107m \u001b[0m\u001b[30;107m│\u001b[0m\u001b[30;107m \u001b[0m\u001b[1;36;107m963\u001b[0m\u001b[30;107m \u001b[0m\u001b[30;107m \u001b[0m\u001b[30;107m│\u001b[0m\u001b[30;107m \u001b[0m\u001b[30;107m        \u001b[0m\u001b[1;36;107m561\u001b[0m\u001b[30;107m        \u001b[0m\u001b[30;107m \u001b[0m\u001b[30;107m│\u001b[0m\u001b[30;107m \u001b[0m\u001b[30;107m   vw_perm-estimator_963    \u001b[0m\u001b[30;107m \u001b[0m\u001b[30;107m│\u001b[0m\n",
       "\u001b[30;107m└──────────┴──────┴─────────────────────┴──────────────────────────────┘\u001b[0m\n"
      ]
     },
     "metadata": {},
     "output_type": "display_data"
    }
   ],
   "source": [
    "evaluate_all_models(search_term='estimator',exclude=['all_brand'])"
   ]
  },
  {
   "cell_type": "markdown",
   "id": "fcf504da",
   "metadata": {
    "slideshow": {
     "slide_type": "subslide"
    }
   },
   "source": [
    "#### Optimisation du pipeline (OMBB + permutation)"
   ]
  },
  {
   "cell_type": "code",
   "execution_count": 23,
   "id": "0a8deab4",
   "metadata": {
    "slideshow": {
     "slide_type": "subslide"
    }
   },
   "outputs": [
    {
     "data": {
      "text/html": [
       "<pre style=\"white-space:pre;overflow-x:auto;line-height:normal;font-family:Menlo,'DejaVu Sans Mono',consolas,'Courier New',monospace\"><span style=\"color: #000000; text-decoration-color: #000000; background-color: #ffffff; font-weight: bold\">PERFORMANCE COMPARISON</span> <span style=\"color: #000000; text-decoration-color: #000000; background-color: #ffffff\">──────────────────────────────────────────────────────────────────────</span>\n",
       "</pre>\n"
      ],
      "text/plain": [
       "\u001b[1;52;30;107mPERFORMANCE COMPARISON\u001b[0m \u001b[30;107m──────────────────────────────────────────────────────────────────────\u001b[0m\n"
      ]
     },
     "metadata": {},
     "output_type": "display_data"
    },
    {
     "data": {
      "text/html": [
       "<pre style=\"white-space:pre;overflow-x:auto;line-height:normal;font-family:Menlo,'DejaVu Sans Mono',consolas,'Courier New',monospace\"><span style=\"color: #000000; text-decoration-color: #000000; background-color: #ffffff; font-style: italic\">One model by Brand                                            </span>\n",
       "<span style=\"color: #000000; text-decoration-color: #000000; background-color: #ffffff\">┏━━━━━━━━━━┳━━━━━━┳━━━━━━━━━━━━━━━━━━━━━┳━━━━━━━━━━━━━━━━━━━━┓</span>\n",
       "<span style=\"color: #000000; text-decoration-color: #000000; background-color: #ffffff\">┃  Brand   ┃ RMSE ┃ Absolute Mean Error ┃     Model path     ┃</span>\n",
       "<span style=\"color: #000000; text-decoration-color: #000000; background-color: #ffffff\">┡━━━━━━━━━━╇━━━━━━╇━━━━━━━━━━━━━━━━━━━━━╇━━━━━━━━━━━━━━━━━━━━┩</span>\n",
       "<span style=\"color: #000000; text-decoration-color: #000000; background-color: #ffffff\">│   Audi   │ </span><span style=\"color: #008080; text-decoration-color: #008080; background-color: #ffffff; font-weight: bold\">1792</span><span style=\"color: #000000; text-decoration-color: #000000; background-color: #ffffff\"> │        </span><span style=\"color: #008080; text-decoration-color: #008080; background-color: #ffffff; font-weight: bold\">1096</span><span style=\"color: #000000; text-decoration-color: #000000; background-color: #ffffff\">         │   audi_perm_1792   │</span>\n",
       "<span style=\"color: #000000; text-decoration-color: #000000; background-color: #ffffff\">│   Bmw    │ </span><span style=\"color: #008080; text-decoration-color: #008080; background-color: #ffffff; font-weight: bold\">1656</span><span style=\"color: #000000; text-decoration-color: #000000; background-color: #ffffff\"> │        </span><span style=\"color: #008080; text-decoration-color: #008080; background-color: #ffffff; font-weight: bold\">1097</span><span style=\"color: #000000; text-decoration-color: #000000; background-color: #ffffff\">         │   bmw_perm_1656    │</span>\n",
       "<span style=\"color: #000000; text-decoration-color: #000000; background-color: #ffffff\">│   Ford   │ </span><span style=\"color: #008080; text-decoration-color: #008080; background-color: #ffffff; font-weight: bold\">789</span><span style=\"color: #000000; text-decoration-color: #000000; background-color: #ffffff\">  │         </span><span style=\"color: #008080; text-decoration-color: #008080; background-color: #ffffff; font-weight: bold\">554</span><span style=\"color: #000000; text-decoration-color: #000000; background-color: #ffffff\">         │   ford_perm_789    │</span>\n",
       "<span style=\"color: #000000; text-decoration-color: #000000; background-color: #ffffff\">│ Hyundai  │ </span><span style=\"color: #008080; text-decoration-color: #008080; background-color: #ffffff; font-weight: bold\">760</span><span style=\"color: #000000; text-decoration-color: #000000; background-color: #ffffff\">  │         </span><span style=\"color: #008080; text-decoration-color: #008080; background-color: #ffffff; font-weight: bold\">536</span><span style=\"color: #000000; text-decoration-color: #000000; background-color: #ffffff\">         │  hyundai_perm_760  │</span>\n",
       "<span style=\"color: #000000; text-decoration-color: #000000; background-color: #ffffff\">│ Mercedes │ </span><span style=\"color: #008080; text-decoration-color: #008080; background-color: #ffffff; font-weight: bold\">2266</span><span style=\"color: #000000; text-decoration-color: #000000; background-color: #ffffff\"> │        </span><span style=\"color: #008080; text-decoration-color: #008080; background-color: #ffffff; font-weight: bold\">1237</span><span style=\"color: #000000; text-decoration-color: #000000; background-color: #ffffff\">         │ mercedes_perm_2266 │</span>\n",
       "<span style=\"color: #000000; text-decoration-color: #000000; background-color: #ffffff\">│   Opel   │ </span><span style=\"color: #008080; text-decoration-color: #008080; background-color: #ffffff; font-weight: bold\">707</span><span style=\"color: #000000; text-decoration-color: #000000; background-color: #ffffff\">  │         </span><span style=\"color: #008080; text-decoration-color: #008080; background-color: #ffffff; font-weight: bold\">461</span><span style=\"color: #000000; text-decoration-color: #000000; background-color: #ffffff\">         │   opel_perm_707    │</span>\n",
       "<span style=\"color: #000000; text-decoration-color: #000000; background-color: #ffffff\">│  Skoda   │ </span><span style=\"color: #008080; text-decoration-color: #008080; background-color: #ffffff; font-weight: bold\">1435</span><span style=\"color: #000000; text-decoration-color: #000000; background-color: #ffffff\"> │         </span><span style=\"color: #008080; text-decoration-color: #008080; background-color: #ffffff; font-weight: bold\">708</span><span style=\"color: #000000; text-decoration-color: #000000; background-color: #ffffff\">         │  skoda_perm_1435   │</span>\n",
       "<span style=\"color: #000000; text-decoration-color: #000000; background-color: #ffffff\">│  Toyota  │ </span><span style=\"color: #008080; text-decoration-color: #008080; background-color: #ffffff; font-weight: bold\">916</span><span style=\"color: #000000; text-decoration-color: #000000; background-color: #ffffff\">  │         </span><span style=\"color: #008080; text-decoration-color: #008080; background-color: #ffffff; font-weight: bold\">580</span><span style=\"color: #000000; text-decoration-color: #000000; background-color: #ffffff\">         │  toyota_perm_916   │</span>\n",
       "<span style=\"color: #000000; text-decoration-color: #000000; background-color: #ffffff\">│    Vw    │ </span><span style=\"color: #008080; text-decoration-color: #008080; background-color: #ffffff; font-weight: bold\">1149</span><span style=\"color: #000000; text-decoration-color: #000000; background-color: #ffffff\"> │         </span><span style=\"color: #008080; text-decoration-color: #008080; background-color: #ffffff; font-weight: bold\">759</span><span style=\"color: #000000; text-decoration-color: #000000; background-color: #ffffff\">         │    vw_perm_1149    │</span>\n",
       "<span style=\"color: #000000; text-decoration-color: #000000; background-color: #ffffff\">└──────────┴──────┴─────────────────────┴────────────────────┘</span>\n",
       "</pre>\n"
      ],
      "text/plain": [
       "\u001b[3;30;107mOne model by Brand                                            \u001b[0m\n",
       "\u001b[30;107m┏━━━━━━━━━━┳━━━━━━┳━━━━━━━━━━━━━━━━━━━━━┳━━━━━━━━━━━━━━━━━━━━┓\u001b[0m\n",
       "\u001b[30;107m┃\u001b[0m\u001b[30;107m \u001b[0m\u001b[30;107m Brand  \u001b[0m\u001b[30;107m \u001b[0m\u001b[30;107m┃\u001b[0m\u001b[30;107m \u001b[0m\u001b[30;107mRMSE\u001b[0m\u001b[30;107m \u001b[0m\u001b[30;107m┃\u001b[0m\u001b[30;107m \u001b[0m\u001b[30;107mAbsolute Mean Error\u001b[0m\u001b[30;107m \u001b[0m\u001b[30;107m┃\u001b[0m\u001b[30;107m \u001b[0m\u001b[30;107m    Model path    \u001b[0m\u001b[30;107m \u001b[0m\u001b[30;107m┃\u001b[0m\n",
       "\u001b[30;107m┡━━━━━━━━━━╇━━━━━━╇━━━━━━━━━━━━━━━━━━━━━╇━━━━━━━━━━━━━━━━━━━━┩\u001b[0m\n",
       "\u001b[30;107m│\u001b[0m\u001b[30;107m \u001b[0m\u001b[30;107m  Audi  \u001b[0m\u001b[30;107m \u001b[0m\u001b[30;107m│\u001b[0m\u001b[30;107m \u001b[0m\u001b[1;36;107m1792\u001b[0m\u001b[30;107m \u001b[0m\u001b[30;107m│\u001b[0m\u001b[30;107m \u001b[0m\u001b[30;107m       \u001b[0m\u001b[1;36;107m1096\u001b[0m\u001b[30;107m        \u001b[0m\u001b[30;107m \u001b[0m\u001b[30;107m│\u001b[0m\u001b[30;107m \u001b[0m\u001b[30;107m  audi_perm_1792  \u001b[0m\u001b[30;107m \u001b[0m\u001b[30;107m│\u001b[0m\n",
       "\u001b[30;107m│\u001b[0m\u001b[30;107m \u001b[0m\u001b[30;107m  Bmw   \u001b[0m\u001b[30;107m \u001b[0m\u001b[30;107m│\u001b[0m\u001b[30;107m \u001b[0m\u001b[1;36;107m1656\u001b[0m\u001b[30;107m \u001b[0m\u001b[30;107m│\u001b[0m\u001b[30;107m \u001b[0m\u001b[30;107m       \u001b[0m\u001b[1;36;107m1097\u001b[0m\u001b[30;107m        \u001b[0m\u001b[30;107m \u001b[0m\u001b[30;107m│\u001b[0m\u001b[30;107m \u001b[0m\u001b[30;107m  bmw_perm_1656   \u001b[0m\u001b[30;107m \u001b[0m\u001b[30;107m│\u001b[0m\n",
       "\u001b[30;107m│\u001b[0m\u001b[30;107m \u001b[0m\u001b[30;107m  Ford  \u001b[0m\u001b[30;107m \u001b[0m\u001b[30;107m│\u001b[0m\u001b[30;107m \u001b[0m\u001b[1;36;107m789\u001b[0m\u001b[30;107m \u001b[0m\u001b[30;107m \u001b[0m\u001b[30;107m│\u001b[0m\u001b[30;107m \u001b[0m\u001b[30;107m        \u001b[0m\u001b[1;36;107m554\u001b[0m\u001b[30;107m        \u001b[0m\u001b[30;107m \u001b[0m\u001b[30;107m│\u001b[0m\u001b[30;107m \u001b[0m\u001b[30;107m  ford_perm_789   \u001b[0m\u001b[30;107m \u001b[0m\u001b[30;107m│\u001b[0m\n",
       "\u001b[30;107m│\u001b[0m\u001b[30;107m \u001b[0m\u001b[30;107mHyundai \u001b[0m\u001b[30;107m \u001b[0m\u001b[30;107m│\u001b[0m\u001b[30;107m \u001b[0m\u001b[1;36;107m760\u001b[0m\u001b[30;107m \u001b[0m\u001b[30;107m \u001b[0m\u001b[30;107m│\u001b[0m\u001b[30;107m \u001b[0m\u001b[30;107m        \u001b[0m\u001b[1;36;107m536\u001b[0m\u001b[30;107m        \u001b[0m\u001b[30;107m \u001b[0m\u001b[30;107m│\u001b[0m\u001b[30;107m \u001b[0m\u001b[30;107m hyundai_perm_760 \u001b[0m\u001b[30;107m \u001b[0m\u001b[30;107m│\u001b[0m\n",
       "\u001b[30;107m│\u001b[0m\u001b[30;107m \u001b[0m\u001b[30;107mMercedes\u001b[0m\u001b[30;107m \u001b[0m\u001b[30;107m│\u001b[0m\u001b[30;107m \u001b[0m\u001b[1;36;107m2266\u001b[0m\u001b[30;107m \u001b[0m\u001b[30;107m│\u001b[0m\u001b[30;107m \u001b[0m\u001b[30;107m       \u001b[0m\u001b[1;36;107m1237\u001b[0m\u001b[30;107m        \u001b[0m\u001b[30;107m \u001b[0m\u001b[30;107m│\u001b[0m\u001b[30;107m \u001b[0m\u001b[30;107mmercedes_perm_2266\u001b[0m\u001b[30;107m \u001b[0m\u001b[30;107m│\u001b[0m\n",
       "\u001b[30;107m│\u001b[0m\u001b[30;107m \u001b[0m\u001b[30;107m  Opel  \u001b[0m\u001b[30;107m \u001b[0m\u001b[30;107m│\u001b[0m\u001b[30;107m \u001b[0m\u001b[1;36;107m707\u001b[0m\u001b[30;107m \u001b[0m\u001b[30;107m \u001b[0m\u001b[30;107m│\u001b[0m\u001b[30;107m \u001b[0m\u001b[30;107m        \u001b[0m\u001b[1;36;107m461\u001b[0m\u001b[30;107m        \u001b[0m\u001b[30;107m \u001b[0m\u001b[30;107m│\u001b[0m\u001b[30;107m \u001b[0m\u001b[30;107m  opel_perm_707   \u001b[0m\u001b[30;107m \u001b[0m\u001b[30;107m│\u001b[0m\n",
       "\u001b[30;107m│\u001b[0m\u001b[30;107m \u001b[0m\u001b[30;107m Skoda  \u001b[0m\u001b[30;107m \u001b[0m\u001b[30;107m│\u001b[0m\u001b[30;107m \u001b[0m\u001b[1;36;107m1435\u001b[0m\u001b[30;107m \u001b[0m\u001b[30;107m│\u001b[0m\u001b[30;107m \u001b[0m\u001b[30;107m        \u001b[0m\u001b[1;36;107m708\u001b[0m\u001b[30;107m        \u001b[0m\u001b[30;107m \u001b[0m\u001b[30;107m│\u001b[0m\u001b[30;107m \u001b[0m\u001b[30;107m skoda_perm_1435  \u001b[0m\u001b[30;107m \u001b[0m\u001b[30;107m│\u001b[0m\n",
       "\u001b[30;107m│\u001b[0m\u001b[30;107m \u001b[0m\u001b[30;107m Toyota \u001b[0m\u001b[30;107m \u001b[0m\u001b[30;107m│\u001b[0m\u001b[30;107m \u001b[0m\u001b[1;36;107m916\u001b[0m\u001b[30;107m \u001b[0m\u001b[30;107m \u001b[0m\u001b[30;107m│\u001b[0m\u001b[30;107m \u001b[0m\u001b[30;107m        \u001b[0m\u001b[1;36;107m580\u001b[0m\u001b[30;107m        \u001b[0m\u001b[30;107m \u001b[0m\u001b[30;107m│\u001b[0m\u001b[30;107m \u001b[0m\u001b[30;107m toyota_perm_916  \u001b[0m\u001b[30;107m \u001b[0m\u001b[30;107m│\u001b[0m\n",
       "\u001b[30;107m│\u001b[0m\u001b[30;107m \u001b[0m\u001b[30;107m   Vw   \u001b[0m\u001b[30;107m \u001b[0m\u001b[30;107m│\u001b[0m\u001b[30;107m \u001b[0m\u001b[1;36;107m1149\u001b[0m\u001b[30;107m \u001b[0m\u001b[30;107m│\u001b[0m\u001b[30;107m \u001b[0m\u001b[30;107m        \u001b[0m\u001b[1;36;107m759\u001b[0m\u001b[30;107m        \u001b[0m\u001b[30;107m \u001b[0m\u001b[30;107m│\u001b[0m\u001b[30;107m \u001b[0m\u001b[30;107m   vw_perm_1149   \u001b[0m\u001b[30;107m \u001b[0m\u001b[30;107m│\u001b[0m\n",
       "\u001b[30;107m└──────────┴──────┴─────────────────────┴────────────────────┘\u001b[0m\n"
      ]
     },
     "metadata": {},
     "output_type": "display_data"
    }
   ],
   "source": [
    "evaluate_all_models(search_term='perm', exclude=[])"
   ]
  },
  {
   "cell_type": "code",
   "execution_count": 35,
   "id": "85cc969a",
   "metadata": {
    "slideshow": {
     "slide_type": "skip"
    }
   },
   "outputs": [],
   "source": [
    "#get_best_estimators_params(search_term='perm', exclude_term=['estimator'],prefix='perm2', verbose=True)"
   ]
  },
  {
   "cell_type": "markdown",
   "id": "d89f5ba0",
   "metadata": {},
   "source": [
    "#### Optimisation de l'estimateur (OMBB + permutation)"
   ]
  },
  {
   "cell_type": "code",
   "execution_count": 24,
   "id": "fe1283c0",
   "metadata": {
    "slideshow": {
     "slide_type": "subslide"
    }
   },
   "outputs": [
    {
     "data": {
      "text/html": [
       "<pre style=\"white-space:pre;overflow-x:auto;line-height:normal;font-family:Menlo,'DejaVu Sans Mono',consolas,'Courier New',monospace\"><span style=\"color: #000000; text-decoration-color: #000000; background-color: #ffffff; font-weight: bold\">PERFORMANCE COMPARISON</span> <span style=\"color: #000000; text-decoration-color: #000000; background-color: #ffffff\">──────────────────────────────────────────────────────────────────────</span>\n",
       "</pre>\n"
      ],
      "text/plain": [
       "\u001b[1;52;30;107mPERFORMANCE COMPARISON\u001b[0m \u001b[30;107m──────────────────────────────────────────────────────────────────────\u001b[0m\n"
      ]
     },
     "metadata": {},
     "output_type": "display_data"
    },
    {
     "data": {
      "text/html": [
       "<pre style=\"white-space:pre;overflow-x:auto;line-height:normal;font-family:Menlo,'DejaVu Sans Mono',consolas,'Courier New',monospace\"><span style=\"color: #000000; text-decoration-color: #000000; background-color: #ffffff; font-style: italic\">One model by Brand                                                      </span>\n",
       "<span style=\"color: #000000; text-decoration-color: #000000; background-color: #ffffff\">┏━━━━━━━━━━┳━━━━━━┳━━━━━━━━━━━━━━━━━━━━━┳━━━━━━━━━━━━━━━━━━━━━━━━━━━━━━┓</span>\n",
       "<span style=\"color: #000000; text-decoration-color: #000000; background-color: #ffffff\">┃  Brand   ┃ RMSE ┃ Absolute Mean Error ┃          Model path          ┃</span>\n",
       "<span style=\"color: #000000; text-decoration-color: #000000; background-color: #ffffff\">┡━━━━━━━━━━╇━━━━━━╇━━━━━━━━━━━━━━━━━━━━━╇━━━━━━━━━━━━━━━━━━━━━━━━━━━━━━┩</span>\n",
       "<span style=\"color: #000000; text-decoration-color: #000000; background-color: #ffffff\">│   Audi   │ </span><span style=\"color: #008080; text-decoration-color: #008080; background-color: #ffffff; font-weight: bold\">1540</span><span style=\"color: #000000; text-decoration-color: #000000; background-color: #ffffff\"> │         </span><span style=\"color: #008080; text-decoration-color: #008080; background-color: #ffffff; font-weight: bold\">848</span><span style=\"color: #000000; text-decoration-color: #000000; background-color: #ffffff\">         │   audi_perm-estimator_1540   │</span>\n",
       "<span style=\"color: #000000; text-decoration-color: #000000; background-color: #ffffff\">│   Bmw    │ </span><span style=\"color: #008080; text-decoration-color: #008080; background-color: #ffffff; font-weight: bold\">1482</span><span style=\"color: #000000; text-decoration-color: #000000; background-color: #ffffff\"> │         </span><span style=\"color: #008080; text-decoration-color: #008080; background-color: #ffffff; font-weight: bold\">959</span><span style=\"color: #000000; text-decoration-color: #000000; background-color: #ffffff\">         │   bmw_perm-estimator_1482    │</span>\n",
       "<span style=\"color: #000000; text-decoration-color: #000000; background-color: #ffffff\">│   Ford   │ </span><span style=\"color: #008080; text-decoration-color: #008080; background-color: #ffffff; font-weight: bold\">785</span><span style=\"color: #000000; text-decoration-color: #000000; background-color: #ffffff\">  │         </span><span style=\"color: #008080; text-decoration-color: #008080; background-color: #ffffff; font-weight: bold\">507</span><span style=\"color: #000000; text-decoration-color: #000000; background-color: #ffffff\">         │   ford_perm-estimator_785    │</span>\n",
       "<span style=\"color: #000000; text-decoration-color: #000000; background-color: #ffffff\">│ Hyundai  │ </span><span style=\"color: #008080; text-decoration-color: #008080; background-color: #ffffff; font-weight: bold\">760</span><span style=\"color: #000000; text-decoration-color: #000000; background-color: #ffffff\">  │         </span><span style=\"color: #008080; text-decoration-color: #008080; background-color: #ffffff; font-weight: bold\">536</span><span style=\"color: #000000; text-decoration-color: #000000; background-color: #ffffff\">         │  hyundai_perm-estimator_760  │</span>\n",
       "<span style=\"color: #000000; text-decoration-color: #000000; background-color: #ffffff\">│ Mercedes │ </span><span style=\"color: #008080; text-decoration-color: #008080; background-color: #ffffff; font-weight: bold\">2266</span><span style=\"color: #000000; text-decoration-color: #000000; background-color: #ffffff\"> │        </span><span style=\"color: #008080; text-decoration-color: #008080; background-color: #ffffff; font-weight: bold\">1237</span><span style=\"color: #000000; text-decoration-color: #000000; background-color: #ffffff\">         │ mercedes_perm-estimator_2266 │</span>\n",
       "<span style=\"color: #000000; text-decoration-color: #000000; background-color: #ffffff\">│   Opel   │ </span><span style=\"color: #008080; text-decoration-color: #008080; background-color: #ffffff; font-weight: bold\">707</span><span style=\"color: #000000; text-decoration-color: #000000; background-color: #ffffff\">  │         </span><span style=\"color: #008080; text-decoration-color: #008080; background-color: #ffffff; font-weight: bold\">461</span><span style=\"color: #000000; text-decoration-color: #000000; background-color: #ffffff\">         │   opel_perm-estimator_707    │</span>\n",
       "<span style=\"color: #000000; text-decoration-color: #000000; background-color: #ffffff\">│  Skoda   │ </span><span style=\"color: #008080; text-decoration-color: #008080; background-color: #ffffff; font-weight: bold\">1435</span><span style=\"color: #000000; text-decoration-color: #000000; background-color: #ffffff\"> │         </span><span style=\"color: #008080; text-decoration-color: #008080; background-color: #ffffff; font-weight: bold\">708</span><span style=\"color: #000000; text-decoration-color: #000000; background-color: #ffffff\">         │  skoda_perm-estimator_1435   │</span>\n",
       "<span style=\"color: #000000; text-decoration-color: #000000; background-color: #ffffff\">│  Toyota  │ </span><span style=\"color: #008080; text-decoration-color: #008080; background-color: #ffffff; font-weight: bold\">862</span><span style=\"color: #000000; text-decoration-color: #000000; background-color: #ffffff\">  │         </span><span style=\"color: #008080; text-decoration-color: #008080; background-color: #ffffff; font-weight: bold\">503</span><span style=\"color: #000000; text-decoration-color: #000000; background-color: #ffffff\">         │  toyota_perm-estimator_862   │</span>\n",
       "<span style=\"color: #000000; text-decoration-color: #000000; background-color: #ffffff\">│    Vw    │ </span><span style=\"color: #008080; text-decoration-color: #008080; background-color: #ffffff; font-weight: bold\">963</span><span style=\"color: #000000; text-decoration-color: #000000; background-color: #ffffff\">  │         </span><span style=\"color: #008080; text-decoration-color: #008080; background-color: #ffffff; font-weight: bold\">561</span><span style=\"color: #000000; text-decoration-color: #000000; background-color: #ffffff\">         │    vw_perm-estimator_963     │</span>\n",
       "<span style=\"color: #000000; text-decoration-color: #000000; background-color: #ffffff\">└──────────┴──────┴─────────────────────┴──────────────────────────────┘</span>\n",
       "</pre>\n"
      ],
      "text/plain": [
       "\u001b[3;30;107mOne model by Brand                                                      \u001b[0m\n",
       "\u001b[30;107m┏━━━━━━━━━━┳━━━━━━┳━━━━━━━━━━━━━━━━━━━━━┳━━━━━━━━━━━━━━━━━━━━━━━━━━━━━━┓\u001b[0m\n",
       "\u001b[30;107m┃\u001b[0m\u001b[30;107m \u001b[0m\u001b[30;107m Brand  \u001b[0m\u001b[30;107m \u001b[0m\u001b[30;107m┃\u001b[0m\u001b[30;107m \u001b[0m\u001b[30;107mRMSE\u001b[0m\u001b[30;107m \u001b[0m\u001b[30;107m┃\u001b[0m\u001b[30;107m \u001b[0m\u001b[30;107mAbsolute Mean Error\u001b[0m\u001b[30;107m \u001b[0m\u001b[30;107m┃\u001b[0m\u001b[30;107m \u001b[0m\u001b[30;107m         Model path         \u001b[0m\u001b[30;107m \u001b[0m\u001b[30;107m┃\u001b[0m\n",
       "\u001b[30;107m┡━━━━━━━━━━╇━━━━━━╇━━━━━━━━━━━━━━━━━━━━━╇━━━━━━━━━━━━━━━━━━━━━━━━━━━━━━┩\u001b[0m\n",
       "\u001b[30;107m│\u001b[0m\u001b[30;107m \u001b[0m\u001b[30;107m  Audi  \u001b[0m\u001b[30;107m \u001b[0m\u001b[30;107m│\u001b[0m\u001b[30;107m \u001b[0m\u001b[1;36;107m1540\u001b[0m\u001b[30;107m \u001b[0m\u001b[30;107m│\u001b[0m\u001b[30;107m \u001b[0m\u001b[30;107m        \u001b[0m\u001b[1;36;107m848\u001b[0m\u001b[30;107m        \u001b[0m\u001b[30;107m \u001b[0m\u001b[30;107m│\u001b[0m\u001b[30;107m \u001b[0m\u001b[30;107m  audi_perm-estimator_1540  \u001b[0m\u001b[30;107m \u001b[0m\u001b[30;107m│\u001b[0m\n",
       "\u001b[30;107m│\u001b[0m\u001b[30;107m \u001b[0m\u001b[30;107m  Bmw   \u001b[0m\u001b[30;107m \u001b[0m\u001b[30;107m│\u001b[0m\u001b[30;107m \u001b[0m\u001b[1;36;107m1482\u001b[0m\u001b[30;107m \u001b[0m\u001b[30;107m│\u001b[0m\u001b[30;107m \u001b[0m\u001b[30;107m        \u001b[0m\u001b[1;36;107m959\u001b[0m\u001b[30;107m        \u001b[0m\u001b[30;107m \u001b[0m\u001b[30;107m│\u001b[0m\u001b[30;107m \u001b[0m\u001b[30;107m  bmw_perm-estimator_1482   \u001b[0m\u001b[30;107m \u001b[0m\u001b[30;107m│\u001b[0m\n",
       "\u001b[30;107m│\u001b[0m\u001b[30;107m \u001b[0m\u001b[30;107m  Ford  \u001b[0m\u001b[30;107m \u001b[0m\u001b[30;107m│\u001b[0m\u001b[30;107m \u001b[0m\u001b[1;36;107m785\u001b[0m\u001b[30;107m \u001b[0m\u001b[30;107m \u001b[0m\u001b[30;107m│\u001b[0m\u001b[30;107m \u001b[0m\u001b[30;107m        \u001b[0m\u001b[1;36;107m507\u001b[0m\u001b[30;107m        \u001b[0m\u001b[30;107m \u001b[0m\u001b[30;107m│\u001b[0m\u001b[30;107m \u001b[0m\u001b[30;107m  ford_perm-estimator_785   \u001b[0m\u001b[30;107m \u001b[0m\u001b[30;107m│\u001b[0m\n",
       "\u001b[30;107m│\u001b[0m\u001b[30;107m \u001b[0m\u001b[30;107mHyundai \u001b[0m\u001b[30;107m \u001b[0m\u001b[30;107m│\u001b[0m\u001b[30;107m \u001b[0m\u001b[1;36;107m760\u001b[0m\u001b[30;107m \u001b[0m\u001b[30;107m \u001b[0m\u001b[30;107m│\u001b[0m\u001b[30;107m \u001b[0m\u001b[30;107m        \u001b[0m\u001b[1;36;107m536\u001b[0m\u001b[30;107m        \u001b[0m\u001b[30;107m \u001b[0m\u001b[30;107m│\u001b[0m\u001b[30;107m \u001b[0m\u001b[30;107m hyundai_perm-estimator_760 \u001b[0m\u001b[30;107m \u001b[0m\u001b[30;107m│\u001b[0m\n",
       "\u001b[30;107m│\u001b[0m\u001b[30;107m \u001b[0m\u001b[30;107mMercedes\u001b[0m\u001b[30;107m \u001b[0m\u001b[30;107m│\u001b[0m\u001b[30;107m \u001b[0m\u001b[1;36;107m2266\u001b[0m\u001b[30;107m \u001b[0m\u001b[30;107m│\u001b[0m\u001b[30;107m \u001b[0m\u001b[30;107m       \u001b[0m\u001b[1;36;107m1237\u001b[0m\u001b[30;107m        \u001b[0m\u001b[30;107m \u001b[0m\u001b[30;107m│\u001b[0m\u001b[30;107m \u001b[0m\u001b[30;107mmercedes_perm-estimator_2266\u001b[0m\u001b[30;107m \u001b[0m\u001b[30;107m│\u001b[0m\n",
       "\u001b[30;107m│\u001b[0m\u001b[30;107m \u001b[0m\u001b[30;107m  Opel  \u001b[0m\u001b[30;107m \u001b[0m\u001b[30;107m│\u001b[0m\u001b[30;107m \u001b[0m\u001b[1;36;107m707\u001b[0m\u001b[30;107m \u001b[0m\u001b[30;107m \u001b[0m\u001b[30;107m│\u001b[0m\u001b[30;107m \u001b[0m\u001b[30;107m        \u001b[0m\u001b[1;36;107m461\u001b[0m\u001b[30;107m        \u001b[0m\u001b[30;107m \u001b[0m\u001b[30;107m│\u001b[0m\u001b[30;107m \u001b[0m\u001b[30;107m  opel_perm-estimator_707   \u001b[0m\u001b[30;107m \u001b[0m\u001b[30;107m│\u001b[0m\n",
       "\u001b[30;107m│\u001b[0m\u001b[30;107m \u001b[0m\u001b[30;107m Skoda  \u001b[0m\u001b[30;107m \u001b[0m\u001b[30;107m│\u001b[0m\u001b[30;107m \u001b[0m\u001b[1;36;107m1435\u001b[0m\u001b[30;107m \u001b[0m\u001b[30;107m│\u001b[0m\u001b[30;107m \u001b[0m\u001b[30;107m        \u001b[0m\u001b[1;36;107m708\u001b[0m\u001b[30;107m        \u001b[0m\u001b[30;107m \u001b[0m\u001b[30;107m│\u001b[0m\u001b[30;107m \u001b[0m\u001b[30;107m skoda_perm-estimator_1435  \u001b[0m\u001b[30;107m \u001b[0m\u001b[30;107m│\u001b[0m\n",
       "\u001b[30;107m│\u001b[0m\u001b[30;107m \u001b[0m\u001b[30;107m Toyota \u001b[0m\u001b[30;107m \u001b[0m\u001b[30;107m│\u001b[0m\u001b[30;107m \u001b[0m\u001b[1;36;107m862\u001b[0m\u001b[30;107m \u001b[0m\u001b[30;107m \u001b[0m\u001b[30;107m│\u001b[0m\u001b[30;107m \u001b[0m\u001b[30;107m        \u001b[0m\u001b[1;36;107m503\u001b[0m\u001b[30;107m        \u001b[0m\u001b[30;107m \u001b[0m\u001b[30;107m│\u001b[0m\u001b[30;107m \u001b[0m\u001b[30;107m toyota_perm-estimator_862  \u001b[0m\u001b[30;107m \u001b[0m\u001b[30;107m│\u001b[0m\n",
       "\u001b[30;107m│\u001b[0m\u001b[30;107m \u001b[0m\u001b[30;107m   Vw   \u001b[0m\u001b[30;107m \u001b[0m\u001b[30;107m│\u001b[0m\u001b[30;107m \u001b[0m\u001b[1;36;107m963\u001b[0m\u001b[30;107m \u001b[0m\u001b[30;107m \u001b[0m\u001b[30;107m│\u001b[0m\u001b[30;107m \u001b[0m\u001b[30;107m        \u001b[0m\u001b[1;36;107m561\u001b[0m\u001b[30;107m        \u001b[0m\u001b[30;107m \u001b[0m\u001b[30;107m│\u001b[0m\u001b[30;107m \u001b[0m\u001b[30;107m   vw_perm-estimator_963    \u001b[0m\u001b[30;107m \u001b[0m\u001b[30;107m│\u001b[0m\n",
       "\u001b[30;107m└──────────┴──────┴─────────────────────┴──────────────────────────────┘\u001b[0m\n"
      ]
     },
     "metadata": {},
     "output_type": "display_data"
    }
   ],
   "source": [
    "evaluate_all_models(search_term='perm-estimator', exclude=[])"
   ]
  },
  {
   "cell_type": "markdown",
   "id": "64a23dd3",
   "metadata": {
    "slideshow": {
     "slide_type": "skip"
    }
   },
   "source": [
    "#### Refit?"
   ]
  },
  {
   "cell_type": "code",
   "execution_count": 36,
   "id": "12f06607",
   "metadata": {
    "slideshow": {
     "slide_type": "skip"
    }
   },
   "outputs": [
    {
     "name": "stdout",
     "output_type": "stream",
     "text": [
      "Refit audi_base-model.joblib using audi.csv with parameters from audi_perm2-estimator_1578.json\n",
      "Refit bmw_base-model.joblib using bmw.csv with parameters from bmw_perm2-estimator_1819.json\n",
      "Refit ford_base-model.joblib using ford.csv with parameters from ford_perm2-estimator_860.json\n",
      "Refit hyundai_base-model.joblib using hyundai.csv with parameters from hyundai_perm2-estimator_1633.json\n",
      "Refit mercedes_base-model.joblib using mercedes.csv with parameters from mercedes_perm2-estimator_2481.json\n",
      "Refit opel_base-model.joblib using opel.csv with parameters from opel_perm2-estimator_921.json\n",
      "Refit skoda_base-model.joblib using skoda.csv with parameters from skoda_perm2-estimator_838.json\n",
      "Refit toyota_base-model.joblib using toyota.csv with parameters from toyota_perm2-estimator_893.json\n",
      "Refit vw_base-model.joblib using vw.csv with parameters from vw_perm2-estimator_1092.json\n"
     ]
    },
    {
     "data": {
      "text/html": [
       "<pre style=\"white-space:pre;overflow-x:auto;line-height:normal;font-family:Menlo,'DejaVu Sans Mono',consolas,'Courier New',monospace\"><span style=\"color: #000000; text-decoration-color: #000000; background-color: #ffffff; font-weight: bold\">PERFORMANCE COMPARISON</span> <span style=\"color: #000000; text-decoration-color: #000000; background-color: #ffffff\">──────────────────────────────────────────────────────────────────────</span>\n",
       "</pre>\n"
      ],
      "text/plain": [
       "\u001b[1;52;30;107mPERFORMANCE COMPARISON\u001b[0m \u001b[30;107m──────────────────────────────────────────────────────────────────────\u001b[0m\n"
      ]
     },
     "metadata": {},
     "output_type": "display_data"
    },
    {
     "data": {
      "text/html": [
       "<pre style=\"white-space:pre;overflow-x:auto;line-height:normal;font-family:Menlo,'DejaVu Sans Mono',consolas,'Courier New',monospace\"><span style=\"color: #000000; text-decoration-color: #000000; background-color: #ffffff; font-style: italic\">One model by Brand                                             </span>\n",
       "<span style=\"color: #000000; text-decoration-color: #000000; background-color: #ffffff\">┏━━━━━━━━━━┳━━━━━━┳━━━━━━━━━━━━━━━━━━━━━┳━━━━━━━━━━━━━━━━━━━━━┓</span>\n",
       "<span style=\"color: #000000; text-decoration-color: #000000; background-color: #ffffff\">┃  Brand   ┃ RMSE ┃ Absolute Mean Error ┃     Model path      ┃</span>\n",
       "<span style=\"color: #000000; text-decoration-color: #000000; background-color: #ffffff\">┡━━━━━━━━━━╇━━━━━━╇━━━━━━━━━━━━━━━━━━━━━╇━━━━━━━━━━━━━━━━━━━━━┩</span>\n",
       "<span style=\"color: #000000; text-decoration-color: #000000; background-color: #ffffff\">│   Audi   │ </span><span style=\"color: #008080; text-decoration-color: #008080; background-color: #ffffff; font-weight: bold\">3150</span><span style=\"color: #000000; text-decoration-color: #000000; background-color: #ffffff\"> │        </span><span style=\"color: #008080; text-decoration-color: #008080; background-color: #ffffff; font-weight: bold\">1773</span><span style=\"color: #000000; text-decoration-color: #000000; background-color: #ffffff\">         │   audi_base-model   │</span>\n",
       "<span style=\"color: #000000; text-decoration-color: #000000; background-color: #ffffff\">│   Bmw    │ </span><span style=\"color: #008080; text-decoration-color: #008080; background-color: #ffffff; font-weight: bold\">2473</span><span style=\"color: #000000; text-decoration-color: #000000; background-color: #ffffff\"> │        </span><span style=\"color: #008080; text-decoration-color: #008080; background-color: #ffffff; font-weight: bold\">1614</span><span style=\"color: #000000; text-decoration-color: #000000; background-color: #ffffff\">         │   bmw_base-model    │</span>\n",
       "<span style=\"color: #000000; text-decoration-color: #000000; background-color: #ffffff\">│   Ford   │ </span><span style=\"color: #008080; text-decoration-color: #008080; background-color: #ffffff; font-weight: bold\">1276</span><span style=\"color: #000000; text-decoration-color: #000000; background-color: #ffffff\"> │         </span><span style=\"color: #008080; text-decoration-color: #008080; background-color: #ffffff; font-weight: bold\">867</span><span style=\"color: #000000; text-decoration-color: #000000; background-color: #ffffff\">         │   ford_base-model   │</span>\n",
       "<span style=\"color: #000000; text-decoration-color: #000000; background-color: #ffffff\">│ Hyundai  │ </span><span style=\"color: #008080; text-decoration-color: #008080; background-color: #ffffff; font-weight: bold\">1352</span><span style=\"color: #000000; text-decoration-color: #000000; background-color: #ffffff\"> │         </span><span style=\"color: #008080; text-decoration-color: #008080; background-color: #ffffff; font-weight: bold\">871</span><span style=\"color: #000000; text-decoration-color: #000000; background-color: #ffffff\">         │ hyundai_base-model  │</span>\n",
       "<span style=\"color: #000000; text-decoration-color: #000000; background-color: #ffffff\">│ Mercedes │ </span><span style=\"color: #008080; text-decoration-color: #008080; background-color: #ffffff; font-weight: bold\">3618</span><span style=\"color: #000000; text-decoration-color: #000000; background-color: #ffffff\"> │        </span><span style=\"color: #008080; text-decoration-color: #008080; background-color: #ffffff; font-weight: bold\">1808</span><span style=\"color: #000000; text-decoration-color: #000000; background-color: #ffffff\">         │ mercedes_base-model │</span>\n",
       "<span style=\"color: #000000; text-decoration-color: #000000; background-color: #ffffff\">│   Opel   │ </span><span style=\"color: #008080; text-decoration-color: #008080; background-color: #ffffff; font-weight: bold\">1098</span><span style=\"color: #000000; text-decoration-color: #000000; background-color: #ffffff\"> │         </span><span style=\"color: #008080; text-decoration-color: #008080; background-color: #ffffff; font-weight: bold\">759</span><span style=\"color: #000000; text-decoration-color: #000000; background-color: #ffffff\">         │   opel_base-model   │</span>\n",
       "<span style=\"color: #000000; text-decoration-color: #000000; background-color: #ffffff\">│  Skoda   │ </span><span style=\"color: #008080; text-decoration-color: #008080; background-color: #ffffff; font-weight: bold\">2718</span><span style=\"color: #000000; text-decoration-color: #000000; background-color: #ffffff\"> │        </span><span style=\"color: #008080; text-decoration-color: #008080; background-color: #ffffff; font-weight: bold\">1107</span><span style=\"color: #000000; text-decoration-color: #000000; background-color: #ffffff\">         │  skoda_base-model   │</span>\n",
       "<span style=\"color: #000000; text-decoration-color: #000000; background-color: #ffffff\">│  Toyota  │ </span><span style=\"color: #008080; text-decoration-color: #008080; background-color: #ffffff; font-weight: bold\">1532</span><span style=\"color: #000000; text-decoration-color: #000000; background-color: #ffffff\"> │         </span><span style=\"color: #008080; text-decoration-color: #008080; background-color: #ffffff; font-weight: bold\">906</span><span style=\"color: #000000; text-decoration-color: #000000; background-color: #ffffff\">         │  toyota_base-model  │</span>\n",
       "<span style=\"color: #000000; text-decoration-color: #000000; background-color: #ffffff\">│    Vw    │ </span><span style=\"color: #008080; text-decoration-color: #008080; background-color: #ffffff; font-weight: bold\">2073</span><span style=\"color: #000000; text-decoration-color: #000000; background-color: #ffffff\"> │        </span><span style=\"color: #008080; text-decoration-color: #008080; background-color: #ffffff; font-weight: bold\">1210</span><span style=\"color: #000000; text-decoration-color: #000000; background-color: #ffffff\">         │    vw_base-model    │</span>\n",
       "<span style=\"color: #000000; text-decoration-color: #000000; background-color: #ffffff\">└──────────┴──────┴─────────────────────┴─────────────────────┘</span>\n",
       "</pre>\n"
      ],
      "text/plain": [
       "\u001b[3;30;107mOne model by Brand                                             \u001b[0m\n",
       "\u001b[30;107m┏━━━━━━━━━━┳━━━━━━┳━━━━━━━━━━━━━━━━━━━━━┳━━━━━━━━━━━━━━━━━━━━━┓\u001b[0m\n",
       "\u001b[30;107m┃\u001b[0m\u001b[30;107m \u001b[0m\u001b[30;107m Brand  \u001b[0m\u001b[30;107m \u001b[0m\u001b[30;107m┃\u001b[0m\u001b[30;107m \u001b[0m\u001b[30;107mRMSE\u001b[0m\u001b[30;107m \u001b[0m\u001b[30;107m┃\u001b[0m\u001b[30;107m \u001b[0m\u001b[30;107mAbsolute Mean Error\u001b[0m\u001b[30;107m \u001b[0m\u001b[30;107m┃\u001b[0m\u001b[30;107m \u001b[0m\u001b[30;107m    Model path     \u001b[0m\u001b[30;107m \u001b[0m\u001b[30;107m┃\u001b[0m\n",
       "\u001b[30;107m┡━━━━━━━━━━╇━━━━━━╇━━━━━━━━━━━━━━━━━━━━━╇━━━━━━━━━━━━━━━━━━━━━┩\u001b[0m\n",
       "\u001b[30;107m│\u001b[0m\u001b[30;107m \u001b[0m\u001b[30;107m  Audi  \u001b[0m\u001b[30;107m \u001b[0m\u001b[30;107m│\u001b[0m\u001b[30;107m \u001b[0m\u001b[1;36;107m3150\u001b[0m\u001b[30;107m \u001b[0m\u001b[30;107m│\u001b[0m\u001b[30;107m \u001b[0m\u001b[30;107m       \u001b[0m\u001b[1;36;107m1773\u001b[0m\u001b[30;107m        \u001b[0m\u001b[30;107m \u001b[0m\u001b[30;107m│\u001b[0m\u001b[30;107m \u001b[0m\u001b[30;107m  audi_base-model  \u001b[0m\u001b[30;107m \u001b[0m\u001b[30;107m│\u001b[0m\n",
       "\u001b[30;107m│\u001b[0m\u001b[30;107m \u001b[0m\u001b[30;107m  Bmw   \u001b[0m\u001b[30;107m \u001b[0m\u001b[30;107m│\u001b[0m\u001b[30;107m \u001b[0m\u001b[1;36;107m2473\u001b[0m\u001b[30;107m \u001b[0m\u001b[30;107m│\u001b[0m\u001b[30;107m \u001b[0m\u001b[30;107m       \u001b[0m\u001b[1;36;107m1614\u001b[0m\u001b[30;107m        \u001b[0m\u001b[30;107m \u001b[0m\u001b[30;107m│\u001b[0m\u001b[30;107m \u001b[0m\u001b[30;107m  bmw_base-model   \u001b[0m\u001b[30;107m \u001b[0m\u001b[30;107m│\u001b[0m\n",
       "\u001b[30;107m│\u001b[0m\u001b[30;107m \u001b[0m\u001b[30;107m  Ford  \u001b[0m\u001b[30;107m \u001b[0m\u001b[30;107m│\u001b[0m\u001b[30;107m \u001b[0m\u001b[1;36;107m1276\u001b[0m\u001b[30;107m \u001b[0m\u001b[30;107m│\u001b[0m\u001b[30;107m \u001b[0m\u001b[30;107m        \u001b[0m\u001b[1;36;107m867\u001b[0m\u001b[30;107m        \u001b[0m\u001b[30;107m \u001b[0m\u001b[30;107m│\u001b[0m\u001b[30;107m \u001b[0m\u001b[30;107m  ford_base-model  \u001b[0m\u001b[30;107m \u001b[0m\u001b[30;107m│\u001b[0m\n",
       "\u001b[30;107m│\u001b[0m\u001b[30;107m \u001b[0m\u001b[30;107mHyundai \u001b[0m\u001b[30;107m \u001b[0m\u001b[30;107m│\u001b[0m\u001b[30;107m \u001b[0m\u001b[1;36;107m1352\u001b[0m\u001b[30;107m \u001b[0m\u001b[30;107m│\u001b[0m\u001b[30;107m \u001b[0m\u001b[30;107m        \u001b[0m\u001b[1;36;107m871\u001b[0m\u001b[30;107m        \u001b[0m\u001b[30;107m \u001b[0m\u001b[30;107m│\u001b[0m\u001b[30;107m \u001b[0m\u001b[30;107mhyundai_base-model \u001b[0m\u001b[30;107m \u001b[0m\u001b[30;107m│\u001b[0m\n",
       "\u001b[30;107m│\u001b[0m\u001b[30;107m \u001b[0m\u001b[30;107mMercedes\u001b[0m\u001b[30;107m \u001b[0m\u001b[30;107m│\u001b[0m\u001b[30;107m \u001b[0m\u001b[1;36;107m3618\u001b[0m\u001b[30;107m \u001b[0m\u001b[30;107m│\u001b[0m\u001b[30;107m \u001b[0m\u001b[30;107m       \u001b[0m\u001b[1;36;107m1808\u001b[0m\u001b[30;107m        \u001b[0m\u001b[30;107m \u001b[0m\u001b[30;107m│\u001b[0m\u001b[30;107m \u001b[0m\u001b[30;107mmercedes_base-model\u001b[0m\u001b[30;107m \u001b[0m\u001b[30;107m│\u001b[0m\n",
       "\u001b[30;107m│\u001b[0m\u001b[30;107m \u001b[0m\u001b[30;107m  Opel  \u001b[0m\u001b[30;107m \u001b[0m\u001b[30;107m│\u001b[0m\u001b[30;107m \u001b[0m\u001b[1;36;107m1098\u001b[0m\u001b[30;107m \u001b[0m\u001b[30;107m│\u001b[0m\u001b[30;107m \u001b[0m\u001b[30;107m        \u001b[0m\u001b[1;36;107m759\u001b[0m\u001b[30;107m        \u001b[0m\u001b[30;107m \u001b[0m\u001b[30;107m│\u001b[0m\u001b[30;107m \u001b[0m\u001b[30;107m  opel_base-model  \u001b[0m\u001b[30;107m \u001b[0m\u001b[30;107m│\u001b[0m\n",
       "\u001b[30;107m│\u001b[0m\u001b[30;107m \u001b[0m\u001b[30;107m Skoda  \u001b[0m\u001b[30;107m \u001b[0m\u001b[30;107m│\u001b[0m\u001b[30;107m \u001b[0m\u001b[1;36;107m2718\u001b[0m\u001b[30;107m \u001b[0m\u001b[30;107m│\u001b[0m\u001b[30;107m \u001b[0m\u001b[30;107m       \u001b[0m\u001b[1;36;107m1107\u001b[0m\u001b[30;107m        \u001b[0m\u001b[30;107m \u001b[0m\u001b[30;107m│\u001b[0m\u001b[30;107m \u001b[0m\u001b[30;107m skoda_base-model  \u001b[0m\u001b[30;107m \u001b[0m\u001b[30;107m│\u001b[0m\n",
       "\u001b[30;107m│\u001b[0m\u001b[30;107m \u001b[0m\u001b[30;107m Toyota \u001b[0m\u001b[30;107m \u001b[0m\u001b[30;107m│\u001b[0m\u001b[30;107m \u001b[0m\u001b[1;36;107m1532\u001b[0m\u001b[30;107m \u001b[0m\u001b[30;107m│\u001b[0m\u001b[30;107m \u001b[0m\u001b[30;107m        \u001b[0m\u001b[1;36;107m906\u001b[0m\u001b[30;107m        \u001b[0m\u001b[30;107m \u001b[0m\u001b[30;107m│\u001b[0m\u001b[30;107m \u001b[0m\u001b[30;107m toyota_base-model \u001b[0m\u001b[30;107m \u001b[0m\u001b[30;107m│\u001b[0m\n",
       "\u001b[30;107m│\u001b[0m\u001b[30;107m \u001b[0m\u001b[30;107m   Vw   \u001b[0m\u001b[30;107m \u001b[0m\u001b[30;107m│\u001b[0m\u001b[30;107m \u001b[0m\u001b[1;36;107m2073\u001b[0m\u001b[30;107m \u001b[0m\u001b[30;107m│\u001b[0m\u001b[30;107m \u001b[0m\u001b[30;107m       \u001b[0m\u001b[1;36;107m1210\u001b[0m\u001b[30;107m        \u001b[0m\u001b[30;107m \u001b[0m\u001b[30;107m│\u001b[0m\u001b[30;107m \u001b[0m\u001b[30;107m   vw_base-model   \u001b[0m\u001b[30;107m \u001b[0m\u001b[30;107m│\u001b[0m\n",
       "\u001b[30;107m└──────────┴──────┴─────────────────────┴─────────────────────┘\u001b[0m\n"
      ]
     },
     "metadata": {},
     "output_type": "display_data"
    }
   ],
   "source": [
    "# load performance\n",
    "evaluate_all_refitted_models(base_model_search_term='base-model', \n",
    "                             params_search_term='perm2-estimator',\n",
    "                             model_exclude=['base_score_model.joblib','all_brand'],\n",
    "                             params_exclude=[])\n",
    "# Refit toyota_model.joblib using toyota.csv with parameters from toyota_optimize_rmse_919.json"
   ]
  },
  {
   "cell_type": "markdown",
   "id": "b33f8a3f",
   "metadata": {
    "slideshow": {
     "slide_type": "slide"
    }
   },
   "source": [
    "#### Essais et évaluation de prédictions (OMBB)"
   ]
  },
  {
   "cell_type": "code",
   "execution_count": null,
   "id": "b7551837",
   "metadata": {
    "slideshow": {
     "slide_type": "skip"
    }
   },
   "outputs": [],
   "source": [
    "brand = 'opel'\n",
    "model_name = 'opel_perm-estimator_707'\n",
    "model_filename = f'{model_name}.joblib'\n",
    "model_path = join(cnst.MODEL_DIR_PATH, model_filename)\n",
    "model = load(model_path)\n",
    "filename = f\"{brand}.csv\"\n",
    "df = load_prepared_file(filename=filename)\n",
    "X_train, X_val, X_test, y_train, y_val, y_test = get_set_split(df, target='price')"
   ]
  },
  {
   "cell_type": "code",
   "execution_count": 37,
   "id": "ee2cb7ba",
   "metadata": {
    "slideshow": {
     "slide_type": "subslide"
    }
   },
   "outputs": [
    {
     "name": "stdout",
     "output_type": "stream",
     "text": [
      "RMSE: 1030.727027367902\n"
     ]
    },
    {
     "data": {
      "text/html": [
       "<pre style=\"white-space:pre;overflow-x:auto;line-height:normal;font-family:Menlo,'DejaVu Sans Mono',consolas,'Courier New',monospace\"><span style=\"color: #000000; text-decoration-color: #000000; background-color: #ffffff; font-weight: bold\">MODEL PREDICTION TESTING</span> <span style=\"color: #000000; text-decoration-color: #000000; background-color: #ffffff\">────────────────────────────────────────────────────────────────────</span>\n",
       "</pre>\n"
      ],
      "text/plain": [
       "\u001b[1;52;30;107mMODEL PREDICTION TESTING\u001b[0m \u001b[30;107m────────────────────────────────────────────────────────────────────\u001b[0m\n"
      ]
     },
     "metadata": {},
     "output_type": "display_data"
    },
    {
     "data": {
      "text/html": [
       "<pre style=\"white-space:pre;overflow-x:auto;line-height:normal;font-family:Menlo,'DejaVu Sans Mono',consolas,'Courier New',monospace\"><span style=\"color: #000000; text-decoration-color: #000000; background-color: #ffffff; font-style: italic\">Prediction results                                                                   </span>\n",
       "<span style=\"color: #000000; text-decoration-color: #000000; background-color: #ffffff\">┏━━━━━━━━━━━━┳━━━━━━━━━━━━┳━━━━━━━┳━━━━━━━━━━━━┳━━━━━━━━━┳━━━━━━━━━━━━━━┳━━━━━━━━━━━┓</span>\n",
       "<span style=\"color: #000000; text-decoration-color: #000000; background-color: #ffffff\">┃ Prediction ┃ Real Price ┃ Error ┃ Percentage ┃  model  ┃ transmission ┃ fuel_type ┃</span>\n",
       "<span style=\"color: #000000; text-decoration-color: #000000; background-color: #ffffff\">┡━━━━━━━━━━━━╇━━━━━━━━━━━━╇━━━━━━━╇━━━━━━━━━━━━╇━━━━━━━━━╇━━━━━━━━━━━━━━╇━━━━━━━━━━━┩</span>\n",
       "<span style=\"color: #000000; text-decoration-color: #000000; background-color: #ffffff\">│   </span><span style=\"color: #008080; text-decoration-color: #008080; background-color: #ffffff; font-weight: bold\">10451</span><span style=\"color: #000000; text-decoration-color: #000000; background-color: #ffffff\">    │   </span><span style=\"color: #008080; text-decoration-color: #008080; background-color: #ffffff; font-weight: bold\">10000</span><span style=\"color: #000000; text-decoration-color: #000000; background-color: #ffffff\">    │ </span><span style=\"color: #008080; text-decoration-color: #008080; background-color: #ffffff; font-weight: bold\">-451</span><span style=\"color: #000000; text-decoration-color: #000000; background-color: #ffffff\">  │    </span><span style=\"color: #008080; text-decoration-color: #008080; background-color: #ffffff; font-weight: bold\">-5</span><span style=\"color: #000000; text-decoration-color: #000000; background-color: #ffffff\"> %    │  Astra  │  Semi-Auto   │  Petrol   │</span>\n",
       "<span style=\"color: #000000; text-decoration-color: #000000; background-color: #ffffff\">│   </span><span style=\"color: #008080; text-decoration-color: #008080; background-color: #ffffff; font-weight: bold\">13763</span><span style=\"color: #000000; text-decoration-color: #000000; background-color: #ffffff\">    │   </span><span style=\"color: #008080; text-decoration-color: #008080; background-color: #ffffff; font-weight: bold\">13481</span><span style=\"color: #000000; text-decoration-color: #000000; background-color: #ffffff\">    │ </span><span style=\"color: #008080; text-decoration-color: #008080; background-color: #ffffff; font-weight: bold\">-282</span><span style=\"color: #000000; text-decoration-color: #000000; background-color: #ffffff\">  │    </span><span style=\"color: #008080; text-decoration-color: #008080; background-color: #ffffff; font-weight: bold\">-2</span><span style=\"color: #000000; text-decoration-color: #000000; background-color: #ffffff\"> %    │  Astra  │    Manual    │  Petrol   │</span>\n",
       "<span style=\"color: #000000; text-decoration-color: #000000; background-color: #ffffff\">│    </span><span style=\"color: #008080; text-decoration-color: #008080; background-color: #ffffff; font-weight: bold\">8691</span><span style=\"color: #000000; text-decoration-color: #000000; background-color: #ffffff\">    │    </span><span style=\"color: #008080; text-decoration-color: #008080; background-color: #ffffff; font-weight: bold\">8298</span><span style=\"color: #000000; text-decoration-color: #000000; background-color: #ffffff\">    │ </span><span style=\"color: #008080; text-decoration-color: #008080; background-color: #ffffff; font-weight: bold\">-393</span><span style=\"color: #000000; text-decoration-color: #000000; background-color: #ffffff\">  │    </span><span style=\"color: #008080; text-decoration-color: #008080; background-color: #ffffff; font-weight: bold\">-5</span><span style=\"color: #000000; text-decoration-color: #000000; background-color: #ffffff\"> %    │  Mokka  │    Manual    │  Petrol   │</span>\n",
       "<span style=\"color: #000000; text-decoration-color: #000000; background-color: #ffffff\">│   </span><span style=\"color: #008080; text-decoration-color: #008080; background-color: #ffffff; font-weight: bold\">10279</span><span style=\"color: #000000; text-decoration-color: #000000; background-color: #ffffff\">    │    </span><span style=\"color: #008080; text-decoration-color: #008080; background-color: #ffffff; font-weight: bold\">8290</span><span style=\"color: #000000; text-decoration-color: #000000; background-color: #ffffff\">    │ </span><span style=\"color: #008080; text-decoration-color: #008080; background-color: #ffffff; font-weight: bold\">-1989</span><span style=\"color: #000000; text-decoration-color: #000000; background-color: #ffffff\"> │   </span><span style=\"color: #008080; text-decoration-color: #008080; background-color: #ffffff; font-weight: bold\">-24</span><span style=\"color: #000000; text-decoration-color: #000000; background-color: #ffffff\"> %    │  Astra  │    Manual    │  Petrol   │</span>\n",
       "<span style=\"color: #000000; text-decoration-color: #000000; background-color: #ffffff\">│    </span><span style=\"color: #008080; text-decoration-color: #008080; background-color: #ffffff; font-weight: bold\">7968</span><span style=\"color: #000000; text-decoration-color: #000000; background-color: #ffffff\">    │    </span><span style=\"color: #008080; text-decoration-color: #008080; background-color: #ffffff; font-weight: bold\">7994</span><span style=\"color: #000000; text-decoration-color: #000000; background-color: #ffffff\">    │  </span><span style=\"color: #008080; text-decoration-color: #008080; background-color: #ffffff; font-weight: bold\">26</span><span style=\"color: #000000; text-decoration-color: #000000; background-color: #ffffff\">   │    </span><span style=\"color: #008080; text-decoration-color: #008080; background-color: #ffffff; font-weight: bold\">0</span><span style=\"color: #000000; text-decoration-color: #000000; background-color: #ffffff\"> %     │  Corsa  │    Manual    │  Petrol   │</span>\n",
       "<span style=\"color: #000000; text-decoration-color: #000000; background-color: #ffffff\">│   </span><span style=\"color: #008080; text-decoration-color: #008080; background-color: #ffffff; font-weight: bold\">13959</span><span style=\"color: #000000; text-decoration-color: #000000; background-color: #ffffff\">    │   </span><span style=\"color: #008080; text-decoration-color: #008080; background-color: #ffffff; font-weight: bold\">12049</span><span style=\"color: #000000; text-decoration-color: #000000; background-color: #ffffff\">    │ </span><span style=\"color: #008080; text-decoration-color: #008080; background-color: #ffffff; font-weight: bold\">-1910</span><span style=\"color: #000000; text-decoration-color: #000000; background-color: #ffffff\"> │   </span><span style=\"color: #008080; text-decoration-color: #008080; background-color: #ffffff; font-weight: bold\">-16</span><span style=\"color: #000000; text-decoration-color: #000000; background-color: #ffffff\"> %    │ Mokka X │  Semi-Auto   │  Petrol   │</span>\n",
       "<span style=\"color: #000000; text-decoration-color: #000000; background-color: #ffffff\">│   </span><span style=\"color: #008080; text-decoration-color: #008080; background-color: #ffffff; font-weight: bold\">10761</span><span style=\"color: #000000; text-decoration-color: #000000; background-color: #ffffff\">    │    </span><span style=\"color: #008080; text-decoration-color: #008080; background-color: #ffffff; font-weight: bold\">9959</span><span style=\"color: #000000; text-decoration-color: #000000; background-color: #ffffff\">    │ </span><span style=\"color: #008080; text-decoration-color: #008080; background-color: #ffffff; font-weight: bold\">-802</span><span style=\"color: #000000; text-decoration-color: #000000; background-color: #ffffff\">  │    </span><span style=\"color: #008080; text-decoration-color: #008080; background-color: #ffffff; font-weight: bold\">-8</span><span style=\"color: #000000; text-decoration-color: #000000; background-color: #ffffff\"> %    │  Astra  │  Automatic   │  Diesel   │</span>\n",
       "<span style=\"color: #000000; text-decoration-color: #000000; background-color: #ffffff\">│    </span><span style=\"color: #008080; text-decoration-color: #008080; background-color: #ffffff; font-weight: bold\">8664</span><span style=\"color: #000000; text-decoration-color: #000000; background-color: #ffffff\">    │    </span><span style=\"color: #008080; text-decoration-color: #008080; background-color: #ffffff; font-weight: bold\">9135</span><span style=\"color: #000000; text-decoration-color: #000000; background-color: #ffffff\">    │  </span><span style=\"color: #008080; text-decoration-color: #008080; background-color: #ffffff; font-weight: bold\">471</span><span style=\"color: #000000; text-decoration-color: #000000; background-color: #ffffff\">  │    </span><span style=\"color: #008080; text-decoration-color: #008080; background-color: #ffffff; font-weight: bold\">5</span><span style=\"color: #000000; text-decoration-color: #000000; background-color: #ffffff\"> %     │  Corsa  │    Manual    │  Petrol   │</span>\n",
       "<span style=\"color: #000000; text-decoration-color: #000000; background-color: #ffffff\">│   </span><span style=\"color: #008080; text-decoration-color: #008080; background-color: #ffffff; font-weight: bold\">12697</span><span style=\"color: #000000; text-decoration-color: #000000; background-color: #ffffff\">    │   </span><span style=\"color: #008080; text-decoration-color: #008080; background-color: #ffffff; font-weight: bold\">12999</span><span style=\"color: #000000; text-decoration-color: #000000; background-color: #ffffff\">    │  </span><span style=\"color: #008080; text-decoration-color: #008080; background-color: #ffffff; font-weight: bold\">302</span><span style=\"color: #000000; text-decoration-color: #000000; background-color: #ffffff\">  │    </span><span style=\"color: #008080; text-decoration-color: #008080; background-color: #ffffff; font-weight: bold\">2</span><span style=\"color: #000000; text-decoration-color: #000000; background-color: #ffffff\"> %     │  Mokka  │    Manual    │  Petrol   │</span>\n",
       "<span style=\"color: #000000; text-decoration-color: #000000; background-color: #ffffff\">│   </span><span style=\"color: #008080; text-decoration-color: #008080; background-color: #ffffff; font-weight: bold\">11474</span><span style=\"color: #000000; text-decoration-color: #000000; background-color: #ffffff\">    │   </span><span style=\"color: #008080; text-decoration-color: #008080; background-color: #ffffff; font-weight: bold\">10195</span><span style=\"color: #000000; text-decoration-color: #000000; background-color: #ffffff\">    │ </span><span style=\"color: #008080; text-decoration-color: #008080; background-color: #ffffff; font-weight: bold\">-1279</span><span style=\"color: #000000; text-decoration-color: #000000; background-color: #ffffff\"> │   </span><span style=\"color: #008080; text-decoration-color: #008080; background-color: #ffffff; font-weight: bold\">-13</span><span style=\"color: #000000; text-decoration-color: #000000; background-color: #ffffff\"> %    │ Mokka X │    Manual    │  Petrol   │</span>\n",
       "<span style=\"color: #000000; text-decoration-color: #000000; background-color: #ffffff\">└────────────┴────────────┴───────┴────────────┴─────────┴──────────────┴───────────┘</span>\n",
       "</pre>\n"
      ],
      "text/plain": [
       "\u001b[3;30;107mPrediction results                                                                   \u001b[0m\n",
       "\u001b[30;107m┏━━━━━━━━━━━━┳━━━━━━━━━━━━┳━━━━━━━┳━━━━━━━━━━━━┳━━━━━━━━━┳━━━━━━━━━━━━━━┳━━━━━━━━━━━┓\u001b[0m\n",
       "\u001b[30;107m┃\u001b[0m\u001b[30;107m \u001b[0m\u001b[30;107mPrediction\u001b[0m\u001b[30;107m \u001b[0m\u001b[30;107m┃\u001b[0m\u001b[30;107m \u001b[0m\u001b[30;107mReal Price\u001b[0m\u001b[30;107m \u001b[0m\u001b[30;107m┃\u001b[0m\u001b[30;107m \u001b[0m\u001b[30;107mError\u001b[0m\u001b[30;107m \u001b[0m\u001b[30;107m┃\u001b[0m\u001b[30;107m \u001b[0m\u001b[30;107mPercentage\u001b[0m\u001b[30;107m \u001b[0m\u001b[30;107m┃\u001b[0m\u001b[30;107m \u001b[0m\u001b[30;107m model \u001b[0m\u001b[30;107m \u001b[0m\u001b[30;107m┃\u001b[0m\u001b[30;107m \u001b[0m\u001b[30;107mtransmission\u001b[0m\u001b[30;107m \u001b[0m\u001b[30;107m┃\u001b[0m\u001b[30;107m \u001b[0m\u001b[30;107mfuel_type\u001b[0m\u001b[30;107m \u001b[0m\u001b[30;107m┃\u001b[0m\n",
       "\u001b[30;107m┡━━━━━━━━━━━━╇━━━━━━━━━━━━╇━━━━━━━╇━━━━━━━━━━━━╇━━━━━━━━━╇━━━━━━━━━━━━━━╇━━━━━━━━━━━┩\u001b[0m\n",
       "\u001b[30;107m│\u001b[0m\u001b[30;107m \u001b[0m\u001b[30;107m  \u001b[0m\u001b[1;36;107m10451\u001b[0m\u001b[30;107m   \u001b[0m\u001b[30;107m \u001b[0m\u001b[30;107m│\u001b[0m\u001b[30;107m \u001b[0m\u001b[30;107m  \u001b[0m\u001b[1;36;107m10000\u001b[0m\u001b[30;107m   \u001b[0m\u001b[30;107m \u001b[0m\u001b[30;107m│\u001b[0m\u001b[30;107m \u001b[0m\u001b[1;36;107m-451\u001b[0m\u001b[30;107m \u001b[0m\u001b[30;107m \u001b[0m\u001b[30;107m│\u001b[0m\u001b[30;107m \u001b[0m\u001b[30;107m   \u001b[0m\u001b[1;36;107m-5\u001b[0m\u001b[30;107m %   \u001b[0m\u001b[30;107m \u001b[0m\u001b[30;107m│\u001b[0m\u001b[30;107m \u001b[0m\u001b[30;107m Astra \u001b[0m\u001b[30;107m \u001b[0m\u001b[30;107m│\u001b[0m\u001b[30;107m \u001b[0m\u001b[30;107m Semi-Auto  \u001b[0m\u001b[30;107m \u001b[0m\u001b[30;107m│\u001b[0m\u001b[30;107m \u001b[0m\u001b[30;107m Petrol  \u001b[0m\u001b[30;107m \u001b[0m\u001b[30;107m│\u001b[0m\n",
       "\u001b[30;107m│\u001b[0m\u001b[30;107m \u001b[0m\u001b[30;107m  \u001b[0m\u001b[1;36;107m13763\u001b[0m\u001b[30;107m   \u001b[0m\u001b[30;107m \u001b[0m\u001b[30;107m│\u001b[0m\u001b[30;107m \u001b[0m\u001b[30;107m  \u001b[0m\u001b[1;36;107m13481\u001b[0m\u001b[30;107m   \u001b[0m\u001b[30;107m \u001b[0m\u001b[30;107m│\u001b[0m\u001b[30;107m \u001b[0m\u001b[1;36;107m-282\u001b[0m\u001b[30;107m \u001b[0m\u001b[30;107m \u001b[0m\u001b[30;107m│\u001b[0m\u001b[30;107m \u001b[0m\u001b[30;107m   \u001b[0m\u001b[1;36;107m-2\u001b[0m\u001b[30;107m %   \u001b[0m\u001b[30;107m \u001b[0m\u001b[30;107m│\u001b[0m\u001b[30;107m \u001b[0m\u001b[30;107m Astra \u001b[0m\u001b[30;107m \u001b[0m\u001b[30;107m│\u001b[0m\u001b[30;107m \u001b[0m\u001b[30;107m   Manual   \u001b[0m\u001b[30;107m \u001b[0m\u001b[30;107m│\u001b[0m\u001b[30;107m \u001b[0m\u001b[30;107m Petrol  \u001b[0m\u001b[30;107m \u001b[0m\u001b[30;107m│\u001b[0m\n",
       "\u001b[30;107m│\u001b[0m\u001b[30;107m \u001b[0m\u001b[30;107m   \u001b[0m\u001b[1;36;107m8691\u001b[0m\u001b[30;107m   \u001b[0m\u001b[30;107m \u001b[0m\u001b[30;107m│\u001b[0m\u001b[30;107m \u001b[0m\u001b[30;107m   \u001b[0m\u001b[1;36;107m8298\u001b[0m\u001b[30;107m   \u001b[0m\u001b[30;107m \u001b[0m\u001b[30;107m│\u001b[0m\u001b[30;107m \u001b[0m\u001b[1;36;107m-393\u001b[0m\u001b[30;107m \u001b[0m\u001b[30;107m \u001b[0m\u001b[30;107m│\u001b[0m\u001b[30;107m \u001b[0m\u001b[30;107m   \u001b[0m\u001b[1;36;107m-5\u001b[0m\u001b[30;107m %   \u001b[0m\u001b[30;107m \u001b[0m\u001b[30;107m│\u001b[0m\u001b[30;107m \u001b[0m\u001b[30;107m Mokka \u001b[0m\u001b[30;107m \u001b[0m\u001b[30;107m│\u001b[0m\u001b[30;107m \u001b[0m\u001b[30;107m   Manual   \u001b[0m\u001b[30;107m \u001b[0m\u001b[30;107m│\u001b[0m\u001b[30;107m \u001b[0m\u001b[30;107m Petrol  \u001b[0m\u001b[30;107m \u001b[0m\u001b[30;107m│\u001b[0m\n",
       "\u001b[30;107m│\u001b[0m\u001b[30;107m \u001b[0m\u001b[30;107m  \u001b[0m\u001b[1;36;107m10279\u001b[0m\u001b[30;107m   \u001b[0m\u001b[30;107m \u001b[0m\u001b[30;107m│\u001b[0m\u001b[30;107m \u001b[0m\u001b[30;107m   \u001b[0m\u001b[1;36;107m8290\u001b[0m\u001b[30;107m   \u001b[0m\u001b[30;107m \u001b[0m\u001b[30;107m│\u001b[0m\u001b[30;107m \u001b[0m\u001b[1;36;107m-1989\u001b[0m\u001b[30;107m \u001b[0m\u001b[30;107m│\u001b[0m\u001b[30;107m \u001b[0m\u001b[30;107m  \u001b[0m\u001b[1;36;107m-24\u001b[0m\u001b[30;107m %   \u001b[0m\u001b[30;107m \u001b[0m\u001b[30;107m│\u001b[0m\u001b[30;107m \u001b[0m\u001b[30;107m Astra \u001b[0m\u001b[30;107m \u001b[0m\u001b[30;107m│\u001b[0m\u001b[30;107m \u001b[0m\u001b[30;107m   Manual   \u001b[0m\u001b[30;107m \u001b[0m\u001b[30;107m│\u001b[0m\u001b[30;107m \u001b[0m\u001b[30;107m Petrol  \u001b[0m\u001b[30;107m \u001b[0m\u001b[30;107m│\u001b[0m\n",
       "\u001b[30;107m│\u001b[0m\u001b[30;107m \u001b[0m\u001b[30;107m   \u001b[0m\u001b[1;36;107m7968\u001b[0m\u001b[30;107m   \u001b[0m\u001b[30;107m \u001b[0m\u001b[30;107m│\u001b[0m\u001b[30;107m \u001b[0m\u001b[30;107m   \u001b[0m\u001b[1;36;107m7994\u001b[0m\u001b[30;107m   \u001b[0m\u001b[30;107m \u001b[0m\u001b[30;107m│\u001b[0m\u001b[30;107m \u001b[0m\u001b[30;107m \u001b[0m\u001b[1;36;107m26\u001b[0m\u001b[30;107m  \u001b[0m\u001b[30;107m \u001b[0m\u001b[30;107m│\u001b[0m\u001b[30;107m \u001b[0m\u001b[30;107m   \u001b[0m\u001b[1;36;107m0\u001b[0m\u001b[30;107m %    \u001b[0m\u001b[30;107m \u001b[0m\u001b[30;107m│\u001b[0m\u001b[30;107m \u001b[0m\u001b[30;107m Corsa \u001b[0m\u001b[30;107m \u001b[0m\u001b[30;107m│\u001b[0m\u001b[30;107m \u001b[0m\u001b[30;107m   Manual   \u001b[0m\u001b[30;107m \u001b[0m\u001b[30;107m│\u001b[0m\u001b[30;107m \u001b[0m\u001b[30;107m Petrol  \u001b[0m\u001b[30;107m \u001b[0m\u001b[30;107m│\u001b[0m\n",
       "\u001b[30;107m│\u001b[0m\u001b[30;107m \u001b[0m\u001b[30;107m  \u001b[0m\u001b[1;36;107m13959\u001b[0m\u001b[30;107m   \u001b[0m\u001b[30;107m \u001b[0m\u001b[30;107m│\u001b[0m\u001b[30;107m \u001b[0m\u001b[30;107m  \u001b[0m\u001b[1;36;107m12049\u001b[0m\u001b[30;107m   \u001b[0m\u001b[30;107m \u001b[0m\u001b[30;107m│\u001b[0m\u001b[30;107m \u001b[0m\u001b[1;36;107m-1910\u001b[0m\u001b[30;107m \u001b[0m\u001b[30;107m│\u001b[0m\u001b[30;107m \u001b[0m\u001b[30;107m  \u001b[0m\u001b[1;36;107m-16\u001b[0m\u001b[30;107m %   \u001b[0m\u001b[30;107m \u001b[0m\u001b[30;107m│\u001b[0m\u001b[30;107m \u001b[0m\u001b[30;107mMokka X\u001b[0m\u001b[30;107m \u001b[0m\u001b[30;107m│\u001b[0m\u001b[30;107m \u001b[0m\u001b[30;107m Semi-Auto  \u001b[0m\u001b[30;107m \u001b[0m\u001b[30;107m│\u001b[0m\u001b[30;107m \u001b[0m\u001b[30;107m Petrol  \u001b[0m\u001b[30;107m \u001b[0m\u001b[30;107m│\u001b[0m\n",
       "\u001b[30;107m│\u001b[0m\u001b[30;107m \u001b[0m\u001b[30;107m  \u001b[0m\u001b[1;36;107m10761\u001b[0m\u001b[30;107m   \u001b[0m\u001b[30;107m \u001b[0m\u001b[30;107m│\u001b[0m\u001b[30;107m \u001b[0m\u001b[30;107m   \u001b[0m\u001b[1;36;107m9959\u001b[0m\u001b[30;107m   \u001b[0m\u001b[30;107m \u001b[0m\u001b[30;107m│\u001b[0m\u001b[30;107m \u001b[0m\u001b[1;36;107m-802\u001b[0m\u001b[30;107m \u001b[0m\u001b[30;107m \u001b[0m\u001b[30;107m│\u001b[0m\u001b[30;107m \u001b[0m\u001b[30;107m   \u001b[0m\u001b[1;36;107m-8\u001b[0m\u001b[30;107m %   \u001b[0m\u001b[30;107m \u001b[0m\u001b[30;107m│\u001b[0m\u001b[30;107m \u001b[0m\u001b[30;107m Astra \u001b[0m\u001b[30;107m \u001b[0m\u001b[30;107m│\u001b[0m\u001b[30;107m \u001b[0m\u001b[30;107m Automatic  \u001b[0m\u001b[30;107m \u001b[0m\u001b[30;107m│\u001b[0m\u001b[30;107m \u001b[0m\u001b[30;107m Diesel  \u001b[0m\u001b[30;107m \u001b[0m\u001b[30;107m│\u001b[0m\n",
       "\u001b[30;107m│\u001b[0m\u001b[30;107m \u001b[0m\u001b[30;107m   \u001b[0m\u001b[1;36;107m8664\u001b[0m\u001b[30;107m   \u001b[0m\u001b[30;107m \u001b[0m\u001b[30;107m│\u001b[0m\u001b[30;107m \u001b[0m\u001b[30;107m   \u001b[0m\u001b[1;36;107m9135\u001b[0m\u001b[30;107m   \u001b[0m\u001b[30;107m \u001b[0m\u001b[30;107m│\u001b[0m\u001b[30;107m \u001b[0m\u001b[30;107m \u001b[0m\u001b[1;36;107m471\u001b[0m\u001b[30;107m \u001b[0m\u001b[30;107m \u001b[0m\u001b[30;107m│\u001b[0m\u001b[30;107m \u001b[0m\u001b[30;107m   \u001b[0m\u001b[1;36;107m5\u001b[0m\u001b[30;107m %    \u001b[0m\u001b[30;107m \u001b[0m\u001b[30;107m│\u001b[0m\u001b[30;107m \u001b[0m\u001b[30;107m Corsa \u001b[0m\u001b[30;107m \u001b[0m\u001b[30;107m│\u001b[0m\u001b[30;107m \u001b[0m\u001b[30;107m   Manual   \u001b[0m\u001b[30;107m \u001b[0m\u001b[30;107m│\u001b[0m\u001b[30;107m \u001b[0m\u001b[30;107m Petrol  \u001b[0m\u001b[30;107m \u001b[0m\u001b[30;107m│\u001b[0m\n",
       "\u001b[30;107m│\u001b[0m\u001b[30;107m \u001b[0m\u001b[30;107m  \u001b[0m\u001b[1;36;107m12697\u001b[0m\u001b[30;107m   \u001b[0m\u001b[30;107m \u001b[0m\u001b[30;107m│\u001b[0m\u001b[30;107m \u001b[0m\u001b[30;107m  \u001b[0m\u001b[1;36;107m12999\u001b[0m\u001b[30;107m   \u001b[0m\u001b[30;107m \u001b[0m\u001b[30;107m│\u001b[0m\u001b[30;107m \u001b[0m\u001b[30;107m \u001b[0m\u001b[1;36;107m302\u001b[0m\u001b[30;107m \u001b[0m\u001b[30;107m \u001b[0m\u001b[30;107m│\u001b[0m\u001b[30;107m \u001b[0m\u001b[30;107m   \u001b[0m\u001b[1;36;107m2\u001b[0m\u001b[30;107m %    \u001b[0m\u001b[30;107m \u001b[0m\u001b[30;107m│\u001b[0m\u001b[30;107m \u001b[0m\u001b[30;107m Mokka \u001b[0m\u001b[30;107m \u001b[0m\u001b[30;107m│\u001b[0m\u001b[30;107m \u001b[0m\u001b[30;107m   Manual   \u001b[0m\u001b[30;107m \u001b[0m\u001b[30;107m│\u001b[0m\u001b[30;107m \u001b[0m\u001b[30;107m Petrol  \u001b[0m\u001b[30;107m \u001b[0m\u001b[30;107m│\u001b[0m\n",
       "\u001b[30;107m│\u001b[0m\u001b[30;107m \u001b[0m\u001b[30;107m  \u001b[0m\u001b[1;36;107m11474\u001b[0m\u001b[30;107m   \u001b[0m\u001b[30;107m \u001b[0m\u001b[30;107m│\u001b[0m\u001b[30;107m \u001b[0m\u001b[30;107m  \u001b[0m\u001b[1;36;107m10195\u001b[0m\u001b[30;107m   \u001b[0m\u001b[30;107m \u001b[0m\u001b[30;107m│\u001b[0m\u001b[30;107m \u001b[0m\u001b[1;36;107m-1279\u001b[0m\u001b[30;107m \u001b[0m\u001b[30;107m│\u001b[0m\u001b[30;107m \u001b[0m\u001b[30;107m  \u001b[0m\u001b[1;36;107m-13\u001b[0m\u001b[30;107m %   \u001b[0m\u001b[30;107m \u001b[0m\u001b[30;107m│\u001b[0m\u001b[30;107m \u001b[0m\u001b[30;107mMokka X\u001b[0m\u001b[30;107m \u001b[0m\u001b[30;107m│\u001b[0m\u001b[30;107m \u001b[0m\u001b[30;107m   Manual   \u001b[0m\u001b[30;107m \u001b[0m\u001b[30;107m│\u001b[0m\u001b[30;107m \u001b[0m\u001b[30;107m Petrol  \u001b[0m\u001b[30;107m \u001b[0m\u001b[30;107m│\u001b[0m\n",
       "\u001b[30;107m└────────────┴────────────┴───────┴────────────┴─────────┴──────────────┴───────────┘\u001b[0m\n"
      ]
     },
     "metadata": {},
     "output_type": "display_data"
    }
   ],
   "source": [
    "evaluate_prediction(model, X_test, y_test,sample=10,add_columns=['model','transmission','fuel_type'])"
   ]
  },
  {
   "cell_type": "markdown",
   "id": "e0908de9",
   "metadata": {
    "slideshow": {
     "slide_type": "subslide"
    }
   },
   "source": [
    "#### Courbe d'apprentissage"
   ]
  },
  {
   "cell_type": "code",
   "execution_count": 100,
   "id": "9f519fbc",
   "metadata": {
    "scrolled": true,
    "slideshow": {
     "slide_type": "subslide"
    }
   },
   "outputs": [
    {
     "data": {
      "image/png": "[encoded data removed]",
      "text/plain": [
       "<Figure size 1440x360 with 3 Axes>"
      ]
     },
     "metadata": {},
     "output_type": "display_data"
    }
   ],
   "source": [
    "plot_learning_curve(model, 'opel', X_train, y_train, axes=None, ylim=None, cv=10,\n",
    "                        n_jobs=2, train_sizes=np.linspace(.1, 1.0, 10), show=True,savefig=False)"
   ]
  },
  {
   "cell_type": "markdown",
   "id": "545089e0",
   "metadata": {
    "slideshow": {
     "slide_type": "notes"
    }
   },
   "source": [
    "Le premier graphique montre les courbes d'apprentissage pour l'entraînement et la validation.\n",
    "\n",
    "Le deuxième graphique montre la durée d'entraînement du modèle relativement à la taille des données d'entraînement. \n",
    "\n",
    "Le troisième graphique montre les scores obtenus relativement au temps d'entraînement du modèle."
   ]
  },
  {
   "cell_type": "markdown",
   "id": "0e49074f",
   "metadata": {
    "slideshow": {
     "slide_type": "skip"
    }
   },
   "source": [
    "#### Nombre de variables"
   ]
  },
  {
   "cell_type": "code",
   "execution_count": 97,
   "id": "d481922c",
   "metadata": {
    "slideshow": {
     "slide_type": "skip"
    }
   },
   "outputs": [
    {
     "name": "stdout",
     "output_type": "stream",
     "text": [
      "Le model RandomForestRegressor(max_depth=50, max_features=None, min_samples_split=6,\n",
      "                      n_estimators=10, n_jobs=-1, verbose=False) a 131 variables\n"
     ]
    }
   ],
   "source": [
    "rfr = model[2]\n",
    "print(f\"Le model {rfr} a {rfr.n_features_in_} variables\")"
   ]
  },
  {
   "cell_type": "markdown",
   "id": "b67f18ec",
   "metadata": {
    "slideshow": {
     "slide_type": "slide"
    }
   },
   "source": [
    "### Toutes marques\n",
    "\n",
    "1. fusion des données en une seule source de données"
   ]
  },
  {
   "cell_type": "code",
   "execution_count": 39,
   "id": "180648b3",
   "metadata": {
    "scrolled": false,
    "slideshow": {
     "slide_type": "skip"
    }
   },
   "outputs": [
    {
     "name": "stdout",
     "output_type": "stream",
     "text": [
      "Loading all_brands.joblib\n"
     ]
    },
    {
     "data": {
      "text/html": [
       "<pre style=\"white-space:pre;overflow-x:auto;line-height:normal;font-family:Menlo,'DejaVu Sans Mono',consolas,'Courier New',monospace\"><span style=\"color: #000000; text-decoration-color: #000000; background-color: #ffffff; font-weight: bold\">PERFORMANCE COMPARISON</span> <span style=\"color: #000000; text-decoration-color: #000000; background-color: #ffffff\">──────────────────────────────────────────────────────────────────────</span>\n",
       "</pre>\n"
      ],
      "text/plain": [
       "\u001b[1;52;30;107mPERFORMANCE COMPARISON\u001b[0m \u001b[30;107m──────────────────────────────────────────────────────────────────────\u001b[0m\n"
      ]
     },
     "metadata": {},
     "output_type": "display_data"
    },
    {
     "data": {
      "text/html": [
       "<pre style=\"white-space:pre;overflow-x:auto;line-height:normal;font-family:Menlo,'DejaVu Sans Mono',consolas,'Courier New',monospace\"><span style=\"color: #000000; text-decoration-color: #000000; background-color: #ffffff; font-style: italic\">One model by Brand                                                </span>\n",
       "<span style=\"color: #000000; text-decoration-color: #000000; background-color: #ffffff\">┏━━━━━━━━━━━━━━━━━━━━━━┳━━━━━━┳━━━━━━━━━━━━━━━━━━━━━┳━━━━━━━━━━━━┓</span>\n",
       "<span style=\"color: #000000; text-decoration-color: #000000; background-color: #ffffff\">┃        Brand         ┃ RMSE ┃ Absolute Mean Error ┃ Model path ┃</span>\n",
       "<span style=\"color: #000000; text-decoration-color: #000000; background-color: #ffffff\">┡━━━━━━━━━━━━━━━━━━━━━━╇━━━━━━╇━━━━━━━━━━━━━━━━━━━━━╇━━━━━━━━━━━━┩</span>\n",
       "<span style=\"color: #000000; text-decoration-color: #000000; background-color: #ffffff\">│ Merged Brand Dataset │ </span><span style=\"color: #008080; text-decoration-color: #008080; background-color: #ffffff; font-weight: bold\">2443</span><span style=\"color: #000000; text-decoration-color: #000000; background-color: #ffffff\"> │        </span><span style=\"color: #008080; text-decoration-color: #008080; background-color: #ffffff; font-weight: bold\">1220</span><span style=\"color: #000000; text-decoration-color: #000000; background-color: #ffffff\">         │ all_brands │</span>\n",
       "<span style=\"color: #000000; text-decoration-color: #000000; background-color: #ffffff\">└──────────────────────┴──────┴─────────────────────┴────────────┘</span>\n",
       "</pre>\n"
      ],
      "text/plain": [
       "\u001b[3;30;107mOne model by Brand                                                \u001b[0m\n",
       "\u001b[30;107m┏━━━━━━━━━━━━━━━━━━━━━━┳━━━━━━┳━━━━━━━━━━━━━━━━━━━━━┳━━━━━━━━━━━━┓\u001b[0m\n",
       "\u001b[30;107m┃\u001b[0m\u001b[30;107m \u001b[0m\u001b[30;107m       Brand        \u001b[0m\u001b[30;107m \u001b[0m\u001b[30;107m┃\u001b[0m\u001b[30;107m \u001b[0m\u001b[30;107mRMSE\u001b[0m\u001b[30;107m \u001b[0m\u001b[30;107m┃\u001b[0m\u001b[30;107m \u001b[0m\u001b[30;107mAbsolute Mean Error\u001b[0m\u001b[30;107m \u001b[0m\u001b[30;107m┃\u001b[0m\u001b[30;107m \u001b[0m\u001b[30;107mModel path\u001b[0m\u001b[30;107m \u001b[0m\u001b[30;107m┃\u001b[0m\n",
       "\u001b[30;107m┡━━━━━━━━━━━━━━━━━━━━━━╇━━━━━━╇━━━━━━━━━━━━━━━━━━━━━╇━━━━━━━━━━━━┩\u001b[0m\n",
       "\u001b[30;107m│\u001b[0m\u001b[30;107m \u001b[0m\u001b[30;107mMerged Brand Dataset\u001b[0m\u001b[30;107m \u001b[0m\u001b[30;107m│\u001b[0m\u001b[30;107m \u001b[0m\u001b[1;36;107m2443\u001b[0m\u001b[30;107m \u001b[0m\u001b[30;107m│\u001b[0m\u001b[30;107m \u001b[0m\u001b[30;107m       \u001b[0m\u001b[1;36;107m1220\u001b[0m\u001b[30;107m        \u001b[0m\u001b[30;107m \u001b[0m\u001b[30;107m│\u001b[0m\u001b[30;107m \u001b[0m\u001b[30;107mall_brands\u001b[0m\u001b[30;107m \u001b[0m\u001b[30;107m│\u001b[0m\n",
       "\u001b[30;107m└──────────────────────┴──────┴─────────────────────┴────────────┘\u001b[0m\n"
      ]
     },
     "metadata": {},
     "output_type": "display_data"
    }
   ],
   "source": [
    "bmmd.evaluate_model(model_filename='all_brands.joblib', data_filename='all_brands.csv',verbose=False)"
   ]
  },
  {
   "cell_type": "code",
   "execution_count": 42,
   "id": "dafa1eff",
   "metadata": {
    "slideshow": {
     "slide_type": "skip"
    }
   },
   "outputs": [
    {
     "name": "stdout",
     "output_type": "stream",
     "text": [
      "Loading all_brands.joblib\n",
      "Model all_brands_estimator_optimized_rmse_1912 saved @ ./model/all_brands_estimator_optimized_rmse_1912.joblib\n"
     ]
    }
   ],
   "source": [
    "bmmd.get_best_estimator(model_filename='all_brands.joblib', data_filename='all_brands.csv',verbose=False)"
   ]
  },
  {
   "cell_type": "code",
   "execution_count": 43,
   "id": "f831fcd0",
   "metadata": {
    "slideshow": {
     "slide_type": "subslide"
    }
   },
   "outputs": [
    {
     "name": "stdout",
     "output_type": "stream",
     "text": [
      "Loading all_brands_estimator_optimized_rmse_1912.joblib\n"
     ]
    },
    {
     "data": {
      "text/html": [
       "<pre style=\"white-space:pre;overflow-x:auto;line-height:normal;font-family:Menlo,'DejaVu Sans Mono',consolas,'Courier New',monospace\"><span style=\"color: #000000; text-decoration-color: #000000; background-color: #ffffff; font-weight: bold\">PERFORMANCE COMPARISON</span> <span style=\"color: #000000; text-decoration-color: #000000; background-color: #ffffff\">──────────────────────────────────────────────────────────────────────</span>\n",
       "</pre>\n"
      ],
      "text/plain": [
       "\u001b[1;52;30;107mPERFORMANCE COMPARISON\u001b[0m \u001b[30;107m──────────────────────────────────────────────────────────────────────\u001b[0m\n"
      ]
     },
     "metadata": {},
     "output_type": "display_data"
    },
    {
     "data": {
      "text/html": [
       "<pre style=\"white-space:pre;overflow-x:auto;line-height:normal;font-family:Menlo,'DejaVu Sans Mono',consolas,'Courier New',monospace\"><span style=\"color: #000000; text-decoration-color: #000000; background-color: #ffffff; font-style: italic\">One model by Brand                                                             </span>\n",
       "<span style=\"color: #000000; text-decoration-color: #000000; background-color: #ffffff\">┏━━━━━━━━━━━━━━━━━━━━━━┳━━━━━━┳━━━━━━━━━━━━━━━━━━━━━┳━━━━━━━━━━━━━━━━━━━━━━━━━┓</span>\n",
       "<span style=\"color: #000000; text-decoration-color: #000000; background-color: #ffffff\">┃        Brand         ┃ RMSE ┃ Absolute Mean Error ┃       Model path        ┃</span>\n",
       "<span style=\"color: #000000; text-decoration-color: #000000; background-color: #ffffff\">┡━━━━━━━━━━━━━━━━━━━━━━╇━━━━━━╇━━━━━━━━━━━━━━━━━━━━━╇━━━━━━━━━━━━━━━━━━━━━━━━━┩</span>\n",
       "<span style=\"color: #000000; text-decoration-color: #000000; background-color: #ffffff\">│ Merged Brand Dataset │ </span><span style=\"color: #008080; text-decoration-color: #008080; background-color: #ffffff; font-weight: bold\">1912</span><span style=\"color: #000000; text-decoration-color: #000000; background-color: #ffffff\"> │         </span><span style=\"color: #008080; text-decoration-color: #008080; background-color: #ffffff; font-weight: bold\">826</span><span style=\"color: #000000; text-decoration-color: #000000; background-color: #ffffff\">         │ all_brands_estimator</span><span style=\"color: #808000; text-decoration-color: #808000; background-color: #ffffff\">...</span><span style=\"color: #000000; text-decoration-color: #000000; background-color: #ffffff\"> │</span>\n",
       "<span style=\"color: #000000; text-decoration-color: #000000; background-color: #ffffff\">└──────────────────────┴──────┴─────────────────────┴─────────────────────────┘</span>\n",
       "</pre>\n"
      ],
      "text/plain": [
       "\u001b[3;30;107mOne model by Brand                                                             \u001b[0m\n",
       "\u001b[30;107m┏━━━━━━━━━━━━━━━━━━━━━━┳━━━━━━┳━━━━━━━━━━━━━━━━━━━━━┳━━━━━━━━━━━━━━━━━━━━━━━━━┓\u001b[0m\n",
       "\u001b[30;107m┃\u001b[0m\u001b[30;107m \u001b[0m\u001b[30;107m       Brand        \u001b[0m\u001b[30;107m \u001b[0m\u001b[30;107m┃\u001b[0m\u001b[30;107m \u001b[0m\u001b[30;107mRMSE\u001b[0m\u001b[30;107m \u001b[0m\u001b[30;107m┃\u001b[0m\u001b[30;107m \u001b[0m\u001b[30;107mAbsolute Mean Error\u001b[0m\u001b[30;107m \u001b[0m\u001b[30;107m┃\u001b[0m\u001b[30;107m \u001b[0m\u001b[30;107m      Model path       \u001b[0m\u001b[30;107m \u001b[0m\u001b[30;107m┃\u001b[0m\n",
       "\u001b[30;107m┡━━━━━━━━━━━━━━━━━━━━━━╇━━━━━━╇━━━━━━━━━━━━━━━━━━━━━╇━━━━━━━━━━━━━━━━━━━━━━━━━┩\u001b[0m\n",
       "\u001b[30;107m│\u001b[0m\u001b[30;107m \u001b[0m\u001b[30;107mMerged Brand Dataset\u001b[0m\u001b[30;107m \u001b[0m\u001b[30;107m│\u001b[0m\u001b[30;107m \u001b[0m\u001b[1;36;107m1912\u001b[0m\u001b[30;107m \u001b[0m\u001b[30;107m│\u001b[0m\u001b[30;107m \u001b[0m\u001b[30;107m        \u001b[0m\u001b[1;36;107m826\u001b[0m\u001b[30;107m        \u001b[0m\u001b[30;107m \u001b[0m\u001b[30;107m│\u001b[0m\u001b[30;107m \u001b[0m\u001b[30;107mall_brands_estimator\u001b[0m\u001b[33;107m...\u001b[0m\u001b[30;107m \u001b[0m\u001b[30;107m│\u001b[0m\n",
       "\u001b[30;107m└──────────────────────┴──────┴─────────────────────┴─────────────────────────┘\u001b[0m\n"
      ]
     },
     "metadata": {},
     "output_type": "display_data"
    }
   ],
   "source": [
    "bmmd.evaluate_model(model_filename='all_brands_estimator_optimized_rmse_1912.joblib',data_filename='all_brands.csv',verbose=False)"
   ]
  },
  {
   "cell_type": "code",
   "execution_count": null,
   "id": "cba16f6c",
   "metadata": {
    "slideshow": {
     "slide_type": "skip"
    }
   },
   "outputs": [],
   "source": [
    "model = bmmd.get_model(model_filename='all_brands.joblib', data_filename='all_brands.csv',verbose=False)\n",
    "df = bmmd.get_data('all_brands.csv')\n",
    "X_train, X_val, X_test, y_train, y_val, y_test = bmmd.get_split_sets(df)"
   ]
  },
  {
   "cell_type": "code",
   "execution_count": 84,
   "id": "fc900171",
   "metadata": {
    "slideshow": {
     "slide_type": "subslide"
    }
   },
   "outputs": [
    {
     "name": "stdout",
     "output_type": "stream",
     "text": [
      "Loading all_brands.joblib\n",
      "RMSE: 3398.386598062283\n"
     ]
    },
    {
     "data": {
      "text/html": [
       "<pre style=\"white-space:pre;overflow-x:auto;line-height:normal;font-family:Menlo,'DejaVu Sans Mono',consolas,'Courier New',monospace\"><span style=\"color: #000000; text-decoration-color: #000000; background-color: #ffffff; font-weight: bold\">MODEL PREDICTION TESTING</span> <span style=\"color: #000000; text-decoration-color: #000000; background-color: #ffffff\">────────────────────────────────────────────────────────────────────</span>\n",
       "</pre>\n"
      ],
      "text/plain": [
       "\u001b[1;52;30;107mMODEL PREDICTION TESTING\u001b[0m \u001b[30;107m────────────────────────────────────────────────────────────────────\u001b[0m\n"
      ]
     },
     "metadata": {},
     "output_type": "display_data"
    },
    {
     "data": {
      "text/html": [
       "<pre style=\"white-space:pre;overflow-x:auto;line-height:normal;font-family:Menlo,'DejaVu Sans Mono',consolas,'Courier New',monospace\"><span style=\"color: #000000; text-decoration-color: #000000; background-color: #ffffff; font-style: italic\">Prediction results                                                                           </span>\n",
       "<span style=\"color: #000000; text-decoration-color: #000000; background-color: #ffffff\">┏━━━━━━━━━━━━┳━━━━━━━━━━━━┳━━━━━━━┳━━━━━━━━━━━━┳━━━━━━━━┳━━━━━━━━━┳━━━━━━━━━━━━━━┳━━━━━━━━━━┓</span>\n",
       "<span style=\"color: #000000; text-decoration-color: #000000; background-color: #ffffff\">┃ Prediction ┃ Real Price ┃ Error ┃ Percentage ┃ brand  ┃  model  ┃ transmission ┃ fuel_ty… ┃</span>\n",
       "<span style=\"color: #000000; text-decoration-color: #000000; background-color: #ffffff\">┡━━━━━━━━━━━━╇━━━━━━━━━━━━╇━━━━━━━╇━━━━━━━━━━━━╇━━━━━━━━╇━━━━━━━━━╇━━━━━━━━━━━━━━╇━━━━━━━━━━┩</span>\n",
       "<span style=\"color: #000000; text-decoration-color: #000000; background-color: #ffffff\">│   </span><span style=\"color: #008080; text-decoration-color: #008080; background-color: #ffffff; font-weight: bold\">17969</span><span style=\"color: #000000; text-decoration-color: #000000; background-color: #ffffff\">    │   </span><span style=\"color: #008080; text-decoration-color: #008080; background-color: #ffffff; font-weight: bold\">17991</span><span style=\"color: #000000; text-decoration-color: #000000; background-color: #ffffff\">    │  </span><span style=\"color: #008080; text-decoration-color: #008080; background-color: #ffffff; font-weight: bold\">22</span><span style=\"color: #000000; text-decoration-color: #000000; background-color: #ffffff\">   │    </span><span style=\"color: #008080; text-decoration-color: #008080; background-color: #ffffff; font-weight: bold\">0</span><span style=\"color: #000000; text-decoration-color: #000000; background-color: #ffffff\"> %     │ toyota │  C-HR   │  Automatic   │  Petrol  │</span>\n",
       "<span style=\"color: #000000; text-decoration-color: #000000; background-color: #ffffff\">│   </span><span style=\"color: #008080; text-decoration-color: #008080; background-color: #ffffff; font-weight: bold\">13883</span><span style=\"color: #000000; text-decoration-color: #000000; background-color: #ffffff\">    │   </span><span style=\"color: #008080; text-decoration-color: #008080; background-color: #ffffff; font-weight: bold\">11995</span><span style=\"color: #000000; text-decoration-color: #000000; background-color: #ffffff\">    │ </span><span style=\"color: #008080; text-decoration-color: #008080; background-color: #ffffff; font-weight: bold\">-1888</span><span style=\"color: #000000; text-decoration-color: #000000; background-color: #ffffff\"> │   </span><span style=\"color: #008080; text-decoration-color: #008080; background-color: #ffffff; font-weight: bold\">-16</span><span style=\"color: #000000; text-decoration-color: #000000; background-color: #ffffff\"> %    │ toyota │  Yaris  │  Automatic   │  Hybrid  │</span>\n",
       "<span style=\"color: #000000; text-decoration-color: #000000; background-color: #ffffff\">│   </span><span style=\"color: #008080; text-decoration-color: #008080; background-color: #ffffff; font-weight: bold\">26001</span><span style=\"color: #000000; text-decoration-color: #000000; background-color: #ffffff\">    │   </span><span style=\"color: #008080; text-decoration-color: #008080; background-color: #ffffff; font-weight: bold\">25190</span><span style=\"color: #000000; text-decoration-color: #000000; background-color: #ffffff\">    │ </span><span style=\"color: #008080; text-decoration-color: #008080; background-color: #ffffff; font-weight: bold\">-811</span><span style=\"color: #000000; text-decoration-color: #000000; background-color: #ffffff\">  │    </span><span style=\"color: #008080; text-decoration-color: #008080; background-color: #ffffff; font-weight: bold\">-3</span><span style=\"color: #000000; text-decoration-color: #000000; background-color: #ffffff\"> %    │ skoda  │  Karoq  │  Automatic   │  Diesel  │</span>\n",
       "<span style=\"color: #000000; text-decoration-color: #000000; background-color: #ffffff\">│   </span><span style=\"color: #008080; text-decoration-color: #008080; background-color: #ffffff; font-weight: bold\">10959</span><span style=\"color: #000000; text-decoration-color: #000000; background-color: #ffffff\">    │   </span><span style=\"color: #008080; text-decoration-color: #008080; background-color: #ffffff; font-weight: bold\">14398</span><span style=\"color: #000000; text-decoration-color: #000000; background-color: #ffffff\">    │ </span><span style=\"color: #008080; text-decoration-color: #008080; background-color: #ffffff; font-weight: bold\">3439</span><span style=\"color: #000000; text-decoration-color: #000000; background-color: #ffffff\">  │    </span><span style=\"color: #008080; text-decoration-color: #008080; background-color: #ffffff; font-weight: bold\">24</span><span style=\"color: #000000; text-decoration-color: #000000; background-color: #ffffff\"> %    │  opel  │ Mokka X │  Semi-Auto   │  Petrol  │</span>\n",
       "<span style=\"color: #000000; text-decoration-color: #000000; background-color: #ffffff\">│   </span><span style=\"color: #008080; text-decoration-color: #008080; background-color: #ffffff; font-weight: bold\">33102</span><span style=\"color: #000000; text-decoration-color: #000000; background-color: #ffffff\">    │   </span><span style=\"color: #008080; text-decoration-color: #008080; background-color: #ffffff; font-weight: bold\">26825</span><span style=\"color: #000000; text-decoration-color: #000000; background-color: #ffffff\">    │ </span><span style=\"color: #008080; text-decoration-color: #008080; background-color: #ffffff; font-weight: bold\">-6277</span><span style=\"color: #000000; text-decoration-color: #000000; background-color: #ffffff\"> │   </span><span style=\"color: #008080; text-decoration-color: #008080; background-color: #ffffff; font-weight: bold\">-23</span><span style=\"color: #000000; text-decoration-color: #000000; background-color: #ffffff\"> %    │  bmw   │ </span><span style=\"color: #008080; text-decoration-color: #008080; background-color: #ffffff; font-weight: bold\">3</span><span style=\"color: #000000; text-decoration-color: #000000; background-color: #ffffff\"> Seri… │  Automatic   │  Petrol  │</span>\n",
       "<span style=\"color: #000000; text-decoration-color: #000000; background-color: #ffffff\">│   </span><span style=\"color: #008080; text-decoration-color: #008080; background-color: #ffffff; font-weight: bold\">11265</span><span style=\"color: #000000; text-decoration-color: #000000; background-color: #ffffff\">    │   </span><span style=\"color: #008080; text-decoration-color: #008080; background-color: #ffffff; font-weight: bold\">18490</span><span style=\"color: #000000; text-decoration-color: #000000; background-color: #ffffff\">    │ </span><span style=\"color: #008080; text-decoration-color: #008080; background-color: #ffffff; font-weight: bold\">7225</span><span style=\"color: #000000; text-decoration-color: #000000; background-color: #ffffff\">  │    </span><span style=\"color: #008080; text-decoration-color: #008080; background-color: #ffffff; font-weight: bold\">39</span><span style=\"color: #000000; text-decoration-color: #000000; background-color: #ffffff\"> %    │  audi  │   Q2    │  Semi-Auto   │  Petrol  │</span>\n",
       "<span style=\"color: #000000; text-decoration-color: #000000; background-color: #ffffff\">│   </span><span style=\"color: #008080; text-decoration-color: #008080; background-color: #ffffff; font-weight: bold\">10313</span><span style=\"color: #000000; text-decoration-color: #000000; background-color: #ffffff\">    │   </span><span style=\"color: #008080; text-decoration-color: #008080; background-color: #ffffff; font-weight: bold\">10494</span><span style=\"color: #000000; text-decoration-color: #000000; background-color: #ffffff\">    │  </span><span style=\"color: #008080; text-decoration-color: #008080; background-color: #ffffff; font-weight: bold\">181</span><span style=\"color: #000000; text-decoration-color: #000000; background-color: #ffffff\">  │    </span><span style=\"color: #008080; text-decoration-color: #008080; background-color: #ffffff; font-weight: bold\">2</span><span style=\"color: #000000; text-decoration-color: #000000; background-color: #ffffff\"> %     │ toyota │  Yaris  │    Manual    │  Petrol  │</span>\n",
       "<span style=\"color: #000000; text-decoration-color: #000000; background-color: #ffffff\">│   </span><span style=\"color: #008080; text-decoration-color: #008080; background-color: #ffffff; font-weight: bold\">10979</span><span style=\"color: #000000; text-decoration-color: #000000; background-color: #ffffff\">    │    </span><span style=\"color: #008080; text-decoration-color: #008080; background-color: #ffffff; font-weight: bold\">9898</span><span style=\"color: #000000; text-decoration-color: #000000; background-color: #ffffff\">    │ </span><span style=\"color: #008080; text-decoration-color: #008080; background-color: #ffffff; font-weight: bold\">-1081</span><span style=\"color: #000000; text-decoration-color: #000000; background-color: #ffffff\"> │   </span><span style=\"color: #008080; text-decoration-color: #008080; background-color: #ffffff; font-weight: bold\">-11</span><span style=\"color: #000000; text-decoration-color: #000000; background-color: #ffffff\"> %    │   vw   │ Golf SV │    Manual    │  Diesel  │</span>\n",
       "<span style=\"color: #000000; text-decoration-color: #000000; background-color: #ffffff\">│   </span><span style=\"color: #008080; text-decoration-color: #008080; background-color: #ffffff; font-weight: bold\">34515</span><span style=\"color: #000000; text-decoration-color: #000000; background-color: #ffffff\">    │   </span><span style=\"color: #008080; text-decoration-color: #008080; background-color: #ffffff; font-weight: bold\">36984</span><span style=\"color: #000000; text-decoration-color: #000000; background-color: #ffffff\">    │ </span><span style=\"color: #008080; text-decoration-color: #008080; background-color: #ffffff; font-weight: bold\">2469</span><span style=\"color: #000000; text-decoration-color: #000000; background-color: #ffffff\">  │    </span><span style=\"color: #008080; text-decoration-color: #008080; background-color: #ffffff; font-weight: bold\">7</span><span style=\"color: #000000; text-decoration-color: #000000; background-color: #ffffff\"> %     │  audi  │   Q5    │  Automatic   │  Diesel  │</span>\n",
       "<span style=\"color: #000000; text-decoration-color: #000000; background-color: #ffffff\">│   </span><span style=\"color: #008080; text-decoration-color: #008080; background-color: #ffffff; font-weight: bold\">28188</span><span style=\"color: #000000; text-decoration-color: #000000; background-color: #ffffff\">    │   </span><span style=\"color: #008080; text-decoration-color: #008080; background-color: #ffffff; font-weight: bold\">28919</span><span style=\"color: #000000; text-decoration-color: #000000; background-color: #ffffff\">    │  </span><span style=\"color: #008080; text-decoration-color: #008080; background-color: #ffffff; font-weight: bold\">731</span><span style=\"color: #000000; text-decoration-color: #000000; background-color: #ffffff\">  │    </span><span style=\"color: #008080; text-decoration-color: #008080; background-color: #ffffff; font-weight: bold\">3</span><span style=\"color: #000000; text-decoration-color: #000000; background-color: #ffffff\"> %     │  bmw   │ </span><span style=\"color: #008080; text-decoration-color: #008080; background-color: #ffffff; font-weight: bold\">5</span><span style=\"color: #000000; text-decoration-color: #000000; background-color: #ffffff\"> Seri… │  Semi-Auto   │  Diesel  │</span>\n",
       "<span style=\"color: #000000; text-decoration-color: #000000; background-color: #ffffff\">└────────────┴────────────┴───────┴────────────┴────────┴─────────┴──────────────┴──────────┘</span>\n",
       "</pre>\n"
      ],
      "text/plain": [
       "\u001b[3;30;107mPrediction results                                                                           \u001b[0m\n",
       "\u001b[30;107m┏━━━━━━━━━━━━┳━━━━━━━━━━━━┳━━━━━━━┳━━━━━━━━━━━━┳━━━━━━━━┳━━━━━━━━━┳━━━━━━━━━━━━━━┳━━━━━━━━━━┓\u001b[0m\n",
       "\u001b[30;107m┃\u001b[0m\u001b[30;107m \u001b[0m\u001b[30;107mPrediction\u001b[0m\u001b[30;107m \u001b[0m\u001b[30;107m┃\u001b[0m\u001b[30;107m \u001b[0m\u001b[30;107mReal Price\u001b[0m\u001b[30;107m \u001b[0m\u001b[30;107m┃\u001b[0m\u001b[30;107m \u001b[0m\u001b[30;107mError\u001b[0m\u001b[30;107m \u001b[0m\u001b[30;107m┃\u001b[0m\u001b[30;107m \u001b[0m\u001b[30;107mPercentage\u001b[0m\u001b[30;107m \u001b[0m\u001b[30;107m┃\u001b[0m\u001b[30;107m \u001b[0m\u001b[30;107mbrand \u001b[0m\u001b[30;107m \u001b[0m\u001b[30;107m┃\u001b[0m\u001b[30;107m \u001b[0m\u001b[30;107m model \u001b[0m\u001b[30;107m \u001b[0m\u001b[30;107m┃\u001b[0m\u001b[30;107m \u001b[0m\u001b[30;107mtransmission\u001b[0m\u001b[30;107m \u001b[0m\u001b[30;107m┃\u001b[0m\u001b[30;107m \u001b[0m\u001b[30;107mfuel_ty…\u001b[0m\u001b[30;107m \u001b[0m\u001b[30;107m┃\u001b[0m\n",
       "\u001b[30;107m┡━━━━━━━━━━━━╇━━━━━━━━━━━━╇━━━━━━━╇━━━━━━━━━━━━╇━━━━━━━━╇━━━━━━━━━╇━━━━━━━━━━━━━━╇━━━━━━━━━━┩\u001b[0m\n",
       "\u001b[30;107m│\u001b[0m\u001b[30;107m \u001b[0m\u001b[30;107m  \u001b[0m\u001b[1;36;107m17969\u001b[0m\u001b[30;107m   \u001b[0m\u001b[30;107m \u001b[0m\u001b[30;107m│\u001b[0m\u001b[30;107m \u001b[0m\u001b[30;107m  \u001b[0m\u001b[1;36;107m17991\u001b[0m\u001b[30;107m   \u001b[0m\u001b[30;107m \u001b[0m\u001b[30;107m│\u001b[0m\u001b[30;107m \u001b[0m\u001b[30;107m \u001b[0m\u001b[1;36;107m22\u001b[0m\u001b[30;107m  \u001b[0m\u001b[30;107m \u001b[0m\u001b[30;107m│\u001b[0m\u001b[30;107m \u001b[0m\u001b[30;107m   \u001b[0m\u001b[1;36;107m0\u001b[0m\u001b[30;107m %    \u001b[0m\u001b[30;107m \u001b[0m\u001b[30;107m│\u001b[0m\u001b[30;107m \u001b[0m\u001b[30;107mtoyota\u001b[0m\u001b[30;107m \u001b[0m\u001b[30;107m│\u001b[0m\u001b[30;107m \u001b[0m\u001b[30;107m C-HR  \u001b[0m\u001b[30;107m \u001b[0m\u001b[30;107m│\u001b[0m\u001b[30;107m \u001b[0m\u001b[30;107m Automatic  \u001b[0m\u001b[30;107m \u001b[0m\u001b[30;107m│\u001b[0m\u001b[30;107m \u001b[0m\u001b[30;107m Petrol \u001b[0m\u001b[30;107m \u001b[0m\u001b[30;107m│\u001b[0m\n",
       "\u001b[30;107m│\u001b[0m\u001b[30;107m \u001b[0m\u001b[30;107m  \u001b[0m\u001b[1;36;107m13883\u001b[0m\u001b[30;107m   \u001b[0m\u001b[30;107m \u001b[0m\u001b[30;107m│\u001b[0m\u001b[30;107m \u001b[0m\u001b[30;107m  \u001b[0m\u001b[1;36;107m11995\u001b[0m\u001b[30;107m   \u001b[0m\u001b[30;107m \u001b[0m\u001b[30;107m│\u001b[0m\u001b[30;107m \u001b[0m\u001b[1;36;107m-1888\u001b[0m\u001b[30;107m \u001b[0m\u001b[30;107m│\u001b[0m\u001b[30;107m \u001b[0m\u001b[30;107m  \u001b[0m\u001b[1;36;107m-16\u001b[0m\u001b[30;107m %   \u001b[0m\u001b[30;107m \u001b[0m\u001b[30;107m│\u001b[0m\u001b[30;107m \u001b[0m\u001b[30;107mtoyota\u001b[0m\u001b[30;107m \u001b[0m\u001b[30;107m│\u001b[0m\u001b[30;107m \u001b[0m\u001b[30;107m Yaris \u001b[0m\u001b[30;107m \u001b[0m\u001b[30;107m│\u001b[0m\u001b[30;107m \u001b[0m\u001b[30;107m Automatic  \u001b[0m\u001b[30;107m \u001b[0m\u001b[30;107m│\u001b[0m\u001b[30;107m \u001b[0m\u001b[30;107m Hybrid \u001b[0m\u001b[30;107m \u001b[0m\u001b[30;107m│\u001b[0m\n",
       "\u001b[30;107m│\u001b[0m\u001b[30;107m \u001b[0m\u001b[30;107m  \u001b[0m\u001b[1;36;107m26001\u001b[0m\u001b[30;107m   \u001b[0m\u001b[30;107m \u001b[0m\u001b[30;107m│\u001b[0m\u001b[30;107m \u001b[0m\u001b[30;107m  \u001b[0m\u001b[1;36;107m25190\u001b[0m\u001b[30;107m   \u001b[0m\u001b[30;107m \u001b[0m\u001b[30;107m│\u001b[0m\u001b[30;107m \u001b[0m\u001b[1;36;107m-811\u001b[0m\u001b[30;107m \u001b[0m\u001b[30;107m \u001b[0m\u001b[30;107m│\u001b[0m\u001b[30;107m \u001b[0m\u001b[30;107m   \u001b[0m\u001b[1;36;107m-3\u001b[0m\u001b[30;107m %   \u001b[0m\u001b[30;107m \u001b[0m\u001b[30;107m│\u001b[0m\u001b[30;107m \u001b[0m\u001b[30;107mskoda \u001b[0m\u001b[30;107m \u001b[0m\u001b[30;107m│\u001b[0m\u001b[30;107m \u001b[0m\u001b[30;107m Karoq \u001b[0m\u001b[30;107m \u001b[0m\u001b[30;107m│\u001b[0m\u001b[30;107m \u001b[0m\u001b[30;107m Automatic  \u001b[0m\u001b[30;107m \u001b[0m\u001b[30;107m│\u001b[0m\u001b[30;107m \u001b[0m\u001b[30;107m Diesel \u001b[0m\u001b[30;107m \u001b[0m\u001b[30;107m│\u001b[0m\n",
       "\u001b[30;107m│\u001b[0m\u001b[30;107m \u001b[0m\u001b[30;107m  \u001b[0m\u001b[1;36;107m10959\u001b[0m\u001b[30;107m   \u001b[0m\u001b[30;107m \u001b[0m\u001b[30;107m│\u001b[0m\u001b[30;107m \u001b[0m\u001b[30;107m  \u001b[0m\u001b[1;36;107m14398\u001b[0m\u001b[30;107m   \u001b[0m\u001b[30;107m \u001b[0m\u001b[30;107m│\u001b[0m\u001b[30;107m \u001b[0m\u001b[1;36;107m3439\u001b[0m\u001b[30;107m \u001b[0m\u001b[30;107m \u001b[0m\u001b[30;107m│\u001b[0m\u001b[30;107m \u001b[0m\u001b[30;107m   \u001b[0m\u001b[1;36;107m24\u001b[0m\u001b[30;107m %   \u001b[0m\u001b[30;107m \u001b[0m\u001b[30;107m│\u001b[0m\u001b[30;107m \u001b[0m\u001b[30;107m opel \u001b[0m\u001b[30;107m \u001b[0m\u001b[30;107m│\u001b[0m\u001b[30;107m \u001b[0m\u001b[30;107mMokka X\u001b[0m\u001b[30;107m \u001b[0m\u001b[30;107m│\u001b[0m\u001b[30;107m \u001b[0m\u001b[30;107m Semi-Auto  \u001b[0m\u001b[30;107m \u001b[0m\u001b[30;107m│\u001b[0m\u001b[30;107m \u001b[0m\u001b[30;107m Petrol \u001b[0m\u001b[30;107m \u001b[0m\u001b[30;107m│\u001b[0m\n",
       "\u001b[30;107m│\u001b[0m\u001b[30;107m \u001b[0m\u001b[30;107m  \u001b[0m\u001b[1;36;107m33102\u001b[0m\u001b[30;107m   \u001b[0m\u001b[30;107m \u001b[0m\u001b[30;107m│\u001b[0m\u001b[30;107m \u001b[0m\u001b[30;107m  \u001b[0m\u001b[1;36;107m26825\u001b[0m\u001b[30;107m   \u001b[0m\u001b[30;107m \u001b[0m\u001b[30;107m│\u001b[0m\u001b[30;107m \u001b[0m\u001b[1;36;107m-6277\u001b[0m\u001b[30;107m \u001b[0m\u001b[30;107m│\u001b[0m\u001b[30;107m \u001b[0m\u001b[30;107m  \u001b[0m\u001b[1;36;107m-23\u001b[0m\u001b[30;107m %   \u001b[0m\u001b[30;107m \u001b[0m\u001b[30;107m│\u001b[0m\u001b[30;107m \u001b[0m\u001b[30;107m bmw  \u001b[0m\u001b[30;107m \u001b[0m\u001b[30;107m│\u001b[0m\u001b[30;107m \u001b[0m\u001b[1;36;107m3\u001b[0m\u001b[30;107m Seri…\u001b[0m\u001b[30;107m \u001b[0m\u001b[30;107m│\u001b[0m\u001b[30;107m \u001b[0m\u001b[30;107m Automatic  \u001b[0m\u001b[30;107m \u001b[0m\u001b[30;107m│\u001b[0m\u001b[30;107m \u001b[0m\u001b[30;107m Petrol \u001b[0m\u001b[30;107m \u001b[0m\u001b[30;107m│\u001b[0m\n",
       "\u001b[30;107m│\u001b[0m\u001b[30;107m \u001b[0m\u001b[30;107m  \u001b[0m\u001b[1;36;107m11265\u001b[0m\u001b[30;107m   \u001b[0m\u001b[30;107m \u001b[0m\u001b[30;107m│\u001b[0m\u001b[30;107m \u001b[0m\u001b[30;107m  \u001b[0m\u001b[1;36;107m18490\u001b[0m\u001b[30;107m   \u001b[0m\u001b[30;107m \u001b[0m\u001b[30;107m│\u001b[0m\u001b[30;107m \u001b[0m\u001b[1;36;107m7225\u001b[0m\u001b[30;107m \u001b[0m\u001b[30;107m \u001b[0m\u001b[30;107m│\u001b[0m\u001b[30;107m \u001b[0m\u001b[30;107m   \u001b[0m\u001b[1;36;107m39\u001b[0m\u001b[30;107m %   \u001b[0m\u001b[30;107m \u001b[0m\u001b[30;107m│\u001b[0m\u001b[30;107m \u001b[0m\u001b[30;107m audi \u001b[0m\u001b[30;107m \u001b[0m\u001b[30;107m│\u001b[0m\u001b[30;107m \u001b[0m\u001b[30;107m  Q2   \u001b[0m\u001b[30;107m \u001b[0m\u001b[30;107m│\u001b[0m\u001b[30;107m \u001b[0m\u001b[30;107m Semi-Auto  \u001b[0m\u001b[30;107m \u001b[0m\u001b[30;107m│\u001b[0m\u001b[30;107m \u001b[0m\u001b[30;107m Petrol \u001b[0m\u001b[30;107m \u001b[0m\u001b[30;107m│\u001b[0m\n",
       "\u001b[30;107m│\u001b[0m\u001b[30;107m \u001b[0m\u001b[30;107m  \u001b[0m\u001b[1;36;107m10313\u001b[0m\u001b[30;107m   \u001b[0m\u001b[30;107m \u001b[0m\u001b[30;107m│\u001b[0m\u001b[30;107m \u001b[0m\u001b[30;107m  \u001b[0m\u001b[1;36;107m10494\u001b[0m\u001b[30;107m   \u001b[0m\u001b[30;107m \u001b[0m\u001b[30;107m│\u001b[0m\u001b[30;107m \u001b[0m\u001b[30;107m \u001b[0m\u001b[1;36;107m181\u001b[0m\u001b[30;107m \u001b[0m\u001b[30;107m \u001b[0m\u001b[30;107m│\u001b[0m\u001b[30;107m \u001b[0m\u001b[30;107m   \u001b[0m\u001b[1;36;107m2\u001b[0m\u001b[30;107m %    \u001b[0m\u001b[30;107m \u001b[0m\u001b[30;107m│\u001b[0m\u001b[30;107m \u001b[0m\u001b[30;107mtoyota\u001b[0m\u001b[30;107m \u001b[0m\u001b[30;107m│\u001b[0m\u001b[30;107m \u001b[0m\u001b[30;107m Yaris \u001b[0m\u001b[30;107m \u001b[0m\u001b[30;107m│\u001b[0m\u001b[30;107m \u001b[0m\u001b[30;107m   Manual   \u001b[0m\u001b[30;107m \u001b[0m\u001b[30;107m│\u001b[0m\u001b[30;107m \u001b[0m\u001b[30;107m Petrol \u001b[0m\u001b[30;107m \u001b[0m\u001b[30;107m│\u001b[0m\n",
       "\u001b[30;107m│\u001b[0m\u001b[30;107m \u001b[0m\u001b[30;107m  \u001b[0m\u001b[1;36;107m10979\u001b[0m\u001b[30;107m   \u001b[0m\u001b[30;107m \u001b[0m\u001b[30;107m│\u001b[0m\u001b[30;107m \u001b[0m\u001b[30;107m   \u001b[0m\u001b[1;36;107m9898\u001b[0m\u001b[30;107m   \u001b[0m\u001b[30;107m \u001b[0m\u001b[30;107m│\u001b[0m\u001b[30;107m \u001b[0m\u001b[1;36;107m-1081\u001b[0m\u001b[30;107m \u001b[0m\u001b[30;107m│\u001b[0m\u001b[30;107m \u001b[0m\u001b[30;107m  \u001b[0m\u001b[1;36;107m-11\u001b[0m\u001b[30;107m %   \u001b[0m\u001b[30;107m \u001b[0m\u001b[30;107m│\u001b[0m\u001b[30;107m \u001b[0m\u001b[30;107m  vw  \u001b[0m\u001b[30;107m \u001b[0m\u001b[30;107m│\u001b[0m\u001b[30;107m \u001b[0m\u001b[30;107mGolf SV\u001b[0m\u001b[30;107m \u001b[0m\u001b[30;107m│\u001b[0m\u001b[30;107m \u001b[0m\u001b[30;107m   Manual   \u001b[0m\u001b[30;107m \u001b[0m\u001b[30;107m│\u001b[0m\u001b[30;107m \u001b[0m\u001b[30;107m Diesel \u001b[0m\u001b[30;107m \u001b[0m\u001b[30;107m│\u001b[0m\n",
       "\u001b[30;107m│\u001b[0m\u001b[30;107m \u001b[0m\u001b[30;107m  \u001b[0m\u001b[1;36;107m34515\u001b[0m\u001b[30;107m   \u001b[0m\u001b[30;107m \u001b[0m\u001b[30;107m│\u001b[0m\u001b[30;107m \u001b[0m\u001b[30;107m  \u001b[0m\u001b[1;36;107m36984\u001b[0m\u001b[30;107m   \u001b[0m\u001b[30;107m \u001b[0m\u001b[30;107m│\u001b[0m\u001b[30;107m \u001b[0m\u001b[1;36;107m2469\u001b[0m\u001b[30;107m \u001b[0m\u001b[30;107m \u001b[0m\u001b[30;107m│\u001b[0m\u001b[30;107m \u001b[0m\u001b[30;107m   \u001b[0m\u001b[1;36;107m7\u001b[0m\u001b[30;107m %    \u001b[0m\u001b[30;107m \u001b[0m\u001b[30;107m│\u001b[0m\u001b[30;107m \u001b[0m\u001b[30;107m audi \u001b[0m\u001b[30;107m \u001b[0m\u001b[30;107m│\u001b[0m\u001b[30;107m \u001b[0m\u001b[30;107m  Q5   \u001b[0m\u001b[30;107m \u001b[0m\u001b[30;107m│\u001b[0m\u001b[30;107m \u001b[0m\u001b[30;107m Automatic  \u001b[0m\u001b[30;107m \u001b[0m\u001b[30;107m│\u001b[0m\u001b[30;107m \u001b[0m\u001b[30;107m Diesel \u001b[0m\u001b[30;107m \u001b[0m\u001b[30;107m│\u001b[0m\n",
       "\u001b[30;107m│\u001b[0m\u001b[30;107m \u001b[0m\u001b[30;107m  \u001b[0m\u001b[1;36;107m28188\u001b[0m\u001b[30;107m   \u001b[0m\u001b[30;107m \u001b[0m\u001b[30;107m│\u001b[0m\u001b[30;107m \u001b[0m\u001b[30;107m  \u001b[0m\u001b[1;36;107m28919\u001b[0m\u001b[30;107m   \u001b[0m\u001b[30;107m \u001b[0m\u001b[30;107m│\u001b[0m\u001b[30;107m \u001b[0m\u001b[30;107m \u001b[0m\u001b[1;36;107m731\u001b[0m\u001b[30;107m \u001b[0m\u001b[30;107m \u001b[0m\u001b[30;107m│\u001b[0m\u001b[30;107m \u001b[0m\u001b[30;107m   \u001b[0m\u001b[1;36;107m3\u001b[0m\u001b[30;107m %    \u001b[0m\u001b[30;107m \u001b[0m\u001b[30;107m│\u001b[0m\u001b[30;107m \u001b[0m\u001b[30;107m bmw  \u001b[0m\u001b[30;107m \u001b[0m\u001b[30;107m│\u001b[0m\u001b[30;107m \u001b[0m\u001b[1;36;107m5\u001b[0m\u001b[30;107m Seri…\u001b[0m\u001b[30;107m \u001b[0m\u001b[30;107m│\u001b[0m\u001b[30;107m \u001b[0m\u001b[30;107m Semi-Auto  \u001b[0m\u001b[30;107m \u001b[0m\u001b[30;107m│\u001b[0m\u001b[30;107m \u001b[0m\u001b[30;107m Diesel \u001b[0m\u001b[30;107m \u001b[0m\u001b[30;107m│\u001b[0m\n",
       "\u001b[30;107m└────────────┴────────────┴───────┴────────────┴────────┴─────────┴──────────────┴──────────┘\u001b[0m\n"
      ]
     },
     "metadata": {},
     "output_type": "display_data"
    }
   ],
   "source": [
    "evaluate_prediction(model, X_test, y_test,sample=10,add_columns=['brand','model','transmission','fuel_type'])"
   ]
  },
  {
   "cell_type": "markdown",
   "id": "cc02b395",
   "metadata": {
    "slideshow": {
     "slide_type": "slide"
    }
   },
   "source": [
    "### Entraînement Incrémental\n",
    "\n",
    "Le model est entrainé sur chaque jeu de données en conservant les arbres précédemment créés."
   ]
  },
  {
   "cell_type": "code",
   "execution_count": 45,
   "id": "45696c6c",
   "metadata": {
    "slideshow": {
     "slide_type": "subslide"
    }
   },
   "outputs": [
    {
     "data": {
      "text/html": [
       "<pre style=\"white-space:pre;overflow-x:auto;line-height:normal;font-family:Menlo,'DejaVu Sans Mono',consolas,'Courier New',monospace\"><span style=\"color: #000000; text-decoration-color: #000000; background-color: #ffffff; font-weight: bold\">PERFORMANCE COMPARISON</span> <span style=\"color: #000000; text-decoration-color: #000000; background-color: #ffffff\">──────────────────────────────────────────────────────────────────────</span>\n",
       "</pre>\n"
      ],
      "text/plain": [
       "\u001b[1;52;30;107mPERFORMANCE COMPARISON\u001b[0m \u001b[30;107m──────────────────────────────────────────────────────────────────────\u001b[0m\n"
      ]
     },
     "metadata": {},
     "output_type": "display_data"
    },
    {
     "data": {
      "text/html": [
       "<pre style=\"white-space:pre;overflow-x:auto;line-height:normal;font-family:Menlo,'DejaVu Sans Mono',consolas,'Courier New',monospace\"><span style=\"color: #000000; text-decoration-color: #000000; background-color: #ffffff; font-style: italic\">One model by Brand                                                           </span>\n",
       "<span style=\"color: #000000; text-decoration-color: #000000; background-color: #ffffff\">┏━━━━━━━━━━━━┳━━━━━━┳━━━━━━━━┳━━━━━━━━━━━━━━━━━━━━━┳━━━━━━━━━━━━━━━━━━━━━━━━┓</span>\n",
       "<span style=\"color: #000000; text-decoration-color: #000000; background-color: #ffffff\">┃   Brand    ┃ RMSE ┃   R2   ┃ Absolute Mean Error ┃       Model path       ┃</span>\n",
       "<span style=\"color: #000000; text-decoration-color: #000000; background-color: #ffffff\">┡━━━━━━━━━━━━╇━━━━━━╇━━━━━━━━╇━━━━━━━━━━━━━━━━━━━━━╇━━━━━━━━━━━━━━━━━━━━━━━━┩</span>\n",
       "<span style=\"color: #000000; text-decoration-color: #000000; background-color: #ffffff\">│ Inc. Model │ </span><span style=\"color: #008080; text-decoration-color: #008080; background-color: #ffffff; font-weight: bold\">7229</span><span style=\"color: #000000; text-decoration-color: #000000; background-color: #ffffff\"> │ </span><span style=\"color: #008080; text-decoration-color: #008080; background-color: #ffffff; font-weight: bold\">0.5726</span><span style=\"color: #000000; text-decoration-color: #000000; background-color: #ffffff\"> │        </span><span style=\"color: #008080; text-decoration-color: #008080; background-color: #ffffff; font-weight: bold\">4363</span><span style=\"color: #000000; text-decoration-color: #000000; background-color: #ffffff\">         │ all_brand_model_7229.</span><span style=\"color: #008080; text-decoration-color: #008080; background-color: #ffffff; font-weight: bold\">0</span><span style=\"color: #000000; text-decoration-color: #000000; background-color: #ffffff\"> │</span>\n",
       "<span style=\"color: #000000; text-decoration-color: #000000; background-color: #ffffff\">└────────────┴──────┴────────┴─────────────────────┴────────────────────────┘</span>\n",
       "</pre>\n"
      ],
      "text/plain": [
       "\u001b[3;30;107mOne model by Brand                                                           \u001b[0m\n",
       "\u001b[30;107m┏━━━━━━━━━━━━┳━━━━━━┳━━━━━━━━┳━━━━━━━━━━━━━━━━━━━━━┳━━━━━━━━━━━━━━━━━━━━━━━━┓\u001b[0m\n",
       "\u001b[30;107m┃\u001b[0m\u001b[30;107m \u001b[0m\u001b[30;107m  Brand   \u001b[0m\u001b[30;107m \u001b[0m\u001b[30;107m┃\u001b[0m\u001b[30;107m \u001b[0m\u001b[30;107mRMSE\u001b[0m\u001b[30;107m \u001b[0m\u001b[30;107m┃\u001b[0m\u001b[30;107m \u001b[0m\u001b[30;107m  R2  \u001b[0m\u001b[30;107m \u001b[0m\u001b[30;107m┃\u001b[0m\u001b[30;107m \u001b[0m\u001b[30;107mAbsolute Mean Error\u001b[0m\u001b[30;107m \u001b[0m\u001b[30;107m┃\u001b[0m\u001b[30;107m \u001b[0m\u001b[30;107m      Model path      \u001b[0m\u001b[30;107m \u001b[0m\u001b[30;107m┃\u001b[0m\n",
       "\u001b[30;107m┡━━━━━━━━━━━━╇━━━━━━╇━━━━━━━━╇━━━━━━━━━━━━━━━━━━━━━╇━━━━━━━━━━━━━━━━━━━━━━━━┩\u001b[0m\n",
       "\u001b[30;107m│\u001b[0m\u001b[30;107m \u001b[0m\u001b[30;107mInc. Model\u001b[0m\u001b[30;107m \u001b[0m\u001b[30;107m│\u001b[0m\u001b[30;107m \u001b[0m\u001b[1;36;107m7229\u001b[0m\u001b[30;107m \u001b[0m\u001b[30;107m│\u001b[0m\u001b[30;107m \u001b[0m\u001b[1;36;107m0.5726\u001b[0m\u001b[30;107m \u001b[0m\u001b[30;107m│\u001b[0m\u001b[30;107m \u001b[0m\u001b[30;107m       \u001b[0m\u001b[1;36;107m4363\u001b[0m\u001b[30;107m        \u001b[0m\u001b[30;107m \u001b[0m\u001b[30;107m│\u001b[0m\u001b[30;107m \u001b[0m\u001b[30;107mall_brand_model_7229.\u001b[0m\u001b[1;36;107m0\u001b[0m\u001b[30;107m \u001b[0m\u001b[30;107m│\u001b[0m\n",
       "\u001b[30;107m└────────────┴──────┴────────┴─────────────────────┴────────────────────────┘\u001b[0m\n"
      ]
     },
     "metadata": {},
     "output_type": "display_data"
    }
   ],
   "source": [
    "iterative_model = get_one_model_for_all_iterative(model_to_dump=True, evaluation=True, verbose=False)"
   ]
  },
  {
   "cell_type": "code",
   "execution_count": 47,
   "id": "439daa1c",
   "metadata": {
    "slideshow": {
     "slide_type": "skip"
    }
   },
   "outputs": [
    {
     "name": "stdout",
     "output_type": "stream",
     "text": [
      "Loading all_brand_model_7229.0.joblib\n",
      "Model all_brand_model_7229_estimator_optimized_rmse_1771 saved @ ./model/all_brand_model_7229_estimator_optimized_rmse_1771.joblib\n"
     ]
    }
   ],
   "source": [
    "bmmd.get_best_estimator(model_filename='all_brand_model_7229.0.joblib', data_filename='all_brands.csv',verbose=False)"
   ]
  },
  {
   "cell_type": "code",
   "execution_count": 48,
   "id": "1a9b8fc6",
   "metadata": {
    "slideshow": {
     "slide_type": "skip"
    }
   },
   "outputs": [],
   "source": [
    "iterative_model = get_model(model_path_to_load='./model/all_brand_model_7229_estimator_optimized_rmse_1771.joblib')\n",
    "df = bmmd.get_data('all_brands.csv')\n",
    "X_train, X_val, X_test, y_train, y_val, y_test = bmmd.get_split_sets(df)"
   ]
  },
  {
   "cell_type": "code",
   "execution_count": 49,
   "id": "df301397",
   "metadata": {
    "slideshow": {
     "slide_type": "subslide"
    }
   },
   "outputs": [
    {
     "name": "stdout",
     "output_type": "stream",
     "text": [
      "Loading all_brand_model_7229_estimator_optimized_rmse_1771.joblib\n"
     ]
    },
    {
     "data": {
      "text/html": [
       "<pre style=\"white-space:pre;overflow-x:auto;line-height:normal;font-family:Menlo,'DejaVu Sans Mono',consolas,'Courier New',monospace\"><span style=\"color: #000000; text-decoration-color: #000000; background-color: #ffffff; font-weight: bold\">PERFORMANCE COMPARISON</span> <span style=\"color: #000000; text-decoration-color: #000000; background-color: #ffffff\">──────────────────────────────────────────────────────────────────────</span>\n",
       "</pre>\n"
      ],
      "text/plain": [
       "\u001b[1;52;30;107mPERFORMANCE COMPARISON\u001b[0m \u001b[30;107m──────────────────────────────────────────────────────────────────────\u001b[0m\n"
      ]
     },
     "metadata": {},
     "output_type": "display_data"
    },
    {
     "data": {
      "text/html": [
       "<pre style=\"white-space:pre;overflow-x:auto;line-height:normal;font-family:Menlo,'DejaVu Sans Mono',consolas,'Courier New',monospace\"><span style=\"color: #000000; text-decoration-color: #000000; background-color: #ffffff; font-style: italic\">One model by Brand                                                             </span>\n",
       "<span style=\"color: #000000; text-decoration-color: #000000; background-color: #ffffff\">┏━━━━━━━━━━━━━━━━━━━━━━┳━━━━━━┳━━━━━━━━━━━━━━━━━━━━━┳━━━━━━━━━━━━━━━━━━━━━━━━━┓</span>\n",
       "<span style=\"color: #000000; text-decoration-color: #000000; background-color: #ffffff\">┃        Brand         ┃ RMSE ┃ Absolute Mean Error ┃       Model path        ┃</span>\n",
       "<span style=\"color: #000000; text-decoration-color: #000000; background-color: #ffffff\">┡━━━━━━━━━━━━━━━━━━━━━━╇━━━━━━╇━━━━━━━━━━━━━━━━━━━━━╇━━━━━━━━━━━━━━━━━━━━━━━━━┩</span>\n",
       "<span style=\"color: #000000; text-decoration-color: #000000; background-color: #ffffff\">│ Merged Brand Dataset │ </span><span style=\"color: #008080; text-decoration-color: #008080; background-color: #ffffff; font-weight: bold\">1771</span><span style=\"color: #000000; text-decoration-color: #000000; background-color: #ffffff\"> │         </span><span style=\"color: #008080; text-decoration-color: #008080; background-color: #ffffff; font-weight: bold\">758</span><span style=\"color: #000000; text-decoration-color: #000000; background-color: #ffffff\">         │ all_brand_model_7229</span><span style=\"color: #808000; text-decoration-color: #808000; background-color: #ffffff\">...</span><span style=\"color: #000000; text-decoration-color: #000000; background-color: #ffffff\"> │</span>\n",
       "<span style=\"color: #000000; text-decoration-color: #000000; background-color: #ffffff\">└──────────────────────┴──────┴─────────────────────┴─────────────────────────┘</span>\n",
       "</pre>\n"
      ],
      "text/plain": [
       "\u001b[3;30;107mOne model by Brand                                                             \u001b[0m\n",
       "\u001b[30;107m┏━━━━━━━━━━━━━━━━━━━━━━┳━━━━━━┳━━━━━━━━━━━━━━━━━━━━━┳━━━━━━━━━━━━━━━━━━━━━━━━━┓\u001b[0m\n",
       "\u001b[30;107m┃\u001b[0m\u001b[30;107m \u001b[0m\u001b[30;107m       Brand        \u001b[0m\u001b[30;107m \u001b[0m\u001b[30;107m┃\u001b[0m\u001b[30;107m \u001b[0m\u001b[30;107mRMSE\u001b[0m\u001b[30;107m \u001b[0m\u001b[30;107m┃\u001b[0m\u001b[30;107m \u001b[0m\u001b[30;107mAbsolute Mean Error\u001b[0m\u001b[30;107m \u001b[0m\u001b[30;107m┃\u001b[0m\u001b[30;107m \u001b[0m\u001b[30;107m      Model path       \u001b[0m\u001b[30;107m \u001b[0m\u001b[30;107m┃\u001b[0m\n",
       "\u001b[30;107m┡━━━━━━━━━━━━━━━━━━━━━━╇━━━━━━╇━━━━━━━━━━━━━━━━━━━━━╇━━━━━━━━━━━━━━━━━━━━━━━━━┩\u001b[0m\n",
       "\u001b[30;107m│\u001b[0m\u001b[30;107m \u001b[0m\u001b[30;107mMerged Brand Dataset\u001b[0m\u001b[30;107m \u001b[0m\u001b[30;107m│\u001b[0m\u001b[30;107m \u001b[0m\u001b[1;36;107m1771\u001b[0m\u001b[30;107m \u001b[0m\u001b[30;107m│\u001b[0m\u001b[30;107m \u001b[0m\u001b[30;107m        \u001b[0m\u001b[1;36;107m758\u001b[0m\u001b[30;107m        \u001b[0m\u001b[30;107m \u001b[0m\u001b[30;107m│\u001b[0m\u001b[30;107m \u001b[0m\u001b[30;107mall_brand_model_7229\u001b[0m\u001b[33;107m...\u001b[0m\u001b[30;107m \u001b[0m\u001b[30;107m│\u001b[0m\n",
       "\u001b[30;107m└──────────────────────┴──────┴─────────────────────┴─────────────────────────┘\u001b[0m\n"
      ]
     },
     "metadata": {},
     "output_type": "display_data"
    }
   ],
   "source": [
    "bmmd.evaluate_model(model_filename='all_brand_model_7229_estimator_optimized_rmse_1771.joblib', data_filename='all_brands.csv',verbose=False)"
   ]
  },
  {
   "cell_type": "code",
   "execution_count": 50,
   "id": "abc2a428",
   "metadata": {
    "scrolled": true,
    "slideshow": {
     "slide_type": "subslide"
    }
   },
   "outputs": [
    {
     "name": "stdout",
     "output_type": "stream",
     "text": [
      "RMSE: 2888.984618587985\n"
     ]
    },
    {
     "data": {
      "text/html": [
       "<pre style=\"white-space:pre;overflow-x:auto;line-height:normal;font-family:Menlo,'DejaVu Sans Mono',consolas,'Courier New',monospace\"><span style=\"color: #000000; text-decoration-color: #000000; background-color: #ffffff; font-weight: bold\">MODEL PREDICTION TESTING</span> <span style=\"color: #000000; text-decoration-color: #000000; background-color: #ffffff\">────────────────────────────────────────────────────────────────────</span>\n",
       "</pre>\n"
      ],
      "text/plain": [
       "\u001b[1;52;30;107mMODEL PREDICTION TESTING\u001b[0m \u001b[30;107m────────────────────────────────────────────────────────────────────\u001b[0m\n"
      ]
     },
     "metadata": {},
     "output_type": "display_data"
    },
    {
     "data": {
      "text/html": [
       "<pre style=\"white-space:pre;overflow-x:auto;line-height:normal;font-family:Menlo,'DejaVu Sans Mono',consolas,'Courier New',monospace\"><span style=\"color: #000000; text-decoration-color: #000000; background-color: #ffffff; font-style: italic\">Prediction results                                                                           </span>\n",
       "<span style=\"color: #000000; text-decoration-color: #000000; background-color: #ffffff\">┏━━━━━━━━━━━━┳━━━━━━━━━━━━┳━━━━━━━┳━━━━━━━━━━━━┳━━━━━━━━┳━━━━━━━━━┳━━━━━━━━━━━━━━┳━━━━━━━━━━┓</span>\n",
       "<span style=\"color: #000000; text-decoration-color: #000000; background-color: #ffffff\">┃ Prediction ┃ Real Price ┃ Error ┃ Percentage ┃ brand  ┃  model  ┃ transmission ┃ fuel_ty… ┃</span>\n",
       "<span style=\"color: #000000; text-decoration-color: #000000; background-color: #ffffff\">┡━━━━━━━━━━━━╇━━━━━━━━━━━━╇━━━━━━━╇━━━━━━━━━━━━╇━━━━━━━━╇━━━━━━━━━╇━━━━━━━━━━━━━━╇━━━━━━━━━━┩</span>\n",
       "<span style=\"color: #000000; text-decoration-color: #000000; background-color: #ffffff\">│   </span><span style=\"color: #008080; text-decoration-color: #008080; background-color: #ffffff; font-weight: bold\">21023</span><span style=\"color: #000000; text-decoration-color: #000000; background-color: #ffffff\">    │   </span><span style=\"color: #008080; text-decoration-color: #008080; background-color: #ffffff; font-weight: bold\">17991</span><span style=\"color: #000000; text-decoration-color: #000000; background-color: #ffffff\">    │ </span><span style=\"color: #008080; text-decoration-color: #008080; background-color: #ffffff; font-weight: bold\">-3032</span><span style=\"color: #000000; text-decoration-color: #000000; background-color: #ffffff\"> │   </span><span style=\"color: #008080; text-decoration-color: #008080; background-color: #ffffff; font-weight: bold\">-17</span><span style=\"color: #000000; text-decoration-color: #000000; background-color: #ffffff\"> %    │ toyota │  C-HR   │  Automatic   │  Petrol  │</span>\n",
       "<span style=\"color: #000000; text-decoration-color: #000000; background-color: #ffffff\">│   </span><span style=\"color: #008080; text-decoration-color: #008080; background-color: #ffffff; font-weight: bold\">13564</span><span style=\"color: #000000; text-decoration-color: #000000; background-color: #ffffff\">    │   </span><span style=\"color: #008080; text-decoration-color: #008080; background-color: #ffffff; font-weight: bold\">11995</span><span style=\"color: #000000; text-decoration-color: #000000; background-color: #ffffff\">    │ </span><span style=\"color: #008080; text-decoration-color: #008080; background-color: #ffffff; font-weight: bold\">-1569</span><span style=\"color: #000000; text-decoration-color: #000000; background-color: #ffffff\"> │   </span><span style=\"color: #008080; text-decoration-color: #008080; background-color: #ffffff; font-weight: bold\">-13</span><span style=\"color: #000000; text-decoration-color: #000000; background-color: #ffffff\"> %    │ toyota │  Yaris  │  Automatic   │  Hybrid  │</span>\n",
       "<span style=\"color: #000000; text-decoration-color: #000000; background-color: #ffffff\">│   </span><span style=\"color: #008080; text-decoration-color: #008080; background-color: #ffffff; font-weight: bold\">26475</span><span style=\"color: #000000; text-decoration-color: #000000; background-color: #ffffff\">    │   </span><span style=\"color: #008080; text-decoration-color: #008080; background-color: #ffffff; font-weight: bold\">25190</span><span style=\"color: #000000; text-decoration-color: #000000; background-color: #ffffff\">    │ </span><span style=\"color: #008080; text-decoration-color: #008080; background-color: #ffffff; font-weight: bold\">-1285</span><span style=\"color: #000000; text-decoration-color: #000000; background-color: #ffffff\"> │    </span><span style=\"color: #008080; text-decoration-color: #008080; background-color: #ffffff; font-weight: bold\">-5</span><span style=\"color: #000000; text-decoration-color: #000000; background-color: #ffffff\"> %    │ skoda  │  Karoq  │  Automatic   │  Diesel  │</span>\n",
       "<span style=\"color: #000000; text-decoration-color: #000000; background-color: #ffffff\">│   </span><span style=\"color: #008080; text-decoration-color: #008080; background-color: #ffffff; font-weight: bold\">12609</span><span style=\"color: #000000; text-decoration-color: #000000; background-color: #ffffff\">    │   </span><span style=\"color: #008080; text-decoration-color: #008080; background-color: #ffffff; font-weight: bold\">14398</span><span style=\"color: #000000; text-decoration-color: #000000; background-color: #ffffff\">    │ </span><span style=\"color: #008080; text-decoration-color: #008080; background-color: #ffffff; font-weight: bold\">1789</span><span style=\"color: #000000; text-decoration-color: #000000; background-color: #ffffff\">  │    </span><span style=\"color: #008080; text-decoration-color: #008080; background-color: #ffffff; font-weight: bold\">12</span><span style=\"color: #000000; text-decoration-color: #000000; background-color: #ffffff\"> %    │  opel  │ Mokka X │  Semi-Auto   │  Petrol  │</span>\n",
       "<span style=\"color: #000000; text-decoration-color: #000000; background-color: #ffffff\">│   </span><span style=\"color: #008080; text-decoration-color: #008080; background-color: #ffffff; font-weight: bold\">34077</span><span style=\"color: #000000; text-decoration-color: #000000; background-color: #ffffff\">    │   </span><span style=\"color: #008080; text-decoration-color: #008080; background-color: #ffffff; font-weight: bold\">26825</span><span style=\"color: #000000; text-decoration-color: #000000; background-color: #ffffff\">    │ </span><span style=\"color: #008080; text-decoration-color: #008080; background-color: #ffffff; font-weight: bold\">-7252</span><span style=\"color: #000000; text-decoration-color: #000000; background-color: #ffffff\"> │   </span><span style=\"color: #008080; text-decoration-color: #008080; background-color: #ffffff; font-weight: bold\">-27</span><span style=\"color: #000000; text-decoration-color: #000000; background-color: #ffffff\"> %    │  bmw   │ </span><span style=\"color: #008080; text-decoration-color: #008080; background-color: #ffffff; font-weight: bold\">3</span><span style=\"color: #000000; text-decoration-color: #000000; background-color: #ffffff\"> Seri… │  Automatic   │  Petrol  │</span>\n",
       "<span style=\"color: #000000; text-decoration-color: #000000; background-color: #ffffff\">│   </span><span style=\"color: #008080; text-decoration-color: #008080; background-color: #ffffff; font-weight: bold\">17409</span><span style=\"color: #000000; text-decoration-color: #000000; background-color: #ffffff\">    │   </span><span style=\"color: #008080; text-decoration-color: #008080; background-color: #ffffff; font-weight: bold\">18490</span><span style=\"color: #000000; text-decoration-color: #000000; background-color: #ffffff\">    │ </span><span style=\"color: #008080; text-decoration-color: #008080; background-color: #ffffff; font-weight: bold\">1081</span><span style=\"color: #000000; text-decoration-color: #000000; background-color: #ffffff\">  │    </span><span style=\"color: #008080; text-decoration-color: #008080; background-color: #ffffff; font-weight: bold\">6</span><span style=\"color: #000000; text-decoration-color: #000000; background-color: #ffffff\"> %     │  audi  │   Q2    │  Semi-Auto   │  Petrol  │</span>\n",
       "<span style=\"color: #000000; text-decoration-color: #000000; background-color: #ffffff\">│   </span><span style=\"color: #008080; text-decoration-color: #008080; background-color: #ffffff; font-weight: bold\">10343</span><span style=\"color: #000000; text-decoration-color: #000000; background-color: #ffffff\">    │   </span><span style=\"color: #008080; text-decoration-color: #008080; background-color: #ffffff; font-weight: bold\">10494</span><span style=\"color: #000000; text-decoration-color: #000000; background-color: #ffffff\">    │  </span><span style=\"color: #008080; text-decoration-color: #008080; background-color: #ffffff; font-weight: bold\">151</span><span style=\"color: #000000; text-decoration-color: #000000; background-color: #ffffff\">  │    </span><span style=\"color: #008080; text-decoration-color: #008080; background-color: #ffffff; font-weight: bold\">1</span><span style=\"color: #000000; text-decoration-color: #000000; background-color: #ffffff\"> %     │ toyota │  Yaris  │    Manual    │  Petrol  │</span>\n",
       "<span style=\"color: #000000; text-decoration-color: #000000; background-color: #ffffff\">│   </span><span style=\"color: #008080; text-decoration-color: #008080; background-color: #ffffff; font-weight: bold\">11275</span><span style=\"color: #000000; text-decoration-color: #000000; background-color: #ffffff\">    │    </span><span style=\"color: #008080; text-decoration-color: #008080; background-color: #ffffff; font-weight: bold\">9898</span><span style=\"color: #000000; text-decoration-color: #000000; background-color: #ffffff\">    │ </span><span style=\"color: #008080; text-decoration-color: #008080; background-color: #ffffff; font-weight: bold\">-1377</span><span style=\"color: #000000; text-decoration-color: #000000; background-color: #ffffff\"> │   </span><span style=\"color: #008080; text-decoration-color: #008080; background-color: #ffffff; font-weight: bold\">-14</span><span style=\"color: #000000; text-decoration-color: #000000; background-color: #ffffff\"> %    │   vw   │ Golf SV │    Manual    │  Diesel  │</span>\n",
       "<span style=\"color: #000000; text-decoration-color: #000000; background-color: #ffffff\">│   </span><span style=\"color: #008080; text-decoration-color: #008080; background-color: #ffffff; font-weight: bold\">35837</span><span style=\"color: #000000; text-decoration-color: #000000; background-color: #ffffff\">    │   </span><span style=\"color: #008080; text-decoration-color: #008080; background-color: #ffffff; font-weight: bold\">36984</span><span style=\"color: #000000; text-decoration-color: #000000; background-color: #ffffff\">    │ </span><span style=\"color: #008080; text-decoration-color: #008080; background-color: #ffffff; font-weight: bold\">1147</span><span style=\"color: #000000; text-decoration-color: #000000; background-color: #ffffff\">  │    </span><span style=\"color: #008080; text-decoration-color: #008080; background-color: #ffffff; font-weight: bold\">3</span><span style=\"color: #000000; text-decoration-color: #000000; background-color: #ffffff\"> %     │  audi  │   Q5    │  Automatic   │  Diesel  │</span>\n",
       "<span style=\"color: #000000; text-decoration-color: #000000; background-color: #ffffff\">│   </span><span style=\"color: #008080; text-decoration-color: #008080; background-color: #ffffff; font-weight: bold\">25763</span><span style=\"color: #000000; text-decoration-color: #000000; background-color: #ffffff\">    │   </span><span style=\"color: #008080; text-decoration-color: #008080; background-color: #ffffff; font-weight: bold\">28919</span><span style=\"color: #000000; text-decoration-color: #000000; background-color: #ffffff\">    │ </span><span style=\"color: #008080; text-decoration-color: #008080; background-color: #ffffff; font-weight: bold\">3156</span><span style=\"color: #000000; text-decoration-color: #000000; background-color: #ffffff\">  │    </span><span style=\"color: #008080; text-decoration-color: #008080; background-color: #ffffff; font-weight: bold\">11</span><span style=\"color: #000000; text-decoration-color: #000000; background-color: #ffffff\"> %    │  bmw   │ </span><span style=\"color: #008080; text-decoration-color: #008080; background-color: #ffffff; font-weight: bold\">5</span><span style=\"color: #000000; text-decoration-color: #000000; background-color: #ffffff\"> Seri… │  Semi-Auto   │  Diesel  │</span>\n",
       "<span style=\"color: #000000; text-decoration-color: #000000; background-color: #ffffff\">└────────────┴────────────┴───────┴────────────┴────────┴─────────┴──────────────┴──────────┘</span>\n",
       "</pre>\n"
      ],
      "text/plain": [
       "\u001b[3;30;107mPrediction results                                                                           \u001b[0m\n",
       "\u001b[30;107m┏━━━━━━━━━━━━┳━━━━━━━━━━━━┳━━━━━━━┳━━━━━━━━━━━━┳━━━━━━━━┳━━━━━━━━━┳━━━━━━━━━━━━━━┳━━━━━━━━━━┓\u001b[0m\n",
       "\u001b[30;107m┃\u001b[0m\u001b[30;107m \u001b[0m\u001b[30;107mPrediction\u001b[0m\u001b[30;107m \u001b[0m\u001b[30;107m┃\u001b[0m\u001b[30;107m \u001b[0m\u001b[30;107mReal Price\u001b[0m\u001b[30;107m \u001b[0m\u001b[30;107m┃\u001b[0m\u001b[30;107m \u001b[0m\u001b[30;107mError\u001b[0m\u001b[30;107m \u001b[0m\u001b[30;107m┃\u001b[0m\u001b[30;107m \u001b[0m\u001b[30;107mPercentage\u001b[0m\u001b[30;107m \u001b[0m\u001b[30;107m┃\u001b[0m\u001b[30;107m \u001b[0m\u001b[30;107mbrand \u001b[0m\u001b[30;107m \u001b[0m\u001b[30;107m┃\u001b[0m\u001b[30;107m \u001b[0m\u001b[30;107m model \u001b[0m\u001b[30;107m \u001b[0m\u001b[30;107m┃\u001b[0m\u001b[30;107m \u001b[0m\u001b[30;107mtransmission\u001b[0m\u001b[30;107m \u001b[0m\u001b[30;107m┃\u001b[0m\u001b[30;107m \u001b[0m\u001b[30;107mfuel_ty…\u001b[0m\u001b[30;107m \u001b[0m\u001b[30;107m┃\u001b[0m\n",
       "\u001b[30;107m┡━━━━━━━━━━━━╇━━━━━━━━━━━━╇━━━━━━━╇━━━━━━━━━━━━╇━━━━━━━━╇━━━━━━━━━╇━━━━━━━━━━━━━━╇━━━━━━━━━━┩\u001b[0m\n",
       "\u001b[30;107m│\u001b[0m\u001b[30;107m \u001b[0m\u001b[30;107m  \u001b[0m\u001b[1;36;107m21023\u001b[0m\u001b[30;107m   \u001b[0m\u001b[30;107m \u001b[0m\u001b[30;107m│\u001b[0m\u001b[30;107m \u001b[0m\u001b[30;107m  \u001b[0m\u001b[1;36;107m17991\u001b[0m\u001b[30;107m   \u001b[0m\u001b[30;107m \u001b[0m\u001b[30;107m│\u001b[0m\u001b[30;107m \u001b[0m\u001b[1;36;107m-3032\u001b[0m\u001b[30;107m \u001b[0m\u001b[30;107m│\u001b[0m\u001b[30;107m \u001b[0m\u001b[30;107m  \u001b[0m\u001b[1;36;107m-17\u001b[0m\u001b[30;107m %   \u001b[0m\u001b[30;107m \u001b[0m\u001b[30;107m│\u001b[0m\u001b[30;107m \u001b[0m\u001b[30;107mtoyota\u001b[0m\u001b[30;107m \u001b[0m\u001b[30;107m│\u001b[0m\u001b[30;107m \u001b[0m\u001b[30;107m C-HR  \u001b[0m\u001b[30;107m \u001b[0m\u001b[30;107m│\u001b[0m\u001b[30;107m \u001b[0m\u001b[30;107m Automatic  \u001b[0m\u001b[30;107m \u001b[0m\u001b[30;107m│\u001b[0m\u001b[30;107m \u001b[0m\u001b[30;107m Petrol \u001b[0m\u001b[30;107m \u001b[0m\u001b[30;107m│\u001b[0m\n",
       "\u001b[30;107m│\u001b[0m\u001b[30;107m \u001b[0m\u001b[30;107m  \u001b[0m\u001b[1;36;107m13564\u001b[0m\u001b[30;107m   \u001b[0m\u001b[30;107m \u001b[0m\u001b[30;107m│\u001b[0m\u001b[30;107m \u001b[0m\u001b[30;107m  \u001b[0m\u001b[1;36;107m11995\u001b[0m\u001b[30;107m   \u001b[0m\u001b[30;107m \u001b[0m\u001b[30;107m│\u001b[0m\u001b[30;107m \u001b[0m\u001b[1;36;107m-1569\u001b[0m\u001b[30;107m \u001b[0m\u001b[30;107m│\u001b[0m\u001b[30;107m \u001b[0m\u001b[30;107m  \u001b[0m\u001b[1;36;107m-13\u001b[0m\u001b[30;107m %   \u001b[0m\u001b[30;107m \u001b[0m\u001b[30;107m│\u001b[0m\u001b[30;107m \u001b[0m\u001b[30;107mtoyota\u001b[0m\u001b[30;107m \u001b[0m\u001b[30;107m│\u001b[0m\u001b[30;107m \u001b[0m\u001b[30;107m Yaris \u001b[0m\u001b[30;107m \u001b[0m\u001b[30;107m│\u001b[0m\u001b[30;107m \u001b[0m\u001b[30;107m Automatic  \u001b[0m\u001b[30;107m \u001b[0m\u001b[30;107m│\u001b[0m\u001b[30;107m \u001b[0m\u001b[30;107m Hybrid \u001b[0m\u001b[30;107m \u001b[0m\u001b[30;107m│\u001b[0m\n",
       "\u001b[30;107m│\u001b[0m\u001b[30;107m \u001b[0m\u001b[30;107m  \u001b[0m\u001b[1;36;107m26475\u001b[0m\u001b[30;107m   \u001b[0m\u001b[30;107m \u001b[0m\u001b[30;107m│\u001b[0m\u001b[30;107m \u001b[0m\u001b[30;107m  \u001b[0m\u001b[1;36;107m25190\u001b[0m\u001b[30;107m   \u001b[0m\u001b[30;107m \u001b[0m\u001b[30;107m│\u001b[0m\u001b[30;107m \u001b[0m\u001b[1;36;107m-1285\u001b[0m\u001b[30;107m \u001b[0m\u001b[30;107m│\u001b[0m\u001b[30;107m \u001b[0m\u001b[30;107m   \u001b[0m\u001b[1;36;107m-5\u001b[0m\u001b[30;107m %   \u001b[0m\u001b[30;107m \u001b[0m\u001b[30;107m│\u001b[0m\u001b[30;107m \u001b[0m\u001b[30;107mskoda \u001b[0m\u001b[30;107m \u001b[0m\u001b[30;107m│\u001b[0m\u001b[30;107m \u001b[0m\u001b[30;107m Karoq \u001b[0m\u001b[30;107m \u001b[0m\u001b[30;107m│\u001b[0m\u001b[30;107m \u001b[0m\u001b[30;107m Automatic  \u001b[0m\u001b[30;107m \u001b[0m\u001b[30;107m│\u001b[0m\u001b[30;107m \u001b[0m\u001b[30;107m Diesel \u001b[0m\u001b[30;107m \u001b[0m\u001b[30;107m│\u001b[0m\n",
       "\u001b[30;107m│\u001b[0m\u001b[30;107m \u001b[0m\u001b[30;107m  \u001b[0m\u001b[1;36;107m12609\u001b[0m\u001b[30;107m   \u001b[0m\u001b[30;107m \u001b[0m\u001b[30;107m│\u001b[0m\u001b[30;107m \u001b[0m\u001b[30;107m  \u001b[0m\u001b[1;36;107m14398\u001b[0m\u001b[30;107m   \u001b[0m\u001b[30;107m \u001b[0m\u001b[30;107m│\u001b[0m\u001b[30;107m \u001b[0m\u001b[1;36;107m1789\u001b[0m\u001b[30;107m \u001b[0m\u001b[30;107m \u001b[0m\u001b[30;107m│\u001b[0m\u001b[30;107m \u001b[0m\u001b[30;107m   \u001b[0m\u001b[1;36;107m12\u001b[0m\u001b[30;107m %   \u001b[0m\u001b[30;107m \u001b[0m\u001b[30;107m│\u001b[0m\u001b[30;107m \u001b[0m\u001b[30;107m opel \u001b[0m\u001b[30;107m \u001b[0m\u001b[30;107m│\u001b[0m\u001b[30;107m \u001b[0m\u001b[30;107mMokka X\u001b[0m\u001b[30;107m \u001b[0m\u001b[30;107m│\u001b[0m\u001b[30;107m \u001b[0m\u001b[30;107m Semi-Auto  \u001b[0m\u001b[30;107m \u001b[0m\u001b[30;107m│\u001b[0m\u001b[30;107m \u001b[0m\u001b[30;107m Petrol \u001b[0m\u001b[30;107m \u001b[0m\u001b[30;107m│\u001b[0m\n",
       "\u001b[30;107m│\u001b[0m\u001b[30;107m \u001b[0m\u001b[30;107m  \u001b[0m\u001b[1;36;107m34077\u001b[0m\u001b[30;107m   \u001b[0m\u001b[30;107m \u001b[0m\u001b[30;107m│\u001b[0m\u001b[30;107m \u001b[0m\u001b[30;107m  \u001b[0m\u001b[1;36;107m26825\u001b[0m\u001b[30;107m   \u001b[0m\u001b[30;107m \u001b[0m\u001b[30;107m│\u001b[0m\u001b[30;107m \u001b[0m\u001b[1;36;107m-7252\u001b[0m\u001b[30;107m \u001b[0m\u001b[30;107m│\u001b[0m\u001b[30;107m \u001b[0m\u001b[30;107m  \u001b[0m\u001b[1;36;107m-27\u001b[0m\u001b[30;107m %   \u001b[0m\u001b[30;107m \u001b[0m\u001b[30;107m│\u001b[0m\u001b[30;107m \u001b[0m\u001b[30;107m bmw  \u001b[0m\u001b[30;107m \u001b[0m\u001b[30;107m│\u001b[0m\u001b[30;107m \u001b[0m\u001b[1;36;107m3\u001b[0m\u001b[30;107m Seri…\u001b[0m\u001b[30;107m \u001b[0m\u001b[30;107m│\u001b[0m\u001b[30;107m \u001b[0m\u001b[30;107m Automatic  \u001b[0m\u001b[30;107m \u001b[0m\u001b[30;107m│\u001b[0m\u001b[30;107m \u001b[0m\u001b[30;107m Petrol \u001b[0m\u001b[30;107m \u001b[0m\u001b[30;107m│\u001b[0m\n",
       "\u001b[30;107m│\u001b[0m\u001b[30;107m \u001b[0m\u001b[30;107m  \u001b[0m\u001b[1;36;107m17409\u001b[0m\u001b[30;107m   \u001b[0m\u001b[30;107m \u001b[0m\u001b[30;107m│\u001b[0m\u001b[30;107m \u001b[0m\u001b[30;107m  \u001b[0m\u001b[1;36;107m18490\u001b[0m\u001b[30;107m   \u001b[0m\u001b[30;107m \u001b[0m\u001b[30;107m│\u001b[0m\u001b[30;107m \u001b[0m\u001b[1;36;107m1081\u001b[0m\u001b[30;107m \u001b[0m\u001b[30;107m \u001b[0m\u001b[30;107m│\u001b[0m\u001b[30;107m \u001b[0m\u001b[30;107m   \u001b[0m\u001b[1;36;107m6\u001b[0m\u001b[30;107m %    \u001b[0m\u001b[30;107m \u001b[0m\u001b[30;107m│\u001b[0m\u001b[30;107m \u001b[0m\u001b[30;107m audi \u001b[0m\u001b[30;107m \u001b[0m\u001b[30;107m│\u001b[0m\u001b[30;107m \u001b[0m\u001b[30;107m  Q2   \u001b[0m\u001b[30;107m \u001b[0m\u001b[30;107m│\u001b[0m\u001b[30;107m \u001b[0m\u001b[30;107m Semi-Auto  \u001b[0m\u001b[30;107m \u001b[0m\u001b[30;107m│\u001b[0m\u001b[30;107m \u001b[0m\u001b[30;107m Petrol \u001b[0m\u001b[30;107m \u001b[0m\u001b[30;107m│\u001b[0m\n",
       "\u001b[30;107m│\u001b[0m\u001b[30;107m \u001b[0m\u001b[30;107m  \u001b[0m\u001b[1;36;107m10343\u001b[0m\u001b[30;107m   \u001b[0m\u001b[30;107m \u001b[0m\u001b[30;107m│\u001b[0m\u001b[30;107m \u001b[0m\u001b[30;107m  \u001b[0m\u001b[1;36;107m10494\u001b[0m\u001b[30;107m   \u001b[0m\u001b[30;107m \u001b[0m\u001b[30;107m│\u001b[0m\u001b[30;107m \u001b[0m\u001b[30;107m \u001b[0m\u001b[1;36;107m151\u001b[0m\u001b[30;107m \u001b[0m\u001b[30;107m \u001b[0m\u001b[30;107m│\u001b[0m\u001b[30;107m \u001b[0m\u001b[30;107m   \u001b[0m\u001b[1;36;107m1\u001b[0m\u001b[30;107m %    \u001b[0m\u001b[30;107m \u001b[0m\u001b[30;107m│\u001b[0m\u001b[30;107m \u001b[0m\u001b[30;107mtoyota\u001b[0m\u001b[30;107m \u001b[0m\u001b[30;107m│\u001b[0m\u001b[30;107m \u001b[0m\u001b[30;107m Yaris \u001b[0m\u001b[30;107m \u001b[0m\u001b[30;107m│\u001b[0m\u001b[30;107m \u001b[0m\u001b[30;107m   Manual   \u001b[0m\u001b[30;107m \u001b[0m\u001b[30;107m│\u001b[0m\u001b[30;107m \u001b[0m\u001b[30;107m Petrol \u001b[0m\u001b[30;107m \u001b[0m\u001b[30;107m│\u001b[0m\n",
       "\u001b[30;107m│\u001b[0m\u001b[30;107m \u001b[0m\u001b[30;107m  \u001b[0m\u001b[1;36;107m11275\u001b[0m\u001b[30;107m   \u001b[0m\u001b[30;107m \u001b[0m\u001b[30;107m│\u001b[0m\u001b[30;107m \u001b[0m\u001b[30;107m   \u001b[0m\u001b[1;36;107m9898\u001b[0m\u001b[30;107m   \u001b[0m\u001b[30;107m \u001b[0m\u001b[30;107m│\u001b[0m\u001b[30;107m \u001b[0m\u001b[1;36;107m-1377\u001b[0m\u001b[30;107m \u001b[0m\u001b[30;107m│\u001b[0m\u001b[30;107m \u001b[0m\u001b[30;107m  \u001b[0m\u001b[1;36;107m-14\u001b[0m\u001b[30;107m %   \u001b[0m\u001b[30;107m \u001b[0m\u001b[30;107m│\u001b[0m\u001b[30;107m \u001b[0m\u001b[30;107m  vw  \u001b[0m\u001b[30;107m \u001b[0m\u001b[30;107m│\u001b[0m\u001b[30;107m \u001b[0m\u001b[30;107mGolf SV\u001b[0m\u001b[30;107m \u001b[0m\u001b[30;107m│\u001b[0m\u001b[30;107m \u001b[0m\u001b[30;107m   Manual   \u001b[0m\u001b[30;107m \u001b[0m\u001b[30;107m│\u001b[0m\u001b[30;107m \u001b[0m\u001b[30;107m Diesel \u001b[0m\u001b[30;107m \u001b[0m\u001b[30;107m│\u001b[0m\n",
       "\u001b[30;107m│\u001b[0m\u001b[30;107m \u001b[0m\u001b[30;107m  \u001b[0m\u001b[1;36;107m35837\u001b[0m\u001b[30;107m   \u001b[0m\u001b[30;107m \u001b[0m\u001b[30;107m│\u001b[0m\u001b[30;107m \u001b[0m\u001b[30;107m  \u001b[0m\u001b[1;36;107m36984\u001b[0m\u001b[30;107m   \u001b[0m\u001b[30;107m \u001b[0m\u001b[30;107m│\u001b[0m\u001b[30;107m \u001b[0m\u001b[1;36;107m1147\u001b[0m\u001b[30;107m \u001b[0m\u001b[30;107m \u001b[0m\u001b[30;107m│\u001b[0m\u001b[30;107m \u001b[0m\u001b[30;107m   \u001b[0m\u001b[1;36;107m3\u001b[0m\u001b[30;107m %    \u001b[0m\u001b[30;107m \u001b[0m\u001b[30;107m│\u001b[0m\u001b[30;107m \u001b[0m\u001b[30;107m audi \u001b[0m\u001b[30;107m \u001b[0m\u001b[30;107m│\u001b[0m\u001b[30;107m \u001b[0m\u001b[30;107m  Q5   \u001b[0m\u001b[30;107m \u001b[0m\u001b[30;107m│\u001b[0m\u001b[30;107m \u001b[0m\u001b[30;107m Automatic  \u001b[0m\u001b[30;107m \u001b[0m\u001b[30;107m│\u001b[0m\u001b[30;107m \u001b[0m\u001b[30;107m Diesel \u001b[0m\u001b[30;107m \u001b[0m\u001b[30;107m│\u001b[0m\n",
       "\u001b[30;107m│\u001b[0m\u001b[30;107m \u001b[0m\u001b[30;107m  \u001b[0m\u001b[1;36;107m25763\u001b[0m\u001b[30;107m   \u001b[0m\u001b[30;107m \u001b[0m\u001b[30;107m│\u001b[0m\u001b[30;107m \u001b[0m\u001b[30;107m  \u001b[0m\u001b[1;36;107m28919\u001b[0m\u001b[30;107m   \u001b[0m\u001b[30;107m \u001b[0m\u001b[30;107m│\u001b[0m\u001b[30;107m \u001b[0m\u001b[1;36;107m3156\u001b[0m\u001b[30;107m \u001b[0m\u001b[30;107m \u001b[0m\u001b[30;107m│\u001b[0m\u001b[30;107m \u001b[0m\u001b[30;107m   \u001b[0m\u001b[1;36;107m11\u001b[0m\u001b[30;107m %   \u001b[0m\u001b[30;107m \u001b[0m\u001b[30;107m│\u001b[0m\u001b[30;107m \u001b[0m\u001b[30;107m bmw  \u001b[0m\u001b[30;107m \u001b[0m\u001b[30;107m│\u001b[0m\u001b[30;107m \u001b[0m\u001b[1;36;107m5\u001b[0m\u001b[30;107m Seri…\u001b[0m\u001b[30;107m \u001b[0m\u001b[30;107m│\u001b[0m\u001b[30;107m \u001b[0m\u001b[30;107m Semi-Auto  \u001b[0m\u001b[30;107m \u001b[0m\u001b[30;107m│\u001b[0m\u001b[30;107m \u001b[0m\u001b[30;107m Diesel \u001b[0m\u001b[30;107m \u001b[0m\u001b[30;107m│\u001b[0m\n",
       "\u001b[30;107m└────────────┴────────────┴───────┴────────────┴────────┴─────────┴──────────────┴──────────┘\u001b[0m\n"
      ]
     },
     "metadata": {},
     "output_type": "display_data"
    }
   ],
   "source": [
    "evaluate_prediction(iterative_model, X_test, y_test,sample=10,add_columns=['brand','model','transmission','fuel_type'])"
   ]
  },
  {
   "cell_type": "markdown",
   "id": "d7ecd0e4",
   "metadata": {
    "slideshow": {
     "slide_type": "slide"
    }
   },
   "source": [
    "## Sources"
   ]
  },
  {
   "cell_type": "markdown",
   "id": "7b0ed317",
   "metadata": {
    "slideshow": {
     "slide_type": "subslide"
    }
   },
   "source": [
    "### Notebooks\n",
    "\n",
    "#### Files Explorations\n",
    "\n",
    "* [Files Comparison](https://github.com/bortch/secondhandcar/blob/main/all_data_files_exploration.ipynb)\n",
    "* [Files Creation (test)](https://github.com/bortch/secondhandcar/blob/main/generate_all_brands_csv.ipynb)\n",
    "\n",
    "#### EDA\n",
    "\n",
    "* [EDA Audi](https://github.com/bortch/secondhandcar/blob/main/EDA_audi.ipynb)\n",
    "* [EDA All Brands train_set unprocessed](https://github.com/bortch/secondhandcar/blob/main/EDA_all_brands_train_set_unprocessed.ipynb)\n",
    "* [EDA All Brands train_set processed](https://github.com/bortch/secondhandcar/blob/main/Analyse_train_set_processed.ipynb)\n",
    "\n",
    "#### Preprocessing\n",
    "\n",
    "* [Research on light preprocessing All Brands (notebook test)](https://github.com/bortch/secondhandcar/blob/main/light_preprocessing_all_data_train_set.ipynb)\n",
    "* [Research Preprocessing All Brands (notebook test)](https://github.com/bortch/secondhandcar/blob/main/preprocessing_all_data_train_set.ipynb)"
   ]
  },
  {
   "cell_type": "markdown",
   "id": "26e51c0a",
   "metadata": {
    "slideshow": {
     "slide_type": "subslide"
    }
   },
   "source": [
    "### Scripts\n",
    "\n",
    "#### Steps Scripts\n",
    "1. [preprocessing](https://github.com/bortch/secondhandcar/blob/main/file_processing.py)\n",
    "2. [prepare data](https://github.com/bortch/secondhandcar/blob/main/prepare_data.py)\n",
    "3. [split data (unused)](https://github.com/bortch/secondhandcar/blob/main/split_data.py)\n",
    "4. Build Model:\n",
    "   * [build One Model by Brand](https://github.com/bortch/secondhandcar/blob/main/build_model_by_brand.py)\n",
    "   * [build One Model for All Brands](https://github.com/bortch/secondhandcar/blob/main/build_model_for_merged_data.py)\n",
    "   * [build model One for All Brands (incremental)](https://github.com/bortch/secondhandcar/blob/main/build_model.py)"
   ]
  },
  {
   "cell_type": "markdown",
   "id": "d08a7760",
   "metadata": {
    "slideshow": {
     "slide_type": "subslide"
    }
   },
   "source": [
    "### Libraries\n",
    "\n",
    "#### Local\n",
    "* [build model](https://github.com/bortch/secondhandcar/blob/main/build_model.py)\n",
    "* [Optimize Model](https://github.com/bortch/secondhandcar/blob/main/optimize_model.py)\n",
    "\n",
    "#### Extern\n",
    "* [bs_lib](https://github.com/bortch/bs_lib/tree/main/bs_lib)"
   ]
  }
 ],
 "metadata": {
  "celltoolbar": "Slideshow",
  "kernelspec": {
   "display_name": "Python 3",
   "language": "python",
   "name": "python3"
  },
  "language_info": {
   "codemirror_mode": {
    "name": "ipython",
    "version": 3
   },
   "file_extension": ".py",
   "mimetype": "text/x-python",
   "name": "python",
   "nbconvert_exporter": "python",
   "pygments_lexer": "ipython3",
   "version": "3.8.11"
  },
  "rise": {
   "footer": "<h3>JBS</h3>",
   "header": "<h1>UK Used Car Prediction</h1>",
   "start_slideshow_at": "beginning"
  },
  "toc": {
   "base_numbering": 1,
   "nav_menu": {},
   "number_sections": true,
   "sideBar": true,
   "skip_h1_title": true,
   "title_cell": "Table of Contents",
   "title_sidebar": "Contents",
   "toc_cell": true,
   "toc_position": {},
   "toc_section_display": false,
   "toc_window_display": false
  }
 },
 "nbformat": 4,
 "nbformat_minor": 5
}
