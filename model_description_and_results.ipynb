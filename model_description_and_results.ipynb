{
 "cells": [
  {
   "cell_type": "code",
   "execution_count": 24,
   "id": "1a7bb67f",
   "metadata": {
    "slideshow": {
     "slide_type": "skip"
    }
   },
   "outputs": [],
   "source": [
    "# autoreload reloads modules automatically before entering the execution of code typed at the IPython prompt.\n",
    "%reload_ext autoreload\n",
    "%autoreload 2\n",
    "%aimport feature_preprocessing_pipeline\n",
    "%aimport build_model_by_brand\n",
    "%aimport build_model\n",
    "%aimport build_model_for_merged_data\n",
    "%aimport prepare_data\n",
    "%aimport bs_lib.bs_preprocess_lib\n",
    "%aimport constants"
   ]
  },
  {
   "cell_type": "code",
   "execution_count": 23,
   "id": "c30d3dbb",
   "metadata": {
    "slideshow": {
     "slide_type": "skip"
    }
   },
   "outputs": [],
   "source": [
    "from sklearn import set_config\n",
    "from os import system\n",
    "from os.path import join, isfile\n",
    "from joblib import dump, load\n",
    "from feature_preprocessing_pipeline import categorize, extract_features, clean_variables\n",
    "from sklearn import tree\n",
    "import matplotlib.pyplot as plt\n",
    "import pandas as pd\n",
    "import numpy as np\n",
    "from sklearn import tree\n",
    "from sklearn.metrics import make_scorer, mean_squared_error\n",
    "from build_model_by_brand import evaluate_all_models,evaluate_all_refitted_models, get_set_split,get_best_estimators_params\n",
    "from build_model import get_one_model_for_all_iterative,evaluate_prediction\n",
    "import build_model_for_merged_data as bmmd #import evaluate_model,get_best_estimator\n",
    "from prepare_data import load_prepared_file\n",
    "from bs_lib.bs_preprocess_lib import plot_validation_curve,get_learning_curve,plot_learning_curve\n",
    "import constants as cnst\n",
    "#from dtreeviz.trees import dtreeviz"
   ]
  },
  {
   "cell_type": "code",
   "execution_count": 81,
   "id": "799b2867",
   "metadata": {
    "slideshow": {
     "slide_type": "skip"
    }
   },
   "outputs": [],
   "source": [
    "\n",
    "from IPython.core.display import display, HTML \n",
    "from sklearn.utils import estimator_html_repr \n",
    "set_config(display='diagram') "
   ]
  },
  {
   "cell_type": "code",
   "execution_count": 4,
   "id": "38116cba",
   "metadata": {
    "slideshow": {
     "slide_type": "skip"
    }
   },
   "outputs": [],
   "source": [
    "dataset_directory_path = 'dataset/'\n",
    "model_directory_path = 'model/'"
   ]
  },
  {
   "cell_type": "code",
   "execution_count": 57,
   "id": "51e30144",
   "metadata": {
    "slideshow": {
     "slide_type": "skip"
    }
   },
   "outputs": [],
   "source": [
    "model_name = 'mercedes_optimize_rmse_2427'\n",
    "model_filename = f'{model_name}.joblib'\n",
    "model_path = join(cnst.MODEL_DIR_PATH, model_filename)\n",
    "model = load(model_path)"
   ]
  },
  {
   "cell_type": "code",
   "execution_count": 82,
   "id": "346f7723",
   "metadata": {
    "slideshow": {
     "slide_type": "skip"
    }
   },
   "outputs": [],
   "source": [
    "X_test = pd.read_csv(join(dataset_directory_path, 'X_test.csv'), index_col=0)\n",
    "y_test = pd.read_csv(join(dataset_directory_path, 'y_test.csv'), index_col=0)"
   ]
  },
  {
   "cell_type": "markdown",
   "id": "5e1f1e53",
   "metadata": {
    "slideshow": {
     "slide_type": "slide"
    }
   },
   "source": [
    "## Description du model "
   ]
  },
  {
   "cell_type": "markdown",
   "id": "fe8b84c1",
   "metadata": {
    "slideshow": {
     "slide_type": "skip"
    }
   },
   "source": [
    "### Variables"
   ]
  },
  {
   "cell_type": "code",
   "execution_count": 78,
   "id": "3d36fe55",
   "metadata": {
    "slideshow": {
     "slide_type": "skip"
    }
   },
   "outputs": [
    {
     "name": "stdout",
     "output_type": "stream",
     "text": [
      "Le model RandomForestRegressor(max_depth=50, max_features=None, min_samples_split=6,\n",
      "                      n_estimators=10, n_jobs=-1, verbose=False) a 57 variables\n"
     ]
    }
   ],
   "source": [
    "rfr = model[2]\n",
    "print(f\"Le model {rfr} a {rfr.n_features_in_} variables\")"
   ]
  },
  {
   "cell_type": "markdown",
   "id": "d305d131",
   "metadata": {
    "slideshow": {
     "slide_type": "skip"
    }
   },
   "source": [
    "### Durée d'entraînement"
   ]
  },
  {
   "cell_type": "raw",
   "id": "c9a88483",
   "metadata": {
    "slideshow": {
     "slide_type": "skip"
    }
   },
   "source": [
    "Loading all_set.csv Dataset...\n",
    "all_set.csv already processed, prepared_all_set.csv loaded\n",
    "X: (78231, 9)\n",
    "y: (78231,)\n",
    "\tX_train: (58673, 9)\n",
    "\tX_val: (11734, 9)\n",
    "\tX_test: (7824, 9)\n",
    "\ty_train: (58673,)\n",
    "\ty_val: (11734,)\n",
    "\ty_test: (7824,)\n",
    "\n",
    "Loading X_train.csv Dataset...\n",
    "\n",
    "Creating Columns transformers\n",
    "\n",
    "Extract Features\n",
    "[Pipeline] ........ (step 1 of 4) Processing features_extraction,               total=   0.1s\n",
    "[ColumnTransformer] ............. (1 of 9) Processing poly,                     total=   0.1s\n",
    "[ColumnTransformer] ............. (2 of 9) Processing mpg_discretizer,          total=   0.0s\n",
    "[ColumnTransformer] ............. (3 of 9) Processing tax_discretizer,          total=   0.0s\n",
    "[ColumnTransformer] ............. (4 of 9) Processing engine_size_discretizer,  total=   0.0s\n",
    "         [Pipeline] ...................... (step 1 of 1) Processing discretize, total=   0.0s\n",
    "[ColumnTransformer] ............. (5 of 9) Processing year_pipe,                total=   0.0s\n",
    "         [Pipeline] ...................... (step 1 of 1) Processing OHE,        total=   0.1s\n",
    "[ColumnTransformer] ............. (6 of 9) Processing model_pipe,               total=   0.1s\n",
    "         [Pipeline] ...................... (step 1 of 1) Processing OHE,        total=   0.1s\n",
    "[ColumnTransformer] ............. (7 of 9) Processing brand_pipe,               total=   0.1s\n",
    "         [Pipeline] ...................... (step 1 of 1) Processing OHE,        total=   0.1s\n",
    "[ColumnTransformer] ............. (8 of 9) Processing transmission_pipe,        total=   0.1s\n",
    "         [Pipeline] ...................... (step 1 of 1) Processing OHE,        total=   0.1s\n",
    "[ColumnTransformer] ............. (9 of 9) Processing fuel_type_pipe,           total=   0.1s\n",
    "[Pipeline] ........ (step 2 of 4) Processing transformer,                       total=   0.8s\n",
    "[Pipeline] ........ (step 3 of 4) Processing scaler,                            total=   1.0s\n",
    "[Pipeline] ........ (step 4 of 4) Processing random_forest,                     total= 3.8min\n",
    "    [Parallel(n_jobs=-1)]: Using backend ThreadingBackend with 4 concurrent workers.\n",
    "    [Parallel(n_jobs=-1)]: Done  42 tasks      | elapsed:  1.7min\n",
    "    [Parallel(n_jobs=-1)]: Done 100 out of 100 | elapsed:  3.8min finished\n",
    "\n",
    "Predicting\n",
    "[Parallel(n_jobs=4)]: Using backend ThreadingBackend with 4 concurrent workers.\n",
    "[Parallel(n_jobs=4)]: Done  42 tasks      | elapsed:    0.2s\n",
    "[Parallel(n_jobs=4)]: Done 100 out of 100 | elapsed:    0.5s finished\n",
    "\n",
    "RMSE: 1778.447790820576\n"
   ]
  },
  {
   "cell_type": "code",
   "execution_count": 64,
   "id": "57f0a13e",
   "metadata": {
    "slideshow": {
     "slide_type": "skip"
    }
   },
   "outputs": [
    {
     "name": "stdout",
     "output_type": "stream",
     "text": [
      "Test set:\n",
      " X (7824, 9) y (7824, 1)\n"
     ]
    }
   ],
   "source": [
    "print(f\"Test set:\\n X {X_test.shape} y {y_test.shape}\")\n"
   ]
  },
  {
   "cell_type": "markdown",
   "id": "b2df1155",
   "metadata": {
    "slideshow": {
     "slide_type": "subslide"
    }
   },
   "source": [
    "<center><img src=\"./assets/one_model_by_brand_overview.svg\"/></center>"
   ]
  },
  {
   "cell_type": "markdown",
   "id": "7a244106",
   "metadata": {
    "slideshow": {
     "slide_type": "subslide"
    }
   },
   "source": [
    "### Traitement des fichiers sources\n",
    "<center><img src=\"./assets/file_processing.svg\"/></center>"
   ]
  },
  {
   "cell_type": "markdown",
   "id": "11d91a01",
   "metadata": {
    "slideshow": {
     "slide_type": "subslide"
    }
   },
   "source": [
    "### Préparation des données\n",
    "\n",
    "<center><img src=\"./assets/prepare_data.svg\"/></center>"
   ]
  },
  {
   "cell_type": "markdown",
   "id": "8cac99c2",
   "metadata": {
    "slideshow": {
     "slide_type": "subslide"
    }
   },
   "source": [
    "#### Suppression ou Imputation des *anomalies*\n",
    "\n",
    "<center><img src=\"./assets/outliers.svg\"/></center>"
   ]
  },
  {
   "cell_type": "markdown",
   "id": "49526ed2",
   "metadata": {
    "slideshow": {
     "slide_type": "subslide"
    }
   },
   "source": [
    "### Séparation des données\n",
    "\n",
    "<center><img src=\"./assets/split_data.svg\"/></center>"
   ]
  },
  {
   "cell_type": "markdown",
   "id": "7600e9f3",
   "metadata": {
    "slideshow": {
     "slide_type": "subslide"
    }
   },
   "source": [
    "### Création du Modèle\n",
    "\n",
    "<center><img src=\"./assets/build_model.svg\"/></center>"
   ]
  },
  {
   "cell_type": "markdown",
   "id": "6e691b85",
   "metadata": {
    "slideshow": {
     "slide_type": "subslide"
    }
   },
   "source": [
    "#### Extract Features\n",
    "\n",
    "Création de nouvelles variables:\n",
    "1. `age`: $max(year)-year$\n",
    "1. `model_count`: nombre d'occurence du modèle dans le dataset\n",
    "1. `occurence_relative`: $\\frac{count(model)}{count(allmodel)}$\n",
    "1. `mileage_per_year`: $\\frac{mileage}{age}$\n",
    "1. `mpg_per_year`: $\\frac{mpg}{age}$\n",
    "1. `tax_per_year`: $\\frac{tax}{age}$\n",
    "1. `engine_size_per_year`: $\\frac{enginesize}{age}$\n",
    "1. `esoteric_composite_ratio`\n",
    "\n",
    "Suivant la marque de voiture et/ou le modèle de prédiction créé, certaines améliorent le score de prédictions."
   ]
  },
  {
   "cell_type": "markdown",
   "id": "db3c41a4",
   "metadata": {
    "slideshow": {
     "slide_type": "subslide"
    }
   },
   "source": [
    "#### Transform Features\n",
    "1. `PolynomialFeature` pour les variables numériques.\n",
    "1. `KBinsDiscretizer` pour les variables `mpg`, `tax`, `engine_size`, `year`.\n",
    "1. `OneHotEncoder` ou `OrdinalEncoder` pour les variables `model`, `brand`, `transmission`, `fuel_type`. \n",
    "\n",
    "Pour l'`OrdinalEncoder`, les catégories ont été triées relativement à la variable dépendante `price` par **ordre ascendant**.\n"
   ]
  },
  {
   "cell_type": "markdown",
   "id": "ff198cf1",
   "metadata": {
    "slideshow": {
     "slide_type": "subslide"
    }
   },
   "source": [
    "### Pipeline\n",
    "\n",
    "<center><img src=\"./assets/pipeline.svg\"/></center>"
   ]
  },
  {
   "cell_type": "markdown",
   "id": "d29bc0e5",
   "metadata": {
    "slideshow": {
     "slide_type": "subslide"
    }
   },
   "source": [
    "### Valeurs des paramètres du pipeline\n",
    "\n",
    "<center><img src=\"./assets/best_params_search.svg\"/></center>"
   ]
  },
  {
   "cell_type": "raw",
   "id": "d2de6716",
   "metadata": {
    "slideshow": {
     "slide_type": "subslide"
    }
   },
   "source": [
    "Loading ./dataset/prepared_data/toyota.csv\n",
    "\n",
    "(...)\n",
    "\n",
    "New best score for this combination:\n",
    "\n",
    "Best score 918.9770768190458\n",
    "Best params \n",
    "{'transformer__poly': 'passthrough',\n",
    " 'transformer__mpg_pipe': {'transformer__mpg_pipe__discretize__encode': 'ordinal',  \n",
    "                           'transformer__mpg_pipe__discretize__n_bins': 6,\n",
    "                           'transformer__mpg_pipe__discretize__strategy': 'uniform'}, \n",
    " 'transformer__tax_pipe': 'passthrough', \n",
    " 'transformer__engine_size_pipe': 'passthrough', \n",
    " 'transformer__year_pipe': 'passthrough'}\n",
    "\n",
    "(...)\n",
    "\n",
    "Toyota - Best score 918.9770768190458\n",
    "Toyota - Best params {...}\n",
    "Best Model saved @ ./model/toyota_optimize.joblib"
   ]
  },
  {
   "cell_type": "markdown",
   "id": "74b488e0",
   "metadata": {
    "slideshow": {
     "slide_type": "slide"
    }
   },
   "source": [
    "## Recherche de Modèles\n",
    "\n",
    "1. Un modèle par marque\n",
    "1. Un modèle pour toutes les marques\n",
    "1. Un modèle incrémental pour toutes les marques"
   ]
  },
  {
   "cell_type": "markdown",
   "id": "69ca0b9f",
   "metadata": {
    "slideshow": {
     "slide_type": "slide"
    }
   },
   "source": [
    "### Couches d'optimisation du modèle\n",
    "\n",
    "<center><img src=\"./assets/optimization.svg\"/></center>"
   ]
  },
  {
   "cell_type": "markdown",
   "id": "b9ea6ac5",
   "metadata": {
    "slideshow": {
     "slide_type": "slide"
    }
   },
   "source": [
    "### Par marques\n",
    "\n",
    "Création d'un modèle par marques"
   ]
  },
  {
   "cell_type": "markdown",
   "id": "e00ba6a2",
   "metadata": {
    "slideshow": {
     "slide_type": "subslide"
    }
   },
   "source": [
    "#### Évaluation du modèle de base"
   ]
  },
  {
   "cell_type": "code",
   "execution_count": 135,
   "id": "f7404691",
   "metadata": {
    "slideshow": {
     "slide_type": "subslide"
    }
   },
   "outputs": [
    {
     "data": {
      "text/html": [
       "<pre style=\"white-space:pre;overflow-x:auto;line-height:normal;font-family:Menlo,'DejaVu Sans Mono',consolas,'Courier New',monospace\"><span style=\"color: #000000; text-decoration-color: #000000; background-color: #ffffff; font-weight: bold\">PERFORMANCE COMPARISON</span> <span style=\"color: #000000; text-decoration-color: #000000; background-color: #ffffff\">──────────────────────────────────────────────────────────────────────</span>\n",
       "</pre>\n"
      ],
      "text/plain": [
       "\u001b[1;52;30;107mPERFORMANCE COMPARISON\u001b[0m \u001b[30;107m──────────────────────────────────────────────────────────────────────\u001b[0m\n"
      ]
     },
     "metadata": {},
     "output_type": "display_data"
    },
    {
     "data": {
      "text/html": [
       "<pre style=\"white-space:pre;overflow-x:auto;line-height:normal;font-family:Menlo,'DejaVu Sans Mono',consolas,'Courier New',monospace\"><span style=\"color: #000000; text-decoration-color: #000000; background-color: #ffffff; font-style: italic\">One model by Brand                                                  </span>\n",
       "<span style=\"color: #000000; text-decoration-color: #000000; background-color: #ffffff\">┏━━━━━━━━━━┳━━━━━━┳━━━━━━━━━━━━━┳━━━━━━━━━━━━━━━━━┳━━━━━━━━━━━━━━━━┓</span>\n",
       "<span style=\"color: #000000; text-decoration-color: #000000; background-color: #ffffff\">┃  Brand   ┃ RMSE ┃ Target mean ┃ Prediction mean ┃   Model path   ┃</span>\n",
       "<span style=\"color: #000000; text-decoration-color: #000000; background-color: #ffffff\">┡━━━━━━━━━━╇━━━━━━╇━━━━━━━━━━━━━╇━━━━━━━━━━━━━━━━━╇━━━━━━━━━━━━━━━━┩</span>\n",
       "<span style=\"color: #000000; text-decoration-color: #000000; background-color: #ffffff\">│   Audi   │ </span><span style=\"color: #008080; text-decoration-color: #008080; background-color: #ffffff; font-weight: bold\">2866</span><span style=\"color: #000000; text-decoration-color: #000000; background-color: #ffffff\"> │    </span><span style=\"color: #008080; text-decoration-color: #008080; background-color: #ffffff; font-weight: bold\">23179</span><span style=\"color: #000000; text-decoration-color: #000000; background-color: #ffffff\">    │      </span><span style=\"color: #008080; text-decoration-color: #008080; background-color: #ffffff; font-weight: bold\">23099</span><span style=\"color: #000000; text-decoration-color: #000000; background-color: #ffffff\">      │   audi_model   │</span>\n",
       "<span style=\"color: #000000; text-decoration-color: #000000; background-color: #ffffff\">│   Bmw    │ </span><span style=\"color: #008080; text-decoration-color: #008080; background-color: #ffffff; font-weight: bold\">2534</span><span style=\"color: #000000; text-decoration-color: #000000; background-color: #ffffff\"> │    </span><span style=\"color: #008080; text-decoration-color: #008080; background-color: #ffffff; font-weight: bold\">22672</span><span style=\"color: #000000; text-decoration-color: #000000; background-color: #ffffff\">    │      </span><span style=\"color: #008080; text-decoration-color: #008080; background-color: #ffffff; font-weight: bold\">22507</span><span style=\"color: #000000; text-decoration-color: #000000; background-color: #ffffff\">      │   bmw_model    │</span>\n",
       "<span style=\"color: #000000; text-decoration-color: #000000; background-color: #ffffff\">│   Ford   │ </span><span style=\"color: #008080; text-decoration-color: #008080; background-color: #ffffff; font-weight: bold\">1402</span><span style=\"color: #000000; text-decoration-color: #000000; background-color: #ffffff\"> │    </span><span style=\"color: #008080; text-decoration-color: #008080; background-color: #ffffff; font-weight: bold\">12334</span><span style=\"color: #000000; text-decoration-color: #000000; background-color: #ffffff\">    │      </span><span style=\"color: #008080; text-decoration-color: #008080; background-color: #ffffff; font-weight: bold\">12326</span><span style=\"color: #000000; text-decoration-color: #000000; background-color: #ffffff\">      │   ford_model   │</span>\n",
       "<span style=\"color: #000000; text-decoration-color: #000000; background-color: #ffffff\">│ Hyundai  │ </span><span style=\"color: #008080; text-decoration-color: #008080; background-color: #ffffff; font-weight: bold\">1585</span><span style=\"color: #000000; text-decoration-color: #000000; background-color: #ffffff\"> │    </span><span style=\"color: #008080; text-decoration-color: #008080; background-color: #ffffff; font-weight: bold\">12785</span><span style=\"color: #000000; text-decoration-color: #000000; background-color: #ffffff\">    │      </span><span style=\"color: #008080; text-decoration-color: #008080; background-color: #ffffff; font-weight: bold\">12888</span><span style=\"color: #000000; text-decoration-color: #000000; background-color: #ffffff\">      │ hyundai_model  │</span>\n",
       "<span style=\"color: #000000; text-decoration-color: #000000; background-color: #ffffff\">│ Mercedes │ </span><span style=\"color: #008080; text-decoration-color: #008080; background-color: #ffffff; font-weight: bold\">3469</span><span style=\"color: #000000; text-decoration-color: #000000; background-color: #ffffff\"> │    </span><span style=\"color: #008080; text-decoration-color: #008080; background-color: #ffffff; font-weight: bold\">24313</span><span style=\"color: #000000; text-decoration-color: #000000; background-color: #ffffff\">    │      </span><span style=\"color: #008080; text-decoration-color: #008080; background-color: #ffffff; font-weight: bold\">24126</span><span style=\"color: #000000; text-decoration-color: #000000; background-color: #ffffff\">      │ mercedes_model │</span>\n",
       "<span style=\"color: #000000; text-decoration-color: #000000; background-color: #ffffff\">│   Opel   │ </span><span style=\"color: #008080; text-decoration-color: #008080; background-color: #ffffff; font-weight: bold\">1146</span><span style=\"color: #000000; text-decoration-color: #000000; background-color: #ffffff\"> │    </span><span style=\"color: #008080; text-decoration-color: #008080; background-color: #ffffff; font-weight: bold\">10303</span><span style=\"color: #000000; text-decoration-color: #000000; background-color: #ffffff\">    │      </span><span style=\"color: #008080; text-decoration-color: #008080; background-color: #ffffff; font-weight: bold\">10228</span><span style=\"color: #000000; text-decoration-color: #000000; background-color: #ffffff\">      │   opel_model   │</span>\n",
       "<span style=\"color: #000000; text-decoration-color: #000000; background-color: #ffffff\">│  Skoda   │ </span><span style=\"color: #008080; text-decoration-color: #008080; background-color: #ffffff; font-weight: bold\">2743</span><span style=\"color: #000000; text-decoration-color: #000000; background-color: #ffffff\"> │    </span><span style=\"color: #008080; text-decoration-color: #008080; background-color: #ffffff; font-weight: bold\">14248</span><span style=\"color: #000000; text-decoration-color: #000000; background-color: #ffffff\">    │      </span><span style=\"color: #008080; text-decoration-color: #008080; background-color: #ffffff; font-weight: bold\">14099</span><span style=\"color: #000000; text-decoration-color: #000000; background-color: #ffffff\">      │  skoda_model   │</span>\n",
       "<span style=\"color: #000000; text-decoration-color: #000000; background-color: #ffffff\">│  Toyota  │ </span><span style=\"color: #008080; text-decoration-color: #008080; background-color: #ffffff; font-weight: bold\">1504</span><span style=\"color: #000000; text-decoration-color: #000000; background-color: #ffffff\"> │    </span><span style=\"color: #008080; text-decoration-color: #008080; background-color: #ffffff; font-weight: bold\">12185</span><span style=\"color: #000000; text-decoration-color: #000000; background-color: #ffffff\">    │      </span><span style=\"color: #008080; text-decoration-color: #008080; background-color: #ffffff; font-weight: bold\">12134</span><span style=\"color: #000000; text-decoration-color: #000000; background-color: #ffffff\">      │  toyota_model  │</span>\n",
       "<span style=\"color: #000000; text-decoration-color: #000000; background-color: #ffffff\">│    Vw    │ </span><span style=\"color: #008080; text-decoration-color: #008080; background-color: #ffffff; font-weight: bold\">2026</span><span style=\"color: #000000; text-decoration-color: #000000; background-color: #ffffff\"> │    </span><span style=\"color: #008080; text-decoration-color: #008080; background-color: #ffffff; font-weight: bold\">16832</span><span style=\"color: #000000; text-decoration-color: #000000; background-color: #ffffff\">    │      </span><span style=\"color: #008080; text-decoration-color: #008080; background-color: #ffffff; font-weight: bold\">16723</span><span style=\"color: #000000; text-decoration-color: #000000; background-color: #ffffff\">      │    vw_model    │</span>\n",
       "<span style=\"color: #000000; text-decoration-color: #000000; background-color: #ffffff\">└──────────┴──────┴─────────────┴─────────────────┴────────────────┘</span>\n",
       "</pre>\n"
      ],
      "text/plain": [
       "\u001b[3;30;107mOne model by Brand                                                  \u001b[0m\n",
       "\u001b[30;107m┏━━━━━━━━━━┳━━━━━━┳━━━━━━━━━━━━━┳━━━━━━━━━━━━━━━━━┳━━━━━━━━━━━━━━━━┓\u001b[0m\n",
       "\u001b[30;107m┃\u001b[0m\u001b[30;107m \u001b[0m\u001b[30;107m Brand  \u001b[0m\u001b[30;107m \u001b[0m\u001b[30;107m┃\u001b[0m\u001b[30;107m \u001b[0m\u001b[30;107mRMSE\u001b[0m\u001b[30;107m \u001b[0m\u001b[30;107m┃\u001b[0m\u001b[30;107m \u001b[0m\u001b[30;107mTarget mean\u001b[0m\u001b[30;107m \u001b[0m\u001b[30;107m┃\u001b[0m\u001b[30;107m \u001b[0m\u001b[30;107mPrediction mean\u001b[0m\u001b[30;107m \u001b[0m\u001b[30;107m┃\u001b[0m\u001b[30;107m \u001b[0m\u001b[30;107m  Model path  \u001b[0m\u001b[30;107m \u001b[0m\u001b[30;107m┃\u001b[0m\n",
       "\u001b[30;107m┡━━━━━━━━━━╇━━━━━━╇━━━━━━━━━━━━━╇━━━━━━━━━━━━━━━━━╇━━━━━━━━━━━━━━━━┩\u001b[0m\n",
       "\u001b[30;107m│\u001b[0m\u001b[30;107m \u001b[0m\u001b[30;107m  Audi  \u001b[0m\u001b[30;107m \u001b[0m\u001b[30;107m│\u001b[0m\u001b[30;107m \u001b[0m\u001b[1;36;107m2866\u001b[0m\u001b[30;107m \u001b[0m\u001b[30;107m│\u001b[0m\u001b[30;107m \u001b[0m\u001b[30;107m   \u001b[0m\u001b[1;36;107m23179\u001b[0m\u001b[30;107m   \u001b[0m\u001b[30;107m \u001b[0m\u001b[30;107m│\u001b[0m\u001b[30;107m \u001b[0m\u001b[30;107m     \u001b[0m\u001b[1;36;107m23099\u001b[0m\u001b[30;107m     \u001b[0m\u001b[30;107m \u001b[0m\u001b[30;107m│\u001b[0m\u001b[30;107m \u001b[0m\u001b[30;107m  audi_model  \u001b[0m\u001b[30;107m \u001b[0m\u001b[30;107m│\u001b[0m\n",
       "\u001b[30;107m│\u001b[0m\u001b[30;107m \u001b[0m\u001b[30;107m  Bmw   \u001b[0m\u001b[30;107m \u001b[0m\u001b[30;107m│\u001b[0m\u001b[30;107m \u001b[0m\u001b[1;36;107m2534\u001b[0m\u001b[30;107m \u001b[0m\u001b[30;107m│\u001b[0m\u001b[30;107m \u001b[0m\u001b[30;107m   \u001b[0m\u001b[1;36;107m22672\u001b[0m\u001b[30;107m   \u001b[0m\u001b[30;107m \u001b[0m\u001b[30;107m│\u001b[0m\u001b[30;107m \u001b[0m\u001b[30;107m     \u001b[0m\u001b[1;36;107m22507\u001b[0m\u001b[30;107m     \u001b[0m\u001b[30;107m \u001b[0m\u001b[30;107m│\u001b[0m\u001b[30;107m \u001b[0m\u001b[30;107m  bmw_model   \u001b[0m\u001b[30;107m \u001b[0m\u001b[30;107m│\u001b[0m\n",
       "\u001b[30;107m│\u001b[0m\u001b[30;107m \u001b[0m\u001b[30;107m  Ford  \u001b[0m\u001b[30;107m \u001b[0m\u001b[30;107m│\u001b[0m\u001b[30;107m \u001b[0m\u001b[1;36;107m1402\u001b[0m\u001b[30;107m \u001b[0m\u001b[30;107m│\u001b[0m\u001b[30;107m \u001b[0m\u001b[30;107m   \u001b[0m\u001b[1;36;107m12334\u001b[0m\u001b[30;107m   \u001b[0m\u001b[30;107m \u001b[0m\u001b[30;107m│\u001b[0m\u001b[30;107m \u001b[0m\u001b[30;107m     \u001b[0m\u001b[1;36;107m12326\u001b[0m\u001b[30;107m     \u001b[0m\u001b[30;107m \u001b[0m\u001b[30;107m│\u001b[0m\u001b[30;107m \u001b[0m\u001b[30;107m  ford_model  \u001b[0m\u001b[30;107m \u001b[0m\u001b[30;107m│\u001b[0m\n",
       "\u001b[30;107m│\u001b[0m\u001b[30;107m \u001b[0m\u001b[30;107mHyundai \u001b[0m\u001b[30;107m \u001b[0m\u001b[30;107m│\u001b[0m\u001b[30;107m \u001b[0m\u001b[1;36;107m1585\u001b[0m\u001b[30;107m \u001b[0m\u001b[30;107m│\u001b[0m\u001b[30;107m \u001b[0m\u001b[30;107m   \u001b[0m\u001b[1;36;107m12785\u001b[0m\u001b[30;107m   \u001b[0m\u001b[30;107m \u001b[0m\u001b[30;107m│\u001b[0m\u001b[30;107m \u001b[0m\u001b[30;107m     \u001b[0m\u001b[1;36;107m12888\u001b[0m\u001b[30;107m     \u001b[0m\u001b[30;107m \u001b[0m\u001b[30;107m│\u001b[0m\u001b[30;107m \u001b[0m\u001b[30;107mhyundai_model \u001b[0m\u001b[30;107m \u001b[0m\u001b[30;107m│\u001b[0m\n",
       "\u001b[30;107m│\u001b[0m\u001b[30;107m \u001b[0m\u001b[30;107mMercedes\u001b[0m\u001b[30;107m \u001b[0m\u001b[30;107m│\u001b[0m\u001b[30;107m \u001b[0m\u001b[1;36;107m3469\u001b[0m\u001b[30;107m \u001b[0m\u001b[30;107m│\u001b[0m\u001b[30;107m \u001b[0m\u001b[30;107m   \u001b[0m\u001b[1;36;107m24313\u001b[0m\u001b[30;107m   \u001b[0m\u001b[30;107m \u001b[0m\u001b[30;107m│\u001b[0m\u001b[30;107m \u001b[0m\u001b[30;107m     \u001b[0m\u001b[1;36;107m24126\u001b[0m\u001b[30;107m     \u001b[0m\u001b[30;107m \u001b[0m\u001b[30;107m│\u001b[0m\u001b[30;107m \u001b[0m\u001b[30;107mmercedes_model\u001b[0m\u001b[30;107m \u001b[0m\u001b[30;107m│\u001b[0m\n",
       "\u001b[30;107m│\u001b[0m\u001b[30;107m \u001b[0m\u001b[30;107m  Opel  \u001b[0m\u001b[30;107m \u001b[0m\u001b[30;107m│\u001b[0m\u001b[30;107m \u001b[0m\u001b[1;36;107m1146\u001b[0m\u001b[30;107m \u001b[0m\u001b[30;107m│\u001b[0m\u001b[30;107m \u001b[0m\u001b[30;107m   \u001b[0m\u001b[1;36;107m10303\u001b[0m\u001b[30;107m   \u001b[0m\u001b[30;107m \u001b[0m\u001b[30;107m│\u001b[0m\u001b[30;107m \u001b[0m\u001b[30;107m     \u001b[0m\u001b[1;36;107m10228\u001b[0m\u001b[30;107m     \u001b[0m\u001b[30;107m \u001b[0m\u001b[30;107m│\u001b[0m\u001b[30;107m \u001b[0m\u001b[30;107m  opel_model  \u001b[0m\u001b[30;107m \u001b[0m\u001b[30;107m│\u001b[0m\n",
       "\u001b[30;107m│\u001b[0m\u001b[30;107m \u001b[0m\u001b[30;107m Skoda  \u001b[0m\u001b[30;107m \u001b[0m\u001b[30;107m│\u001b[0m\u001b[30;107m \u001b[0m\u001b[1;36;107m2743\u001b[0m\u001b[30;107m \u001b[0m\u001b[30;107m│\u001b[0m\u001b[30;107m \u001b[0m\u001b[30;107m   \u001b[0m\u001b[1;36;107m14248\u001b[0m\u001b[30;107m   \u001b[0m\u001b[30;107m \u001b[0m\u001b[30;107m│\u001b[0m\u001b[30;107m \u001b[0m\u001b[30;107m     \u001b[0m\u001b[1;36;107m14099\u001b[0m\u001b[30;107m     \u001b[0m\u001b[30;107m \u001b[0m\u001b[30;107m│\u001b[0m\u001b[30;107m \u001b[0m\u001b[30;107m skoda_model  \u001b[0m\u001b[30;107m \u001b[0m\u001b[30;107m│\u001b[0m\n",
       "\u001b[30;107m│\u001b[0m\u001b[30;107m \u001b[0m\u001b[30;107m Toyota \u001b[0m\u001b[30;107m \u001b[0m\u001b[30;107m│\u001b[0m\u001b[30;107m \u001b[0m\u001b[1;36;107m1504\u001b[0m\u001b[30;107m \u001b[0m\u001b[30;107m│\u001b[0m\u001b[30;107m \u001b[0m\u001b[30;107m   \u001b[0m\u001b[1;36;107m12185\u001b[0m\u001b[30;107m   \u001b[0m\u001b[30;107m \u001b[0m\u001b[30;107m│\u001b[0m\u001b[30;107m \u001b[0m\u001b[30;107m     \u001b[0m\u001b[1;36;107m12134\u001b[0m\u001b[30;107m     \u001b[0m\u001b[30;107m \u001b[0m\u001b[30;107m│\u001b[0m\u001b[30;107m \u001b[0m\u001b[30;107m toyota_model \u001b[0m\u001b[30;107m \u001b[0m\u001b[30;107m│\u001b[0m\n",
       "\u001b[30;107m│\u001b[0m\u001b[30;107m \u001b[0m\u001b[30;107m   Vw   \u001b[0m\u001b[30;107m \u001b[0m\u001b[30;107m│\u001b[0m\u001b[30;107m \u001b[0m\u001b[1;36;107m2026\u001b[0m\u001b[30;107m \u001b[0m\u001b[30;107m│\u001b[0m\u001b[30;107m \u001b[0m\u001b[30;107m   \u001b[0m\u001b[1;36;107m16832\u001b[0m\u001b[30;107m   \u001b[0m\u001b[30;107m \u001b[0m\u001b[30;107m│\u001b[0m\u001b[30;107m \u001b[0m\u001b[30;107m     \u001b[0m\u001b[1;36;107m16723\u001b[0m\u001b[30;107m     \u001b[0m\u001b[30;107m \u001b[0m\u001b[30;107m│\u001b[0m\u001b[30;107m \u001b[0m\u001b[30;107m   vw_model   \u001b[0m\u001b[30;107m \u001b[0m\u001b[30;107m│\u001b[0m\n",
       "\u001b[30;107m└──────────┴──────┴─────────────┴─────────────────┴────────────────┘\u001b[0m\n"
      ]
     },
     "metadata": {},
     "output_type": "display_data"
    }
   ],
   "source": [
    "evaluate_all_models(search_term='model',exclude=['base_score','all_brand'])"
   ]
  },
  {
   "cell_type": "markdown",
   "id": "0f955ad9",
   "metadata": {
    "slideshow": {
     "slide_type": "subslide"
    }
   },
   "source": [
    "#### Optimisation des transformations"
   ]
  },
  {
   "cell_type": "code",
   "execution_count": 132,
   "id": "25dbf2d3",
   "metadata": {
    "slideshow": {
     "slide_type": "subslide"
    }
   },
   "outputs": [
    {
     "data": {
      "text/html": [
       "<pre style=\"white-space:pre;overflow-x:auto;line-height:normal;font-family:Menlo,'DejaVu Sans Mono',consolas,'Courier New',monospace\"><span style=\"color: #000000; text-decoration-color: #000000; background-color: #ffffff; font-weight: bold\">PERFORMANCE COMPARISON</span> <span style=\"color: #000000; text-decoration-color: #000000; background-color: #ffffff\">──────────────────────────────────────────────────────────────────────</span>\n",
       "</pre>\n"
      ],
      "text/plain": [
       "\u001b[1;52;30;107mPERFORMANCE COMPARISON\u001b[0m \u001b[30;107m──────────────────────────────────────────────────────────────────────\u001b[0m\n"
      ]
     },
     "metadata": {},
     "output_type": "display_data"
    },
    {
     "data": {
      "text/html": [
       "<pre style=\"white-space:pre;overflow-x:auto;line-height:normal;font-family:Menlo,'DejaVu Sans Mono',consolas,'Courier New',monospace\"><span style=\"color: #000000; text-decoration-color: #000000; background-color: #ffffff; font-style: italic\">One model by Brand                                                               </span>\n",
       "<span style=\"color: #000000; text-decoration-color: #000000; background-color: #ffffff\">┏━━━━━━━━━━┳━━━━━━┳━━━━━━━━━━━━━┳━━━━━━━━━━━━━━━━━┳━━━━━━━━━━━━━━━━━━━━━━━━━━━━━┓</span>\n",
       "<span style=\"color: #000000; text-decoration-color: #000000; background-color: #ffffff\">┃  Brand   ┃ RMSE ┃ Target mean ┃ Prediction mean ┃         Model path          ┃</span>\n",
       "<span style=\"color: #000000; text-decoration-color: #000000; background-color: #ffffff\">┡━━━━━━━━━━╇━━━━━━╇━━━━━━━━━━━━━╇━━━━━━━━━━━━━━━━━╇━━━━━━━━━━━━━━━━━━━━━━━━━━━━━┩</span>\n",
       "<span style=\"color: #000000; text-decoration-color: #000000; background-color: #ffffff\">│   Audi   │ </span><span style=\"color: #008080; text-decoration-color: #008080; background-color: #ffffff; font-weight: bold\">1842</span><span style=\"color: #000000; text-decoration-color: #000000; background-color: #ffffff\"> │    </span><span style=\"color: #008080; text-decoration-color: #008080; background-color: #ffffff; font-weight: bold\">23179</span><span style=\"color: #000000; text-decoration-color: #000000; background-color: #ffffff\">    │      </span><span style=\"color: #008080; text-decoration-color: #008080; background-color: #ffffff; font-weight: bold\">23047</span><span style=\"color: #000000; text-decoration-color: #000000; background-color: #ffffff\">      │   audi_optimize_rmse_1842   │</span>\n",
       "<span style=\"color: #000000; text-decoration-color: #000000; background-color: #ffffff\">│   Bmw    │ </span><span style=\"color: #008080; text-decoration-color: #008080; background-color: #ffffff; font-weight: bold\">1635</span><span style=\"color: #000000; text-decoration-color: #000000; background-color: #ffffff\"> │    </span><span style=\"color: #008080; text-decoration-color: #008080; background-color: #ffffff; font-weight: bold\">22672</span><span style=\"color: #000000; text-decoration-color: #000000; background-color: #ffffff\">    │      </span><span style=\"color: #008080; text-decoration-color: #008080; background-color: #ffffff; font-weight: bold\">22553</span><span style=\"color: #000000; text-decoration-color: #000000; background-color: #ffffff\">      │   bmw_optimize_rmse_1635    │</span>\n",
       "<span style=\"color: #000000; text-decoration-color: #000000; background-color: #ffffff\">│   Ford   │ </span><span style=\"color: #008080; text-decoration-color: #008080; background-color: #ffffff; font-weight: bold\">801</span><span style=\"color: #000000; text-decoration-color: #000000; background-color: #ffffff\">  │    </span><span style=\"color: #008080; text-decoration-color: #008080; background-color: #ffffff; font-weight: bold\">12334</span><span style=\"color: #000000; text-decoration-color: #000000; background-color: #ffffff\">    │      </span><span style=\"color: #008080; text-decoration-color: #008080; background-color: #ffffff; font-weight: bold\">12276</span><span style=\"color: #000000; text-decoration-color: #000000; background-color: #ffffff\">      │   ford_optimize_rmse_801    │</span>\n",
       "<span style=\"color: #000000; text-decoration-color: #000000; background-color: #ffffff\">│ Hyundai  │ </span><span style=\"color: #008080; text-decoration-color: #008080; background-color: #ffffff; font-weight: bold\">733</span><span style=\"color: #000000; text-decoration-color: #000000; background-color: #ffffff\">  │    </span><span style=\"color: #008080; text-decoration-color: #008080; background-color: #ffffff; font-weight: bold\">12785</span><span style=\"color: #000000; text-decoration-color: #000000; background-color: #ffffff\">    │      </span><span style=\"color: #008080; text-decoration-color: #008080; background-color: #ffffff; font-weight: bold\">12731</span><span style=\"color: #000000; text-decoration-color: #000000; background-color: #ffffff\">      │  hyundai_optimize_rmse_733  │</span>\n",
       "<span style=\"color: #000000; text-decoration-color: #000000; background-color: #ffffff\">│ Mercedes │ </span><span style=\"color: #008080; text-decoration-color: #008080; background-color: #ffffff; font-weight: bold\">2427</span><span style=\"color: #000000; text-decoration-color: #000000; background-color: #ffffff\"> │    </span><span style=\"color: #008080; text-decoration-color: #008080; background-color: #ffffff; font-weight: bold\">24313</span><span style=\"color: #000000; text-decoration-color: #000000; background-color: #ffffff\">    │      </span><span style=\"color: #008080; text-decoration-color: #008080; background-color: #ffffff; font-weight: bold\">24156</span><span style=\"color: #000000; text-decoration-color: #000000; background-color: #ffffff\">      │ mercedes_optimize_rmse_2427 │</span>\n",
       "<span style=\"color: #000000; text-decoration-color: #000000; background-color: #ffffff\">│   Opel   │ </span><span style=\"color: #008080; text-decoration-color: #008080; background-color: #ffffff; font-weight: bold\">679</span><span style=\"color: #000000; text-decoration-color: #000000; background-color: #ffffff\">  │    </span><span style=\"color: #008080; text-decoration-color: #008080; background-color: #ffffff; font-weight: bold\">10303</span><span style=\"color: #000000; text-decoration-color: #000000; background-color: #ffffff\">    │      </span><span style=\"color: #008080; text-decoration-color: #008080; background-color: #ffffff; font-weight: bold\">10255</span><span style=\"color: #000000; text-decoration-color: #000000; background-color: #ffffff\">      │   opel_optimize_rmse_679    │</span>\n",
       "<span style=\"color: #000000; text-decoration-color: #000000; background-color: #ffffff\">│  Skoda   │ </span><span style=\"color: #008080; text-decoration-color: #008080; background-color: #ffffff; font-weight: bold\">1428</span><span style=\"color: #000000; text-decoration-color: #000000; background-color: #ffffff\"> │    </span><span style=\"color: #008080; text-decoration-color: #008080; background-color: #ffffff; font-weight: bold\">14248</span><span style=\"color: #000000; text-decoration-color: #000000; background-color: #ffffff\">    │      </span><span style=\"color: #008080; text-decoration-color: #008080; background-color: #ffffff; font-weight: bold\">14163</span><span style=\"color: #000000; text-decoration-color: #000000; background-color: #ffffff\">      │  skoda_optimize_rmse_1428   │</span>\n",
       "<span style=\"color: #000000; text-decoration-color: #000000; background-color: #ffffff\">│  Toyota  │ </span><span style=\"color: #008080; text-decoration-color: #008080; background-color: #ffffff; font-weight: bold\">919</span><span style=\"color: #000000; text-decoration-color: #000000; background-color: #ffffff\">  │    </span><span style=\"color: #008080; text-decoration-color: #008080; background-color: #ffffff; font-weight: bold\">12185</span><span style=\"color: #000000; text-decoration-color: #000000; background-color: #ffffff\">    │      </span><span style=\"color: #008080; text-decoration-color: #008080; background-color: #ffffff; font-weight: bold\">12106</span><span style=\"color: #000000; text-decoration-color: #000000; background-color: #ffffff\">      │  toyota_optimize_rmse_919   │</span>\n",
       "<span style=\"color: #000000; text-decoration-color: #000000; background-color: #ffffff\">│    Vw    │ </span><span style=\"color: #008080; text-decoration-color: #008080; background-color: #ffffff; font-weight: bold\">1162</span><span style=\"color: #000000; text-decoration-color: #000000; background-color: #ffffff\"> │    </span><span style=\"color: #008080; text-decoration-color: #008080; background-color: #ffffff; font-weight: bold\">16832</span><span style=\"color: #000000; text-decoration-color: #000000; background-color: #ffffff\">    │      </span><span style=\"color: #008080; text-decoration-color: #008080; background-color: #ffffff; font-weight: bold\">16777</span><span style=\"color: #000000; text-decoration-color: #000000; background-color: #ffffff\">      │    vw_optimize_rmse_1162    │</span>\n",
       "<span style=\"color: #000000; text-decoration-color: #000000; background-color: #ffffff\">└──────────┴──────┴─────────────┴─────────────────┴─────────────────────────────┘</span>\n",
       "</pre>\n"
      ],
      "text/plain": [
       "\u001b[3;30;107mOne model by Brand                                                               \u001b[0m\n",
       "\u001b[30;107m┏━━━━━━━━━━┳━━━━━━┳━━━━━━━━━━━━━┳━━━━━━━━━━━━━━━━━┳━━━━━━━━━━━━━━━━━━━━━━━━━━━━━┓\u001b[0m\n",
       "\u001b[30;107m┃\u001b[0m\u001b[30;107m \u001b[0m\u001b[30;107m Brand  \u001b[0m\u001b[30;107m \u001b[0m\u001b[30;107m┃\u001b[0m\u001b[30;107m \u001b[0m\u001b[30;107mRMSE\u001b[0m\u001b[30;107m \u001b[0m\u001b[30;107m┃\u001b[0m\u001b[30;107m \u001b[0m\u001b[30;107mTarget mean\u001b[0m\u001b[30;107m \u001b[0m\u001b[30;107m┃\u001b[0m\u001b[30;107m \u001b[0m\u001b[30;107mPrediction mean\u001b[0m\u001b[30;107m \u001b[0m\u001b[30;107m┃\u001b[0m\u001b[30;107m \u001b[0m\u001b[30;107m        Model path         \u001b[0m\u001b[30;107m \u001b[0m\u001b[30;107m┃\u001b[0m\n",
       "\u001b[30;107m┡━━━━━━━━━━╇━━━━━━╇━━━━━━━━━━━━━╇━━━━━━━━━━━━━━━━━╇━━━━━━━━━━━━━━━━━━━━━━━━━━━━━┩\u001b[0m\n",
       "\u001b[30;107m│\u001b[0m\u001b[30;107m \u001b[0m\u001b[30;107m  Audi  \u001b[0m\u001b[30;107m \u001b[0m\u001b[30;107m│\u001b[0m\u001b[30;107m \u001b[0m\u001b[1;36;107m1842\u001b[0m\u001b[30;107m \u001b[0m\u001b[30;107m│\u001b[0m\u001b[30;107m \u001b[0m\u001b[30;107m   \u001b[0m\u001b[1;36;107m23179\u001b[0m\u001b[30;107m   \u001b[0m\u001b[30;107m \u001b[0m\u001b[30;107m│\u001b[0m\u001b[30;107m \u001b[0m\u001b[30;107m     \u001b[0m\u001b[1;36;107m23047\u001b[0m\u001b[30;107m     \u001b[0m\u001b[30;107m \u001b[0m\u001b[30;107m│\u001b[0m\u001b[30;107m \u001b[0m\u001b[30;107m  audi_optimize_rmse_1842  \u001b[0m\u001b[30;107m \u001b[0m\u001b[30;107m│\u001b[0m\n",
       "\u001b[30;107m│\u001b[0m\u001b[30;107m \u001b[0m\u001b[30;107m  Bmw   \u001b[0m\u001b[30;107m \u001b[0m\u001b[30;107m│\u001b[0m\u001b[30;107m \u001b[0m\u001b[1;36;107m1635\u001b[0m\u001b[30;107m \u001b[0m\u001b[30;107m│\u001b[0m\u001b[30;107m \u001b[0m\u001b[30;107m   \u001b[0m\u001b[1;36;107m22672\u001b[0m\u001b[30;107m   \u001b[0m\u001b[30;107m \u001b[0m\u001b[30;107m│\u001b[0m\u001b[30;107m \u001b[0m\u001b[30;107m     \u001b[0m\u001b[1;36;107m22553\u001b[0m\u001b[30;107m     \u001b[0m\u001b[30;107m \u001b[0m\u001b[30;107m│\u001b[0m\u001b[30;107m \u001b[0m\u001b[30;107m  bmw_optimize_rmse_1635   \u001b[0m\u001b[30;107m \u001b[0m\u001b[30;107m│\u001b[0m\n",
       "\u001b[30;107m│\u001b[0m\u001b[30;107m \u001b[0m\u001b[30;107m  Ford  \u001b[0m\u001b[30;107m \u001b[0m\u001b[30;107m│\u001b[0m\u001b[30;107m \u001b[0m\u001b[1;36;107m801\u001b[0m\u001b[30;107m \u001b[0m\u001b[30;107m \u001b[0m\u001b[30;107m│\u001b[0m\u001b[30;107m \u001b[0m\u001b[30;107m   \u001b[0m\u001b[1;36;107m12334\u001b[0m\u001b[30;107m   \u001b[0m\u001b[30;107m \u001b[0m\u001b[30;107m│\u001b[0m\u001b[30;107m \u001b[0m\u001b[30;107m     \u001b[0m\u001b[1;36;107m12276\u001b[0m\u001b[30;107m     \u001b[0m\u001b[30;107m \u001b[0m\u001b[30;107m│\u001b[0m\u001b[30;107m \u001b[0m\u001b[30;107m  ford_optimize_rmse_801   \u001b[0m\u001b[30;107m \u001b[0m\u001b[30;107m│\u001b[0m\n",
       "\u001b[30;107m│\u001b[0m\u001b[30;107m \u001b[0m\u001b[30;107mHyundai \u001b[0m\u001b[30;107m \u001b[0m\u001b[30;107m│\u001b[0m\u001b[30;107m \u001b[0m\u001b[1;36;107m733\u001b[0m\u001b[30;107m \u001b[0m\u001b[30;107m \u001b[0m\u001b[30;107m│\u001b[0m\u001b[30;107m \u001b[0m\u001b[30;107m   \u001b[0m\u001b[1;36;107m12785\u001b[0m\u001b[30;107m   \u001b[0m\u001b[30;107m \u001b[0m\u001b[30;107m│\u001b[0m\u001b[30;107m \u001b[0m\u001b[30;107m     \u001b[0m\u001b[1;36;107m12731\u001b[0m\u001b[30;107m     \u001b[0m\u001b[30;107m \u001b[0m\u001b[30;107m│\u001b[0m\u001b[30;107m \u001b[0m\u001b[30;107m hyundai_optimize_rmse_733 \u001b[0m\u001b[30;107m \u001b[0m\u001b[30;107m│\u001b[0m\n",
       "\u001b[30;107m│\u001b[0m\u001b[30;107m \u001b[0m\u001b[30;107mMercedes\u001b[0m\u001b[30;107m \u001b[0m\u001b[30;107m│\u001b[0m\u001b[30;107m \u001b[0m\u001b[1;36;107m2427\u001b[0m\u001b[30;107m \u001b[0m\u001b[30;107m│\u001b[0m\u001b[30;107m \u001b[0m\u001b[30;107m   \u001b[0m\u001b[1;36;107m24313\u001b[0m\u001b[30;107m   \u001b[0m\u001b[30;107m \u001b[0m\u001b[30;107m│\u001b[0m\u001b[30;107m \u001b[0m\u001b[30;107m     \u001b[0m\u001b[1;36;107m24156\u001b[0m\u001b[30;107m     \u001b[0m\u001b[30;107m \u001b[0m\u001b[30;107m│\u001b[0m\u001b[30;107m \u001b[0m\u001b[30;107mmercedes_optimize_rmse_2427\u001b[0m\u001b[30;107m \u001b[0m\u001b[30;107m│\u001b[0m\n",
       "\u001b[30;107m│\u001b[0m\u001b[30;107m \u001b[0m\u001b[30;107m  Opel  \u001b[0m\u001b[30;107m \u001b[0m\u001b[30;107m│\u001b[0m\u001b[30;107m \u001b[0m\u001b[1;36;107m679\u001b[0m\u001b[30;107m \u001b[0m\u001b[30;107m \u001b[0m\u001b[30;107m│\u001b[0m\u001b[30;107m \u001b[0m\u001b[30;107m   \u001b[0m\u001b[1;36;107m10303\u001b[0m\u001b[30;107m   \u001b[0m\u001b[30;107m \u001b[0m\u001b[30;107m│\u001b[0m\u001b[30;107m \u001b[0m\u001b[30;107m     \u001b[0m\u001b[1;36;107m10255\u001b[0m\u001b[30;107m     \u001b[0m\u001b[30;107m \u001b[0m\u001b[30;107m│\u001b[0m\u001b[30;107m \u001b[0m\u001b[30;107m  opel_optimize_rmse_679   \u001b[0m\u001b[30;107m \u001b[0m\u001b[30;107m│\u001b[0m\n",
       "\u001b[30;107m│\u001b[0m\u001b[30;107m \u001b[0m\u001b[30;107m Skoda  \u001b[0m\u001b[30;107m \u001b[0m\u001b[30;107m│\u001b[0m\u001b[30;107m \u001b[0m\u001b[1;36;107m1428\u001b[0m\u001b[30;107m \u001b[0m\u001b[30;107m│\u001b[0m\u001b[30;107m \u001b[0m\u001b[30;107m   \u001b[0m\u001b[1;36;107m14248\u001b[0m\u001b[30;107m   \u001b[0m\u001b[30;107m \u001b[0m\u001b[30;107m│\u001b[0m\u001b[30;107m \u001b[0m\u001b[30;107m     \u001b[0m\u001b[1;36;107m14163\u001b[0m\u001b[30;107m     \u001b[0m\u001b[30;107m \u001b[0m\u001b[30;107m│\u001b[0m\u001b[30;107m \u001b[0m\u001b[30;107m skoda_optimize_rmse_1428  \u001b[0m\u001b[30;107m \u001b[0m\u001b[30;107m│\u001b[0m\n",
       "\u001b[30;107m│\u001b[0m\u001b[30;107m \u001b[0m\u001b[30;107m Toyota \u001b[0m\u001b[30;107m \u001b[0m\u001b[30;107m│\u001b[0m\u001b[30;107m \u001b[0m\u001b[1;36;107m919\u001b[0m\u001b[30;107m \u001b[0m\u001b[30;107m \u001b[0m\u001b[30;107m│\u001b[0m\u001b[30;107m \u001b[0m\u001b[30;107m   \u001b[0m\u001b[1;36;107m12185\u001b[0m\u001b[30;107m   \u001b[0m\u001b[30;107m \u001b[0m\u001b[30;107m│\u001b[0m\u001b[30;107m \u001b[0m\u001b[30;107m     \u001b[0m\u001b[1;36;107m12106\u001b[0m\u001b[30;107m     \u001b[0m\u001b[30;107m \u001b[0m\u001b[30;107m│\u001b[0m\u001b[30;107m \u001b[0m\u001b[30;107m toyota_optimize_rmse_919  \u001b[0m\u001b[30;107m \u001b[0m\u001b[30;107m│\u001b[0m\n",
       "\u001b[30;107m│\u001b[0m\u001b[30;107m \u001b[0m\u001b[30;107m   Vw   \u001b[0m\u001b[30;107m \u001b[0m\u001b[30;107m│\u001b[0m\u001b[30;107m \u001b[0m\u001b[1;36;107m1162\u001b[0m\u001b[30;107m \u001b[0m\u001b[30;107m│\u001b[0m\u001b[30;107m \u001b[0m\u001b[30;107m   \u001b[0m\u001b[1;36;107m16832\u001b[0m\u001b[30;107m   \u001b[0m\u001b[30;107m \u001b[0m\u001b[30;107m│\u001b[0m\u001b[30;107m \u001b[0m\u001b[30;107m     \u001b[0m\u001b[1;36;107m16777\u001b[0m\u001b[30;107m     \u001b[0m\u001b[30;107m \u001b[0m\u001b[30;107m│\u001b[0m\u001b[30;107m \u001b[0m\u001b[30;107m   vw_optimize_rmse_1162   \u001b[0m\u001b[30;107m \u001b[0m\u001b[30;107m│\u001b[0m\n",
       "\u001b[30;107m└──────────┴──────┴─────────────┴─────────────────┴─────────────────────────────┘\u001b[0m\n"
      ]
     },
     "metadata": {},
     "output_type": "display_data"
    }
   ],
   "source": [
    "evaluate_all_models(search_term='rmse')"
   ]
  },
  {
   "cell_type": "markdown",
   "id": "6f265c51",
   "metadata": {
    "slideshow": {
     "slide_type": "subslide"
    }
   },
   "source": [
    "#### Optimisation de l'estimateur"
   ]
  },
  {
   "cell_type": "code",
   "execution_count": 131,
   "id": "12ab07e8",
   "metadata": {
    "scrolled": false,
    "slideshow": {
     "slide_type": "subslide"
    }
   },
   "outputs": [
    {
     "data": {
      "text/html": [
       "<pre style=\"white-space:pre;overflow-x:auto;line-height:normal;font-family:Menlo,'DejaVu Sans Mono',consolas,'Courier New',monospace\"><span style=\"color: #000000; text-decoration-color: #000000; background-color: #ffffff; font-weight: bold\">PERFORMANCE COMPARISON</span> <span style=\"color: #000000; text-decoration-color: #000000; background-color: #ffffff\">──────────────────────────────────────────────────────────────────────</span>\n",
       "</pre>\n"
      ],
      "text/plain": [
       "\u001b[1;52;30;107mPERFORMANCE COMPARISON\u001b[0m \u001b[30;107m──────────────────────────────────────────────────────────────────────\u001b[0m\n"
      ]
     },
     "metadata": {},
     "output_type": "display_data"
    },
    {
     "data": {
      "text/html": [
       "<pre style=\"white-space:pre;overflow-x:auto;line-height:normal;font-family:Menlo,'DejaVu Sans Mono',consolas,'Courier New',monospace\"><span style=\"color: #000000; text-decoration-color: #000000; background-color: #ffffff; font-style: italic\">One model by Brand                                                                          </span>\n",
       "<span style=\"color: #000000; text-decoration-color: #000000; background-color: #ffffff\">┏━━━━━━━━━━┳━━━━━━┳━━━━━━━━━━━━━┳━━━━━━━━━━━━━━━━━┳━━━━━━━━━━━━━━━━━━━━━━━━━━━━━━━━━━━━━━━━┓</span>\n",
       "<span style=\"color: #000000; text-decoration-color: #000000; background-color: #ffffff\">┃  Brand   ┃ RMSE ┃ Target mean ┃ Prediction mean ┃               Model path               ┃</span>\n",
       "<span style=\"color: #000000; text-decoration-color: #000000; background-color: #ffffff\">┡━━━━━━━━━━╇━━━━━━╇━━━━━━━━━━━━━╇━━━━━━━━━━━━━━━━━╇━━━━━━━━━━━━━━━━━━━━━━━━━━━━━━━━━━━━━━━━┩</span>\n",
       "<span style=\"color: #000000; text-decoration-color: #000000; background-color: #ffffff\">│   Audi   │ </span><span style=\"color: #008080; text-decoration-color: #008080; background-color: #ffffff; font-weight: bold\">1567</span><span style=\"color: #000000; text-decoration-color: #000000; background-color: #ffffff\"> │    </span><span style=\"color: #008080; text-decoration-color: #008080; background-color: #ffffff; font-weight: bold\">23179</span><span style=\"color: #000000; text-decoration-color: #000000; background-color: #ffffff\">    │      </span><span style=\"color: #008080; text-decoration-color: #008080; background-color: #ffffff; font-weight: bold\">23071</span><span style=\"color: #000000; text-decoration-color: #000000; background-color: #ffffff\">      │   audi_estimator_optimized_rmse_1567   │</span>\n",
       "<span style=\"color: #000000; text-decoration-color: #000000; background-color: #ffffff\">│   Bmw    │ </span><span style=\"color: #008080; text-decoration-color: #008080; background-color: #ffffff; font-weight: bold\">1635</span><span style=\"color: #000000; text-decoration-color: #000000; background-color: #ffffff\"> │    </span><span style=\"color: #008080; text-decoration-color: #008080; background-color: #ffffff; font-weight: bold\">22672</span><span style=\"color: #000000; text-decoration-color: #000000; background-color: #ffffff\">    │      </span><span style=\"color: #008080; text-decoration-color: #008080; background-color: #ffffff; font-weight: bold\">22553</span><span style=\"color: #000000; text-decoration-color: #000000; background-color: #ffffff\">      │   bmw_estimator_optimized_rmse_1635    │</span>\n",
       "<span style=\"color: #000000; text-decoration-color: #000000; background-color: #ffffff\">│   Ford   │ </span><span style=\"color: #008080; text-decoration-color: #008080; background-color: #ffffff; font-weight: bold\">801</span><span style=\"color: #000000; text-decoration-color: #000000; background-color: #ffffff\">  │    </span><span style=\"color: #008080; text-decoration-color: #008080; background-color: #ffffff; font-weight: bold\">12334</span><span style=\"color: #000000; text-decoration-color: #000000; background-color: #ffffff\">    │      </span><span style=\"color: #008080; text-decoration-color: #008080; background-color: #ffffff; font-weight: bold\">12276</span><span style=\"color: #000000; text-decoration-color: #000000; background-color: #ffffff\">      │   ford_estimator_optimized_rmse_801    │</span>\n",
       "<span style=\"color: #000000; text-decoration-color: #000000; background-color: #ffffff\">│ Hyundai  │ </span><span style=\"color: #008080; text-decoration-color: #008080; background-color: #ffffff; font-weight: bold\">733</span><span style=\"color: #000000; text-decoration-color: #000000; background-color: #ffffff\">  │    </span><span style=\"color: #008080; text-decoration-color: #008080; background-color: #ffffff; font-weight: bold\">12785</span><span style=\"color: #000000; text-decoration-color: #000000; background-color: #ffffff\">    │      </span><span style=\"color: #008080; text-decoration-color: #008080; background-color: #ffffff; font-weight: bold\">12731</span><span style=\"color: #000000; text-decoration-color: #000000; background-color: #ffffff\">      │  hyundai_estimator_optimized_rmse_733  │</span>\n",
       "<span style=\"color: #000000; text-decoration-color: #000000; background-color: #ffffff\">│ Mercedes │ </span><span style=\"color: #008080; text-decoration-color: #008080; background-color: #ffffff; font-weight: bold\">2073</span><span style=\"color: #000000; text-decoration-color: #000000; background-color: #ffffff\"> │    </span><span style=\"color: #008080; text-decoration-color: #008080; background-color: #ffffff; font-weight: bold\">24313</span><span style=\"color: #000000; text-decoration-color: #000000; background-color: #ffffff\">    │      </span><span style=\"color: #008080; text-decoration-color: #008080; background-color: #ffffff; font-weight: bold\">24143</span><span style=\"color: #000000; text-decoration-color: #000000; background-color: #ffffff\">      │ mercedes_estimator_optimized_rmse_2073 │</span>\n",
       "<span style=\"color: #000000; text-decoration-color: #000000; background-color: #ffffff\">│   Opel   │ </span><span style=\"color: #008080; text-decoration-color: #008080; background-color: #ffffff; font-weight: bold\">586</span><span style=\"color: #000000; text-decoration-color: #000000; background-color: #ffffff\">  │    </span><span style=\"color: #008080; text-decoration-color: #008080; background-color: #ffffff; font-weight: bold\">10303</span><span style=\"color: #000000; text-decoration-color: #000000; background-color: #ffffff\">    │      </span><span style=\"color: #008080; text-decoration-color: #008080; background-color: #ffffff; font-weight: bold\">10249</span><span style=\"color: #000000; text-decoration-color: #000000; background-color: #ffffff\">      │   opel_estimator_optimized_rmse_586    │</span>\n",
       "<span style=\"color: #000000; text-decoration-color: #000000; background-color: #ffffff\">│  Skoda   │ </span><span style=\"color: #008080; text-decoration-color: #008080; background-color: #ffffff; font-weight: bold\">1825</span><span style=\"color: #000000; text-decoration-color: #000000; background-color: #ffffff\"> │    </span><span style=\"color: #008080; text-decoration-color: #008080; background-color: #ffffff; font-weight: bold\">14248</span><span style=\"color: #000000; text-decoration-color: #000000; background-color: #ffffff\">    │      </span><span style=\"color: #008080; text-decoration-color: #008080; background-color: #ffffff; font-weight: bold\">14197</span><span style=\"color: #000000; text-decoration-color: #000000; background-color: #ffffff\">      │  skoda_estimator_optimized_rmse_1825   │</span>\n",
       "<span style=\"color: #000000; text-decoration-color: #000000; background-color: #ffffff\">│  Toyota  │ </span><span style=\"color: #008080; text-decoration-color: #008080; background-color: #ffffff; font-weight: bold\">845</span><span style=\"color: #000000; text-decoration-color: #000000; background-color: #ffffff\">  │    </span><span style=\"color: #008080; text-decoration-color: #008080; background-color: #ffffff; font-weight: bold\">12185</span><span style=\"color: #000000; text-decoration-color: #000000; background-color: #ffffff\">    │      </span><span style=\"color: #008080; text-decoration-color: #008080; background-color: #ffffff; font-weight: bold\">12114</span><span style=\"color: #000000; text-decoration-color: #000000; background-color: #ffffff\">      │  toyota_estimator_optimized_rmse_845   │</span>\n",
       "<span style=\"color: #000000; text-decoration-color: #000000; background-color: #ffffff\">│    Vw    │ </span><span style=\"color: #008080; text-decoration-color: #008080; background-color: #ffffff; font-weight: bold\">947</span><span style=\"color: #000000; text-decoration-color: #000000; background-color: #ffffff\">  │    </span><span style=\"color: #008080; text-decoration-color: #008080; background-color: #ffffff; font-weight: bold\">16832</span><span style=\"color: #000000; text-decoration-color: #000000; background-color: #ffffff\">    │      </span><span style=\"color: #008080; text-decoration-color: #008080; background-color: #ffffff; font-weight: bold\">16752</span><span style=\"color: #000000; text-decoration-color: #000000; background-color: #ffffff\">      │    vw_estimator_optimized_rmse_947     │</span>\n",
       "<span style=\"color: #000000; text-decoration-color: #000000; background-color: #ffffff\">└──────────┴──────┴─────────────┴─────────────────┴────────────────────────────────────────┘</span>\n",
       "</pre>\n"
      ],
      "text/plain": [
       "\u001b[3;30;107mOne model by Brand                                                                          \u001b[0m\n",
       "\u001b[30;107m┏━━━━━━━━━━┳━━━━━━┳━━━━━━━━━━━━━┳━━━━━━━━━━━━━━━━━┳━━━━━━━━━━━━━━━━━━━━━━━━━━━━━━━━━━━━━━━━┓\u001b[0m\n",
       "\u001b[30;107m┃\u001b[0m\u001b[30;107m \u001b[0m\u001b[30;107m Brand  \u001b[0m\u001b[30;107m \u001b[0m\u001b[30;107m┃\u001b[0m\u001b[30;107m \u001b[0m\u001b[30;107mRMSE\u001b[0m\u001b[30;107m \u001b[0m\u001b[30;107m┃\u001b[0m\u001b[30;107m \u001b[0m\u001b[30;107mTarget mean\u001b[0m\u001b[30;107m \u001b[0m\u001b[30;107m┃\u001b[0m\u001b[30;107m \u001b[0m\u001b[30;107mPrediction mean\u001b[0m\u001b[30;107m \u001b[0m\u001b[30;107m┃\u001b[0m\u001b[30;107m \u001b[0m\u001b[30;107m              Model path              \u001b[0m\u001b[30;107m \u001b[0m\u001b[30;107m┃\u001b[0m\n",
       "\u001b[30;107m┡━━━━━━━━━━╇━━━━━━╇━━━━━━━━━━━━━╇━━━━━━━━━━━━━━━━━╇━━━━━━━━━━━━━━━━━━━━━━━━━━━━━━━━━━━━━━━━┩\u001b[0m\n",
       "\u001b[30;107m│\u001b[0m\u001b[30;107m \u001b[0m\u001b[30;107m  Audi  \u001b[0m\u001b[30;107m \u001b[0m\u001b[30;107m│\u001b[0m\u001b[30;107m \u001b[0m\u001b[1;36;107m1567\u001b[0m\u001b[30;107m \u001b[0m\u001b[30;107m│\u001b[0m\u001b[30;107m \u001b[0m\u001b[30;107m   \u001b[0m\u001b[1;36;107m23179\u001b[0m\u001b[30;107m   \u001b[0m\u001b[30;107m \u001b[0m\u001b[30;107m│\u001b[0m\u001b[30;107m \u001b[0m\u001b[30;107m     \u001b[0m\u001b[1;36;107m23071\u001b[0m\u001b[30;107m     \u001b[0m\u001b[30;107m \u001b[0m\u001b[30;107m│\u001b[0m\u001b[30;107m \u001b[0m\u001b[30;107m  audi_estimator_optimized_rmse_1567  \u001b[0m\u001b[30;107m \u001b[0m\u001b[30;107m│\u001b[0m\n",
       "\u001b[30;107m│\u001b[0m\u001b[30;107m \u001b[0m\u001b[30;107m  Bmw   \u001b[0m\u001b[30;107m \u001b[0m\u001b[30;107m│\u001b[0m\u001b[30;107m \u001b[0m\u001b[1;36;107m1635\u001b[0m\u001b[30;107m \u001b[0m\u001b[30;107m│\u001b[0m\u001b[30;107m \u001b[0m\u001b[30;107m   \u001b[0m\u001b[1;36;107m22672\u001b[0m\u001b[30;107m   \u001b[0m\u001b[30;107m \u001b[0m\u001b[30;107m│\u001b[0m\u001b[30;107m \u001b[0m\u001b[30;107m     \u001b[0m\u001b[1;36;107m22553\u001b[0m\u001b[30;107m     \u001b[0m\u001b[30;107m \u001b[0m\u001b[30;107m│\u001b[0m\u001b[30;107m \u001b[0m\u001b[30;107m  bmw_estimator_optimized_rmse_1635   \u001b[0m\u001b[30;107m \u001b[0m\u001b[30;107m│\u001b[0m\n",
       "\u001b[30;107m│\u001b[0m\u001b[30;107m \u001b[0m\u001b[30;107m  Ford  \u001b[0m\u001b[30;107m \u001b[0m\u001b[30;107m│\u001b[0m\u001b[30;107m \u001b[0m\u001b[1;36;107m801\u001b[0m\u001b[30;107m \u001b[0m\u001b[30;107m \u001b[0m\u001b[30;107m│\u001b[0m\u001b[30;107m \u001b[0m\u001b[30;107m   \u001b[0m\u001b[1;36;107m12334\u001b[0m\u001b[30;107m   \u001b[0m\u001b[30;107m \u001b[0m\u001b[30;107m│\u001b[0m\u001b[30;107m \u001b[0m\u001b[30;107m     \u001b[0m\u001b[1;36;107m12276\u001b[0m\u001b[30;107m     \u001b[0m\u001b[30;107m \u001b[0m\u001b[30;107m│\u001b[0m\u001b[30;107m \u001b[0m\u001b[30;107m  ford_estimator_optimized_rmse_801   \u001b[0m\u001b[30;107m \u001b[0m\u001b[30;107m│\u001b[0m\n",
       "\u001b[30;107m│\u001b[0m\u001b[30;107m \u001b[0m\u001b[30;107mHyundai \u001b[0m\u001b[30;107m \u001b[0m\u001b[30;107m│\u001b[0m\u001b[30;107m \u001b[0m\u001b[1;36;107m733\u001b[0m\u001b[30;107m \u001b[0m\u001b[30;107m \u001b[0m\u001b[30;107m│\u001b[0m\u001b[30;107m \u001b[0m\u001b[30;107m   \u001b[0m\u001b[1;36;107m12785\u001b[0m\u001b[30;107m   \u001b[0m\u001b[30;107m \u001b[0m\u001b[30;107m│\u001b[0m\u001b[30;107m \u001b[0m\u001b[30;107m     \u001b[0m\u001b[1;36;107m12731\u001b[0m\u001b[30;107m     \u001b[0m\u001b[30;107m \u001b[0m\u001b[30;107m│\u001b[0m\u001b[30;107m \u001b[0m\u001b[30;107m hyundai_estimator_optimized_rmse_733 \u001b[0m\u001b[30;107m \u001b[0m\u001b[30;107m│\u001b[0m\n",
       "\u001b[30;107m│\u001b[0m\u001b[30;107m \u001b[0m\u001b[30;107mMercedes\u001b[0m\u001b[30;107m \u001b[0m\u001b[30;107m│\u001b[0m\u001b[30;107m \u001b[0m\u001b[1;36;107m2073\u001b[0m\u001b[30;107m \u001b[0m\u001b[30;107m│\u001b[0m\u001b[30;107m \u001b[0m\u001b[30;107m   \u001b[0m\u001b[1;36;107m24313\u001b[0m\u001b[30;107m   \u001b[0m\u001b[30;107m \u001b[0m\u001b[30;107m│\u001b[0m\u001b[30;107m \u001b[0m\u001b[30;107m     \u001b[0m\u001b[1;36;107m24143\u001b[0m\u001b[30;107m     \u001b[0m\u001b[30;107m \u001b[0m\u001b[30;107m│\u001b[0m\u001b[30;107m \u001b[0m\u001b[30;107mmercedes_estimator_optimized_rmse_2073\u001b[0m\u001b[30;107m \u001b[0m\u001b[30;107m│\u001b[0m\n",
       "\u001b[30;107m│\u001b[0m\u001b[30;107m \u001b[0m\u001b[30;107m  Opel  \u001b[0m\u001b[30;107m \u001b[0m\u001b[30;107m│\u001b[0m\u001b[30;107m \u001b[0m\u001b[1;36;107m586\u001b[0m\u001b[30;107m \u001b[0m\u001b[30;107m \u001b[0m\u001b[30;107m│\u001b[0m\u001b[30;107m \u001b[0m\u001b[30;107m   \u001b[0m\u001b[1;36;107m10303\u001b[0m\u001b[30;107m   \u001b[0m\u001b[30;107m \u001b[0m\u001b[30;107m│\u001b[0m\u001b[30;107m \u001b[0m\u001b[30;107m     \u001b[0m\u001b[1;36;107m10249\u001b[0m\u001b[30;107m     \u001b[0m\u001b[30;107m \u001b[0m\u001b[30;107m│\u001b[0m\u001b[30;107m \u001b[0m\u001b[30;107m  opel_estimator_optimized_rmse_586   \u001b[0m\u001b[30;107m \u001b[0m\u001b[30;107m│\u001b[0m\n",
       "\u001b[30;107m│\u001b[0m\u001b[30;107m \u001b[0m\u001b[30;107m Skoda  \u001b[0m\u001b[30;107m \u001b[0m\u001b[30;107m│\u001b[0m\u001b[30;107m \u001b[0m\u001b[1;36;107m1825\u001b[0m\u001b[30;107m \u001b[0m\u001b[30;107m│\u001b[0m\u001b[30;107m \u001b[0m\u001b[30;107m   \u001b[0m\u001b[1;36;107m14248\u001b[0m\u001b[30;107m   \u001b[0m\u001b[30;107m \u001b[0m\u001b[30;107m│\u001b[0m\u001b[30;107m \u001b[0m\u001b[30;107m     \u001b[0m\u001b[1;36;107m14197\u001b[0m\u001b[30;107m     \u001b[0m\u001b[30;107m \u001b[0m\u001b[30;107m│\u001b[0m\u001b[30;107m \u001b[0m\u001b[30;107m skoda_estimator_optimized_rmse_1825  \u001b[0m\u001b[30;107m \u001b[0m\u001b[30;107m│\u001b[0m\n",
       "\u001b[30;107m│\u001b[0m\u001b[30;107m \u001b[0m\u001b[30;107m Toyota \u001b[0m\u001b[30;107m \u001b[0m\u001b[30;107m│\u001b[0m\u001b[30;107m \u001b[0m\u001b[1;36;107m845\u001b[0m\u001b[30;107m \u001b[0m\u001b[30;107m \u001b[0m\u001b[30;107m│\u001b[0m\u001b[30;107m \u001b[0m\u001b[30;107m   \u001b[0m\u001b[1;36;107m12185\u001b[0m\u001b[30;107m   \u001b[0m\u001b[30;107m \u001b[0m\u001b[30;107m│\u001b[0m\u001b[30;107m \u001b[0m\u001b[30;107m     \u001b[0m\u001b[1;36;107m12114\u001b[0m\u001b[30;107m     \u001b[0m\u001b[30;107m \u001b[0m\u001b[30;107m│\u001b[0m\u001b[30;107m \u001b[0m\u001b[30;107m toyota_estimator_optimized_rmse_845  \u001b[0m\u001b[30;107m \u001b[0m\u001b[30;107m│\u001b[0m\n",
       "\u001b[30;107m│\u001b[0m\u001b[30;107m \u001b[0m\u001b[30;107m   Vw   \u001b[0m\u001b[30;107m \u001b[0m\u001b[30;107m│\u001b[0m\u001b[30;107m \u001b[0m\u001b[1;36;107m947\u001b[0m\u001b[30;107m \u001b[0m\u001b[30;107m \u001b[0m\u001b[30;107m│\u001b[0m\u001b[30;107m \u001b[0m\u001b[30;107m   \u001b[0m\u001b[1;36;107m16832\u001b[0m\u001b[30;107m   \u001b[0m\u001b[30;107m \u001b[0m\u001b[30;107m│\u001b[0m\u001b[30;107m \u001b[0m\u001b[30;107m     \u001b[0m\u001b[1;36;107m16752\u001b[0m\u001b[30;107m     \u001b[0m\u001b[30;107m \u001b[0m\u001b[30;107m│\u001b[0m\u001b[30;107m \u001b[0m\u001b[30;107m   vw_estimator_optimized_rmse_947    \u001b[0m\u001b[30;107m \u001b[0m\u001b[30;107m│\u001b[0m\n",
       "\u001b[30;107m└──────────┴──────┴─────────────┴─────────────────┴────────────────────────────────────────┘\u001b[0m\n"
      ]
     },
     "metadata": {},
     "output_type": "display_data"
    }
   ],
   "source": [
    "# Modèle avec pipeline et estimateur optimisé\n",
    "#get_best_estimators_params(search_term='optimize_rmse', exclude_term=['estimator'], verbose=True)\n",
    "evaluate_all_models(search_term='optimized_rmse',exclude=[])"
   ]
  },
  {
   "cell_type": "markdown",
   "id": "849f99dc",
   "metadata": {
    "slideshow": {
     "slide_type": "subslide"
    }
   },
   "source": [
    "#### Refit?"
   ]
  },
  {
   "cell_type": "code",
   "execution_count": 116,
   "id": "4887405c",
   "metadata": {
    "slideshow": {
     "slide_type": "subslide"
    }
   },
   "outputs": [
    {
     "data": {
      "text/html": [
       "<pre style=\"white-space:pre;overflow-x:auto;line-height:normal;font-family:Menlo,'DejaVu Sans Mono',consolas,'Courier New',monospace\"><span style=\"color: #000000; text-decoration-color: #000000; background-color: #ffffff; font-weight: bold\">PERFORMANCE COMPARISON</span> <span style=\"color: #000000; text-decoration-color: #000000; background-color: #ffffff\">──────────────────────────────────────────────────────────────────────</span>\n",
       "</pre>\n"
      ],
      "text/plain": [
       "\u001b[1;52;30;107mPERFORMANCE COMPARISON\u001b[0m \u001b[30;107m──────────────────────────────────────────────────────────────────────\u001b[0m\n"
      ]
     },
     "metadata": {},
     "output_type": "display_data"
    },
    {
     "data": {
      "text/html": [
       "<pre style=\"white-space:pre;overflow-x:auto;line-height:normal;font-family:Menlo,'DejaVu Sans Mono',consolas,'Courier New',monospace\"><span style=\"color: #000000; text-decoration-color: #000000; background-color: #ffffff; font-style: italic\">One model by Brand                                              </span>\n",
       "<span style=\"color: #000000; text-decoration-color: #000000; background-color: #ffffff\">┏━━━━━━━━━━┳━━━━━━┳━━━━━━━━━━━━━┳━━━━━━━━━━━━━━━━━┳━━━━━━━━━━━━┓</span>\n",
       "<span style=\"color: #000000; text-decoration-color: #000000; background-color: #ffffff\">┃  Brand   ┃ RMSE ┃ Target mean ┃ Prediction mean ┃ Model path ┃</span>\n",
       "<span style=\"color: #000000; text-decoration-color: #000000; background-color: #ffffff\">┡━━━━━━━━━━╇━━━━━━╇━━━━━━━━━━━━━╇━━━━━━━━━━━━━━━━━╇━━━━━━━━━━━━┩</span>\n",
       "<span style=\"color: #000000; text-decoration-color: #000000; background-color: #ffffff\">│  Toyota  │ </span><span style=\"color: #008080; text-decoration-color: #008080; background-color: #ffffff; font-weight: bold\">1205</span><span style=\"color: #000000; text-decoration-color: #000000; background-color: #ffffff\"> │    </span><span style=\"color: #008080; text-decoration-color: #008080; background-color: #ffffff; font-weight: bold\">12185</span><span style=\"color: #000000; text-decoration-color: #000000; background-color: #ffffff\">    │      </span><span style=\"color: #008080; text-decoration-color: #008080; background-color: #ffffff; font-weight: bold\">12125</span><span style=\"color: #000000; text-decoration-color: #000000; background-color: #ffffff\">      │     -      │</span>\n",
       "<span style=\"color: #000000; text-decoration-color: #000000; background-color: #ffffff\">│ Mercedes │ </span><span style=\"color: #008080; text-decoration-color: #008080; background-color: #ffffff; font-weight: bold\">3325</span><span style=\"color: #000000; text-decoration-color: #000000; background-color: #ffffff\"> │    </span><span style=\"color: #008080; text-decoration-color: #008080; background-color: #ffffff; font-weight: bold\">24313</span><span style=\"color: #000000; text-decoration-color: #000000; background-color: #ffffff\">    │      </span><span style=\"color: #008080; text-decoration-color: #008080; background-color: #ffffff; font-weight: bold\">24136</span><span style=\"color: #000000; text-decoration-color: #000000; background-color: #ffffff\">      │     -      │</span>\n",
       "<span style=\"color: #000000; text-decoration-color: #000000; background-color: #ffffff\">│   Audi   │ </span><span style=\"color: #008080; text-decoration-color: #008080; background-color: #ffffff; font-weight: bold\">2601</span><span style=\"color: #000000; text-decoration-color: #000000; background-color: #ffffff\"> │    </span><span style=\"color: #008080; text-decoration-color: #008080; background-color: #ffffff; font-weight: bold\">23179</span><span style=\"color: #000000; text-decoration-color: #000000; background-color: #ffffff\">    │      </span><span style=\"color: #008080; text-decoration-color: #008080; background-color: #ffffff; font-weight: bold\">23058</span><span style=\"color: #000000; text-decoration-color: #000000; background-color: #ffffff\">      │     -      │</span>\n",
       "<span style=\"color: #000000; text-decoration-color: #000000; background-color: #ffffff\">│   Bmw    │ </span><span style=\"color: #008080; text-decoration-color: #008080; background-color: #ffffff; font-weight: bold\">2467</span><span style=\"color: #000000; text-decoration-color: #000000; background-color: #ffffff\"> │    </span><span style=\"color: #008080; text-decoration-color: #008080; background-color: #ffffff; font-weight: bold\">22672</span><span style=\"color: #000000; text-decoration-color: #000000; background-color: #ffffff\">    │      </span><span style=\"color: #008080; text-decoration-color: #008080; background-color: #ffffff; font-weight: bold\">22499</span><span style=\"color: #000000; text-decoration-color: #000000; background-color: #ffffff\">      │     -      │</span>\n",
       "<span style=\"color: #000000; text-decoration-color: #000000; background-color: #ffffff\">│   Ford   │ </span><span style=\"color: #008080; text-decoration-color: #008080; background-color: #ffffff; font-weight: bold\">1264</span><span style=\"color: #000000; text-decoration-color: #000000; background-color: #ffffff\"> │    </span><span style=\"color: #008080; text-decoration-color: #008080; background-color: #ffffff; font-weight: bold\">12334</span><span style=\"color: #000000; text-decoration-color: #000000; background-color: #ffffff\">    │      </span><span style=\"color: #008080; text-decoration-color: #008080; background-color: #ffffff; font-weight: bold\">12338</span><span style=\"color: #000000; text-decoration-color: #000000; background-color: #ffffff\">      │     -      │</span>\n",
       "<span style=\"color: #000000; text-decoration-color: #000000; background-color: #ffffff\">│    Vw    │ </span><span style=\"color: #008080; text-decoration-color: #008080; background-color: #ffffff; font-weight: bold\">1986</span><span style=\"color: #000000; text-decoration-color: #000000; background-color: #ffffff\"> │    </span><span style=\"color: #008080; text-decoration-color: #008080; background-color: #ffffff; font-weight: bold\">16832</span><span style=\"color: #000000; text-decoration-color: #000000; background-color: #ffffff\">    │      </span><span style=\"color: #008080; text-decoration-color: #008080; background-color: #ffffff; font-weight: bold\">16694</span><span style=\"color: #000000; text-decoration-color: #000000; background-color: #ffffff\">      │     -      │</span>\n",
       "<span style=\"color: #000000; text-decoration-color: #000000; background-color: #ffffff\">│   Opel   │ </span><span style=\"color: #008080; text-decoration-color: #008080; background-color: #ffffff; font-weight: bold\">1103</span><span style=\"color: #000000; text-decoration-color: #000000; background-color: #ffffff\"> │    </span><span style=\"color: #008080; text-decoration-color: #008080; background-color: #ffffff; font-weight: bold\">10303</span><span style=\"color: #000000; text-decoration-color: #000000; background-color: #ffffff\">    │      </span><span style=\"color: #008080; text-decoration-color: #008080; background-color: #ffffff; font-weight: bold\">10221</span><span style=\"color: #000000; text-decoration-color: #000000; background-color: #ffffff\">      │     -      │</span>\n",
       "<span style=\"color: #000000; text-decoration-color: #000000; background-color: #ffffff\">│ Hyundai  │ </span><span style=\"color: #008080; text-decoration-color: #008080; background-color: #ffffff; font-weight: bold\">1496</span><span style=\"color: #000000; text-decoration-color: #000000; background-color: #ffffff\"> │    </span><span style=\"color: #008080; text-decoration-color: #008080; background-color: #ffffff; font-weight: bold\">12785</span><span style=\"color: #000000; text-decoration-color: #000000; background-color: #ffffff\">    │      </span><span style=\"color: #008080; text-decoration-color: #008080; background-color: #ffffff; font-weight: bold\">12915</span><span style=\"color: #000000; text-decoration-color: #000000; background-color: #ffffff\">      │     -      │</span>\n",
       "<span style=\"color: #000000; text-decoration-color: #000000; background-color: #ffffff\">│  Skoda   │ </span><span style=\"color: #008080; text-decoration-color: #008080; background-color: #ffffff; font-weight: bold\">2663</span><span style=\"color: #000000; text-decoration-color: #000000; background-color: #ffffff\"> │    </span><span style=\"color: #008080; text-decoration-color: #008080; background-color: #ffffff; font-weight: bold\">14248</span><span style=\"color: #000000; text-decoration-color: #000000; background-color: #ffffff\">    │      </span><span style=\"color: #008080; text-decoration-color: #008080; background-color: #ffffff; font-weight: bold\">14103</span><span style=\"color: #000000; text-decoration-color: #000000; background-color: #ffffff\">      │     -      │</span>\n",
       "<span style=\"color: #000000; text-decoration-color: #000000; background-color: #ffffff\">└──────────┴──────┴─────────────┴─────────────────┴────────────┘</span>\n",
       "</pre>\n"
      ],
      "text/plain": [
       "\u001b[3;30;107mOne model by Brand                                              \u001b[0m\n",
       "\u001b[30;107m┏━━━━━━━━━━┳━━━━━━┳━━━━━━━━━━━━━┳━━━━━━━━━━━━━━━━━┳━━━━━━━━━━━━┓\u001b[0m\n",
       "\u001b[30;107m┃\u001b[0m\u001b[30;107m \u001b[0m\u001b[30;107m Brand  \u001b[0m\u001b[30;107m \u001b[0m\u001b[30;107m┃\u001b[0m\u001b[30;107m \u001b[0m\u001b[30;107mRMSE\u001b[0m\u001b[30;107m \u001b[0m\u001b[30;107m┃\u001b[0m\u001b[30;107m \u001b[0m\u001b[30;107mTarget mean\u001b[0m\u001b[30;107m \u001b[0m\u001b[30;107m┃\u001b[0m\u001b[30;107m \u001b[0m\u001b[30;107mPrediction mean\u001b[0m\u001b[30;107m \u001b[0m\u001b[30;107m┃\u001b[0m\u001b[30;107m \u001b[0m\u001b[30;107mModel path\u001b[0m\u001b[30;107m \u001b[0m\u001b[30;107m┃\u001b[0m\n",
       "\u001b[30;107m┡━━━━━━━━━━╇━━━━━━╇━━━━━━━━━━━━━╇━━━━━━━━━━━━━━━━━╇━━━━━━━━━━━━┩\u001b[0m\n",
       "\u001b[30;107m│\u001b[0m\u001b[30;107m \u001b[0m\u001b[30;107m Toyota \u001b[0m\u001b[30;107m \u001b[0m\u001b[30;107m│\u001b[0m\u001b[30;107m \u001b[0m\u001b[1;36;107m1205\u001b[0m\u001b[30;107m \u001b[0m\u001b[30;107m│\u001b[0m\u001b[30;107m \u001b[0m\u001b[30;107m   \u001b[0m\u001b[1;36;107m12185\u001b[0m\u001b[30;107m   \u001b[0m\u001b[30;107m \u001b[0m\u001b[30;107m│\u001b[0m\u001b[30;107m \u001b[0m\u001b[30;107m     \u001b[0m\u001b[1;36;107m12125\u001b[0m\u001b[30;107m     \u001b[0m\u001b[30;107m \u001b[0m\u001b[30;107m│\u001b[0m\u001b[30;107m \u001b[0m\u001b[30;107m    -     \u001b[0m\u001b[30;107m \u001b[0m\u001b[30;107m│\u001b[0m\n",
       "\u001b[30;107m│\u001b[0m\u001b[30;107m \u001b[0m\u001b[30;107mMercedes\u001b[0m\u001b[30;107m \u001b[0m\u001b[30;107m│\u001b[0m\u001b[30;107m \u001b[0m\u001b[1;36;107m3325\u001b[0m\u001b[30;107m \u001b[0m\u001b[30;107m│\u001b[0m\u001b[30;107m \u001b[0m\u001b[30;107m   \u001b[0m\u001b[1;36;107m24313\u001b[0m\u001b[30;107m   \u001b[0m\u001b[30;107m \u001b[0m\u001b[30;107m│\u001b[0m\u001b[30;107m \u001b[0m\u001b[30;107m     \u001b[0m\u001b[1;36;107m24136\u001b[0m\u001b[30;107m     \u001b[0m\u001b[30;107m \u001b[0m\u001b[30;107m│\u001b[0m\u001b[30;107m \u001b[0m\u001b[30;107m    -     \u001b[0m\u001b[30;107m \u001b[0m\u001b[30;107m│\u001b[0m\n",
       "\u001b[30;107m│\u001b[0m\u001b[30;107m \u001b[0m\u001b[30;107m  Audi  \u001b[0m\u001b[30;107m \u001b[0m\u001b[30;107m│\u001b[0m\u001b[30;107m \u001b[0m\u001b[1;36;107m2601\u001b[0m\u001b[30;107m \u001b[0m\u001b[30;107m│\u001b[0m\u001b[30;107m \u001b[0m\u001b[30;107m   \u001b[0m\u001b[1;36;107m23179\u001b[0m\u001b[30;107m   \u001b[0m\u001b[30;107m \u001b[0m\u001b[30;107m│\u001b[0m\u001b[30;107m \u001b[0m\u001b[30;107m     \u001b[0m\u001b[1;36;107m23058\u001b[0m\u001b[30;107m     \u001b[0m\u001b[30;107m \u001b[0m\u001b[30;107m│\u001b[0m\u001b[30;107m \u001b[0m\u001b[30;107m    -     \u001b[0m\u001b[30;107m \u001b[0m\u001b[30;107m│\u001b[0m\n",
       "\u001b[30;107m│\u001b[0m\u001b[30;107m \u001b[0m\u001b[30;107m  Bmw   \u001b[0m\u001b[30;107m \u001b[0m\u001b[30;107m│\u001b[0m\u001b[30;107m \u001b[0m\u001b[1;36;107m2467\u001b[0m\u001b[30;107m \u001b[0m\u001b[30;107m│\u001b[0m\u001b[30;107m \u001b[0m\u001b[30;107m   \u001b[0m\u001b[1;36;107m22672\u001b[0m\u001b[30;107m   \u001b[0m\u001b[30;107m \u001b[0m\u001b[30;107m│\u001b[0m\u001b[30;107m \u001b[0m\u001b[30;107m     \u001b[0m\u001b[1;36;107m22499\u001b[0m\u001b[30;107m     \u001b[0m\u001b[30;107m \u001b[0m\u001b[30;107m│\u001b[0m\u001b[30;107m \u001b[0m\u001b[30;107m    -     \u001b[0m\u001b[30;107m \u001b[0m\u001b[30;107m│\u001b[0m\n",
       "\u001b[30;107m│\u001b[0m\u001b[30;107m \u001b[0m\u001b[30;107m  Ford  \u001b[0m\u001b[30;107m \u001b[0m\u001b[30;107m│\u001b[0m\u001b[30;107m \u001b[0m\u001b[1;36;107m1264\u001b[0m\u001b[30;107m \u001b[0m\u001b[30;107m│\u001b[0m\u001b[30;107m \u001b[0m\u001b[30;107m   \u001b[0m\u001b[1;36;107m12334\u001b[0m\u001b[30;107m   \u001b[0m\u001b[30;107m \u001b[0m\u001b[30;107m│\u001b[0m\u001b[30;107m \u001b[0m\u001b[30;107m     \u001b[0m\u001b[1;36;107m12338\u001b[0m\u001b[30;107m     \u001b[0m\u001b[30;107m \u001b[0m\u001b[30;107m│\u001b[0m\u001b[30;107m \u001b[0m\u001b[30;107m    -     \u001b[0m\u001b[30;107m \u001b[0m\u001b[30;107m│\u001b[0m\n",
       "\u001b[30;107m│\u001b[0m\u001b[30;107m \u001b[0m\u001b[30;107m   Vw   \u001b[0m\u001b[30;107m \u001b[0m\u001b[30;107m│\u001b[0m\u001b[30;107m \u001b[0m\u001b[1;36;107m1986\u001b[0m\u001b[30;107m \u001b[0m\u001b[30;107m│\u001b[0m\u001b[30;107m \u001b[0m\u001b[30;107m   \u001b[0m\u001b[1;36;107m16832\u001b[0m\u001b[30;107m   \u001b[0m\u001b[30;107m \u001b[0m\u001b[30;107m│\u001b[0m\u001b[30;107m \u001b[0m\u001b[30;107m     \u001b[0m\u001b[1;36;107m16694\u001b[0m\u001b[30;107m     \u001b[0m\u001b[30;107m \u001b[0m\u001b[30;107m│\u001b[0m\u001b[30;107m \u001b[0m\u001b[30;107m    -     \u001b[0m\u001b[30;107m \u001b[0m\u001b[30;107m│\u001b[0m\n",
       "\u001b[30;107m│\u001b[0m\u001b[30;107m \u001b[0m\u001b[30;107m  Opel  \u001b[0m\u001b[30;107m \u001b[0m\u001b[30;107m│\u001b[0m\u001b[30;107m \u001b[0m\u001b[1;36;107m1103\u001b[0m\u001b[30;107m \u001b[0m\u001b[30;107m│\u001b[0m\u001b[30;107m \u001b[0m\u001b[30;107m   \u001b[0m\u001b[1;36;107m10303\u001b[0m\u001b[30;107m   \u001b[0m\u001b[30;107m \u001b[0m\u001b[30;107m│\u001b[0m\u001b[30;107m \u001b[0m\u001b[30;107m     \u001b[0m\u001b[1;36;107m10221\u001b[0m\u001b[30;107m     \u001b[0m\u001b[30;107m \u001b[0m\u001b[30;107m│\u001b[0m\u001b[30;107m \u001b[0m\u001b[30;107m    -     \u001b[0m\u001b[30;107m \u001b[0m\u001b[30;107m│\u001b[0m\n",
       "\u001b[30;107m│\u001b[0m\u001b[30;107m \u001b[0m\u001b[30;107mHyundai \u001b[0m\u001b[30;107m \u001b[0m\u001b[30;107m│\u001b[0m\u001b[30;107m \u001b[0m\u001b[1;36;107m1496\u001b[0m\u001b[30;107m \u001b[0m\u001b[30;107m│\u001b[0m\u001b[30;107m \u001b[0m\u001b[30;107m   \u001b[0m\u001b[1;36;107m12785\u001b[0m\u001b[30;107m   \u001b[0m\u001b[30;107m \u001b[0m\u001b[30;107m│\u001b[0m\u001b[30;107m \u001b[0m\u001b[30;107m     \u001b[0m\u001b[1;36;107m12915\u001b[0m\u001b[30;107m     \u001b[0m\u001b[30;107m \u001b[0m\u001b[30;107m│\u001b[0m\u001b[30;107m \u001b[0m\u001b[30;107m    -     \u001b[0m\u001b[30;107m \u001b[0m\u001b[30;107m│\u001b[0m\n",
       "\u001b[30;107m│\u001b[0m\u001b[30;107m \u001b[0m\u001b[30;107m Skoda  \u001b[0m\u001b[30;107m \u001b[0m\u001b[30;107m│\u001b[0m\u001b[30;107m \u001b[0m\u001b[1;36;107m2663\u001b[0m\u001b[30;107m \u001b[0m\u001b[30;107m│\u001b[0m\u001b[30;107m \u001b[0m\u001b[30;107m   \u001b[0m\u001b[1;36;107m14248\u001b[0m\u001b[30;107m   \u001b[0m\u001b[30;107m \u001b[0m\u001b[30;107m│\u001b[0m\u001b[30;107m \u001b[0m\u001b[30;107m     \u001b[0m\u001b[1;36;107m14103\u001b[0m\u001b[30;107m     \u001b[0m\u001b[30;107m \u001b[0m\u001b[30;107m│\u001b[0m\u001b[30;107m \u001b[0m\u001b[30;107m    -     \u001b[0m\u001b[30;107m \u001b[0m\u001b[30;107m│\u001b[0m\n",
       "\u001b[30;107m└──────────┴──────┴─────────────┴─────────────────┴────────────┘\u001b[0m\n"
      ]
     },
     "metadata": {},
     "output_type": "display_data"
    }
   ],
   "source": [
    "# load performance\n",
    "evaluate_all_refitted_models(base_model_search_term='model', \n",
    "                             params_search_term='rmse',\n",
    "                             model_exclude=['base_score_model.joblib','all_brand'],\n",
    "                             params_exclude=[])\n",
    "# Refit toyota_model.joblib using toyota.csv with parameters from toyota_optimize_rmse_919.json"
   ]
  },
  {
   "cell_type": "markdown",
   "id": "e061f5a6",
   "metadata": {
    "slideshow": {
     "slide_type": "slide"
    }
   },
   "source": [
    "#### Essais de prédictions"
   ]
  },
  {
   "cell_type": "code",
   "execution_count": 106,
   "id": "cd267e4e",
   "metadata": {
    "slideshow": {
     "slide_type": "subslide"
    }
   },
   "outputs": [
    {
     "name": "stdout",
     "output_type": "stream",
     "text": [
      "RMSE: 935.6136668953593\n"
     ]
    },
    {
     "data": {
      "text/html": [
       "<pre style=\"white-space:pre;overflow-x:auto;line-height:normal;font-family:Menlo,'DejaVu Sans Mono',consolas,'Courier New',monospace\"><span style=\"color: #000000; text-decoration-color: #000000; background-color: #ffffff; font-weight: bold\">MODEL PREDICTION TESTING</span> <span style=\"color: #000000; text-decoration-color: #000000; background-color: #ffffff\">────────────────────────────────────────────────────────────────────</span>\n",
       "</pre>\n"
      ],
      "text/plain": [
       "\u001b[1;52;30;107mMODEL PREDICTION TESTING\u001b[0m \u001b[30;107m────────────────────────────────────────────────────────────────────\u001b[0m\n"
      ]
     },
     "metadata": {},
     "output_type": "display_data"
    },
    {
     "data": {
      "text/html": [
       "<pre style=\"white-space:pre;overflow-x:auto;line-height:normal;font-family:Menlo,'DejaVu Sans Mono',consolas,'Courier New',monospace\"><span style=\"color: #000000; text-decoration-color: #000000; background-color: #ffffff; font-style: italic\">Prediction results                                                                   </span>\n",
       "<span style=\"color: #000000; text-decoration-color: #000000; background-color: #ffffff\">┏━━━━━━━━━━━━┳━━━━━━━━━━━━┳━━━━━━━┳━━━━━━━━━━━━┳━━━━━━━━━┳━━━━━━━━━━━━━━┳━━━━━━━━━━━┓</span>\n",
       "<span style=\"color: #000000; text-decoration-color: #000000; background-color: #ffffff\">┃ Prediction ┃ Real Price ┃ Error ┃ Percentage ┃  model  ┃ transmission ┃ fuel_type ┃</span>\n",
       "<span style=\"color: #000000; text-decoration-color: #000000; background-color: #ffffff\">┡━━━━━━━━━━━━╇━━━━━━━━━━━━╇━━━━━━━╇━━━━━━━━━━━━╇━━━━━━━━━╇━━━━━━━━━━━━━━╇━━━━━━━━━━━┩</span>\n",
       "<span style=\"color: #000000; text-decoration-color: #000000; background-color: #ffffff\">│   </span><span style=\"color: #008080; text-decoration-color: #008080; background-color: #ffffff; font-weight: bold\">11208</span><span style=\"color: #000000; text-decoration-color: #000000; background-color: #ffffff\">    │   </span><span style=\"color: #008080; text-decoration-color: #008080; background-color: #ffffff; font-weight: bold\">10000</span><span style=\"color: #000000; text-decoration-color: #000000; background-color: #ffffff\">    │ </span><span style=\"color: #008080; text-decoration-color: #008080; background-color: #ffffff; font-weight: bold\">1208</span><span style=\"color: #000000; text-decoration-color: #000000; background-color: #ffffff\">  │    </span><span style=\"color: #008080; text-decoration-color: #008080; background-color: #ffffff; font-weight: bold\">12</span><span style=\"color: #000000; text-decoration-color: #000000; background-color: #ffffff\"> %    │  Astra  │  Semi-Auto   │  Petrol   │</span>\n",
       "<span style=\"color: #000000; text-decoration-color: #000000; background-color: #ffffff\">│   </span><span style=\"color: #008080; text-decoration-color: #008080; background-color: #ffffff; font-weight: bold\">15045</span><span style=\"color: #000000; text-decoration-color: #000000; background-color: #ffffff\">    │   </span><span style=\"color: #008080; text-decoration-color: #008080; background-color: #ffffff; font-weight: bold\">13481</span><span style=\"color: #000000; text-decoration-color: #000000; background-color: #ffffff\">    │ </span><span style=\"color: #008080; text-decoration-color: #008080; background-color: #ffffff; font-weight: bold\">1564</span><span style=\"color: #000000; text-decoration-color: #000000; background-color: #ffffff\">  │    </span><span style=\"color: #008080; text-decoration-color: #008080; background-color: #ffffff; font-weight: bold\">12</span><span style=\"color: #000000; text-decoration-color: #000000; background-color: #ffffff\"> %    │  Astra  │    Manual    │  Petrol   │</span>\n",
       "<span style=\"color: #000000; text-decoration-color: #000000; background-color: #ffffff\">│    </span><span style=\"color: #008080; text-decoration-color: #008080; background-color: #ffffff; font-weight: bold\">8633</span><span style=\"color: #000000; text-decoration-color: #000000; background-color: #ffffff\">    │    </span><span style=\"color: #008080; text-decoration-color: #008080; background-color: #ffffff; font-weight: bold\">8298</span><span style=\"color: #000000; text-decoration-color: #000000; background-color: #ffffff\">    │  </span><span style=\"color: #008080; text-decoration-color: #008080; background-color: #ffffff; font-weight: bold\">335</span><span style=\"color: #000000; text-decoration-color: #000000; background-color: #ffffff\">  │    </span><span style=\"color: #008080; text-decoration-color: #008080; background-color: #ffffff; font-weight: bold\">4</span><span style=\"color: #000000; text-decoration-color: #000000; background-color: #ffffff\"> %     │  Mokka  │    Manual    │  Petrol   │</span>\n",
       "<span style=\"color: #000000; text-decoration-color: #000000; background-color: #ffffff\">│    </span><span style=\"color: #008080; text-decoration-color: #008080; background-color: #ffffff; font-weight: bold\">9443</span><span style=\"color: #000000; text-decoration-color: #000000; background-color: #ffffff\">    │    </span><span style=\"color: #008080; text-decoration-color: #008080; background-color: #ffffff; font-weight: bold\">8290</span><span style=\"color: #000000; text-decoration-color: #000000; background-color: #ffffff\">    │ </span><span style=\"color: #008080; text-decoration-color: #008080; background-color: #ffffff; font-weight: bold\">1153</span><span style=\"color: #000000; text-decoration-color: #000000; background-color: #ffffff\">  │    </span><span style=\"color: #008080; text-decoration-color: #008080; background-color: #ffffff; font-weight: bold\">14</span><span style=\"color: #000000; text-decoration-color: #000000; background-color: #ffffff\"> %    │  Astra  │    Manual    │  Petrol   │</span>\n",
       "<span style=\"color: #000000; text-decoration-color: #000000; background-color: #ffffff\">│    </span><span style=\"color: #008080; text-decoration-color: #008080; background-color: #ffffff; font-weight: bold\">7752</span><span style=\"color: #000000; text-decoration-color: #000000; background-color: #ffffff\">    │    </span><span style=\"color: #008080; text-decoration-color: #008080; background-color: #ffffff; font-weight: bold\">7994</span><span style=\"color: #000000; text-decoration-color: #000000; background-color: #ffffff\">    │  </span><span style=\"color: #008080; text-decoration-color: #008080; background-color: #ffffff; font-weight: bold\">242</span><span style=\"color: #000000; text-decoration-color: #000000; background-color: #ffffff\">  │    </span><span style=\"color: #008080; text-decoration-color: #008080; background-color: #ffffff; font-weight: bold\">3</span><span style=\"color: #000000; text-decoration-color: #000000; background-color: #ffffff\"> %     │  Corsa  │    Manual    │  Petrol   │</span>\n",
       "<span style=\"color: #000000; text-decoration-color: #000000; background-color: #ffffff\">│   </span><span style=\"color: #008080; text-decoration-color: #008080; background-color: #ffffff; font-weight: bold\">12641</span><span style=\"color: #000000; text-decoration-color: #000000; background-color: #ffffff\">    │   </span><span style=\"color: #008080; text-decoration-color: #008080; background-color: #ffffff; font-weight: bold\">12049</span><span style=\"color: #000000; text-decoration-color: #000000; background-color: #ffffff\">    │  </span><span style=\"color: #008080; text-decoration-color: #008080; background-color: #ffffff; font-weight: bold\">592</span><span style=\"color: #000000; text-decoration-color: #000000; background-color: #ffffff\">  │    </span><span style=\"color: #008080; text-decoration-color: #008080; background-color: #ffffff; font-weight: bold\">5</span><span style=\"color: #000000; text-decoration-color: #000000; background-color: #ffffff\"> %     │ Mokka X │  Semi-Auto   │  Petrol   │</span>\n",
       "<span style=\"color: #000000; text-decoration-color: #000000; background-color: #ffffff\">│   </span><span style=\"color: #008080; text-decoration-color: #008080; background-color: #ffffff; font-weight: bold\">10900</span><span style=\"color: #000000; text-decoration-color: #000000; background-color: #ffffff\">    │    </span><span style=\"color: #008080; text-decoration-color: #008080; background-color: #ffffff; font-weight: bold\">9959</span><span style=\"color: #000000; text-decoration-color: #000000; background-color: #ffffff\">    │  </span><span style=\"color: #008080; text-decoration-color: #008080; background-color: #ffffff; font-weight: bold\">941</span><span style=\"color: #000000; text-decoration-color: #000000; background-color: #ffffff\">  │    </span><span style=\"color: #008080; text-decoration-color: #008080; background-color: #ffffff; font-weight: bold\">9</span><span style=\"color: #000000; text-decoration-color: #000000; background-color: #ffffff\"> %     │  Astra  │  Automatic   │  Diesel   │</span>\n",
       "<span style=\"color: #000000; text-decoration-color: #000000; background-color: #ffffff\">│    </span><span style=\"color: #008080; text-decoration-color: #008080; background-color: #ffffff; font-weight: bold\">9029</span><span style=\"color: #000000; text-decoration-color: #000000; background-color: #ffffff\">    │    </span><span style=\"color: #008080; text-decoration-color: #008080; background-color: #ffffff; font-weight: bold\">9135</span><span style=\"color: #000000; text-decoration-color: #000000; background-color: #ffffff\">    │  </span><span style=\"color: #008080; text-decoration-color: #008080; background-color: #ffffff; font-weight: bold\">106</span><span style=\"color: #000000; text-decoration-color: #000000; background-color: #ffffff\">  │    </span><span style=\"color: #008080; text-decoration-color: #008080; background-color: #ffffff; font-weight: bold\">1</span><span style=\"color: #000000; text-decoration-color: #000000; background-color: #ffffff\"> %     │  Corsa  │    Manual    │  Petrol   │</span>\n",
       "<span style=\"color: #000000; text-decoration-color: #000000; background-color: #ffffff\">│   </span><span style=\"color: #008080; text-decoration-color: #008080; background-color: #ffffff; font-weight: bold\">12228</span><span style=\"color: #000000; text-decoration-color: #000000; background-color: #ffffff\">    │   </span><span style=\"color: #008080; text-decoration-color: #008080; background-color: #ffffff; font-weight: bold\">12999</span><span style=\"color: #000000; text-decoration-color: #000000; background-color: #ffffff\">    │  </span><span style=\"color: #008080; text-decoration-color: #008080; background-color: #ffffff; font-weight: bold\">771</span><span style=\"color: #000000; text-decoration-color: #000000; background-color: #ffffff\">  │    </span><span style=\"color: #008080; text-decoration-color: #008080; background-color: #ffffff; font-weight: bold\">6</span><span style=\"color: #000000; text-decoration-color: #000000; background-color: #ffffff\"> %     │  Mokka  │    Manual    │  Petrol   │</span>\n",
       "<span style=\"color: #000000; text-decoration-color: #000000; background-color: #ffffff\">│   </span><span style=\"color: #008080; text-decoration-color: #008080; background-color: #ffffff; font-weight: bold\">11425</span><span style=\"color: #000000; text-decoration-color: #000000; background-color: #ffffff\">    │   </span><span style=\"color: #008080; text-decoration-color: #008080; background-color: #ffffff; font-weight: bold\">10195</span><span style=\"color: #000000; text-decoration-color: #000000; background-color: #ffffff\">    │ </span><span style=\"color: #008080; text-decoration-color: #008080; background-color: #ffffff; font-weight: bold\">1230</span><span style=\"color: #000000; text-decoration-color: #000000; background-color: #ffffff\">  │    </span><span style=\"color: #008080; text-decoration-color: #008080; background-color: #ffffff; font-weight: bold\">12</span><span style=\"color: #000000; text-decoration-color: #000000; background-color: #ffffff\"> %    │ Mokka X │    Manual    │  Petrol   │</span>\n",
       "<span style=\"color: #000000; text-decoration-color: #000000; background-color: #ffffff\">└────────────┴────────────┴───────┴────────────┴─────────┴──────────────┴───────────┘</span>\n",
       "</pre>\n"
      ],
      "text/plain": [
       "\u001b[3;30;107mPrediction results                                                                   \u001b[0m\n",
       "\u001b[30;107m┏━━━━━━━━━━━━┳━━━━━━━━━━━━┳━━━━━━━┳━━━━━━━━━━━━┳━━━━━━━━━┳━━━━━━━━━━━━━━┳━━━━━━━━━━━┓\u001b[0m\n",
       "\u001b[30;107m┃\u001b[0m\u001b[30;107m \u001b[0m\u001b[30;107mPrediction\u001b[0m\u001b[30;107m \u001b[0m\u001b[30;107m┃\u001b[0m\u001b[30;107m \u001b[0m\u001b[30;107mReal Price\u001b[0m\u001b[30;107m \u001b[0m\u001b[30;107m┃\u001b[0m\u001b[30;107m \u001b[0m\u001b[30;107mError\u001b[0m\u001b[30;107m \u001b[0m\u001b[30;107m┃\u001b[0m\u001b[30;107m \u001b[0m\u001b[30;107mPercentage\u001b[0m\u001b[30;107m \u001b[0m\u001b[30;107m┃\u001b[0m\u001b[30;107m \u001b[0m\u001b[30;107m model \u001b[0m\u001b[30;107m \u001b[0m\u001b[30;107m┃\u001b[0m\u001b[30;107m \u001b[0m\u001b[30;107mtransmission\u001b[0m\u001b[30;107m \u001b[0m\u001b[30;107m┃\u001b[0m\u001b[30;107m \u001b[0m\u001b[30;107mfuel_type\u001b[0m\u001b[30;107m \u001b[0m\u001b[30;107m┃\u001b[0m\n",
       "\u001b[30;107m┡━━━━━━━━━━━━╇━━━━━━━━━━━━╇━━━━━━━╇━━━━━━━━━━━━╇━━━━━━━━━╇━━━━━━━━━━━━━━╇━━━━━━━━━━━┩\u001b[0m\n",
       "\u001b[30;107m│\u001b[0m\u001b[30;107m \u001b[0m\u001b[30;107m  \u001b[0m\u001b[1;36;107m11208\u001b[0m\u001b[30;107m   \u001b[0m\u001b[30;107m \u001b[0m\u001b[30;107m│\u001b[0m\u001b[30;107m \u001b[0m\u001b[30;107m  \u001b[0m\u001b[1;36;107m10000\u001b[0m\u001b[30;107m   \u001b[0m\u001b[30;107m \u001b[0m\u001b[30;107m│\u001b[0m\u001b[30;107m \u001b[0m\u001b[1;36;107m1208\u001b[0m\u001b[30;107m \u001b[0m\u001b[30;107m \u001b[0m\u001b[30;107m│\u001b[0m\u001b[30;107m \u001b[0m\u001b[30;107m   \u001b[0m\u001b[1;36;107m12\u001b[0m\u001b[30;107m %   \u001b[0m\u001b[30;107m \u001b[0m\u001b[30;107m│\u001b[0m\u001b[30;107m \u001b[0m\u001b[30;107m Astra \u001b[0m\u001b[30;107m \u001b[0m\u001b[30;107m│\u001b[0m\u001b[30;107m \u001b[0m\u001b[30;107m Semi-Auto  \u001b[0m\u001b[30;107m \u001b[0m\u001b[30;107m│\u001b[0m\u001b[30;107m \u001b[0m\u001b[30;107m Petrol  \u001b[0m\u001b[30;107m \u001b[0m\u001b[30;107m│\u001b[0m\n",
       "\u001b[30;107m│\u001b[0m\u001b[30;107m \u001b[0m\u001b[30;107m  \u001b[0m\u001b[1;36;107m15045\u001b[0m\u001b[30;107m   \u001b[0m\u001b[30;107m \u001b[0m\u001b[30;107m│\u001b[0m\u001b[30;107m \u001b[0m\u001b[30;107m  \u001b[0m\u001b[1;36;107m13481\u001b[0m\u001b[30;107m   \u001b[0m\u001b[30;107m \u001b[0m\u001b[30;107m│\u001b[0m\u001b[30;107m \u001b[0m\u001b[1;36;107m1564\u001b[0m\u001b[30;107m \u001b[0m\u001b[30;107m \u001b[0m\u001b[30;107m│\u001b[0m\u001b[30;107m \u001b[0m\u001b[30;107m   \u001b[0m\u001b[1;36;107m12\u001b[0m\u001b[30;107m %   \u001b[0m\u001b[30;107m \u001b[0m\u001b[30;107m│\u001b[0m\u001b[30;107m \u001b[0m\u001b[30;107m Astra \u001b[0m\u001b[30;107m \u001b[0m\u001b[30;107m│\u001b[0m\u001b[30;107m \u001b[0m\u001b[30;107m   Manual   \u001b[0m\u001b[30;107m \u001b[0m\u001b[30;107m│\u001b[0m\u001b[30;107m \u001b[0m\u001b[30;107m Petrol  \u001b[0m\u001b[30;107m \u001b[0m\u001b[30;107m│\u001b[0m\n",
       "\u001b[30;107m│\u001b[0m\u001b[30;107m \u001b[0m\u001b[30;107m   \u001b[0m\u001b[1;36;107m8633\u001b[0m\u001b[30;107m   \u001b[0m\u001b[30;107m \u001b[0m\u001b[30;107m│\u001b[0m\u001b[30;107m \u001b[0m\u001b[30;107m   \u001b[0m\u001b[1;36;107m8298\u001b[0m\u001b[30;107m   \u001b[0m\u001b[30;107m \u001b[0m\u001b[30;107m│\u001b[0m\u001b[30;107m \u001b[0m\u001b[30;107m \u001b[0m\u001b[1;36;107m335\u001b[0m\u001b[30;107m \u001b[0m\u001b[30;107m \u001b[0m\u001b[30;107m│\u001b[0m\u001b[30;107m \u001b[0m\u001b[30;107m   \u001b[0m\u001b[1;36;107m4\u001b[0m\u001b[30;107m %    \u001b[0m\u001b[30;107m \u001b[0m\u001b[30;107m│\u001b[0m\u001b[30;107m \u001b[0m\u001b[30;107m Mokka \u001b[0m\u001b[30;107m \u001b[0m\u001b[30;107m│\u001b[0m\u001b[30;107m \u001b[0m\u001b[30;107m   Manual   \u001b[0m\u001b[30;107m \u001b[0m\u001b[30;107m│\u001b[0m\u001b[30;107m \u001b[0m\u001b[30;107m Petrol  \u001b[0m\u001b[30;107m \u001b[0m\u001b[30;107m│\u001b[0m\n",
       "\u001b[30;107m│\u001b[0m\u001b[30;107m \u001b[0m\u001b[30;107m   \u001b[0m\u001b[1;36;107m9443\u001b[0m\u001b[30;107m   \u001b[0m\u001b[30;107m \u001b[0m\u001b[30;107m│\u001b[0m\u001b[30;107m \u001b[0m\u001b[30;107m   \u001b[0m\u001b[1;36;107m8290\u001b[0m\u001b[30;107m   \u001b[0m\u001b[30;107m \u001b[0m\u001b[30;107m│\u001b[0m\u001b[30;107m \u001b[0m\u001b[1;36;107m1153\u001b[0m\u001b[30;107m \u001b[0m\u001b[30;107m \u001b[0m\u001b[30;107m│\u001b[0m\u001b[30;107m \u001b[0m\u001b[30;107m   \u001b[0m\u001b[1;36;107m14\u001b[0m\u001b[30;107m %   \u001b[0m\u001b[30;107m \u001b[0m\u001b[30;107m│\u001b[0m\u001b[30;107m \u001b[0m\u001b[30;107m Astra \u001b[0m\u001b[30;107m \u001b[0m\u001b[30;107m│\u001b[0m\u001b[30;107m \u001b[0m\u001b[30;107m   Manual   \u001b[0m\u001b[30;107m \u001b[0m\u001b[30;107m│\u001b[0m\u001b[30;107m \u001b[0m\u001b[30;107m Petrol  \u001b[0m\u001b[30;107m \u001b[0m\u001b[30;107m│\u001b[0m\n",
       "\u001b[30;107m│\u001b[0m\u001b[30;107m \u001b[0m\u001b[30;107m   \u001b[0m\u001b[1;36;107m7752\u001b[0m\u001b[30;107m   \u001b[0m\u001b[30;107m \u001b[0m\u001b[30;107m│\u001b[0m\u001b[30;107m \u001b[0m\u001b[30;107m   \u001b[0m\u001b[1;36;107m7994\u001b[0m\u001b[30;107m   \u001b[0m\u001b[30;107m \u001b[0m\u001b[30;107m│\u001b[0m\u001b[30;107m \u001b[0m\u001b[30;107m \u001b[0m\u001b[1;36;107m242\u001b[0m\u001b[30;107m \u001b[0m\u001b[30;107m \u001b[0m\u001b[30;107m│\u001b[0m\u001b[30;107m \u001b[0m\u001b[30;107m   \u001b[0m\u001b[1;36;107m3\u001b[0m\u001b[30;107m %    \u001b[0m\u001b[30;107m \u001b[0m\u001b[30;107m│\u001b[0m\u001b[30;107m \u001b[0m\u001b[30;107m Corsa \u001b[0m\u001b[30;107m \u001b[0m\u001b[30;107m│\u001b[0m\u001b[30;107m \u001b[0m\u001b[30;107m   Manual   \u001b[0m\u001b[30;107m \u001b[0m\u001b[30;107m│\u001b[0m\u001b[30;107m \u001b[0m\u001b[30;107m Petrol  \u001b[0m\u001b[30;107m \u001b[0m\u001b[30;107m│\u001b[0m\n",
       "\u001b[30;107m│\u001b[0m\u001b[30;107m \u001b[0m\u001b[30;107m  \u001b[0m\u001b[1;36;107m12641\u001b[0m\u001b[30;107m   \u001b[0m\u001b[30;107m \u001b[0m\u001b[30;107m│\u001b[0m\u001b[30;107m \u001b[0m\u001b[30;107m  \u001b[0m\u001b[1;36;107m12049\u001b[0m\u001b[30;107m   \u001b[0m\u001b[30;107m \u001b[0m\u001b[30;107m│\u001b[0m\u001b[30;107m \u001b[0m\u001b[30;107m \u001b[0m\u001b[1;36;107m592\u001b[0m\u001b[30;107m \u001b[0m\u001b[30;107m \u001b[0m\u001b[30;107m│\u001b[0m\u001b[30;107m \u001b[0m\u001b[30;107m   \u001b[0m\u001b[1;36;107m5\u001b[0m\u001b[30;107m %    \u001b[0m\u001b[30;107m \u001b[0m\u001b[30;107m│\u001b[0m\u001b[30;107m \u001b[0m\u001b[30;107mMokka X\u001b[0m\u001b[30;107m \u001b[0m\u001b[30;107m│\u001b[0m\u001b[30;107m \u001b[0m\u001b[30;107m Semi-Auto  \u001b[0m\u001b[30;107m \u001b[0m\u001b[30;107m│\u001b[0m\u001b[30;107m \u001b[0m\u001b[30;107m Petrol  \u001b[0m\u001b[30;107m \u001b[0m\u001b[30;107m│\u001b[0m\n",
       "\u001b[30;107m│\u001b[0m\u001b[30;107m \u001b[0m\u001b[30;107m  \u001b[0m\u001b[1;36;107m10900\u001b[0m\u001b[30;107m   \u001b[0m\u001b[30;107m \u001b[0m\u001b[30;107m│\u001b[0m\u001b[30;107m \u001b[0m\u001b[30;107m   \u001b[0m\u001b[1;36;107m9959\u001b[0m\u001b[30;107m   \u001b[0m\u001b[30;107m \u001b[0m\u001b[30;107m│\u001b[0m\u001b[30;107m \u001b[0m\u001b[30;107m \u001b[0m\u001b[1;36;107m941\u001b[0m\u001b[30;107m \u001b[0m\u001b[30;107m \u001b[0m\u001b[30;107m│\u001b[0m\u001b[30;107m \u001b[0m\u001b[30;107m   \u001b[0m\u001b[1;36;107m9\u001b[0m\u001b[30;107m %    \u001b[0m\u001b[30;107m \u001b[0m\u001b[30;107m│\u001b[0m\u001b[30;107m \u001b[0m\u001b[30;107m Astra \u001b[0m\u001b[30;107m \u001b[0m\u001b[30;107m│\u001b[0m\u001b[30;107m \u001b[0m\u001b[30;107m Automatic  \u001b[0m\u001b[30;107m \u001b[0m\u001b[30;107m│\u001b[0m\u001b[30;107m \u001b[0m\u001b[30;107m Diesel  \u001b[0m\u001b[30;107m \u001b[0m\u001b[30;107m│\u001b[0m\n",
       "\u001b[30;107m│\u001b[0m\u001b[30;107m \u001b[0m\u001b[30;107m   \u001b[0m\u001b[1;36;107m9029\u001b[0m\u001b[30;107m   \u001b[0m\u001b[30;107m \u001b[0m\u001b[30;107m│\u001b[0m\u001b[30;107m \u001b[0m\u001b[30;107m   \u001b[0m\u001b[1;36;107m9135\u001b[0m\u001b[30;107m   \u001b[0m\u001b[30;107m \u001b[0m\u001b[30;107m│\u001b[0m\u001b[30;107m \u001b[0m\u001b[30;107m \u001b[0m\u001b[1;36;107m106\u001b[0m\u001b[30;107m \u001b[0m\u001b[30;107m \u001b[0m\u001b[30;107m│\u001b[0m\u001b[30;107m \u001b[0m\u001b[30;107m   \u001b[0m\u001b[1;36;107m1\u001b[0m\u001b[30;107m %    \u001b[0m\u001b[30;107m \u001b[0m\u001b[30;107m│\u001b[0m\u001b[30;107m \u001b[0m\u001b[30;107m Corsa \u001b[0m\u001b[30;107m \u001b[0m\u001b[30;107m│\u001b[0m\u001b[30;107m \u001b[0m\u001b[30;107m   Manual   \u001b[0m\u001b[30;107m \u001b[0m\u001b[30;107m│\u001b[0m\u001b[30;107m \u001b[0m\u001b[30;107m Petrol  \u001b[0m\u001b[30;107m \u001b[0m\u001b[30;107m│\u001b[0m\n",
       "\u001b[30;107m│\u001b[0m\u001b[30;107m \u001b[0m\u001b[30;107m  \u001b[0m\u001b[1;36;107m12228\u001b[0m\u001b[30;107m   \u001b[0m\u001b[30;107m \u001b[0m\u001b[30;107m│\u001b[0m\u001b[30;107m \u001b[0m\u001b[30;107m  \u001b[0m\u001b[1;36;107m12999\u001b[0m\u001b[30;107m   \u001b[0m\u001b[30;107m \u001b[0m\u001b[30;107m│\u001b[0m\u001b[30;107m \u001b[0m\u001b[30;107m \u001b[0m\u001b[1;36;107m771\u001b[0m\u001b[30;107m \u001b[0m\u001b[30;107m \u001b[0m\u001b[30;107m│\u001b[0m\u001b[30;107m \u001b[0m\u001b[30;107m   \u001b[0m\u001b[1;36;107m6\u001b[0m\u001b[30;107m %    \u001b[0m\u001b[30;107m \u001b[0m\u001b[30;107m│\u001b[0m\u001b[30;107m \u001b[0m\u001b[30;107m Mokka \u001b[0m\u001b[30;107m \u001b[0m\u001b[30;107m│\u001b[0m\u001b[30;107m \u001b[0m\u001b[30;107m   Manual   \u001b[0m\u001b[30;107m \u001b[0m\u001b[30;107m│\u001b[0m\u001b[30;107m \u001b[0m\u001b[30;107m Petrol  \u001b[0m\u001b[30;107m \u001b[0m\u001b[30;107m│\u001b[0m\n",
       "\u001b[30;107m│\u001b[0m\u001b[30;107m \u001b[0m\u001b[30;107m  \u001b[0m\u001b[1;36;107m11425\u001b[0m\u001b[30;107m   \u001b[0m\u001b[30;107m \u001b[0m\u001b[30;107m│\u001b[0m\u001b[30;107m \u001b[0m\u001b[30;107m  \u001b[0m\u001b[1;36;107m10195\u001b[0m\u001b[30;107m   \u001b[0m\u001b[30;107m \u001b[0m\u001b[30;107m│\u001b[0m\u001b[30;107m \u001b[0m\u001b[1;36;107m1230\u001b[0m\u001b[30;107m \u001b[0m\u001b[30;107m \u001b[0m\u001b[30;107m│\u001b[0m\u001b[30;107m \u001b[0m\u001b[30;107m   \u001b[0m\u001b[1;36;107m12\u001b[0m\u001b[30;107m %   \u001b[0m\u001b[30;107m \u001b[0m\u001b[30;107m│\u001b[0m\u001b[30;107m \u001b[0m\u001b[30;107mMokka X\u001b[0m\u001b[30;107m \u001b[0m\u001b[30;107m│\u001b[0m\u001b[30;107m \u001b[0m\u001b[30;107m   Manual   \u001b[0m\u001b[30;107m \u001b[0m\u001b[30;107m│\u001b[0m\u001b[30;107m \u001b[0m\u001b[30;107m Petrol  \u001b[0m\u001b[30;107m \u001b[0m\u001b[30;107m│\u001b[0m\n",
       "\u001b[30;107m└────────────┴────────────┴───────┴────────────┴─────────┴──────────────┴───────────┘\u001b[0m\n"
      ]
     },
     "metadata": {},
     "output_type": "display_data"
    }
   ],
   "source": [
    "brand = 'opel'\n",
    "model_name = 'opel_optimize_rmse_679'\n",
    "model_filename = f'{model_name}.joblib'\n",
    "model_path = join(model_directory_path, model_filename)\n",
    "model = load(model_path)\n",
    "filename = f\"{brand}.csv\"\n",
    "df = load_prepared_file(filename=filename)\n",
    "X_train, X_val, X_test, y_train, y_val, y_test = get_set_split(df, target='price')\n",
    "evaluate_prediction(model, X_test, y_test,sample=10,add_columns=['model','transmission','fuel_type'])"
   ]
  },
  {
   "cell_type": "markdown",
   "id": "efb03c6d",
   "metadata": {
    "slideshow": {
     "slide_type": "subslide"
    }
   },
   "source": [
    "#### Courbe d'apprentissage"
   ]
  },
  {
   "cell_type": "code",
   "execution_count": 117,
   "id": "5a40d213",
   "metadata": {
    "slideshow": {
     "slide_type": "subslide"
    }
   },
   "outputs": [
    {
     "data": {
      "image/png": "[encoded data removed]",
      "text/plain": [
       "<Figure size 1440x360 with 3 Axes>"
      ]
     },
     "metadata": {},
     "output_type": "display_data"
    }
   ],
   "source": [
    "#model.get_params().keys()\n",
    "mse = make_scorer(mean_squared_error, greater_is_better=False)\n",
    "#get_learning_curve(model, X_val, y_val, mse, show=True, savefig=False)\n",
    "plot_learning_curve(model, brand, X_train, y_train, axes=None, ylim=None, cv=20,\n",
    "                        n_jobs=2, train_sizes=np.linspace(.1, 1.0, 5), show=True,savefig=False)"
   ]
  },
  {
   "cell_type": "markdown",
   "id": "acb0cda8",
   "metadata": {
    "slideshow": {
     "slide_type": "subslide"
    }
   },
   "source": [
    "Le premier graphique montre les courbes d'apprentissage pour l'entraînement et la validation.\n",
    "\n",
    "Le deuxième graphique montre le nombre d'entraînement du modèle relativement à la taille des données d'entraînement. \n",
    "\n",
    "Le troisième graphique montre les scores obtenus relativement au temps d'entraînement du modèle."
   ]
  },
  {
   "cell_type": "markdown",
   "id": "b8333e7e",
   "metadata": {
    "slideshow": {
     "slide_type": "slide"
    }
   },
   "source": [
    "### Toutes marques\n",
    "\n",
    "1. fusion des données en une seule source de données"
   ]
  },
  {
   "cell_type": "code",
   "execution_count": 10,
   "id": "87ba18dc",
   "metadata": {
    "scrolled": false,
    "slideshow": {
     "slide_type": "subslide"
    }
   },
   "outputs": [
    {
     "name": "stdout",
     "output_type": "stream",
     "text": [
      "Loading all_brands.joblib\n"
     ]
    },
    {
     "data": {
      "text/html": [
       "<pre style=\"white-space:pre;overflow-x:auto;line-height:normal;font-family:Menlo,'DejaVu Sans Mono',consolas,'Courier New',monospace\"><span style=\"color: #000000; text-decoration-color: #000000; background-color: #ffffff; font-weight: bold\">PERFORMANCE COMPARISON</span> <span style=\"color: #000000; text-decoration-color: #000000; background-color: #ffffff\">──────────────────────────────────────────────────────────────────────</span>\n",
       "</pre>\n"
      ],
      "text/plain": [
       "\u001b[1;52;30;107mPERFORMANCE COMPARISON\u001b[0m \u001b[30;107m──────────────────────────────────────────────────────────────────────\u001b[0m\n"
      ]
     },
     "metadata": {},
     "output_type": "display_data"
    },
    {
     "data": {
      "text/html": [
       "<pre style=\"white-space:pre;overflow-x:auto;line-height:normal;font-family:Menlo,'DejaVu Sans Mono',consolas,'Courier New',monospace\"><span style=\"color: #000000; text-decoration-color: #000000; background-color: #ffffff; font-style: italic\">One model by Brand                                                          </span>\n",
       "<span style=\"color: #000000; text-decoration-color: #000000; background-color: #ffffff\">┏━━━━━━━━━━━━━━━━━━━━━━┳━━━━━━┳━━━━━━━━━━━━━┳━━━━━━━━━━━━━━━━━┳━━━━━━━━━━━━┓</span>\n",
       "<span style=\"color: #000000; text-decoration-color: #000000; background-color: #ffffff\">┃        Brand         ┃ RMSE ┃ Target mean ┃ Prediction mean ┃ Model path ┃</span>\n",
       "<span style=\"color: #000000; text-decoration-color: #000000; background-color: #ffffff\">┡━━━━━━━━━━━━━━━━━━━━━━╇━━━━━━╇━━━━━━━━━━━━━╇━━━━━━━━━━━━━━━━━╇━━━━━━━━━━━━┩</span>\n",
       "<span style=\"color: #000000; text-decoration-color: #000000; background-color: #ffffff\">│ Merged Brand Dataset │ </span><span style=\"color: #008080; text-decoration-color: #008080; background-color: #ffffff; font-weight: bold\">2442</span><span style=\"color: #000000; text-decoration-color: #000000; background-color: #ffffff\"> │    </span><span style=\"color: #008080; text-decoration-color: #008080; background-color: #ffffff; font-weight: bold\">16791</span><span style=\"color: #000000; text-decoration-color: #000000; background-color: #ffffff\">    │      </span><span style=\"color: #008080; text-decoration-color: #008080; background-color: #ffffff; font-weight: bold\">16697</span><span style=\"color: #000000; text-decoration-color: #000000; background-color: #ffffff\">      │     -      │</span>\n",
       "<span style=\"color: #000000; text-decoration-color: #000000; background-color: #ffffff\">└──────────────────────┴──────┴─────────────┴─────────────────┴────────────┘</span>\n",
       "</pre>\n"
      ],
      "text/plain": [
       "\u001b[3;30;107mOne model by Brand                                                          \u001b[0m\n",
       "\u001b[30;107m┏━━━━━━━━━━━━━━━━━━━━━━┳━━━━━━┳━━━━━━━━━━━━━┳━━━━━━━━━━━━━━━━━┳━━━━━━━━━━━━┓\u001b[0m\n",
       "\u001b[30;107m┃\u001b[0m\u001b[30;107m \u001b[0m\u001b[30;107m       Brand        \u001b[0m\u001b[30;107m \u001b[0m\u001b[30;107m┃\u001b[0m\u001b[30;107m \u001b[0m\u001b[30;107mRMSE\u001b[0m\u001b[30;107m \u001b[0m\u001b[30;107m┃\u001b[0m\u001b[30;107m \u001b[0m\u001b[30;107mTarget mean\u001b[0m\u001b[30;107m \u001b[0m\u001b[30;107m┃\u001b[0m\u001b[30;107m \u001b[0m\u001b[30;107mPrediction mean\u001b[0m\u001b[30;107m \u001b[0m\u001b[30;107m┃\u001b[0m\u001b[30;107m \u001b[0m\u001b[30;107mModel path\u001b[0m\u001b[30;107m \u001b[0m\u001b[30;107m┃\u001b[0m\n",
       "\u001b[30;107m┡━━━━━━━━━━━━━━━━━━━━━━╇━━━━━━╇━━━━━━━━━━━━━╇━━━━━━━━━━━━━━━━━╇━━━━━━━━━━━━┩\u001b[0m\n",
       "\u001b[30;107m│\u001b[0m\u001b[30;107m \u001b[0m\u001b[30;107mMerged Brand Dataset\u001b[0m\u001b[30;107m \u001b[0m\u001b[30;107m│\u001b[0m\u001b[30;107m \u001b[0m\u001b[1;36;107m2442\u001b[0m\u001b[30;107m \u001b[0m\u001b[30;107m│\u001b[0m\u001b[30;107m \u001b[0m\u001b[30;107m   \u001b[0m\u001b[1;36;107m16791\u001b[0m\u001b[30;107m   \u001b[0m\u001b[30;107m \u001b[0m\u001b[30;107m│\u001b[0m\u001b[30;107m \u001b[0m\u001b[30;107m     \u001b[0m\u001b[1;36;107m16697\u001b[0m\u001b[30;107m     \u001b[0m\u001b[30;107m \u001b[0m\u001b[30;107m│\u001b[0m\u001b[30;107m \u001b[0m\u001b[30;107m    -     \u001b[0m\u001b[30;107m \u001b[0m\u001b[30;107m│\u001b[0m\n",
       "\u001b[30;107m└──────────────────────┴──────┴─────────────┴─────────────────┴────────────┘\u001b[0m\n"
      ]
     },
     "metadata": {},
     "output_type": "display_data"
    }
   ],
   "source": [
    "bmmd.evaluate_model(model_filename='all_brands.joblib', data_filename='all_brands.csv',verbose=False)"
   ]
  },
  {
   "cell_type": "code",
   "execution_count": 14,
   "id": "bdaa698f",
   "metadata": {
    "slideshow": {
     "slide_type": "skip"
    }
   },
   "outputs": [
    {
     "name": "stdout",
     "output_type": "stream",
     "text": [
      "Loading all_brands.joblib\n",
      "Model all_brands_estimator_optimized_rmse_2096 saved @ ./model/all_brands_estimator_optimized_rmse_2096.joblib\n"
     ]
    }
   ],
   "source": [
    "bmmd.get_best_estimator(model_filename='all_brands.joblib', data_filename='all_brands.csv',verbose=False)"
   ]
  },
  {
   "cell_type": "code",
   "execution_count": 15,
   "id": "7ebc8505",
   "metadata": {
    "slideshow": {
     "slide_type": "subslide"
    }
   },
   "outputs": [
    {
     "name": "stdout",
     "output_type": "stream",
     "text": [
      "Loading all_brands_estimator_optimized_rmse_2096.joblib\n"
     ]
    },
    {
     "data": {
      "text/html": [
       "<pre style=\"white-space:pre;overflow-x:auto;line-height:normal;font-family:Menlo,'DejaVu Sans Mono',consolas,'Courier New',monospace\"><span style=\"color: #000000; text-decoration-color: #000000; background-color: #ffffff; font-weight: bold\">PERFORMANCE COMPARISON</span> <span style=\"color: #000000; text-decoration-color: #000000; background-color: #ffffff\">──────────────────────────────────────────────────────────────────────</span>\n",
       "</pre>\n"
      ],
      "text/plain": [
       "\u001b[1;52;30;107mPERFORMANCE COMPARISON\u001b[0m \u001b[30;107m──────────────────────────────────────────────────────────────────────\u001b[0m\n"
      ]
     },
     "metadata": {},
     "output_type": "display_data"
    },
    {
     "data": {
      "text/html": [
       "<pre style=\"white-space:pre;overflow-x:auto;line-height:normal;font-family:Menlo,'DejaVu Sans Mono',consolas,'Courier New',monospace\"><span style=\"color: #000000; text-decoration-color: #000000; background-color: #ffffff; font-style: italic\">One model by Brand                                                          </span>\n",
       "<span style=\"color: #000000; text-decoration-color: #000000; background-color: #ffffff\">┏━━━━━━━━━━━━━━━━━━━━━━┳━━━━━━┳━━━━━━━━━━━━━┳━━━━━━━━━━━━━━━━━┳━━━━━━━━━━━━┓</span>\n",
       "<span style=\"color: #000000; text-decoration-color: #000000; background-color: #ffffff\">┃        Brand         ┃ RMSE ┃ Target mean ┃ Prediction mean ┃ Model path ┃</span>\n",
       "<span style=\"color: #000000; text-decoration-color: #000000; background-color: #ffffff\">┡━━━━━━━━━━━━━━━━━━━━━━╇━━━━━━╇━━━━━━━━━━━━━╇━━━━━━━━━━━━━━━━━╇━━━━━━━━━━━━┩</span>\n",
       "<span style=\"color: #000000; text-decoration-color: #000000; background-color: #ffffff\">│ Merged Brand Dataset │ </span><span style=\"color: #008080; text-decoration-color: #008080; background-color: #ffffff; font-weight: bold\">2096</span><span style=\"color: #000000; text-decoration-color: #000000; background-color: #ffffff\"> │    </span><span style=\"color: #008080; text-decoration-color: #008080; background-color: #ffffff; font-weight: bold\">16791</span><span style=\"color: #000000; text-decoration-color: #000000; background-color: #ffffff\">    │      </span><span style=\"color: #008080; text-decoration-color: #008080; background-color: #ffffff; font-weight: bold\">16636</span><span style=\"color: #000000; text-decoration-color: #000000; background-color: #ffffff\">      │     -      │</span>\n",
       "<span style=\"color: #000000; text-decoration-color: #000000; background-color: #ffffff\">└──────────────────────┴──────┴─────────────┴─────────────────┴────────────┘</span>\n",
       "</pre>\n"
      ],
      "text/plain": [
       "\u001b[3;30;107mOne model by Brand                                                          \u001b[0m\n",
       "\u001b[30;107m┏━━━━━━━━━━━━━━━━━━━━━━┳━━━━━━┳━━━━━━━━━━━━━┳━━━━━━━━━━━━━━━━━┳━━━━━━━━━━━━┓\u001b[0m\n",
       "\u001b[30;107m┃\u001b[0m\u001b[30;107m \u001b[0m\u001b[30;107m       Brand        \u001b[0m\u001b[30;107m \u001b[0m\u001b[30;107m┃\u001b[0m\u001b[30;107m \u001b[0m\u001b[30;107mRMSE\u001b[0m\u001b[30;107m \u001b[0m\u001b[30;107m┃\u001b[0m\u001b[30;107m \u001b[0m\u001b[30;107mTarget mean\u001b[0m\u001b[30;107m \u001b[0m\u001b[30;107m┃\u001b[0m\u001b[30;107m \u001b[0m\u001b[30;107mPrediction mean\u001b[0m\u001b[30;107m \u001b[0m\u001b[30;107m┃\u001b[0m\u001b[30;107m \u001b[0m\u001b[30;107mModel path\u001b[0m\u001b[30;107m \u001b[0m\u001b[30;107m┃\u001b[0m\n",
       "\u001b[30;107m┡━━━━━━━━━━━━━━━━━━━━━━╇━━━━━━╇━━━━━━━━━━━━━╇━━━━━━━━━━━━━━━━━╇━━━━━━━━━━━━┩\u001b[0m\n",
       "\u001b[30;107m│\u001b[0m\u001b[30;107m \u001b[0m\u001b[30;107mMerged Brand Dataset\u001b[0m\u001b[30;107m \u001b[0m\u001b[30;107m│\u001b[0m\u001b[30;107m \u001b[0m\u001b[1;36;107m2096\u001b[0m\u001b[30;107m \u001b[0m\u001b[30;107m│\u001b[0m\u001b[30;107m \u001b[0m\u001b[30;107m   \u001b[0m\u001b[1;36;107m16791\u001b[0m\u001b[30;107m   \u001b[0m\u001b[30;107m \u001b[0m\u001b[30;107m│\u001b[0m\u001b[30;107m \u001b[0m\u001b[30;107m     \u001b[0m\u001b[1;36;107m16636\u001b[0m\u001b[30;107m     \u001b[0m\u001b[30;107m \u001b[0m\u001b[30;107m│\u001b[0m\u001b[30;107m \u001b[0m\u001b[30;107m    -     \u001b[0m\u001b[30;107m \u001b[0m\u001b[30;107m│\u001b[0m\n",
       "\u001b[30;107m└──────────────────────┴──────┴─────────────┴─────────────────┴────────────┘\u001b[0m\n"
      ]
     },
     "metadata": {},
     "output_type": "display_data"
    }
   ],
   "source": [
    "bmmd.evaluate_model(model_filename='all_brands_estimator_optimized_rmse_2096.joblib',data_filename='all_brands.csv',verbose=False)"
   ]
  },
  {
   "cell_type": "code",
   "execution_count": 22,
   "id": "327c2cd1",
   "metadata": {
    "slideshow": {
     "slide_type": "subslide"
    }
   },
   "outputs": [
    {
     "name": "stdout",
     "output_type": "stream",
     "text": [
      "Loading all_brands.joblib\n",
      "RMSE: 3398.3865980622854\n"
     ]
    },
    {
     "data": {
      "text/html": [
       "<pre style=\"white-space:pre;overflow-x:auto;line-height:normal;font-family:Menlo,'DejaVu Sans Mono',consolas,'Courier New',monospace\"><span style=\"color: #000000; text-decoration-color: #000000; background-color: #ffffff; font-weight: bold\">MODEL PREDICTION TESTING</span> <span style=\"color: #000000; text-decoration-color: #000000; background-color: #ffffff\">────────────────────────────────────────────────────────────────────</span>\n",
       "</pre>\n"
      ],
      "text/plain": [
       "\u001b[1;52;30;107mMODEL PREDICTION TESTING\u001b[0m \u001b[30;107m────────────────────────────────────────────────────────────────────\u001b[0m\n"
      ]
     },
     "metadata": {},
     "output_type": "display_data"
    },
    {
     "data": {
      "text/html": [
       "<pre style=\"white-space:pre;overflow-x:auto;line-height:normal;font-family:Menlo,'DejaVu Sans Mono',consolas,'Courier New',monospace\"><span style=\"color: #000000; text-decoration-color: #000000; background-color: #ffffff; font-style: italic\">Prediction results                                                                           </span>\n",
       "<span style=\"color: #000000; text-decoration-color: #000000; background-color: #ffffff\">┏━━━━━━━━━━━━┳━━━━━━━━━━━━┳━━━━━━━┳━━━━━━━━━━━━┳━━━━━━━━┳━━━━━━━━━┳━━━━━━━━━━━━━━┳━━━━━━━━━━┓</span>\n",
       "<span style=\"color: #000000; text-decoration-color: #000000; background-color: #ffffff\">┃ Prediction ┃ Real Price ┃ Error ┃ Percentage ┃ brand  ┃  model  ┃ transmission ┃ fuel_ty… ┃</span>\n",
       "<span style=\"color: #000000; text-decoration-color: #000000; background-color: #ffffff\">┡━━━━━━━━━━━━╇━━━━━━━━━━━━╇━━━━━━━╇━━━━━━━━━━━━╇━━━━━━━━╇━━━━━━━━━╇━━━━━━━━━━━━━━╇━━━━━━━━━━┩</span>\n",
       "<span style=\"color: #000000; text-decoration-color: #000000; background-color: #ffffff\">│   </span><span style=\"color: #008080; text-decoration-color: #008080; background-color: #ffffff; font-weight: bold\">17969</span><span style=\"color: #000000; text-decoration-color: #000000; background-color: #ffffff\">    │   </span><span style=\"color: #008080; text-decoration-color: #008080; background-color: #ffffff; font-weight: bold\">17991</span><span style=\"color: #000000; text-decoration-color: #000000; background-color: #ffffff\">    │  </span><span style=\"color: #008080; text-decoration-color: #008080; background-color: #ffffff; font-weight: bold\">22</span><span style=\"color: #000000; text-decoration-color: #000000; background-color: #ffffff\">   │    </span><span style=\"color: #008080; text-decoration-color: #008080; background-color: #ffffff; font-weight: bold\">0</span><span style=\"color: #000000; text-decoration-color: #000000; background-color: #ffffff\"> %     │ toyota │  C-HR   │  Automatic   │  Petrol  │</span>\n",
       "<span style=\"color: #000000; text-decoration-color: #000000; background-color: #ffffff\">│   </span><span style=\"color: #008080; text-decoration-color: #008080; background-color: #ffffff; font-weight: bold\">13883</span><span style=\"color: #000000; text-decoration-color: #000000; background-color: #ffffff\">    │   </span><span style=\"color: #008080; text-decoration-color: #008080; background-color: #ffffff; font-weight: bold\">11995</span><span style=\"color: #000000; text-decoration-color: #000000; background-color: #ffffff\">    │ </span><span style=\"color: #008080; text-decoration-color: #008080; background-color: #ffffff; font-weight: bold\">1888</span><span style=\"color: #000000; text-decoration-color: #000000; background-color: #ffffff\">  │    </span><span style=\"color: #008080; text-decoration-color: #008080; background-color: #ffffff; font-weight: bold\">16</span><span style=\"color: #000000; text-decoration-color: #000000; background-color: #ffffff\"> %    │ toyota │  Yaris  │  Automatic   │  Hybrid  │</span>\n",
       "<span style=\"color: #000000; text-decoration-color: #000000; background-color: #ffffff\">│   </span><span style=\"color: #008080; text-decoration-color: #008080; background-color: #ffffff; font-weight: bold\">26001</span><span style=\"color: #000000; text-decoration-color: #000000; background-color: #ffffff\">    │   </span><span style=\"color: #008080; text-decoration-color: #008080; background-color: #ffffff; font-weight: bold\">25190</span><span style=\"color: #000000; text-decoration-color: #000000; background-color: #ffffff\">    │  </span><span style=\"color: #008080; text-decoration-color: #008080; background-color: #ffffff; font-weight: bold\">811</span><span style=\"color: #000000; text-decoration-color: #000000; background-color: #ffffff\">  │    </span><span style=\"color: #008080; text-decoration-color: #008080; background-color: #ffffff; font-weight: bold\">3</span><span style=\"color: #000000; text-decoration-color: #000000; background-color: #ffffff\"> %     │ skoda  │  Karoq  │  Automatic   │  Diesel  │</span>\n",
       "<span style=\"color: #000000; text-decoration-color: #000000; background-color: #ffffff\">│   </span><span style=\"color: #008080; text-decoration-color: #008080; background-color: #ffffff; font-weight: bold\">10959</span><span style=\"color: #000000; text-decoration-color: #000000; background-color: #ffffff\">    │   </span><span style=\"color: #008080; text-decoration-color: #008080; background-color: #ffffff; font-weight: bold\">14398</span><span style=\"color: #000000; text-decoration-color: #000000; background-color: #ffffff\">    │ </span><span style=\"color: #008080; text-decoration-color: #008080; background-color: #ffffff; font-weight: bold\">3439</span><span style=\"color: #000000; text-decoration-color: #000000; background-color: #ffffff\">  │    </span><span style=\"color: #008080; text-decoration-color: #008080; background-color: #ffffff; font-weight: bold\">24</span><span style=\"color: #000000; text-decoration-color: #000000; background-color: #ffffff\"> %    │  opel  │ Mokka X │  Semi-Auto   │  Petrol  │</span>\n",
       "<span style=\"color: #000000; text-decoration-color: #000000; background-color: #ffffff\">│   </span><span style=\"color: #008080; text-decoration-color: #008080; background-color: #ffffff; font-weight: bold\">33102</span><span style=\"color: #000000; text-decoration-color: #000000; background-color: #ffffff\">    │   </span><span style=\"color: #008080; text-decoration-color: #008080; background-color: #ffffff; font-weight: bold\">26825</span><span style=\"color: #000000; text-decoration-color: #000000; background-color: #ffffff\">    │ </span><span style=\"color: #008080; text-decoration-color: #008080; background-color: #ffffff; font-weight: bold\">6277</span><span style=\"color: #000000; text-decoration-color: #000000; background-color: #ffffff\">  │    </span><span style=\"color: #008080; text-decoration-color: #008080; background-color: #ffffff; font-weight: bold\">23</span><span style=\"color: #000000; text-decoration-color: #000000; background-color: #ffffff\"> %    │  bmw   │ </span><span style=\"color: #008080; text-decoration-color: #008080; background-color: #ffffff; font-weight: bold\">3</span><span style=\"color: #000000; text-decoration-color: #000000; background-color: #ffffff\"> Seri… │  Automatic   │  Petrol  │</span>\n",
       "<span style=\"color: #000000; text-decoration-color: #000000; background-color: #ffffff\">│   </span><span style=\"color: #008080; text-decoration-color: #008080; background-color: #ffffff; font-weight: bold\">11265</span><span style=\"color: #000000; text-decoration-color: #000000; background-color: #ffffff\">    │   </span><span style=\"color: #008080; text-decoration-color: #008080; background-color: #ffffff; font-weight: bold\">18490</span><span style=\"color: #000000; text-decoration-color: #000000; background-color: #ffffff\">    │ </span><span style=\"color: #008080; text-decoration-color: #008080; background-color: #ffffff; font-weight: bold\">7225</span><span style=\"color: #000000; text-decoration-color: #000000; background-color: #ffffff\">  │    </span><span style=\"color: #008080; text-decoration-color: #008080; background-color: #ffffff; font-weight: bold\">39</span><span style=\"color: #000000; text-decoration-color: #000000; background-color: #ffffff\"> %    │  audi  │   Q2    │  Semi-Auto   │  Petrol  │</span>\n",
       "<span style=\"color: #000000; text-decoration-color: #000000; background-color: #ffffff\">│   </span><span style=\"color: #008080; text-decoration-color: #008080; background-color: #ffffff; font-weight: bold\">10313</span><span style=\"color: #000000; text-decoration-color: #000000; background-color: #ffffff\">    │   </span><span style=\"color: #008080; text-decoration-color: #008080; background-color: #ffffff; font-weight: bold\">10494</span><span style=\"color: #000000; text-decoration-color: #000000; background-color: #ffffff\">    │  </span><span style=\"color: #008080; text-decoration-color: #008080; background-color: #ffffff; font-weight: bold\">181</span><span style=\"color: #000000; text-decoration-color: #000000; background-color: #ffffff\">  │    </span><span style=\"color: #008080; text-decoration-color: #008080; background-color: #ffffff; font-weight: bold\">2</span><span style=\"color: #000000; text-decoration-color: #000000; background-color: #ffffff\"> %     │ toyota │  Yaris  │    Manual    │  Petrol  │</span>\n",
       "<span style=\"color: #000000; text-decoration-color: #000000; background-color: #ffffff\">│   </span><span style=\"color: #008080; text-decoration-color: #008080; background-color: #ffffff; font-weight: bold\">10979</span><span style=\"color: #000000; text-decoration-color: #000000; background-color: #ffffff\">    │    </span><span style=\"color: #008080; text-decoration-color: #008080; background-color: #ffffff; font-weight: bold\">9898</span><span style=\"color: #000000; text-decoration-color: #000000; background-color: #ffffff\">    │ </span><span style=\"color: #008080; text-decoration-color: #008080; background-color: #ffffff; font-weight: bold\">1081</span><span style=\"color: #000000; text-decoration-color: #000000; background-color: #ffffff\">  │    </span><span style=\"color: #008080; text-decoration-color: #008080; background-color: #ffffff; font-weight: bold\">11</span><span style=\"color: #000000; text-decoration-color: #000000; background-color: #ffffff\"> %    │   vw   │ Golf SV │    Manual    │  Diesel  │</span>\n",
       "<span style=\"color: #000000; text-decoration-color: #000000; background-color: #ffffff\">│   </span><span style=\"color: #008080; text-decoration-color: #008080; background-color: #ffffff; font-weight: bold\">34515</span><span style=\"color: #000000; text-decoration-color: #000000; background-color: #ffffff\">    │   </span><span style=\"color: #008080; text-decoration-color: #008080; background-color: #ffffff; font-weight: bold\">36984</span><span style=\"color: #000000; text-decoration-color: #000000; background-color: #ffffff\">    │ </span><span style=\"color: #008080; text-decoration-color: #008080; background-color: #ffffff; font-weight: bold\">2469</span><span style=\"color: #000000; text-decoration-color: #000000; background-color: #ffffff\">  │    </span><span style=\"color: #008080; text-decoration-color: #008080; background-color: #ffffff; font-weight: bold\">7</span><span style=\"color: #000000; text-decoration-color: #000000; background-color: #ffffff\"> %     │  audi  │   Q5    │  Automatic   │  Diesel  │</span>\n",
       "<span style=\"color: #000000; text-decoration-color: #000000; background-color: #ffffff\">│   </span><span style=\"color: #008080; text-decoration-color: #008080; background-color: #ffffff; font-weight: bold\">28188</span><span style=\"color: #000000; text-decoration-color: #000000; background-color: #ffffff\">    │   </span><span style=\"color: #008080; text-decoration-color: #008080; background-color: #ffffff; font-weight: bold\">28919</span><span style=\"color: #000000; text-decoration-color: #000000; background-color: #ffffff\">    │  </span><span style=\"color: #008080; text-decoration-color: #008080; background-color: #ffffff; font-weight: bold\">731</span><span style=\"color: #000000; text-decoration-color: #000000; background-color: #ffffff\">  │    </span><span style=\"color: #008080; text-decoration-color: #008080; background-color: #ffffff; font-weight: bold\">3</span><span style=\"color: #000000; text-decoration-color: #000000; background-color: #ffffff\"> %     │  bmw   │ </span><span style=\"color: #008080; text-decoration-color: #008080; background-color: #ffffff; font-weight: bold\">5</span><span style=\"color: #000000; text-decoration-color: #000000; background-color: #ffffff\"> Seri… │  Semi-Auto   │  Diesel  │</span>\n",
       "<span style=\"color: #000000; text-decoration-color: #000000; background-color: #ffffff\">└────────────┴────────────┴───────┴────────────┴────────┴─────────┴──────────────┴──────────┘</span>\n",
       "</pre>\n"
      ],
      "text/plain": [
       "\u001b[3;30;107mPrediction results                                                                           \u001b[0m\n",
       "\u001b[30;107m┏━━━━━━━━━━━━┳━━━━━━━━━━━━┳━━━━━━━┳━━━━━━━━━━━━┳━━━━━━━━┳━━━━━━━━━┳━━━━━━━━━━━━━━┳━━━━━━━━━━┓\u001b[0m\n",
       "\u001b[30;107m┃\u001b[0m\u001b[30;107m \u001b[0m\u001b[30;107mPrediction\u001b[0m\u001b[30;107m \u001b[0m\u001b[30;107m┃\u001b[0m\u001b[30;107m \u001b[0m\u001b[30;107mReal Price\u001b[0m\u001b[30;107m \u001b[0m\u001b[30;107m┃\u001b[0m\u001b[30;107m \u001b[0m\u001b[30;107mError\u001b[0m\u001b[30;107m \u001b[0m\u001b[30;107m┃\u001b[0m\u001b[30;107m \u001b[0m\u001b[30;107mPercentage\u001b[0m\u001b[30;107m \u001b[0m\u001b[30;107m┃\u001b[0m\u001b[30;107m \u001b[0m\u001b[30;107mbrand \u001b[0m\u001b[30;107m \u001b[0m\u001b[30;107m┃\u001b[0m\u001b[30;107m \u001b[0m\u001b[30;107m model \u001b[0m\u001b[30;107m \u001b[0m\u001b[30;107m┃\u001b[0m\u001b[30;107m \u001b[0m\u001b[30;107mtransmission\u001b[0m\u001b[30;107m \u001b[0m\u001b[30;107m┃\u001b[0m\u001b[30;107m \u001b[0m\u001b[30;107mfuel_ty…\u001b[0m\u001b[30;107m \u001b[0m\u001b[30;107m┃\u001b[0m\n",
       "\u001b[30;107m┡━━━━━━━━━━━━╇━━━━━━━━━━━━╇━━━━━━━╇━━━━━━━━━━━━╇━━━━━━━━╇━━━━━━━━━╇━━━━━━━━━━━━━━╇━━━━━━━━━━┩\u001b[0m\n",
       "\u001b[30;107m│\u001b[0m\u001b[30;107m \u001b[0m\u001b[30;107m  \u001b[0m\u001b[1;36;107m17969\u001b[0m\u001b[30;107m   \u001b[0m\u001b[30;107m \u001b[0m\u001b[30;107m│\u001b[0m\u001b[30;107m \u001b[0m\u001b[30;107m  \u001b[0m\u001b[1;36;107m17991\u001b[0m\u001b[30;107m   \u001b[0m\u001b[30;107m \u001b[0m\u001b[30;107m│\u001b[0m\u001b[30;107m \u001b[0m\u001b[30;107m \u001b[0m\u001b[1;36;107m22\u001b[0m\u001b[30;107m  \u001b[0m\u001b[30;107m \u001b[0m\u001b[30;107m│\u001b[0m\u001b[30;107m \u001b[0m\u001b[30;107m   \u001b[0m\u001b[1;36;107m0\u001b[0m\u001b[30;107m %    \u001b[0m\u001b[30;107m \u001b[0m\u001b[30;107m│\u001b[0m\u001b[30;107m \u001b[0m\u001b[30;107mtoyota\u001b[0m\u001b[30;107m \u001b[0m\u001b[30;107m│\u001b[0m\u001b[30;107m \u001b[0m\u001b[30;107m C-HR  \u001b[0m\u001b[30;107m \u001b[0m\u001b[30;107m│\u001b[0m\u001b[30;107m \u001b[0m\u001b[30;107m Automatic  \u001b[0m\u001b[30;107m \u001b[0m\u001b[30;107m│\u001b[0m\u001b[30;107m \u001b[0m\u001b[30;107m Petrol \u001b[0m\u001b[30;107m \u001b[0m\u001b[30;107m│\u001b[0m\n",
       "\u001b[30;107m│\u001b[0m\u001b[30;107m \u001b[0m\u001b[30;107m  \u001b[0m\u001b[1;36;107m13883\u001b[0m\u001b[30;107m   \u001b[0m\u001b[30;107m \u001b[0m\u001b[30;107m│\u001b[0m\u001b[30;107m \u001b[0m\u001b[30;107m  \u001b[0m\u001b[1;36;107m11995\u001b[0m\u001b[30;107m   \u001b[0m\u001b[30;107m \u001b[0m\u001b[30;107m│\u001b[0m\u001b[30;107m \u001b[0m\u001b[1;36;107m1888\u001b[0m\u001b[30;107m \u001b[0m\u001b[30;107m \u001b[0m\u001b[30;107m│\u001b[0m\u001b[30;107m \u001b[0m\u001b[30;107m   \u001b[0m\u001b[1;36;107m16\u001b[0m\u001b[30;107m %   \u001b[0m\u001b[30;107m \u001b[0m\u001b[30;107m│\u001b[0m\u001b[30;107m \u001b[0m\u001b[30;107mtoyota\u001b[0m\u001b[30;107m \u001b[0m\u001b[30;107m│\u001b[0m\u001b[30;107m \u001b[0m\u001b[30;107m Yaris \u001b[0m\u001b[30;107m \u001b[0m\u001b[30;107m│\u001b[0m\u001b[30;107m \u001b[0m\u001b[30;107m Automatic  \u001b[0m\u001b[30;107m \u001b[0m\u001b[30;107m│\u001b[0m\u001b[30;107m \u001b[0m\u001b[30;107m Hybrid \u001b[0m\u001b[30;107m \u001b[0m\u001b[30;107m│\u001b[0m\n",
       "\u001b[30;107m│\u001b[0m\u001b[30;107m \u001b[0m\u001b[30;107m  \u001b[0m\u001b[1;36;107m26001\u001b[0m\u001b[30;107m   \u001b[0m\u001b[30;107m \u001b[0m\u001b[30;107m│\u001b[0m\u001b[30;107m \u001b[0m\u001b[30;107m  \u001b[0m\u001b[1;36;107m25190\u001b[0m\u001b[30;107m   \u001b[0m\u001b[30;107m \u001b[0m\u001b[30;107m│\u001b[0m\u001b[30;107m \u001b[0m\u001b[30;107m \u001b[0m\u001b[1;36;107m811\u001b[0m\u001b[30;107m \u001b[0m\u001b[30;107m \u001b[0m\u001b[30;107m│\u001b[0m\u001b[30;107m \u001b[0m\u001b[30;107m   \u001b[0m\u001b[1;36;107m3\u001b[0m\u001b[30;107m %    \u001b[0m\u001b[30;107m \u001b[0m\u001b[30;107m│\u001b[0m\u001b[30;107m \u001b[0m\u001b[30;107mskoda \u001b[0m\u001b[30;107m \u001b[0m\u001b[30;107m│\u001b[0m\u001b[30;107m \u001b[0m\u001b[30;107m Karoq \u001b[0m\u001b[30;107m \u001b[0m\u001b[30;107m│\u001b[0m\u001b[30;107m \u001b[0m\u001b[30;107m Automatic  \u001b[0m\u001b[30;107m \u001b[0m\u001b[30;107m│\u001b[0m\u001b[30;107m \u001b[0m\u001b[30;107m Diesel \u001b[0m\u001b[30;107m \u001b[0m\u001b[30;107m│\u001b[0m\n",
       "\u001b[30;107m│\u001b[0m\u001b[30;107m \u001b[0m\u001b[30;107m  \u001b[0m\u001b[1;36;107m10959\u001b[0m\u001b[30;107m   \u001b[0m\u001b[30;107m \u001b[0m\u001b[30;107m│\u001b[0m\u001b[30;107m \u001b[0m\u001b[30;107m  \u001b[0m\u001b[1;36;107m14398\u001b[0m\u001b[30;107m   \u001b[0m\u001b[30;107m \u001b[0m\u001b[30;107m│\u001b[0m\u001b[30;107m \u001b[0m\u001b[1;36;107m3439\u001b[0m\u001b[30;107m \u001b[0m\u001b[30;107m \u001b[0m\u001b[30;107m│\u001b[0m\u001b[30;107m \u001b[0m\u001b[30;107m   \u001b[0m\u001b[1;36;107m24\u001b[0m\u001b[30;107m %   \u001b[0m\u001b[30;107m \u001b[0m\u001b[30;107m│\u001b[0m\u001b[30;107m \u001b[0m\u001b[30;107m opel \u001b[0m\u001b[30;107m \u001b[0m\u001b[30;107m│\u001b[0m\u001b[30;107m \u001b[0m\u001b[30;107mMokka X\u001b[0m\u001b[30;107m \u001b[0m\u001b[30;107m│\u001b[0m\u001b[30;107m \u001b[0m\u001b[30;107m Semi-Auto  \u001b[0m\u001b[30;107m \u001b[0m\u001b[30;107m│\u001b[0m\u001b[30;107m \u001b[0m\u001b[30;107m Petrol \u001b[0m\u001b[30;107m \u001b[0m\u001b[30;107m│\u001b[0m\n",
       "\u001b[30;107m│\u001b[0m\u001b[30;107m \u001b[0m\u001b[30;107m  \u001b[0m\u001b[1;36;107m33102\u001b[0m\u001b[30;107m   \u001b[0m\u001b[30;107m \u001b[0m\u001b[30;107m│\u001b[0m\u001b[30;107m \u001b[0m\u001b[30;107m  \u001b[0m\u001b[1;36;107m26825\u001b[0m\u001b[30;107m   \u001b[0m\u001b[30;107m \u001b[0m\u001b[30;107m│\u001b[0m\u001b[30;107m \u001b[0m\u001b[1;36;107m6277\u001b[0m\u001b[30;107m \u001b[0m\u001b[30;107m \u001b[0m\u001b[30;107m│\u001b[0m\u001b[30;107m \u001b[0m\u001b[30;107m   \u001b[0m\u001b[1;36;107m23\u001b[0m\u001b[30;107m %   \u001b[0m\u001b[30;107m \u001b[0m\u001b[30;107m│\u001b[0m\u001b[30;107m \u001b[0m\u001b[30;107m bmw  \u001b[0m\u001b[30;107m \u001b[0m\u001b[30;107m│\u001b[0m\u001b[30;107m \u001b[0m\u001b[1;36;107m3\u001b[0m\u001b[30;107m Seri…\u001b[0m\u001b[30;107m \u001b[0m\u001b[30;107m│\u001b[0m\u001b[30;107m \u001b[0m\u001b[30;107m Automatic  \u001b[0m\u001b[30;107m \u001b[0m\u001b[30;107m│\u001b[0m\u001b[30;107m \u001b[0m\u001b[30;107m Petrol \u001b[0m\u001b[30;107m \u001b[0m\u001b[30;107m│\u001b[0m\n",
       "\u001b[30;107m│\u001b[0m\u001b[30;107m \u001b[0m\u001b[30;107m  \u001b[0m\u001b[1;36;107m11265\u001b[0m\u001b[30;107m   \u001b[0m\u001b[30;107m \u001b[0m\u001b[30;107m│\u001b[0m\u001b[30;107m \u001b[0m\u001b[30;107m  \u001b[0m\u001b[1;36;107m18490\u001b[0m\u001b[30;107m   \u001b[0m\u001b[30;107m \u001b[0m\u001b[30;107m│\u001b[0m\u001b[30;107m \u001b[0m\u001b[1;36;107m7225\u001b[0m\u001b[30;107m \u001b[0m\u001b[30;107m \u001b[0m\u001b[30;107m│\u001b[0m\u001b[30;107m \u001b[0m\u001b[30;107m   \u001b[0m\u001b[1;36;107m39\u001b[0m\u001b[30;107m %   \u001b[0m\u001b[30;107m \u001b[0m\u001b[30;107m│\u001b[0m\u001b[30;107m \u001b[0m\u001b[30;107m audi \u001b[0m\u001b[30;107m \u001b[0m\u001b[30;107m│\u001b[0m\u001b[30;107m \u001b[0m\u001b[30;107m  Q2   \u001b[0m\u001b[30;107m \u001b[0m\u001b[30;107m│\u001b[0m\u001b[30;107m \u001b[0m\u001b[30;107m Semi-Auto  \u001b[0m\u001b[30;107m \u001b[0m\u001b[30;107m│\u001b[0m\u001b[30;107m \u001b[0m\u001b[30;107m Petrol \u001b[0m\u001b[30;107m \u001b[0m\u001b[30;107m│\u001b[0m\n",
       "\u001b[30;107m│\u001b[0m\u001b[30;107m \u001b[0m\u001b[30;107m  \u001b[0m\u001b[1;36;107m10313\u001b[0m\u001b[30;107m   \u001b[0m\u001b[30;107m \u001b[0m\u001b[30;107m│\u001b[0m\u001b[30;107m \u001b[0m\u001b[30;107m  \u001b[0m\u001b[1;36;107m10494\u001b[0m\u001b[30;107m   \u001b[0m\u001b[30;107m \u001b[0m\u001b[30;107m│\u001b[0m\u001b[30;107m \u001b[0m\u001b[30;107m \u001b[0m\u001b[1;36;107m181\u001b[0m\u001b[30;107m \u001b[0m\u001b[30;107m \u001b[0m\u001b[30;107m│\u001b[0m\u001b[30;107m \u001b[0m\u001b[30;107m   \u001b[0m\u001b[1;36;107m2\u001b[0m\u001b[30;107m %    \u001b[0m\u001b[30;107m \u001b[0m\u001b[30;107m│\u001b[0m\u001b[30;107m \u001b[0m\u001b[30;107mtoyota\u001b[0m\u001b[30;107m \u001b[0m\u001b[30;107m│\u001b[0m\u001b[30;107m \u001b[0m\u001b[30;107m Yaris \u001b[0m\u001b[30;107m \u001b[0m\u001b[30;107m│\u001b[0m\u001b[30;107m \u001b[0m\u001b[30;107m   Manual   \u001b[0m\u001b[30;107m \u001b[0m\u001b[30;107m│\u001b[0m\u001b[30;107m \u001b[0m\u001b[30;107m Petrol \u001b[0m\u001b[30;107m \u001b[0m\u001b[30;107m│\u001b[0m\n",
       "\u001b[30;107m│\u001b[0m\u001b[30;107m \u001b[0m\u001b[30;107m  \u001b[0m\u001b[1;36;107m10979\u001b[0m\u001b[30;107m   \u001b[0m\u001b[30;107m \u001b[0m\u001b[30;107m│\u001b[0m\u001b[30;107m \u001b[0m\u001b[30;107m   \u001b[0m\u001b[1;36;107m9898\u001b[0m\u001b[30;107m   \u001b[0m\u001b[30;107m \u001b[0m\u001b[30;107m│\u001b[0m\u001b[30;107m \u001b[0m\u001b[1;36;107m1081\u001b[0m\u001b[30;107m \u001b[0m\u001b[30;107m \u001b[0m\u001b[30;107m│\u001b[0m\u001b[30;107m \u001b[0m\u001b[30;107m   \u001b[0m\u001b[1;36;107m11\u001b[0m\u001b[30;107m %   \u001b[0m\u001b[30;107m \u001b[0m\u001b[30;107m│\u001b[0m\u001b[30;107m \u001b[0m\u001b[30;107m  vw  \u001b[0m\u001b[30;107m \u001b[0m\u001b[30;107m│\u001b[0m\u001b[30;107m \u001b[0m\u001b[30;107mGolf SV\u001b[0m\u001b[30;107m \u001b[0m\u001b[30;107m│\u001b[0m\u001b[30;107m \u001b[0m\u001b[30;107m   Manual   \u001b[0m\u001b[30;107m \u001b[0m\u001b[30;107m│\u001b[0m\u001b[30;107m \u001b[0m\u001b[30;107m Diesel \u001b[0m\u001b[30;107m \u001b[0m\u001b[30;107m│\u001b[0m\n",
       "\u001b[30;107m│\u001b[0m\u001b[30;107m \u001b[0m\u001b[30;107m  \u001b[0m\u001b[1;36;107m34515\u001b[0m\u001b[30;107m   \u001b[0m\u001b[30;107m \u001b[0m\u001b[30;107m│\u001b[0m\u001b[30;107m \u001b[0m\u001b[30;107m  \u001b[0m\u001b[1;36;107m36984\u001b[0m\u001b[30;107m   \u001b[0m\u001b[30;107m \u001b[0m\u001b[30;107m│\u001b[0m\u001b[30;107m \u001b[0m\u001b[1;36;107m2469\u001b[0m\u001b[30;107m \u001b[0m\u001b[30;107m \u001b[0m\u001b[30;107m│\u001b[0m\u001b[30;107m \u001b[0m\u001b[30;107m   \u001b[0m\u001b[1;36;107m7\u001b[0m\u001b[30;107m %    \u001b[0m\u001b[30;107m \u001b[0m\u001b[30;107m│\u001b[0m\u001b[30;107m \u001b[0m\u001b[30;107m audi \u001b[0m\u001b[30;107m \u001b[0m\u001b[30;107m│\u001b[0m\u001b[30;107m \u001b[0m\u001b[30;107m  Q5   \u001b[0m\u001b[30;107m \u001b[0m\u001b[30;107m│\u001b[0m\u001b[30;107m \u001b[0m\u001b[30;107m Automatic  \u001b[0m\u001b[30;107m \u001b[0m\u001b[30;107m│\u001b[0m\u001b[30;107m \u001b[0m\u001b[30;107m Diesel \u001b[0m\u001b[30;107m \u001b[0m\u001b[30;107m│\u001b[0m\n",
       "\u001b[30;107m│\u001b[0m\u001b[30;107m \u001b[0m\u001b[30;107m  \u001b[0m\u001b[1;36;107m28188\u001b[0m\u001b[30;107m   \u001b[0m\u001b[30;107m \u001b[0m\u001b[30;107m│\u001b[0m\u001b[30;107m \u001b[0m\u001b[30;107m  \u001b[0m\u001b[1;36;107m28919\u001b[0m\u001b[30;107m   \u001b[0m\u001b[30;107m \u001b[0m\u001b[30;107m│\u001b[0m\u001b[30;107m \u001b[0m\u001b[30;107m \u001b[0m\u001b[1;36;107m731\u001b[0m\u001b[30;107m \u001b[0m\u001b[30;107m \u001b[0m\u001b[30;107m│\u001b[0m\u001b[30;107m \u001b[0m\u001b[30;107m   \u001b[0m\u001b[1;36;107m3\u001b[0m\u001b[30;107m %    \u001b[0m\u001b[30;107m \u001b[0m\u001b[30;107m│\u001b[0m\u001b[30;107m \u001b[0m\u001b[30;107m bmw  \u001b[0m\u001b[30;107m \u001b[0m\u001b[30;107m│\u001b[0m\u001b[30;107m \u001b[0m\u001b[1;36;107m5\u001b[0m\u001b[30;107m Seri…\u001b[0m\u001b[30;107m \u001b[0m\u001b[30;107m│\u001b[0m\u001b[30;107m \u001b[0m\u001b[30;107m Semi-Auto  \u001b[0m\u001b[30;107m \u001b[0m\u001b[30;107m│\u001b[0m\u001b[30;107m \u001b[0m\u001b[30;107m Diesel \u001b[0m\u001b[30;107m \u001b[0m\u001b[30;107m│\u001b[0m\n",
       "\u001b[30;107m└────────────┴────────────┴───────┴────────────┴────────┴─────────┴──────────────┴──────────┘\u001b[0m\n"
      ]
     },
     "metadata": {},
     "output_type": "display_data"
    }
   ],
   "source": [
    "model = bmmd.get_model(model_filename='all_brands.joblib', data_filename='all_brands.csv',verbose=False)\n",
    "df = bmmd.get_data('all_brands.csv')\n",
    "X_train, X_val, X_test, y_train, y_val, y_test = bmmd.get_split_sets(df)\n",
    "evaluate_prediction(model, X_test, y_test,sample=10,add_columns=['brand','model','transmission','fuel_type'])"
   ]
  },
  {
   "cell_type": "markdown",
   "id": "bb948cbf",
   "metadata": {
    "slideshow": {
     "slide_type": "slide"
    }
   },
   "source": [
    "### Entraînement Incrémental\n",
    "\n",
    "Le model est entrainé sur chaque jeu de données en conservant les arbres précédemment créés."
   ]
  },
  {
   "cell_type": "code",
   "execution_count": 30,
   "id": "cab2bb5a",
   "metadata": {
    "slideshow": {
     "slide_type": "subslide"
    }
   },
   "outputs": [
    {
     "data": {
      "text/html": [
       "<pre style=\"white-space:pre;overflow-x:auto;line-height:normal;font-family:Menlo,'DejaVu Sans Mono',consolas,'Courier New',monospace\"><span style=\"color: #000000; text-decoration-color: #000000; background-color: #ffffff; font-weight: bold\">PERFORMANCE COMPARISON</span> <span style=\"color: #000000; text-decoration-color: #000000; background-color: #ffffff\">──────────────────────────────────────────────────────────────────────</span>\n",
       "</pre>\n"
      ],
      "text/plain": [
       "\u001b[1;52;30;107mPERFORMANCE COMPARISON\u001b[0m \u001b[30;107m──────────────────────────────────────────────────────────────────────\u001b[0m\n"
      ]
     },
     "metadata": {},
     "output_type": "display_data"
    },
    {
     "data": {
      "text/html": [
       "<pre style=\"white-space:pre;overflow-x:auto;line-height:normal;font-family:Menlo,'DejaVu Sans Mono',consolas,'Courier New',monospace\"><span style=\"color: #000000; text-decoration-color: #000000; background-color: #ffffff; font-style: italic\">One model by Brand                                                                         </span>\n",
       "<span style=\"color: #000000; text-decoration-color: #000000; background-color: #ffffff\">┏━━━━━━━━━━━━┳━━━━━━┳━━━━━━━━━━━━━┳━━━━━━━━━━━━━━━━━┳━━━━━━━━━━━━━━━━━━━━━━━━━━━━━━━━━━━━━┓</span>\n",
       "<span style=\"color: #000000; text-decoration-color: #000000; background-color: #ffffff\">┃   Brand    ┃ RMSE ┃ Target mean ┃ Prediction mean ┃             Model path              ┃</span>\n",
       "<span style=\"color: #000000; text-decoration-color: #000000; background-color: #ffffff\">┡━━━━━━━━━━━━╇━━━━━━╇━━━━━━━━━━━━━╇━━━━━━━━━━━━━━━━━╇━━━━━━━━━━━━━━━━━━━━━━━━━━━━━━━━━━━━━┩</span>\n",
       "<span style=\"color: #000000; text-decoration-color: #000000; background-color: #ffffff\">│ Inc. Model │ </span><span style=\"color: #008080; text-decoration-color: #008080; background-color: #ffffff; font-weight: bold\">8652</span><span style=\"color: #000000; text-decoration-color: #000000; background-color: #ffffff\"> │    </span><span style=\"color: #008080; text-decoration-color: #008080; background-color: #ffffff; font-weight: bold\">16802</span><span style=\"color: #000000; text-decoration-color: #000000; background-color: #ffffff\">    │      </span><span style=\"color: #008080; text-decoration-color: #008080; background-color: #ffffff; font-weight: bold\">11661</span><span style=\"color: #000000; text-decoration-color: #000000; background-color: #ffffff\">      │ model/all_brand_model_8652.</span><span style=\"color: #008080; text-decoration-color: #008080; background-color: #ffffff; font-weight: bold\">0.</span><span style=\"color: #000000; text-decoration-color: #000000; background-color: #ffffff\">joblib │</span>\n",
       "<span style=\"color: #000000; text-decoration-color: #000000; background-color: #ffffff\">└────────────┴──────┴─────────────┴─────────────────┴─────────────────────────────────────┘</span>\n",
       "</pre>\n"
      ],
      "text/plain": [
       "\u001b[3;30;107mOne model by Brand                                                                         \u001b[0m\n",
       "\u001b[30;107m┏━━━━━━━━━━━━┳━━━━━━┳━━━━━━━━━━━━━┳━━━━━━━━━━━━━━━━━┳━━━━━━━━━━━━━━━━━━━━━━━━━━━━━━━━━━━━━┓\u001b[0m\n",
       "\u001b[30;107m┃\u001b[0m\u001b[30;107m \u001b[0m\u001b[30;107m  Brand   \u001b[0m\u001b[30;107m \u001b[0m\u001b[30;107m┃\u001b[0m\u001b[30;107m \u001b[0m\u001b[30;107mRMSE\u001b[0m\u001b[30;107m \u001b[0m\u001b[30;107m┃\u001b[0m\u001b[30;107m \u001b[0m\u001b[30;107mTarget mean\u001b[0m\u001b[30;107m \u001b[0m\u001b[30;107m┃\u001b[0m\u001b[30;107m \u001b[0m\u001b[30;107mPrediction mean\u001b[0m\u001b[30;107m \u001b[0m\u001b[30;107m┃\u001b[0m\u001b[30;107m \u001b[0m\u001b[30;107m            Model path             \u001b[0m\u001b[30;107m \u001b[0m\u001b[30;107m┃\u001b[0m\n",
       "\u001b[30;107m┡━━━━━━━━━━━━╇━━━━━━╇━━━━━━━━━━━━━╇━━━━━━━━━━━━━━━━━╇━━━━━━━━━━━━━━━━━━━━━━━━━━━━━━━━━━━━━┩\u001b[0m\n",
       "\u001b[30;107m│\u001b[0m\u001b[30;107m \u001b[0m\u001b[30;107mInc. Model\u001b[0m\u001b[30;107m \u001b[0m\u001b[30;107m│\u001b[0m\u001b[30;107m \u001b[0m\u001b[1;36;107m8652\u001b[0m\u001b[30;107m \u001b[0m\u001b[30;107m│\u001b[0m\u001b[30;107m \u001b[0m\u001b[30;107m   \u001b[0m\u001b[1;36;107m16802\u001b[0m\u001b[30;107m   \u001b[0m\u001b[30;107m \u001b[0m\u001b[30;107m│\u001b[0m\u001b[30;107m \u001b[0m\u001b[30;107m     \u001b[0m\u001b[1;36;107m11661\u001b[0m\u001b[30;107m     \u001b[0m\u001b[30;107m \u001b[0m\u001b[30;107m│\u001b[0m\u001b[30;107m \u001b[0m\u001b[30;107mmodel/all_brand_model_8652.\u001b[0m\u001b[1;36;107m0.\u001b[0m\u001b[30;107mjoblib\u001b[0m\u001b[30;107m \u001b[0m\u001b[30;107m│\u001b[0m\n",
       "\u001b[30;107m└────────────┴──────┴─────────────┴─────────────────┴─────────────────────────────────────┘\u001b[0m\n"
      ]
     },
     "metadata": {},
     "output_type": "display_data"
    }
   ],
   "source": [
    "get_one_model_for_all(model_to_dump=True, evaluation=True, verbose=False)"
   ]
  }
 ],
 "metadata": {
  "celltoolbar": "Slideshow",
  "kernelspec": {
   "display_name": "Python 3",
   "language": "python",
   "name": "python3"
  },
  "language_info": {
   "codemirror_mode": {
    "name": "ipython",
    "version": 3
   },
   "file_extension": ".py",
   "mimetype": "text/x-python",
   "name": "python",
   "nbconvert_exporter": "python",
   "pygments_lexer": "ipython3",
   "version": "3.8.11"
  },
  "rise": {
   "footer": "<h3>JBS</h3>",
   "header": "<h1>UK Used Car Prediction</h1>",
   "start_slideshow_at": "beginning"
  },
  "toc": {
   "base_numbering": 1,
   "nav_menu": {},
   "number_sections": true,
   "sideBar": true,
   "skip_h1_title": false,
   "title_cell": "Table of Contents",
   "title_sidebar": "Contents",
   "toc_cell": false,
   "toc_position": {},
   "toc_section_display": true,
   "toc_window_display": false
  }
 },
 "nbformat": 4,
 "nbformat_minor": 5
}
