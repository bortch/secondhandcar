{
 "cells": [
  {
   "cell_type": "code",
   "execution_count": 66,
   "id": "1a7bb67f",
   "metadata": {
    "slideshow": {
     "slide_type": "skip"
    }
   },
   "outputs": [],
   "source": [
    "# autoreload reloads modules automatically before entering the execution of code typed at the IPython prompt.\n",
    "%reload_ext autoreload\n",
    "%autoreload 2\n",
    "%aimport feature_preprocessing_pipeline"
   ]
  },
  {
   "cell_type": "code",
   "execution_count": 116,
   "id": "c30d3dbb",
   "metadata": {
    "slideshow": {
     "slide_type": "skip"
    }
   },
   "outputs": [],
   "source": [
    "from sklearn import set_config\n",
    "from os import system\n",
    "from os.path import join, isfile\n",
    "from joblib import dump, load\n",
    "from feature_preprocessing_pipeline import categorize, extract_features, clean_variables, evaluate_prediction\n",
    "from sklearn import tree\n",
    "import matplotlib.pyplot as plt\n",
    "import pandas as pd\n",
    "import numpy as np\n",
    "from sklearn import tree\n",
    "#from dtreeviz.trees import dtreeviz"
   ]
  },
  {
   "cell_type": "code",
   "execution_count": 57,
   "id": "799b2867",
   "metadata": {
    "slideshow": {
     "slide_type": "skip"
    }
   },
   "outputs": [],
   "source": [
    "set_config(display='diagram') "
   ]
  },
  {
   "cell_type": "code",
   "execution_count": 58,
   "id": "38116cba",
   "metadata": {
    "slideshow": {
     "slide_type": "skip"
    }
   },
   "outputs": [],
   "source": [
    "dataset_directory_path = 'dataset/'\n",
    "model_directory_path = 'model/'"
   ]
  },
  {
   "cell_type": "code",
   "execution_count": 90,
   "id": "51e30144",
   "metadata": {
    "slideshow": {
     "slide_type": "skip"
    }
   },
   "outputs": [],
   "source": [
    "model_name = 'RFR_1829'\n",
    "model_filename = f'{model_name}.joblib'\n",
    "model_path = join(model_directory_path, model_filename)\n",
    "model = load(model_path)"
   ]
  },
  {
   "cell_type": "code",
   "execution_count": 60,
   "id": "8eb71f4a",
   "metadata": {
    "slideshow": {
     "slide_type": "skip"
    }
   },
   "outputs": [],
   "source": [
    "def get_data(file_path, target_column,dataset_directory_path='./dataset/', sample=None, callback=None):\n",
    "    data = pd.read_csv(join(dataset_directory_path, file_path), index_col=0)\n",
    "    if callback:\n",
    "        data = callback(data)\n",
    "    if sample:\n",
    "        data = data.sample(n=sample)\n",
    "    X = data.drop(labels=[target_column], axis=1)\n",
    "    y = np.log(data[target_column])\n",
    "    return X,y\n",
    "\n"
   ]
  },
  {
   "cell_type": "code",
   "execution_count": 82,
   "id": "736a9778",
   "metadata": {},
   "outputs": [],
   "source": [
    "X_test = pd.read_csv(join(dataset_directory_path, 'X_test.csv'), index_col=0)\n",
    "y_test = pd.read_csv(join(dataset_directory_path, 'y_test.csv'), index_col=0)"
   ]
  },
  {
   "cell_type": "markdown",
   "id": "5e1f1e53",
   "metadata": {
    "slideshow": {
     "slide_type": "slide"
    }
   },
   "source": [
    "## Description du model "
   ]
  },
  {
   "cell_type": "markdown",
   "id": "7da28f85",
   "metadata": {
    "slideshow": {
     "slide_type": "fragment"
    }
   },
   "source": [
    "### Diagramme"
   ]
  },
  {
   "cell_type": "code",
   "execution_count": 61,
   "id": "ad9ea6e2",
   "metadata": {
    "scrolled": false,
    "slideshow": {
     "slide_type": "fragment"
    }
   },
   "outputs": [
    {
     "data": {
      "text/html": [
       "<style>#sk-a6793d80-1555-4dec-a97e-b15e8d6a622e {color: black;background-color: white;}#sk-a6793d80-1555-4dec-a97e-b15e8d6a622e pre{padding: 0;}#sk-a6793d80-1555-4dec-a97e-b15e8d6a622e div.sk-toggleable {background-color: white;}#sk-a6793d80-1555-4dec-a97e-b15e8d6a622e label.sk-toggleable__label {cursor: pointer;display: block;width: 100%;margin-bottom: 0;padding: 0.2em 0.3em;box-sizing: border-box;text-align: center;}#sk-a6793d80-1555-4dec-a97e-b15e8d6a622e div.sk-toggleable__content {max-height: 0;max-width: 0;overflow: hidden;text-align: left;background-color: #f0f8ff;}#sk-a6793d80-1555-4dec-a97e-b15e8d6a622e div.sk-toggleable__content pre {margin: 0.2em;color: black;border-radius: 0.25em;background-color: #f0f8ff;}#sk-a6793d80-1555-4dec-a97e-b15e8d6a622e input.sk-toggleable__control:checked~div.sk-toggleable__content {max-height: 200px;max-width: 100%;overflow: auto;}#sk-a6793d80-1555-4dec-a97e-b15e8d6a622e div.sk-estimator input.sk-toggleable__control:checked~label.sk-toggleable__label {background-color: #d4ebff;}#sk-a6793d80-1555-4dec-a97e-b15e8d6a622e div.sk-label input.sk-toggleable__control:checked~label.sk-toggleable__label {background-color: #d4ebff;}#sk-a6793d80-1555-4dec-a97e-b15e8d6a622e input.sk-hidden--visually {border: 0;clip: rect(1px 1px 1px 1px);clip: rect(1px, 1px, 1px, 1px);height: 1px;margin: -1px;overflow: hidden;padding: 0;position: absolute;width: 1px;}#sk-a6793d80-1555-4dec-a97e-b15e8d6a622e div.sk-estimator {font-family: monospace;background-color: #f0f8ff;margin: 0.25em 0.25em;border: 1px dotted black;border-radius: 0.25em;box-sizing: border-box;}#sk-a6793d80-1555-4dec-a97e-b15e8d6a622e div.sk-estimator:hover {background-color: #d4ebff;}#sk-a6793d80-1555-4dec-a97e-b15e8d6a622e div.sk-parallel-item::after {content: \"\";width: 100%;border-bottom: 1px solid gray;flex-grow: 1;}#sk-a6793d80-1555-4dec-a97e-b15e8d6a622e div.sk-label:hover label.sk-toggleable__label {background-color: #d4ebff;}#sk-a6793d80-1555-4dec-a97e-b15e8d6a622e div.sk-serial::before {content: \"\";position: absolute;border-left: 1px solid gray;box-sizing: border-box;top: 2em;bottom: 0;left: 50%;}#sk-a6793d80-1555-4dec-a97e-b15e8d6a622e div.sk-serial {display: flex;flex-direction: column;align-items: center;background-color: white;}#sk-a6793d80-1555-4dec-a97e-b15e8d6a622e div.sk-item {z-index: 1;}#sk-a6793d80-1555-4dec-a97e-b15e8d6a622e div.sk-parallel {display: flex;align-items: stretch;justify-content: center;background-color: white;}#sk-a6793d80-1555-4dec-a97e-b15e8d6a622e div.sk-parallel-item {display: flex;flex-direction: column;position: relative;background-color: white;}#sk-a6793d80-1555-4dec-a97e-b15e8d6a622e div.sk-parallel-item:first-child::after {align-self: flex-end;width: 50%;}#sk-a6793d80-1555-4dec-a97e-b15e8d6a622e div.sk-parallel-item:last-child::after {align-self: flex-start;width: 50%;}#sk-a6793d80-1555-4dec-a97e-b15e8d6a622e div.sk-parallel-item:only-child::after {width: 0;}#sk-a6793d80-1555-4dec-a97e-b15e8d6a622e div.sk-dashed-wrapped {border: 1px dashed gray;margin: 0.2em;box-sizing: border-box;padding-bottom: 0.1em;background-color: white;position: relative;}#sk-a6793d80-1555-4dec-a97e-b15e8d6a622e div.sk-label label {font-family: monospace;font-weight: bold;background-color: white;display: inline-block;line-height: 1.2em;}#sk-a6793d80-1555-4dec-a97e-b15e8d6a622e div.sk-label-container {position: relative;z-index: 2;text-align: center;}#sk-a6793d80-1555-4dec-a97e-b15e8d6a622e div.sk-container {display: inline-block;position: relative;}</style><div id=\"sk-a6793d80-1555-4dec-a97e-b15e8d6a622e\" class\"sk-top-container\"><div class=\"sk-container\"><div class=\"sk-item sk-dashed-wrapped\"><div class=\"sk-label-container\"><div class=\"sk-label sk-toggleable\"><input class=\"sk-toggleable__control sk-hidden--visually\" id=\"4af443a1-a46e-4e00-8bb1-8849ee2a091a\" type=\"checkbox\" ><label class=\"sk-toggleable__label\" for=\"4af443a1-a46e-4e00-8bb1-8849ee2a091a\">Pipeline</label><div class=\"sk-toggleable__content\"><pre>Pipeline(steps=[('features_extraction',\n",
       "                 FunctionTransformer(func=<function extract_features at 0x7fa4c038a160>)),\n",
       "                ('transformer',\n",
       "                 ColumnTransformer(remainder='passthrough',\n",
       "                                   transformers=[('poly',\n",
       "                                                  PolynomialFeatures(include_bias=False),\n",
       "                                                  <sklearn.compose._column_transformer.make_column_selector object at 0x7fa4c017da60>),\n",
       "                                                 ('mpg_discretizer',\n",
       "                                                  KBinsDiscretizer(n_bin...\n",
       "                                                                   OneHotEncoder(handle_unknown='ignore'))],\n",
       "                                                           verbose=True),\n",
       "                                                  ['transmission']),\n",
       "                                                 ('fuel_type_pipe',\n",
       "                                                  Pipeline(steps=[('OHE',\n",
       "                                                                   OneHotEncoder(handle_unknown='ignore'))],\n",
       "                                                           verbose=True),\n",
       "                                                  ['fuel_type'])],\n",
       "                                   verbose=2)),\n",
       "                ('scaler', StandardScaler(with_mean=False)),\n",
       "                ('random_forest',\n",
       "                 RandomForestRegressor(max_depth=50, min_samples_split=6,\n",
       "                                       n_jobs=-1, verbose=True,\n",
       "                                       warm_start=True))],\n",
       "         verbose=True)</pre></div></div></div><div class=\"sk-serial\"><div class=\"sk-item\"><div class=\"sk-estimator sk-toggleable\"><input class=\"sk-toggleable__control sk-hidden--visually\" id=\"fa1d9268-9bed-4da7-a3a2-d5a54e2a227c\" type=\"checkbox\" ><label class=\"sk-toggleable__label\" for=\"fa1d9268-9bed-4da7-a3a2-d5a54e2a227c\">FunctionTransformer</label><div class=\"sk-toggleable__content\"><pre>FunctionTransformer(func=<function extract_features at 0x7fa4c038a160>)</pre></div></div></div><div class=\"sk-item sk-dashed-wrapped\"><div class=\"sk-label-container\"><div class=\"sk-label sk-toggleable\"><input class=\"sk-toggleable__control sk-hidden--visually\" id=\"dcc2b697-cc1b-4fc2-a4e0-7454f2977a59\" type=\"checkbox\" ><label class=\"sk-toggleable__label\" for=\"dcc2b697-cc1b-4fc2-a4e0-7454f2977a59\">transformer: ColumnTransformer</label><div class=\"sk-toggleable__content\"><pre>ColumnTransformer(remainder='passthrough',\n",
       "                  transformers=[('poly', PolynomialFeatures(include_bias=False),\n",
       "                                 <sklearn.compose._column_transformer.make_column_selector object at 0x7fa4c017da60>),\n",
       "                                ('mpg_discretizer',\n",
       "                                 KBinsDiscretizer(n_bins=6, strategy='uniform'),\n",
       "                                 ['mpg']),\n",
       "                                ('tax_discretizer', KBinsDiscretizer(n_bins=9),\n",
       "                                 ['tax']),\n",
       "                                ('engine_size_discretizer',\n",
       "                                 KBinsDisc...\n",
       "                                 ['model']),\n",
       "                                ('brand_pipe',\n",
       "                                 Pipeline(steps=[('OHE',\n",
       "                                                  OneHotEncoder(handle_unknown='ignore'))],\n",
       "                                          verbose=True),\n",
       "                                 ['brand']),\n",
       "                                ('transmission_pipe',\n",
       "                                 Pipeline(steps=[('OHE',\n",
       "                                                  OneHotEncoder(handle_unknown='ignore'))],\n",
       "                                          verbose=True),\n",
       "                                 ['transmission']),\n",
       "                                ('fuel_type_pipe',\n",
       "                                 Pipeline(steps=[('OHE',\n",
       "                                                  OneHotEncoder(handle_unknown='ignore'))],\n",
       "                                          verbose=True),\n",
       "                                 ['fuel_type'])],\n",
       "                  verbose=2)</pre></div></div></div><div class=\"sk-parallel\"><div class=\"sk-parallel-item\"><div class=\"sk-item\"><div class=\"sk-label-container\"><div class=\"sk-label sk-toggleable\"><input class=\"sk-toggleable__control sk-hidden--visually\" id=\"8463aaa8-abbf-4da6-ad34-343b472e0d67\" type=\"checkbox\" ><label class=\"sk-toggleable__label\" for=\"8463aaa8-abbf-4da6-ad34-343b472e0d67\">poly</label><div class=\"sk-toggleable__content\"><pre><sklearn.compose._column_transformer.make_column_selector object at 0x7fa4c017da60></pre></div></div></div><div class=\"sk-serial\"><div class=\"sk-item\"><div class=\"sk-estimator sk-toggleable\"><input class=\"sk-toggleable__control sk-hidden--visually\" id=\"cf2f0bb9-d5e1-4149-981b-a8660606b7c1\" type=\"checkbox\" ><label class=\"sk-toggleable__label\" for=\"cf2f0bb9-d5e1-4149-981b-a8660606b7c1\">PolynomialFeatures</label><div class=\"sk-toggleable__content\"><pre>PolynomialFeatures(include_bias=False)</pre></div></div></div></div></div></div><div class=\"sk-parallel-item\"><div class=\"sk-item\"><div class=\"sk-label-container\"><div class=\"sk-label sk-toggleable\"><input class=\"sk-toggleable__control sk-hidden--visually\" id=\"04816c80-60a1-405c-a860-7b10c17c3f2f\" type=\"checkbox\" ><label class=\"sk-toggleable__label\" for=\"04816c80-60a1-405c-a860-7b10c17c3f2f\">mpg_discretizer</label><div class=\"sk-toggleable__content\"><pre>['mpg']</pre></div></div></div><div class=\"sk-serial\"><div class=\"sk-item\"><div class=\"sk-estimator sk-toggleable\"><input class=\"sk-toggleable__control sk-hidden--visually\" id=\"7f03090d-053a-4f1d-a14b-5640e601d30f\" type=\"checkbox\" ><label class=\"sk-toggleable__label\" for=\"7f03090d-053a-4f1d-a14b-5640e601d30f\">KBinsDiscretizer</label><div class=\"sk-toggleable__content\"><pre>KBinsDiscretizer(n_bins=6, strategy='uniform')</pre></div></div></div></div></div></div><div class=\"sk-parallel-item\"><div class=\"sk-item\"><div class=\"sk-label-container\"><div class=\"sk-label sk-toggleable\"><input class=\"sk-toggleable__control sk-hidden--visually\" id=\"10856b86-6969-455a-baf9-03a089d02976\" type=\"checkbox\" ><label class=\"sk-toggleable__label\" for=\"10856b86-6969-455a-baf9-03a089d02976\">tax_discretizer</label><div class=\"sk-toggleable__content\"><pre>['tax']</pre></div></div></div><div class=\"sk-serial\"><div class=\"sk-item\"><div class=\"sk-estimator sk-toggleable\"><input class=\"sk-toggleable__control sk-hidden--visually\" id=\"5233de8e-991a-48e3-aa5a-99eecc7c4324\" type=\"checkbox\" ><label class=\"sk-toggleable__label\" for=\"5233de8e-991a-48e3-aa5a-99eecc7c4324\">KBinsDiscretizer</label><div class=\"sk-toggleable__content\"><pre>KBinsDiscretizer(n_bins=9)</pre></div></div></div></div></div></div><div class=\"sk-parallel-item\"><div class=\"sk-item\"><div class=\"sk-label-container\"><div class=\"sk-label sk-toggleable\"><input class=\"sk-toggleable__control sk-hidden--visually\" id=\"2a4d0b95-13ad-4343-b3ec-b6863627dd9f\" type=\"checkbox\" ><label class=\"sk-toggleable__label\" for=\"2a4d0b95-13ad-4343-b3ec-b6863627dd9f\">engine_size_discretizer</label><div class=\"sk-toggleable__content\"><pre>['engine_size']</pre></div></div></div><div class=\"sk-serial\"><div class=\"sk-item\"><div class=\"sk-estimator sk-toggleable\"><input class=\"sk-toggleable__control sk-hidden--visually\" id=\"e5ac2325-972f-4e34-8854-d5834de18b20\" type=\"checkbox\" ><label class=\"sk-toggleable__label\" for=\"e5ac2325-972f-4e34-8854-d5834de18b20\">KBinsDiscretizer</label><div class=\"sk-toggleable__content\"><pre>KBinsDiscretizer(n_bins=3, strategy='uniform')</pre></div></div></div></div></div></div><div class=\"sk-parallel-item\"><div class=\"sk-item\"><div class=\"sk-label-container\"><div class=\"sk-label sk-toggleable\"><input class=\"sk-toggleable__control sk-hidden--visually\" id=\"b9876ed8-6e97-40d3-ab14-a6113dcff366\" type=\"checkbox\" ><label class=\"sk-toggleable__label\" for=\"b9876ed8-6e97-40d3-ab14-a6113dcff366\">year_pipe</label><div class=\"sk-toggleable__content\"><pre>['year']</pre></div></div></div><div class=\"sk-serial\"><div class=\"sk-item\"><div class=\"sk-serial\"><div class=\"sk-item\"><div class=\"sk-estimator sk-toggleable\"><input class=\"sk-toggleable__control sk-hidden--visually\" id=\"3904b84a-e4f8-4870-8008-87b32a59527d\" type=\"checkbox\" ><label class=\"sk-toggleable__label\" for=\"3904b84a-e4f8-4870-8008-87b32a59527d\">KBinsDiscretizer</label><div class=\"sk-toggleable__content\"><pre>KBinsDiscretizer(encode='ordinal', n_bins=10)</pre></div></div></div></div></div></div></div></div><div class=\"sk-parallel-item\"><div class=\"sk-item\"><div class=\"sk-label-container\"><div class=\"sk-label sk-toggleable\"><input class=\"sk-toggleable__control sk-hidden--visually\" id=\"f9794df6-c57e-493e-b0b1-d05a294d8e76\" type=\"checkbox\" ><label class=\"sk-toggleable__label\" for=\"f9794df6-c57e-493e-b0b1-d05a294d8e76\">model_pipe</label><div class=\"sk-toggleable__content\"><pre>['model']</pre></div></div></div><div class=\"sk-serial\"><div class=\"sk-item\"><div class=\"sk-serial\"><div class=\"sk-item\"><div class=\"sk-estimator sk-toggleable\"><input class=\"sk-toggleable__control sk-hidden--visually\" id=\"32aa840e-cf98-4cac-bb14-f65337834f62\" type=\"checkbox\" ><label class=\"sk-toggleable__label\" for=\"32aa840e-cf98-4cac-bb14-f65337834f62\">OneHotEncoder</label><div class=\"sk-toggleable__content\"><pre>OneHotEncoder(handle_unknown='ignore')</pre></div></div></div></div></div></div></div></div><div class=\"sk-parallel-item\"><div class=\"sk-item\"><div class=\"sk-label-container\"><div class=\"sk-label sk-toggleable\"><input class=\"sk-toggleable__control sk-hidden--visually\" id=\"8430c255-533c-42c5-ab63-817e4b8363ea\" type=\"checkbox\" ><label class=\"sk-toggleable__label\" for=\"8430c255-533c-42c5-ab63-817e4b8363ea\">brand_pipe</label><div class=\"sk-toggleable__content\"><pre>['brand']</pre></div></div></div><div class=\"sk-serial\"><div class=\"sk-item\"><div class=\"sk-serial\"><div class=\"sk-item\"><div class=\"sk-estimator sk-toggleable\"><input class=\"sk-toggleable__control sk-hidden--visually\" id=\"15d5a6e9-2735-4055-a249-44fda37afe44\" type=\"checkbox\" ><label class=\"sk-toggleable__label\" for=\"15d5a6e9-2735-4055-a249-44fda37afe44\">OneHotEncoder</label><div class=\"sk-toggleable__content\"><pre>OneHotEncoder(handle_unknown='ignore')</pre></div></div></div></div></div></div></div></div><div class=\"sk-parallel-item\"><div class=\"sk-item\"><div class=\"sk-label-container\"><div class=\"sk-label sk-toggleable\"><input class=\"sk-toggleable__control sk-hidden--visually\" id=\"14471b7c-1ffb-42ce-b6d4-f33f8142ccbb\" type=\"checkbox\" ><label class=\"sk-toggleable__label\" for=\"14471b7c-1ffb-42ce-b6d4-f33f8142ccbb\">transmission_pipe</label><div class=\"sk-toggleable__content\"><pre>['transmission']</pre></div></div></div><div class=\"sk-serial\"><div class=\"sk-item\"><div class=\"sk-serial\"><div class=\"sk-item\"><div class=\"sk-estimator sk-toggleable\"><input class=\"sk-toggleable__control sk-hidden--visually\" id=\"db501e48-1d3e-4c6b-8027-6f1093c4853b\" type=\"checkbox\" ><label class=\"sk-toggleable__label\" for=\"db501e48-1d3e-4c6b-8027-6f1093c4853b\">OneHotEncoder</label><div class=\"sk-toggleable__content\"><pre>OneHotEncoder(handle_unknown='ignore')</pre></div></div></div></div></div></div></div></div><div class=\"sk-parallel-item\"><div class=\"sk-item\"><div class=\"sk-label-container\"><div class=\"sk-label sk-toggleable\"><input class=\"sk-toggleable__control sk-hidden--visually\" id=\"55196c09-c36b-43ac-b75d-014284f2ceeb\" type=\"checkbox\" ><label class=\"sk-toggleable__label\" for=\"55196c09-c36b-43ac-b75d-014284f2ceeb\">fuel_type_pipe</label><div class=\"sk-toggleable__content\"><pre>['fuel_type']</pre></div></div></div><div class=\"sk-serial\"><div class=\"sk-item\"><div class=\"sk-serial\"><div class=\"sk-item\"><div class=\"sk-estimator sk-toggleable\"><input class=\"sk-toggleable__control sk-hidden--visually\" id=\"463559f5-9367-4000-88f0-0927d384d6a7\" type=\"checkbox\" ><label class=\"sk-toggleable__label\" for=\"463559f5-9367-4000-88f0-0927d384d6a7\">OneHotEncoder</label><div class=\"sk-toggleable__content\"><pre>OneHotEncoder(handle_unknown='ignore')</pre></div></div></div></div></div></div></div></div><div class=\"sk-parallel-item\"><div class=\"sk-item\"><div class=\"sk-label-container\"><div class=\"sk-label sk-toggleable\"><input class=\"sk-toggleable__control sk-hidden--visually\" id=\"a0bb2a7b-49b1-403b-a7f0-99d79b150347\" type=\"checkbox\" ><label class=\"sk-toggleable__label\" for=\"a0bb2a7b-49b1-403b-a7f0-99d79b150347\">remainder</label><div class=\"sk-toggleable__content\"><pre>[['model', 'year', 'transmission', 'mileage', 'fuel_type', 'tax', 'mpg', 'engine_size', 'brand', 'age', 'mileage_per_year', 'mpg_per_year', 'tax_per_year', 'engine_per_year', 'mpy_mpy']]</pre></div></div></div><div class=\"sk-serial\"><div class=\"sk-item\"><div class=\"sk-estimator sk-toggleable\"><input class=\"sk-toggleable__control sk-hidden--visually\" id=\"abee2320-650a-40c3-b430-75d12f072c30\" type=\"checkbox\" ><label class=\"sk-toggleable__label\" for=\"abee2320-650a-40c3-b430-75d12f072c30\">passthrough</label><div class=\"sk-toggleable__content\"><pre>passthrough</pre></div></div></div></div></div></div></div></div><div class=\"sk-item\"><div class=\"sk-estimator sk-toggleable\"><input class=\"sk-toggleable__control sk-hidden--visually\" id=\"8f8f393d-7eb8-4a41-b760-e91b9032260f\" type=\"checkbox\" ><label class=\"sk-toggleable__label\" for=\"8f8f393d-7eb8-4a41-b760-e91b9032260f\">StandardScaler</label><div class=\"sk-toggleable__content\"><pre>StandardScaler(with_mean=False)</pre></div></div></div><div class=\"sk-item\"><div class=\"sk-estimator sk-toggleable\"><input class=\"sk-toggleable__control sk-hidden--visually\" id=\"c385bda1-9ec5-4500-a64d-6f0b8b53eae1\" type=\"checkbox\" ><label class=\"sk-toggleable__label\" for=\"c385bda1-9ec5-4500-a64d-6f0b8b53eae1\">RandomForestRegressor</label><div class=\"sk-toggleable__content\"><pre>RandomForestRegressor(max_depth=50, min_samples_split=6, n_jobs=-1,\n",
       "                      verbose=True, warm_start=True)</pre></div></div></div></div></div></div></div>"
      ],
      "text/plain": [
       "Pipeline(steps=[('features_extraction',\n",
       "                 FunctionTransformer(func=<function extract_features at 0x7fa4c038a160>)),\n",
       "                ('transformer',\n",
       "                 ColumnTransformer(remainder='passthrough',\n",
       "                                   transformers=[('poly',\n",
       "                                                  PolynomialFeatures(include_bias=False),\n",
       "                                                  <sklearn.compose._column_transformer.make_column_selector object at 0x7fa4c017da60>),\n",
       "                                                 ('mpg_discretizer',\n",
       "                                                  KBinsDiscretizer(n_bin...\n",
       "                                                                   OneHotEncoder(handle_unknown='ignore'))],\n",
       "                                                           verbose=True),\n",
       "                                                  ['transmission']),\n",
       "                                                 ('fuel_type_pipe',\n",
       "                                                  Pipeline(steps=[('OHE',\n",
       "                                                                   OneHotEncoder(handle_unknown='ignore'))],\n",
       "                                                           verbose=True),\n",
       "                                                  ['fuel_type'])],\n",
       "                                   verbose=2)),\n",
       "                ('scaler', StandardScaler(with_mean=False)),\n",
       "                ('random_forest',\n",
       "                 RandomForestRegressor(max_depth=50, min_samples_split=6,\n",
       "                                       n_jobs=-1, verbose=True,\n",
       "                                       warm_start=True))],\n",
       "         verbose=True)"
      ]
     },
     "execution_count": 61,
     "metadata": {},
     "output_type": "execute_result"
    }
   ],
   "source": [
    "model"
   ]
  },
  {
   "cell_type": "code",
   "execution_count": null,
   "id": "4a7d5679",
   "metadata": {
    "scrolled": false,
    "slideshow": {
     "slide_type": "subslide"
    }
   },
   "outputs": [
    {
     "name": "stdout",
     "output_type": "stream",
     "text": [
      "\n",
      "Extract Features\n",
      "[Pipeline]  (step 1 of 4) Processing features_extraction, total=   0.0s\n",
      "[ColumnTransformer] .......... (1 of 9) Processing poly, total=   0.0s\n",
      "[ColumnTransformer]  (2 of 9) Processing mpg_discretizer, total=   0.0s\n",
      "[ColumnTransformer]  (3 of 9) Processing tax_discretizer, total=   0.0s\n",
      "[ColumnTransformer]  (4 of 9) Processing engine_size_discretizer, total=   0.0s\n",
      "[Pipeline] ........ (step 1 of 1) Processing discretize, total=   0.0s\n",
      "[ColumnTransformer] ..... (5 of 9) Processing year_pipe, total=   0.0s\n",
      "[Pipeline] ............... (step 1 of 1) Processing OHE, total=   0.0s\n",
      "[ColumnTransformer] .... (6 of 9) Processing model_pipe, total=   0.0s\n",
      "[Pipeline] ............... (step 1 of 1) Processing OHE, total=   0.0s\n",
      "[ColumnTransformer] .... (7 of 9) Processing brand_pipe, total=   0.0s\n",
      "[Pipeline] ............... (step 1 of 1) Processing OHE, total=   0.0s\n",
      "[ColumnTransformer]  (8 of 9) Processing transmission_pipe, total=   0.0s\n",
      "[Pipeline] ............... (step 1 of 1) Processing OHE, total=   0.0s\n",
      "[ColumnTransformer]  (9 of 9) Processing fuel_type_pipe, total=   0.0s\n",
      "[Pipeline] ....... (step 2 of 4) Processing transformer, total=   0.2s\n"
     ]
    },
    {
     "name": "stderr",
     "output_type": "stream",
     "text": [
      "/home/ghostbot/anaconda3/envs/tf_cpu/lib/python3.8/site-packages/sklearn/preprocessing/_discretization.py:220: UserWarning: Bins whose width are too small (i.e., <= 1e-8) in feature 0 are removed. Consider decreasing the number of bins.\n",
      "  warnings.warn('Bins whose width are too small (i.e., <= '\n",
      "/home/ghostbot/anaconda3/envs/tf_cpu/lib/python3.8/site-packages/sklearn/preprocessing/_discretization.py:220: UserWarning: Bins whose width are too small (i.e., <= 1e-8) in feature 0 are removed. Consider decreasing the number of bins.\n",
      "  warnings.warn('Bins whose width are too small (i.e., <= '\n"
     ]
    },
    {
     "name": "stdout",
     "output_type": "stream",
     "text": [
      "[Pipeline] ............ (step 3 of 4) Processing scaler, total=   0.1s\n",
      "[Pipeline] ..... (step 4 of 4) Processing random_forest, total=   0.0s\n"
     ]
    },
    {
     "name": "stderr",
     "output_type": "stream",
     "text": [
      "/home/ghostbot/anaconda3/envs/tf_cpu/lib/python3.8/site-packages/sklearn/ensemble/_forest.py:369: UserWarning: Warm-start fitting without increasing n_estimators does not fit new trees.\n",
      "  warn(\"Warm-start fitting without increasing n_estimators does not \"\n"
     ]
    }
   ],
   "source": [
    "#model.fit(X_test,y_test.values.ravel())\n",
    "model.fit(X_test,y_test.values.ravel())\n",
    "rf = model[3]#.estimators_[1]\n",
    "#print(tree.feature_importances_)\n",
    "\n",
    "_ = tree.plot_tree(rf.estimators_[0], filled=True)"
   ]
  },
  {
   "cell_type": "markdown",
   "id": "fe8b84c1",
   "metadata": {
    "slideshow": {
     "slide_type": "fragment"
    }
   },
   "source": [
    "### Variables"
   ]
  },
  {
   "cell_type": "code",
   "execution_count": 63,
   "id": "3d36fe55",
   "metadata": {
    "slideshow": {
     "slide_type": "fragment"
    }
   },
   "outputs": [
    {
     "name": "stdout",
     "output_type": "stream",
     "text": [
      "Le model RandomForestRegressor(max_depth=50, min_samples_split=6, n_jobs=-1,\n",
      "                      verbose=True, warm_start=True) a 272 variables\n"
     ]
    }
   ],
   "source": [
    "rfr = model[3]\n",
    "print(f\"Le model {rfr} a {rfr.n_features_in_} variables\")"
   ]
  },
  {
   "cell_type": "markdown",
   "id": "297a744e",
   "metadata": {},
   "source": [
    "### Durée d'entraînement"
   ]
  },
  {
   "cell_type": "raw",
   "id": "c9a88483",
   "metadata": {
    "slideshow": {
     "slide_type": "fragment"
    }
   },
   "source": [
    "Loading all_set.csv Dataset...\n",
    "all_set.csv already processed, prepared_all_set.csv loaded\n",
    "X: (78231, 9)\n",
    "y: (78231,)\n",
    "\tX_train: (58673, 9)\n",
    "\tX_val: (11734, 9)\n",
    "\tX_test: (7824, 9)\n",
    "\ty_train: (58673,)\n",
    "\ty_val: (11734,)\n",
    "\ty_test: (7824,)\n",
    "\n",
    "Loading X_train.csv Dataset...\n",
    "\n",
    "Creating Columns transformers\n",
    "\n",
    "Extract Features\n",
    "[Pipeline] (step 1 of 4) Processing features_extraction, total=   0.1s\n",
    "[ColumnTransformer]     ........... (1 of 9) Processing poly, total=   0.1s\n",
    "[ColumnTransformer]     ........... (2 of 9) Processing mpg_discretizer, total=   0.0s\n",
    "[ColumnTransformer]     ........... (3 of 9) Processing tax_discretizer, total=   0.0s\n",
    "[ColumnTransformer]     ........... (4 of 9) Processing engine_size_discretizer, total=   0.0s\n",
    "[ColumnTransformer]     ........... (5 of 9) Processing year_pipe, total=   0.0s\n",
    "[Pipeline]                          ........ (step 1 of 1) Processing discretize, total=   0.0s\n",
    "[ColumnTransformer]     ........... (6 of 9) Processing model_pipe, total=   0.1s\n",
    "[Pipeline] ............... (step 1 of 1) Processing OHE, total=   0.1s\n",
    "[ColumnTransformer]     ........... (7 of 9) Processing brand_pipe, total=   0.1s\n",
    "[Pipeline] ............... (step 1 of 1) Processing OHE, total=   0.1s\n",
    "[ColumnTransformer]     ........... (8 of 9) Processing transmission_pipe, total=   0.1s\n",
    "[Pipeline] ............... (step 1 of 1) Processing OHE, total=   0.1s\n",
    "[ColumnTransformer]     ........... (9 of 9) Processing fuel_type_pipe, total=   0.1s\n",
    "[Pipeline] (step 2 of 4) Processing transformer, total=   0.8s\n",
    "[Pipeline] (step 3 of 4) Processing scaler, total=   1.0s\n",
    "[Pipeline] (step 4 of 4) Processing random_forest, total= 3.8min\n",
    "    [Parallel(n_jobs=-1)]: Using backend ThreadingBackend with 4 concurrent workers.\n",
    "    [Parallel(n_jobs=-1)]: Done  42 tasks      | elapsed:  1.7min\n",
    "    [Parallel(n_jobs=-1)]: Done 100 out of 100 | elapsed:  3.8min finished\n",
    "\n",
    "Evaluate\n",
    "Extract Features\n",
    "    [Parallel(n_jobs=4)]: Using backend ThreadingBackend with 4 concurrent workers.\n",
    "    [Parallel(n_jobs=4)]: Done  42 tasks      | elapsed:    0.2s\n",
    "    [Parallel(n_jobs=4)]: Done 100 out of 100 | elapsed:    0.5s finished\n",
    "RMSE: 1778.447790820576\n"
   ]
  },
  {
   "cell_type": "markdown",
   "id": "a8a1ff11",
   "metadata": {
    "slideshow": {
     "slide_type": "slide"
    }
   },
   "source": [
    "## Performance\n",
    "\n",
    "### Learning Curve\n",
    "\n",
    "![Learning curve](./Learning_curve_model_677.png)\n",
    "\n",
    "Le premier graphique montre la courbe d'apprentissage.\n",
    "\n",
    "Le deuxième graphique montre le temps nécessaire aux modèles pour s'entraîner avec différentes tailles de données d'entraînement. \n",
    "\n",
    "Le troisième graphique montre le temps nécessaire à l'entraînement des modèles pour chaque taille de données d'entraînement."
   ]
  },
  {
   "cell_type": "code",
   "execution_count": 64,
   "id": "57f0a13e",
   "metadata": {
    "slideshow": {
     "slide_type": "skip"
    }
   },
   "outputs": [
    {
     "name": "stdout",
     "output_type": "stream",
     "text": [
      "Test set:\n",
      " X (7824, 9) y (7824, 1)\n"
     ]
    }
   ],
   "source": [
    "print(f\"Test set:\\n X {X_test.shape} y {y_test.shape}\")\n"
   ]
  },
  {
   "cell_type": "code",
   "execution_count": 80,
   "id": "4d79ca9f",
   "metadata": {
    "slideshow": {
     "slide_type": "slide"
    }
   },
   "outputs": [
    {
     "name": "stdout",
     "output_type": "stream",
     "text": [
      "\n",
      "Extract Features\n",
      "RMSE: 1529.201266839476\n"
     ]
    },
    {
     "name": "stderr",
     "output_type": "stream",
     "text": [
      "[Parallel(n_jobs=4)]: Using backend ThreadingBackend with 4 concurrent workers.\n",
      "[Parallel(n_jobs=4)]: Done  42 tasks      | elapsed:    0.0s\n",
      "[Parallel(n_jobs=4)]: Done 100 out of 100 | elapsed:    0.0s finished\n"
     ]
    },
    {
     "data": {
      "text/html": [
       "<pre style=\"white-space:pre;overflow-x:auto;line-height:normal;font-family:Menlo,'DejaVu Sans Mono',consolas,'Courier New',monospace\"><span style=\"color: #000000; text-decoration-color: #000000; background-color: #ffffff; font-weight: bold\">MODEL PREDICTION TESTING</span> <span style=\"color: #000000; text-decoration-color: #000000; background-color: #ffffff\">────────────────────────────────────────────────────────────────────</span>\n",
       "</pre>\n"
      ],
      "text/plain": [
       "\u001b[1;52;30;107mMODEL PREDICTION TESTING\u001b[0m \u001b[30;107m────────────────────────────────────────────────────────────────────\u001b[0m\n"
      ]
     },
     "metadata": {},
     "output_type": "display_data"
    },
    {
     "data": {
      "text/html": [
       "<pre style=\"white-space:pre;overflow-x:auto;line-height:normal;font-family:Menlo,'DejaVu Sans Mono',consolas,'Courier New',monospace\"><span style=\"color: #000000; text-decoration-color: #000000; background-color: #ffffff; font-style: italic\">Prediction results                              </span>\n",
       "<span style=\"color: #000000; text-decoration-color: #000000; background-color: #ffffff\">┏━━━━━━━━━━━━┳━━━━━━━━━━━━┳━━━━━━━┳━━━━━━━━━━━━┓</span>\n",
       "<span style=\"color: #000000; text-decoration-color: #000000; background-color: #ffffff\">┃ Prediction ┃ Real Price ┃ Error ┃ Percentage ┃</span>\n",
       "<span style=\"color: #000000; text-decoration-color: #000000; background-color: #ffffff\">┡━━━━━━━━━━━━╇━━━━━━━━━━━━╇━━━━━━━╇━━━━━━━━━━━━┩</span>\n",
       "<span style=\"color: #000000; text-decoration-color: #000000; background-color: #ffffff\">│    </span><span style=\"color: #008080; text-decoration-color: #008080; background-color: #ffffff; font-weight: bold\">7766</span><span style=\"color: #000000; text-decoration-color: #000000; background-color: #ffffff\">    │    </span><span style=\"color: #008080; text-decoration-color: #008080; background-color: #ffffff; font-weight: bold\">7341</span><span style=\"color: #000000; text-decoration-color: #000000; background-color: #ffffff\">    │  </span><span style=\"color: #008080; text-decoration-color: #008080; background-color: #ffffff; font-weight: bold\">425</span><span style=\"color: #000000; text-decoration-color: #000000; background-color: #ffffff\">  │    </span><span style=\"color: #008080; text-decoration-color: #008080; background-color: #ffffff; font-weight: bold\">6</span><span style=\"color: #000000; text-decoration-color: #000000; background-color: #ffffff\"> %     │</span>\n",
       "<span style=\"color: #000000; text-decoration-color: #000000; background-color: #ffffff\">│   </span><span style=\"color: #008080; text-decoration-color: #008080; background-color: #ffffff; font-weight: bold\">15606</span><span style=\"color: #000000; text-decoration-color: #000000; background-color: #ffffff\">    │   </span><span style=\"color: #008080; text-decoration-color: #008080; background-color: #ffffff; font-weight: bold\">16000</span><span style=\"color: #000000; text-decoration-color: #000000; background-color: #ffffff\">    │  </span><span style=\"color: #008080; text-decoration-color: #008080; background-color: #ffffff; font-weight: bold\">394</span><span style=\"color: #000000; text-decoration-color: #000000; background-color: #ffffff\">  │    </span><span style=\"color: #008080; text-decoration-color: #008080; background-color: #ffffff; font-weight: bold\">2</span><span style=\"color: #000000; text-decoration-color: #000000; background-color: #ffffff\"> %     │</span>\n",
       "<span style=\"color: #000000; text-decoration-color: #000000; background-color: #ffffff\">│   </span><span style=\"color: #008080; text-decoration-color: #008080; background-color: #ffffff; font-weight: bold\">11309</span><span style=\"color: #000000; text-decoration-color: #000000; background-color: #ffffff\">    │   </span><span style=\"color: #008080; text-decoration-color: #008080; background-color: #ffffff; font-weight: bold\">10997</span><span style=\"color: #000000; text-decoration-color: #000000; background-color: #ffffff\">    │  </span><span style=\"color: #008080; text-decoration-color: #008080; background-color: #ffffff; font-weight: bold\">312</span><span style=\"color: #000000; text-decoration-color: #000000; background-color: #ffffff\">  │    </span><span style=\"color: #008080; text-decoration-color: #008080; background-color: #ffffff; font-weight: bold\">3</span><span style=\"color: #000000; text-decoration-color: #000000; background-color: #ffffff\"> %     │</span>\n",
       "<span style=\"color: #000000; text-decoration-color: #000000; background-color: #ffffff\">│   </span><span style=\"color: #008080; text-decoration-color: #008080; background-color: #ffffff; font-weight: bold\">19608</span><span style=\"color: #000000; text-decoration-color: #000000; background-color: #ffffff\">    │   </span><span style=\"color: #008080; text-decoration-color: #008080; background-color: #ffffff; font-weight: bold\">19279</span><span style=\"color: #000000; text-decoration-color: #000000; background-color: #ffffff\">    │  </span><span style=\"color: #008080; text-decoration-color: #008080; background-color: #ffffff; font-weight: bold\">329</span><span style=\"color: #000000; text-decoration-color: #000000; background-color: #ffffff\">  │    </span><span style=\"color: #008080; text-decoration-color: #008080; background-color: #ffffff; font-weight: bold\">2</span><span style=\"color: #000000; text-decoration-color: #000000; background-color: #ffffff\"> %     │</span>\n",
       "<span style=\"color: #000000; text-decoration-color: #000000; background-color: #ffffff\">│   </span><span style=\"color: #008080; text-decoration-color: #008080; background-color: #ffffff; font-weight: bold\">11108</span><span style=\"color: #000000; text-decoration-color: #000000; background-color: #ffffff\">    │   </span><span style=\"color: #008080; text-decoration-color: #008080; background-color: #ffffff; font-weight: bold\">10999</span><span style=\"color: #000000; text-decoration-color: #000000; background-color: #ffffff\">    │  </span><span style=\"color: #008080; text-decoration-color: #008080; background-color: #ffffff; font-weight: bold\">109</span><span style=\"color: #000000; text-decoration-color: #000000; background-color: #ffffff\">  │    </span><span style=\"color: #008080; text-decoration-color: #008080; background-color: #ffffff; font-weight: bold\">1</span><span style=\"color: #000000; text-decoration-color: #000000; background-color: #ffffff\"> %     │</span>\n",
       "<span style=\"color: #000000; text-decoration-color: #000000; background-color: #ffffff\">│   </span><span style=\"color: #008080; text-decoration-color: #008080; background-color: #ffffff; font-weight: bold\">19534</span><span style=\"color: #000000; text-decoration-color: #000000; background-color: #ffffff\">    │   </span><span style=\"color: #008080; text-decoration-color: #008080; background-color: #ffffff; font-weight: bold\">17894</span><span style=\"color: #000000; text-decoration-color: #000000; background-color: #ffffff\">    │ </span><span style=\"color: #008080; text-decoration-color: #008080; background-color: #ffffff; font-weight: bold\">1640</span><span style=\"color: #000000; text-decoration-color: #000000; background-color: #ffffff\">  │    </span><span style=\"color: #008080; text-decoration-color: #008080; background-color: #ffffff; font-weight: bold\">9</span><span style=\"color: #000000; text-decoration-color: #000000; background-color: #ffffff\"> %     │</span>\n",
       "<span style=\"color: #000000; text-decoration-color: #000000; background-color: #ffffff\">│   </span><span style=\"color: #008080; text-decoration-color: #008080; background-color: #ffffff; font-weight: bold\">14757</span><span style=\"color: #000000; text-decoration-color: #000000; background-color: #ffffff\">    │   </span><span style=\"color: #008080; text-decoration-color: #008080; background-color: #ffffff; font-weight: bold\">14488</span><span style=\"color: #000000; text-decoration-color: #000000; background-color: #ffffff\">    │  </span><span style=\"color: #008080; text-decoration-color: #008080; background-color: #ffffff; font-weight: bold\">269</span><span style=\"color: #000000; text-decoration-color: #000000; background-color: #ffffff\">  │    </span><span style=\"color: #008080; text-decoration-color: #008080; background-color: #ffffff; font-weight: bold\">2</span><span style=\"color: #000000; text-decoration-color: #000000; background-color: #ffffff\"> %     │</span>\n",
       "<span style=\"color: #000000; text-decoration-color: #000000; background-color: #ffffff\">│   </span><span style=\"color: #008080; text-decoration-color: #008080; background-color: #ffffff; font-weight: bold\">42085</span><span style=\"color: #000000; text-decoration-color: #000000; background-color: #ffffff\">    │   </span><span style=\"color: #008080; text-decoration-color: #008080; background-color: #ffffff; font-weight: bold\">41630</span><span style=\"color: #000000; text-decoration-color: #000000; background-color: #ffffff\">    │  </span><span style=\"color: #008080; text-decoration-color: #008080; background-color: #ffffff; font-weight: bold\">455</span><span style=\"color: #000000; text-decoration-color: #000000; background-color: #ffffff\">  │    </span><span style=\"color: #008080; text-decoration-color: #008080; background-color: #ffffff; font-weight: bold\">1</span><span style=\"color: #000000; text-decoration-color: #000000; background-color: #ffffff\"> %     │</span>\n",
       "<span style=\"color: #000000; text-decoration-color: #000000; background-color: #ffffff\">│    </span><span style=\"color: #008080; text-decoration-color: #008080; background-color: #ffffff; font-weight: bold\">6681</span><span style=\"color: #000000; text-decoration-color: #000000; background-color: #ffffff\">    │    </span><span style=\"color: #008080; text-decoration-color: #008080; background-color: #ffffff; font-weight: bold\">7499</span><span style=\"color: #000000; text-decoration-color: #000000; background-color: #ffffff\">    │  </span><span style=\"color: #008080; text-decoration-color: #008080; background-color: #ffffff; font-weight: bold\">818</span><span style=\"color: #000000; text-decoration-color: #000000; background-color: #ffffff\">  │    </span><span style=\"color: #008080; text-decoration-color: #008080; background-color: #ffffff; font-weight: bold\">11</span><span style=\"color: #000000; text-decoration-color: #000000; background-color: #ffffff\"> %    │</span>\n",
       "<span style=\"color: #000000; text-decoration-color: #000000; background-color: #ffffff\">│    </span><span style=\"color: #008080; text-decoration-color: #008080; background-color: #ffffff; font-weight: bold\">7906</span><span style=\"color: #000000; text-decoration-color: #000000; background-color: #ffffff\">    │    </span><span style=\"color: #008080; text-decoration-color: #008080; background-color: #ffffff; font-weight: bold\">8995</span><span style=\"color: #000000; text-decoration-color: #000000; background-color: #ffffff\">    │ </span><span style=\"color: #008080; text-decoration-color: #008080; background-color: #ffffff; font-weight: bold\">1089</span><span style=\"color: #000000; text-decoration-color: #000000; background-color: #ffffff\">  │    </span><span style=\"color: #008080; text-decoration-color: #008080; background-color: #ffffff; font-weight: bold\">12</span><span style=\"color: #000000; text-decoration-color: #000000; background-color: #ffffff\"> %    │</span>\n",
       "<span style=\"color: #000000; text-decoration-color: #000000; background-color: #ffffff\">│    </span><span style=\"color: #008080; text-decoration-color: #008080; background-color: #ffffff; font-weight: bold\">6218</span><span style=\"color: #000000; text-decoration-color: #000000; background-color: #ffffff\">    │    </span><span style=\"color: #008080; text-decoration-color: #008080; background-color: #ffffff; font-weight: bold\">5998</span><span style=\"color: #000000; text-decoration-color: #000000; background-color: #ffffff\">    │  </span><span style=\"color: #008080; text-decoration-color: #008080; background-color: #ffffff; font-weight: bold\">220</span><span style=\"color: #000000; text-decoration-color: #000000; background-color: #ffffff\">  │    </span><span style=\"color: #008080; text-decoration-color: #008080; background-color: #ffffff; font-weight: bold\">4</span><span style=\"color: #000000; text-decoration-color: #000000; background-color: #ffffff\"> %     │</span>\n",
       "<span style=\"color: #000000; text-decoration-color: #000000; background-color: #ffffff\">│   </span><span style=\"color: #008080; text-decoration-color: #008080; background-color: #ffffff; font-weight: bold\">13150</span><span style=\"color: #000000; text-decoration-color: #000000; background-color: #ffffff\">    │   </span><span style=\"color: #008080; text-decoration-color: #008080; background-color: #ffffff; font-weight: bold\">13494</span><span style=\"color: #000000; text-decoration-color: #000000; background-color: #ffffff\">    │  </span><span style=\"color: #008080; text-decoration-color: #008080; background-color: #ffffff; font-weight: bold\">344</span><span style=\"color: #000000; text-decoration-color: #000000; background-color: #ffffff\">  │    </span><span style=\"color: #008080; text-decoration-color: #008080; background-color: #ffffff; font-weight: bold\">3</span><span style=\"color: #000000; text-decoration-color: #000000; background-color: #ffffff\"> %     │</span>\n",
       "<span style=\"color: #000000; text-decoration-color: #000000; background-color: #ffffff\">│   </span><span style=\"color: #008080; text-decoration-color: #008080; background-color: #ffffff; font-weight: bold\">10682</span><span style=\"color: #000000; text-decoration-color: #000000; background-color: #ffffff\">    │   </span><span style=\"color: #008080; text-decoration-color: #008080; background-color: #ffffff; font-weight: bold\">12500</span><span style=\"color: #000000; text-decoration-color: #000000; background-color: #ffffff\">    │ </span><span style=\"color: #008080; text-decoration-color: #008080; background-color: #ffffff; font-weight: bold\">1818</span><span style=\"color: #000000; text-decoration-color: #000000; background-color: #ffffff\">  │    </span><span style=\"color: #008080; text-decoration-color: #008080; background-color: #ffffff; font-weight: bold\">15</span><span style=\"color: #000000; text-decoration-color: #000000; background-color: #ffffff\"> %    │</span>\n",
       "<span style=\"color: #000000; text-decoration-color: #000000; background-color: #ffffff\">│   </span><span style=\"color: #008080; text-decoration-color: #008080; background-color: #ffffff; font-weight: bold\">14905</span><span style=\"color: #000000; text-decoration-color: #000000; background-color: #ffffff\">    │   </span><span style=\"color: #008080; text-decoration-color: #008080; background-color: #ffffff; font-weight: bold\">13599</span><span style=\"color: #000000; text-decoration-color: #000000; background-color: #ffffff\">    │ </span><span style=\"color: #008080; text-decoration-color: #008080; background-color: #ffffff; font-weight: bold\">1306</span><span style=\"color: #000000; text-decoration-color: #000000; background-color: #ffffff\">  │    </span><span style=\"color: #008080; text-decoration-color: #008080; background-color: #ffffff; font-weight: bold\">10</span><span style=\"color: #000000; text-decoration-color: #000000; background-color: #ffffff\"> %    │</span>\n",
       "<span style=\"color: #000000; text-decoration-color: #000000; background-color: #ffffff\">│    </span><span style=\"color: #008080; text-decoration-color: #008080; background-color: #ffffff; font-weight: bold\">8628</span><span style=\"color: #000000; text-decoration-color: #000000; background-color: #ffffff\">    │    </span><span style=\"color: #008080; text-decoration-color: #008080; background-color: #ffffff; font-weight: bold\">8740</span><span style=\"color: #000000; text-decoration-color: #000000; background-color: #ffffff\">    │  </span><span style=\"color: #008080; text-decoration-color: #008080; background-color: #ffffff; font-weight: bold\">112</span><span style=\"color: #000000; text-decoration-color: #000000; background-color: #ffffff\">  │    </span><span style=\"color: #008080; text-decoration-color: #008080; background-color: #ffffff; font-weight: bold\">1</span><span style=\"color: #000000; text-decoration-color: #000000; background-color: #ffffff\"> %     │</span>\n",
       "<span style=\"color: #000000; text-decoration-color: #000000; background-color: #ffffff\">│   </span><span style=\"color: #008080; text-decoration-color: #008080; background-color: #ffffff; font-weight: bold\">38590</span><span style=\"color: #000000; text-decoration-color: #000000; background-color: #ffffff\">    │   </span><span style=\"color: #008080; text-decoration-color: #008080; background-color: #ffffff; font-weight: bold\">34950</span><span style=\"color: #000000; text-decoration-color: #000000; background-color: #ffffff\">    │ </span><span style=\"color: #008080; text-decoration-color: #008080; background-color: #ffffff; font-weight: bold\">3640</span><span style=\"color: #000000; text-decoration-color: #000000; background-color: #ffffff\">  │    </span><span style=\"color: #008080; text-decoration-color: #008080; background-color: #ffffff; font-weight: bold\">10</span><span style=\"color: #000000; text-decoration-color: #000000; background-color: #ffffff\"> %    │</span>\n",
       "<span style=\"color: #000000; text-decoration-color: #000000; background-color: #ffffff\">│   </span><span style=\"color: #008080; text-decoration-color: #008080; background-color: #ffffff; font-weight: bold\">11916</span><span style=\"color: #000000; text-decoration-color: #000000; background-color: #ffffff\">    │   </span><span style=\"color: #008080; text-decoration-color: #008080; background-color: #ffffff; font-weight: bold\">12700</span><span style=\"color: #000000; text-decoration-color: #000000; background-color: #ffffff\">    │  </span><span style=\"color: #008080; text-decoration-color: #008080; background-color: #ffffff; font-weight: bold\">784</span><span style=\"color: #000000; text-decoration-color: #000000; background-color: #ffffff\">  │    </span><span style=\"color: #008080; text-decoration-color: #008080; background-color: #ffffff; font-weight: bold\">6</span><span style=\"color: #000000; text-decoration-color: #000000; background-color: #ffffff\"> %     │</span>\n",
       "<span style=\"color: #000000; text-decoration-color: #000000; background-color: #ffffff\">│   </span><span style=\"color: #008080; text-decoration-color: #008080; background-color: #ffffff; font-weight: bold\">12977</span><span style=\"color: #000000; text-decoration-color: #000000; background-color: #ffffff\">    │   </span><span style=\"color: #008080; text-decoration-color: #008080; background-color: #ffffff; font-weight: bold\">13494</span><span style=\"color: #000000; text-decoration-color: #000000; background-color: #ffffff\">    │  </span><span style=\"color: #008080; text-decoration-color: #008080; background-color: #ffffff; font-weight: bold\">517</span><span style=\"color: #000000; text-decoration-color: #000000; background-color: #ffffff\">  │    </span><span style=\"color: #008080; text-decoration-color: #008080; background-color: #ffffff; font-weight: bold\">4</span><span style=\"color: #000000; text-decoration-color: #000000; background-color: #ffffff\"> %     │</span>\n",
       "<span style=\"color: #000000; text-decoration-color: #000000; background-color: #ffffff\">│   </span><span style=\"color: #008080; text-decoration-color: #008080; background-color: #ffffff; font-weight: bold\">10350</span><span style=\"color: #000000; text-decoration-color: #000000; background-color: #ffffff\">    │   </span><span style=\"color: #008080; text-decoration-color: #008080; background-color: #ffffff; font-weight: bold\">14591</span><span style=\"color: #000000; text-decoration-color: #000000; background-color: #ffffff\">    │ </span><span style=\"color: #008080; text-decoration-color: #008080; background-color: #ffffff; font-weight: bold\">4241</span><span style=\"color: #000000; text-decoration-color: #000000; background-color: #ffffff\">  │    </span><span style=\"color: #008080; text-decoration-color: #008080; background-color: #ffffff; font-weight: bold\">29</span><span style=\"color: #000000; text-decoration-color: #000000; background-color: #ffffff\"> %    │</span>\n",
       "<span style=\"color: #000000; text-decoration-color: #000000; background-color: #ffffff\">│   </span><span style=\"color: #008080; text-decoration-color: #008080; background-color: #ffffff; font-weight: bold\">20696</span><span style=\"color: #000000; text-decoration-color: #000000; background-color: #ffffff\">    │   </span><span style=\"color: #008080; text-decoration-color: #008080; background-color: #ffffff; font-weight: bold\">20500</span><span style=\"color: #000000; text-decoration-color: #000000; background-color: #ffffff\">    │  </span><span style=\"color: #008080; text-decoration-color: #008080; background-color: #ffffff; font-weight: bold\">196</span><span style=\"color: #000000; text-decoration-color: #000000; background-color: #ffffff\">  │    </span><span style=\"color: #008080; text-decoration-color: #008080; background-color: #ffffff; font-weight: bold\">1</span><span style=\"color: #000000; text-decoration-color: #000000; background-color: #ffffff\"> %     │</span>\n",
       "<span style=\"color: #000000; text-decoration-color: #000000; background-color: #ffffff\">│   </span><span style=\"color: #008080; text-decoration-color: #008080; background-color: #ffffff; font-weight: bold\">16640</span><span style=\"color: #000000; text-decoration-color: #000000; background-color: #ffffff\">    │   </span><span style=\"color: #008080; text-decoration-color: #008080; background-color: #ffffff; font-weight: bold\">16497</span><span style=\"color: #000000; text-decoration-color: #000000; background-color: #ffffff\">    │  </span><span style=\"color: #008080; text-decoration-color: #008080; background-color: #ffffff; font-weight: bold\">143</span><span style=\"color: #000000; text-decoration-color: #000000; background-color: #ffffff\">  │    </span><span style=\"color: #008080; text-decoration-color: #008080; background-color: #ffffff; font-weight: bold\">1</span><span style=\"color: #000000; text-decoration-color: #000000; background-color: #ffffff\"> %     │</span>\n",
       "<span style=\"color: #000000; text-decoration-color: #000000; background-color: #ffffff\">│   </span><span style=\"color: #008080; text-decoration-color: #008080; background-color: #ffffff; font-weight: bold\">41711</span><span style=\"color: #000000; text-decoration-color: #000000; background-color: #ffffff\">    │   </span><span style=\"color: #008080; text-decoration-color: #008080; background-color: #ffffff; font-weight: bold\">45490</span><span style=\"color: #000000; text-decoration-color: #000000; background-color: #ffffff\">    │ </span><span style=\"color: #008080; text-decoration-color: #008080; background-color: #ffffff; font-weight: bold\">3779</span><span style=\"color: #000000; text-decoration-color: #000000; background-color: #ffffff\">  │    </span><span style=\"color: #008080; text-decoration-color: #008080; background-color: #ffffff; font-weight: bold\">8</span><span style=\"color: #000000; text-decoration-color: #000000; background-color: #ffffff\"> %     │</span>\n",
       "<span style=\"color: #000000; text-decoration-color: #000000; background-color: #ffffff\">│    </span><span style=\"color: #008080; text-decoration-color: #008080; background-color: #ffffff; font-weight: bold\">8135</span><span style=\"color: #000000; text-decoration-color: #000000; background-color: #ffffff\">    │    </span><span style=\"color: #008080; text-decoration-color: #008080; background-color: #ffffff; font-weight: bold\">6994</span><span style=\"color: #000000; text-decoration-color: #000000; background-color: #ffffff\">    │ </span><span style=\"color: #008080; text-decoration-color: #008080; background-color: #ffffff; font-weight: bold\">1141</span><span style=\"color: #000000; text-decoration-color: #000000; background-color: #ffffff\">  │    </span><span style=\"color: #008080; text-decoration-color: #008080; background-color: #ffffff; font-weight: bold\">16</span><span style=\"color: #000000; text-decoration-color: #000000; background-color: #ffffff\"> %    │</span>\n",
       "<span style=\"color: #000000; text-decoration-color: #000000; background-color: #ffffff\">│   </span><span style=\"color: #008080; text-decoration-color: #008080; background-color: #ffffff; font-weight: bold\">16675</span><span style=\"color: #000000; text-decoration-color: #000000; background-color: #ffffff\">    │   </span><span style=\"color: #008080; text-decoration-color: #008080; background-color: #ffffff; font-weight: bold\">16297</span><span style=\"color: #000000; text-decoration-color: #000000; background-color: #ffffff\">    │  </span><span style=\"color: #008080; text-decoration-color: #008080; background-color: #ffffff; font-weight: bold\">378</span><span style=\"color: #000000; text-decoration-color: #000000; background-color: #ffffff\">  │    </span><span style=\"color: #008080; text-decoration-color: #008080; background-color: #ffffff; font-weight: bold\">2</span><span style=\"color: #000000; text-decoration-color: #000000; background-color: #ffffff\"> %     │</span>\n",
       "<span style=\"color: #000000; text-decoration-color: #000000; background-color: #ffffff\">│   </span><span style=\"color: #008080; text-decoration-color: #008080; background-color: #ffffff; font-weight: bold\">22166</span><span style=\"color: #000000; text-decoration-color: #000000; background-color: #ffffff\">    │   </span><span style=\"color: #008080; text-decoration-color: #008080; background-color: #ffffff; font-weight: bold\">22095</span><span style=\"color: #000000; text-decoration-color: #000000; background-color: #ffffff\">    │  </span><span style=\"color: #008080; text-decoration-color: #008080; background-color: #ffffff; font-weight: bold\">71</span><span style=\"color: #000000; text-decoration-color: #000000; background-color: #ffffff\">   │    </span><span style=\"color: #008080; text-decoration-color: #008080; background-color: #ffffff; font-weight: bold\">0</span><span style=\"color: #000000; text-decoration-color: #000000; background-color: #ffffff\"> %     │</span>\n",
       "<span style=\"color: #000000; text-decoration-color: #000000; background-color: #ffffff\">└────────────┴────────────┴───────┴────────────┘</span>\n",
       "</pre>\n"
      ],
      "text/plain": [
       "\u001b[3;30;107mPrediction results                              \u001b[0m\n",
       "\u001b[30;107m┏━━━━━━━━━━━━┳━━━━━━━━━━━━┳━━━━━━━┳━━━━━━━━━━━━┓\u001b[0m\n",
       "\u001b[30;107m┃\u001b[0m\u001b[30;107m \u001b[0m\u001b[30;107mPrediction\u001b[0m\u001b[30;107m \u001b[0m\u001b[30;107m┃\u001b[0m\u001b[30;107m \u001b[0m\u001b[30;107mReal Price\u001b[0m\u001b[30;107m \u001b[0m\u001b[30;107m┃\u001b[0m\u001b[30;107m \u001b[0m\u001b[30;107mError\u001b[0m\u001b[30;107m \u001b[0m\u001b[30;107m┃\u001b[0m\u001b[30;107m \u001b[0m\u001b[30;107mPercentage\u001b[0m\u001b[30;107m \u001b[0m\u001b[30;107m┃\u001b[0m\n",
       "\u001b[30;107m┡━━━━━━━━━━━━╇━━━━━━━━━━━━╇━━━━━━━╇━━━━━━━━━━━━┩\u001b[0m\n",
       "\u001b[30;107m│\u001b[0m\u001b[30;107m \u001b[0m\u001b[30;107m   \u001b[0m\u001b[1;36;107m7766\u001b[0m\u001b[30;107m   \u001b[0m\u001b[30;107m \u001b[0m\u001b[30;107m│\u001b[0m\u001b[30;107m \u001b[0m\u001b[30;107m   \u001b[0m\u001b[1;36;107m7341\u001b[0m\u001b[30;107m   \u001b[0m\u001b[30;107m \u001b[0m\u001b[30;107m│\u001b[0m\u001b[30;107m \u001b[0m\u001b[30;107m \u001b[0m\u001b[1;36;107m425\u001b[0m\u001b[30;107m \u001b[0m\u001b[30;107m \u001b[0m\u001b[30;107m│\u001b[0m\u001b[30;107m \u001b[0m\u001b[30;107m   \u001b[0m\u001b[1;36;107m6\u001b[0m\u001b[30;107m %    \u001b[0m\u001b[30;107m \u001b[0m\u001b[30;107m│\u001b[0m\n",
       "\u001b[30;107m│\u001b[0m\u001b[30;107m \u001b[0m\u001b[30;107m  \u001b[0m\u001b[1;36;107m15606\u001b[0m\u001b[30;107m   \u001b[0m\u001b[30;107m \u001b[0m\u001b[30;107m│\u001b[0m\u001b[30;107m \u001b[0m\u001b[30;107m  \u001b[0m\u001b[1;36;107m16000\u001b[0m\u001b[30;107m   \u001b[0m\u001b[30;107m \u001b[0m\u001b[30;107m│\u001b[0m\u001b[30;107m \u001b[0m\u001b[30;107m \u001b[0m\u001b[1;36;107m394\u001b[0m\u001b[30;107m \u001b[0m\u001b[30;107m \u001b[0m\u001b[30;107m│\u001b[0m\u001b[30;107m \u001b[0m\u001b[30;107m   \u001b[0m\u001b[1;36;107m2\u001b[0m\u001b[30;107m %    \u001b[0m\u001b[30;107m \u001b[0m\u001b[30;107m│\u001b[0m\n",
       "\u001b[30;107m│\u001b[0m\u001b[30;107m \u001b[0m\u001b[30;107m  \u001b[0m\u001b[1;36;107m11309\u001b[0m\u001b[30;107m   \u001b[0m\u001b[30;107m \u001b[0m\u001b[30;107m│\u001b[0m\u001b[30;107m \u001b[0m\u001b[30;107m  \u001b[0m\u001b[1;36;107m10997\u001b[0m\u001b[30;107m   \u001b[0m\u001b[30;107m \u001b[0m\u001b[30;107m│\u001b[0m\u001b[30;107m \u001b[0m\u001b[30;107m \u001b[0m\u001b[1;36;107m312\u001b[0m\u001b[30;107m \u001b[0m\u001b[30;107m \u001b[0m\u001b[30;107m│\u001b[0m\u001b[30;107m \u001b[0m\u001b[30;107m   \u001b[0m\u001b[1;36;107m3\u001b[0m\u001b[30;107m %    \u001b[0m\u001b[30;107m \u001b[0m\u001b[30;107m│\u001b[0m\n",
       "\u001b[30;107m│\u001b[0m\u001b[30;107m \u001b[0m\u001b[30;107m  \u001b[0m\u001b[1;36;107m19608\u001b[0m\u001b[30;107m   \u001b[0m\u001b[30;107m \u001b[0m\u001b[30;107m│\u001b[0m\u001b[30;107m \u001b[0m\u001b[30;107m  \u001b[0m\u001b[1;36;107m19279\u001b[0m\u001b[30;107m   \u001b[0m\u001b[30;107m \u001b[0m\u001b[30;107m│\u001b[0m\u001b[30;107m \u001b[0m\u001b[30;107m \u001b[0m\u001b[1;36;107m329\u001b[0m\u001b[30;107m \u001b[0m\u001b[30;107m \u001b[0m\u001b[30;107m│\u001b[0m\u001b[30;107m \u001b[0m\u001b[30;107m   \u001b[0m\u001b[1;36;107m2\u001b[0m\u001b[30;107m %    \u001b[0m\u001b[30;107m \u001b[0m\u001b[30;107m│\u001b[0m\n",
       "\u001b[30;107m│\u001b[0m\u001b[30;107m \u001b[0m\u001b[30;107m  \u001b[0m\u001b[1;36;107m11108\u001b[0m\u001b[30;107m   \u001b[0m\u001b[30;107m \u001b[0m\u001b[30;107m│\u001b[0m\u001b[30;107m \u001b[0m\u001b[30;107m  \u001b[0m\u001b[1;36;107m10999\u001b[0m\u001b[30;107m   \u001b[0m\u001b[30;107m \u001b[0m\u001b[30;107m│\u001b[0m\u001b[30;107m \u001b[0m\u001b[30;107m \u001b[0m\u001b[1;36;107m109\u001b[0m\u001b[30;107m \u001b[0m\u001b[30;107m \u001b[0m\u001b[30;107m│\u001b[0m\u001b[30;107m \u001b[0m\u001b[30;107m   \u001b[0m\u001b[1;36;107m1\u001b[0m\u001b[30;107m %    \u001b[0m\u001b[30;107m \u001b[0m\u001b[30;107m│\u001b[0m\n",
       "\u001b[30;107m│\u001b[0m\u001b[30;107m \u001b[0m\u001b[30;107m  \u001b[0m\u001b[1;36;107m19534\u001b[0m\u001b[30;107m   \u001b[0m\u001b[30;107m \u001b[0m\u001b[30;107m│\u001b[0m\u001b[30;107m \u001b[0m\u001b[30;107m  \u001b[0m\u001b[1;36;107m17894\u001b[0m\u001b[30;107m   \u001b[0m\u001b[30;107m \u001b[0m\u001b[30;107m│\u001b[0m\u001b[30;107m \u001b[0m\u001b[1;36;107m1640\u001b[0m\u001b[30;107m \u001b[0m\u001b[30;107m \u001b[0m\u001b[30;107m│\u001b[0m\u001b[30;107m \u001b[0m\u001b[30;107m   \u001b[0m\u001b[1;36;107m9\u001b[0m\u001b[30;107m %    \u001b[0m\u001b[30;107m \u001b[0m\u001b[30;107m│\u001b[0m\n",
       "\u001b[30;107m│\u001b[0m\u001b[30;107m \u001b[0m\u001b[30;107m  \u001b[0m\u001b[1;36;107m14757\u001b[0m\u001b[30;107m   \u001b[0m\u001b[30;107m \u001b[0m\u001b[30;107m│\u001b[0m\u001b[30;107m \u001b[0m\u001b[30;107m  \u001b[0m\u001b[1;36;107m14488\u001b[0m\u001b[30;107m   \u001b[0m\u001b[30;107m \u001b[0m\u001b[30;107m│\u001b[0m\u001b[30;107m \u001b[0m\u001b[30;107m \u001b[0m\u001b[1;36;107m269\u001b[0m\u001b[30;107m \u001b[0m\u001b[30;107m \u001b[0m\u001b[30;107m│\u001b[0m\u001b[30;107m \u001b[0m\u001b[30;107m   \u001b[0m\u001b[1;36;107m2\u001b[0m\u001b[30;107m %    \u001b[0m\u001b[30;107m \u001b[0m\u001b[30;107m│\u001b[0m\n",
       "\u001b[30;107m│\u001b[0m\u001b[30;107m \u001b[0m\u001b[30;107m  \u001b[0m\u001b[1;36;107m42085\u001b[0m\u001b[30;107m   \u001b[0m\u001b[30;107m \u001b[0m\u001b[30;107m│\u001b[0m\u001b[30;107m \u001b[0m\u001b[30;107m  \u001b[0m\u001b[1;36;107m41630\u001b[0m\u001b[30;107m   \u001b[0m\u001b[30;107m \u001b[0m\u001b[30;107m│\u001b[0m\u001b[30;107m \u001b[0m\u001b[30;107m \u001b[0m\u001b[1;36;107m455\u001b[0m\u001b[30;107m \u001b[0m\u001b[30;107m \u001b[0m\u001b[30;107m│\u001b[0m\u001b[30;107m \u001b[0m\u001b[30;107m   \u001b[0m\u001b[1;36;107m1\u001b[0m\u001b[30;107m %    \u001b[0m\u001b[30;107m \u001b[0m\u001b[30;107m│\u001b[0m\n",
       "\u001b[30;107m│\u001b[0m\u001b[30;107m \u001b[0m\u001b[30;107m   \u001b[0m\u001b[1;36;107m6681\u001b[0m\u001b[30;107m   \u001b[0m\u001b[30;107m \u001b[0m\u001b[30;107m│\u001b[0m\u001b[30;107m \u001b[0m\u001b[30;107m   \u001b[0m\u001b[1;36;107m7499\u001b[0m\u001b[30;107m   \u001b[0m\u001b[30;107m \u001b[0m\u001b[30;107m│\u001b[0m\u001b[30;107m \u001b[0m\u001b[30;107m \u001b[0m\u001b[1;36;107m818\u001b[0m\u001b[30;107m \u001b[0m\u001b[30;107m \u001b[0m\u001b[30;107m│\u001b[0m\u001b[30;107m \u001b[0m\u001b[30;107m   \u001b[0m\u001b[1;36;107m11\u001b[0m\u001b[30;107m %   \u001b[0m\u001b[30;107m \u001b[0m\u001b[30;107m│\u001b[0m\n",
       "\u001b[30;107m│\u001b[0m\u001b[30;107m \u001b[0m\u001b[30;107m   \u001b[0m\u001b[1;36;107m7906\u001b[0m\u001b[30;107m   \u001b[0m\u001b[30;107m \u001b[0m\u001b[30;107m│\u001b[0m\u001b[30;107m \u001b[0m\u001b[30;107m   \u001b[0m\u001b[1;36;107m8995\u001b[0m\u001b[30;107m   \u001b[0m\u001b[30;107m \u001b[0m\u001b[30;107m│\u001b[0m\u001b[30;107m \u001b[0m\u001b[1;36;107m1089\u001b[0m\u001b[30;107m \u001b[0m\u001b[30;107m \u001b[0m\u001b[30;107m│\u001b[0m\u001b[30;107m \u001b[0m\u001b[30;107m   \u001b[0m\u001b[1;36;107m12\u001b[0m\u001b[30;107m %   \u001b[0m\u001b[30;107m \u001b[0m\u001b[30;107m│\u001b[0m\n",
       "\u001b[30;107m│\u001b[0m\u001b[30;107m \u001b[0m\u001b[30;107m   \u001b[0m\u001b[1;36;107m6218\u001b[0m\u001b[30;107m   \u001b[0m\u001b[30;107m \u001b[0m\u001b[30;107m│\u001b[0m\u001b[30;107m \u001b[0m\u001b[30;107m   \u001b[0m\u001b[1;36;107m5998\u001b[0m\u001b[30;107m   \u001b[0m\u001b[30;107m \u001b[0m\u001b[30;107m│\u001b[0m\u001b[30;107m \u001b[0m\u001b[30;107m \u001b[0m\u001b[1;36;107m220\u001b[0m\u001b[30;107m \u001b[0m\u001b[30;107m \u001b[0m\u001b[30;107m│\u001b[0m\u001b[30;107m \u001b[0m\u001b[30;107m   \u001b[0m\u001b[1;36;107m4\u001b[0m\u001b[30;107m %    \u001b[0m\u001b[30;107m \u001b[0m\u001b[30;107m│\u001b[0m\n",
       "\u001b[30;107m│\u001b[0m\u001b[30;107m \u001b[0m\u001b[30;107m  \u001b[0m\u001b[1;36;107m13150\u001b[0m\u001b[30;107m   \u001b[0m\u001b[30;107m \u001b[0m\u001b[30;107m│\u001b[0m\u001b[30;107m \u001b[0m\u001b[30;107m  \u001b[0m\u001b[1;36;107m13494\u001b[0m\u001b[30;107m   \u001b[0m\u001b[30;107m \u001b[0m\u001b[30;107m│\u001b[0m\u001b[30;107m \u001b[0m\u001b[30;107m \u001b[0m\u001b[1;36;107m344\u001b[0m\u001b[30;107m \u001b[0m\u001b[30;107m \u001b[0m\u001b[30;107m│\u001b[0m\u001b[30;107m \u001b[0m\u001b[30;107m   \u001b[0m\u001b[1;36;107m3\u001b[0m\u001b[30;107m %    \u001b[0m\u001b[30;107m \u001b[0m\u001b[30;107m│\u001b[0m\n",
       "\u001b[30;107m│\u001b[0m\u001b[30;107m \u001b[0m\u001b[30;107m  \u001b[0m\u001b[1;36;107m10682\u001b[0m\u001b[30;107m   \u001b[0m\u001b[30;107m \u001b[0m\u001b[30;107m│\u001b[0m\u001b[30;107m \u001b[0m\u001b[30;107m  \u001b[0m\u001b[1;36;107m12500\u001b[0m\u001b[30;107m   \u001b[0m\u001b[30;107m \u001b[0m\u001b[30;107m│\u001b[0m\u001b[30;107m \u001b[0m\u001b[1;36;107m1818\u001b[0m\u001b[30;107m \u001b[0m\u001b[30;107m \u001b[0m\u001b[30;107m│\u001b[0m\u001b[30;107m \u001b[0m\u001b[30;107m   \u001b[0m\u001b[1;36;107m15\u001b[0m\u001b[30;107m %   \u001b[0m\u001b[30;107m \u001b[0m\u001b[30;107m│\u001b[0m\n",
       "\u001b[30;107m│\u001b[0m\u001b[30;107m \u001b[0m\u001b[30;107m  \u001b[0m\u001b[1;36;107m14905\u001b[0m\u001b[30;107m   \u001b[0m\u001b[30;107m \u001b[0m\u001b[30;107m│\u001b[0m\u001b[30;107m \u001b[0m\u001b[30;107m  \u001b[0m\u001b[1;36;107m13599\u001b[0m\u001b[30;107m   \u001b[0m\u001b[30;107m \u001b[0m\u001b[30;107m│\u001b[0m\u001b[30;107m \u001b[0m\u001b[1;36;107m1306\u001b[0m\u001b[30;107m \u001b[0m\u001b[30;107m \u001b[0m\u001b[30;107m│\u001b[0m\u001b[30;107m \u001b[0m\u001b[30;107m   \u001b[0m\u001b[1;36;107m10\u001b[0m\u001b[30;107m %   \u001b[0m\u001b[30;107m \u001b[0m\u001b[30;107m│\u001b[0m\n",
       "\u001b[30;107m│\u001b[0m\u001b[30;107m \u001b[0m\u001b[30;107m   \u001b[0m\u001b[1;36;107m8628\u001b[0m\u001b[30;107m   \u001b[0m\u001b[30;107m \u001b[0m\u001b[30;107m│\u001b[0m\u001b[30;107m \u001b[0m\u001b[30;107m   \u001b[0m\u001b[1;36;107m8740\u001b[0m\u001b[30;107m   \u001b[0m\u001b[30;107m \u001b[0m\u001b[30;107m│\u001b[0m\u001b[30;107m \u001b[0m\u001b[30;107m \u001b[0m\u001b[1;36;107m112\u001b[0m\u001b[30;107m \u001b[0m\u001b[30;107m \u001b[0m\u001b[30;107m│\u001b[0m\u001b[30;107m \u001b[0m\u001b[30;107m   \u001b[0m\u001b[1;36;107m1\u001b[0m\u001b[30;107m %    \u001b[0m\u001b[30;107m \u001b[0m\u001b[30;107m│\u001b[0m\n",
       "\u001b[30;107m│\u001b[0m\u001b[30;107m \u001b[0m\u001b[30;107m  \u001b[0m\u001b[1;36;107m38590\u001b[0m\u001b[30;107m   \u001b[0m\u001b[30;107m \u001b[0m\u001b[30;107m│\u001b[0m\u001b[30;107m \u001b[0m\u001b[30;107m  \u001b[0m\u001b[1;36;107m34950\u001b[0m\u001b[30;107m   \u001b[0m\u001b[30;107m \u001b[0m\u001b[30;107m│\u001b[0m\u001b[30;107m \u001b[0m\u001b[1;36;107m3640\u001b[0m\u001b[30;107m \u001b[0m\u001b[30;107m \u001b[0m\u001b[30;107m│\u001b[0m\u001b[30;107m \u001b[0m\u001b[30;107m   \u001b[0m\u001b[1;36;107m10\u001b[0m\u001b[30;107m %   \u001b[0m\u001b[30;107m \u001b[0m\u001b[30;107m│\u001b[0m\n",
       "\u001b[30;107m│\u001b[0m\u001b[30;107m \u001b[0m\u001b[30;107m  \u001b[0m\u001b[1;36;107m11916\u001b[0m\u001b[30;107m   \u001b[0m\u001b[30;107m \u001b[0m\u001b[30;107m│\u001b[0m\u001b[30;107m \u001b[0m\u001b[30;107m  \u001b[0m\u001b[1;36;107m12700\u001b[0m\u001b[30;107m   \u001b[0m\u001b[30;107m \u001b[0m\u001b[30;107m│\u001b[0m\u001b[30;107m \u001b[0m\u001b[30;107m \u001b[0m\u001b[1;36;107m784\u001b[0m\u001b[30;107m \u001b[0m\u001b[30;107m \u001b[0m\u001b[30;107m│\u001b[0m\u001b[30;107m \u001b[0m\u001b[30;107m   \u001b[0m\u001b[1;36;107m6\u001b[0m\u001b[30;107m %    \u001b[0m\u001b[30;107m \u001b[0m\u001b[30;107m│\u001b[0m\n",
       "\u001b[30;107m│\u001b[0m\u001b[30;107m \u001b[0m\u001b[30;107m  \u001b[0m\u001b[1;36;107m12977\u001b[0m\u001b[30;107m   \u001b[0m\u001b[30;107m \u001b[0m\u001b[30;107m│\u001b[0m\u001b[30;107m \u001b[0m\u001b[30;107m  \u001b[0m\u001b[1;36;107m13494\u001b[0m\u001b[30;107m   \u001b[0m\u001b[30;107m \u001b[0m\u001b[30;107m│\u001b[0m\u001b[30;107m \u001b[0m\u001b[30;107m \u001b[0m\u001b[1;36;107m517\u001b[0m\u001b[30;107m \u001b[0m\u001b[30;107m \u001b[0m\u001b[30;107m│\u001b[0m\u001b[30;107m \u001b[0m\u001b[30;107m   \u001b[0m\u001b[1;36;107m4\u001b[0m\u001b[30;107m %    \u001b[0m\u001b[30;107m \u001b[0m\u001b[30;107m│\u001b[0m\n",
       "\u001b[30;107m│\u001b[0m\u001b[30;107m \u001b[0m\u001b[30;107m  \u001b[0m\u001b[1;36;107m10350\u001b[0m\u001b[30;107m   \u001b[0m\u001b[30;107m \u001b[0m\u001b[30;107m│\u001b[0m\u001b[30;107m \u001b[0m\u001b[30;107m  \u001b[0m\u001b[1;36;107m14591\u001b[0m\u001b[30;107m   \u001b[0m\u001b[30;107m \u001b[0m\u001b[30;107m│\u001b[0m\u001b[30;107m \u001b[0m\u001b[1;36;107m4241\u001b[0m\u001b[30;107m \u001b[0m\u001b[30;107m \u001b[0m\u001b[30;107m│\u001b[0m\u001b[30;107m \u001b[0m\u001b[30;107m   \u001b[0m\u001b[1;36;107m29\u001b[0m\u001b[30;107m %   \u001b[0m\u001b[30;107m \u001b[0m\u001b[30;107m│\u001b[0m\n",
       "\u001b[30;107m│\u001b[0m\u001b[30;107m \u001b[0m\u001b[30;107m  \u001b[0m\u001b[1;36;107m20696\u001b[0m\u001b[30;107m   \u001b[0m\u001b[30;107m \u001b[0m\u001b[30;107m│\u001b[0m\u001b[30;107m \u001b[0m\u001b[30;107m  \u001b[0m\u001b[1;36;107m20500\u001b[0m\u001b[30;107m   \u001b[0m\u001b[30;107m \u001b[0m\u001b[30;107m│\u001b[0m\u001b[30;107m \u001b[0m\u001b[30;107m \u001b[0m\u001b[1;36;107m196\u001b[0m\u001b[30;107m \u001b[0m\u001b[30;107m \u001b[0m\u001b[30;107m│\u001b[0m\u001b[30;107m \u001b[0m\u001b[30;107m   \u001b[0m\u001b[1;36;107m1\u001b[0m\u001b[30;107m %    \u001b[0m\u001b[30;107m \u001b[0m\u001b[30;107m│\u001b[0m\n",
       "\u001b[30;107m│\u001b[0m\u001b[30;107m \u001b[0m\u001b[30;107m  \u001b[0m\u001b[1;36;107m16640\u001b[0m\u001b[30;107m   \u001b[0m\u001b[30;107m \u001b[0m\u001b[30;107m│\u001b[0m\u001b[30;107m \u001b[0m\u001b[30;107m  \u001b[0m\u001b[1;36;107m16497\u001b[0m\u001b[30;107m   \u001b[0m\u001b[30;107m \u001b[0m\u001b[30;107m│\u001b[0m\u001b[30;107m \u001b[0m\u001b[30;107m \u001b[0m\u001b[1;36;107m143\u001b[0m\u001b[30;107m \u001b[0m\u001b[30;107m \u001b[0m\u001b[30;107m│\u001b[0m\u001b[30;107m \u001b[0m\u001b[30;107m   \u001b[0m\u001b[1;36;107m1\u001b[0m\u001b[30;107m %    \u001b[0m\u001b[30;107m \u001b[0m\u001b[30;107m│\u001b[0m\n",
       "\u001b[30;107m│\u001b[0m\u001b[30;107m \u001b[0m\u001b[30;107m  \u001b[0m\u001b[1;36;107m41711\u001b[0m\u001b[30;107m   \u001b[0m\u001b[30;107m \u001b[0m\u001b[30;107m│\u001b[0m\u001b[30;107m \u001b[0m\u001b[30;107m  \u001b[0m\u001b[1;36;107m45490\u001b[0m\u001b[30;107m   \u001b[0m\u001b[30;107m \u001b[0m\u001b[30;107m│\u001b[0m\u001b[30;107m \u001b[0m\u001b[1;36;107m3779\u001b[0m\u001b[30;107m \u001b[0m\u001b[30;107m \u001b[0m\u001b[30;107m│\u001b[0m\u001b[30;107m \u001b[0m\u001b[30;107m   \u001b[0m\u001b[1;36;107m8\u001b[0m\u001b[30;107m %    \u001b[0m\u001b[30;107m \u001b[0m\u001b[30;107m│\u001b[0m\n",
       "\u001b[30;107m│\u001b[0m\u001b[30;107m \u001b[0m\u001b[30;107m   \u001b[0m\u001b[1;36;107m8135\u001b[0m\u001b[30;107m   \u001b[0m\u001b[30;107m \u001b[0m\u001b[30;107m│\u001b[0m\u001b[30;107m \u001b[0m\u001b[30;107m   \u001b[0m\u001b[1;36;107m6994\u001b[0m\u001b[30;107m   \u001b[0m\u001b[30;107m \u001b[0m\u001b[30;107m│\u001b[0m\u001b[30;107m \u001b[0m\u001b[1;36;107m1141\u001b[0m\u001b[30;107m \u001b[0m\u001b[30;107m \u001b[0m\u001b[30;107m│\u001b[0m\u001b[30;107m \u001b[0m\u001b[30;107m   \u001b[0m\u001b[1;36;107m16\u001b[0m\u001b[30;107m %   \u001b[0m\u001b[30;107m \u001b[0m\u001b[30;107m│\u001b[0m\n",
       "\u001b[30;107m│\u001b[0m\u001b[30;107m \u001b[0m\u001b[30;107m  \u001b[0m\u001b[1;36;107m16675\u001b[0m\u001b[30;107m   \u001b[0m\u001b[30;107m \u001b[0m\u001b[30;107m│\u001b[0m\u001b[30;107m \u001b[0m\u001b[30;107m  \u001b[0m\u001b[1;36;107m16297\u001b[0m\u001b[30;107m   \u001b[0m\u001b[30;107m \u001b[0m\u001b[30;107m│\u001b[0m\u001b[30;107m \u001b[0m\u001b[30;107m \u001b[0m\u001b[1;36;107m378\u001b[0m\u001b[30;107m \u001b[0m\u001b[30;107m \u001b[0m\u001b[30;107m│\u001b[0m\u001b[30;107m \u001b[0m\u001b[30;107m   \u001b[0m\u001b[1;36;107m2\u001b[0m\u001b[30;107m %    \u001b[0m\u001b[30;107m \u001b[0m\u001b[30;107m│\u001b[0m\n",
       "\u001b[30;107m│\u001b[0m\u001b[30;107m \u001b[0m\u001b[30;107m  \u001b[0m\u001b[1;36;107m22166\u001b[0m\u001b[30;107m   \u001b[0m\u001b[30;107m \u001b[0m\u001b[30;107m│\u001b[0m\u001b[30;107m \u001b[0m\u001b[30;107m  \u001b[0m\u001b[1;36;107m22095\u001b[0m\u001b[30;107m   \u001b[0m\u001b[30;107m \u001b[0m\u001b[30;107m│\u001b[0m\u001b[30;107m \u001b[0m\u001b[30;107m \u001b[0m\u001b[1;36;107m71\u001b[0m\u001b[30;107m  \u001b[0m\u001b[30;107m \u001b[0m\u001b[30;107m│\u001b[0m\u001b[30;107m \u001b[0m\u001b[30;107m   \u001b[0m\u001b[1;36;107m0\u001b[0m\u001b[30;107m %    \u001b[0m\u001b[30;107m \u001b[0m\u001b[30;107m│\u001b[0m\n",
       "\u001b[30;107m└────────────┴────────────┴───────┴────────────┘\u001b[0m\n"
      ]
     },
     "metadata": {},
     "output_type": "display_data"
    }
   ],
   "source": [
    "evaluate_prediction(model, X_test, y_test,sample=25)"
   ]
  },
  {
   "cell_type": "code",
   "execution_count": 13,
   "id": "8640ade4",
   "metadata": {},
   "outputs": [],
   "source": [
    "#tree.plot_tree(model[2].base_estimator_, \n",
    "                   #feature_names=data.feature_names,  \n",
    "                   #class_names=data.target_names,\n",
    "#                   filled=True)"
   ]
  },
  {
   "cell_type": "markdown",
   "id": "b451b156",
   "metadata": {},
   "source": [
    "## Context d'application\n",
    "\n",
    "Décrire le contexte d'évaluation du model. cdts dans lesquelles la précision est valable."
   ]
  },
  {
   "cell_type": "markdown",
   "id": "04d65b03",
   "metadata": {},
   "source": [
    "### Limites\n",
    "\n",
    "Décrire les limites dans lesquelles le modèle est utilisable."
   ]
  },
  {
   "cell_type": "markdown",
   "id": "960617ef",
   "metadata": {},
   "source": [
    "## Analyse et choix"
   ]
  },
  {
   "cell_type": "markdown",
   "id": "4b22e5ee",
   "metadata": {},
   "source": [
    "## Méthode"
   ]
  }
 ],
 "metadata": {
  "celltoolbar": "Slideshow",
  "kernelspec": {
   "display_name": "Python 3",
   "language": "python",
   "name": "python3"
  },
  "language_info": {
   "codemirror_mode": {
    "name": "ipython",
    "version": 3
   },
   "file_extension": ".py",
   "mimetype": "text/x-python",
   "name": "python",
   "nbconvert_exporter": "python",
   "pygments_lexer": "ipython3",
   "version": "3.8.11"
  },
  "toc": {
   "base_numbering": 1,
   "nav_menu": {},
   "number_sections": true,
   "sideBar": true,
   "skip_h1_title": false,
   "title_cell": "Table of Contents",
   "title_sidebar": "Contents",
   "toc_cell": false,
   "toc_position": {},
   "toc_section_display": true,
   "toc_window_display": false
  }
 },
 "nbformat": 4,
 "nbformat_minor": 5
}
